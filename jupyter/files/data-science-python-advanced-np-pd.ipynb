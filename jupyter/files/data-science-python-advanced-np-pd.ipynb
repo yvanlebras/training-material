{
  "metadata": {
  },
  "nbformat": 4,
  "nbformat_minor": 5,
  "cells": [
    {
      "id": "metadata",
      "cell_type": "markdown",
      "source": "<div style=\"border: 2px solid #8A9AD0; margin: 1em 0.2em; padding: 0.5em;\">\n\n# Advanced Python\n\nby [Maria Christina Maniou](https://training.galaxyproject.org/hall-of-fame/mcmaniou/), [Fotis E. Psomopoulos](https://training.galaxyproject.org/hall-of-fame/fpsom/), [The Carpentries](https://training.galaxyproject.org/hall-of-fame/carpentries/), [Erasmus+ Programme](https://training.galaxyproject.org/hall-of-fame/erasmusplus/)\n\nCC-BY licensed content from the [Galaxy Training Network](https://training.galaxyproject.org/)\n\n**Objectives**\n\n- How can I analyze data using Python with Numpy and Pandas?\n\n**Objectives**\n\n- Use the scientific libraries pandas and numpy to explore tabular datasets\n- Calculate basic statistics about datasets and columns\n\n**Time Estimation: 3H**\n</div>\n",
      "metadata": {
        "editable": false,
        "collapsed": false
      }
    },
    {
      "id": "cell-0",
      "source": "<p>In this lesson, we will be using Python 3 with some of its most popular scientific libraries. This tutorial assumes that the reader is familiar with the fundamentals of the Python programming language, as well as, how to run Python programs using Galaxy. Otherwise, it is advised to follow the “Introduction to Python” tutorial available in the same platform. We will be using JupyterNotebook, a Python interpreter that comes with everything we need for the lesson. Please note:  JupyterNotebook is only currently available on the <a href=\"https://usegalaxy.eu/\">usegalaxy.eu</a> and <a href=\"https://usegalaxy.org/\">usegalaxy.org</a> sites.</p>\n<blockquote class=\"comment\" style=\"border: 2px solid #ffecc1; margin: 1em 0.2em\">\n<div class=\"box-title comment-title\" id=\"comment\"><i class=\"far fa-comment-dots\" aria-hidden=\"true\" ></i> Comment</div>\n<p>This tutorial is <strong>significantly</strong> based on <a href=\"https://carpentries.org\">the Carpentries</a> <a href=\"https://swcarpentry.github.io/python-novice-inflammation/\">Programming with Python</a> and <a href=\"https://swcarpentry.github.io/python-novice-gapminder/\">Plotting and Programming in Python</a>, which is licensed CC-BY 4.0.</p>\n<p>Adaptations have been made to make this work better in a GTN/Galaxy environment.</p>\n</blockquote>\n<blockquote class=\"agenda\" style=\"border: 2px solid #86D486;display: none; margin: 1em 0.2em\">\n<div class=\"box-title agenda-title\" id=\"agenda\">Agenda</div>\n<p>In this tutorial, we will cover:</p>\n<ol id=\"markdown-toc\">\n<li><a href=\"#analyze-data-using-numpy\" id=\"markdown-toc-analyze-data-using-numpy\">Analyze data using numpy</a></li>\n</ol>\n</blockquote>\n<h1 id=\"analyze-data-using-numpy\">Analyze data using numpy</h1>\n<p>NumPy is a python library and it stands for Numerical Python. In general, you should use this library when you want to perform operations and manipulate numerical data, especially if you have matrices or arrays. To tell Python that we’d like to start using NumPy, we need to import it:</p>\n",
      "cell_type": "markdown",
      "metadata": {
        "editable": false,
        "collapsed": false
      }
    },
    {
      "id": "cell-1",
      "source": [
        "import numpy as np"
      ],
      "cell_type": "code",
      "execution_count": null,
      "outputs": [

      ],
      "metadata": {
        "attributes": {
          "classes": [
            "> <comment-title></comment-title>"
          ],
          "id": ""
        }
      }
    },
    {
      "id": "cell-2",
      "source": "<p>A Numpy array contains one or more elements of the same type. To examine the basic functions of the library, we will create an array of random data. These data will correspond to arthritis patients’ inflammation. The rows are the individual patients, and the columns are their daily inflammation measurements. We will use the <code style=\"color: inherit\">random.randint()</code> function. It has 4 arguments as inputs <code style=\"color: inherit\">randint(low, high=None, size=None, dtype=int)</code>. <code style=\"color: inherit\">low</code> nad <code style=\"color: inherit\">high</code> specify the limits of the random number generator. <code style=\"color: inherit\">size</code> determines the shape of the array and it can be an integer or a tuple.</p>\n",
      "cell_type": "markdown",
      "metadata": {
        "editable": false,
        "collapsed": false
      }
    },
    {
      "id": "cell-3",
      "source": [
        "np.random.seed(2021)  #create reproducible work\n",
        "random_data = np.random.randint(1, 25, size=(50,70))"
      ],
      "cell_type": "code",
      "execution_count": null,
      "outputs": [

      ],
      "metadata": {
        "attributes": {
          "classes": [
            "> <comment-title></comment-title>"
          ],
          "id": ""
        }
      }
    },
    {
      "id": "cell-4",
      "source": "<p>If we want to check the data have been loaded, we can print the variable’s value:</p>\n",
      "cell_type": "markdown",
      "metadata": {
        "editable": false,
        "collapsed": false
      }
    },
    {
      "id": "cell-5",
      "source": [
        "print(random_data)"
      ],
      "cell_type": "code",
      "execution_count": null,
      "outputs": [

      ],
      "metadata": {
        "attributes": {
          "classes": [
            "> <comment-title></comment-title>"
          ],
          "id": ""
        }
      }
    },
    {
      "id": "cell-6",
      "source": "<p>Now that the data are in memory, we can manipulate them. First, let’s ask what type of thing data refers to:</p>\n",
      "cell_type": "markdown",
      "metadata": {
        "editable": false,
        "collapsed": false
      }
    },
    {
      "id": "cell-7",
      "source": [
        "print(type(random_data))"
      ],
      "cell_type": "code",
      "execution_count": null,
      "outputs": [

      ],
      "metadata": {
        "attributes": {
          "classes": [
            "> <comment-title></comment-title>"
          ],
          "id": ""
        }
      }
    },
    {
      "id": "cell-8",
      "source": "<p>The output tells us that data currently refers to an N-dimensional array, the functionality for which is provided by the NumPy library. These data correspond to arthritis patients’ inflammation. The rows are the individual patients, and the columns are their daily inflammation measurements.</p>\n<p>The <code style=\"color: inherit\">type</code> function will only tell you that a variable is a NumPy array but won’t tell you the type of thing inside the array. We can find out the type of the data contained in the NumPy array.</p>\n",
      "cell_type": "markdown",
      "metadata": {
        "editable": false,
        "collapsed": false
      }
    },
    {
      "id": "cell-9",
      "source": [
        "print(random_data.dtype)"
      ],
      "cell_type": "code",
      "execution_count": null,
      "outputs": [

      ],
      "metadata": {
        "attributes": {
          "classes": [
            "> <comment-title></comment-title>"
          ],
          "id": ""
        }
      }
    },
    {
      "id": "cell-10",
      "source": "<p>This tells us that the NumPy array’s elements are integer numbers.</p>\n<p>With the following command, we can see the array’s shape:</p>\n",
      "cell_type": "markdown",
      "metadata": {
        "editable": false,
        "collapsed": false
      }
    },
    {
      "id": "cell-11",
      "source": [
        "print(random_data.shape)"
      ],
      "cell_type": "code",
      "execution_count": null,
      "outputs": [

      ],
      "metadata": {
        "attributes": {
          "classes": [
            "> <comment-title></comment-title>"
          ],
          "id": ""
        }
      }
    },
    {
      "id": "cell-12",
      "source": "<p>The output tells us that the data array variable contains 50 rows and 70 columns. When we created the variable <code style=\"color: inherit\">random_data</code> to store our arthritis data, we did not only create the array; we also created information about the array, called members or attributes. This extra information describes <code style=\"color: inherit\">random_data</code> in the same way an adjective describes a noun. <code style=\"color: inherit\">random_data.shape</code> is an attribute of <code style=\"color: inherit\">random_data</code> which describes the dimensions of <code style=\"color: inherit\">random_data</code>.</p>\n<p>If we want to get a single number from the array, we must provide an index in square brackets after the variable name, just as we do in math when referring to an element of a matrix. Our data has two dimensions, so we will need to use two indices to refer to one specific value:</p>\n",
      "cell_type": "markdown",
      "metadata": {
        "editable": false,
        "collapsed": false
      }
    },
    {
      "id": "cell-13",
      "source": [
        "print('first value in data:', random_data[0, 0])"
      ],
      "cell_type": "code",
      "execution_count": null,
      "outputs": [

      ],
      "metadata": {
        "attributes": {
          "classes": [
            "> <comment-title></comment-title>"
          ],
          "id": ""
        }
      }
    },
    {
      "id": "cell-14",
      "source": "\n",
      "cell_type": "markdown",
      "metadata": {
        "editable": false,
        "collapsed": false
      }
    },
    {
      "id": "cell-15",
      "source": [
        "print('middle value in data:', random_data[25, 35])"
      ],
      "cell_type": "code",
      "execution_count": null,
      "outputs": [

      ],
      "metadata": {
        "attributes": {
          "classes": [
            "> <comment-title></comment-title>"
          ],
          "id": ""
        }
      }
    },
    {
      "id": "cell-16",
      "source": "<p>The expression random_data[25, 35] accesses the element at row 25, column 35. While this expression may not surprise you, random_data[0, 0] might. Programming languages like Fortran, MATLAB and R start counting at 1 because that’s what human beings have done for thousands of years. Languages in the C family (including C++, Java, Perl, and Python) count from 0 because it represents an offset from the first value in the array (the second value is offset by one index from the first value). As a result, if we have an M×N array in Python, its indices go from 0 to M-1 on the first axis and 0 to N-1 on the second.</p>\n<p>Slicing data\nAn index like [25, 35] selects a single element of an array, but we can select whole sections as well, using slicing the same way as previously with the strings. For example, we can select the first ten days (columns) of values for the first four patients (rows) like this:</p>\n",
      "cell_type": "markdown",
      "metadata": {
        "editable": false,
        "collapsed": false
      }
    },
    {
      "id": "cell-17",
      "source": [
        "print(random_data[0:4, 0:10])"
      ],
      "cell_type": "code",
      "execution_count": null,
      "outputs": [

      ],
      "metadata": {
        "attributes": {
          "classes": [
            "> <comment-title></comment-title>"
          ],
          "id": ""
        }
      }
    },
    {
      "id": "cell-18",
      "source": "<p>We don’t have to include the upper and lower bound on the slice. If we don’t include the lower bound, Python uses 0 by default; if we don’t include the upper, the slice runs to the end of the axis, and if we don’t include either (i.e., if we use ‘:’ on its own), the slice includes everything:</p>\n",
      "cell_type": "markdown",
      "metadata": {
        "editable": false,
        "collapsed": false
      }
    },
    {
      "id": "cell-19",
      "source": [
        "small = random_data[:3, 36:]\n",
        "print('small is:')\n",
        "print(small)"
      ],
      "cell_type": "code",
      "execution_count": null,
      "outputs": [

      ],
      "metadata": {
        "attributes": {
          "classes": [
            "> <comment-title></comment-title>"
          ],
          "id": ""
        }
      }
    },
    {
      "id": "cell-20",
      "source": "<p>The above example selects rows 0 through 2 and columns 36 through to the end of the array.</p>\n<h2 id=\"process-the-data\">Process the data</h2>\n<p>NumPy has several useful functions that take an array as input to perform operations on its values. If we want to find the average inflammation for all patients on all days, for example, we can ask NumPy to compute random_data’s mean value:</p>\n",
      "cell_type": "markdown",
      "metadata": {
        "editable": false,
        "collapsed": false
      }
    },
    {
      "id": "cell-21",
      "source": [
        "print(np.mean(random_data))"
      ],
      "cell_type": "code",
      "execution_count": null,
      "outputs": [

      ],
      "metadata": {
        "attributes": {
          "classes": [
            "> <comment-title></comment-title>"
          ],
          "id": ""
        }
      }
    },
    {
      "id": "cell-22",
      "source": "<p>Let’s use three other NumPy functions to get some descriptive values about the dataset. We’ll also use multiple assignment, a convenient Python feature that will enable us to do this all in one line.</p>\n",
      "cell_type": "markdown",
      "metadata": {
        "editable": false,
        "collapsed": false
      }
    },
    {
      "id": "cell-23",
      "source": [
        "maxval, minval, stdval = np.max(random_data), np.min(random_data), np.std(random_data)\n",
        "\n",
        "print('maximum inflammation:', maxval)\n",
        "print('minimum inflammation:', minval)\n",
        "print('standard deviation:', stdval)"
      ],
      "cell_type": "code",
      "execution_count": null,
      "outputs": [

      ],
      "metadata": {
        "attributes": {
          "classes": [
            "> <comment-title></comment-title>"
          ],
          "id": ""
        }
      }
    },
    {
      "id": "cell-24",
      "source": "<p>How did we know what functions NumPy has and how to use them? If you are working in IPython or in a Jupyter Notebook, there is an easy way to find out. If you type the name of something followed by a dot, then you can use tab completion (e.g. type <code style=\"color: inherit\">np.</code> and then press Tab) to see a list of all functions and attributes that you can use. After selecting one, you can also add a question mark (e.g. <code style=\"color: inherit\">np.cumprod?</code>), and IPython will return an explanation of the method! This is the same as doing <code style=\"color: inherit\">help(np.cumprod)</code>.</p>\n<p>When analyzing data, though, we often want to look at variations in statistical values, such as the maximum inflammation per patient or the average inflammation per day. One way to do this is to create a new temporary array of the data we want, then ask it to do the calculation:</p>\n",
      "cell_type": "markdown",
      "metadata": {
        "editable": false,
        "collapsed": false
      }
    },
    {
      "id": "cell-25",
      "source": [
        "patient_0 = random_data[0, :] # 0 on the first axis (rows), everything on the second (columns)\n",
        "print('maximum inflammation for patient 0:', np.max(patient_0))"
      ],
      "cell_type": "code",
      "execution_count": null,
      "outputs": [

      ],
      "metadata": {
        "attributes": {
          "classes": [
            "> <comment-title></comment-title>"
          ],
          "id": ""
        }
      }
    },
    {
      "id": "cell-26",
      "source": "<p>What if we need the maximum inflammation for each patient over all days (as in the next diagram on the left) or the average for each day (as in the diagram on the right)? As the diagram below shows, we want to perform the operation across an axis:</p>\n<p><a href=\"../../images/python-advanced-np-pd/Figure8_Operations_across_axis.png\" rel=\"noopener noreferrer\"><img src=\"data:image/png;base64,iVBORw0KGgoAAAANSUhEUgAAAu8AAAHdCAYAAACt2ZdqAAAACXBIWXMAAA7C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\nRKxExLpp9gAAAABJRU5ErkJggg==\n\"\" alt=\"A cartoon shows a data structure on the left with Patient 0 to N as rows in a table, and then Day 0 to N as columns of the same table. Below is written &quot;numpy.max(data, axis=1)&quot; which does an aggregation and finds the max per patient (so maximum daily value for each patient.) On the right a similar table is shown but written below is numpy.max(data, axis=0) and now the maximum is calculated per day, which patient had the maximum value.\" width=\"751\" height=\"477\" loading=\"lazy\" /></a></p>\n<p>To support this functionality, most array functions allow us to specify the axis we want to work on. If we ask for the average across axis 0 (rows in our 2D example), we get:</p>\n",
      "cell_type": "markdown",
      "metadata": {
        "editable": false,
        "collapsed": false
      }
    },
    {
      "id": "cell-27",
      "source": [
        "print(np.mean(random_data, axis=0))"
      ],
      "cell_type": "code",
      "execution_count": null,
      "outputs": [

      ],
      "metadata": {
        "attributes": {
          "classes": [
            "> <comment-title></comment-title>"
          ],
          "id": ""
        }
      }
    },
    {
      "id": "cell-28",
      "source": "<p>As a quick check, we can ask this array what its shape is:</p>\n",
      "cell_type": "markdown",
      "metadata": {
        "editable": false,
        "collapsed": false
      }
    },
    {
      "id": "cell-29",
      "source": [
        "print(np.mean(random_data, axis=0).shape)"
      ],
      "cell_type": "code",
      "execution_count": null,
      "outputs": [

      ],
      "metadata": {
        "attributes": {
          "classes": [
            "> <comment-title></comment-title>"
          ],
          "id": ""
        }
      }
    },
    {
      "id": "cell-30",
      "source": "<p>The expression (70,) tells us we have an N×1 vector, so this is the average inflammation per day for all patients. If we average across axis 1 (columns in our 2D example), we get the average inflammation per patient across all days.:</p>\n",
      "cell_type": "markdown",
      "metadata": {
        "editable": false,
        "collapsed": false
      }
    },
    {
      "id": "cell-31",
      "source": [
        "print(np.mean(random_data, axis=1))"
      ],
      "cell_type": "code",
      "execution_count": null,
      "outputs": [

      ],
      "metadata": {
        "attributes": {
          "classes": [
            "> <comment-title></comment-title>"
          ],
          "id": ""
        }
      }
    },
    {
      "id": "cell-32",
      "source": "<h3 id=\"stacking-arrays\">Stacking arrays</h3>\n<p>Arrays can be concatenated and stacked on top of one another, using NumPy’s <code style=\"color: inherit\">vstack</code> and <code style=\"color: inherit\">hstack</code> functions for vertical and horizontal stacking, respectively.</p>\n",
      "cell_type": "markdown",
      "metadata": {
        "editable": false,
        "collapsed": false
      }
    },
    {
      "id": "cell-33",
      "source": [
        "import numpy as np\n",
        "\n",
        "A = np.array([[1,2,3], [4,5,6], [7, 8, 9]])\n",
        "print('A = ')\n",
        "print(A)\n",
        "\n",
        "B = np.hstack([A, A])\n",
        "print('B = ')\n",
        "print(B)\n",
        "\n",
        "C = np.vstack([A, A])\n",
        "print('C = ')\n",
        "print(C)"
      ],
      "cell_type": "code",
      "execution_count": null,
      "outputs": [

      ],
      "metadata": {
        "attributes": {
          "classes": [
            "> <comment-title></comment-title>"
          ],
          "id": ""
        }
      }
    },
    {
      "id": "cell-34",
      "source": "<h3 id=\"remove-nan-values\">Remove NaN values</h3>\n<p>Sometimes there are missing values in an array, that could make it difficult to perform operations on it. To remove the <code style=\"color: inherit\">NaN</code> you must first find their indexes and then replace them. The following example replaces them with <code style=\"color: inherit\">0</code>.</p>\n",
      "cell_type": "markdown",
      "metadata": {
        "editable": false,
        "collapsed": false
      }
    },
    {
      "id": "cell-35",
      "source": [
        "a = array([[1, 2, 3], [0, 3, NaN]])\n",
        "print(a)\n",
        "a[np.isnan(a)] = 0\n",
        "print(a)"
      ],
      "cell_type": "code",
      "execution_count": null,
      "outputs": [

      ],
      "metadata": {
        "attributes": {
          "classes": [
            "> <comment-title></comment-title>"
          ],
          "id": ""
        }
      }
    },
    {
      "id": "cell-36",
      "source": "<blockquote class=\"question\" style=\"border: 2px solid #8A9AD0; margin: 1em 0.2em\">\n<div class=\"box-title question-title\" id=\"question-selecting-and-stacking-arrays\"><i class=\"far fa-question-circle\" aria-hidden=\"true\" ></i> Question: Selecting and stacking arrays</div>\n<p>Write some additional code that slices the first and last columns of A, and stacks them into a 3x2 array. Make sure to print the results to verify your solution.</p>\n<br/><details style=\"border: 2px solid #B8C3EA; margin: 1em 0.2em;padding: 0.5em; cursor: pointer;\"><summary>👁 View solution</summary>\n<div class=\"box-title solution-title\" id=\"solution\"><button class=\"gtn-boxify-button solution\" type=\"button\" aria-controls=\"solution\" aria-expanded=\"true\"><i class=\"far fa-eye\" aria-hidden=\"true\" ></i> Solution<span class=\"fold-unfold fa fa-minus-square\"></span></button></div>\n<p>A ‘gotcha’ with array indexing is that singleton dimensions are dropped by default. That means <code style=\"color: inherit\">A[:, 0]</code> is a one dimensional array, which won’t stack as desired. To preserve singleton dimensions, the index itself can be a slice or array. For example, <code style=\"color: inherit\">A[:, :1]</code> returns a two dimensional array with one singleton dimension (i.e. a column vector).</p>\n<div class=\"language-plaintext highlighter-rouge\"><div><pre style=\"color: inherit; background: transparent\"><code style=\"color: inherit\">D = np.hstack((A[:, :1], A[:, -1:]))\nprint('D = ')\nprint(D)\n</code></pre></div>    </div>\n</details>\n</blockquote>\n<blockquote class=\"question\" style=\"border: 2px solid #8A9AD0; margin: 1em 0.2em\">\n<div class=\"box-title question-title\" id=\"question-selecting-with-conditionals\"><i class=\"far fa-question-circle\" aria-hidden=\"true\" ></i> Question: Selecting with conditionals</div>\n<p>Given the followind array <code style=\"color: inherit\">A</code>, keep only the elements that are lower that <code style=\"color: inherit\">0.05</code>.</p>\n<div class=\"language-plaintext highlighter-rouge\"><div><pre style=\"color: inherit; background: transparent\"><code style=\"color: inherit\">A = np.array([0.81, 0.025, 0.15, 0.67, 0.01])\n</code></pre></div>  </div>\n<br/><details style=\"border: 2px solid #B8C3EA; margin: 1em 0.2em;padding: 0.5em; cursor: pointer;\"><summary>👁 View solution</summary>\n<div class=\"box-title solution-title\" id=\"solution-1\"><button class=\"gtn-boxify-button solution\" type=\"button\" aria-controls=\"solution-1\" aria-expanded=\"true\"><i class=\"far fa-eye\" aria-hidden=\"true\" ></i> Solution<span class=\"fold-unfold fa fa-minus-square\"></span></button></div>\n<div class=\"language-plaintext highlighter-rouge\"><div><pre style=\"color: inherit; background: transparent\"><code style=\"color: inherit\">A = A[A&lt;0.05]\n</code></pre></div>    </div>\n</blockquote>\n</blockquote>\n<h1 id=\"use-pandas-to-work-with-dataframes\">Use pandas to work with dataframes</h1>\n<p>Pandas ({% cite reback2020pandas %}, {% cite mckinney-proc-scipy-2010 %}) is a widely-used Python library for statistics, particularly on tabular data. If you are familiar with R dataframes, then this is the library that integrates this functionality. A dataframe is a 2-dimensional table with indexes and column names. The indexes indicate the difference in rows, while the column names indicate the difference in columns. You will see later that these two features are useful when you’re manipulating your data. Each column can contain different data types.</p>\n<p>Load it with import pandas as <code style=\"color: inherit\">pd</code>. The alias <code style=\"color: inherit\">pd</code> is commonly used for pandas.</p>\n",
      "cell_type": "markdown",
      "metadata": {
        "editable": false,
        "collapsed": false
      }
    },
    {
      "id": "cell-37",
      "source": [
        "import pandas as pd"
      ],
      "cell_type": "code",
      "execution_count": null,
      "outputs": [

      ],
      "metadata": {
        "attributes": {
          "classes": [
            "> <comment-title></comment-title>"
          ],
          "id": ""
        }
      }
    },
    {
      "id": "cell-38",
      "source": "<p>There are many ways to create a pandas dataframe. For example you can use a numpy array as input.</p>\n",
      "cell_type": "markdown",
      "metadata": {
        "editable": false,
        "collapsed": false
      }
    },
    {
      "id": "cell-39",
      "source": [
        "data = np.array([['','Col1','Col2'],\n",
        "                ['Row1',1,2],\n",
        "                ['Row2',3,4]])\n",
        "\n",
        "print(pd.DataFrame(data=data[1:,1:],\n",
        "                  index=data[1:,0],\n",
        "                  columns=data[0,1:]))"
      ],
      "cell_type": "code",
      "execution_count": null,
      "outputs": [

      ],
      "metadata": {
        "attributes": {
          "classes": [
            "> <comment-title></comment-title>"
          ],
          "id": ""
        }
      }
    },
    {
      "id": "cell-40",
      "source": "<p>For the purposes of this tutorial, we will use a file with the annotated differentially expressed genes that was produced in the <a href=\"{% link topics/transcriptomics/tutorials/ref-based/tutorial.md %}\">Reference-based RNA-Seq data analysis</a> tutorial</p>\n<p>We can read a tabular file with <code style=\"color: inherit\">pd.read_csv</code>. The first argument is the filepath of the file to be read. The <code style=\"color: inherit\">sep</code> argument refers to the symbol used to separate the data into different columns. You can check the rest of the arguments using the <code style=\"color: inherit\">help()</code> function.</p>\n",
      "cell_type": "markdown",
      "metadata": {
        "editable": false,
        "collapsed": false
      }
    },
    {
      "id": "cell-41",
      "source": [
        "data = pd.read_csv(\"https://zenodo.org/record/3477564/files/annotatedDEgenes.tabular\", sep = \"\\t\")\n",
        "print(data)"
      ],
      "cell_type": "code",
      "execution_count": null,
      "outputs": [

      ],
      "metadata": {
        "attributes": {
          "classes": [
            "> <comment-title></comment-title>"
          ],
          "id": ""
        }
      }
    },
    {
      "id": "cell-42",
      "source": "<p>The columns in a dataframe are the observed variables, and the rows are the observations. Pandas uses backslash <code style=\"color: inherit\">\\</code> to show wrapped lines when output is too wide to fit the screen.</p>\n<h2 id=\"explore-the-data\">Explore the data</h2>\n<p>You can use <code style=\"color: inherit\">index_col</code> to specify that a column’s values should be used as row headings.</p>\n<p>By default row indexes are numbers, but we could use a column of the data. To pass the name of the column to <code style=\"color: inherit\">read_csv</code>, you can use its <code style=\"color: inherit\">index_col</code> parameter. Be careful though, because the row indexes must be unique for each row.</p>\n",
      "cell_type": "markdown",
      "metadata": {
        "editable": false,
        "collapsed": false
      }
    },
    {
      "id": "cell-43",
      "source": [
        "data = pd.read_csv(\"https://zenodo.org/record/3477564/files/annotatedDEgenes.tabular\", sep = \"\\t\", index_col = 'GeneID')\n",
        "print(data)"
      ],
      "cell_type": "code",
      "execution_count": null,
      "outputs": [

      ],
      "metadata": {
        "attributes": {
          "classes": [
            "> <comment-title></comment-title>"
          ],
          "id": ""
        }
      }
    },
    {
      "id": "cell-44",
      "source": "<p>You can use the <code style=\"color: inherit\">DataFrame.info()</code> method to find out more about a dataframe.</p>\n",
      "cell_type": "markdown",
      "metadata": {
        "editable": false,
        "collapsed": false
      }
    },
    {
      "id": "cell-45",
      "source": [
        "data.info()"
      ],
      "cell_type": "code",
      "execution_count": null,
      "outputs": [

      ],
      "metadata": {
        "attributes": {
          "classes": [
            "> <comment-title></comment-title>"
          ],
          "id": ""
        }
      }
    },
    {
      "id": "cell-46",
      "source": "<p>We learn that this is a DataFrame. It consists of 130 rows and 12 columns. None of the columns contains any missing values. 6 columns contain 64-bit floating point <code style=\"color: inherit\">float64</code> values, 2 contain 64-bit integer <code style=\"color: inherit\">int64</code> values and 4 contain character <code style=\"color: inherit\">object</code> values. It uses 13.2KB of memory.</p>\n<p>The <code style=\"color: inherit\">DataFrame.columns</code> variable stores information about the dataframe’s columns.</p>\n<p>Note that this is an attribute, not a method. (It doesn’t have parentheses.) Called a member variable, or just member.</p>\n",
      "cell_type": "markdown",
      "metadata": {
        "editable": false,
        "collapsed": false
      }
    },
    {
      "id": "cell-47",
      "source": [
        "print(data.columns)"
      ],
      "cell_type": "code",
      "execution_count": null,
      "outputs": [

      ],
      "metadata": {
        "attributes": {
          "classes": [
            "> <comment-title></comment-title>"
          ],
          "id": ""
        }
      }
    },
    {
      "id": "cell-48",
      "source": "<p>You could use <code style=\"color: inherit\">DataFrame.T</code> to transpose a dataframe. The <code style=\"color: inherit\">Transpose</code> (written <code style=\"color: inherit\">.T</code>) doesn’t copy the data, just changes the program’s view of it. Like columns, it is a member variable.</p>\n",
      "cell_type": "markdown",
      "metadata": {
        "editable": false,
        "collapsed": false
      }
    },
    {
      "id": "cell-49",
      "source": [
        "print(data.T)"
      ],
      "cell_type": "code",
      "execution_count": null,
      "outputs": [

      ],
      "metadata": {
        "attributes": {
          "classes": [
            "> <comment-title></comment-title>"
          ],
          "id": ""
        }
      }
    },
    {
      "id": "cell-50",
      "source": "<p>You can use <code style=\"color: inherit\">DataFrame.describe()</code> to get summary statistics about the data. <code style=\"color: inherit\">DataFrame.describe()</code> returns the summary statistics of only the columns that have numerical data.  All other columns are ignored, unless you use the argument <code style=\"color: inherit\">include='all'</code>. Depending on the data type of each column, the statistics that can’t be calculated are replaced with  the value <code style=\"color: inherit\">NaN</code>.</p>\n",
      "cell_type": "markdown",
      "metadata": {
        "editable": false,
        "collapsed": false
      }
    },
    {
      "id": "cell-51",
      "source": [
        "print(data.describe(include='all'))"
      ],
      "cell_type": "code",
      "execution_count": null,
      "outputs": [

      ],
      "metadata": {
        "attributes": {
          "classes": [
            "> <comment-title></comment-title>"
          ],
          "id": ""
        }
      }
    },
    {
      "id": "cell-52",
      "source": "<blockquote class=\"question\" style=\"border: 2px solid #8A9AD0; margin: 1em 0.2em\">\n<div class=\"box-title question-title\" id=\"question-using-pd-head-and-pd-tail\"><i class=\"far fa-question-circle\" aria-hidden=\"true\" ></i> Question: Using pd.head and pd.tail</div>\n<p>After reading the data, use <code style=\"color: inherit\">help(data.head)</code> and <code style=\"color: inherit\">help(data.tail)</code> to find out what <code style=\"color: inherit\">DataFrame.head</code> and <code style=\"color: inherit\">DataFrame.tail</code> do.\n\ta. What method call will display the first three rows of the data?\n\tb. What method call will display the last three columns of this data? (Hint: you may need to change your view of the data.)</p>\n<br/><details style=\"border: 2px solid #B8C3EA; margin: 1em 0.2em;padding: 0.5em; cursor: pointer;\"><summary>👁 View solution</summary>\n<div class=\"box-title solution-title\" id=\"solution-2\"><button class=\"gtn-boxify-button solution\" type=\"button\" aria-controls=\"solution-2\" aria-expanded=\"true\"><i class=\"far fa-eye\" aria-hidden=\"true\" ></i> Solution<span class=\"fold-unfold fa fa-minus-square\"></span></button></div>\n<p>a. We can check out the first five rows of the data by executing <code style=\"color: inherit\">data.head()</code> (allowing us to view the head of the DataFrame). We can specify the number of rows we wish to see by specifying the parameter <code style=\"color: inherit\">n</code> in our call to <code style=\"color: inherit\">data.head()</code>. To view the first three rows, execute:</p>\n<div class=\"language-plaintext highlighter-rouge\"><div><pre style=\"color: inherit; background: transparent\"><code style=\"color: inherit\">data.head(n=3)\n</code></pre></div>    </div>\n<table>\n<thead>\n<tr>\n<th> </th>\n<th>Base mean</th>\n<th>log2(FC)</th>\n<th>StdErr</th>\n<th>Wald-Stats</th>\n<th>P-value</th>\n<th>P-adj</th>\n<th>Chromosome</th>\n<th>Start</th>\n<th>End</th>\n<th>Strand</th>\n<th>Feature</th>\n<th>Gene name</th>\n<th>GeneID</th>\n</tr>\n</thead>\n<tbody>\n<tr>\n<td>FBgn0039155</td>\n<td>1086.974295</td>\n<td>-4.148450</td>\n<td>0.134949</td>\n<td>-30.740913</td>\n<td>1.617357e-207</td>\n<td>1.387207e-203</td>\n<td>chr3R</td>\n<td>24141394</td>\n<td>24147490</td>\n<td>+</td>\n<td>protein_coding</td>\n<td>Kal1</td>\n<td> </td>\n</tr>\n<tr>\n<td>FBgn0003360</td>\n<td>6409.577128</td>\n<td>-2.999777</td>\n<td>0.104345</td>\n<td>-28.748637</td>\n<td>9.419922e-182</td>\n<td>4.039734e-178</td>\n<td>chrX</td>\n<td>10780892</td>\n<td>10786958</td>\n<td>-</td>\n<td>protein_coding</td>\n<td>sesB</td>\n<td> </td>\n</tr>\n<tr>\n<td>FBgn0026562</td>\n<td>65114.840564</td>\n<td>-2.380164</td>\n<td>0.084327</td>\n<td>-28.225437</td>\n<td>2.850430e-175</td>\n<td>8.149380e-172</td>\n<td>chr3R</td>\n<td>26869237</td>\n<td>26871995</td>\n<td>-</td>\n<td>protein_coding</td>\n<td>BM-40-SPARC</td>\n<td> </td>\n</tr>\n</tbody>\n</table>\n<p>b. To check out the last three rows, we would use the command, <code style=\"color: inherit\">data.tail(n=3)</code>, analogous to <code style=\"color: inherit\">head()</code> used above. However, here we want to look \tat the last three columns so we need to change our view and then use <code style=\"color: inherit\">tail()</code>. To do so, we create a new DataFrame in which rows and columns are \tswitched:</p>\n<div class=\"language-plaintext highlighter-rouge\"><div><pre style=\"color: inherit; background: transparent\"><code style=\"color: inherit\">data_flipped = data.T\n</code></pre></div>    </div>\n<p>We can then view the last three columns of the data by viewing the last three rows of data_flipped:</p>\n<div class=\"language-plaintext highlighter-rouge\"><div><pre style=\"color: inherit; background: transparent\"><code style=\"color: inherit\">data_flipped.tail(n=3)\n</code></pre></div>    </div>\n<p>| GeneID | FBgn0039155 | FBgn0003360 | FBgn0026562 | FBgn0025111 | FBgn0029167 | FBgn0039827 | FBgn0035085 | FBgn0034736 | FBgn0264475 | FBgn0000071 | … | FBgn0264343 | FBgn0038237 | FBgn0020376 | FBgn0028939 | FBgn0036560 | FBgn0035710 | FBgn0035523 | FBgn0038261 | FBgn0039178 | FBgn0034636 |\n| —- | —- | —- | —- | —- | —- | —- | —- | —- | —- | —- | —- | —- | —- | —- | —- | —- | —- | —- | —- | —- | —- |\n| Strand | + | - | - | - | + | + | + | + | + | + | … | + | - | + | + | + | - | + | + | + | - |\n| Feature | protein_coding | protein_coding | protein_coding | protein_coding | protein_coding | protein_coding | protein_coding | protein_coding | lincRNA | protein_coding | … | protein_coding | protein_coding | protein_coding | protein_coding | protein_coding | protein_coding | protein_coding | protein_coding | protein_coding | protein_coding |\n| Gene name | Kal1 | sesB | BM-40-SPARC | Ant2 | Hml | CG1544 | CG3770 | CG6018 | CR43883 | Ama | … | CG43799 | Pde6 | Sr-CIII | NimC2 | CG5895 | SP1173 | CG1311 | CG14856 | CG6356 | CG10440 |</p>\n</details>\n</blockquote>\n<blockquote class=\"question\" style=\"border: 2px solid #8A9AD0; margin: 1em 0.2em\">\n<div class=\"box-title question-title\" id=\"question-saving-in-a-csv-file\"><i class=\"far fa-question-circle\" aria-hidden=\"true\" ></i> Question: Saving in a csv file</div>\n<p>As well as the <code style=\"color: inherit\">read_csv</code> function for reading data from a file, Pandas provides a <code style=\"color: inherit\">to_csv</code> function to write dataframes to files. Applying what you’ve learned about reading from files, write one of your dataframes to a file called <code style=\"color: inherit\">processed.csv</code>. You can use <code style=\"color: inherit\">help</code> to get information on how to use <code style=\"color: inherit\">to_csv</code>.</p>\n<br/><details style=\"border: 2px solid #B8C3EA; margin: 1em 0.2em;padding: 0.5em; cursor: pointer;\"><summary>👁 View solution</summary>\n<div class=\"box-title solution-title\" id=\"solution-3\"><button class=\"gtn-boxify-button solution\" type=\"button\" aria-controls=\"solution-3\" aria-expanded=\"true\"><i class=\"far fa-eye\" aria-hidden=\"true\" ></i> Solution<span class=\"fold-unfold fa fa-minus-square\"></span></button></div>\n<div class=\"language-plaintext highlighter-rouge\"><div><pre style=\"color: inherit; background: transparent\"><code style=\"color: inherit\">data_flipped.to_csv('processed.csv')\n</code></pre></div>    </div>\n</blockquote>\n</blockquote>\n<ul>\n<li>Note about Pandas DataFrames/Series</li>\n</ul>\n<p>A <a href=\"https://pandas.pydata.org/pandas-docs/stable/reference/api/pandas.DataFrame.html\">DataFrame</a> is a collection of <a href=\"https://pandas.pydata.org/pandas-docs/stable/reference/api/pandas.Series.html\">Series</a>; The DataFrame is the way Pandas represents a table, and Series is the data-structure Pandas use to represent a column.</p>\n<p>Pandas is built on top of the Numpy library, which in practice means that most of the methods defined for Numpy Arrays apply to Pandas Series/DataFrames.</p>\n<p>What makes Pandas so attractive is the powerful interface to access individual records of the table, proper handling of missing values, and relational-databases operations between DataFrames.</p>\n<h2 id=\"select-data\">Select data</h2>\n<p>To access a value at the position <code style=\"color: inherit\">[i,j]</code> of a DataFrame, we have two options, depending on what is the meaning of i in use. Remember that a DataFrame provides an index as a way to identify the rows of the table; a row, then, has a position inside the table as well as a label, which uniquely identifies its entry in the DataFrame.</p>\n<p>You can use <code style=\"color: inherit\">DataFrame.iloc[..., ...]</code> to select values by their (entry) position and basically specify location by numerical index analogously to 2D version of character selection in strings.</p>\n",
      "cell_type": "markdown",
      "metadata": {
        "editable": false,
        "collapsed": false
      }
    },
    {
      "id": "cell-53",
      "source": [
        "print(data.iloc[0, 0])"
      ],
      "cell_type": "code",
      "execution_count": null,
      "outputs": [

      ],
      "metadata": {
        "attributes": {
          "classes": [
            "> <comment-title></comment-title>"
          ],
          "id": ""
        }
      }
    },
    {
      "id": "cell-54",
      "source": "<p>You can also use <code style=\"color: inherit\">DataFrame.loc[..., ...]</code> to select values by their (entry) label and basically specify location by row name analogously to 2D version of dictionary keys.</p>\n",
      "cell_type": "markdown",
      "metadata": {
        "editable": false,
        "collapsed": false
      }
    },
    {
      "id": "cell-55",
      "source": [
        "print(data.loc[\"FBgn0039155\", \"Base mean\"])"
      ],
      "cell_type": "code",
      "execution_count": null,
      "outputs": [

      ],
      "metadata": {
        "attributes": {
          "classes": [
            "> <comment-title></comment-title>"
          ],
          "id": ""
        }
      }
    },
    {
      "id": "cell-56",
      "source": "<p>You can use Python’s usual slicing notation, to select all or a subset of rows and/or columns. For example, the following code selects all the columns of the row <code style=\"color: inherit\">\"FBgn0039155\"</code>.</p>\n",
      "cell_type": "markdown",
      "metadata": {
        "editable": false,
        "collapsed": false
      }
    },
    {
      "id": "cell-57",
      "source": [
        "print(data.loc[\"FBgn0039155\", :])"
      ],
      "cell_type": "code",
      "execution_count": null,
      "outputs": [

      ],
      "metadata": {
        "attributes": {
          "classes": [
            "> <comment-title></comment-title>"
          ],
          "id": ""
        }
      }
    },
    {
      "id": "cell-58",
      "source": "<p>Which would get the same result as printing <code style=\"color: inherit\">data.loc[\"FBgn0039155\"]</code> (without a second index).</p>\n<p>You can select multiple columns or rows using <code style=\"color: inherit\">DataFrame.loc</code> and a named slice or <code style=\"color: inherit\">Dataframe.iloc</code> and the numbers corresponding to the rows and columns.</p>\n",
      "cell_type": "markdown",
      "metadata": {
        "editable": false,
        "collapsed": false
      }
    },
    {
      "id": "cell-59",
      "source": [
        "print(data.loc['FBgn0003360':'FBgn0029167', 'Base mean':'Wald-Stats'])\n",
        "print(data.iloc[1:4 , 0:3])"
      ],
      "cell_type": "code",
      "execution_count": null,
      "outputs": [

      ],
      "metadata": {
        "attributes": {
          "classes": [
            "> <comment-title></comment-title>"
          ],
          "id": ""
        }
      }
    },
    {
      "id": "cell-60",
      "source": "<ul>\n<li>Note the difference between the 2 outputs.</li>\n</ul>\n<p>When choosing or transitioning between <code style=\"color: inherit\">loc</code> and <code style=\"color: inherit\">iloc</code>, you should keep in mind that the two methods use slightly different indexing schemes.</p>\n<p><code style=\"color: inherit\">iloc</code> uses the Python stdlib indexing scheme, where the first element of the range is included and the last one excluded. So <code style=\"color: inherit\">0:10</code> will select entries <code style=\"color: inherit\">0,...,9</code>. <code style=\"color: inherit\">loc</code>, meanwhile, indexes inclusively. So <code style=\"color: inherit\">0:10</code> will select entries <code style=\"color: inherit\">0,...,10</code>.</p>\n<p>This is particularly confusing when the DataFrame index is a simple numerical list, e.g. <code style=\"color: inherit\">0,...,1000</code>. In this case <code style=\"color: inherit\">df.iloc[0:1000]</code> will return 1000 entries, while <code style=\"color: inherit\">df.loc[0:1000]</code> return 1001 of them! To get 1000 elements using <code style=\"color: inherit\">loc</code>, you will need to go one lower and ask for <code style=\"color: inherit\">df.loc[0:999]</code>.</p>\n<p>The result of slicing is a new dataframe and can be used in further operations. All the statistical operators that work on entire dataframes work the same way on slices. E.g., calculate max of a slice.</p>\n",
      "cell_type": "markdown",
      "metadata": {
        "editable": false,
        "collapsed": false
      }
    },
    {
      "id": "cell-61",
      "source": [
        "print(data.loc['FBgn0003360':'FBgn0029167', 'Base mean'].max())"
      ],
      "cell_type": "code",
      "execution_count": null,
      "outputs": [

      ],
      "metadata": {
        "attributes": {
          "classes": [
            "> <comment-title></comment-title>"
          ],
          "id": ""
        }
      }
    },
    {
      "id": "cell-62",
      "source": "<h2 id=\"use-conditionals-to-select-data\">Use conditionals to select data</h2>\n<p>You can use conditionals to select data. A comparison is applied element by element and returns a similarly-shaped dataframe of <code style=\"color: inherit\">True</code> and <code style=\"color: inherit\">False</code>. The last one can be used as a mask to subset the original dataframe. The following example creates a new dataframe consisting only of the columns ‘P-adj’ and ‘Gene name’, then keeps the rows that comply with the expression <code class=\"language-plaintext highlighter-rouge\">'P-adj' &lt; 0.000005</code></p>\n",
      "cell_type": "markdown",
      "metadata": {
        "editable": false,
        "collapsed": false
      }
    },
    {
      "id": "cell-63",
      "source": [
        "subset = data.loc[:, ['P-adj', 'Gene name']]\n",
        "print(subset)"
      ],
      "cell_type": "code",
      "execution_count": null,
      "outputs": [

      ],
      "metadata": {
        "attributes": {
          "classes": [
            "> <comment-title></comment-title>"
          ],
          "id": ""
        }
      }
    },
    {
      "id": "cell-64",
      "source": "\n",
      "cell_type": "markdown",
      "metadata": {
        "editable": false,
        "collapsed": false
      }
    },
    {
      "id": "cell-65",
      "source": [
        "mask = subset.loc[:, 'P-adj'] < 0.000005\n",
        "new_data = subset[mask]\n",
        "print(new_data)"
      ],
      "cell_type": "code",
      "execution_count": null,
      "outputs": [

      ],
      "metadata": {
        "attributes": {
          "classes": [
            "> <comment-title></comment-title>"
          ],
          "id": ""
        }
      }
    },
    {
      "id": "cell-66",
      "source": "<p>If we have not had specified the column, that the expression should be applied to, then it would have been applied to the entire dataframe. But the dataframe contains different type of data. In that case, an error would occur.</p>\n<p>Consider the following example of a dataframe consisting only of numerical data. The expression and the mask would be normally applied to the data and the mask would return <code style=\"color: inherit\">NaN</code> for the data that don’t comply with the expression.</p>\n",
      "cell_type": "markdown",
      "metadata": {
        "editable": false,
        "collapsed": false
      }
    },
    {
      "id": "cell-67",
      "source": [
        "subset = data.loc[:, ['StdErr',\t'Wald-Stats', 'P-value', 'P-adj']]\n",
        "mask = subset < 0.05\n",
        "new_data = subset[mask]\n",
        "print(new_data)"
      ],
      "cell_type": "code",
      "execution_count": null,
      "outputs": [

      ],
      "metadata": {
        "attributes": {
          "classes": [
            "> <comment-title></comment-title>"
          ],
          "id": ""
        }
      }
    },
    {
      "id": "cell-68",
      "source": "<p>This is very useful because NaNs are ignored by operations like max, min, average, etc.</p>\n",
      "cell_type": "markdown",
      "metadata": {
        "editable": false,
        "collapsed": false
      }
    },
    {
      "id": "cell-69",
      "source": [
        "print(new_data.describe())"
      ],
      "cell_type": "code",
      "execution_count": null,
      "outputs": [

      ],
      "metadata": {
        "attributes": {
          "classes": [
            "> <comment-title></comment-title>"
          ],
          "id": ""
        }
      }
    },
    {
      "id": "cell-70",
      "source": "<blockquote class=\"question\" style=\"border: 2px solid #8A9AD0; margin: 1em 0.2em\">\n<div class=\"box-title question-title\" id=\"question-manipulating-dataframes\"><i class=\"far fa-question-circle\" aria-hidden=\"true\" ></i> Question: Manipulating dataframes</div>\n<p>Explain what each line in the following short program does: what is in first, second, etc.?</p>\n<div class=\"language-plaintext highlighter-rouge\"><div><pre style=\"color: inherit; background: transparent\"><code style=\"color: inherit\">first = pd.read_csv(\"https://zenodo.org/record/3477564/files/annotatedDEgenes.tabular\", sep = \"\\t\", index_col = 'GeneID')\nsecond = first[first['log2(FC)'] &gt; 0 ]\nthird = second.drop('FBgn0025111')\nfourth = third.drop('StdErr', axis = 1)\nfourth.to_csv('result.csv')\n</code></pre></div>  </div>\n<br/><details style=\"border: 2px solid #B8C3EA; margin: 1em 0.2em;padding: 0.5em; cursor: pointer;\"><summary>👁 View solution</summary>\n<div class=\"box-title solution-title\" id=\"solution-4\"><button class=\"gtn-boxify-button solution\" type=\"button\" aria-controls=\"solution-4\" aria-expanded=\"true\"><i class=\"far fa-eye\" aria-hidden=\"true\" ></i> Solution<span class=\"fold-unfold fa fa-minus-square\"></span></button></div>\n<p>Let’s go through this piece of code line by line.</p>\n<div class=\"language-plaintext highlighter-rouge\"><div><pre style=\"color: inherit; background: transparent\"><code style=\"color: inherit\">first = pd.read_csv(\"https://zenodo.org/record/3477564/files/annotatedDEgenes.tabular\", sep = \"\\t\", index_col = 'GeneID')\n</code></pre></div>    </div>\n<p>This line loads the data into a dataframe called first. The <code style=\"color: inherit\">index_col='GeneID'</code> parameter selects which column to use as the row labels in the dataframe.</p>\n<div class=\"language-plaintext highlighter-rouge\"><div><pre style=\"color: inherit; background: transparent\"><code style=\"color: inherit\">second = first[first['log2(FC)'] &gt; 0 ]\n</code></pre></div>    </div>\n<p>This line makes a selection: only those rows of first for which the ‘log2(FC)’ column contains a positive value are extracted. Notice how the Boolean expression inside the brackets is used to select only those rows where the expression is true.</p>\n<div class=\"language-plaintext highlighter-rouge\"><div><pre style=\"color: inherit; background: transparent\"><code style=\"color: inherit\">third = second.drop('FBgn0025111')\n</code></pre></div>    </div>\n<p>As the syntax suggests, this line drops the row from second where the label is ‘FBgn0025111’. The resulting dataframe third has one row less than the original dataframe second.</p>\n<div class=\"language-plaintext highlighter-rouge\"><div><pre style=\"color: inherit; background: transparent\"><code style=\"color: inherit\">fourth = third.drop('StdErr', axis = 1)\n</code></pre></div>    </div>\n<p>Again we apply the drop function, but in this case we are dropping not a row but a whole column. To accomplish this, we need to specify also the axis parameter.</p>\n<div class=\"language-plaintext highlighter-rouge\"><div><pre style=\"color: inherit; background: transparent\"><code style=\"color: inherit\">fourth.to_csv('result.csv')\n</code></pre></div>    </div>\n<p>The final step is to write the data that we have been working on to a csv file. Pandas makes this easy with the <code style=\"color: inherit\">to_csv()</code> function. The only required argument to the function is the filename. Note that the file will be written in the directory from which you started the Jupyter or Python session.</p>\n</details>\n</blockquote>\n<blockquote class=\"question\" style=\"border: 2px solid #8A9AD0; margin: 1em 0.2em\">\n<div class=\"box-title question-title\" id=\"question-finding-min-max-indexes\"><i class=\"far fa-question-circle\" aria-hidden=\"true\" ></i> Question: Finding min-max indexes</div>\n<p>Explain in simple terms what <code style=\"color: inherit\">idxmin</code> and <code style=\"color: inherit\">idxmax</code> do in the short program below. When would you use these methods?</p>\n<div class=\"language-plaintext highlighter-rouge\"><div><pre style=\"color: inherit; background: transparent\"><code style=\"color: inherit\">data = pd.read_csv(\"https://zenodo.org/record/3477564/files/annotatedDEgenes.tabular\", sep = \"\\t\", index_col = 'GeneID')\n\nprint(data['Base mean'].idxmin())\nprint(data['Base mean'].idxmax())\n</code></pre></div>  </div>\n<br/><details style=\"border: 2px solid #B8C3EA; margin: 1em 0.2em;padding: 0.5em; cursor: pointer;\"><summary>👁 View solution</summary>\n<div class=\"box-title solution-title\" id=\"solution-5\"><button class=\"gtn-boxify-button solution\" type=\"button\" aria-controls=\"solution-5\" aria-expanded=\"true\"><i class=\"far fa-eye\" aria-hidden=\"true\" ></i> Solution<span class=\"fold-unfold fa fa-minus-square\"></span></button></div>\n<p><code style=\"color: inherit\">idxmin</code> will return the index value corresponding to the minimum; idxmax will do the same for the maximum value.</p>\n<p>You can use these functions whenever you want to get the row index of the minimum/maximum value and not the actual minimum/maximum value.</p>\n<p>Output:\nFBgn0063667\nFBgn0026562</p>\n</blockquote>\n</blockquote>\n<blockquote class=\"question\" style=\"border: 2px solid #8A9AD0; margin: 1em 0.2em\">\n<div class=\"box-title question-title\" id=\"question-selecting-with-conditionals-1\"><i class=\"far fa-question-circle\" aria-hidden=\"true\" ></i> Question: Selecting with conditionals</div>\n<p>Assume Pandas has been imported and the previous dataset has been loaded. Write an expression to select each of the following:\na. P-value of each gene\nb. all the information of gene <code style=\"color: inherit\">FBgn0039178</code>\nc. the information of all genes that belong to chromosome <code style=\"color: inherit\">chr3R</code></p>\n<br/><details style=\"border: 2px solid #B8C3EA; margin: 1em 0.2em;padding: 0.5em; cursor: pointer;\"><summary>👁 View solution</summary>\n<div class=\"box-title solution-title\" id=\"solution-6\"><button class=\"gtn-boxify-button solution\" type=\"button\" aria-controls=\"solution-6\" aria-expanded=\"true\"><i class=\"far fa-eye\" aria-hidden=\"true\" ></i> Solution<span class=\"fold-unfold fa fa-minus-square\"></span></button></div>\n<p>a. <code class=\"language-plaintext highlighter-rouge\">data['P-value']</code>\nb.<code class=\"language-plaintext highlighter-rouge\">data.loc['FBgn0039178', :]</code>\nc. <code class=\"language-plaintext highlighter-rouge\">data[data['Chromosome'] == 'chr3R']</code></p>\n</blockquote>\n</blockquote>\n<h2 id=\"group-by-and-analyze-the-data\">Group-by and analyze the data</h2>\n<p>Many data analysis tasks can be approached using the “split-apply-combine” paradigm: split the data into groups, apply some analysis to each group, and then combine the results.</p>\n<p>Pandas makes this very easy through the use of the <code style=\"color: inherit\">groupby()</code> method, which splits the data into groups. When the data is grouped in this way, the aggregate method <code style=\"color: inherit\">agg()</code> can be used to apply an aggregating or summary function to each group.</p>\n",
      "cell_type": "markdown",
      "metadata": {
        "editable": false,
        "collapsed": false
      }
    },
    {
      "id": "cell-71",
      "source": [
        "summarised_data = data.groupby('Chromosome').agg({'Base mean':'first',\n",
        "                             'log2(FC)': 'max'})\n",
        "print(summarised_data)"
      ],
      "cell_type": "code",
      "execution_count": null,
      "outputs": [

      ],
      "metadata": {
        "attributes": {
          "classes": [
            "> <comment-title></comment-title>"
          ],
          "id": ""
        }
      }
    },
    {
      "id": "cell-72",
      "source": "<p>There are a couple of things that should be noted. The <code style=\"color: inherit\">agg()</code> method accepts a dictionary as input that specifies the function to be applied to each column. The output is a new dataframe, that each row corresponds to one group. The output dataframe uses the grouping column as index. We could change the last one by simply using the <code style=\"color: inherit\">reset_index()</code> method.</p>\n",
      "cell_type": "markdown",
      "metadata": {
        "editable": false,
        "collapsed": false
      }
    },
    {
      "id": "cell-73",
      "source": [
        "summarised_data = data.groupby('Chromosome').agg({'Base mean':'first',\n",
        "                                                  'log2(FC)': 'max'}).reset_index()\n",
        "print(summarised_data)"
      ],
      "cell_type": "code",
      "execution_count": null,
      "outputs": [

      ],
      "metadata": {
        "attributes": {
          "classes": [
            "> <comment-title></comment-title>"
          ],
          "id": ""
        }
      }
    },
    {
      "id": "cell-74",
      "source": "<blockquote class=\"question\" style=\"border: 2px solid #8A9AD0; margin: 1em 0.2em\">\n<div class=\"box-title question-title\" id=\"question-finding-the-max-of-each-group\"><i class=\"far fa-question-circle\" aria-hidden=\"true\" ></i> Question: Finding the max of each group</div>\n<p>Using the same dataset, try to find the longest genes in each chromosome.</p>\n<br/><details style=\"border: 2px solid #B8C3EA; margin: 1em 0.2em;padding: 0.5em; cursor: pointer;\"><summary>👁 View solution</summary>\n<div class=\"box-title solution-title\" id=\"solution-7\"><button class=\"gtn-boxify-button solution\" type=\"button\" aria-controls=\"solution-7\" aria-expanded=\"true\"><i class=\"far fa-eye\" aria-hidden=\"true\" ></i> Solution<span class=\"fold-unfold fa fa-minus-square\"></span></button></div>\n<div class=\"language-plaintext highlighter-rouge\"><div><pre style=\"color: inherit; background: transparent\"><code style=\"color: inherit\">data['Gene Length'] = data['End'] - data['Start']\ndata.groupby('Chromosome').agg(max_length = ('Gene Length', 'max'))\n</code></pre></div>    </div>\n</details>\n</blockquote>\n<blockquote class=\"question\" style=\"border: 2px solid #8A9AD0; margin: 1em 0.2em\">\n<div class=\"box-title question-title\" id=\"question-grouping-with-multiple-variables\"><i class=\"far fa-question-circle\" aria-hidden=\"true\" ></i> Question: Grouping with multiple variables</div>\n<p>Using the same dataset, try to find how many genes are found on each strand of each chromosome.</p>\n<br/><details style=\"border: 2px solid #B8C3EA; margin: 1em 0.2em;padding: 0.5em; cursor: pointer;\"><summary>👁 View solution</summary>\n<div class=\"box-title solution-title\" id=\"solution-8\"><button class=\"gtn-boxify-button solution\" type=\"button\" aria-controls=\"solution-8\" aria-expanded=\"true\"><i class=\"far fa-eye\" aria-hidden=\"true\" ></i> Solution<span class=\"fold-unfold fa fa-minus-square\"></span></button></div>\n<p>You can group the data according to more than one column.</p>\n<div class=\"language-plaintext highlighter-rouge\"><div><pre style=\"color: inherit; background: transparent\"><code style=\"color: inherit\">data.groupby(['Chromosome', 'Strand']).size()\n</code></pre></div>    </div>\n</blockquote>\n</blockquote>\n<h1 id=\"conclusion\">Conclusion</h1>\n<p>This tutorial aims to serve as an introduction to data analysis using the Python programming language. We hope you feel more confident in Python!</p>\n",
      "cell_type": "markdown",
      "metadata": {
        "editable": false,
        "collapsed": false
      }
    },
    {
      "cell_type": "markdown",
      "id": "final-ending-cell",
      "metadata": {
        "editable": false,
        "collapsed": false
      },
      "source": [
        "# Key Points\n\n",
        "- Python has many libraries offering a variety of capabilities, which makes it popular for beginners, as well as, more experienced users\n",
        "- You can use scientific libraries like Numpy and Pandas to perform data analysis.\n",
        "\n# Congratulations on successfully completing this tutorial!\n\n",
        "Please [fill out the feedback on the GTN website](https://training.galaxyproject.org/training-material/topics/data-science/tutorials/python-advanced-np-pd/tutorial.html#feedback) and check there for further resources!\n"
      ]
    }
  ]
}