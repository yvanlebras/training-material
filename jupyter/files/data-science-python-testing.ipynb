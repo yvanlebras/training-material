{
  "metadata": {
  },
  "nbformat": 4,
  "nbformat_minor": 5,
  "cells": [
    {
      "id": "metadata",
      "cell_type": "markdown",
      "source": "<div style=\"border: 2px solid #8A9AD0; margin: 1em 0.2em; padding: 0.5em;\">\n\n# Python - Testing\n\nby [The Carpentries](https://training.galaxyproject.org/hall-of-fame/carpentries/), [Helena Rasche](https://training.galaxyproject.org/hall-of-fame/hexylena/)\n\nCC-BY licensed content from the [Galaxy Training Network](https://training.galaxyproject.org/)\n\n**Objectives**\n\n- Does the code we develop work the way it should do?\n- Can we (and others) verify these assertions for themselves?\n- To what extent are we confident of the accuracy of results that appear in publications?\n\n**Objectives**\n\n- Explain the reasons why testing is important\n- Describe the three main types of tests and what each are used for\n- Implement and run unit tests to verify the correct behaviour of program functions\n\n**Time Estimation: 45M**\n</div>\n",
      "metadata": {
        "editable": false,
        "collapsed": false
      }
    },
    {
      "id": "cell-0",
      "source": "<p>Here we will cover the basics of testing, an important part of software development. Testing lets you know that your code is correct in many situations that matter to you.</p>\n<blockquote class=\"comment\" style=\"border: 2px solid #ffecc1; margin: 1em 0.2em\">\n<div class=\"box-title comment-title\" id=\"comment\"><i class=\"far fa-comment-dots\" aria-hidden=\"true\" ></i> Comment</div>\n<p>This tutorial is significantly based on <a href=\"https://carpentries.org\">the Carpentries</a> lesson <a href=\"https://carpentries-incubator.github.io/python-intermediate-development/\">“Intermediate Research Software Development”</a>.</p>\n</blockquote>\n<p>Being able to demonstrate that a process generates the right results is important in any field of research, whether it’s software generating those results or not. So when writing software we need to ask ourselves some key questions:</p>\n<ul>\n<li>Does the code we develop work the way it should do?</li>\n<li>Can we (and others) verify these assertions for themselves?</li>\n<li>Perhaps most importantly, to what extent are we confident of the accuracy of results that appear in publications?</li>\n</ul>\n<p>If we are unable to demonstrate that our software fulfills these criteria, why would anyone use it? Having well-defined tests for our software are useful for this, but manually testing software can prove an expensive process.</p>\n<p>Automation can help, and automation where possible is a good thing - it enables us to define a potentially complex process in a repeatable way that is far less prone to error than manual approaches. Once defined, automation can also save us a lot of effort, particularly in the long run. In this episode we’ll look into techniques of automated testing to improve the predictability of a software change, make development more productive, and help us produce code that works as expected and produces desired results.</p>\n<blockquote class=\"agenda\" style=\"border: 2px solid #86D486;display: none; margin: 1em 0.2em\">\n<div class=\"box-title agenda-title\" id=\"agenda\">Agenda</div>\n<p>In this tutorial, we will cover:</p>\n<ol id=\"markdown-toc\">\n<li><a href=\"#what-is-software-testing\" id=\"markdown-toc-what-is-software-testing\">What Is Software Testing?</a></li>\n<li><a href=\"#example-codebase\" id=\"markdown-toc-example-codebase\">Example Codebase</a></li>\n</ol>\n</blockquote>\n<h2 id=\"what-is-software-testing\">What Is Software Testing?</h2>\n<p>For the sake of argument, if each line we write has a 99% chance of being right, then a 70-line program will be wrong more than half the time. We need to do better than that, which means we need to test our software to catch these mistakes.</p>\n<p>We can and should extensively test our software manually, and manual testing is well-suited to testing aspects such as graphical user interfaces and reconciling visual outputs against inputs. However, even with a good test plan, manual testing is very time consuming and prone to error. Another style of testing is automated testing, where we write code that tests the functions of our software. Since computers are very good and efficient at automating repetitive tasks, we should take advantage of this wherever possible.</p>\n<p>There are three main types of automated tests:</p>\n<ul>\n<li><strong>Unit tests</strong> are tests for fairly small and specific units of functionality, e.g. determining that a particular function returns output as expected given specific inputs.</li>\n<li><strong>Functional or integration tests</strong> work at a higher level, and test functional paths through your code, e.g. given some specific inputs, a set of interconnected functions across a number of modules (or the entire code) produce the expected result. These are particularly useful for exposing faults in how functional units interact.</li>\n<li><strong>Regression tests</strong> make sure that your program’s output hasn’t changed, for example after making changes your code to add new functionality or fix a bug.</li>\n<li><strong>Property tests</strong> are an advanced testing strategy to find corner cases.</li>\n</ul>\n<p>For the purposes of this course, we’ll focus on unit tests. But the principles and practices we’ll talk about can be built on and applied to the other types of tests too.</p>\n<h2 id=\"example-codebase\">Example Codebase</h2>\n",
      "cell_type": "markdown",
      "metadata": {
        "editable": false,
        "collapsed": false
      }
    },
    {
      "id": "cell-1",
      "source": [
        "def rle_encode(input_string):\n",
        "    count = 1\n",
        "    prev = \"\"\n",
        "    lst = []\n",
        "    for character in input_string:\n",
        "        if character != prev:\n",
        "            if prev:\n",
        "                entry = (prev, count)\n",
        "                lst.append(entry)\n",
        "            count = 1\n",
        "            prev = character\n",
        "        else:\n",
        "            count += 1\n",
        "    entry = (character, count)\n",
        "    lst.append(entry)\n",
        "    return \"\".join([f\"{k}{v}\" for k, v in lst])\n",
        "\n",
        "\n",
        "def rle_decode(lst):\n",
        "    q = \"\"\n",
        "    for character, count in zip(lst[::2], lst[1::2]):\n",
        "        q += character * int(count)\n",
        "    return q"
      ],
      "cell_type": "code",
      "execution_count": null,
      "outputs": [

      ],
      "metadata": {
        "attributes": {
          "classes": [
            "> <comment-title></comment-title>"
          ],
          "id": ""
        }
      }
    },
    {
      "id": "cell-2",
      "source": "<p>This is a simple run length encoding and decoding function. It does not handle a lot of corner cases or odd input, but it may do what we need: compressing long strings of repetitive texts. It could potentially provide good genomic data compression. (Spoilers, it generally doesn’t. There are better compression algorithms.)</p>\n",
      "cell_type": "markdown",
      "metadata": {
        "editable": false,
        "collapsed": false
      }
    },
    {
      "id": "cell-3",
      "source": [
        "print(rle_encode(\"aaabbc\"))"
      ],
      "cell_type": "code",
      "execution_count": null,
      "outputs": [

      ],
      "metadata": {
        "attributes": {
          "classes": [
            "> <comment-title></comment-title>"
          ],
          "id": ""
        }
      }
    },
    {
      "id": "cell-4",
      "source": "<p>Let’s look at how we can test this cod.</p>\n<h2 id=\"writing-tests-to-verify-correct-behaviour\">Writing Tests to Verify Correct Behaviour</h2>\n<h3 id=\"one-way-to-do-it\">One Way to Do It?</h3>\n<p>One way to test our functions would be to write a series of checks or tests, each executing a function we want to test with known inputs against known valid results, and throw an error if we encounter a result that is incorrect</p>\n",
      "cell_type": "markdown",
      "metadata": {
        "editable": false,
        "collapsed": false
      }
    },
    {
      "id": "cell-5",
      "source": [
        "test_input = \"abba\"\n",
        "test_output = \"a1b2a1\"\n",
        "\n",
        "assert rle_encode(test_input) == test_output"
      ],
      "cell_type": "code",
      "execution_count": null,
      "outputs": [

      ],
      "metadata": {
        "attributes": {
          "classes": [
            "> <comment-title></comment-title>"
          ],
          "id": ""
        }
      }
    },
    {
      "id": "cell-6",
      "source": "<p>So we use the assert keyword - part of Python - to test that our calculated result is the same as our expected result. This function explicitly checks that the two values are the same, and throws an AssertionError if they are not.</p>\n<p>Let’s write some more test cases:</p>\n",
      "cell_type": "markdown",
      "metadata": {
        "editable": false,
        "collapsed": false
      }
    },
    {
      "id": "cell-7",
      "source": [
        "test_input = \"wwwwssssb\"\n",
        "test_output = \"w5s4b1\"\n",
        "assert rle_encode(test_input) == test_output\n",
        "\n",
        "test_round_trip = \"bbbbbbbbbbbbbbbbbbbbbbbbbbbbbbbbbbbbbbbbbbbbbbbbbbbbbbbbbbbbbbbbbbbbbbbbbbbbbbbbbbbbbbbbbbbbbbbbbbbbbbbbbbbbbbb\"\n",
        "assert test_round_trip == rle_decode(rle_encode(test_round_trip))\n",
        "\n",
        "test_input = \"baabaa\"\n",
        "test_output = \"b1a2b1a2\"\n",
        "assert rle_encode(test_input) == test_output"
      ],
      "cell_type": "code",
      "execution_count": null,
      "outputs": [

      ],
      "metadata": {
        "attributes": {
          "classes": [
            "> <comment-title></comment-title>"
          ],
          "id": ""
        }
      }
    },
    {
      "id": "cell-8",
      "source": "<p>However, if we were to enter these in this order, we’ll find we get the following after the first test:</p>\n<div class=\"language-plaintext highlighter-rouge\"><div><pre style=\"color: inherit; background: transparent\"><code style=\"color: inherit\">AssertionError                            Traceback (most recent call last)\n&lt;ipython-input-30-05489b2ef047&gt; in &lt;module&gt;\n      1 test_input = \"wwwwssssb\"\n      2 test_output = \"w5s4b1\"\n----&gt; 3 assert rle_encode(test_input) == test_output\n\nAssertionError:\n</code></pre></div></div>\n<p>This tells us our function couldn’t handle these inputs.</p>\n<p>We could put these tests in a separate script to automate the running of these tests. But a Python script halts at the first failed assertion, so the second and third tests aren’t run at all. It would be more helpful if we could get data from all of our tests every time they’re run, since the more information we have, the faster we’re likely to be able to track down bugs. It would also be helpful to have some kind of summary report: if our set of tests - known as a <strong>test suite</strong> - includes thirty or forty tests (as it well might for a complex function or library that’s widely used), we’d like to know how many passed or failed.</p>\n<p>Going back to our failed first test, what was the issue? As it turns out, the test itself was incorrect, and should have read:</p>\n",
      "cell_type": "markdown",
      "metadata": {
        "editable": false,
        "collapsed": false
      }
    },
    {
      "id": "cell-9",
      "source": [
        "test_input = \"wwwwssssb\"\n",
        "test_output = \"w4s4b1\"\n",
        "assert rle_encode(test_input) == test_output"
      ],
      "cell_type": "code",
      "execution_count": null,
      "outputs": [

      ],
      "metadata": {
        "attributes": {
          "classes": [
            "> <comment-title></comment-title>"
          ],
          "id": ""
        }
      }
    },
    {
      "id": "cell-10",
      "source": "<p>Which highlights an important point: as well as making sure our code is returning correct answers, we also need to ensure the tests themselves are also correct. Otherwise, we may go on to fix our code only to return an incorrect result that <em>appears</em> to be correct. So a good rule is to make tests simple enough to understand so we can reason about both the correctness of our tests as well as our code. Otherwise, our tests hold little value.</p>\n<h3 id=\"using-a-testing-framework\">Using a Testing Framework</h3>\n<p>Keeping these things in mind, here’s a different approach that builds on the ideas we’ve seen so far but uses a <strong>unit testing framework</strong>. In such a framework we define our tests we want to run as functions, and the framework automatically runs each of these functions in turn, summarising the outputs. And unlike our previous approach, it will run every test regardless of any encountered test failures.</p>\n<p>Most people don’t enjoy writing tests, so if we want them to actually do it, it must be easy to:</p>\n<ul>\n<li>Add or change tests,</li>\n<li>Understand the tests that have already been written,</li>\n<li>Run those tests, and</li>\n<li>Understand those tests’ results</li>\n</ul>\n<p>Test results must also be reliable. If a testing tool says that code is working when it’s not, or reports problems when there actually aren’t any, people will lose faith in it and stop using it.</p>\n",
      "cell_type": "markdown",
      "metadata": {
        "editable": false,
        "collapsed": false
      }
    },
    {
      "id": "cell-11",
      "source": [
        "from main import rle_encode, rle_decode\n",
        "import unittest\n",
        "\n",
        "class TestRunLengthEncoding(unittest.TestCase):\n",
        "    def test_encode(self):\n",
        "      i = \"aaabbcccd\"\n",
        "      expected = \"a3b2c3d1\"\n",
        "      actual = rle_encode(i)\n",
        "      self.assertEqual(expected, actual)\n",
        "\n",
        "    def test_decode(self):\n",
        "        i = \"a3b2c3d1\"\n",
        "        expected = \"aaabbcccd\"\n",
        "        actual = rle_decode(i)\n",
        "        self.assertEqual(expected, actual)\n",
        "\n",
        "    def test_empty(self):\n",
        "        test_input = \"wwwwssssb\"\n",
        "        test_output = \"w4s4b1\"\n",
        "        self.assertEqual(test_input, test_output)\n",
        "\n",
        "    def test_roundtrip_short(self):\n",
        "        test_input = \"bbb\"\n",
        "        test_output = rle_decode(rle_encode(test_input))\n",
        "        self.assertEqual(test_input, test_output)\n",
        "\n",
        "    def test_roundtrip_long(self):\n",
        "        test_input = \"bbbbbbbbbbbbbbbbbbbbbbbbbbbbbbbbbbbbbbbbbbbbbbbbbbbbbbbbbbbbbbbbbbbbbbbbbbbbbbbbbbbbbbbbbbbbbbbbbbbbbbbbbbbbbbb\"\n",
        "        test_output = rle_decode(rle_encode(test_input))\n",
        "        self.assertEqual(test_input, test_output)\n",
        "\n",
        "if __name__ == '__main__':\n",
        "    unittest.main()"
      ],
      "cell_type": "code",
      "execution_count": null,
      "outputs": [

      ],
      "metadata": {
        "attributes": {
          "classes": [
            "> <comment-title></comment-title>"
          ],
          "id": ""
        }
      }
    },
    {
      "id": "cell-12",
      "source": "<p>So here, although we have specified our tests as separate functions in a class, they run the same assertions. Each of these test functions, in a general sense, are called <strong>test cases</strong> - these are a specification of:</p>\n<ul>\n<li>Inputs</li>\n<li>Execution conditions - any imports we might need to do</li>\n<li>Testing procedure</li>\n<li>Expected outputs</li>\n</ul>\n<p>And here, we’re defining each of these things for a test case we can run independently that requires no manual intervention.</p>\n<blockquote class=\"hands_on\" style=\"border: 2px solid #dfe5f9; margin: 1em 0.2em\">\n<div class=\"box-title hands-on-title\" id=\"hands-on-run-this-locally\"><i class=\"fas fa-pencil-alt\" aria-hidden=\"true\" ></i> Hands-on: Run this locally</div>\n<ol>\n<li>Create a new folder somewhere</li>\n<li>Save the RLE encode/decode functions as <code style=\"color: inherit\">main.py</code> in that folder</li>\n<li>Save the unittests above as <code style=\"color: inherit\">test.py</code> in that folder</li>\n<li>Run <code style=\"color: inherit\">python test.py</code></li>\n</ol>\n</blockquote>\n<p>Going back to our list of requirements, how easy is it to run these tests? We can do this using a Python package called <code style=\"color: inherit\">unittest</code>. This is a built-in testing framework that allows you to write test cases using Python. You can use it to test things like Python functions, database operations, or even things like service APIs - essentially anything that has inputs and expected outputs.</p>\n<blockquote class=\"tip\" style=\"border: 2px solid #FFE19E; margin: 1em 0.2em\">\n<div class=\"box-title tip-title\" id=\"tip-what-about-unit-testing-in-other-languages\"><button class=\"gtn-boxify-button tip\" type=\"button\" aria-controls=\"tip-what-about-unit-testing-in-other-languages\" aria-expanded=\"true\"><i class=\"far fa-lightbulb\" aria-hidden=\"true\" ></i> Tip: What About Unit Testing in Other Languages?<span class=\"fold-unfold fa fa-minus-square\"></span></button></div>\n<p>Other unit testing frameworks exist for Python, including Nose and pyunit, and the approach to unit testing can be translated to other languages as well, e.g. FRUIT for Fortran, JUnit for Java (the original unit testing framework), Catch for C++, etc.</p>\n</blockquote>\n<h3 id=\"what-about-testing-for-errors\">What About Testing for Errors?</h3>\n<p>There are some cases where seeing an error is actually the correct behaviour, and Python allows us to test for exceptions. Add this test in <code style=\"color: inherit\">tests/test_models.py</code>:</p>\n",
      "cell_type": "markdown",
      "metadata": {
        "editable": false,
        "collapsed": false
      }
    },
    {
      "id": "cell-13",
      "source": [
        "import unittest\n",
        "\n",
        "class ExpectedFailureCase(unittest.TestCase):\n",
        "\n",
        "    @unittest.expectedFailure\n",
        "    def test_bad_input():\n",
        "        from main import rle_decode\n",
        "\n",
        "        # invalid input, we expect pairs of symbols and numbers.\n",
        "        rle_decode(\"a1b\")"
      ],
      "cell_type": "code",
      "execution_count": null,
      "outputs": [

      ],
      "metadata": {
        "attributes": {
          "classes": [
            "> <comment-title></comment-title>"
          ],
          "id": ""
        }
      }
    },
    {
      "id": "cell-14",
      "source": "<p>Run all your tests as before.</p>\n<blockquote class=\"tip\" style=\"border: 2px solid #FFE19E; margin: 1em 0.2em\">\n<div class=\"box-title tip-title\" id=\"tip-why-should-we-test-invalid-input-data\"><button class=\"gtn-boxify-button tip\" type=\"button\" aria-controls=\"tip-why-should-we-test-invalid-input-data\" aria-expanded=\"true\"><i class=\"far fa-lightbulb\" aria-hidden=\"true\" ></i> Tip: Why Should We Test Invalid Input Data?<span class=\"fold-unfold fa fa-minus-square\"></span></button></div>\n<p>Testing the behaviour of inputs, both valid and invalid, is a really good idea and is known as <em>data validation</em>. Even if you are developing command line software that cannot be exploited by malicious data entry, testing behaviour against invalid inputs prevents generation of erroneous results that could lead to serious misinterpretation (as well as saving time and compute cycles which may be expensive for longer-running applications). It is generally best not to assume your user’s inputs will always be rational.</p>\n</blockquote>\n<h3 id=\"testing-frameworks\">Testing Frameworks</h3>\n<p>There are many, many testing frameworks for Python that solve similar problems. Look around and see what fits well with your project!</p>\n<ul>\n<li><a href=\"https://docs.python.org/3/library/unittest.html\">unittest</a> is built into Python’s stdlib.</li>\n<li><a href=\"https://docs.pytest.org/en/7.1.x/\">pytest</a> is a heavily recommended framework.</li>\n<li><a href=\"https://nose.readthedocs.io/en/latest/\">nose</a> is an alternative to pytest that does many of the same things.</li>\n<li><a href=\"https://hypothesis.readthedocs.io/en/latest/index.html\">hypothesis</a> does property testing, the author’s favourite.</li>\n<li><a href=\"https://docs.python.org/3/library/doctest.html\">doctest</a> tests examples written directly in the documentation, which keeps test cases close to functions.</li>\n</ul>\n",
      "cell_type": "markdown",
      "metadata": {
        "editable": false,
        "collapsed": false
      }
    },
    {
      "cell_type": "markdown",
      "id": "final-ending-cell",
      "metadata": {
        "editable": false,
        "collapsed": false
      },
      "source": [
        "# Key Points\n\n",
        "- The three main types of automated tests are **unit tests**, **functional tests** and **regression tests**.\n",
        "- We can write unit tests to verify that functions generate expected output given a set of specific inputs.\n",
        "- It should be easy to add or change tests, understand and run them, and understand their results.\n",
        "- We can use a unit testing framework like `unittest` to structure and simplify the writing of tests.\n",
        "- We should test for expected errors in our code.\n",
        "- Testing program behaviour against both valid and invalid inputs is important and is known as **data validation**.\n",
        "\n# Congratulations on successfully completing this tutorial!\n\n",
        "Please [fill out the feedback on the GTN website](https://training.galaxyproject.org/training-material/topics/data-science/tutorials/python-testing/tutorial.html#feedback) and check there for further resources!\n"
      ]
    }
  ]
}