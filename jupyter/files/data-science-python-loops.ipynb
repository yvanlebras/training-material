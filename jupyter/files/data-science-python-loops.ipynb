{
  "metadata": {
  },
  "nbformat": 4,
  "nbformat_minor": 5,
  "cells": [
    {
      "id": "metadata",
      "cell_type": "markdown",
      "source": "<div style=\"border: 2px solid #8A9AD0; margin: 1em 0.2em; padding: 0.5em;\">\n\n# Python - Loops\n\nby [The Carpentries](https://training.galaxyproject.org/hall-of-fame/carpentries/), [Helena Rasche](https://training.galaxyproject.org/hall-of-fame/hexylena/), [Donny Vrins](https://training.galaxyproject.org/hall-of-fame/dirowa/), [Bazante Sanders](https://training.galaxyproject.org/hall-of-fame/bazante1/)\n\nCC-BY licensed content from the [Galaxy Training Network](https://training.galaxyproject.org/)\n\n**Objectives**\n\n- How can I make a program do many things?\n\n**Objectives**\n\n- Explain what for loops are normally used for.\n- Trace the execution of a simple (unnested) loop and correctly state the values of variables in each iteration.\n- Write for loops that use the Accumulator pattern to aggregate values.\n\n**Time Estimation: 40M**\n</div>\n",
      "metadata": {
        "editable": false,
        "collapsed": false
      }
    },
    {
      "id": "cell-0",
      "source": "<p>A <em>for loop</em> tells Python to execute some statements once for each value in a list, a character string, or some other collection: “for each thing in this group, do these operations”</p>\n<blockquote class=\"comment\" style=\"border: 2px solid #ffecc1; margin: 1em 0.2em\">\n<div class=\"box-title comment-title\" id=\"comment\"><i class=\"far fa-comment-dots\" aria-hidden=\"true\" ></i> Comment</div>\n<p>This tutorial is <strong>significantly</strong> based on <a href=\"https://carpentries.org\">the Carpentries</a> <a href=\"https://swcarpentry.github.io/python-novice-inflammation/\">Programming with Python</a>, <a href=\"https://swcarpentry.github.io/python-novice-inflammation/\">Programming with Python</a>, and <a href=\"https://swcarpentry.github.io/python-novice-gapminder/\">Plotting and Programming in Python</a>, which are licensed CC-BY 4.0.</p>\n<p>Adaptations have been made to make this work better in a GTN/Galaxy environment.</p>\n</blockquote>\n<blockquote class=\"agenda\" style=\"border: 2px solid #86D486;display: none; margin: 1em 0.2em\">\n<div class=\"box-title agenda-title\" id=\"agenda\">Agenda</div>\n<p>In this tutorial, we will cover:</p>\n<ol id=\"markdown-toc\">\n<li><a href=\"#for-loops\" id=\"markdown-toc-for-loops\">For Loops</a>    <ol>\n<li><a href=\"#structure\" id=\"markdown-toc-structure\">Structure</a></li>\n<li><a href=\"#a-for-loop-is-made-up-of-a-collection-a-loop-variable-and-a-body\" id=\"markdown-toc-a-for-loop-is-made-up-of-a-collection-a-loop-variable-and-a-body\">A <code style=\"color: inherit\">for</code> loop is made up of a collection, a loop variable, and a body.</a></li>\n</ol>\n</li>\n</ol>\n</blockquote>\n<h1 id=\"for-loops\">For Loops</h1>\n<p>Which of these would you rather write</p>\n<blockquote class=\"code-2col\">\n<blockquote class=\"code-in\" style=\"border: 2px solid #86D486; margin: 1em 0.2em\">\n<div class=\"box-title code-in-title\" id=\"code-in-manually\"><i class=\"far fa-keyboard\" aria-hidden=\"true\" ></i> Input: Manually</div>\n<div class=\"language-plaintext highlighter-rouge\"><div><pre style=\"color: inherit; background: transparent\"><code style=\"color: inherit\">print(2)\nprint(3)\nprint(5)\nprint(7)\nprint(11)\n</code></pre></div>    </div>\n</blockquote>\n<blockquote class=\"code-out\" style=\"border: 2px solid #fb99d0; margin: 1em 0.2em\">\n<div class=\"box-title code-out-title\" id=\"code-out-with-loops\"><i class=\"fas fa-laptop-code\" aria-hidden=\"true\" ></i> Output: With Loops</div>\n<div class=\"language-plaintext highlighter-rouge\"><div><pre style=\"color: inherit; background: transparent\"><code style=\"color: inherit\">for number in [2, 3, 5, 7, 11]:\n    print(number)\n</code></pre></div>    </div>\n</blockquote>\n</blockquote>\n<p>It may be less clear here, since you just need to do one operation (<code class=\"language-plaintext highlighter-rouge\">print</code>) but if you had to do two operations, three, more?</p>\n<h2 id=\"structure\">Structure</h2>\n<h2 id=\"a-for-loop-is-made-up-of-a-collection-a-loop-variable-and-a-body\">A <code style=\"color: inherit\">for</code> loop is made up of a collection, a loop variable, and a body.</h2>\n",
      "cell_type": "markdown",
      "metadata": {
        "editable": false,
        "collapsed": false
      }
    },
    {
      "id": "cell-1",
      "source": [
        "for number in [2, 3, 5]:\n",
        "    doubled = number * 2\n",
        "    print(f\"{number} doubled is {doubled}\")"
      ],
      "cell_type": "code",
      "execution_count": null,
      "outputs": [

      ],
      "metadata": {
        "attributes": {
          "classes": [
            "> <comment-title></comment-title>"
          ],
          "id": ""
        }
      }
    },
    {
      "id": "cell-2",
      "source": "<ul>\n<li><code style=\"color: inherit\">number</code> - this is the loop variable. It’s a new variable, that’s assigned to the values from the collection. It does not need to be defined before the loop.</li>\n<li>the collection, <code style=\"color: inherit\">[2, 3, 5]</code> is a <code style=\"color: inherit\">list</code> of numbers which we can tell from the square brackets used: <code style=\"color: inherit\">[</code>, <code style=\"color: inherit\">]</code></li>\n<li>the loop body, where we double a number and the print out a message. The loop body is what gets executed for every iteration of the loop.</li>\n</ul>\n<blockquote class=\"code-2col\">\n<blockquote class=\"code-in\" style=\"border: 2px solid #86D486; margin: 1em 0.2em\">\n<div class=\"box-title code-in-title\" id=\"code-in-the-loop\"><i class=\"far fa-keyboard\" aria-hidden=\"true\" ></i> Input: The loop</div>\n<div class=\"language-plaintext highlighter-rouge\"><div><pre style=\"color: inherit; background: transparent\"><code style=\"color: inherit\">for number in [2, 3, 5]:\n    doubled = number * 2\n    print(f\"{number} doubled is {doubled}\")\n</code></pre></div>    </div>\n</blockquote>\n<blockquote class=\"code-out\" style=\"border: 2px solid #fb99d0; margin: 1em 0.2em\">\n<div class=\"box-title code-out-title\" id=\"code-out-what-s-really-happening-internally\"><i class=\"fas fa-laptop-code\" aria-hidden=\"true\" ></i> Output: What's really happening internally</div>\n<div class=\"language-plaintext highlighter-rouge\"><div><pre style=\"color: inherit; background: transparent\"><code style=\"color: inherit\"># First iteration, number = 2\ndoubled = number * 2\nprint(f\"{number} doubled is {doubled}\")\n# Second iteration, number = 3\ndoubled = number * 3\nprint(f\"{number} doubled is {doubled}\")\n# Third iteration, number = 5\ndoubled = number * 5\nprint(f\"{number} doubled is {doubled}\")\n</code></pre></div>    </div>\n</blockquote>\n</blockquote>\n<p>Writing loops saves us time and makes sure our code is accurate, that we don’t accidentally introduce a typo somewhere in the loop body.</p>\n<h2 id=\"things-you-can-loop-over\">Things You Can Loop Over</h2>\n<p>You can loop over characters in a string</p>\n",
      "cell_type": "markdown",
      "metadata": {
        "editable": false,
        "collapsed": false
      }
    },
    {
      "id": "cell-3",
      "source": [
        "dna_string = 'ACTGGTCATCG'\n",
        "for base in dna_string:\n",
        "    print(base)"
      ],
      "cell_type": "code",
      "execution_count": null,
      "outputs": [

      ],
      "metadata": {
        "attributes": {
          "classes": [
            "> <comment-title></comment-title>"
          ],
          "id": ""
        }
      }
    },
    {
      "id": "cell-4",
      "source": "<p>You can loop over lists:</p>\n",
      "cell_type": "markdown",
      "metadata": {
        "editable": false,
        "collapsed": false
      }
    },
    {
      "id": "cell-5",
      "source": [
        "cast = ['Elphaba', 'Glinda', 'Fiyero', 'Nessarose']\n",
        "for character in cast:\n",
        "    print(character)"
      ],
      "cell_type": "code",
      "execution_count": null,
      "outputs": [

      ],
      "metadata": {
        "attributes": {
          "classes": [
            "> <comment-title></comment-title>"
          ],
          "id": ""
        }
      }
    },
    {
      "id": "cell-6",
      "source": "<h2 id=\"indentation\">Indentation</h2>\n<p>The first line of the <code style=\"color: inherit\">for</code> loop must end with a colon, and the body must be indented with <em>four spaces</em>. Many editors do this automatically for you and even convert <kbd>Tab</kbd>s into 4 spaces.</p>\n<blockquote class=\"tip\" style=\"border: 2px solid #FFE19E; margin: 1em 0.2em\">\n<div class=\"box-title tip-title\" id=\"tip-blocks-in-python\"><button class=\"gtn-boxify-button tip\" type=\"button\" aria-controls=\"tip-blocks-in-python\" aria-expanded=\"true\"><i class=\"far fa-lightbulb\" aria-hidden=\"true\" ></i> Tip: Blocks in Python<span class=\"fold-unfold fa fa-minus-square\"></span></button></div>\n<p>The colon at the end of the first line signals the start of a <em>block</em> of statements.</p>\n<div class=\"language-plaintext highlighter-rouge\"><div><pre style=\"color: inherit; background: transparent\"><code style=\"color: inherit\">for x in y:\n    print(x)\n</code></pre></div>  </div>\n<p>or</p>\n<div class=\"language-plaintext highlighter-rouge\"><div><pre style=\"color: inherit; background: transparent\"><code style=\"color: inherit\">if x &gt; 10:\n    print(x)\n</code></pre></div>  </div>\n<p>or even further nesting is possible:</p>\n<div class=\"language-plaintext highlighter-rouge\"><div><pre style=\"color: inherit; background: transparent\"><code style=\"color: inherit\">for x in y:\n    if x &gt; 10:\n        print(x)\n</code></pre></div>  </div>\n</blockquote>\n<p>The indentation is in fact, quite necessary. Notice how this fails:</p>\n",
      "cell_type": "markdown",
      "metadata": {
        "editable": false,
        "collapsed": false
      }
    },
    {
      "id": "cell-7",
      "source": [
        "#Fix me!\n",
        "for number in [2, 3, 5]:\n",
        "print(number)"
      ],
      "cell_type": "code",
      "execution_count": null,
      "outputs": [

      ],
      "metadata": {
        "attributes": {
          "classes": [
            "> <comment-title></comment-title>"
          ],
          "id": ""
        }
      }
    },
    {
      "id": "cell-8",
      "source": "<p>And, likewise, this:</p>\n",
      "cell_type": "markdown",
      "metadata": {
        "editable": false,
        "collapsed": false
      }
    },
    {
      "id": "cell-9",
      "source": [
        "patient1 = \"z2910\"\n",
        "  patient2 = \"y9583\""
      ],
      "cell_type": "code",
      "execution_count": null,
      "outputs": [

      ],
      "metadata": {
        "attributes": {
          "classes": [
            "> <comment-title></comment-title>"
          ],
          "id": ""
        }
      }
    },
    {
      "id": "cell-10",
      "source": "<h2 id=\"variable-naming\">Variable Naming</h2>\n<p>Loop variables can be called anything, <code style=\"color: inherit\">i</code>, <code style=\"color: inherit\">j</code>, and <code style=\"color: inherit\">k</code> are very commong defaults due to their long history of use in other programing languages.\nAs with all variables, loop variables are: Created on demand, and Meaningless; their names can be anything at all.</p>\n",
      "cell_type": "markdown",
      "metadata": {
        "editable": false,
        "collapsed": false
      }
    },
    {
      "id": "cell-11",
      "source": [
        "for kitten in [2, 3, 5]:\n",
        "    print(kitten)"
      ],
      "cell_type": "code",
      "execution_count": null,
      "outputs": [

      ],
      "metadata": {
        "attributes": {
          "classes": [
            "> <comment-title></comment-title>"
          ],
          "id": ""
        }
      }
    },
    {
      "id": "cell-12",
      "source": "<p>But <em>meaningless</em> is bad for variable names, and whenever possible, we should strive to pick useful, accurate variable names that help use remember what’s going on:</p>\n<div class=\"language-plaintext highlighter-rouge\"><div><pre style=\"color: inherit; background: transparent\"><code style=\"color: inherit\">for sequence in sequences:\n    print()\nfor patient in clinic_patients:\n    print()\nfor nucleotide in dna_sequence:\n    print()\n</code></pre></div></div>\n<h2 id=\"range\">Range</h2>\n<p>You can use <code style=\"color: inherit\">range</code> to iterate over a sequence of numbers. This is a built in function (check <code style=\"color: inherit\">help(range)</code>!) so it’s always available even if you don’t <code style=\"color: inherit\">import</code> anything. The range produced is non-inclusive: <code style=\"color: inherit\">range(N)</code> is the numbers <code style=\"color: inherit\">0</code> to <code style=\"color: inherit\">N-1</code>, so the result will be exactly the length you requested.</p>\n",
      "cell_type": "markdown",
      "metadata": {
        "editable": false,
        "collapsed": false
      }
    },
    {
      "id": "cell-13",
      "source": [
        "for number in range(10):\n",
        "    print(number)"
      ],
      "cell_type": "code",
      "execution_count": null,
      "outputs": [

      ],
      "metadata": {
        "attributes": {
          "classes": [
            "> <comment-title></comment-title>"
          ],
          "id": ""
        }
      }
    },
    {
      "id": "cell-14",
      "source": "<blockquote class=\"tip\" style=\"border: 2px solid #FFE19E; margin: 1em 0.2em\">\n<div class=\"box-title tip-title\" id=\"tip-iterables-can-be-weird\"><button class=\"gtn-boxify-button tip\" type=\"button\" aria-controls=\"tip-iterables-can-be-weird\" aria-expanded=\"true\"><i class=\"far fa-lightbulb\" aria-hidden=\"true\" ></i> Tip: Iterables can be weird<span class=\"fold-unfold fa fa-minus-square\"></span></button></div>\n<p>In python <code style=\"color: inherit\">range</code> is a special type of iterable: none of the numbers are created until we need them.</p>\n<div class=\"language-plaintext highlighter-rouge\"><div><pre style=\"color: inherit; background: transparent\"><code style=\"color: inherit\">print(range(5))\nprint(range(-3, 8)[0:4])\n</code></pre></div>  </div>\n<p>The easiest way to see what numbers are actually in there is to convert it to a <code style=\"color: inherit\">list</code>:</p>\n<div class=\"language-plaintext highlighter-rouge\"><div><pre style=\"color: inherit; background: transparent\"><code style=\"color: inherit\">print(list(range(5)))\nprint(list(range(-3, 8)))\nprint(list(range(0, 10, 2)))\n</code></pre></div>  </div>\n</blockquote>\n<h2 id=\"accumulation\">Accumulation</h2>\n<p>In programming you’ll often want to accumulate some values: counting things (or “accumulating”). The pattern consists of creating a variable to store your result, running a loop over some data, and in that loop, adding to the variable for your result.</p>\n",
      "cell_type": "markdown",
      "metadata": {
        "editable": false,
        "collapsed": false
      }
    },
    {
      "id": "cell-15",
      "source": [
        "# Sum the first 10 integers.\n",
        "total = 0\n",
        "for number in range(1, 11):\n",
        "    total = total + (number)\n",
        "print(f\" final: {{ total }}\")"
      ],
      "cell_type": "code",
      "execution_count": null,
      "outputs": [

      ],
      "metadata": {
        "attributes": {
          "classes": [
            "> <comment-title></comment-title>"
          ],
          "id": ""
        }
      }
    },
    {
      "id": "cell-16",
      "source": "<p>But how did we get that result? We can add some “debugging” lines to the above code to figure out how we got to that result. Try adding the following line in the above loop</p>\n<div class=\"language-plaintext highlighter-rouge\"><div><pre style=\"color: inherit; background: transparent\"><code style=\"color: inherit\">print(f'Currently {number}, our total is {total}')\n</code></pre></div></div>\n<p>You can add it before you update <code style=\"color: inherit\">total</code>, after it, or both! Compare the outputs to understand what’s happening on each line.</p>\n<blockquote class=\"tip\" style=\"border: 2px solid #FFE19E; margin: 1em 0.2em\">\n<div class=\"box-title tip-title\" id=\"tip-controlling-your-loop\"><button class=\"gtn-boxify-button tip\" type=\"button\" aria-controls=\"tip-controlling-your-loop\" aria-expanded=\"true\"><i class=\"far fa-lightbulb\" aria-hidden=\"true\" ></i> Tip: Controlling your loop!<span class=\"fold-unfold fa fa-minus-square\"></span></button></div>\n<p>There are multiple ways to efficiently control your loop if you need it.\nthese are the inbuilt python functions: continue &amp; break</p>\n<p>when python encounters <em>continue</em> in your loop it will stop working and goes to the next iteration of the loop.</p>\n<div class=\"language-plaintext highlighter-rouge\"><div><pre style=\"color: inherit; background: transparent\"><code style=\"color: inherit\">for letter in 'Galaxy':\n    if letter == 'l':\n        continue\n    print(f'The letters are: {letter}')\n</code></pre></div>  </div>\n<p>with <em>break</em> python stops the loop and continues with the next part of the code like nothing happened</p>\n<div class=\"language-plaintext highlighter-rouge\"><div><pre style=\"color: inherit; background: transparent\"><code style=\"color: inherit\">for letter in 'Galaxy':\n    if letter == 'l':\n        break\n    print(f'The letters are: {letter}')\nprint('Done')\n</code></pre></div>  </div>\n</blockquote>\n",
      "cell_type": "markdown",
      "metadata": {
        "editable": false,
        "collapsed": false
      }
    },
    {
      "id": "cell-17",
      "source": [
        "# Test break and continue here"
      ],
      "cell_type": "code",
      "execution_count": null,
      "outputs": [

      ],
      "metadata": {
        "attributes": {
          "classes": [
            "> <comment-title></comment-title>"
          ],
          "id": ""
        }
      }
    },
    {
      "id": "cell-18",
      "source": "<h2 id=\"exercises\">Exercises</h2>\n<blockquote class=\"question\" style=\"border: 2px solid #8A9AD0; margin: 1em 0.2em\">\n<div class=\"box-title question-title\" id=\"question-tracing-execution\"><i class=\"far fa-question-circle\" aria-hidden=\"true\" ></i> Question: Tracing Execution</div>\n<p>Create a table showing the numbers of the lines that are executed when this program runs,\nand the values of the variables after each line is executed.</p>\n<div class=\"language-plaintext highlighter-rouge\"><div><pre style=\"color: inherit; background: transparent\"><code style=\"color: inherit\">total = 0\nfor char in \"tin\":\n    total = total + 1\n</code></pre></div>  </div>\n<br/><details style=\"border: 2px solid #B8C3EA; margin: 1em 0.2em;padding: 0.5em; cursor: pointer;\"><summary>👁 View solution</summary>\n<div class=\"box-title solution-title\" id=\"solution\"><button class=\"gtn-boxify-button solution\" type=\"button\" aria-controls=\"solution\" aria-expanded=\"true\"><i class=\"far fa-eye\" aria-hidden=\"true\" ></i> Solution<span class=\"fold-unfold fa fa-minus-square\"></span></button></div>\n<table>\n<thead>\n<tr>\n<th>Line</th>\n<th>Variables</th>\n</tr>\n</thead>\n<tbody>\n<tr>\n<td>1</td>\n<td>total = 0</td>\n</tr>\n<tr>\n<td>2</td>\n<td>total = 0 char = ‘t’</td>\n</tr>\n<tr>\n<td>3</td>\n<td>total = 1 char = ‘t’</td>\n</tr>\n<tr>\n<td>2</td>\n<td>total = 1 char = ‘i’</td>\n</tr>\n<tr>\n<td>3</td>\n<td>total = 2 char = ‘i’</td>\n</tr>\n<tr>\n<td>2</td>\n<td>total = 2 char = ‘n’</td>\n</tr>\n<tr>\n<td>3</td>\n<td>total = 3 char = ‘n’</td>\n</tr>\n</tbody>\n</table>\n</details>\n</blockquote>\n",
      "cell_type": "markdown",
      "metadata": {
        "editable": false,
        "collapsed": false
      }
    },
    {
      "id": "cell-19",
      "source": [
        "#Test your code here!"
      ],
      "cell_type": "code",
      "execution_count": null,
      "outputs": [

      ],
      "metadata": {
        "attributes": {
          "classes": [
            "> <comment-title></comment-title>"
          ],
          "id": ""
        }
      }
    },
    {
      "id": "cell-20",
      "source": "<blockquote class=\"question\" style=\"border: 2px solid #8A9AD0; margin: 1em 0.2em\">\n<div class=\"box-title question-title\" id=\"question-reversing-a-string\"><i class=\"far fa-question-circle\" aria-hidden=\"true\" ></i> Question: Reversing a String</div>\n<p>Fill in the blanks in the program below so that it prints “stressed”\n(the reverse of the original character string “desserts”).</p>\n<div class=\"language-plaintext highlighter-rouge\"><div><pre style=\"color: inherit; background: transparent\"><code style=\"color: inherit\">original = \"stressed\"\nresult = ____\nfor char in original:\n    result = ____\nprint(result)\n</code></pre></div>  </div>\n<br/><details style=\"border: 2px solid #B8C3EA; margin: 1em 0.2em;padding: 0.5em; cursor: pointer;\"><summary>👁 View solution</summary>\n<div class=\"box-title solution-title\" id=\"solution-1\"><button class=\"gtn-boxify-button solution\" type=\"button\" aria-controls=\"solution-1\" aria-expanded=\"true\"><i class=\"far fa-eye\" aria-hidden=\"true\" ></i> Solution<span class=\"fold-unfold fa fa-minus-square\"></span></button></div>\n<div class=\"language-plaintext highlighter-rouge\"><div><pre style=\"color: inherit; background: transparent\"><code style=\"color: inherit\">original = \"stressed\"\nresult = \"\"\nfor char in original:\n    result = char + result\nprint(result)\n</code></pre></div>    </div>\n</details>\n</blockquote>\n",
      "cell_type": "markdown",
      "metadata": {
        "editable": false,
        "collapsed": false
      }
    },
    {
      "id": "cell-21",
      "source": [
        "# Test your code here!\n",
        "original = \"stressed\"\n",
        "result = ____\n",
        "for char in original:\n",
        "    result = ____\n",
        "print(result)"
      ],
      "cell_type": "code",
      "execution_count": null,
      "outputs": [

      ],
      "metadata": {
        "attributes": {
          "classes": [
            "> <comment-title></comment-title>"
          ],
          "id": ""
        }
      }
    },
    {
      "id": "cell-22",
      "source": "<blockquote class=\"question\" style=\"border: 2px solid #8A9AD0; margin: 1em 0.2em\">\n<div class=\"box-title question-title\" id=\"question-practice-accumulating\"><i class=\"far fa-question-circle\" aria-hidden=\"true\" ></i> Question: Practice Accumulating</div>\n<p>Fill in the blanks in each of the programs below\nto produce the indicated result.</p>\n<div class=\"language-plaintext highlighter-rouge\"><div><pre style=\"color: inherit; background: transparent\"><code style=\"color: inherit\"># Total length of the strings in the list: [\"red\", \"green\", \"blue\"] =&gt; 12\ntotal = 0\nfor word in [\"red\", \"green\", \"blue\"]:\n    ____ = ____ + len(word)\nprint(total)\n</code></pre></div>  </div>\n<br/><details style=\"border: 2px solid #B8C3EA; margin: 1em 0.2em;padding: 0.5em; cursor: pointer;\"><summary>👁 View solution</summary>\n<div class=\"box-title solution-title\" id=\"solution-2\"><button class=\"gtn-boxify-button solution\" type=\"button\" aria-controls=\"solution-2\" aria-expanded=\"true\"><i class=\"far fa-eye\" aria-hidden=\"true\" ></i> Solution<span class=\"fold-unfold fa fa-minus-square\"></span></button></div>\n<div class=\"language-plaintext highlighter-rouge\"><div><pre style=\"color: inherit; background: transparent\"><code style=\"color: inherit\">total = 0\nfor word in [\"red\", \"green\", \"blue\"]:\n    total = total + len(word)\nprint(total)\n</code></pre></div>    </div>\n</details>\n<div class=\"language-plaintext highlighter-rouge\"><div><pre style=\"color: inherit; background: transparent\"><code style=\"color: inherit\"># List of word lengths: [\"red\", \"green\", \"blue\"] =&gt; [3, 5, 4]\nlengths = ____\nfor word in [\"red\", \"green\", \"blue\"]:\n    lengths.____(____)\nprint(lengths)\n</code></pre></div>  </div>\n<br/><details style=\"border: 2px solid #B8C3EA; margin: 1em 0.2em;padding: 0.5em; cursor: pointer;\"><summary>👁 View solution</summary>\n<div class=\"box-title solution-title\" id=\"solution-3\"><button class=\"gtn-boxify-button solution\" type=\"button\" aria-controls=\"solution-3\" aria-expanded=\"true\"><i class=\"far fa-eye\" aria-hidden=\"true\" ></i> Solution<span class=\"fold-unfold fa fa-minus-square\"></span></button></div>\n<div class=\"language-plaintext highlighter-rouge\"><div><pre style=\"color: inherit; background: transparent\"><code style=\"color: inherit\">lengths = []\nfor word in [\"red\", \"green\", \"blue\"]:\n    lengths.append(len(word))\nprint(lengths)\n</code></pre></div>    </div>\n</blockquote>\n<div class=\"language-plaintext highlighter-rouge\"><div><pre style=\"color: inherit; background: transparent\"><code style=\"color: inherit\"># Concatenate all words: [\"red\", \"green\", \"blue\"] =&gt; \"redgreenblue\"\nwords = [\"red\", \"green\", \"blue\"]\nresult = ____\nfor ____ in ____:\n    ____\nprint(result)\n</code></pre></div>  </div>\n<br/><details style=\"border: 2px solid #B8C3EA; margin: 1em 0.2em;padding: 0.5em; cursor: pointer;\"><summary>👁 View solution</summary>\n<div class=\"box-title solution-title\" id=\"solution-4\"><button class=\"gtn-boxify-button solution\" type=\"button\" aria-controls=\"solution-4\" aria-expanded=\"true\"><i class=\"far fa-eye\" aria-hidden=\"true\" ></i> Solution<span class=\"fold-unfold fa fa-minus-square\"></span></button></div>\n<div class=\"language-plaintext highlighter-rouge\"><div><pre style=\"color: inherit; background: transparent\"><code style=\"color: inherit\">words = [\"red\", \"green\", \"blue\"]\nresult = \"\"\nfor word in words:\n    result = result + word\nprint(result)\n</code></pre></div>    </div>\n</blockquote>\n<p><strong>Create an acronym:</strong> Starting from the list <code style=\"color: inherit\">[\"red\", \"green\", \"blue\"]</code>, create the acronym <code style=\"color: inherit\">\"RGB\"</code> using\na for loop.</p>\n<p><strong>Hint:</strong> You may need to use a string method to properly format the acronym.</p>\n<br/><details style=\"border: 2px solid #B8C3EA; margin: 1em 0.2em;padding: 0.5em; cursor: pointer;\"><summary>👁 View solution</summary>\n<div class=\"box-title solution-title\" id=\"solution-5\"><button class=\"gtn-boxify-button solution\" type=\"button\" aria-controls=\"solution-5\" aria-expanded=\"true\"><i class=\"far fa-eye\" aria-hidden=\"true\" ></i> Solution<span class=\"fold-unfold fa fa-minus-square\"></span></button></div>\n<div class=\"language-plaintext highlighter-rouge\"><div><pre style=\"color: inherit; background: transparent\"><code style=\"color: inherit\">acronym = \"\"\nfor word in [\"red\", \"green\", \"blue\"]:\n    acronym = acronym + word[0].upper()\nprint(acronym)\n</code></pre></div>    </div>\n</blockquote>\n</blockquote>\n",
      "cell_type": "markdown",
      "metadata": {
        "editable": false,
        "collapsed": false
      }
    },
    {
      "id": "cell-23",
      "source": [
        "#Test your code here!"
      ],
      "cell_type": "code",
      "execution_count": null,
      "outputs": [

      ],
      "metadata": {
        "attributes": {
          "classes": [
            "> <comment-title></comment-title>"
          ],
          "id": ""
        }
      }
    },
    {
      "id": "cell-24",
      "source": "<blockquote class=\"question\" style=\"border: 2px solid #8A9AD0; margin: 1em 0.2em\">\n<h2 id=\"cumulative-sum\">Cumulative Sum</h2>\n<p>Reorder and properly indent the lines of code below\nso that they print a list with the cumulative sum of data.\nThe result should be <code style=\"color: inherit\">[1, 3, 5, 10]</code>.</p>\n<div class=\"language-plaintext highlighter-rouge\"><div><pre style=\"color: inherit; background: transparent\"><code style=\"color: inherit\">cumulative.append(total)\nfor number in data:\ncumulative = []\ntotal += number\ntotal = 0\nprint(cumulative)\ndata = [1,2,2,5]\n</code></pre></div>  </div>\n<br/><details style=\"border: 2px solid #B8C3EA; margin: 1em 0.2em;padding: 0.5em; cursor: pointer;\"><summary>👁 View solution</summary>\n<div class=\"box-title solution-title\" id=\"solution-6\"><button class=\"gtn-boxify-button solution\" type=\"button\" aria-controls=\"solution-6\" aria-expanded=\"true\"><i class=\"far fa-eye\" aria-hidden=\"true\" ></i> Solution<span class=\"fold-unfold fa fa-minus-square\"></span></button></div>\n<div class=\"language-plaintext highlighter-rouge\"><div><pre style=\"color: inherit; background: transparent\"><code style=\"color: inherit\">total = 0\ndata = [1,2,2,5]\ncumulative = []\nfor number in data:\n    total += number\n    cumulative.append(total)\nprint(cumulative)\n</code></pre></div>    </div>\n</details>\n</blockquote>\n",
      "cell_type": "markdown",
      "metadata": {
        "editable": false,
        "collapsed": false
      }
    },
    {
      "id": "cell-25",
      "source": [
        "# Test your code here!"
      ],
      "cell_type": "code",
      "execution_count": null,
      "outputs": [

      ],
      "metadata": {
        "attributes": {
          "classes": [
            "> <comment-title></comment-title>"
          ],
          "id": ""
        }
      }
    },
    {
      "id": "cell-26",
      "source": "<blockquote class=\"question\" style=\"border: 2px solid #8A9AD0; margin: 1em 0.2em\">\n<div class=\"box-title question-title\" id=\"question-a-classic-programmer-test-fizz-buzz\"><i class=\"far fa-question-circle\" aria-hidden=\"true\" ></i> Question: A classic programmer test: Fizz Buzz</div>\n<p><a href=\"https://en.wikipedia.org/wiki/Fizz_buzz\">FizzBuzz</a> is a classic “test” question that is used in some job interviews to remove candidates who really do not understand programming. Your task is this:</p>\n<p>Write a for loop that loops over the numbers 1 to 50.</p>\n<ul>\n<li>If the number is divisible by 3, write Fizz instead of the number</li>\n<li>If the number is divisible by 5, write Buzz instead of the number</li>\n<li>If the number is divisible by 3 and 5 both, write FizzBuzz instead of the number</li>\n<li>Otherwise, write the number itself.</li>\n</ul>\n<br/><details style=\"border: 2px solid #B8C3EA; margin: 1em 0.2em;padding: 0.5em; cursor: pointer;\"><summary>👁 View solution</summary>\n<div class=\"box-title solution-title\" id=\"solution-7\"><button class=\"gtn-boxify-button solution\" type=\"button\" aria-controls=\"solution-7\" aria-expanded=\"true\"><i class=\"far fa-eye\" aria-hidden=\"true\" ></i> Solution<span class=\"fold-unfold fa fa-minus-square\"></span></button></div>\n<div class=\"language-plaintext highlighter-rouge\"><div><pre style=\"color: inherit; background: transparent\"><code style=\"color: inherit\">for i in range(1, 50):\n    if i % 3 == 0 and i % 5 == 0:\n        print(\"FizzBuzz\")\n    elif i % 3 == 0:\n        print(\"Fizz\")\n    elif i % 5 == 0:\n        print(\"Buzz\")\n    else:\n        print(i)\n</code></pre></div>    </div>\n</details>\n</blockquote>\n",
      "cell_type": "markdown",
      "metadata": {
        "editable": false,
        "collapsed": false
      }
    },
    {
      "id": "cell-27",
      "source": [
        "# Do a FizzBuzz"
      ],
      "cell_type": "code",
      "execution_count": null,
      "outputs": [

      ],
      "metadata": {
        "attributes": {
          "classes": [
            "> <comment-title></comment-title>"
          ],
          "id": ""
        }
      }
    },
    {
      "id": "cell-28",
      "source": "<blockquote class=\"question\" style=\"border: 2px solid #8A9AD0; margin: 1em 0.2em\">\n<div class=\"box-title question-title\" id=\"question-identifying-item-errors\"><i class=\"far fa-question-circle\" aria-hidden=\"true\" ></i> Question: Identifying Item Errors</div>\n<ol>\n<li>Read the code below and try to identify what the errors are\n<strong>without</strong> running it.</li>\n<li>Run the code, and read the error message. What type of error is it?</li>\n<li>Fix the error.</li>\n</ol>\n<div class=\"language-plaintext highlighter-rouge\"><div><pre style=\"color: inherit; background: transparent\"><code style=\"color: inherit\">seasons = ['Spring', 'Summer', 'Fall', 'Winter']\nprint(f'My favorite season is {seasons[4]}')\n</code></pre></div>  </div>\n<br/><details style=\"border: 2px solid #B8C3EA; margin: 1em 0.2em;padding: 0.5em; cursor: pointer;\"><summary>👁 View solution</summary>\n<div class=\"box-title solution-title\" id=\"solution-8\"><button class=\"gtn-boxify-button solution\" type=\"button\" aria-controls=\"solution-8\" aria-expanded=\"true\"><i class=\"far fa-eye\" aria-hidden=\"true\" ></i> Solution<span class=\"fold-unfold fa fa-minus-square\"></span></button></div>\n<p>This list has 4 elements and the index to access the last element in the list is <code style=\"color: inherit\">3</code>.</p>\n<div class=\"language-plaintext highlighter-rouge\"><div><pre style=\"color: inherit; background: transparent\"><code style=\"color: inherit\">seasons = ['Spring', 'Summer', 'Fall', 'Winter']\nprint(f'My favorite season is {seasons[3]}')\n</code></pre></div>    </div>\n</details>\n</blockquote>\n",
      "cell_type": "markdown",
      "metadata": {
        "editable": false,
        "collapsed": false
      }
    },
    {
      "id": "cell-29",
      "source": [
        "# Fix me!\n",
        "seasons = ['Spring', 'Summer', 'Fall', 'Winter']\n",
        "print(f'My favorite season is {seasons[4]}')"
      ],
      "cell_type": "code",
      "execution_count": null,
      "outputs": [

      ],
      "metadata": {
        "attributes": {
          "classes": [
            "> <comment-title></comment-title>"
          ],
          "id": ""
        }
      }
    },
    {
      "id": "cell-30",
      "source": "<blockquote class=\"question\" style=\"border: 2px solid #8A9AD0; margin: 1em 0.2em\">\n<div class=\"box-title question-title\" id=\"question-correct-the-errors\"><i class=\"far fa-question-circle\" aria-hidden=\"true\" ></i> Question: Correct the errors</div>\n<p>This code is completely missing indentation, it needs to be fixed. Can you make some guesses at how indented each line should be?</p>\n<div class=\"language-plaintext highlighter-rouge\"><div><pre style=\"color: inherit; background: transparent\"><code style=\"color: inherit\">data = [1, 3, 5, 9]\nacc = 0\nfor i in data:\nif i &lt; 4:\nacc = acc + i * 2\nelse:\nacc = acc + i\nprint(f'The value at {i} is {acc}')\nprint(f'The answer is {acc}')\n</code></pre></div>  </div>\n<br/><details style=\"border: 2px solid #B8C3EA; margin: 1em 0.2em;padding: 0.5em; cursor: pointer;\"><summary>👁 View solution</summary>\n<div class=\"box-title solution-title\" id=\"solution-9\"><button class=\"gtn-boxify-button solution\" type=\"button\" aria-controls=\"solution-9\" aria-expanded=\"true\"><i class=\"far fa-eye\" aria-hidden=\"true\" ></i> Solution<span class=\"fold-unfold fa fa-minus-square\"></span></button></div>\n<div class=\"language-plaintext highlighter-rouge\"><div><pre style=\"color: inherit; background: transparent\"><code style=\"color: inherit\">data = [1, 3, 5, 9]\nacc = 0\n# There is a : character at the end of this line, so you KNOW the next line\n# must be indented.\nfor i in data:\n    # Same here, another :\n    if i &lt; 4:\n        acc = acc + i * 2\n    # And again! Another :\n    else:\n        acc = acc + i\n# But what about these lines?\nprint(f'The value at {i} is {acc}')\nprint(f'The answer is {acc}')\n</code></pre></div>    </div>\n<p>Here this code is actually ambiguous, we don’t know how indented the two prints should be. This very synthetic example lacks good context, but there are three places it could be, with three different effects.</p>\n<p>There are two bits of knowledge we can use, however:</p>\n<ul>\n<li>the first print uses <code style=\"color: inherit\">i</code>, so it must be within the loop</li>\n<li>the second print cannot be indented more than the first print (Why? It would require a block like <code style=\"color: inherit\">for ... :</code> or <code style=\"color: inherit\">if .. :</code> to indent further.)</li>\n</ul>\n<p>The first option, no indentation, prints out the value once per loop, that seems good</p>\n<div class=\"language-plaintext highlighter-rouge\"><div><pre style=\"color: inherit; background: transparent\"><code style=\"color: inherit\">[...]\n    else:\n        acc = acc + i\n    print(f'The value at {i} is {acc}')\n</code></pre></div>    </div>\n<p>The second, prints out the value only during the else case, not otherwise.</p>\n<div class=\"language-plaintext highlighter-rouge\"><div><pre style=\"color: inherit; background: transparent\"><code style=\"color: inherit\">    else:\n        acc = acc + i\n        print(f'The value at {i} is {acc}')\n</code></pre></div>    </div>\n<p>So that’s probably wrong, and we should take the first option. That leaves two options for the final print, no indentation, or at the same level as our first print statement. We can guess that we probably want to print out the final result of the loop, and that it should not be indented.</p>\n<div class=\"language-plaintext highlighter-rouge\"><div><pre style=\"color: inherit; background: transparent\"><code style=\"color: inherit\">data = [1, 3, 5, 9]\nacc = 0\nfor i in data:\n    if i &lt; 4:\n        acc = acc + i * 2\n    else:\n        acc = acc + i\n    print(f'The value at {i} is {acc}')\nprint(f'The answer is {acc}')\n</code></pre></div>    </div>\n</details>\n</blockquote>\n",
      "cell_type": "markdown",
      "metadata": {
        "editable": false,
        "collapsed": false
      }
    },
    {
      "id": "cell-31",
      "source": [
        "# This code accidentally lost it's indentation! Can you fix it?\n",
        "data = [1, 3, 5, 9]\n",
        "acc = 0\n",
        "for i in data:\n",
        "if i < 4:\n",
        "acc = acc + i * 2\n",
        "else:\n",
        "acc = acc + i\n",
        "print(f'The value at {i} is {acc}')\n",
        "print(f'The answer is {acc}')"
      ],
      "cell_type": "code",
      "execution_count": null,
      "outputs": [

      ],
      "metadata": {
        "attributes": {
          "classes": [
            "> <comment-title></comment-title>"
          ],
          "id": ""
        }
      }
    },
    {
      "id": "cell-32",
      "source": "<blockquote class=\"question\" style=\"border: 2px solid #8A9AD0; margin: 1em 0.2em\">\n<div class=\"box-title question-title\" id=\"question-trimming-a-fastq-string\"><i class=\"far fa-question-circle\" aria-hidden=\"true\" ></i> Question: Trimming a FASTQ string</div>\n<p>Given a FASTQ string, and a list with quality scores, use <code style=\"color: inherit\">break</code> to print out just the good bit of DNA and it’s quality score.</p>\n<div class=\"language-plaintext highlighter-rouge\"><div><pre style=\"color: inherit; background: transparent\"><code style=\"color: inherit\"># We've got a Read\nread = \"\"\"\n@SEQ_ID\nGATTTGGGGTTCAAAGCAGTATCGATCAAATAGTAAATCCATTTGTTCAACTCACAGTTT\n+\n55CCF&gt;&gt;&gt;&gt;&gt;&gt;CCCCCCC65!''*((((***+))%%%++)(%%%%).1***-+*''))**\n\"\"\".strip().split('\\n')\n\ndef quality_to_percent(q):\n    return 100 * (1 - (10 ** (q / -10)))\n\nsequence = read[1]\nquality_scores = [ord(x) - 33 for x in read[3]]\n\nfor i in ... # TODO\n</code></pre></div>  </div>\n<br/><details style=\"border: 2px solid #B8C3EA; margin: 1em 0.2em;padding: 0.5em; cursor: pointer;\"><summary>👁 View solution</summary>\n<div class=\"box-title solution-title\" id=\"solution-hint-looping-over-two-variables\"><button class=\"gtn-boxify-button solution\" type=\"button\" aria-controls=\"solution-hint-looping-over-two-variables\" aria-expanded=\"true\"><i class=\"far fa-eye\" aria-hidden=\"true\" ></i> Solution: Hint: Looping over two variables<span class=\"fold-unfold fa fa-minus-square\"></span></button></div>\n<p>There are two ways to do this, one you might be able to guess, and one that might be new:</p>\n<ol>\n<li>Loop over a <code style=\"color: inherit\">range()</code> using <code style=\"color: inherit\">len(sequence)</code>. Since <code style=\"color: inherit\">len(sequence) == len(quality_scores)</code>, when we access the Nth position of either, they match up.</li>\n<li><code style=\"color: inherit\">zip(sequence, quality_scores)</code> will loop over both of these lists together. It produces a new list that looks like <code style=\"color: inherit\">[['G', 20], ['A', 20], ['T', 34]]</code>.</li>\n</ol>\n</details>\n<br/><details style=\"border: 2px solid #B8C3EA; margin: 1em 0.2em;padding: 0.5em; cursor: pointer;\"><summary>👁 View solution</summary>\n<div class=\"box-title solution-title\" id=\"solution-10\"><button class=\"gtn-boxify-button solution\" type=\"button\" aria-controls=\"solution-10\" aria-expanded=\"true\"><i class=\"far fa-eye\" aria-hidden=\"true\" ></i> Solution<span class=\"fold-unfold fa fa-minus-square\"></span></button></div>\n<p>The naïve solution is quite easy and readable:</p>\n<div class=\"language-plaintext highlighter-rouge\"><div><pre style=\"color: inherit; background: transparent\"><code style=\"color: inherit\">for i in range(len(sequence)):\n    if quality_scores[i] &lt; 15:\n        break\n    print(f'Base {i} = {sequence[i]} with {quality_to_percent(quality_scores[i])}% accuracy')\n</code></pre></div>    </div>\n<p>But we can make this a bit prettier using the <code style=\"color: inherit\">zip()</code> function:</p>\n<div class=\"language-plaintext highlighter-rouge\"><div><pre style=\"color: inherit; background: transparent\"><code style=\"color: inherit\">for base, score in zip(sequence, quality_scores):\n    if score &lt; 15:\n        break\n    print(f'Base = {base} with {quality_to_percent(score)}% accuracy')\n</code></pre></div>    </div>\n<p>But note that we don’t have the position in the list anymore, so we remove it from the print statement.</p>\n</blockquote>\n</blockquote>\n",
      "cell_type": "markdown",
      "metadata": {
        "editable": false,
        "collapsed": false
      }
    },
    {
      "id": "cell-33",
      "source": [
        "# We've got a Read\n",
        "read = \"\"\"\n",
        "@SEQ_ID\n",
        "GATTTGGGGTTCAAAGCAGTATCGATCAAATAGTAAATCCATTTGTTCAACTCACAGTTT\n",
        "+\n",
        "55CCF>>>>>>CCCCCCC65!''*((((***+))%%%++)(%%%%).1***-+*''))**\n",
        "\"\"\".strip().split('\\n')\n",
        "\n",
        "def quality_to_percent(q):\n",
        "    return 100 * (1 - (10 ** (q / -10)))\n",
        "\n",
        "# Extract the sequence\n",
        "sequence = read[1]\n",
        "# And the quality scores, and map those to the correct values.\n",
        "quality_scores = [ord(x) - 33 for x in read[3]]\n",
        "\n",
        "# Write something here\n",
        "# That loops over BOTH the sequence and Quality Scores.\n",
        "# And prints them out\n",
        "# If the quality scores are `<15`, then break and quit printing.\n",
        "for i in ..."
      ],
      "cell_type": "code",
      "execution_count": null,
      "outputs": [

      ],
      "metadata": {
        "attributes": {
          "classes": [
            "> <comment-title></comment-title>"
          ],
          "id": ""
        }
      }
    },
    {
      "id": "cell-34",
      "source": "\n",
      "cell_type": "markdown",
      "metadata": {
        "editable": false,
        "collapsed": false
      }
    },
    {
      "cell_type": "markdown",
      "id": "final-ending-cell",
      "metadata": {
        "editable": false,
        "collapsed": false
      },
      "source": [
        "# Key Points\n\n",
        "- A *for loop* executes commands once for each value in a collection.\n",
        "- A `for` loop is made up of a collection, a loop variable, and a body.\n",
        "- The first line of the `for` loop must end with a colon, and the body must be indented.\n",
        "- Indentation is always meaningful in Python.\n",
        "- Loop variables can be called anything (but it is strongly advised to have a meaningful name to the looping variable).\n",
        "- The body of a loop can contain many statements.\n",
        "- Use `range` to iterate over a sequence of numbers.\n",
        "- The Accumulator pattern turns many values into one.\n",
        "\n# Congratulations on successfully completing this tutorial!\n\n",
        "Please [fill out the feedback on the GTN website](https://training.galaxyproject.org/training-material/topics/data-science/tutorials/python-loops/tutorial.html#feedback) and check there for further resources!\n"
      ]
    }
  ]
}