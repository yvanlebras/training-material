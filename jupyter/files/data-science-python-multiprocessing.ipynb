{
  "metadata": {
  },
  "nbformat": 4,
  "nbformat_minor": 5,
  "cells": [
    {
      "id": "metadata",
      "cell_type": "markdown",
      "source": "<div style=\"border: 2px solid #8A9AD0; margin: 1em 0.2em; padding: 0.5em;\">\n\n# Python - Multiprocessing\n\nby [Helena Rasche](https://training.galaxyproject.org/hall-of-fame/hexylena/)\n\nCC-BY licensed content from the [Galaxy Training Network](https://training.galaxyproject.org/)\n\n**Objectives**\n\n- How can I parallelize code to make it run faster\n- What code is, or is not, a prime target for parallelisation\n\n**Objectives**\n\n- Understanding how to paralellise code to make it run faster.\n- Identifying how to decompose code into a parallel unit.\n\n**Time Estimation: 30M**\n</div>\n",
      "metadata": {
        "editable": false,
        "collapsed": false
      }
    },
    {
      "id": "cell-0",
      "source": "<blockquote class=\"agenda\" style=\"border: 2px solid #86D486;display: none; margin: 1em 0.2em\">\n<div class=\"box-title agenda-title\" id=\"agenda\">Agenda</div>\n<p>In this tutorial, we will cover:</p>\n<ol id=\"markdown-toc\">\n<li><a href=\"#threads-vs-processes\" id=\"markdown-toc-threads-vs-processes\">Threads vs Processes</a></li>\n</ol>\n</blockquote>\n<h2 id=\"threads-vs-processes\">Threads vs Processes</h2>\n<p>For many languages, threads can be extremely efficient, as they are rather light weight and don’t require many resources to create new threads. “Threads are cheap”. However Python has a major limitation with the Global Interpreter Lock (GIL). Only one thread can be executing at once, whether it’s the main thread, or one of the others you’ve spawned. So we look to alternative concurrency mechanisms like processes for sharing the load across multiple CPU cores.</p>\n<p>For <strong>threads</strong>, if you are doing “lightweight” work like fetching data from the web where a lot of time is spent waiting for the server to respond, but very little computational work within Python is required, then threads are a great fit!</p>\n<p>However if you are doing computationally intensive work (imagine calculating prime numbers or similar complex tasks) then each thread will be contending for CPU time. Python is a single processes and can only have one thread running at a time due to the <abbr title=\"Global Interpreter Lock\">GIL</abbr>. So it will switch between multiple threads and try and make progress on each, but it cannot execute them truly simultaneously. Here we need to switch to processes.</p>\n<p><strong>Processes</strong> are relatively heavier weight as they essentially start a new python process, before executing the individual function. This is part of the reason for a “Pool”, to amortise the expensive cost of setting up processes, before allowing them to do a lot of work quickly. Here each process can be using it’s own CPU core fully, and thus make more sense for computationally expensive tasks.</p>\n<p>Let’s dive straight into an example: here we’re using the <code style=\"color: inherit\">multiprocessing</code> library which uses processes and is relatively simple to understand:</p>\n",
      "cell_type": "markdown",
      "metadata": {
        "editable": false,
        "collapsed": false
      }
    },
    {
      "id": "cell-1",
      "source": [
        "from multiprocessing import Pool"
      ],
      "cell_type": "code",
      "execution_count": null,
      "outputs": [

      ],
      "metadata": {
        "attributes": {
          "classes": [
            "> In this tutorial, we will cover:"
          ],
          "id": ""
        }
      }
    },
    {
      "id": "cell-2",
      "source": "<p>Importantly we should define a <em>pure</em> function, i.e. a function that only works on the inputs available to it, and doesn’t use or affect global state (i.e.  without side effects). (printing is ok.)</p>\n",
      "cell_type": "markdown",
      "metadata": {
        "editable": false,
        "collapsed": false
      }
    },
    {
      "id": "cell-3",
      "source": [
        "def f(x):\n",
        "    return x * x"
      ],
      "cell_type": "code",
      "execution_count": null,
      "outputs": [

      ],
      "metadata": {
        "attributes": {
          "classes": [
            "> In this tutorial, we will cover:"
          ],
          "id": ""
        }
      }
    },
    {
      "id": "cell-4",
      "source": "<p>We spawn a process Pool, with 5 processes And then use the convenient map\nfunction to send inputs multiply to the specified function <code class=\"language-plaintext highlighter-rouge\">f</code></p>\n",
      "cell_type": "markdown",
      "metadata": {
        "editable": false,
        "collapsed": false
      }
    },
    {
      "id": "cell-5",
      "source": [
        "with Pool(5) as p:\n",
        "    print(p.map(f, range(10)))"
      ],
      "cell_type": "code",
      "execution_count": null,
      "outputs": [

      ],
      "metadata": {
        "attributes": {
          "classes": [
            "> In this tutorial, we will cover:"
          ],
          "id": ""
        }
      }
    },
    {
      "id": "cell-6",
      "source": "<p>This will create 5 new python processes, and they will begin to consume tasks from the queue as quickly as they can. As soon as a process has finished handling one task, it will begin work on the next task.</p>\n<h2 id=\"pools--paralellism\">Pools &amp; Paralellism</h2>\n<p>Let’s do another example, the classic “print time”, to see how the threads are actually executing across 4 processes.</p>\n",
      "cell_type": "markdown",
      "metadata": {
        "editable": false,
        "collapsed": false
      }
    },
    {
      "id": "cell-7",
      "source": [
        "import time\n",
        "\n",
        "def g(x):\n",
        "    print(time.time())\n",
        "    time.sleep(1)\n",
        "\n",
        "with Pool(4) as p:\n",
        "    print(p.map(g, range(12)))"
      ],
      "cell_type": "code",
      "execution_count": null,
      "outputs": [

      ],
      "metadata": {
        "attributes": {
          "classes": [
            "> In this tutorial, we will cover:"
          ],
          "id": ""
        }
      }
    },
    {
      "id": "cell-8",
      "source": "<blockquote class=\"question\" style=\"border: 2px solid #8A9AD0; margin: 1em 0.2em\">\n<div class=\"box-title question-title\" id=\"question\"><i class=\"far fa-question-circle\" aria-hidden=\"true\" ></i> Question</div>\n<p>What did you see here?</p>\n<p>Was it clear and easy to read?</p>\n<br/><details style=\"border: 2px solid #B8C3EA; margin: 1em 0.2em;padding: 0.5em; cursor: pointer;\"><summary>👁 View solution</summary>\n<div class=\"box-title solution-title\" id=\"solution\"><button class=\"gtn-boxify-button solution\" type=\"button\" aria-controls=\"solution\" aria-expanded=\"true\"><i class=\"far fa-eye\" aria-hidden=\"true\" ></i> Solution<span class=\"fold-unfold fa fa-minus-square\"></span></button></div>\n<p>It prints four timestamps immediately, all around the same time. Then one second later it prints 4 more, and one second later, a final four.\nOur Pool of 4 processes processes the function the maximal amount of times possible concurrently. Once each of those functions returns, then it can move on to processing the next tasks.\nThis is precisely the situation of e.g. 4 queues at the grocery; as soon as one customer is processed, they immediately begin on the next, until no more remain.</p>\n<p>You might also see a situation where the numbers are interleaved in a completely unreadable way. Here they write immediately, but there is no synchronisation or limiting on who can write at one time, and the result is a mess of interleaved print statements.</p>\n</details>\n</blockquote>\n<h2 id=\"when-to-parallelise\">When to parallelise</h2>\n<p>Some guidelines:</p>\n<ul>\n<li>When you can isolate a pure function</li>\n<li>That do not require shared state, nor ordering</li>\n<li>That do not modify global state (pure!)</li>\n<li>That take a significant amount of time, relative to the time it takes to rewrite your code to support parallelising.</li>\n</ul>\n<p>Some common examples of this are slow tasks like requesting data from multiple websites, e.g. using the <code style=\"color: inherit\">requests</code> library. Or doing some computationally expensive calculation. The last point however is especially important, as it is not always trivial to rearchitect your code to handle being spread across multiple threads or processes.</p>\n<p>Let’s parallelize this program which fetches some metadata from multiple Galaxy servers:</p>\n",
      "cell_type": "markdown",
      "metadata": {
        "editable": false,
        "collapsed": false
      }
    },
    {
      "id": "cell-9",
      "source": [
        "import requests\n",
        "import time\n",
        "\n",
        "servers = [\n",
        "    \"https://usegalaxy.org\",\n",
        "    \"https://usegalaxy.org.au\",\n",
        "    \"https://usegalaxy.eu\",\n",
        "    \"https://usegalaxy.fr\",\n",
        "    \"https://usegalaxy.be\",\n",
        "]\n",
        "\n",
        "data = {}\n",
        "start = time.time()\n",
        "for url in servers:\n",
        "    print(url)\n",
        "    try:\n",
        "        response = requests.get(url + \"/api/version\", timeout=2).json()\n",
        "        data[url] = response['version_major']\n",
        "    except requests.exceptions.ConnectTimeout:\n",
        "        data[url] = None\n",
        "    except requests.exceptions.ReadTimeout:\n",
        "        data[url] = None\n",
        "\n",
        "\n",
        "# How long did it take to execute\n",
        "print(time.time() - start)\n",
        "\n",
        "for k, v in data.items():\n",
        "    print(k, v)"
      ],
      "cell_type": "code",
      "execution_count": null,
      "outputs": [

      ],
      "metadata": {
        "attributes": {
          "classes": [
            "> In this tutorial, we will cover:"
          ],
          "id": ""
        }
      }
    },
    {
      "id": "cell-10",
      "source": "<p>If we look at this, we can see one hot spot in the code, where it’s quite slow, requesting data from a remote server. If we want to speed this up we’ll need to isolate it into a pure function. Here we can see a possibility for a function that requests the data, with the input of the server url, and output of the version.</p>\n",
      "cell_type": "markdown",
      "metadata": {
        "editable": false,
        "collapsed": false
      }
    },
    {
      "id": "cell-11",
      "source": [
        "def fetch_version(server_url):\n",
        "    try:\n",
        "        response = requests.get(server_url + \"/api/version\", timeout=2).json()\n",
        "        return response['version_major']\n",
        "    except requests.exceptions.ConnectTimeout:\n",
        "        return None\n",
        "    except requests.exceptions.ReadTimeout:\n",
        "        return None"
      ],
      "cell_type": "code",
      "execution_count": null,
      "outputs": [

      ],
      "metadata": {
        "attributes": {
          "classes": [
            "> In this tutorial, we will cover:"
          ],
          "id": ""
        }
      }
    },
    {
      "id": "cell-12",
      "source": "<p>This now lacks side effects (like modifying the <code style=\"color: inherit\">data</code> object), and can be used in a map statement.</p>\n",
      "cell_type": "markdown",
      "metadata": {
        "editable": false,
        "collapsed": false
      }
    },
    {
      "id": "cell-13",
      "source": [
        "start = time.time()\n",
        "with Pool(4) as p:\n",
        "    versions = p.map(fetch_version, servers)\n",
        "    data = dict(zip(servers, versions))\n",
        "print(time.time() - start)\n",
        "\n",
        "for k, v in data.items():\n",
        "    print(k, v)"
      ],
      "cell_type": "code",
      "execution_count": null,
      "outputs": [

      ],
      "metadata": {
        "attributes": {
          "classes": [
            "> In this tutorial, we will cover:"
          ],
          "id": ""
        }
      }
    },
    {
      "id": "cell-14",
      "source": "<p>Same result, and now this is a lot more efficient!</p>\n<h2 id=\"sizing-your-pool\">Sizing your Pool</h2>\n<p>This depends largely on profilling your code or knowing the performance characteristics of it. In the above example, there is very little computation work executed as part of this function, it’s essentially all network I/O, no CPU or memory usage.</p>\n<p>As such, we can probably set our pool size to be very large, a multiple of our systems’ processor count. It will spawn many processes that do very little.</p>\n<p>If however this were a more complicated task (e.g. calculating a large number, machine learning, etc.), then we might wish to set our pool size to the number of CPUs - 1, as each process will potentially consume it’s CPU allocation completely, and we wish to have some left over for the managing program and any other work going on, on the system.</p>\n<blockquote class=\"question\" style=\"border: 2px solid #8A9AD0; margin: 1em 0.2em\">\n<div class=\"box-title question-title\" id=\"question-1\"><i class=\"far fa-question-circle\" aria-hidden=\"true\" ></i> Question</div>\n<p>Try changing the pool size and see what effect it has on runtime. Start from a value of 1, and go up to 5, the number of servers in our list.</p>\n<br/><details style=\"border: 2px solid #B8C3EA; margin: 1em 0.2em;padding: 0.5em; cursor: pointer;\"><summary>👁 View solution</summary>\n<div class=\"box-title solution-title\" id=\"solution-1\"><button class=\"gtn-boxify-button solution\" type=\"button\" aria-controls=\"solution-1\" aria-expanded=\"true\"><i class=\"far fa-eye\" aria-hidden=\"true\" ></i> Solution<span class=\"fold-unfold fa fa-minus-square\"></span></button></div>\n<p>Given the small sample size (5 servers), and the variability of response times (in local testing between 3-8 seconds for the single-pool version), you can see varying results but <em>generally</em> it should decrease as the pool size increases. However, sometimes you will see the Pool=5 version take the same or longer than Pool=4.</p>\n<p>Especially in the case that 1 server (or 1 request one time) dominates the request time, this can “hide” the improvements as the others complete quickly on the remaining N-1 processes.</p>\n</details>\n</blockquote>\n",
      "cell_type": "markdown",
      "metadata": {
        "editable": false,
        "collapsed": false
      }
    },
    {
      "id": "cell-15",
      "source": [
        "results = []\n",
        "for i in range(1, 6):\n",
        "    start = time.time()\n",
        "    with Pool(i) as p:\n",
        "        versions = p.map(fetch_version, servers)\n",
        "        data = dict(zip(servers, versions))\n",
        "    duration = time.time() - start\n",
        "    results.append(duration)\n",
        "\n",
        "# Plot it\n",
        "import matplotlib.pyplot as plt\n",
        "fig, ax = plt.subplots()\n",
        "ax.plot(range(1, 6), results)\n",
        "ax.set(ylabel='time (s)', xlabel='Pool Size', title='Pool size vs runtime')\n",
        "ax.grid()\n",
        "# Uncomment if your notebook cannot display images inline.\n",
        "# fig.savefig(\"pool-vs-runtime.png\")\n",
        "plt.show()"
      ],
      "cell_type": "code",
      "execution_count": null,
      "outputs": [

      ],
      "metadata": {
        "attributes": {
          "classes": [
            "> In this tutorial, we will cover:"
          ],
          "id": ""
        }
      }
    },
    {
      "id": "cell-16",
      "source": "<p>You might see a result similar to the following:</p>\n<p><a href=\"../../images/pool-vs-runtime.png\" rel=\"noopener noreferrer\"><img src=\"data:image/png;base64,iVBORw0KGgoAAAANSUhEUgAAAoAAAAHgCAIAAAC6s0uzAAAAOXRFWHRTb2Z0\nd2FyZQBNYXRwbG90bGliIHZlcnNpb24zLjYuMCwgaHR0cHM6Ly9tYXRwbG90\nbGliLm9yZy89olMNAAAACXBIWXMAAA9hAAAPYQGoP6dpAABG7ElEQVR42u2d\nCViU5fqHXXFJRTvqySVRFC21tKTM7Eilhalpq2VJVKdc0hZbUUzEBfc9zXIh\nTTHJBRVGFBSQRVFEwAVkFVFBQEHWAWbm/B+b4/xJFvEIHwPev8uLa5YPvOd5\n3/e55+UbZur8hxBCCCGKpw4lIIQQQhAwIYQQgoAJIYQQgoAJIYQQBEwIIYQQ\nBEwIIYQgYEIIIYQgYEIIIQQBE0IIIQQBE0IIIQiYEEIIQcCEEEIIQcCEEEII\nAiaEEEIIAiaEEEIQMCGEEEIQMCGEEIKACSGEEIKACSGEEARMCCGEIGBCCCGE\nIGBCCCEEARNCCCEEARNCCCEImBBCCCEImBBCCEHAhBBCCEHAhBBCCAImhBBC\nEDAhhBBCEDAhhBCCgAkhhBCCgAkhhBAETAghhBAETEjVxtbW1szM7H9ZdXXq\nODg43OfVk9JJAZlFBAETUmvj7Oxc51YaNWpkYWExadKklJQUBKxYAgMD5fFm\nZGQgYEIQMLnvBDxr1qzff/993bp10vTr1avXpUuX3Nzc6hJwfn5+UVHR/TME\nixYtkiFISEgofqNarS4sLGR+EgRMSC0X8IkTJwy3fP3113KLi4tLdQm4BiUn\nJ6eKBEwIQcDkvhOwu7u73DJ37ly5LDtR2Rybm5ubmJiITadOnSo7s+Lfvnr1\n6p49e8q97dq1++yzz4r/HrV8Acv/+PLLL//jH/9o3Lhx586dP/roo/9fdbd+\nBS1OqlNaDEceO3bM2tq6RYsWTZo0GTRoUEBAQKn/V0pKSv369WfOnFn8xqio\nKPlRq1atksuy15R7u3Xr1qhRowcffHDgwIEHDx4sp1y+vr4TJ05s06ZNy5Yt\nS32kwl+cUy5PmjRp9+7dvXr1klpJxfbv31/8yOLRm7j4r6D1/6m/v//nn3/e\nunVrU1PTcePGFRQUSLVtbGxa/pXvvvtOp9MZ/ketVrts2TL5j+QRtW3bVo6/\nfv06s50gYEKMWsArVqyQW9auXatXi1x+6623RLQffPCBXH7ttddu08yQIUNE\nY5MnTxbJPfXUU4ZfnJYj4KtXr7Zq1ap79+6y+Vu3bp29vf2jjz5aUsCyv/y9\nWDZu3CjuEe3pDzt06JDIbMCAAUuWLBHZPP7443I1ODi41P/xxRdfFBsVv8XR\n0VGA9We7p02bVrdu3U8//VRg5KeNGTNm/vz55ZRLfpSVlZU8av1hFRFwnz59\n5DnK7Nmzly9fLk9omjZtmp6eLneFh4fLfycHyEPQP0z9rrqkgPv27Tt06FAZ\nCJGuXP3++++fe+659957b82aNSNGjJBbNm3aZPgfP/nkkwYNGsgjknH84Ycf\nHnjggeJDQwgCJsRYBOzt7Z2WlpaUlPTHH3/IrlQ2lJcuXQoLC5O7pJUbDv72\n22/llsOHD8vl1NRUEZ7sYmWzpb/3p59+kntFk3cUsOwFb7P+31ZdGS/Ckh22\nKFP/v8tuz8LCQra/hm1fXl5ely5dXnrppVJ/5i+//CI/9vTp04ZbRKJiZf1l\nsePw4cMrXi4xn0ajKWevX1LAUqvY2Fj9VZGuYfP9nzJ+BV1SwMUfrDztkGcM\nEyZM0F8VmI4dO8pzAv1V2SvL8Vu3bjX8NE9Pz9tuIQQBE2IUAi4eaf3Sr+Uu\nJycnuXru3DnDwcnJyXLLN998I5ddXFzkskqlMtxbUFDQokWLN998844C9vHx\n0Vu21D1ZqQKW7Z3cLttT/dXQ0FD9ni+tWOS5QqNGjQxPCIpH7pUd4fTp0/VX\nxcTy7WJl/VVRV+fOnaOjoytYruJ7zQoKeNiwYcUPkEJNmTLlrgTs6upquPer\nr7667RnMa6+99vDDD+svf/HFF6ampvIMqXhxmjVrVvy5FCEImBCjEPDq1au9\nvLzEi6Jbg8DGjx9fr1692xzZsmXLt956Sy7MmzdPvjEuLq74vX379rW0tLyj\ngGUnJ56WbxcPjRw5UjbNxU8tlxTwqVOnZFM+ZswYwy3bt2+vU0bKOtkpO8ju\n3bvrL4uJxceiJf1VPz8/eVzyvb1795ZdvuxQyy/XkSNH7lbAht2qwa8ffvjh\nXQn42LFjt/384n8tJgeLYvWXX3nllVIrI6VmwhMETIhxCbjU3wbrBXzbXwRV\nioD1OXr06LRp0/r16yc/p1evXtnZ2aUKWIRqbm7ep0+f4n8ZtW3bNjlM1OVV\nImWd6dQ/UnG5XBYTi4+L33vt2jV5HvDuu+/KA6xfv/66desqXi5R6W2PVARf\n8kVYZfm1ggIu/p/qBWx4AqGv9gMPPGB4qtG2bduSlQkLC2PCEwRMSA0QcMlf\nQcuWq/xfQZuamlbkV9C3ZevWrfKjDM4rLmDZjst+7sEHH4yPjy/+LcePHy/+\nO+SKJCMjw8TExM7OThws3ysPvNTD5HnAE0880aFDh4qXa8qUKfLAi9+if51U\nBQW8ePHiyhWw/mR5Xl4e05sgYEJqpID1L8IaN26c4Zbvv//+thdhDR061PDK\noDVr1lTwRViyqS3+NzNnz56Vb/zpp59KCnjGjBmyCz9w4MBtP0HE3LVrVwsL\nC8O+WR+hKufBvvrqq7KZ/uGHH4S8+F9M6V+QbMjbb7/dunXripdL/+ozwy+u\nr1y50qxZs4oL+OeffzZszStFwL6+vnLv1KlTi//AoqKi295sixAETIiRCvg/\nt/4MafTo0atXr9ZfLvlnSC+//LIY6PPPP6/4nyEtW7ZM3Ck6ly2s7P969OjR\nokULwx7XIOCIiIi6detaWVn9/vfoD/Px8WncuHGnTp3k4F9//VW+Dho0aMSI\nEeU82C1btsgPb968uZi4+O1t27aVx7hgwQLZhY8fP17+U3k4FS+X+FvkJ2pf\nvny5k5PTww8//OSTT1ZcwPrd/LBhwzZv3rxt27ay/gyp4gL+z1+nD+SAV155\nRUoto/Pll1+2b9/+zz//ZMITBExIzRCwbJscHR27dOnSsGFD8UrJN+KQ5v7I\nI4/Ivf/85z8nTpxYwTfiCA0NHTNmjLhT/zYRYs2QkJDiutILWP9i6XLeiEN2\njW+88cY//vEP+Tnyf4lEDx06VM6DzcrKatKkifwEMXHx2+fMmfP000+3bNlS\n7pWHM3fu3PJPJJcs18GDB3v37i0ba3kyIT+81DfiKEvAktmzZ3fo0EH2+uW8\nEcddCVgiT0r69esnj0iecDz22GPydEe25kx4goAJIYQQgoAJIYQQBEwIIYQQ\nBEwIIYQgYEIIIQQBE0IIIQQBE0IIIQiYEEIIIQi4gtFqtUlJSZmZmTcIIYTU\n5Egnl35e6qdzImBjjIxWHUIIIbUl0tURcM2IPGPSD9i9PO1KT093cXGRr0b+\n9BBOSgonJa3FnPoNlXR1BFwzImMmAyZf7+WHFBYWurm5lfVWusYTOCkpnJS0\nFnNWSj9HwAiYpUgXhhNUOBEwAmaKw0lJ4aSkCBgBI2A4QYUTVDgRMAJmKdKF\nKSlDDycCRsAIGE5Q4QQVASNgBMxSpAvDydDDiYARMAKGk5LCSUkRMAJGwCxF\nujCcDD2cCBgBI2A4KSmclBQBI2AEzFKkC8PJ0MOJgBEwUxxOSgonJUXACBgB\nwwkqnKDCiYAR8M0ExKSNXXd0rvMeliJdGE6GHk4EjICVG7DZ+86a/eD+stNe\nliJdGE6GHk4EjICVG7CL13K72LmLg88kXWMp0oXhZOjhRMAIWLkBG7fpuAj4\nO9dTLEW6MJwMPZwIGAErN2BBMVdFwBb2qvRsNUuRLgwnQw8nAkbACg1YQUHB\nc7P2iYNXekezFOnCcDL0cCJgBKzQgMmkmb5ujwjYco6XukjDUqQLw8nQw4mA\nEbBCAt6xy+3pOV7i4J0nk1iKdGE4GXo4ETACVkjAMnVWeEWJgIetOKLT6ViK\ndGE4GXo4ETACVkjAVzNzuturxMHH4tJZinRhOBl6OBEwAlZIwPLVbmeECHjc\n5hMsRbownAw9nAgYASsn4OiULBFwZzv3xPRcliJdGE6GHk4EjIAVErBcttkQ\nLA523HuWpUgXhpOhhxMB13gBOzk5WVpaNmvWrE2bNqNGjYqKiirryIyMjM8+\n++yhhx4yMTGxsLDw8PBQWMA+UTfflKPXDM+s/EKWIl0YToYeTgRcswVsbW3t\n7Ox85syZsLCwYcOGderUKScnp+RhBQUF4mk5ICAgICEhwdfXV45XWMA6nW7w\nEl9x8Hr/eJYiXRhOhh5OBFyzBVw8qampUmI/P7+Sd/3888/m5uZ3NYRV8XnA\nW45dEAE/t+CQRqtjKdKF4WTo4UTAtUTAMTExUuLTp0+XvOuVV155//33P/30\n07Zt2/bq1Wvu3LkajUZ5AecVaPo4HhAH7z+dzFKkC8PJ0MOJgGuDgLVa7fDh\nwwcOHFjqvT169GjUqNHHH38cEhLyxx9/PPjggzNnzix5mFqtvnErSUlJMmDp\n6emF95Dc3FyZOvLVcMs8j5sfEvzmmoBCY0pJTuNMTeGkpAw9JTUqTunkCLgK\nM2HCBDMzM7FmqfdaWFg8/PDDhl3vkiVLHnrooZKHOTg41Pl7XFxc3Co1v213\n62J38+MZVm1xI4QQokCkkyPgqsqkSZM6duwYH1/mi5sGDRo0ePBgw1WVSiWD\nUVBQoPwOWDJ5a4gI+EuXkzwXZhsEJ0MPJzvgmipgnU4n9m3fvn10dHmf9zd1\n6lTZH2u1Wv3V5cuXt2vXTvlzwPqEXcwQAXeb5nH1Rj5ngzgRCCdDDyfngGuk\ngCdOnGhqaurr65t8K3l5efq7bGxs7Ozs9JcvXrzYvHnzyZMnnz9/3t3dvW3b\ntnPmzKkuAUveXBMoDl58IIqlSBeGk6GHEwHXSAHXKRFnZ2f9XVZWVra2toYj\ng4KC+vfv36hRI3Nz8+p6FbQhHhFXRMBPzDqYX6hhKdKF4WTo4UTANU/AVZcq\nFXCRRvvsvEPi4G3BiSxFujCcDD2cCBgBKyRgya9+cSLgl5b6GsOHBNMyKCmc\nlBQBI+D7RcA38gt7/rhfHHwkOpWlSBeGk6GHEwEjYIUELHHYc0YEbLsxmKVI\nF4aToYcTASNg5QSckJbT2c5dHBxzNZulSBeGk6GHEwEjYIUELPn3bydEwPa7\nI1iKdGE4GXo4ETACVk7AQbHpIuBHpu/PyC1gKdKF4WTo4UTACFghAet0uqHL\nj4iD1/jEshTpwnAy9HAiYASskIAlricuioD7z/Uu1GhZinRhOBl6OBEwAlZI\nwOoiTb/ZB8XBe8IusxTpwnAy9HAiYASskIAly7zOi4BH/hRQXW/KQcugpHBS\nUgSMgO9HAadlqy2mqcTBIReusxTpwnAy9HAiYASskIAl37qGiYA/23KSpUgX\nhpOhhxMBI2DlBHzuyg0RcBc796TruSxFujCcDD2cCBgB31Bs6oz59ag42Mnj\nHEuRLgwnQw8nAkbAygnY+1yKCLi3g2eOuoilSBeGk6GHEwEjYIWmjlare36R\njzh4U1ACS5EuDCdDDycCRsDKTR1RrwhYNCwyZinSheFk6OFEwAhYoamToy7q\n7eApDvY+l8JSpAvDydDDiYARsHJTZ67HORHwmF+PshTpwnAy9HAiYASs3NS5\nlJFnPtVDHHzuyg2WIl0YToYeTgSMgJWbOp9tOSkC/tY1jKVIF4aToYcTASNg\n5aZOyIXrImCLaaq0bDVLkS4MJ0MPJwJGwApNHZ1ON/KnAHHwMq/zLEW6MJwM\nPZwIGAErN3X2hF0WAfebfVBdpGEp0oXhZOjhRMAIWKGpU6jRPuPkLQ7+MySJ\npUgXhpOhhxMBI2Dlps4an1gR8NDlRxT4kGBaBiWFk5IiYASMgP+bjNyCR6bv\nFwcHxaazFOnCcDL0cCJgBKzc1LHfHSEC/vdvJ1iKdGE4GXo4ETACVm7qxFzN\nFgF3tnNPSMthKdKF4WTo4UTACFi5qWO7MVgc7LDnDEuRLgwnQw8nAkbAyk2d\nI9GpIuBHf9yfmVfIUqQLw8nQw4mAEbBCU0en07201Fcc/KtfHEuRLgwnQw8n\nAjaWODk5WVpaNmvWrE2bNqNGjYqKiir/+G3btskwyJE1RcA3mYMTRcDPzjtU\npNGyFOnCcIIKJwI2ilhbWzs7O585cyYsLGzYsGGdOnXKySnz9UoJCQkdOnT4\n17/+VbMEnF+oeWLWQXGwKuIKS5EuDCeocCJgo0tqaqqU2M/Pr9R7NRrNs88+\nu379eltb25olYMniA1Ei4DfXBLIU6cJwggonAja6xMTESIlPnz5d6r0zZsx4\n7bXX5EI5Alar1TduJSkpSX5aenp64T0kNzdXpo58Lby3XLqW3W3azQ8JDolP\nK6yCVBZnVaemcFJShp6SGhWndHIEXIXRarXDhw8fOHBgqff6+/t36NAhLS2t\nfAE7ODjU+XtcXFzcjCNvLdorAn5j0V43QgghdxPp5Ai4CjNhwgQzMzPZtpa8\nKysrq3PnziqVSn+1Ju6AJacupIuAu071uJiexXNhtkFwggonO2CjyKRJkzp2\n7BgfH1/qvadOnZLS17+Vun9FLsTGxtaUc8D6vL02SBy8YH8kZ4M4EQgnqHBy\nDriao9PpxL7t27ePjo4u65j8/PzTxSLb3xdffFEuFBQU1CwB7z+dLALu43gg\nr0DDUgQVTlDhRMDVmYkTJ5qamvr6+ibfSl5env4uGxsbOzu7kt9SE18FrY9G\nq3tuwSFx8JZjF1iKoMIJKpwIuFqZSsTZ2Vl/l5WVlbi2NglYst4/XgT84mIf\nrVbHUgQVTlDhRMC1MMYp4Kz8wl4zPMXBPlFXWYqgwgkqnAgYASs3xR33nhUB\n22wIZimCCieocCJgBKzcFE9Mz+1s5y4Ojk7JYimCCieocCJgBKzcFB+3+YQI\n2G5nBEsRVDhBhRMBI2DlpvixuJtvytHdXnU9p4ClCCqcoMKJgBGwQlNcp9MN\nX3lEHPzT4RiWIqhwggonAkbAyk3xnSeTRMBPz/UqKNKyFEGFE1Q4ETACVmiK\ni3ct53iJg3eHXmIpggonqHAiYASs3BRf6R0tAn51lb9Op2MpggonqHAiYASs\n0BRPz1Zb2KvEwccTrrEUQYUTVDgRMAJWbor/sCNcBDzh9xCWIqhwggonAkbA\nyk3xqOQsEXAXO/eL13JZiqDCCSqcCBgBKzfFx64/Jg6eve8sSxFUOEGFEwEj\nYOWm+OHIqyLg3jM8s9VFLEVQ4QQVTgSMgBWa4lqt7oXFPuLgjQHxLEVQ4QQV\nTgSMgJWb4puPXhABD1p4WPO/fkgwLYPuBiclRcAIGAHfdXILih6feUAcfOBM\nMksRVDhBhRMBI2Dlpvg8VaQI+J1fgliKoMIJKpwIGAErN8WvZOaZT/UQB5+5\nnMlSBBVOUOFEwAhYuSk+2SVUBPz19jCWIqhwggonAkbAyk3x0MTrImCLaaqr\nWfksRVDhBBVOBIyAlZvir68OEAcvOXiepQgqnKDCiYARsHJTfF/4ZRHwk7MO\n5hdqWIqgwgkqnAgYASs0xYs02gFO3uLg7ccvshRBhRNUOBEwAlZuiq/1jRUB\nWy/zu6sPCaZl0N3gpKQIGAEj4HtKZm7hoz/uFwcHxKSxFEGFE1Q4ETACVi4/\nup0WAX/sfJylCCqcoMKJgBGwcolPyxEBy7+41GyWIqhwggonAkbAykW2vyJg\n2QqzFEGFE1Q4ETACVi6BMWki4Eem78/MLWQpggonqAgYASNghaLT6ayX+YmD\n1/rGshRBhRNUBIyAEbBy2X78ogh4gJN3kUbLUgQVTlARMAKu5Dg5OVlaWjZr\n1qxNmzajRo2Kiooq9bBff/31ueeea/lXBg8eHBwcXOsFnF+oeXLWQXHwvvDL\nLEVQ4QQVASPgSo61tbWzs/OZM2fCwsKGDRvWqVOnnJyckoe99957q1evPnXq\nVGRk5Icffmhqanrp0qXaLWDJkoPnRcCvrw5gKYIKJ6gIGAFXYVJTU6XEfn5+\n5R+m0WiaN2++adOmWi/gq1n5FtNU4uDQxOssRVDhBBUBI+CqSkxMjJT49Ok7\n/O1NVlZW48aN9+3bV+sFLPl6e5gIeLJLKEsRVDhBRcAIuEqi1WqHDx8+cODA\nOx45ceJEc3Pz/PxSPjRXrVbfuJWkpCQZsPT09MJ7SG5urkwd+VpYTQlLTBcB\nm0/1SEzLMmbOmlLP2ocKJyW9HzilkyPgKsyECRPMzMzEmuUfNm/evFatWoWH\nh5d6r4ODQ52/x8XFxa2GZ/DcvTffmXLFXjdCCLkvI50cAVdVJk2a1LFjx/j4\n+PIPW7Rokamp6YkTJ8o6oPbtgCX7wy+JgB+f6ZmZk8dzYVDhBJUdMAKunOh0\nOrFv+/bto6Ojyz9ywYIFLVq0OHr0qJLnDIzhLItGqxu08LA4ePPRC5wNAhVO\nUDkHjIArJxMnTpRNra+vb/Kt5OXl6e+ysbGxs7PTX54/f76JicmOHTsMh2Vn\nZ98nApZsDIgXAb+w2Eer1bEUQYUTVASMgCuDqUScnZ31d1lZWdna2uovm5mZ\n3XaYg4PD/SPgbHVR7xme4uDDkVdZiqDCCSoCRsBGndokYMnsfWdFwGPXH2Mp\nggonqAgYASNg5XLxWm4Xu5sfEhyVnEXLABVOUBEwAkbAymXC7yEi4B92hNMy\nQIUTVASMgBGwcjmRcE0EbGGvSs9W0zJAhZOSImAEjIAVik6ne3WVvzh4pXc0\nLQNUOCkpAkbACFi5uJ26+aYclnO81EUaWgaocFJSBIyAEbBCKSjSPj3XSxy8\n82QSLQNUOCkpAkbACFi5/HQ4RgQ8bMURnU5HywAVTkqKgBEwAlYo13MKutvf\n/JDgY3HptAxQ4aSkCBgBI2DlYrczQgQ8bvMJWgaocFJSBIyAEbByiU7JEgF3\ntnNPTM+lZdDd4KSkCBgBI2DlYrMhWBzsuPcsLYPuBiclRcAIGAErF9/zqSLg\nXjM8s/ILaRl0NzgpKQJGwAhYoeh0usFLfMXB6/3jaRl0NzgpKQJGwAhYuWw9\nligCfm7BIY1WR8ugu8FJSREwAkbACiWvQNPH8YA4eP/pZFoG3Q1OSoqAETAC\nVi4LPSNFwG//HETLoLvBSUkRMAJGwMolOTO/61QPcXBoQjotg+4GJyVFwAgY\nASuXL7eFioC/dDlJy6C7wUlJETACRsDKJTwpQwTcbZrHJldaBt0NTkqKgBEw\nAlYwb64JFAd/unIvLYPuBiclRcAIGAErF1XEFRFwT/t9Wbn5tAy6G5yUFAEj\nYASsUIo02mfneYuDtwTF0zLobnBSUgSMgBGwclnrEy0CHrLEp/iHBNMy6G5w\nUlIEjIARcNXmWlZu96n7xMFHolNpGXQ3OCkpAkbACFi5KW6zbK8I2HZjMC2D\n7gYnJUXACBgBKzfF1//h1tnOXRwcczWblkF3g5OSImAEjICVm+L/dr75IcHT\ndkXQMuhucFJSBIyAEbByU9z/fIoIuMd0VUZuAS2D7gYnJUXACBgBKzTFCwoK\nXll+RBy8xieWlkF3g5OSImAEjICVm+J/hiSJgPvP9S7UaGkZdDc4KSkCRsAI\nWKEpri7S9JvtJQ7eE3aZlkF3g5OSImAEjICVm+LLvW6+KcfInwKM8E056MJw\nMvRwImBjiZOTk6WlZbNmzdq0aTNq1KioqKiyjnR1de3Ro0ejRo169+7t4eGB\ngMviTMtWW9irxMEhF67TMuhucFJSBIyAS4+1tbWzs/OZM2fCwsKGDRvWqVOn\nnJyckocFBgbWr19/4cKF586dmz59esOGDU+fPo2Ay+L87s8wEfBnW07SMuhu\ncFJSBIyA75zU1FQpsZ+fX8m7Ro8ePXz4cMPV/v37jx8/HgGXxRmZfEME3MXO\nPel6Li2D7gYnJUXAtVzA8fHxmzZtmjVrlp2d3ZIlSw4fPpyff3efjhcTEyMl\nLnVr+/DDDy9btsxwdcaMGY8//njJw9Rq9Y1bSUpKkp+Wnp5eeA/Jzc2VqSNf\nC407JTnH/BIkDp6197SRc9agksLJ0MNZXZzSyRFw6dmyZctTTz1Vt27dhx56\n6Mknnxw4cOCjjz5qYmLSokWLiRMnXrhwoSI/RKvVyh5XvrfUexs2bOji4mK4\nunr16rZt25Y8zMHBoc7fI9/ldl9mjvMeEfAj0/Zt3+lGCCE1OtLJEXAp6du3\n79NPPy1GvHjx4m2bUR8fn/Hjx7du3drV1fWOP2fChAlmZmaybb0XAbMDNtyi\nVhdYLTwsDt7oH8tzdrYXcFJSdsC1UMCenp7lHyCFCwkJKf+YSZMmdezYMT6+\nzM+Tr+CvoDkHXPzGTUEJIuDnF/lotTpj5uQEG5ygwsk54GqITqcT+7Zv3z46\nOrqcw0aPHj1ixAjD1QEDBvAirDty5qiLHnPwFAd7n0uhZdDd4KSkCLjWCvjk\nyZMREf/9HB4p96hRo6ZOnVpQcIdPBZg4caKpqamvr2/yreTl5envsrGxsbOz\n018ODAxs0KDB4sWLIyMjHRwc+DOkCnI6eZwTAY/59Sgtg+4GJyVFwLVWwJaW\nljt27JALcXFxjRs3HjNmTLdu3b788ss7MJWIs7Oz/i4rKytbW1vDka6urt27\ndzcxMenVqxdvxFFBzksZeeZTPcTB567coGXQ3eCkpAi4dgq4RYsWsbE3P4Rn\n/vz5L7/8slwICAjo2LFjdT1aBKzPZ1tPioC/dQ2jZdDd4KSkCLh2Crh58+b6\n87hDhgxZvny5XEhMTJStMAKu3ikecuG6CNhimiotW03LoLvBSUkRcC0U8Asv\nvPDBBx9s3ry5YcOGMTExcouvr6+ZmRkCrvYpPuqnAHHwMq/ztAy6G5yUFAHX\nQgGHh4f37t27RYsWM2fO1N8yefLkMWPGIOBqn+J7wi6LgPvNPqgu0tAy6G5w\nUlIEXNsEXDL5+fnVODkQ8P/fq9E+4+QtDnY9cZGWQXeDk5Ii4FoiYCP80FkE\nXDJrfGJFwEOXH6ne8aILw8nQw4mAKy2PPvrotm3byvp73+jo6AkTJsybNw8B\nV+8Uz8gteGT6fnFwUGw6LYPuBiclRcC1QcDe3t79+vVr1arV6NGjFy5cuGXL\nlh07dqxbt27KlClPPfVU06ZNv//++8zMTARc7VPcfneECPjfv52gZdDd4KSk\nCLg2CFgff3//yZMn9+nTp2XLlo0aNerQocOIESNWrVp1/fr16nq0CPi2xKZm\ni4A727knpOXQMuhucFJSBFxLBGyEQcAl8+HGYHGww54ztAy6G5yUFAEjYASs\n3BQ/Ep0qAn70x/2ZeYW0DLobnJQUASNgBKzQFNfpdC8t9RUH/+oXR8ugu8FJ\nSREwAkbAyk3xbcGJIuBn5x0q0mhpGXQ3OCkpAkbACFihKZ5fqHli1kFxsEfE\nFVoG3Q1OSoqAETACVm6KLz4QJQJ+c00gLYPuBiclRcC1RMCxsbH29vbvvvvu\n1atX5apKpTpzptpecIuAy8rVG/ndpt38kOCwixm0DLobnJQUAdd4Afv6+jZp\n0mTIkCEmJiZxcTdf4zNv3rw333wTARvhFJ/yxykR8BfbQmkZdDc4KSkCrvEC\nfuaZZ5YsWSIXmjVrphdwcHBwhw4dELARTvHTlzJFwF2neiRn5tMy6G5wUlIE\nXLMF/MADD8THxxcXcEJCQqNGjRCwcU7xt9cGiYMX7I+kZdDd4KSkCLhmC1g2\nu4GBgcUFvGvXLnNzcwRsnFPc80yyCLiP44G8Ag0tgy4MJyVFwDVYwN98881z\nzz2XnJzcvHnzmJiYgIAAse/MmTMRsHFOcY1W99yCQ+LgLccu0DLownBSUgRc\ngwVcUFDwySefNGjQoG7dug0bNqxXr97YsWM1Gk11PVoEfMes948XAb+42Eer\n1dEy6MJwUlIEXFMFrE9iYqKHh8f27dujo6Or99Ei4DsmK7+w1wxPcbBP1FVa\nBl0YTkqKgGu2gI0nCLgicdx7VgRssyGYlkEXhpOSIuCaKmCdTufq6jpx4sQ3\n33zz9WJBwMY8xS9ey+1i5y4Ojk7JomXQheGkpAi4Rgr4iy++aNSo0dChQ21t\nbT8sFgRs5FN83OYTImC7nRG0DLownJQUAddIAbdq1crDw8N4Hi0CrmCC46+J\ngLvbq67nFNAy6MIMPSVFwDVPwJ07d46MjDSeR4uAKxidTjd85RFx8E+HY2gZ\ndGGGnpIi4Jon4N9+++3dd9/Ny8tDwDVuiu8KTRIBPz3Xq6BIS8ugCzP0lBQB\n1zABi3qtra2bNWvWu3fvJ4oFARv/FBfvPjXHSxy8O/QSLYMuzNBTUgRcwwT8\n9ttvt27desKECQ4ODjOLBQHXiCm+6lC0CPjVVf46nY6WQRdm6CkpAq5JAm7a\ntKm/v7/xPFoEfFdJz1Z3t1eJg48nXKNl0IUZekqKgGuSgHv06BEeHv4/fKOf\nn9+IESPatWsn9d29e3dZh23ZsuXxxx9v0qTJQw899NFHH6WnpyPgyuX8YUe4\nCHjC7yG0DLowQ09JEXBNErC7u7u1tXVCQsLdfqNKpbK3t9+1a1c5Ag4ICKhX\nr96KFSvi4+Nln92rV687vsUHAr7bnE/JEgF3sXO/eC2XLkwXZujhRMA1RsAt\nW7Y0MTERTTZr1qxVsdwFX9kCXrRoUfFPNly5cmWHDh0QcKVzjl1/TBw8e99Z\nujBdmKGHEwHXGAH/VkYqRcCyA27YsKGHh4dOp0tJSRk0aNCnn36KgCud83DU\nVRFw7xme2eoiujBdmKGHEwHXDAFXAl+554BdXV1lb92gQQM57NVXXy11ONVq\n9Y1bSUpKkiPT09ML7yG5ubkydeRroXGnsjjV6oIXFh0WB6/zizFmzhpUUjgZ\nejjvnVM6OQIu/YmJ4UKpqRQBnz17tl27dgsXLgwPD/f09Hzsscc+/vjjkoc5\nODjU+XtcXFzcyN3k27V7RMD9ZuzbtZtiEEKMItLJEXApqVev3tWrNz9Ntm7d\nuvX+Hv0tlSLgsWPHvvXWW4ar/v7+cvCVK1fYAVc6Z2ZO3uMzb35IsCr8Etsg\ntkEMPZzsgI1XwL6+vkVFRfoLpaZSBPzGG2+MHj3acDUoKEgOvnz5MueAq4Jz\n/v5IEfA7vwRxIpATgQw9nJwDrgHngBMTE297EyW5Kjfe8Ruzs7NP/RWp79Kl\nS+WC/rvs7OxsbGz0xzg7Ozdo0GDNmjVxcXEBAQGWlpZPP/20AgN2fy7FK5l5\n5lM9xMFnLmfSheFk6OFEwMYuYMPvog1JT0+vyK+gfXx8bjtxa2trK7fLVysr\nK8NhK1eu7NmzZ5MmTdq1a/f+++9funQJAVcd52SXUBHw19vD6MJwMvRwImBj\nF3DdunVTU1OL33LhwoWmTZtW16NFwPeSUxczRMAW01RXs/LpwnAy9HAiYCMV\n8JS/Ipvd8ePHT7mVL774on///s8++ywCrqFL8fXVAeLgJQfP04XhZOjhRMBG\nKuDn/4rsgEW3z9/Kyy+/PG7cuOjoaARcQ5eie/gVEfCTsw7mF2rownAy9HAi\nYGMUsD4ffvihUVUHAd9jijTaZ+cdEgdvP36RLgwnQw8nAjZeARtbEPC95xe/\nWBGw9TK/yvqQYLownAw9nAgYATPF75zMvMJHf9wvDg6ISaMLw8nQw4mAETAC\nVo5zhttpEfDHzsfpwnAy9HAiYASMgJXjjE/L6WznLg6OS82mC8PJ0MOJgBEw\nAlaO89+/HRcB/+h2mi4MJ0MPJwJGwAhYOc7AmDQR8CPT92fmFt4nLYOhR8CU\nFAEjYARc/Zw6nc56mZ84eK1vLF0YToYeTgSMgBGwcpzbT1wUAQ9w8i7SaOnC\ncDL0cCJgBIyAFeLML9T0m31QHLwv/DJdGE6GHk4EjIARsHKcSw+eFwG/vjqA\nLgwnQw8nAkbACFg5ztQstcU0lTg4NPE6XRhOhh5OBIyAEbBynN+4homAJ7uE\n0oXhZOjhRMAIGAErx3n28g0RsPlUj8sZeXRhOBl6OBEwAkbAynG++8tRcfA8\nVSRdGE6GHk4EjIARsHKcB8+miIAfn3kgt6CILgwnQw8nAkbACFghTq1WN2jh\nYXHw5qMX6MJwMvRwImAEjICV43QOiBcBv7DIR2RMF4aToYcTASNgBKwQZ7a6\nqPcMT3Hw4cirdGE4GXo4ETACRsDKcc5xPysCHrv+GF0YToYeTgSMgBGwcpwX\nr+V2+etDgqOSs+jCcDL0cCJgBIyAleOcuCVEBPzDjnC6MJwMPZwIGAEjYOU4\nTyRcEwFb2KvSs9V0YTgZejgRMAJGwApFp9ONXOUvDl7pHU0XhpOhhxMBI2AE\nrFzcTl0SAVvO8VIXaejCcDL0cCJgBIyAlfpPNdqn53qJg3eeTKILw8nQw4mA\nETACVi4/HY4RAQ9bcUSn09WmejL0CJiSImAEjICNmvN6TkGP6Tc/JPhYXDpd\nGE6GHk4EjIARsHKZuitCBDxu8wm6MJwMPZwIGAEjYOUSczVLBNzZzj0xPZcu\nDCdDDycCrkkC9vPzGzFiRLt27aS+u3fvLuswtVo9bdq0Tp06mZiYmJmZbdiw\nAQEbCecHG4LFwY57z9KF4WTo4UTANUnAKpXK3t5+165d5Qt45MiR/fv39/Ly\nSkhICAoKCggIQMBGwul7PlUE3GuGZ1Z+IV0YToYeTgRcYwT8/3xlC3j//v2m\npqbXrl1TeMBYihWJTqcbvMRXHLzeP54uDCdDDycCrlUCnjhx4uDBg3/44Yf2\n7dtbWFh88803eXl5JQ9Tq9U3biUpKUl+YHp6euE9JDc3V6aOfC007lQ75+bA\nmx8SPHD+oXx1QS2oJ0N/33JSUuPklE6OgKtNwNbW1o0aNRo+fHhwcLCHh4eZ\nmdmHH35Y8jAHB4c6f4+Li4sbqfq47nTrab/v5pngDXuoBiGkciOdHAFXm4Bf\neumlxo0bZ2Zm6q/u3Lmzbt26JTfB7ICrkWG+x80PCX5zTQDbIDgZejjZAdce\nAX/wwQddu3Y1XD137pwcHB0dzTlg4+FMuZHfdaqHODgiKZMTgXAy9HByDriW\nCPiXX35p0qRJdna2/qoMZ7169Uo9DYyAqzFfbgsVAX/1xym6MJwMPZwIuAYI\nWLR66q9IfZcuXSoXEhMT5XY7OzsbGxvDMR07dnzrrbfOnj3r5+dnYWHxySef\nKDBgLMW7iux9RcDdpnnIbpguDCdDDycCNnYB+/j43PbKKVtbW7ldvlpZWRkO\ni4yMHDJkiOyDxcRff/11+dtfBFxdeevnQHHw4gNRdGE4GXo4EbCxC7iKgoCr\nJaqIKyLgJ2YdzC/U0IXhZOjhRMAImCmuUDRa3cD5h8TB24IT6cJwMvRwImAE\nzBRXLuuOxImAX1rqW/JDgunCcDL0cCJgBMwUr7LK5xf2/HG/OPhIdCpdGE6G\nHk4EjICZ4srFYc8ZEbDtxmC6MJwMPZwIGAEzxZXLhfScznbu4uCYq9l0YTgZ\nejgRMAJmiiuXTzadEAFP2xVBF4aToYcTASNgprhyORqXLgLuMV2VkVtAF4aT\noYcTASNgprhC0el0ryw/Ig5e4xNLF4aToYcTASNgprhy2RGSJALuP9e7UKOl\nC8PJ0MOJgBEwU1yhqIs0/WZ7iYP3hF2mC8PJ0MOJgBEwU1y5LPeKFgGP/ClA\n/6YcdGE4GXo4ETACZoorkbRstYW9ShwccuE6XRhOhh5OBIyAmeLK5bs/w0TA\nn205SReGk6GHEwEjYKa4colMviEC7mLnnnQ9ly4MJ0MPJwJGwExx5fLeuqPi\n4Lke5+jCcDL0cCJgBMwUVy6HIlNEwL0dPDOy8+jCcIIKJwJGwExxhaLV6l5Y\n5CMO3nAkli4MJ6hwImAEzBRXLpuDEkTAgxYc3rWbLgwnqHAiYATMFFcqOeqi\nxxw8xcFznPfQheEEFU4EjICZ4srFSXVOBDxk7l66MJygwomAETBTXLlcysgz\nn+ohDl7iGZlbUERJ4QQVTgSMgJniCmXaznARsPyznOPlEpxYdOtDGigpnKDC\niYARMEuxClNQUOCwfs9z8w/pNTx4ia/X2RT920RTUjhBhRMBI2CWYtVy5uSp\nNwbE93U8oNfw6LVBpy5mUFI4QYUTASNglqISnDfyC+fvj+z+10c1yL9JW09e\nSM+hpHCCCicCRsAsRSU4L2fkfeMa1tnupoO7TfOYuffMtZwCSgonqHAiYATM\nUlSC89yVGx9sCNZvhXvP8FztE5NfqKGkcIIKJwJGwCxFJTj9o9NeWX5Er+Fn\nnLz/DEnSaHWUFE5Q4UTACJilWOWcWq1uV2jSs/P++zJp62V+vudTKSmcoCJg\nBIyAWYpKcOYXan7xi9W/daX8G7v+2JnLmZQUTlARMAJGwCxFJTiv5xTM3nfW\nYtrNl0l3tnOf8seppOu5lBROUBEwAkbALEUlOC9ey/1iW6h+K2xhr3LyOJeZ\nV0hJ4QQVASPgSoifn9+IESPatWsn9d29e3f5BwcEBNSvX79Pnz4I+L7iDE/K\neOeXIL2G+zgeWHckTl2koaRwUlIEjIDvKSqVyt7efteuXXcUcEZGhrm5+csv\nv4yA70NOnU53OPLqS0t99RoeOP+Q26lL2ip7mTRDj4DhRMC1X8D/z3cnAb/z\nzjvTp093cHBAwPctp0ar23784tNzvfQaHrHSPzA2jZLCSUkRMAKuQgFv3Ljx\nqaeeKioqKkfAarX6xq0kJSXJD0xPTy+8h+Tm5srUka+Fxp37jTMzJ2/5waie\nM/brNWy74djZpOuUFE5KWls5pZMj4GoTcHR0dNu2bc+fPy+XyxGw3FXn73Fx\ncXEjtTS//+k2dtneLnb7br5M+od97yzZu8mVqhBSCyOdHAFXj4A1Go2lpeXP\nP/9ssCw7YDgNiU7OGL/5hH4r3GO6aoHq3LWsPEoKJyVlB4yAK0HAGRkZclf9\nW6lbt67+6qFDhzgHDKc+IReuv7kmUK/hJ2cd3BSUUKjRUlI4KSnngBHwPQlY\nq9WeLpaJEyf26NFDLuTk5CBgOA3R6XSeZ5JfWOSj1/Dzi3xUEVfkRkoKJyVF\nwAi49GRnZ5/6K1LfpUuXyoXExES53c7OzsbGpuTxvAoazvL+C41289EL/WYf\n1Gv49dUBJxKuUVI4KSkCRsClxMfH57ZXTtna2srt8tXKygoBw/m/PKtTFy05\neP6R6f99mfS4zSdiU7MpKZyUFAEjYCWCgOG8eiPfbmdEF7ubDjaf6mG/OyI1\nS01J4aSkCBgBI2CWohKJTsn692/H9Vvhnj/uX+EdnVtQREnhpKQIGAEjYJai\nEjkalz5ylb9ew5ZzvFyCE4vKfZk0JUXAcCJgBIyA4ayc6HS6feGX/7XgsF7D\nQ5b4ep9LKetl0pQUAcOJgBEwAoazMqMu0mzwj+/jeECv4dFrg8IuZlBSOCkp\nAkbACBhOJZKZVzh/f2R3e5Vew5O2nkxMz6WkcFJSBIyAETCcSuRyRt7X28M6\n//Uy6W7TPBz3nr2eU0BJETAlRcAIGAHDqUTOXr5hsyFYvxXu7eC5xic2v1BD\nSREwnAgYASNgOJXIkejUV5Yf0Wv4GSfvP4ITdu2mpAgYTgSMgBEwnFUfrVa3\n82TSACdvvYafddx36NwVSoqA4UTACBgBw6lE8gs1a31jezt46jU8dv2xM5cz\nKSkChhMBI2AEDKcSuZqZY7t8b7dpHuLgznbuU7afupSRR0kRMJwIGAEjYDiV\nQI27mvm5S6h+K2xhr3JSncvMK6SkCBhOBIyAETCcSqCGJ2W880uQXsN9HA+s\nOxKnLtJQUgQMJwJGwAgYzipH1el0hyOvvrTUV6/h5xYc2hN2WavVUVIEDCcC\nRsAIGM4qRy3SaP84nvjUHC+9hl9d5R8Um05JETCcCBgBI2A4lUDNLSha6R3d\n88f9eg1/5Hz8fEoWJUXAcCJgBIyA4VQCNS1b/aPb6a5Tb75Muoud+w87wlNu\n5FNSBAwnAkbACBhOJVDjUrMn/B6i3wr3mK5afCAqK7+QkiJgOBEwAkbAcCqB\nGnLh2htrAvUafnLWwc1BCYUaLSVFwHAiYATMFIezylF1Ot3+08kvLPLRa/j5\nRT77T1+RGykpAoYTASNgpjicVY4qG9/NRy/0m31Qr+HXVwfI5piSImA4ETAC\nZorDqQRqtrpoyYGoR6b/92XS4zeHxKVmM/QIGE4EjICZ4nAqgZpyI99uZ3gX\nu5sONp/qMX336dQsNUOPgOFEwAiYKQ6nEqjRKVn//u24fivc88f9K7yjcwuK\nGHpQ4UTACJgpDqcSqEGx6a+u8tdr+Kk5XtuCE4sq6WXSDD2rCQEjYATMUqQL\nlxetVrc37PJzCw7pNTxkia/3uZR7f5k0Q89qQsAIGAGzFOnCd466SLPBP76P\n4wG9ht/5JSjsYgZDDyqcCBgBsxThVAI1M69wnirSwl6l1/Bkl9DE9FyGHlQ4\nETACZinShZVAvZSR9/X2sM5/vUy62zQPx71nr+cUMPSgwomAETBLkS6sBOqZ\ny5lj1x/Tb4V7O3iu8YnNL9Qw9KDCiYARMEuRLqxE/M6nDl1+RK/hAU7eO0KS\nNFodQw8qnAi4iluPn9+IESPatWsn9d29e3epx+zcuXPIkCGtW7du3rz5M888\n4+npiYDhrGWoWq1u58kksa9ew+JjsTJDDyqcCLgKo1Kp7O3td+3aVY6Av/zy\nywULFhw/fjw6Onrq1KkNGzYMDQ1FwHDWPtT8Qs3PvrG9HTz1Gh67/tiZy5kM\nPagIGAFXMV/ZAr4tPXv2dHR0RMBw1lbU6zkFs/ad7TbNQxzc2c59yvZTlzLy\nGHpQETACrmYBa7Xahx9+eNWqVQgYztqNmpieO9klVL8VtrBXOanOZeYVMvSg\nImAEXG0CXrBgQatWra5evVryLrVafeNWkpKS5Aemp6cX3kNyc3Nl6sjXQuMO\nnLUYNSQ+7e2fA/Ua7jPzwC++Mdl5aoYe1PuKUzo5Aq5+AW/durVp06ZeXl6l\n3uvg4FDn73FxcXEjpIZn9263uc57+s/cp9fwkzP2zVi/Z9duCkPul0gnR8DV\nLOBt27Y1adLE3d29rAPYAcNZi1Hz8tVbguKfmuOl1/CrK4/4n09h6FlN7IAR\ncJULWJ4BNW7cWAZSyXMGnA3iRKCxgeUWFK30ju754369hj/ceGzBpj0xyZmV\n+ymHDD2riXPA94WAs7OzT/0Vqe/SpUvlQmJiotxuZ2dnY2Nj+M1zgwYNVq9e\nnXwrmZmZCBjO+xY1LVv9o9vprlM99BrW/+s1w/OFRT6j1wZNdgmdte/sz76x\nO08m+UennU/JysgtuPdPXmLo4UTAtU3APj4+t524tbW1ldvlq5WVlf4YuVDq\nMQgYzvsZNS41e/LWkH4O+x69tSEu55+FverZeYdeWx0wbvOJ6btPyzb6j+OJ\nhyOvnr6UeTUrv4JvvMXQw4mAa5WAqygIGM77qqTZ6iLx8dG49D1hl9cdiXPy\nOPfVH6feW3d0yBLfx2ceuKOezad6PDXHa/jKIx85H/9hR/iSA1Gbj17wPJMc\nmnj9UkZeQZGWoYcTASNgBAwnqHfNmV+ouXgtN+TC9f2nr2wKSljkGfXdn2G2\nG4NfWX6k32wv/Scylf+vr+OBl5f6jV1/bMr2U/NUkRv84/eFXw6Ov5aQlpOj\nLmLo4UTACBgBw0lJ7zpFGm3KjfyIpEzvcynbghNXeEfb7474dNOJUT8FPDvv\nkP4Nucr/1/PH/c8v8nl7bdCkrScd95Zy+pmhhxMBI2CmOJyU9O4i+ryeUxCV\nnHUkOnVHSNIan9iZe898tvXk2z8HWS08XOHTz95Ws/d98ttx5U8/M/QIGAEj\nYJYiAq6dnPd4+rmLnXuVnn5m6BEwAkbALEUEfD9y6k8/B8emOm7Ys9E/9n84\n/dzH8cBLS33fX3dsyh+nnFTn1vvH7w27fCwuPb5ip58ZegSMgBEwSxEBw3k7\npwKnnxl6BIyAETBLEQHDeXeclXT6+e7++pmhR8AIGAHDCSqcd0hlnX7+cGPw\n93+GLz4QtTkowT0safEmt/DEaxev5WbmFhrba8QQMAJGwCxFBAynsXPe+18/\nG37L3X+ut0j99dUBH2wInrT1pN3OCCfVuZ8Ox8iP3RWa5HU25Vhc+tnLN5R0\nNgJGwAiYLoyA4ayRnGWdfh65yv8ph339Zh/sbq+qoKFLdfYzTt4vLfV9Y02g\nKH+yS+jUXaU4+9yVG0nXczPz/hdnI2AEjIDpbggYzlo79AVF2vRsdUJajng6\nMCZNdtLbT1xc7x+/zOv8rH1nZT894feQ99cdE2e/sMhHdtX34uxeMzzLcvbm\noITdoZfkiUJw/DWDs9XqAgSMgBEw3Q0Bw8nQ/zfqIk1atjo+LSc8KSOgbGe/\nusr/+ZvOPmhxD87uPm1f/7le4uw31wR+uDH4c5fQabsi5qkiSzr7UkbejfxC\nbXWcz0bACJjuBiclhdNIUcty9tKD5x33nv3WNWz85pD31h29d2d3tnPvPcNz\ngJP3y0v9SnH20Qtupy4dikw5nnAtMrnSnI2AETDdDU5KCmftQRVnJ1/P/nWb\nW0h8mn90miriyvbjF9cdiSvT2dMqwdlv/Rz4kfPxL7aF2u+OmL8/crVPKc7O\nKuFsBIyA6W5wUlI47+uS5hdqUrPUcanZYRczynL2mF+Pjljpb7Xw8JOz7s3Z\nDp7Pzjtkveyms203HHtj0d59p5IQMAJmKcJJSeGkpPfk7CUHz8/ce+Yb17Bx\nm09U0NlLDkQiYATMUoSTksJJSavc2acuZhyJTvWIuLL1aPyXa/YEx6UiYATM\nUoSTksJJSWsYJwJGwCxFujCcDD2cCBgBI2A4QYWTkiJgBIyAWYp0YTgZejgR\nMAJGwHBSUjgpKQJGwAiYpUgXhpOhhxMBI2CmOJyUFE5KioARMAJmKYIKJ6hw\nImAEzFKEk5Iy9JQUASNgBAwnqHCCCicCRsAsRbownAw9nAgYASNgOEGFk5Ii\nYASMgFmKdGE4GXo4ETACRsBwUlI4KSkCRsDVl8zMTBmwpKSkG/eQ9PR0FxcX\n+XrDuAMnJYWTktZiTunk0s+lqyPgmhH9gBFCCKkdka6OgGtGtFqtjJY8Y7r3\np133uI1WIHBSUjgpaS3mlE4uP0G6OgLmRDKctf9EDiVl6OG834YeATN14AQV\nTlDhRMAImClOF4aToYcTASNg5aNWqx0cHOQrnPcVJyVl6CnpfTj0CJgQQghB\nwIQQQghBwIQQQggCJoQQQggCJoQQQhBwzYqfn9+IESPatWtXp06d3bt3l3WY\nj4/PE088YWJi0rVrV2dnZ+PkFMjb3rwtOTlZYU4nJydLS8tmzZq1adNm1KhR\nUVFRZR3p6urao0ePRo0a9e7d28PDQ/mSVhBVhrt4SQVYYc41a9Y89thjzf/K\nM888o1KpjLOeFeGs9mLelnnz5gnGl19+aZwlrSCqMVTVwcGhOIPUzfhLioCr\nP9Im7O3td+3aVY7Y4uPjmzZt+vXXX587d27VqlX169f39PQ0Qk69gM+fP598\nK8q/eZu1tbW0gzNnzoSFhQ0bNqxTp045OTklDwsMDJQyLly4UEo6ffr0hg0b\nnj592jhR5ZgWLVoYSpqSkqIw5969e6VVRUdHy8hOmzZNaiXMRljPinBWezGL\n5/jx4507d3788cdLtZoxlLSCqMZQVRFwr169DAxpaWlGXlIEbGQFKlts33//\nvcwtw9V33nlHercRcuoFnJGRYSQlTU1NFR7Zu5e8a/To0cOHDzdc7d+///jx\n440TVbqbqamp8UzUVq1arV+/3sjrWRan8RQzOzvbwsLCy8vLysqqVKsZT0nv\niGoMVRUB9+nTp/xjjHCWIuAaIOB//etfxef9xo0b5fmm0QrYzMzsoYceGjJk\nSEBAQPWWNCYmRnhKfZL78MMPL1u2zHB1xowZ8uzeOFGlu8nTdtkfd+zYceTI\nkSV3dYpFo9Fs27bNxMTk7NmzxlzPcjiNp5gffPDBV199JRfKsprxlPSOqMZQ\nVRFw06ZN27Vr16VLl/feey8xMdH4Vz0CrhkClqefTk5OhqseHh5ycF5enrFx\nRkVFrV27NiQkJDAw8KOPPmrQoMHJkyerq55arVae7Q4cOLDUexs2bOji4mK4\nunr16rZt2xonalBQ0KZNm06dOuXr6ztixAh57qX8x6JFREQ88MAD0mRlo1Pq\nmTMjqecdOY2hmBJ5ftC7d+/8/PxyrGYkJa0IqjFUVaVSubq6hoeHe3p6Dhgw\nQJ4NZGVlGfOqR8AIuJI5b8ugQYPGjh1bXfWcMGGC7MXLagRGtRTLRy2ewsLC\nrl27Tp8+XWHCgoIC2aPLUys7O7vWrVuX3FkaST3vyGkMxbx48aIUR1Shv2rM\nAq4gqjFUtXgyMjLkSUDJExAImPwvYqspv4K+Ld9+++0zzzxTLZCTJk3q2LFj\nfHx8WQcYzy+j7oh6W95666133323Gifq4MGDx40bZ7T1LJ/TGIopy0cWUf1b\nkct169aVCxqNxthKWkFUY5uiEktLS3kSZvyzFAHXAAF///33vXv3NlwdM2aM\ncb4I67YMGTLk9ddfVxhPp9OJ0tq3bx8dHV3OYaNHjx4xYoTh6oABA5R/OUYF\nUYtHGl+PHj2mTJlSjRP1hRdesLW1NcJ6VoTTGIqZlZV1ulhEFWPHji15+t8Y\nSlpBVGObotnZ2a1atVqxYoXxz1IEXM2RuXLqr4jYli5dKhf0Lx+Qp282Njb6\nY/R/hvTdd99FRkauXr26Wv4MqSKc8uzSzc0tJiZGlqhs2evVq+ft7a0w58SJ\nE01NTX19fQ1/kGD4Xb1wGp4UBwYGNmjQYPHixVJSBweHavmDhAqiOjo6Hjhw\nIC4u7uTJk7KxaNy4cfm/Wa30CImfn19CQkJERIRclj3QwYMHjbCeFeGs9mKW\nTPHf6xpbSSuIagxV/eabb2QpyehL3eSpf+vWrVNTU42/pAi4mlPyzSv0T9vl\nq0z34of17dvXxMTE3Ny8Wt6IoyKcCxYs6Nq1qyy/Bx988Pnnnz98+HC1bNBv\ni6Fcwll8S+Tq6tq9e3cpaa9evarlT/IriPrVV1916tRJOP/5z38OGzYsNDRU\nYc6PP/7YzMxMANq0aTN48GC91YywnhXhrPZilm81YytpBVGNoarvvPNOu3bt\nhKFDhw5yOTY2tkaUFAETQgghCJgQQgghCJgQQghBwIQQQghBwIQQQggCJoQQ\nQggCJoQQQhAwIYQQgoAJITU6ZmZmxd9Qt4q+hRCCgAmpDbG1tdW/2VbDhg27\ndu3q6OhYVFRUuQLOzc21s7MzNzdv1KhR69atBw0a5Obmpr8rNTVV7mUUCEHA\nhNyPAh46dGhycvKFCxfWrFlTt27d4h9wWSkCtrGx6d69u4eHR0JCQkhIyMqV\nKzds2EDlCUHAhNzvAh41apTh6ksvvaT/pMjr16+LOFu2bNmkSRMxdPHPZdqx\nY0fPnj1NTEzEuIsXL76jgE1NTX/77bfyne3s7Hzb2187ODjoj1m3bt0jjzwi\nu+cePXqsXr2aISMEARNSCwU8cuTIJ598Un/h0UcfPXLkSFhYmLW1dbdu3QoL\nC+V22cLWq1dv1qxZ58+fF2uKng0fFFGWgEWco0ePzsrKKkfAeXl5ho9+2rZt\nW4MGDfQfmbBly5Z27drt3LkzPj5evj744INluZwQgoAJqZEC1ul0Xl5estH8\n9ttvZb8re9DAwED9Menp6SJaV1dXufzee+/JLtnw7d99953shssXsJ+fX8eO\nHRs2bGhpafnVV18FBASUs2mOjY0Vyy5cuFB/tWvXri4uLoZ7Z8+ePWDAAEaN\nEARMSG0QcP369R944AETExPZd37wwQc5OTl79uyRyxqNxnBY3759HR0d5cIT\nTzwxc+ZMw+1ubm5iVv2R5bykWXbPspmeP3++yLtu3bqygS5VwJmZmY888ojh\nY6SFRJ4HiPsfuBV5ftC2bVtGjRAETEhtEPCQIUNiYmISExMNr3+udAEXj+xi\n5VsKCgpu+xb5IdbW1k8//XR+fr7+lpSUFBHwli1bYoolPj6eUSMEARNSGwRc\n/BywPqX+CvrPP//8T2m/gu7Vq1ep29mysnPnTtkE37hx47Zv+fzzz9u3b3/l\nypXiB8sthu0yIQQBE1LLBSyRG3v27Onv7x8WFjZ06FDDi7BOnjxpeBHWb7/9\nVpEXYVlZWa1duzYkJCQhIcHDw6NHjx4vvvjibd+ycePG+vXr79271/BSrOzs\n7P/89RJo+S9WrFgh/11ERIQctmTJEkaNEARMSK0VsP7PkExNTcV/1tbWJf8M\nqWHDhp06dVq0aJHh9rIE7OTkNGDAgAcffLBx48bm5uZffPGFbKlv+xbD+4GU\n/DOkrVu39u3b18TEpFWrVoMGDdq1axejRggCJoQQQhAwIYQQQhAwIYQQgoAJ\nIYQQgoAJIYQQBEwIIYQgYEIIIYQgYEIIIQQBE0IIIQQBE0IIIQiYEEIIIQiY\nEEIIQcCEEEIIKSX/B7xbMLdMMa90AAAAAElFTkSuQmCC\n\"\" alt=\"graph of the above, showing a decrease in runtime from 2.6 seconds to approximately 1.1 seconds as the pool size increases from 1 to 5. As the pool size increases from 1-2 there is a large improvement, but as it increases from 4-5 the improvement is very small, on the order of milliseconds.\" width=\"640\" height=\"480\" loading=\"lazy\" /></a></p>\n<h2 id=\"threads\">Threads</h2>\n<p>Let’s convert our previous example from processes to threads, as processes aren’t strictly necessary for such a light weight use case as fetching data from the internet where you’re blocking on network rather than CPU resources.</p>\n",
      "cell_type": "markdown",
      "metadata": {
        "editable": false,
        "collapsed": false
      }
    },
    {
      "id": "cell-17",
      "source": [
        "import multiprocessing.pool\n",
        "import requests\n",
        "import time\n",
        "\n",
        "data = {}\n",
        "start = time.time()\n",
        "\n",
        "pool = multiprocessing.pool.ThreadPool(processes=4)\n",
        "results = pool.map(fetch_version, servers, chunksize=1)\n",
        "data = {k: v for (k, v) in zip(servers, results)}\n",
        "pool.close()\n",
        "\n",
        "print(time.time() - start)\n",
        "\n",
        "for k, v in data.items():\n",
        "    print(k, v)"
      ],
      "cell_type": "code",
      "execution_count": null,
      "outputs": [

      ],
      "metadata": {
        "attributes": {
          "classes": [
            "> In this tutorial, we will cover:"
          ],
          "id": ""
        }
      }
    },
    {
      "id": "cell-18",
      "source": "<p>This is a bit more complicated to write, but again, if you’re not blocking on CPU resources, then this is potentially approximately as effecient as thread pools.</p>\n<blockquote class=\"question\" style=\"border: 2px solid #8A9AD0; margin: 1em 0.2em\">\n<div class=\"box-title question-title\" id=\"question-2\"><i class=\"far fa-question-circle\" aria-hidden=\"true\" ></i> Question</div>\n<p>What result did you get? Was it slower, faster, or about the same as processes?</p>\n</blockquote>\n",
      "cell_type": "markdown",
      "metadata": {
        "editable": false,
        "collapsed": false
      }
    },
    {
      "cell_type": "markdown",
      "id": "final-ending-cell",
      "metadata": {
        "editable": false,
        "collapsed": false
      },
      "source": [
        "# Key Points\n\n",
        "- Code go brrrt.\n",
        "\n# Congratulations on successfully completing this tutorial!\n\n",
        "Please [fill out the feedback on the GTN website](https://training.galaxyproject.org/training-material/topics/data-science/tutorials/python-multiprocessing/tutorial.html#feedback) and check there for further resources!\n"
      ]
    }
  ]
}