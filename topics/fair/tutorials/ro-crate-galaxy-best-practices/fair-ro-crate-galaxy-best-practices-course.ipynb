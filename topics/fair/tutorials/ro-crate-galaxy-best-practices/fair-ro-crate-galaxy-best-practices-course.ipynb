{
  "metadata": {
    "kernelspec": {
      "display_name": "Bash",
      "language": "bash",
      "name": "bash"
    },
    "language_info": {
      "codemirror_mode": "shell",
      "file_extension": ".sh",
      "mimetype": "text/x-sh",
      "name": "bash"
    }
  },
  "nbformat": 4,
  "nbformat_minor": 5,
  "cells": [
    {
      "id": "metadata",
      "cell_type": "markdown",
      "source": "<div style=\"border: 2px solid #8A9AD0; margin: 1em 0.2em; padding: 0.5em;\">\n\n# Best practices for workflows in GitHub repositories\n\nby [Simone Leo](https://training.galaxyproject.org/hall-of-fame/simleo/)\n\nApache-2.0 licensed content from the [Galaxy Training Network](https://training.galaxyproject.org/)\n\n**Objectives**\n\n- What are Workflow Best Practices\n- How does RO-Crate help?\n\n**Objectives**\n\n- Generate a workflow test using Planemo\n- Understand how testing can be automated with GitHub Actions\n\n**Time Estimation: 30M**\n</div>\n",
      "metadata": {
        "editable": false,
        "collapsed": false
      }
    },
    {
      "id": "cell-0",
      "source": "<p>A workflow, just like any other piece of software, can be formally correct and runnable but still lack a number of additional features that might help its reusability, interoperability, understandability, etc.</p>\n<p>One of the most useful additions to a workflow is a suite of tests, which help check that the workflow is operating as intended. A test case consists of a set of inputs and corresponding expected outputs, together with a procedure for comparing the workflow’s actual outputs with the expected ones. It might be the case, in fact, that a test may be considered successful even if the actual outputs do not match the expected ones exactly, for instance because the computation involves a certain degree of randomness, or the output includes timestamps or randomly generated identifiers. Providing documentation is also important to help understand the workflow’s purpose and mode of operation, its requirements, the effect of its parameters, etc. Even a single, well structured README file can go a long way towards getting users started with your workflow, especially if complemented by examples that include sample inputs and running instructions.</p>\n<blockquote class=\"agenda\" style=\"border: 2px solid #86D486;display: none; margin: 1em 0.2em\">\n<div class=\"box-title agenda-title\" id=\"agenda\">Agenda</div>\n<p>In this tutorial, you will learn how to create a git repo, and begin working with it.</p>\n<ol id=\"markdown-toc\">\n<li><a href=\"#community-best-practices\" id=\"markdown-toc-community-best-practices\">Community best practices</a></li>\n<li><a href=\"#best-practice-repositories-and-ro-crate\" id=\"markdown-toc-best-practice-repositories-and-ro-crate\">Best practice repositories and RO-Crate</a></li>\n</ol>\n</blockquote>\n<h2 id=\"community-best-practices\">Community best practices</h2>\n<p>Though the practices listed above can be considered general enough to be applicable to any kind of software, individual communities usually add their own specific sets of rules and conventions that help users quickly find their way around software projects, understand them more easily and reuse them more effectively. The Galaxy community, for instance, has a <a href=\"https://planemo.readthedocs.io/en/latest/best_practices_workflows.html\">guide on best practices for maintaining workflows</a>.</p>\n<p>The <a href=\"https://github.com/galaxyproject/iwc\">Intergalactic Workflow Commission (IWC)</a> is a collection of highly curated Galaxy workflows that follow best practices and conform to a specific GitHub directory layout, as specified in the <a href=\"https://github.com/galaxyproject/iwc/blob/main/workflows/README.md#adding-workflows\">guide on adding workflows</a>. In particular, the workflow file must be accompanied by a <a href=\"https://planemo.readthedocs.io/en/latest/test_format.html\">Planemo test file</a> with the same name but a <code style=\"color: inherit\">-test.yml</code> extension, and a <code style=\"color: inherit\">test-data</code> directory that contains the datasets used by the tests described in the test file. The guide also specifies how to fulfill other requirements such as setting a license, a creator and a version tag. A new workflow can be proposed for inclusion in the collection by opening a pull request to the <a href=\"https://github.com/galaxyproject/iwc\">IWC repository</a>: if it passes the review and is merged, it will be published to <a href=\"https://github.com/iwc-workflows\">iwc-workflows</a>. The publication process also generates a metadata file that turns the repository into a <a href=\"https://crs4.github.io/life_monitor/workflow_testing_ro_crate\">Workflow Testing RO-Crate</a>, which can be registered to <a href=\"https://workflowhub.eu/\">WorkflowHub</a> and <a href=\"https://www.lifemonitor.eu/\">LifeMonitor</a>.</p>\n<h2 id=\"best-practice-repositories-and-ro-crate\">Best practice repositories and RO-Crate</h2>\n<p>The <a href=\"https://github.com/crs4/repo2rocrate\">repo2rocrate</a> software package allows to generate a <a href=\"https://crs4.github.io/life_monitor/workflow_testing_ro_crate\">Workflow Testing RO-Crate</a> for a workflow repository that follows community best practices. It currently supports Galaxy (based on IWC guidelines), Nextflow and Snakemake. The tool assumes that the workflow repository is structured according to the community guidelines and generates the appropriate <a href=\"https://w3id.org/ro/crate/\">RO-Crate</a> metadata for the various entities. Several command line options allow to specify additional information that cannot be automatically detected or needs to be overridden.</p>\n<p>To try the software, we’ll clone one of the iwc-workflows repositories, whose layout is known to respect the IWC guidelines. Since it already contains an RO-Crate metadata file, we’ll delete it before running the tool.</p>\n",
      "cell_type": "markdown",
      "metadata": {
        "editable": false,
        "collapsed": false
      }
    },
    {
      "id": "cell-1",
      "source": [
        "pip install repo2rocrate\n",
        "git clone https://github.com/iwc-workflows/parallel-accession-download\n",
        "cd parallel-accession-download/\n",
        "rm -fv ro-crate-metadata.json\n",
        "repo2rocrate --repo-url https://github.com/iwc-workflows/parallel-accession-download"
      ],
      "cell_type": "code",
      "execution_count": null,
      "outputs": [

      ],
      "metadata": {
        "attributes": {
          "classes": [
            "One of the most useful additions to a workflow is a suite of tests, which help check that the workflow is operating as intended. A test case consists of a set of inputs and corresponding expected outputs, together with a procedure for comparing the workflow's actual outputs with the expected ones. It might be the case, in fact, that a test may be considered successful even if the actual outputs do not match the expected ones exactly, for instance because the computation involves a certain degree of randomness, or the output includes timestamps or randomly generated identifiers. Providing documentation is also important to help understand the workflow's purpose and mode of operation, its requirements, the effect of its parameters, etc. Even a single, well structured README file can go a long way towards getting users started with your workflow, especially if complemented by examples that include sample inputs and running instructions."
          ],
          "id": ""
        }
      }
    },
    {
      "id": "cell-2",
      "source": "<p>This adds an <code style=\"color: inherit\">ro-crate-metadata.json</code> file at the top level with metadata generated based on the tool’s knowledge of the expected repository layout. By specifying a zip file as an output, we can directly generate an RO-Crate in the format accepted by WorkflowHub and LifeMonitor:</p>\n",
      "cell_type": "markdown",
      "metadata": {
        "editable": false,
        "collapsed": false
      }
    },
    {
      "id": "cell-3",
      "source": [
        "repo2rocrate --repo-url https://github.com/iwc-workflows/parallel-accession-download -o ../parallel-accession-download.crate.zip"
      ],
      "cell_type": "code",
      "execution_count": null,
      "outputs": [

      ],
      "metadata": {
        "attributes": {
          "classes": [
            "One of the most useful additions to a workflow is a suite of tests, which help check that the workflow is operating as intended. A test case consists of a set of inputs and corresponding expected outputs, together with a procedure for comparing the workflow's actual outputs with the expected ones. It might be the case, in fact, that a test may be considered successful even if the actual outputs do not match the expected ones exactly, for instance because the computation involves a certain degree of randomness, or the output includes timestamps or randomly generated identifiers. Providing documentation is also important to help understand the workflow's purpose and mode of operation, its requirements, the effect of its parameters, etc. Even a single, well structured README file can go a long way towards getting users started with your workflow, especially if complemented by examples that include sample inputs and running instructions."
          ],
          "id": ""
        }
      }
    },
    {
      "id": "cell-4",
      "source": "<h2 id=\"generating-tests-for-your-workflow\">Generating tests for your workflow</h2>\n<p>What if you only have a workflow, but you don’t have the test layout yet? You can use Planemo to generate it.</p>\n",
      "cell_type": "markdown",
      "metadata": {
        "editable": false,
        "collapsed": false
      }
    },
    {
      "id": "cell-5",
      "source": [
        "pip install planemo"
      ],
      "cell_type": "code",
      "execution_count": null,
      "outputs": [

      ],
      "metadata": {
        "attributes": {
          "classes": [
            "One of the most useful additions to a workflow is a suite of tests, which help check that the workflow is operating as intended. A test case consists of a set of inputs and corresponding expected outputs, together with a procedure for comparing the workflow's actual outputs with the expected ones. It might be the case, in fact, that a test may be considered successful even if the actual outputs do not match the expected ones exactly, for instance because the computation involves a certain degree of randomness, or the output includes timestamps or randomly generated identifiers. Providing documentation is also important to help understand the workflow's purpose and mode of operation, its requirements, the effect of its parameters, etc. Even a single, well structured README file can go a long way towards getting users started with your workflow, especially if complemented by examples that include sample inputs and running instructions."
          ],
          "id": ""
        }
      }
    },
    {
      "id": "cell-6",
      "source": "<p>As an example we will use this <a href=\"https://github.com/crs4/life_monitor/blob/50cdb790ff125613aa07e70cb439e3a36b82d0bf/interaction_experiments/workflow_examples/galaxy/sort-and-change-case/sort-and-change-case.ga\">simple workflow</a>, which has only two steps: it sorts the input lines and changes them to upper case. Follow these steps to generate a test layout for it:</p>\n<blockquote class=\"hands_on\" style=\"border: 2px solid #dfe5f9; margin: 1em 0.2em\">\n<div class=\"box-title hands-on-title\" id=\"hands-on-generate-workflow-tests-with-planemo\"><i class=\"fas fa-pencil-alt\" aria-hidden=\"true\" ></i> Hands-on: Generate Workflow Tests With Planemo</div>\n<ol>\n<li>Download <a href=\"https://raw.githubusercontent.com/crs4/life_monitor/50cdb790ff125613aa07e70cb439e3a36b82d0bf/interaction_experiments/workflow_examples/galaxy/sort-and-change-case/sort-and-change-case.ga\">the workflow</a> to a <code style=\"color: inherit\">sort-and-change-case.ga</code> file.</li>\n<li>Download <a href=\"https://raw.githubusercontent.com/crs4/life_monitor/50cdb790ff125613aa07e70cb439e3a36b82d0bf/interaction_experiments/workflow_examples/galaxy/sort-and-change-case/input.bed\">this input dataset</a> to an <code style=\"color: inherit\">input.bed</code> file.</li>\n<li>Upload the workflow to Galaxy (e.g., <a href=\"https://usegalaxy.eu/\">Galaxy Europe</a>): from the upper menu, click on “Workflow” &gt; “Import” &gt; “Browse”, choose <code style=\"color: inherit\">sort-and-change-case.ga</code> and then click “Import workflow”.</li>\n<li>Start a new history: click on the “+” button on the History panel to the right.</li>\n<li>Upload the input dataset to the new history: on the left panel, go to “Upload Data” &gt; “Choose local files” and select <code style=\"color: inherit\">input.bed</code>, then click “Start” &gt; “Close”.</li>\n<li>Wait for the file to finish uploading (i.e., for the loading circle on the dataset’s line in the history to disappear).</li>\n<li>Run the workflow on the input dataset: click on “Workflow” in the upper menu, locate <code style=\"color: inherit\">sort-and-change-case</code>, and click on the play button to the right.</li>\n</ol>\n<p><a href=\"img/workflow-entry.png\" rel=\"noopener noreferrer\"><img src=\"img/workflow-entry.png\" alt=\"Workflow Entry. \" width=\"936\" height=\"192\" loading=\"lazy\" /></a></p>\n<ol>\n<li>\n<p>This should take you to the workflow running page. The input slot should be already filled with <code style=\"color: inherit\">input.bed</code> since there is nothing else in the history. Click on “Run Workflow” on the upper right of the center panel.</p>\n<p><a href=\"img/workflow-run-page.png\" rel=\"noopener noreferrer\"><img src=\"img/workflow-run-page.png\" alt=\"Workflow Run Page. \" width=\"974\" height=\"175\" loading=\"lazy\" /></a></p>\n</li>\n<li>Wait for the workflow execution to finish.</li>\n<li>\n<p>On the upper menu, go to “User” &gt; “Workflow Invocations”, click on the invocation corresponding to the workflow just run and copy the invocation’s ID. In my case it says “Invocation: a043e8c60873170b” on the right, where <code style=\"color: inherit\">a043e8c60873170b</code> is the ID.</p>\n<p><a href=\"img/workflow-invocation.png\" rel=\"noopener noreferrer\"><img src=\"img/workflow-invocation.png\" alt=\"Workflow Invocation. \" width=\"921\" height=\"320\" loading=\"lazy\" /></a></p>\n</li>\n<li>\n<p>On the upper menu, go to “User” &gt; “Preferences” &gt; “Manage API Key”. If you don’t have an API key yet, click the button to create a new one. Under “Current API key”, click the button to copy the API Key on the right.</p>\n<p><a href=\"img/api-key.png\" rel=\"noopener noreferrer\"><img src=\"img/api-key.png\" alt=\"API key. \" width=\"951\" height=\"280\" loading=\"lazy\" /></a></p>\n</li>\n<li>Run <code style=\"color: inherit\">planemo workflow_test_init --galaxy_url https://usegalaxy.eu --from_invocation INVOCATION_ID --galaxy_user_key API_KEY</code>, replacing <code style=\"color: inherit\">INVOCATION_ID</code> with the actual invocation ID and <code style=\"color: inherit\">API_KEY</code> with the actual API key. If you’re not using the Galaxy Europe instance, also replace <code style=\"color: inherit\">https://usegalaxy.eu</code> with the URL of the instance you’re using.</li>\n<li>Rename <code style=\"color: inherit\">sort-and-change-case-(imported-from-uploaded-file).ga</code> to <code style=\"color: inherit\">sort-and-change-case.ga</code> and <code style=\"color: inherit\">sort-and-change-case-(imported-from-uploaded-file)-tests.yml</code> to <code style=\"color: inherit\">sort-and-change-case-tests.yml</code>. The rest of the files generated by Planemo are under <code style=\"color: inherit\">test-data</code>.</li>\n</ol>\n</blockquote>\n",
      "cell_type": "markdown",
      "metadata": {
        "editable": false,
        "collapsed": false
      }
    },
    {
      "id": "cell-7",
      "source": [
        "planemo workflow_test_init --galaxy_url https://usegalaxy.eu --from_invocation INVOCATION_ID --galaxy_user_key API_KEY"
      ],
      "cell_type": "code",
      "execution_count": null,
      "outputs": [

      ],
      "metadata": {
        "attributes": {
          "classes": [
            "One of the most useful additions to a workflow is a suite of tests, which help check that the workflow is operating as intended. A test case consists of a set of inputs and corresponding expected outputs, together with a procedure for comparing the workflow's actual outputs with the expected ones. It might be the case, in fact, that a test may be considered successful even if the actual outputs do not match the expected ones exactly, for instance because the computation involves a certain degree of randomness, or the output includes timestamps or randomly generated identifiers. Providing documentation is also important to help understand the workflow's purpose and mode of operation, its requirements, the effect of its parameters, etc. Even a single, well structured README file can go a long way towards getting users started with your workflow, especially if complemented by examples that include sample inputs and running instructions."
          ],
          "id": ""
        }
      }
    },
    {
      "id": "cell-8",
      "source": "<h2 id=\"adding-a-github-workflow\">Adding a GitHub workflow</h2>\n<p>In the previous section, we have learned how to generate a test layout for an example Galaxy workflow. You can apply the same procedure to your workflow and get the file structure you need to populate the GitHub repository. One thing is still missing though: a GitHub workflow to test the Galaxy workflow automatically. At the top level of the repository, create a <code style=\"color: inherit\">.github/workflows</code> directory and place a <code style=\"color: inherit\">wftest.yml</code> file inside it with the following content:</p>\n<div class=\"language-yaml highlighter-rouge\"><div><pre style=\"color: inherit; background: transparent\"><code style=\"color: inherit\"><span class=\"na\">name</span><span class=\"pi\">:</span> <span class=\"s\">Periodic workflow test</span>\n<span class=\"na\">on</span><span class=\"pi\">:</span>\n<span class=\"na\">schedule</span><span class=\"pi\">:</span>\n<span class=\"pi\">-</span> <span class=\"na\">cron</span><span class=\"pi\">:</span> <span class=\"s1\">'</span><span class=\"s\">0</span><span class=\"nv\"> </span><span class=\"s\">3</span><span class=\"nv\"> </span><span class=\"s\">*</span><span class=\"nv\"> </span><span class=\"s\">*</span><span class=\"nv\"> </span><span class=\"s\">*'</span>\n<span class=\"na\">workflow_dispatch</span><span class=\"pi\">:</span>\n<span class=\"na\">jobs</span><span class=\"pi\">:</span>\n<span class=\"na\">test</span><span class=\"pi\">:</span>\n<span class=\"na\">name</span><span class=\"pi\">:</span> <span class=\"s\">Test workflow</span>\n<span class=\"na\">runs-on</span><span class=\"pi\">:</span> <span class=\"s\">ubuntu-latest</span>\n<span class=\"na\">steps</span><span class=\"pi\">:</span>\n<span class=\"pi\">-</span> <span class=\"na\">uses</span><span class=\"pi\">:</span> <span class=\"s\">actions/checkout@v2</span>\n<span class=\"na\">with</span><span class=\"pi\">:</span>\n<span class=\"na\">fetch-depth</span><span class=\"pi\">:</span> <span class=\"m\">1</span>\n<span class=\"pi\">-</span> <span class=\"na\">uses</span><span class=\"pi\">:</span> <span class=\"s\">actions/setup-python@v1</span>\n<span class=\"na\">with</span><span class=\"pi\">:</span>\n<span class=\"na\">python-version</span><span class=\"pi\">:</span> <span class=\"s1\">'</span><span class=\"s\">3.7'</span>\n<span class=\"pi\">-</span> <span class=\"na\">name</span><span class=\"pi\">:</span> <span class=\"s\">install Planemo</span>\n<span class=\"na\">run</span><span class=\"pi\">:</span> <span class=\"pi\">|</span>\n<span class=\"s\">pip install --upgrade pip</span>\n<span class=\"s\">pip install planemo</span>\n<span class=\"pi\">-</span> <span class=\"na\">name</span><span class=\"pi\">:</span> <span class=\"s\">run planemo test</span>\n<span class=\"na\">run</span><span class=\"pi\">:</span> <span class=\"pi\">|</span>\n<span class=\"s\">planemo test --biocontainers sort-and-change-case.ga</span>\n</code></pre></div></div>\n<p>Replacing <code style=\"color: inherit\">sort-and-change-case.ga</code> with the name of your actual Galaxy workflow. You can find extensive <a href=\"https://docs.github.com/en/actions/using-workflows\">documentation on GitHub workflows</a> on the GitHub web site. Here we’ll give some highlights:</p>\n<ul>\n<li>the <code style=\"color: inherit\">on</code> field sets the GitHub workflow to run:\n<ul>\n<li>automatically every day at 3 AM</li>\n<li>when manually dispatched</li>\n</ul>\n</li>\n<li>the steps do the following:\n<ul>\n<li>check out the GitHub repository</li>\n<li>set up a Python environment</li>\n<li>install Planemo</li>\n<li>run <code style=\"color: inherit\">planemo test</code> on the Galaxy workflow</li>\n</ul>\n</li>\n</ul>\n<p>An example of a repository built according to the guidelines given here is <a href=\"https://github.com/simleo/ccs-bam-to-fastq-qc-crate\">simleo/ccs-bam-to-fastq-qc-crate</a>, which realizes the Workflow Testing RO-Crate setup for <a href=\"https://workflowhub.eu/workflows/220\">BAM-to-FASTQ-QC</a>.</p>\n",
      "cell_type": "markdown",
      "metadata": {
        "editable": false,
        "collapsed": false
      }
    },
    {
      "cell_type": "markdown",
      "id": "final-ending-cell",
      "metadata": {
        "editable": false,
        "collapsed": false
      },
      "source": [
        "# Key Points\n\n",
        "- repo2rocrate lets you easily generate templated out metadata for your workflow\n",
        "- Generating tests is easy and something everyone should do.\n",
        "\n# Congratulations on successfully completing this tutorial!\n\n",
        "Please [fill out the feedback on the GTN website](https://training.galaxyproject.org/training-material/topics/fair/tutorials/ro-crate-galaxy-best-practices/tutorial.html#feedback) and check there for further resources!\n"
      ]
    }
  ]
}