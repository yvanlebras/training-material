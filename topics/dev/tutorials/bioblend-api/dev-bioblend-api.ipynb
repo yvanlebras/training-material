{
  "metadata": {
  },
  "nbformat": 4,
  "nbformat_minor": 5,
  "cells": [
    {
      "id": "metadata",
      "cell_type": "markdown",
      "source": "<div style=\"border: 2px solid #8A9AD0; margin: 1em 0.2em; padding: 0.5em;\">\n\n# Scripting Galaxy using the API and BioBlend\n\nby [Nicola Soranzo](https://training.galaxyproject.org/hall-of-fame/nsoranzo/)\n\nCC-BY licensed content from the [Galaxy Training Network](https://training.galaxyproject.org/)\n\n**Objectives**\n\n- What is a REST API?\n- How to interact with Galaxy programmatically?\n- Why and when should I use BioBlend?\n\n**Objectives**\n\n- Interact with Galaxy via BioBlend.\n\n**Time Estimation: 2h**\n</div>\n",
      "metadata": {
        "editable": false,
        "collapsed": false
      }
    },
    {
      "id": "cell-0",
      "source": "<blockquote class=\"agenda\" style=\"border: 2px solid #86D486;display: none; margin: 1em 0.2em\">\n<div class=\"box-title agenda-title\" id=\"agenda\">Agenda</div>\n<p>In this tutorial, we will cover:</p>\n<ol id=\"markdown-toc\">\n<li><a href=\"#interacting-with-histories-in-galaxy-api\" id=\"markdown-toc-interacting-with-histories-in-galaxy-api\">Interacting with histories in Galaxy API</a></li>\n</ol>\n</blockquote>\n<h1 id=\"interacting-with-histories-in-galaxy-api\">Interacting with histories in Galaxy API</h1>\n<p>We are going to use the <a href=\"https://requests.readthedocs.io/\">requests</a> Python library to communicate via HTTP with the Galaxy server. To start, let’s define the connection parameters.</p>\n<p><strong>You need to insert the API key for your Galaxy server in the cell below</strong>:</p>\n<ol>\n<li>Open the Galaxy server in another browser tab</li>\n<li>Click on “User” on the top menu, then “Preferences”</li>\n<li>Click on “Manage API key”</li>\n<li>Generate an API key if needed, then copy the alphanumeric string and paste it as the value of the <code style=\"color: inherit\">api_key</code> variable below.</li>\n</ol>\n",
      "cell_type": "markdown",
      "metadata": {
        "editable": false,
        "collapsed": false
      }
    },
    {
      "id": "cell-1",
      "source": [
        "import json\n",
        "from pprint import pprint\n",
        "from urllib.parse import urljoin\n",
        "\n",
        "import requests\n",
        "\n",
        "server = 'https://usegalaxy.eu/'\n",
        "api_key = ''\n",
        "base_url = urljoin(server, 'api')\n",
        "base_url"
      ],
      "cell_type": "code",
      "execution_count": null,
      "outputs": [

      ],
      "metadata": {
        "attributes": {
          "classes": [
            "> In this tutorial, we will cover:"
          ],
          "id": ""
        }
      }
    },
    {
      "id": "cell-2",
      "source": "<p>We now make a GET request to retrieve all histories owned by a user:</p>\n",
      "cell_type": "markdown",
      "metadata": {
        "editable": false,
        "collapsed": false
      }
    },
    {
      "id": "cell-3",
      "source": [
        "headers = {\"Content-Type\": \"application/json\", \"x-api-key\": api_key}\n",
        "r = requests.get(base_url + \"/histories\", headers=headers)\n",
        "print(r.text)\n",
        "hists = r.json()\n",
        "pprint(hists)"
      ],
      "cell_type": "code",
      "execution_count": null,
      "outputs": [

      ],
      "metadata": {
        "attributes": {
          "classes": [
            "> In this tutorial, we will cover:"
          ],
          "id": ""
        }
      }
    },
    {
      "id": "cell-4",
      "source": "<p>As you can see, GET requests in Galaxy API return JSON strings, which need to be <strong>deserialized</strong> into Python data structures. In particular, GETting a resource collection returns a list of dictionaries.</p>\n<p>Each dictionary returned when GETting a resource collection gives basic info about a resource, e.g. for a history you have:</p>\n<ul>\n<li><code style=\"color: inherit\">id</code>: the unique <strong>identifier</strong> of the history, needed for all specific requests about this resource</li>\n<li><code style=\"color: inherit\">name</code>: the name of this history as given by the user</li>\n<li><code style=\"color: inherit\">deleted</code>: whether the history has been deleted.</li>\n</ul>\n<p>There is no readily-available filtering capability, but it’s not difficult to filter histories <strong>by name</strong>:</p>\n",
      "cell_type": "markdown",
      "metadata": {
        "editable": false,
        "collapsed": false
      }
    },
    {
      "id": "cell-5",
      "source": [
        "pprint([_ for _ in hists if _['name'] == 'Unnamed history'])"
      ],
      "cell_type": "code",
      "execution_count": null,
      "outputs": [

      ],
      "metadata": {
        "attributes": {
          "classes": [
            "> In this tutorial, we will cover:"
          ],
          "id": ""
        }
      }
    },
    {
      "id": "cell-6",
      "source": "<p>If you are interested in more <strong>details</strong> about a given resource, you just need to append its <code style=\"color: inherit\">id</code> to the previous collection request, e.g. to the get more info for a history:</p>\n",
      "cell_type": "markdown",
      "metadata": {
        "editable": false,
        "collapsed": false
      }
    },
    {
      "id": "cell-7",
      "source": [
        "hist0_id = hists[0]['id']\n",
        "print(hist0_id)\n",
        "r = requests.get(base_url + \"/histories/\" + hist0_id, headers=headers)\n",
        "pprint(r.json())"
      ],
      "cell_type": "code",
      "execution_count": null,
      "outputs": [

      ],
      "metadata": {
        "attributes": {
          "classes": [
            "> In this tutorial, we will cover:"
          ],
          "id": ""
        }
      }
    },
    {
      "id": "cell-8",
      "source": "<p>As you can see, there are much more entries in the returned dictionary, e.g.:</p>\n<ul>\n<li><code style=\"color: inherit\">create_time</code></li>\n<li><code style=\"color: inherit\">size</code>: total disk space used by the history</li>\n<li><code style=\"color: inherit\">state_ids</code>: ids of history datasets for each possible state.</li>\n</ul>\n<p>To get the list of <strong>datasets contained</strong> in a history, simply append <code style=\"color: inherit\">/contents</code> to the previous resource request.</p>\n",
      "cell_type": "markdown",
      "metadata": {
        "editable": false,
        "collapsed": false
      }
    },
    {
      "id": "cell-9",
      "source": [
        "r = requests.get(base_url + \"/histories/\" + hist0_id + \"/contents\", headers=headers)\n",
        "hdas = r.json()\n",
        "pprint(hdas)"
      ],
      "cell_type": "code",
      "execution_count": null,
      "outputs": [

      ],
      "metadata": {
        "attributes": {
          "classes": [
            "> In this tutorial, we will cover:"
          ],
          "id": ""
        }
      }
    },
    {
      "id": "cell-10",
      "source": "<p>The dictionaries returned when GETting the history content give basic info about each dataset, e.g.: <code style=\"color: inherit\">id</code>, <code style=\"color: inherit\">name</code>, <code style=\"color: inherit\">deleted</code>, <code style=\"color: inherit\">state</code>, <code style=\"color: inherit\">url</code>…</p>\n<p>To get the details about a specific dataset, you can use the <code style=\"color: inherit\">datasets</code> controller:</p>\n",
      "cell_type": "markdown",
      "metadata": {
        "editable": false,
        "collapsed": false
      }
    },
    {
      "id": "cell-11",
      "source": [
        "hda0_id = hdas[0]['id']\n",
        "print(hda0_id)\n",
        "r = requests.get(base_url + \"/datasets/\" + hda0_id, headers=headers)\n",
        "pprint(r.json())"
      ],
      "cell_type": "code",
      "execution_count": null,
      "outputs": [

      ],
      "metadata": {
        "attributes": {
          "classes": [
            "> In this tutorial, we will cover:"
          ],
          "id": ""
        }
      }
    },
    {
      "id": "cell-12",
      "source": "<p>Some of the interesting additional dictionary entries are:</p>\n<ul>\n<li><code style=\"color: inherit\">create_time</code></li>\n<li><code style=\"color: inherit\">creating job</code>: id of the job which created this dataset</li>\n<li><code style=\"color: inherit\">download_url</code>: URL to download the dataset</li>\n<li><code style=\"color: inherit\">file_ext</code>: the Galaxy data type of this dataset</li>\n<li><code style=\"color: inherit\">file_size</code></li>\n<li><code style=\"color: inherit\">genome_build</code>: the genome build (dbkey) associated to this dataset.</li>\n</ul>\n<p><strong>New resources</strong> are created with POST requests. The uploaded <strong>data needs to be serialized</strong> in a JSON string. For example, to create a new history:</p>\n",
      "cell_type": "markdown",
      "metadata": {
        "editable": false,
        "collapsed": false
      }
    },
    {
      "id": "cell-13",
      "source": [
        "data = {'name': 'New history'}\n",
        "r = requests.post(base_url + \"/histories\", data=json.dumps(data), headers=headers)\n",
        "new_hist = r.json()\n",
        "pprint(new_hist)"
      ],
      "cell_type": "code",
      "execution_count": null,
      "outputs": [

      ],
      "metadata": {
        "attributes": {
          "classes": [
            "> In this tutorial, we will cover:"
          ],
          "id": ""
        }
      }
    },
    {
      "id": "cell-14",
      "source": "<p>The return value of a POST request is a dictionary with detailed info about the created resource.</p>\n<p>To <strong>update</strong> a resource, make a PUT request, e.g. to change the history name:</p>\n",
      "cell_type": "markdown",
      "metadata": {
        "editable": false,
        "collapsed": false
      }
    },
    {
      "id": "cell-15",
      "source": [
        "data = {'name': 'Updated history'}\n",
        "r = requests.put(base_url + \"/histories/\" + new_hist[\"id\"], json.dumps(data), headers=headers)\n",
        "print(r.status_code)\n",
        "pprint(r.json())"
      ],
      "cell_type": "code",
      "execution_count": null,
      "outputs": [

      ],
      "metadata": {
        "attributes": {
          "classes": [
            "> In this tutorial, we will cover:"
          ],
          "id": ""
        }
      }
    },
    {
      "id": "cell-16",
      "source": "<p>The return value of a PUT request is usually a dictionary with detailed info about the updated resource.</p>\n<p>Finally to <strong>delete</strong> a resource, make a DELETE request, e.g.:</p>\n",
      "cell_type": "markdown",
      "metadata": {
        "editable": false,
        "collapsed": false
      }
    },
    {
      "id": "cell-17",
      "source": [
        "r = requests.delete(base_url + \"/histories/\" + new_hist[\"id\"], headers=headers)\n",
        "print(r.status_code)"
      ],
      "cell_type": "code",
      "execution_count": null,
      "outputs": [

      ],
      "metadata": {
        "attributes": {
          "classes": [
            "> In this tutorial, we will cover:"
          ],
          "id": ""
        }
      }
    },
    {
      "id": "cell-18",
      "source": "<h2 id=\"exercise-galaxy-api\">Exercise: Galaxy API</h2>\n<p><strong>Goal</strong>: Upload a file to a new history, import a workflow and run it on the uploaded dataset.</p>\n<blockquote class=\"question\" style=\"border: 2px solid #8A9AD0; margin: 1em 0.2em\">\n<div class=\"box-title question-title\" id=\"question-initialise\"><i class=\"far fa-question-circle\" aria-hidden=\"true\" ></i> Question: Initialise</div>\n<p>First, define the connection parameters. What variables do you need?</p>\n<br/><details style=\"border: 2px solid #B8C3EA; margin: 1em 0.2em;padding: 0.5em; cursor: pointer;\"><summary>👁 View solution</summary>\n<div class=\"box-title solution-title\" id=\"solution\"><button class=\"gtn-boxify-button solution\" type=\"button\" aria-controls=\"solution\" aria-expanded=\"true\"><i class=\"far fa-eye\" aria-hidden=\"true\" ></i> Solution<span class=\"fold-unfold fa fa-minus-square\"></span></button></div>\n<div class=\"language-plaintext highlighter-rouge\"><div><pre style=\"color: inherit; background: transparent\"><code style=\"color: inherit\">import json\nfrom pprint import pprint\nfrom urllib.parse import urljoin\n\nimport requests\n\nserver = 'https://usegalaxy.eu/'\napi_key = ''\nbase_url = urljoin(server, 'api')\n</code></pre></div>    </div>\n</details>\n</blockquote>\n",
      "cell_type": "markdown",
      "metadata": {
        "editable": false,
        "collapsed": false
      }
    },
    {
      "id": "cell-19",
      "source": [
        "# Try it out here!\n",
        ""
      ],
      "cell_type": "code",
      "execution_count": null,
      "outputs": [

      ],
      "metadata": {
        "attributes": {
          "classes": [
            "> In this tutorial, we will cover:"
          ],
          "id": ""
        }
      }
    },
    {
      "id": "cell-20",
      "source": "<blockquote class=\"question\" style=\"border: 2px solid #8A9AD0; margin: 1em 0.2em\">\n<div class=\"box-title question-title\" id=\"question-new-history\"><i class=\"far fa-question-circle\" aria-hidden=\"true\" ></i> Question: New History</div>\n<p>Next, create a new Galaxy history via POST to the correct API.</p>\n<br/><details style=\"border: 2px solid #B8C3EA; margin: 1em 0.2em;padding: 0.5em; cursor: pointer;\"><summary>👁 View solution</summary>\n<div class=\"box-title solution-title\" id=\"solution-1\"><button class=\"gtn-boxify-button solution\" type=\"button\" aria-controls=\"solution-1\" aria-expanded=\"true\"><i class=\"far fa-eye\" aria-hidden=\"true\" ></i> Solution<span class=\"fold-unfold fa fa-minus-square\"></span></button></div>\n<div class=\"language-plaintext highlighter-rouge\"><div><pre style=\"color: inherit; background: transparent\"><code style=\"color: inherit\">headers = {\"Content-Type\": \"application/json\", \"x-api-key\": api_key}\ndata = {\"name\": \"New history\"}\nr = requests.post(base_url + \"/histories\", data=json.dumps(data), headers=headers)\nnew_hist = r.json()\npprint(new_hist)\n</code></pre></div>    </div>\n</details>\n</blockquote>\n",
      "cell_type": "markdown",
      "metadata": {
        "editable": false,
        "collapsed": false
      }
    },
    {
      "id": "cell-21",
      "source": [
        "# Try it out here!\n",
        ""
      ],
      "cell_type": "code",
      "execution_count": null,
      "outputs": [

      ],
      "metadata": {
        "attributes": {
          "classes": [
            "> In this tutorial, we will cover:"
          ],
          "id": ""
        }
      }
    },
    {
      "id": "cell-22",
      "source": "<blockquote class=\"question\" style=\"border: 2px solid #8A9AD0; margin: 1em 0.2em\">\n<div class=\"box-title question-title\" id=\"question-upload-a-dataset\"><i class=\"far fa-question-circle\" aria-hidden=\"true\" ></i> Question: Upload a dataset</div>\n<p><strong>Upload</strong> the local file <code style=\"color: inherit\">1.txt</code> to the new history. You need to run the special <code style=\"color: inherit\">upload1</code> tool by making a <code style=\"color: inherit\">POST</code> request to <code style=\"color: inherit\">/api/tools</code>. You don’t need to pass any inputs to it apart from attaching the file as <code style=\"color: inherit\">files_0|file_data</code>. Also, note that when attaching a file the payload should <strong>not</strong> be serialized to a JSON string and you need to drop <code style=\"color: inherit\">Content-Type</code> from the request headers.</p>\n<p>You can obtain the <code style=\"color: inherit\">1.txt</code> file from the following URL, you’ll need to download it first.</p>\n<div class=\"language-plaintext highlighter-rouge\"><div><pre style=\"color: inherit; background: transparent\"><code style=\"color: inherit\">https://raw.githubusercontent.com/nsoranzo/bioblend-tutorial/main/test-data/1.txt\n</code></pre></div>  </div>\n<br/><details style=\"border: 2px solid #B8C3EA; margin: 1em 0.2em;padding: 0.5em; cursor: pointer;\"><summary>👁 View solution</summary>\n<div class=\"box-title solution-title\" id=\"solution-2\"><button class=\"gtn-boxify-button solution\" type=\"button\" aria-controls=\"solution-2\" aria-expanded=\"true\"><i class=\"far fa-eye\" aria-hidden=\"true\" ></i> Solution<span class=\"fold-unfold fa fa-minus-square\"></span></button></div>\n<div class=\"language-plaintext highlighter-rouge\"><div><pre style=\"color: inherit; background: transparent\"><code style=\"color: inherit\">data = {\n    \"history_id\": new_hist[\"id\"],\n    \"tool_id\": \"upload1\"\n}\nwith open(\"1.txt\", \"rb\") as f:\n    files = {\"files_0|file_data\": f}\n    r = requests.post(base_url + \"/tools\", data=data, files=files, headers={\"x-api-key\": api_key})\nret = r.json()\npprint(ret)\n</code></pre></div>    </div>\n</details>\n</blockquote>\n",
      "cell_type": "markdown",
      "metadata": {
        "editable": false,
        "collapsed": false
      }
    },
    {
      "id": "cell-23",
      "source": [
        "# Try it out here!\n",
        ""
      ],
      "cell_type": "code",
      "execution_count": null,
      "outputs": [

      ],
      "metadata": {
        "attributes": {
          "classes": [
            "> In this tutorial, we will cover:"
          ],
          "id": ""
        }
      }
    },
    {
      "id": "cell-24",
      "source": "<blockquote class=\"question\" style=\"border: 2px solid #8A9AD0; margin: 1em 0.2em\">\n<div class=\"box-title question-title\" id=\"question-find-the-dataset-in-your-history\"><i class=\"far fa-question-circle\" aria-hidden=\"true\" ></i> Question: Find the dataset in your history</div>\n<p>Find the new uploaded dataset, either from the dict returned by the POST request above or from the history contents.</p>\n<br/><details style=\"border: 2px solid #B8C3EA; margin: 1em 0.2em;padding: 0.5em; cursor: pointer;\"><summary>👁 View solution</summary>\n<div class=\"box-title solution-title\" id=\"solution-3\"><button class=\"gtn-boxify-button solution\" type=\"button\" aria-controls=\"solution-3\" aria-expanded=\"true\"><i class=\"far fa-eye\" aria-hidden=\"true\" ></i> Solution<span class=\"fold-unfold fa fa-minus-square\"></span></button></div>\n<div class=\"language-plaintext highlighter-rouge\"><div><pre style=\"color: inherit; background: transparent\"><code style=\"color: inherit\">hda = ret['outputs'][0]\npprint(hda)\n</code></pre></div>    </div>\n</details>\n</blockquote>\n",
      "cell_type": "markdown",
      "metadata": {
        "editable": false,
        "collapsed": false
      }
    },
    {
      "id": "cell-25",
      "source": [
        "# Try it out here!\n",
        ""
      ],
      "cell_type": "code",
      "execution_count": null,
      "outputs": [

      ],
      "metadata": {
        "attributes": {
          "classes": [
            "> In this tutorial, we will cover:"
          ],
          "id": ""
        }
      }
    },
    {
      "id": "cell-26",
      "source": "<blockquote class=\"question\" style=\"border: 2px solid #8A9AD0; margin: 1em 0.2em\">\n<div class=\"box-title question-title\" id=\"question-import-a-workflow\"><i class=\"far fa-question-circle\" aria-hidden=\"true\" ></i> Question: Import a workflow</div>\n<p><strong>Import a workflow</strong> from the local file <code style=\"color: inherit\">convert_to_tab.ga</code> by making a <code style=\"color: inherit\">POST</code> request to <code style=\"color: inherit\">/api/workflows</code>. The only needed data is <code style=\"color: inherit\">workflow</code>, which must be a deserialized JSON representation of the workflow <code style=\"color: inherit\">.ga</code> file.</p>\n<p>You can obtain the <code style=\"color: inherit\">convert_to_tab.ga</code> file from the following URL, you’ll need to download it first.</p>\n<div class=\"language-plaintext highlighter-rouge\"><div><pre style=\"color: inherit; background: transparent\"><code style=\"color: inherit\">https://raw.githubusercontent.com/nsoranzo/bioblend-tutorial/main/test-data/convert_to_tab.ga\n</code></pre></div>  </div>\n<br/><details style=\"border: 2px solid #B8C3EA; margin: 1em 0.2em;padding: 0.5em; cursor: pointer;\"><summary>👁 View solution</summary>\n<div class=\"box-title solution-title\" id=\"solution-4\"><button class=\"gtn-boxify-button solution\" type=\"button\" aria-controls=\"solution-4\" aria-expanded=\"true\"><i class=\"far fa-eye\" aria-hidden=\"true\" ></i> Solution<span class=\"fold-unfold fa fa-minus-square\"></span></button></div>\n<div class=\"language-plaintext highlighter-rouge\"><div><pre style=\"color: inherit; background: transparent\"><code style=\"color: inherit\">with open(\"convert_to_tab.ga\", \"r\") as f:\n    workflow_dict = json.load(f)\ndata = {\"workflow\": workflow_dict}\nr = requests.post(base_url + \"/workflows\", data=json.dumps(data), headers=headers)\nwf = r.json()\npprint(wf)\n</code></pre></div>    </div>\n</details>\n</blockquote>\n",
      "cell_type": "markdown",
      "metadata": {
        "editable": false,
        "collapsed": false
      }
    },
    {
      "id": "cell-27",
      "source": [
        "# Try it out here!\n",
        ""
      ],
      "cell_type": "code",
      "execution_count": null,
      "outputs": [

      ],
      "metadata": {
        "attributes": {
          "classes": [
            "> In this tutorial, we will cover:"
          ],
          "id": ""
        }
      }
    },
    {
      "id": "cell-28",
      "source": "<blockquote class=\"question\" style=\"border: 2px solid #8A9AD0; margin: 1em 0.2em\">\n<div class=\"box-title question-title\" id=\"question-view-the-workflow-details\"><i class=\"far fa-question-circle\" aria-hidden=\"true\" ></i> Question: View the workflow details</div>\n<p>View the details of the imported workflow by making a GET request to <code style=\"color: inherit\">/api/workflows</code>.</p>\n<br/><details style=\"border: 2px solid #B8C3EA; margin: 1em 0.2em;padding: 0.5em; cursor: pointer;\"><summary>👁 View solution</summary>\n<div class=\"box-title solution-title\" id=\"solution-5\"><button class=\"gtn-boxify-button solution\" type=\"button\" aria-controls=\"solution-5\" aria-expanded=\"true\"><i class=\"far fa-eye\" aria-hidden=\"true\" ></i> Solution<span class=\"fold-unfold fa fa-minus-square\"></span></button></div>\n<div class=\"language-plaintext highlighter-rouge\"><div><pre style=\"color: inherit; background: transparent\"><code style=\"color: inherit\">r = requests.get(base_url + \"/workflows/\" + wf[\"id\"], headers=headers)\nwf = r.json()\npprint(wf)\n</code></pre></div>    </div>\n</details>\n</blockquote>\n",
      "cell_type": "markdown",
      "metadata": {
        "editable": false,
        "collapsed": false
      }
    },
    {
      "id": "cell-29",
      "source": [
        "# Try it out here!\n",
        ""
      ],
      "cell_type": "code",
      "execution_count": null,
      "outputs": [

      ],
      "metadata": {
        "attributes": {
          "classes": [
            "> In this tutorial, we will cover:"
          ],
          "id": ""
        }
      }
    },
    {
      "id": "cell-30",
      "source": "<blockquote class=\"question\" style=\"border: 2px solid #8A9AD0; margin: 1em 0.2em\">\n<div class=\"box-title question-title\" id=\"question-invoke-the-workflow\"><i class=\"far fa-question-circle\" aria-hidden=\"true\" ></i> Question: Invoke the workflow</div>\n<p><strong>Run</strong> the imported workflow on the uploaded dataset <strong>inside the same history</strong> by making a <code style=\"color: inherit\">POST</code> request to <code style=\"color: inherit\">/api/workflows/WORKFLOW_ID/invocations</code>. The only needed data are <code style=\"color: inherit\">history</code> and <code style=\"color: inherit\">inputs</code>.</p>\n<br/><details style=\"border: 2px solid #B8C3EA; margin: 1em 0.2em;padding: 0.5em; cursor: pointer;\"><summary>👁 View solution</summary>\n<div class=\"box-title solution-title\" id=\"solution-6\"><button class=\"gtn-boxify-button solution\" type=\"button\" aria-controls=\"solution-6\" aria-expanded=\"true\"><i class=\"far fa-eye\" aria-hidden=\"true\" ></i> Solution<span class=\"fold-unfold fa fa-minus-square\"></span></button></div>\n<div class=\"language-plaintext highlighter-rouge\"><div><pre style=\"color: inherit; background: transparent\"><code style=\"color: inherit\">inputs = {0: {'id': hda['id'], 'src': 'hda'}}\ndata = {\n    'history': 'hist_id=' + new_hist['id'],\n    'inputs': inputs}\nr = requests.post(base_url + \"/workflows/\" + wf[\"id\"] + \"/invocations\", data=json.dumps(data), headers=headers)\npprint(r.json())\n</code></pre></div>    </div>\n</details>\n</blockquote>\n",
      "cell_type": "markdown",
      "metadata": {
        "editable": false,
        "collapsed": false
      }
    },
    {
      "id": "cell-31",
      "source": [
        "# Try it out here!\n",
        ""
      ],
      "cell_type": "code",
      "execution_count": null,
      "outputs": [

      ],
      "metadata": {
        "attributes": {
          "classes": [
            "> In this tutorial, we will cover:"
          ],
          "id": ""
        }
      }
    },
    {
      "id": "cell-32",
      "source": "<blockquote class=\"question\" style=\"border: 2px solid #8A9AD0; margin: 1em 0.2em\">\n<div class=\"box-title question-title\" id=\"question-view-the-results\"><i class=\"far fa-question-circle\" aria-hidden=\"true\" ></i> Question: View the results</div>\n<p>View the results on the Galaxy server with your web browser. Were you successful? Did it run?</p>\n</blockquote>\n<h1 id=\"interacting-with-histories-in-bioblend\">Interacting with histories in BioBlend</h1>\n<p>If you need to install BioBlend into your Jupyter environment, you can execute:</p>\n<p><code class=\"language-plaintext highlighter-rouge\">python\nimport sys\n!{sys.executable} -m pip install bioblend\n</code></p>\n<p><strong>You need to insert the API key for your Galaxy server in the cell below</strong>:</p>\n<ol>\n<li>Open the Galaxy server in another browser tab</li>\n<li>Click on “User” on the top menu, then “Preferences”</li>\n<li>Click on “Manage API key”</li>\n<li>Generate an API key if needed, then copy the alphanumeric string and paste it as the value of the <code style=\"color: inherit\">api_key</code> variable below.</li>\n</ol>\n<p>The user interacts with a Galaxy server through a <code style=\"color: inherit\">GalaxyInstance</code> object:</p>\n",
      "cell_type": "markdown",
      "metadata": {
        "editable": false,
        "collapsed": false
      }
    },
    {
      "id": "cell-33",
      "source": [
        "from pprint import pprint\n",
        "\n",
        "import bioblend.galaxy\n",
        "\n",
        "server = 'https://usegalaxy.eu/'\n",
        "api_key = ''\n",
        "gi = bioblend.galaxy.GalaxyInstance(url=server, key=api_key)"
      ],
      "cell_type": "code",
      "execution_count": null,
      "outputs": [

      ],
      "metadata": {
        "attributes": {
          "classes": [
            "> In this tutorial, we will cover:"
          ],
          "id": ""
        }
      }
    },
    {
      "id": "cell-34",
      "source": "<p>The <code style=\"color: inherit\">GalaxyInstance</code> object gives you access to the various controllers, i.e. the resources you are dealing with, like <code style=\"color: inherit\">histories</code>, <code style=\"color: inherit\">tools</code> and <code style=\"color: inherit\">workflows</code>.\nTherefore, method calls will have the format <code style=\"color: inherit\">gi.controller.method()</code>. For example, the call to retrieve all histories owned by the current user is:</p>\n",
      "cell_type": "markdown",
      "metadata": {
        "editable": false,
        "collapsed": false
      }
    },
    {
      "id": "cell-35",
      "source": [
        "pprint(gi.histories.get_histories())"
      ],
      "cell_type": "code",
      "execution_count": null,
      "outputs": [

      ],
      "metadata": {
        "attributes": {
          "classes": [
            "> In this tutorial, we will cover:"
          ],
          "id": ""
        }
      }
    },
    {
      "id": "cell-36",
      "source": "<p>As you can see, methods in BioBlend do not return JSON strings, but <strong>deserialize</strong> them into Python data structures. In particular, <code style=\"color: inherit\">get_</code> methods return a list of dictionaries.</p>\n<p>Each dictionary gives basic info about a resource, e.g. for a history you have:</p>\n<ul>\n<li><code style=\"color: inherit\">id</code>: the unique <strong>identifier</strong> of the history, needed for all specific requests about this resource</li>\n<li><code style=\"color: inherit\">name</code>: the name of this history as given by the user</li>\n<li><code style=\"color: inherit\">deleted</code>: whether the history has been deleted.</li>\n</ul>\n<p><strong>New resources</strong> are created with <code style=\"color: inherit\">create_</code> methods, e.g. the call to create a new history is:</p>\n",
      "cell_type": "markdown",
      "metadata": {
        "editable": false,
        "collapsed": false
      }
    },
    {
      "id": "cell-37",
      "source": [
        "new_hist = gi.histories.create_history(name='BioBlend test')\n",
        "pprint(new_hist)"
      ],
      "cell_type": "code",
      "execution_count": null,
      "outputs": [

      ],
      "metadata": {
        "attributes": {
          "classes": [
            "> In this tutorial, we will cover:"
          ],
          "id": ""
        }
      }
    },
    {
      "id": "cell-38",
      "source": "<p>As you can see, to make POST requests in BioBlend it is <strong>not necessary to serialize data</strong>, you just pass them explicitly as parameters. The return value is a dictionary with detailed info about the created resource.</p>\n<p><code style=\"color: inherit\">get_</code> methods usually have <strong>filtering</strong> capabilities, e.g. it is possible to filter histories <strong>by name</strong>:</p>\n",
      "cell_type": "markdown",
      "metadata": {
        "editable": false,
        "collapsed": false
      }
    },
    {
      "id": "cell-39",
      "source": [
        "pprint(gi.histories.get_histories(name='BioBlend test'))"
      ],
      "cell_type": "code",
      "execution_count": null,
      "outputs": [

      ],
      "metadata": {
        "attributes": {
          "classes": [
            "> In this tutorial, we will cover:"
          ],
          "id": ""
        }
      }
    },
    {
      "id": "cell-40",
      "source": "<p>To <strong>upload</strong> the local file <code style=\"color: inherit\">1.txt</code> to the new history, you can run the special upload tool by calling the <code style=\"color: inherit\">upload_file</code> method of the <code style=\"color: inherit\">tools</code> controller.</p>\n<p>You can obtain the <code style=\"color: inherit\">1.txt</code> file from the following URL, you’ll need to download it first.</p>\n<div class=\"language-plaintext highlighter-rouge\"><div><pre style=\"color: inherit; background: transparent\"><code style=\"color: inherit\">https://raw.githubusercontent.com/nsoranzo/bioblend-tutorial/main/test-data/1.txt\n</code></pre></div></div>\n",
      "cell_type": "markdown",
      "metadata": {
        "editable": false,
        "collapsed": false
      }
    },
    {
      "id": "cell-41",
      "source": [
        "hist_id = new_hist[\"id\"]\n",
        "pprint(gi.tools.upload_file(\"1.txt\", hist_id))"
      ],
      "cell_type": "code",
      "execution_count": null,
      "outputs": [

      ],
      "metadata": {
        "attributes": {
          "classes": [
            "> In this tutorial, we will cover:"
          ],
          "id": ""
        }
      }
    },
    {
      "id": "cell-42",
      "source": "<p>If you are interested in more <strong>details</strong> about a given resource for which you know the id, you can use the corresponding <code style=\"color: inherit\">show_</code> method. For example, to the get more info for the history we have just populated:</p>\n",
      "cell_type": "markdown",
      "metadata": {
        "editable": false,
        "collapsed": false
      }
    },
    {
      "id": "cell-43",
      "source": [
        "pprint(gi.histories.show_history(history_id=hist_id))"
      ],
      "cell_type": "code",
      "execution_count": null,
      "outputs": [

      ],
      "metadata": {
        "attributes": {
          "classes": [
            "> In this tutorial, we will cover:"
          ],
          "id": ""
        }
      }
    },
    {
      "id": "cell-44",
      "source": "<p>As you can see, there are much more entries in the returned dictionary, e.g.:</p>\n<ul>\n<li><code style=\"color: inherit\">create_time</code></li>\n<li><code style=\"color: inherit\">size</code>: total disk space used by the history</li>\n<li><code style=\"color: inherit\">state_ids</code>: ids of history datasets for each possible state.</li>\n</ul>\n<p>To get the list of <strong>datasets contained</strong> in a history, simply add <code style=\"color: inherit\">contents=True</code> to the previous call.</p>\n",
      "cell_type": "markdown",
      "metadata": {
        "editable": false,
        "collapsed": false
      }
    },
    {
      "id": "cell-45",
      "source": [
        "hdas = gi.histories.show_history(history_id=hist_id, contents=True)\n",
        "pprint(hdas)"
      ],
      "cell_type": "code",
      "execution_count": null,
      "outputs": [

      ],
      "metadata": {
        "attributes": {
          "classes": [
            "> In this tutorial, we will cover:"
          ],
          "id": ""
        }
      }
    },
    {
      "id": "cell-46",
      "source": "<p>The dictionaries returned when showing the history content give basic info about each dataset, e.g.: <code style=\"color: inherit\">id</code>, <code style=\"color: inherit\">name</code>, <code style=\"color: inherit\">deleted</code>, <code style=\"color: inherit\">state</code>, <code style=\"color: inherit\">url</code>…</p>\n<p>To get the details about a specific dataset, you can use the <code style=\"color: inherit\">datasets</code> controller:</p>\n",
      "cell_type": "markdown",
      "metadata": {
        "editable": false,
        "collapsed": false
      }
    },
    {
      "id": "cell-47",
      "source": [
        "hda0_id = hdas[0]['id']\n",
        "print(hda0_id)\n",
        "pprint(gi.datasets.show_dataset(hda0_id))"
      ],
      "cell_type": "code",
      "execution_count": null,
      "outputs": [

      ],
      "metadata": {
        "attributes": {
          "classes": [
            "> In this tutorial, we will cover:"
          ],
          "id": ""
        }
      }
    },
    {
      "id": "cell-48",
      "source": "<p>Some of the interesting additional dictionary entries are:</p>\n<ul>\n<li><code style=\"color: inherit\">create_time</code></li>\n<li><code style=\"color: inherit\">creating job</code>: id of the job which created this dataset</li>\n<li><code style=\"color: inherit\">download_url</code>: URL to download the dataset</li>\n<li><code style=\"color: inherit\">file_ext</code>: the Galaxy data type of this dataset</li>\n<li><code style=\"color: inherit\">file_size</code></li>\n<li><code style=\"color: inherit\">genome_build</code>: the genome build (dbkey) associated to this dataset.</li>\n</ul>\n<p>To <strong>update</strong> a resource, use the <code style=\"color: inherit\">update_</code> method, e.g. to change the name of the new history:</p>\n",
      "cell_type": "markdown",
      "metadata": {
        "editable": false,
        "collapsed": false
      }
    },
    {
      "id": "cell-49",
      "source": [
        "pprint(gi.histories.update_history(new_hist['id'], name='Updated history'))"
      ],
      "cell_type": "code",
      "execution_count": null,
      "outputs": [

      ],
      "metadata": {
        "attributes": {
          "classes": [
            "> In this tutorial, we will cover:"
          ],
          "id": ""
        }
      }
    },
    {
      "id": "cell-50",
      "source": "<p>The return value of <code style=\"color: inherit\">update_</code> methods is usually a dictionary with detailed info about the updated resource.</p>\n<p>Finally to <strong>delete</strong> a resource, use the <code style=\"color: inherit\">delete_</code> method, e.g.:</p>\n",
      "cell_type": "markdown",
      "metadata": {
        "editable": false,
        "collapsed": false
      }
    },
    {
      "id": "cell-51",
      "source": [
        "pprint(gi.histories.delete_history(new_hist['id']))"
      ],
      "cell_type": "code",
      "execution_count": null,
      "outputs": [

      ],
      "metadata": {
        "attributes": {
          "classes": [
            "> In this tutorial, we will cover:"
          ],
          "id": ""
        }
      }
    },
    {
      "id": "cell-52",
      "source": "<h2 id=\"exercise-bioblend\">Exercise: BioBlend</h2>\n<p><strong>Goal</strong>: Upload a file to a new history, import a workflow and run it on the uploaded dataset.</p>\n<blockquote class=\"question\" style=\"border: 2px solid #8A9AD0; margin: 1em 0.2em\">\n<div class=\"box-title question-title\" id=\"question-initialise-1\"><i class=\"far fa-question-circle\" aria-hidden=\"true\" ></i> Question: Initialise</div>\n<p>Create a <code style=\"color: inherit\">GalaxyInstance</code> object.</p>\n<br/><details style=\"border: 2px solid #B8C3EA; margin: 1em 0.2em;padding: 0.5em; cursor: pointer;\"><summary>👁 View solution</summary>\n<div class=\"box-title solution-title\" id=\"solution-7\"><button class=\"gtn-boxify-button solution\" type=\"button\" aria-controls=\"solution-7\" aria-expanded=\"true\"><i class=\"far fa-eye\" aria-hidden=\"true\" ></i> Solution<span class=\"fold-unfold fa fa-minus-square\"></span></button></div>\n<div class=\"language-plaintext highlighter-rouge\"><div><pre style=\"color: inherit; background: transparent\"><code style=\"color: inherit\">from pprint import pprint\n\nimport bioblend.galaxy\n\nserver = 'https://usegalaxy.eu/'\napi_key = ''\ngi = bioblend.galaxy.GalaxyInstance(url=server, key=api_key)\n</code></pre></div>    </div>\n</details>\n</blockquote>\n",
      "cell_type": "markdown",
      "metadata": {
        "editable": false,
        "collapsed": false
      }
    },
    {
      "id": "cell-53",
      "source": [
        "# Try it out here!\n",
        ""
      ],
      "cell_type": "code",
      "execution_count": null,
      "outputs": [

      ],
      "metadata": {
        "attributes": {
          "classes": [
            "> In this tutorial, we will cover:"
          ],
          "id": ""
        }
      }
    },
    {
      "id": "cell-54",
      "source": "<blockquote class=\"question\" style=\"border: 2px solid #8A9AD0; margin: 1em 0.2em\">\n<div class=\"box-title question-title\" id=\"question-new-history-1\"><i class=\"far fa-question-circle\" aria-hidden=\"true\" ></i> Question: New History</div>\n<p>Create a new Galaxy history.</p>\n<br/><details style=\"border: 2px solid #B8C3EA; margin: 1em 0.2em;padding: 0.5em; cursor: pointer;\"><summary>👁 View solution</summary>\n<div class=\"box-title solution-title\" id=\"solution-8\"><button class=\"gtn-boxify-button solution\" type=\"button\" aria-controls=\"solution-8\" aria-expanded=\"true\"><i class=\"far fa-eye\" aria-hidden=\"true\" ></i> Solution<span class=\"fold-unfold fa fa-minus-square\"></span></button></div>\n<div class=\"language-plaintext highlighter-rouge\"><div><pre style=\"color: inherit; background: transparent\"><code style=\"color: inherit\">new_hist = gi.histories.create_history(name='New history')\npprint(new_hist)\n</code></pre></div>    </div>\n</details>\n</blockquote>\n",
      "cell_type": "markdown",
      "metadata": {
        "editable": false,
        "collapsed": false
      }
    },
    {
      "id": "cell-55",
      "source": [
        "# Try it out here!\n",
        ""
      ],
      "cell_type": "code",
      "execution_count": null,
      "outputs": [

      ],
      "metadata": {
        "attributes": {
          "classes": [
            "> In this tutorial, we will cover:"
          ],
          "id": ""
        }
      }
    },
    {
      "id": "cell-56",
      "source": "<blockquote class=\"question\" style=\"border: 2px solid #8A9AD0; margin: 1em 0.2em\">\n<div class=\"box-title question-title\" id=\"question-upload-a-dataset-1\"><i class=\"far fa-question-circle\" aria-hidden=\"true\" ></i> Question: Upload a dataset</div>\n<p><strong>Upload</strong> the local file <code style=\"color: inherit\">1.txt</code> to the new history using <code style=\"color: inherit\">tools.upload_file()</code> .</p>\n<p>You can obtain the <code style=\"color: inherit\">1.txt</code> file from the following URL, you’ll need to download it first.</p>\n<div class=\"language-plaintext highlighter-rouge\"><div><pre style=\"color: inherit; background: transparent\"><code style=\"color: inherit\">https://raw.githubusercontent.com/nsoranzo/bioblend-tutorial/main/test-data/1.txt\n</code></pre></div>  </div>\n<br/><details style=\"border: 2px solid #B8C3EA; margin: 1em 0.2em;padding: 0.5em; cursor: pointer;\"><summary>👁 View solution</summary>\n<div class=\"box-title solution-title\" id=\"solution-9\"><button class=\"gtn-boxify-button solution\" type=\"button\" aria-controls=\"solution-9\" aria-expanded=\"true\"><i class=\"far fa-eye\" aria-hidden=\"true\" ></i> Solution<span class=\"fold-unfold fa fa-minus-square\"></span></button></div>\n<div class=\"language-plaintext highlighter-rouge\"><div><pre style=\"color: inherit; background: transparent\"><code style=\"color: inherit\">ret = gi.tools.upload_file(\"1.txt\", new_hist[\"id\"])\npprint(ret)\n</code></pre></div>    </div>\n</details>\n</blockquote>\n",
      "cell_type": "markdown",
      "metadata": {
        "editable": false,
        "collapsed": false
      }
    },
    {
      "id": "cell-57",
      "source": [
        "# Try it out here!\n",
        ""
      ],
      "cell_type": "code",
      "execution_count": null,
      "outputs": [

      ],
      "metadata": {
        "attributes": {
          "classes": [
            "> In this tutorial, we will cover:"
          ],
          "id": ""
        }
      }
    },
    {
      "id": "cell-58",
      "source": "<blockquote class=\"question\" style=\"border: 2px solid #8A9AD0; margin: 1em 0.2em\">\n<div class=\"box-title question-title\" id=\"question-find-the-dataset-in-your-history-1\"><i class=\"far fa-question-circle\" aria-hidden=\"true\" ></i> Question: Find the dataset in your history</div>\n<p>Find the new uploaded dataset, either from the dict returned by <code style=\"color: inherit\">tools.upload_file()</code> or from the history contents.</p>\n<br/><details style=\"border: 2px solid #B8C3EA; margin: 1em 0.2em;padding: 0.5em; cursor: pointer;\"><summary>👁 View solution</summary>\n<div class=\"box-title solution-title\" id=\"solution-10\"><button class=\"gtn-boxify-button solution\" type=\"button\" aria-controls=\"solution-10\" aria-expanded=\"true\"><i class=\"far fa-eye\" aria-hidden=\"true\" ></i> Solution<span class=\"fold-unfold fa fa-minus-square\"></span></button></div>\n<div class=\"language-plaintext highlighter-rouge\"><div><pre style=\"color: inherit; background: transparent\"><code style=\"color: inherit\">hda = ret['outputs'][0]\npprint(hda)\n</code></pre></div>    </div>\n</details>\n</blockquote>\n",
      "cell_type": "markdown",
      "metadata": {
        "editable": false,
        "collapsed": false
      }
    },
    {
      "id": "cell-59",
      "source": [
        "# Try it out here!\n",
        ""
      ],
      "cell_type": "code",
      "execution_count": null,
      "outputs": [

      ],
      "metadata": {
        "attributes": {
          "classes": [
            "> In this tutorial, we will cover:"
          ],
          "id": ""
        }
      }
    },
    {
      "id": "cell-60",
      "source": "<blockquote class=\"question\" style=\"border: 2px solid #8A9AD0; margin: 1em 0.2em\">\n<div class=\"box-title question-title\" id=\"question-import-a-workflow-1\"><i class=\"far fa-question-circle\" aria-hidden=\"true\" ></i> Question: Import a workflow</div>\n<p><strong>Import a workflow</strong> from the local file <code style=\"color: inherit\">convert_to_tab.ga</code> using <code style=\"color: inherit\">workflows.import_workflow_from_local_path()</code> .</p>\n<p>You can obtain the <code style=\"color: inherit\">convert_to_tab.ga</code> file from the following URL, you’ll need to download it first.</p>\n<div class=\"language-plaintext highlighter-rouge\"><div><pre style=\"color: inherit; background: transparent\"><code style=\"color: inherit\">https://raw.githubusercontent.com/nsoranzo/bioblend-tutorial/main/test-data/convert_to_tab.ga\n</code></pre></div>  </div>\n<br/><details style=\"border: 2px solid #B8C3EA; margin: 1em 0.2em;padding: 0.5em; cursor: pointer;\"><summary>👁 View solution</summary>\n<div class=\"box-title solution-title\" id=\"solution-11\"><button class=\"gtn-boxify-button solution\" type=\"button\" aria-controls=\"solution-11\" aria-expanded=\"true\"><i class=\"far fa-eye\" aria-hidden=\"true\" ></i> Solution<span class=\"fold-unfold fa fa-minus-square\"></span></button></div>\n<div class=\"language-plaintext highlighter-rouge\"><div><pre style=\"color: inherit; background: transparent\"><code style=\"color: inherit\">wf = gi.workflows.import_workflow_from_local_path(\"convert_to_tab.ga\")\npprint(wf)\n</code></pre></div>    </div>\n</details>\n</blockquote>\n",
      "cell_type": "markdown",
      "metadata": {
        "editable": false,
        "collapsed": false
      }
    },
    {
      "id": "cell-61",
      "source": [
        "# Try it out here!\n",
        ""
      ],
      "cell_type": "code",
      "execution_count": null,
      "outputs": [

      ],
      "metadata": {
        "attributes": {
          "classes": [
            "> In this tutorial, we will cover:"
          ],
          "id": ""
        }
      }
    },
    {
      "id": "cell-62",
      "source": "<blockquote class=\"question\" style=\"border: 2px solid #8A9AD0; margin: 1em 0.2em\">\n<div class=\"box-title question-title\" id=\"question-view-the-workflow-details-1\"><i class=\"far fa-question-circle\" aria-hidden=\"true\" ></i> Question: View the workflow details</div>\n<p>View the details of the imported workflow using <code style=\"color: inherit\">workflows.show_workflow()</code></p>\n<br/><details style=\"border: 2px solid #B8C3EA; margin: 1em 0.2em;padding: 0.5em; cursor: pointer;\"><summary>👁 View solution</summary>\n<div class=\"box-title solution-title\" id=\"solution-12\"><button class=\"gtn-boxify-button solution\" type=\"button\" aria-controls=\"solution-12\" aria-expanded=\"true\"><i class=\"far fa-eye\" aria-hidden=\"true\" ></i> Solution<span class=\"fold-unfold fa fa-minus-square\"></span></button></div>\n<div class=\"language-plaintext highlighter-rouge\"><div><pre style=\"color: inherit; background: transparent\"><code style=\"color: inherit\">wf = gi.workflows.show_workflow(wf['id'])\npprint(wf)\n</code></pre></div>    </div>\n</details>\n</blockquote>\n",
      "cell_type": "markdown",
      "metadata": {
        "editable": false,
        "collapsed": false
      }
    },
    {
      "id": "cell-63",
      "source": [
        "# Try it out here!\n",
        ""
      ],
      "cell_type": "code",
      "execution_count": null,
      "outputs": [

      ],
      "metadata": {
        "attributes": {
          "classes": [
            "> In this tutorial, we will cover:"
          ],
          "id": ""
        }
      }
    },
    {
      "id": "cell-64",
      "source": "<blockquote class=\"question\" style=\"border: 2px solid #8A9AD0; margin: 1em 0.2em\">\n<div class=\"box-title question-title\" id=\"question-invoke-the-workflow-1\"><i class=\"far fa-question-circle\" aria-hidden=\"true\" ></i> Question: Invoke the workflow</div>\n<p><strong>Run</strong> the imported workflow on the uploaded dataset <strong>inside the same history</strong> using <code style=\"color: inherit\">workflows.invoke_workflow()</code> .</p>\n<br/><details style=\"border: 2px solid #B8C3EA; margin: 1em 0.2em;padding: 0.5em; cursor: pointer;\"><summary>👁 View solution</summary>\n<div class=\"box-title solution-title\" id=\"solution-13\"><button class=\"gtn-boxify-button solution\" type=\"button\" aria-controls=\"solution-13\" aria-expanded=\"true\"><i class=\"far fa-eye\" aria-hidden=\"true\" ></i> Solution<span class=\"fold-unfold fa fa-minus-square\"></span></button></div>\n<div class=\"language-plaintext highlighter-rouge\"><div><pre style=\"color: inherit; background: transparent\"><code style=\"color: inherit\">inputs = {0: {'id': hda['id'], 'src': 'hda'}}\nret = gi.workflows.invoke_workflow(wf['id'], inputs=inputs, history_id=new_hist['id'])\npprint(ret)\n</code></pre></div>    </div>\n</details>\n</blockquote>\n",
      "cell_type": "markdown",
      "metadata": {
        "editable": false,
        "collapsed": false
      }
    },
    {
      "id": "cell-65",
      "source": [
        "# Try it out here!\n",
        ""
      ],
      "cell_type": "code",
      "execution_count": null,
      "outputs": [

      ],
      "metadata": {
        "attributes": {
          "classes": [
            "> In this tutorial, we will cover:"
          ],
          "id": ""
        }
      }
    },
    {
      "id": "cell-66",
      "source": "<blockquote class=\"question\" style=\"border: 2px solid #8A9AD0; margin: 1em 0.2em\">\n<div class=\"box-title question-title\" id=\"question-view-the-results-1\"><i class=\"far fa-question-circle\" aria-hidden=\"true\" ></i> Question: View the results</div>\n<p>View the results on the Galaxy server with your web browser. Were you successful? Did it run?</p>\n</blockquote>\n<h1 id=\"interacting-with-histories-in-bioblendobjects\">Interacting with histories in BioBlend.objects</h1>\n<p><strong>You need to insert the API key for your Galaxy server in the cell below</strong>:</p>\n<ol>\n<li>Open the Galaxy server in another browser tab</li>\n<li>Click on “User” on the top menu, then “Preferences”</li>\n<li>Click on “Manage API key”</li>\n<li>Generate an API key if needed, then copy the alphanumeric string and paste it as the value of the <code style=\"color: inherit\">api_key</code> variable below.</li>\n</ol>\n<p>The user interacts with a Galaxy server through a <code style=\"color: inherit\">GalaxyInstance</code> object:</p>\n",
      "cell_type": "markdown",
      "metadata": {
        "editable": false,
        "collapsed": false
      }
    },
    {
      "id": "cell-67",
      "source": [
        "from pprint import pprint\n",
        "\n",
        "import bioblend.galaxy.objects\n",
        "\n",
        "server = 'https://usegalaxy.eu/'\n",
        "api_key = ''\n",
        "gi = bioblend.galaxy.objects.GalaxyInstance(url=server, api_key=api_key)"
      ],
      "cell_type": "code",
      "execution_count": null,
      "outputs": [

      ],
      "metadata": {
        "attributes": {
          "classes": [
            "> In this tutorial, we will cover:"
          ],
          "id": ""
        }
      }
    },
    {
      "id": "cell-68",
      "source": "<p>All <code style=\"color: inherit\">GalaxyInstance</code> method calls have the <code style=\"color: inherit\">client.method()</code> format, where <code style=\"color: inherit\">client</code> is the name of the resources you dealing with. There are 2 methods to get the list of resources:</p>\n<ul>\n<li><code style=\"color: inherit\">get_previews()</code>: lightweight (one GET request), retrieves basic resources’ info, returns a list of <strong>preview</strong> objects</li>\n<li><code style=\"color: inherit\">list()</code>: one GET request for each resource, retrieves full resources’ info, returns a list of <strong>full</strong> objects.</li>\n</ul>\n<p>For example, the call to retrieve previews of all histories owned by the current user is:</p>\n",
      "cell_type": "markdown",
      "metadata": {
        "editable": false,
        "collapsed": false
      }
    },
    {
      "id": "cell-69",
      "source": [
        "pprint(gi.histories.get_previews())"
      ],
      "cell_type": "code",
      "execution_count": null,
      "outputs": [

      ],
      "metadata": {
        "attributes": {
          "classes": [
            "> In this tutorial, we will cover:"
          ],
          "id": ""
        }
      }
    },
    {
      "id": "cell-70",
      "source": "<p><strong>New resources</strong> are created with <code style=\"color: inherit\">create()</code> methods, e.g. to create a new history:</p>\n",
      "cell_type": "markdown",
      "metadata": {
        "editable": false,
        "collapsed": false
      }
    },
    {
      "id": "cell-71",
      "source": [
        "new_hist = gi.histories.create(name='BioBlend test')\n",
        "pprint(new_hist)"
      ],
      "cell_type": "code",
      "execution_count": null,
      "outputs": [

      ],
      "metadata": {
        "attributes": {
          "classes": [
            "> In this tutorial, we will cover:"
          ],
          "id": ""
        }
      }
    },
    {
      "id": "cell-72",
      "source": "<p>As you can see, the <code style=\"color: inherit\">create()</code> methods in BioBlend.objects returns an object, not a dictionary.</p>\n<p>Both <code style=\"color: inherit\">get_previews()</code> and <code style=\"color: inherit\">list()</code> methods usually have <strong>filtering</strong> capabilities, e.g. it is possible to filter histories <strong>by name</strong>:</p>\n",
      "cell_type": "markdown",
      "metadata": {
        "editable": false,
        "collapsed": false
      }
    },
    {
      "id": "cell-73",
      "source": [
        "pprint(gi.histories.list(name='BioBlend test'))"
      ],
      "cell_type": "code",
      "execution_count": null,
      "outputs": [

      ],
      "metadata": {
        "attributes": {
          "classes": [
            "> In this tutorial, we will cover:"
          ],
          "id": ""
        }
      }
    },
    {
      "id": "cell-74",
      "source": "<p>To <strong>upload</strong> the local file <code style=\"color: inherit\">1.txt</code> to the new history, you can run the special upload tool by calling the <code style=\"color: inherit\">upload_file</code> method of the <code style=\"color: inherit\">History</code> object.</p>\n<p>You can obtain the <code style=\"color: inherit\">1.txt</code> file from the following URL, you’ll need to download it first.</p>\n<div class=\"language-plaintext highlighter-rouge\"><div><pre style=\"color: inherit; background: transparent\"><code style=\"color: inherit\">https://raw.githubusercontent.com/nsoranzo/bioblend-tutorial/main/test-data/1.txt\n</code></pre></div></div>\n",
      "cell_type": "markdown",
      "metadata": {
        "editable": false,
        "collapsed": false
      }
    },
    {
      "id": "cell-75",
      "source": [
        "hda = new_hist.upload_file(\"1.txt\")\n",
        "pprint(hda)"
      ],
      "cell_type": "code",
      "execution_count": null,
      "outputs": [

      ],
      "metadata": {
        "attributes": {
          "classes": [
            "> In this tutorial, we will cover:"
          ],
          "id": ""
        }
      }
    },
    {
      "id": "cell-76",
      "source": "<p>Please note that with BioBlend.objects there is no need to find the upload dataset, since <code style=\"color: inherit\">upload_file()</code> already returns a <code style=\"color: inherit\">HistoryDatasetAssociation</code> object.</p>\n<p>Both <code style=\"color: inherit\">HistoryPreview</code> and <code style=\"color: inherit\">History</code> objects have many of their properties available as <strong>attributes</strong>, e.g. the id.</p>\n<p>If you need to specify the unique <strong>id</strong> of the resource to retrieve, you can use the <code style=\"color: inherit\">get()</code> method, e.g. to get back the history we created before:</p>\n",
      "cell_type": "markdown",
      "metadata": {
        "editable": false,
        "collapsed": false
      }
    },
    {
      "id": "cell-77",
      "source": [
        "gi.histories.get(new_hist.id)"
      ],
      "cell_type": "code",
      "execution_count": null,
      "outputs": [

      ],
      "metadata": {
        "attributes": {
          "classes": [
            "> In this tutorial, we will cover:"
          ],
          "id": ""
        }
      }
    },
    {
      "id": "cell-78",
      "source": "<p>To get the list of <strong>datasets contained</strong> in a history, simply look at the <code style=\"color: inherit\">content_infos</code> attribute of the <code style=\"color: inherit\">History</code> object.</p>\n",
      "cell_type": "markdown",
      "metadata": {
        "editable": false,
        "collapsed": false
      }
    },
    {
      "id": "cell-79",
      "source": [
        "pprint(new_hist.content_infos)"
      ],
      "cell_type": "code",
      "execution_count": null,
      "outputs": [

      ],
      "metadata": {
        "attributes": {
          "classes": [
            "> In this tutorial, we will cover:"
          ],
          "id": ""
        }
      }
    },
    {
      "id": "cell-80",
      "source": "<p>To get the details about one dataset, you can use the <code style=\"color: inherit\">get_dataset()</code> method of the <code style=\"color: inherit\">History</code> object:</p>\n",
      "cell_type": "markdown",
      "metadata": {
        "editable": false,
        "collapsed": false
      }
    },
    {
      "id": "cell-81",
      "source": [
        "new_hist.get_dataset(hda.id)"
      ],
      "cell_type": "code",
      "execution_count": null,
      "outputs": [

      ],
      "metadata": {
        "attributes": {
          "classes": [
            "> In this tutorial, we will cover:"
          ],
          "id": ""
        }
      }
    },
    {
      "id": "cell-82",
      "source": "<p>You can also filter history datasets by name using the <code style=\"color: inherit\">get_datasets()</code> method of <code style=\"color: inherit\">History</code> objects.</p>\n<p>To <strong>update</strong> a resource, use the <code style=\"color: inherit\">update()</code> method of its object, e.g. to change the history name:</p>\n",
      "cell_type": "markdown",
      "metadata": {
        "editable": false,
        "collapsed": false
      }
    },
    {
      "id": "cell-83",
      "source": [
        "new_hist.update(name='Updated history')"
      ],
      "cell_type": "code",
      "execution_count": null,
      "outputs": [

      ],
      "metadata": {
        "attributes": {
          "classes": [
            "> In this tutorial, we will cover:"
          ],
          "id": ""
        }
      }
    },
    {
      "id": "cell-84",
      "source": "<p>The return value of <code style=\"color: inherit\">update()</code> methods is the updated object.</p>\n<p>Finally to <strong>delete</strong> a resource, you can use the <code style=\"color: inherit\">delete()</code> method of the object, e.g.:</p>\n",
      "cell_type": "markdown",
      "metadata": {
        "editable": false,
        "collapsed": false
      }
    },
    {
      "id": "cell-85",
      "source": [
        "new_hist.delete()"
      ],
      "cell_type": "code",
      "execution_count": null,
      "outputs": [

      ],
      "metadata": {
        "attributes": {
          "classes": [
            "> In this tutorial, we will cover:"
          ],
          "id": ""
        }
      }
    },
    {
      "id": "cell-86",
      "source": "<h2 id=\"exercise-bioblendobjects\">Exercise: BioBlend.objects</h2>\n<p><strong>Goal</strong>: Upload a file to a new history, import a workflow and run it on the uploaded dataset.</p>\n<blockquote class=\"question\" style=\"border: 2px solid #8A9AD0; margin: 1em 0.2em\">\n<div class=\"box-title question-title\" id=\"question-initialise-2\"><i class=\"far fa-question-circle\" aria-hidden=\"true\" ></i> Question: Initialise</div>\n<p>Create a <code style=\"color: inherit\">GalaxyInstance</code> object.</p>\n<br/><details style=\"border: 2px solid #B8C3EA; margin: 1em 0.2em;padding: 0.5em; cursor: pointer;\"><summary>👁 View solution</summary>\n<div class=\"box-title solution-title\" id=\"solution-14\"><button class=\"gtn-boxify-button solution\" type=\"button\" aria-controls=\"solution-14\" aria-expanded=\"true\"><i class=\"far fa-eye\" aria-hidden=\"true\" ></i> Solution<span class=\"fold-unfold fa fa-minus-square\"></span></button></div>\n<div class=\"language-plaintext highlighter-rouge\"><div><pre style=\"color: inherit; background: transparent\"><code style=\"color: inherit\">from pprint import pprint\n\nimport bioblend.galaxy\n\nserver = 'https://usegalaxy.eu/'\napi_key = ''\ngi = bioblend.galaxy.objects.GalaxyInstance(url=server, api_key=api_key)\n</code></pre></div>    </div>\n</details>\n</blockquote>\n",
      "cell_type": "markdown",
      "metadata": {
        "editable": false,
        "collapsed": false
      }
    },
    {
      "id": "cell-87",
      "source": [
        "# Try it out here!\n",
        ""
      ],
      "cell_type": "code",
      "execution_count": null,
      "outputs": [

      ],
      "metadata": {
        "attributes": {
          "classes": [
            "> In this tutorial, we will cover:"
          ],
          "id": ""
        }
      }
    },
    {
      "id": "cell-88",
      "source": "<blockquote class=\"question\" style=\"border: 2px solid #8A9AD0; margin: 1em 0.2em\">\n<div class=\"box-title question-title\" id=\"question-new-history-2\"><i class=\"far fa-question-circle\" aria-hidden=\"true\" ></i> Question: New History</div>\n<p>Create a new Galaxy history.</p>\n<br/><details style=\"border: 2px solid #B8C3EA; margin: 1em 0.2em;padding: 0.5em; cursor: pointer;\"><summary>👁 View solution</summary>\n<div class=\"box-title solution-title\" id=\"solution-15\"><button class=\"gtn-boxify-button solution\" type=\"button\" aria-controls=\"solution-15\" aria-expanded=\"true\"><i class=\"far fa-eye\" aria-hidden=\"true\" ></i> Solution<span class=\"fold-unfold fa fa-minus-square\"></span></button></div>\n<div class=\"language-plaintext highlighter-rouge\"><div><pre style=\"color: inherit; background: transparent\"><code style=\"color: inherit\">new_hist = gi.histories.create(name='New history')\npprint(new_hist)\n</code></pre></div>    </div>\n</details>\n</blockquote>\n",
      "cell_type": "markdown",
      "metadata": {
        "editable": false,
        "collapsed": false
      }
    },
    {
      "id": "cell-89",
      "source": [
        "# Try it out here!\n",
        ""
      ],
      "cell_type": "code",
      "execution_count": null,
      "outputs": [

      ],
      "metadata": {
        "attributes": {
          "classes": [
            "> In this tutorial, we will cover:"
          ],
          "id": ""
        }
      }
    },
    {
      "id": "cell-90",
      "source": "<blockquote class=\"question\" style=\"border: 2px solid #8A9AD0; margin: 1em 0.2em\">\n<div class=\"box-title question-title\" id=\"question-upload-a-dataset-2\"><i class=\"far fa-question-circle\" aria-hidden=\"true\" ></i> Question: Upload a dataset</div>\n<p><strong>Upload</strong> the local file <code style=\"color: inherit\">1.txt</code> to the new history using the <code style=\"color: inherit\">upload_file()</code> method of <code style=\"color: inherit\">History</code> objects.</p>\n<p>You can obtain the <code style=\"color: inherit\">1.txt</code> file from the following URL, you’ll need to download it first.</p>\n<div class=\"language-plaintext highlighter-rouge\"><div><pre style=\"color: inherit; background: transparent\"><code style=\"color: inherit\">https://raw.githubusercontent.com/nsoranzo/bioblend-tutorial/main/test-data/1.txt\n</code></pre></div>  </div>\n<br/><details style=\"border: 2px solid #B8C3EA; margin: 1em 0.2em;padding: 0.5em; cursor: pointer;\"><summary>👁 View solution</summary>\n<div class=\"box-title solution-title\" id=\"solution-16\"><button class=\"gtn-boxify-button solution\" type=\"button\" aria-controls=\"solution-16\" aria-expanded=\"true\"><i class=\"far fa-eye\" aria-hidden=\"true\" ></i> Solution<span class=\"fold-unfold fa fa-minus-square\"></span></button></div>\n<div class=\"language-plaintext highlighter-rouge\"><div><pre style=\"color: inherit; background: transparent\"><code style=\"color: inherit\">hda = new_hist.upload_file(\"1.txt\")\npprint(hda)\n</code></pre></div>    </div>\n</details>\n</blockquote>\n",
      "cell_type": "markdown",
      "metadata": {
        "editable": false,
        "collapsed": false
      }
    },
    {
      "id": "cell-91",
      "source": [
        "# Try it out here!\n",
        ""
      ],
      "cell_type": "code",
      "execution_count": null,
      "outputs": [

      ],
      "metadata": {
        "attributes": {
          "classes": [
            "> In this tutorial, we will cover:"
          ],
          "id": ""
        }
      }
    },
    {
      "id": "cell-92",
      "source": "<blockquote class=\"question\" style=\"border: 2px solid #8A9AD0; margin: 1em 0.2em\">\n<div class=\"box-title question-title\" id=\"question-import-a-workflow-2\"><i class=\"far fa-question-circle\" aria-hidden=\"true\" ></i> Question: Import a workflow</div>\n<p><strong>Import a workflow</strong> from the local file <code style=\"color: inherit\">convert_to_tab.ga</code> using <code style=\"color: inherit\">workflows.import_new()</code></p>\n<p>You can obtain the <code style=\"color: inherit\">convert_to_tab.ga</code> file from the following URL, you’ll need to download it first.</p>\n<div class=\"language-plaintext highlighter-rouge\"><div><pre style=\"color: inherit; background: transparent\"><code style=\"color: inherit\">https://raw.githubusercontent.com/nsoranzo/bioblend-tutorial/main/test-data/convert_to_tab.ga\n</code></pre></div>  </div>\n<br/><details style=\"border: 2px solid #B8C3EA; margin: 1em 0.2em;padding: 0.5em; cursor: pointer;\"><summary>👁 View solution</summary>\n<div class=\"box-title solution-title\" id=\"solution-17\"><button class=\"gtn-boxify-button solution\" type=\"button\" aria-controls=\"solution-17\" aria-expanded=\"true\"><i class=\"far fa-eye\" aria-hidden=\"true\" ></i> Solution<span class=\"fold-unfold fa fa-minus-square\"></span></button></div>\n<div class=\"language-plaintext highlighter-rouge\"><div><pre style=\"color: inherit; background: transparent\"><code style=\"color: inherit\">with open(\"convert_to_tab.ga\", \"r\") as f:\n    wf_string = f.read()\nwf = gi.workflows.import_new(wf_string)\npprint(wf)\n</code></pre></div>    </div>\n</details>\n</blockquote>\n",
      "cell_type": "markdown",
      "metadata": {
        "editable": false,
        "collapsed": false
      }
    },
    {
      "id": "cell-93",
      "source": [
        "# Try it out here!\n",
        ""
      ],
      "cell_type": "code",
      "execution_count": null,
      "outputs": [

      ],
      "metadata": {
        "attributes": {
          "classes": [
            "> In this tutorial, we will cover:"
          ],
          "id": ""
        }
      }
    },
    {
      "id": "cell-94",
      "source": "<blockquote class=\"question\" style=\"border: 2px solid #8A9AD0; margin: 1em 0.2em\">\n<div class=\"box-title question-title\" id=\"question-view-the-workflow-inputs\"><i class=\"far fa-question-circle\" aria-hidden=\"true\" ></i> Question: View the workflow inputs</div>\n<br/><details style=\"border: 2px solid #B8C3EA; margin: 1em 0.2em;padding: 0.5em; cursor: pointer;\"><summary>👁 View solution</summary>\n<div class=\"box-title solution-title\" id=\"solution-18\"><button class=\"gtn-boxify-button solution\" type=\"button\" aria-controls=\"solution-18\" aria-expanded=\"true\"><i class=\"far fa-eye\" aria-hidden=\"true\" ></i> Solution<span class=\"fold-unfold fa fa-minus-square\"></span></button></div>\n<div class=\"language-plaintext highlighter-rouge\"><div><pre style=\"color: inherit; background: transparent\"><code style=\"color: inherit\">pprint(wf.inputs)\n</code></pre></div>    </div>\n</details>\n</blockquote>\n",
      "cell_type": "markdown",
      "metadata": {
        "editable": false,
        "collapsed": false
      }
    },
    {
      "id": "cell-95",
      "source": [
        "# Try it out here!\n",
        ""
      ],
      "cell_type": "code",
      "execution_count": null,
      "outputs": [

      ],
      "metadata": {
        "attributes": {
          "classes": [
            "> In this tutorial, we will cover:"
          ],
          "id": ""
        }
      }
    },
    {
      "id": "cell-96",
      "source": "<blockquote class=\"question\" style=\"border: 2px solid #8A9AD0; margin: 1em 0.2em\">\n<div class=\"box-title question-title\" id=\"question-invoke-the-workflow-2\"><i class=\"far fa-question-circle\" aria-hidden=\"true\" ></i> Question: Invoke the workflow</div>\n<p><strong>Run</strong> the imported workflow on the uploaded dataset <strong>inside the same history</strong> using the <code style=\"color: inherit\">invoke()</code> method of <code style=\"color: inherit\">Workflow</code> objects.</p>\n<br/><details style=\"border: 2px solid #B8C3EA; margin: 1em 0.2em;padding: 0.5em; cursor: pointer;\"><summary>👁 View solution</summary>\n<div class=\"box-title solution-title\" id=\"solution-19\"><button class=\"gtn-boxify-button solution\" type=\"button\" aria-controls=\"solution-19\" aria-expanded=\"true\"><i class=\"far fa-eye\" aria-hidden=\"true\" ></i> Solution<span class=\"fold-unfold fa fa-minus-square\"></span></button></div>\n<div class=\"language-plaintext highlighter-rouge\"><div><pre style=\"color: inherit; background: transparent\"><code style=\"color: inherit\">inputs = {'0': hda}\nwf.invoke(inputs=inputs, history=new_hist)\n</code></pre></div>    </div>\n</details>\n</blockquote>\n",
      "cell_type": "markdown",
      "metadata": {
        "editable": false,
        "collapsed": false
      }
    },
    {
      "id": "cell-97",
      "source": [
        "# Try it out here!\n",
        ""
      ],
      "cell_type": "code",
      "execution_count": null,
      "outputs": [

      ],
      "metadata": {
        "attributes": {
          "classes": [
            "> In this tutorial, we will cover:"
          ],
          "id": ""
        }
      }
    },
    {
      "id": "cell-98",
      "source": "<blockquote class=\"question\" style=\"border: 2px solid #8A9AD0; margin: 1em 0.2em\">\n<div class=\"box-title question-title\" id=\"question-view-the-results-2\"><i class=\"far fa-question-circle\" aria-hidden=\"true\" ></i> Question: View the results</div>\n<p>View the results on the Galaxy server with your web browser. Were you successful? Did it run?</p>\n</blockquote>\n<h1 id=\"optional-extra-exercises\">Optional Extra Exercises</h1>\n<p>If you have completed the exercise, you can try to perform these extra tasks with the help of the online documentation:</p>\n<ol>\n<li>Download the workflow result to your computer</li>\n<li>Publish your history</li>\n</ol>\n\n",
      "cell_type": "markdown",
      "metadata": {
        "editable": false,
        "collapsed": false
      }
    },
    {
      "cell_type": "markdown",
      "id": "final-ending-cell",
      "metadata": {
        "editable": false,
        "collapsed": false
      },
      "source": [
        "# Key Points\n\n",
        "- The API allows you to use Galaxy's capabilities programmatically.\n",
        "- BioBlend makes using the Galaxy API from Python easier.\n",
        "- BioBlend objects is an object-oriented interface for interacting with Galaxy.\n",
        "\n# Congratulations on successfully completing this tutorial!\n\n",
        "Please [fill out the feedback on the GTN website](https://training.galaxyproject.org/training-material/topics/dev/tutorials/bioblend-api/tutorial.html#feedback) and check there for further resources!\n"
      ]
    }
  ]
}