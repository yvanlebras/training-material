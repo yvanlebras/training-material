{
  "metadata": {
  },
  "nbformat": 4,
  "nbformat_minor": 5,
  "cells": [
    {
      "id": "metadata",
      "cell_type": "markdown",
      "source": "<div style=\"border: 2px solid #8A9AD0; margin: 1em 0.2em; padding: 0.5em;\">\n\n# SQL Educational Game - Murder Mystery\n\nby [Helena Rasche](https://training.galaxyproject.org/hall-of-fame/hexylena/), [NU Knight Lab](https://training.galaxyproject.org/hall-of-fame/NUKnightLab/), [Erasmus+ Programme](https://training.galaxyproject.org/hall-of-fame/erasmusplus/), [Avans Hogeschool](https://training.galaxyproject.org/hall-of-fame/avans-atgm/)\n\nCC-BY licensed content from the [Galaxy Training Network](https://training.galaxyproject.org/)\n\n**Objectives**\n\n- Who did the crime?\n\n**Objectives**\n\n- Explore SQL City and discover who committed the murder\n- Reinforce your experiences with SQL such as querying, filtering, and joining data.\n\n**Time Estimation: 2H**\n</div>\n",
      "metadata": {
        "editable": false,
        "collapsed": false
      }
    },
    {
      "id": "cell-0",
      "source": "<p>This is not a tutorial like most GTN content but a fun exercise for you to play around and learn a bit about SQL in a more ‘practical’, and hopefully re-inforce the skills you covered in Basic and Advanced SQL skills. It makes use of the <a href=\"https://github.com/NUKnightLab/sql-mysteries\">NUKnightLab/sql-mysteries</a> SQL murder mystery project and released under open licenses:</p>\n<blockquote class=\"quote\">\n<p>Original code for NUKnightLab/sql-mysteries is released under the MIT License.\nOriginal text and other content is released under Creative Commons CC BY-SA 4.0.</p>\n</blockquote>\n<p>Download the database and connector:</p>\n",
      "cell_type": "markdown",
      "metadata": {
        "editable": false,
        "collapsed": false
      }
    },
    {
      "id": "cell-1",
      "source": [
        "# This preamble sets up the sql \"magic\" for jupyter. Use %%sql in your cells to write sql!\n",
        "!python3 -m pip install ipython-sql sqlalchemy\n",
        "!wget -c https://github.com/NUKnightLab/sql-mysteries/raw/master/sql-murder-mystery.db"
      ],
      "cell_type": "code",
      "execution_count": null,
      "outputs": [

      ],
      "metadata": {
        "attributes": {
          "classes": [
            "> Original code for NUKnightLab/sql-mysteries is released under the MIT License."
          ],
          "id": ""
        }
      }
    },
    {
      "id": "cell-2",
      "source": "<p>Setup the database connection:</p>\n",
      "cell_type": "markdown",
      "metadata": {
        "editable": false,
        "collapsed": false
      }
    },
    {
      "id": "cell-3",
      "source": [
        "import sqlalchemy\n",
        "engine = sqlalchemy.create_engine(\"sqlite:///sql-murder-mystery.db\")\n",
        "%load_ext sql\n",
        "%sql sqlite:///sql-murder-mystery.db\n",
        "%config SqlMagic.displaycon=False"
      ],
      "cell_type": "code",
      "execution_count": null,
      "outputs": [

      ],
      "metadata": {
        "attributes": {
          "classes": [
            "> Original code for NUKnightLab/sql-mysteries is released under the MIT License."
          ],
          "id": ""
        }
      }
    },
    {
      "id": "cell-4",
      "source": "<h2 id=\"tables\">Tables</h2>\n<p>Which tables are available to you? What columns do they contain? Here’s a handy reference for you:</p>\n",
      "cell_type": "markdown",
      "metadata": {
        "editable": false,
        "collapsed": false
      }
    },
    {
      "id": "cell-5",
      "source": [
        "import pandas as pd\n",
        "from sqlalchemy import MetaData\n",
        "m = MetaData()\n",
        "m.reflect(engine)\n",
        "results = []\n",
        "for table in m.tables.values():\n",
        "    results.append([table.name, ', '.join([c.name for c in table.c])])\n",
        "pd.set_option('display.max_colwidth', None)\n",
        "pd.DataFrame(results, columns=[\"Table\", \"Columns\"])"
      ],
      "cell_type": "code",
      "execution_count": null,
      "outputs": [

      ],
      "metadata": {
        "attributes": {
          "classes": [
            "> Original code for NUKnightLab/sql-mysteries is released under the MIT License."
          ],
          "id": ""
        }
      }
    },
    {
      "id": "cell-6",
      "source": "<h2 id=\"the-search\">The search!</h2>\n<p>Begin your search for the truth</p>\n<blockquote class=\"quote\">\n<p>A crime has taken place and the police are both useless <em>and</em> corrupt and it\nis up to you and your community to solve the mystery. They failed to secure\ntheir database, and now their crime scene reports are public, it is time to\nfigure out who the murderer was.</p>\n<p>You know that the crime was a <strong>murder</strong> that occurred sometime on <strong>Jan.15,\n2018</strong> and that it took place in <strong>SQL City</strong>.</p>\n<p>All the clues to this mystery are buried in a huge database, and you need to\nuse SQL to navigate through this vast network of information. Your first step\nto solving the mystery is to retrieve the corresponding crime scene report\nfrom the police department’s database. From there, you can use your SQL\nskills to find the murderer.</p>\n</blockquote>\n",
      "cell_type": "markdown",
      "metadata": {
        "editable": false,
        "collapsed": false
      }
    },
    {
      "id": "cell-7",
      "source": [
        "%%sql\n",
        "select * from crime_scene_report limit 8;"
      ],
      "cell_type": "code",
      "execution_count": null,
      "outputs": [

      ],
      "metadata": {
        "attributes": {
          "classes": [
            "> Original code for NUKnightLab/sql-mysteries is released under the MIT License."
          ],
          "id": ""
        }
      }
    },
    {
      "id": "cell-8",
      "source": "<p>Try using the ‘Insert → Cell Below’ functionality to keep track of important query results as you go!</p>\n<h2 id=\"solution\">Solution</h2>\n<p>Write the following queries in your SQL environment to check whether you’ve found the right murderer:</p>\n",
      "cell_type": "markdown",
      "metadata": {
        "editable": false,
        "collapsed": false
      }
    },
    {
      "id": "cell-9",
      "source": [
        "%%sql\n",
        "INSERT INTO solution VALUES (1, \"Insert the name of the person you found here\");\n",
        "SELECT value FROM solution;"
      ],
      "cell_type": "code",
      "execution_count": null,
      "outputs": [

      ],
      "metadata": {
        "attributes": {
          "classes": [
            "> Original code for NUKnightLab/sql-mysteries is released under the MIT License."
          ],
          "id": ""
        }
      }
    },
    {
      "id": "cell-10",
      "source": "\n",
      "cell_type": "markdown",
      "metadata": {
        "editable": false,
        "collapsed": false
      }
    },
    {
      "cell_type": "markdown",
      "id": "final-ending-cell",
      "metadata": {
        "editable": false,
        "collapsed": false
      },
      "source": [
        "# Key Points\n\n",
        "- Learning SQL can be fun!\n",
        "\n# Congratulations on successfully completing this tutorial!\n\n",
        "Please [fill out the feedback on the GTN website](https://training.galaxyproject.org/training-material/topics/data-science/tutorials/sql-game/tutorial.html#feedback) and check there for further resources!\n"
      ]
    }
  ]
}