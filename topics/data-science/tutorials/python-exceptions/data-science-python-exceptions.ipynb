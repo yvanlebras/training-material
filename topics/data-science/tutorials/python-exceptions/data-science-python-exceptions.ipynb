{
  "metadata": {
  },
  "nbformat": 4,
  "nbformat_minor": 5,
  "cells": [
    {
      "id": "metadata",
      "cell_type": "markdown",
      "source": "<div style=\"border: 2px solid #8A9AD0; margin: 1em 0.2em; padding: 0.5em;\">\n\n# Python - Try &amp; Except\n\nby [Helena Rasche](https://training.galaxyproject.org/hall-of-fame/hexylena/), [Donny Vrins](https://training.galaxyproject.org/hall-of-fame/dirowa/), [Bazante Sanders](https://training.galaxyproject.org/hall-of-fame/bazante1/)\n\nCC-BY licensed content from the [Galaxy Training Network](https://training.galaxyproject.org/)\n\n**Objectives**\n\n- How do I try to execute code, knowing it might fail?\n- What are some situations where this is important?\n- How can I write my own exceptions.\n\n**Objectives**\n\n- catch an exception\n- raise your own exception\n\n**Time Estimation: 20M**\n</div>\n",
      "metadata": {
        "editable": false,
        "collapsed": false
      }
    },
    {
      "id": "cell-0",
      "source": "<p>Try/except are a construct in Python used to catch a potential exception. Sometimes things go wrong in your code! Or in someone else’s code in a module. Sometimes some errors might be expected like when you try and read a user supplied file, maybe it isn’t available because they’ve specified the wrong path.</p>\n<blockquote class=\"agenda\" style=\"border: 2px solid #86D486;display: none; margin: 1em 0.2em\">\n<div class=\"box-title agenda-title\" id=\"agenda\">Agenda</div>\n<p>In this tutorial, we will cover:</p>\n<ol id=\"markdown-toc\">\n<li><a href=\"#raise\" id=\"markdown-toc-raise\">Raise</a></li>\n</ol>\n</blockquote>\n<h2 id=\"raise\">Raise</h2>\n<p>When you’re writing code, sometimes there are errors you might need to handle:</p>\n<ul>\n<li>If you’re calculating the mean of a set of numbers, and the list is empty. You don’t want to divide by <code style=\"color: inherit\">len(numbers)</code> and trigger a Zero Division Error.</li>\n<li>If you’re opening a file, there maybe a chance that the file is not found.</li>\n</ul>\n<p>Using try/excepts allow you to:</p>\n<ul>\n<li>provide friendlier and more useful error messages</li>\n<li>handle expected error cases</li>\n</ul>\n<p>For instance, returning to the <code style=\"color: inherit\">mean()</code> function example, what should <code style=\"color: inherit\">mean([])</code> return for a hypothetical mean function that calculates the average of a list of numbers. Should it return 0? It probably should return an error. Let’s look at some example code:</p>\n",
      "cell_type": "markdown",
      "metadata": {
        "editable": false,
        "collapsed": false
      }
    },
    {
      "id": "cell-1",
      "source": [
        "def mean(numbers):\n",
        "    return sum(numbers) / len(numbers)\n",
        "\n",
        "mean([1, 2, 3])\n",
        "mean([])"
      ],
      "cell_type": "code",
      "execution_count": null,
      "outputs": [

      ],
      "metadata": {
        "attributes": {
          "classes": [
            "> <agenda-title></agenda-title>"
          ],
          "id": ""
        }
      }
    },
    {
      "id": "cell-2",
      "source": "<p>This raises a <code style=\"color: inherit\">ZeroDivisionError</code>  but we can make this a more friendly error message by raising our own exception.</p>\n",
      "cell_type": "markdown",
      "metadata": {
        "editable": false,
        "collapsed": false
      }
    },
    {
      "id": "cell-3",
      "source": [
        "def mean(numbers):\n",
        "    if not numbers:\n",
        "        raise ValueError(\"You are calculating the mean of an empty list, which is not possible.\")\n",
        "    return sum(numbers) / len(numbers)\n",
        "\n",
        "mean([1, 2, 3])\n",
        "mean([])"
      ],
      "cell_type": "code",
      "execution_count": null,
      "outputs": [

      ],
      "metadata": {
        "attributes": {
          "classes": [
            "> <agenda-title></agenda-title>"
          ],
          "id": ""
        }
      }
    },
    {
      "id": "cell-4",
      "source": "<blockquote class=\"tip\" style=\"border: 2px solid #FFE19E; margin: 1em 0.2em\">\n<div class=\"box-title tip-title\" id=\"tip-where-do-valueerror-zerodivisionerror-come-from\"><button class=\"gtn-boxify-button tip\" type=\"button\" aria-controls=\"tip-where-do-valueerror-zerodivisionerror-come-from\" aria-expanded=\"true\"><i class=\"far fa-lightbulb\" aria-hidden=\"true\" ></i> Tip: Where do ValueError, ZeroDivisionError come from?<span class=\"fold-unfold fa fa-minus-square\"></span></button></div>\n<p>There are loads of different types of exception codes! <a href=\"https://docs.python.org/3/library/exceptions.html\">The python documentation has a large list</a> of exceptions and some descriptions for when or why those exceptions might be raised.</p>\n</blockquote>\n<p>Now we get a much more useful error message from the function! Using <code style=\"color: inherit\">raise</code> is especially important for <em>library authors</em>, people writing python modules that we all use. If they provide useful error messages, it helps you as an end user understand what’s happening.</p>\n<h2 id=\"try--except\">Try &amp; Except</h2>\n<p>Let’s look at how you would handle one of these exceptions, we’ll continue with the <code style=\"color: inherit\">mean()</code> example above.</p>\n",
      "cell_type": "markdown",
      "metadata": {
        "editable": false,
        "collapsed": false
      }
    },
    {
      "id": "cell-5",
      "source": [
        "numbers = []\n",
        "try:\n",
        "    result = mean(numbers)\n",
        "    print(f\"Result is {result}\")\n",
        "except ValueError:\n",
        "    print(\"We cannot calculate the mean\")"
      ],
      "cell_type": "code",
      "execution_count": null,
      "outputs": [

      ],
      "metadata": {
        "attributes": {
          "classes": [
            "> <agenda-title></agenda-title>"
          ],
          "id": ""
        }
      }
    },
    {
      "id": "cell-6",
      "source": "<p>Here we use <code style=\"color: inherit\">try:</code> to setup a new block, and this code is <strong>tried</strong>, Python attempts to execute it. Below are one or more <code style=\"color: inherit\">except:</code> blocks which catch specific errors. Here we have specifically said we know a ValueError can happen, and decided to handle it.</p>\n<p>Or for another example, accessing a user supplied file. Oftentimes users will call your program and supply a non-existent, or inacessible file. Here you can use multiple <code style=\"color: inherit\">except</code> blocks to catch all of those potential errors.</p>\n",
      "cell_type": "markdown",
      "metadata": {
        "editable": false,
        "collapsed": false
      }
    },
    {
      "id": "cell-7",
      "source": [
        "user_supplied_file = 'does-not-exist.txt'\n",
        "try:\n",
        "    open(user_supplied_file, 'r')\n",
        "except FileNotFoundError:\n",
        "    print(f\"The path you supplied ({user_supplied_file}) doesn't exist, please double check it!\")\n",
        "except PermissionError:\n",
        "    print(f\"You supplied a valid file, but it is unreadable. Try changing it's permissions with `chmod +r {user_supplied_file}`\")"
      ],
      "cell_type": "code",
      "execution_count": null,
      "outputs": [

      ],
      "metadata": {
        "attributes": {
          "classes": [
            "> <agenda-title></agenda-title>"
          ],
          "id": ""
        }
      }
    },
    {
      "id": "cell-8",
      "source": "<p>Failing to open a file raises a <code style=\"color: inherit\">FileNotFoundError</code> which indicates the file isn’t available, and <code style=\"color: inherit\">PermissionError</code> indicates that a file is unreadable. However in practice, sometimes you’ll see something like this:</p>\n<div class=\"language-plaintext highlighter-rouge\"><div><pre style=\"color: inherit; background: transparent\"><code style=\"color: inherit\"># Bad!\ntry:\n    doSomething()\nexcept:\n    print(\"error\")\n</code></pre></div></div>\n<p>This is called a <strong>bare exception</strong>, and will catch any exception, compared with <code style=\"color: inherit\">except ValueError</code> which only catches value errors. People consider this generally a bad idea, termed <em>code smell</em>. (Because it smells (appears) bad!)</p>\n<h2 id=\"finally\">Finally</h2>\n<p>The last portion of the <code style=\"color: inherit\">try:</code>/<code style=\"color: inherit\">except:</code> block is <code style=\"color: inherit\">finally:</code>, a third block which lets us do cleanup. It’s often very nice to your users that if your program fails halfway through, that you cleanup after yourself.</p>\n",
      "cell_type": "markdown",
      "metadata": {
        "editable": false,
        "collapsed": false
      }
    },
    {
      "id": "cell-9",
      "source": [
        "import os\n",
        "\n",
        "try:\n",
        "    with open('gene_query.fa', 'w') as handle:\n",
        "        handle.write(\">some fasta sequence we want to search against a database\")\n",
        "\n",
        "    # runQuery('gene_query.fa')\n",
        "\n",
        "    # But here we have an error! Something goes wrong!\n",
        "    1 / 0\n",
        "except:\n",
        "    # And now our results are invalid.\n",
        "    print(\"Something went wrong! Oh no! Check your inputs.\")\n",
        "finally:\n",
        "    # So we should cleanup this temporary file we created, so it doesn't cause\n",
        "    # problems or distract the user from the results file.\n",
        "    # This function will delete a file from your computer:\n",
        "    os.remove('gene_query.fa')"
      ],
      "cell_type": "code",
      "execution_count": null,
      "outputs": [

      ],
      "metadata": {
        "attributes": {
          "classes": [
            "> <agenda-title></agenda-title>"
          ],
          "id": ""
        }
      }
    },
    {
      "id": "cell-10",
      "source": "<h2 id=\"fallback\">Fallback</h2>\n<p>Sometimes we can use <code style=\"color: inherit\">try</code>/<code style=\"color: inherit\">except</code> to have a fallback option. Consider the pseudocode below:</p>\n<div class=\"language-plaintext highlighter-rouge\"><div><pre style=\"color: inherit; background: transparent\"><code style=\"color: inherit\">try:\n    runBlast()\nexcept BlastNotAvailable:\n    try:\n        runBLAT()\n    except BLATnotAvailable:\n        print(\"Neither Blast nor BLAT were available.\")\n</code></pre></div></div>\n<p>Sometimes you have a fallback option, some other tool you can use in its place. When that’s possible, you can use <code style=\"color: inherit\">try</code> and <code style=\"color: inherit\">except</code> to handle those cases and work around potential issues. But this isn’t always the case, sometimes you just need to print your error message and stop executing code.</p>\n",
      "cell_type": "markdown",
      "metadata": {
        "editable": false,
        "collapsed": false
      }
    },
    {
      "cell_type": "markdown",
      "id": "final-ending-cell",
      "metadata": {
        "editable": false,
        "collapsed": false
      },
      "source": [
        "# Key Points\n\n",
        "- raise lets your raise your own `Exception`s\n",
        "- This is mostly used by library authors (which you might become!)\n",
        "- Use `try`/`except` to catch expected errors and work around them (if possible)\n",
        "- finally lets you cleanup your temporary files, if you created some.\n",
        "\n# Congratulations on successfully completing this tutorial!\n\n",
        "Please [fill out the feedback on the GTN website](https://training.galaxyproject.org/training-material/topics/data-science/tutorials/python-exceptions/tutorial.html#feedback) and check there for further resources!\n"
      ]
    }
  ]
}