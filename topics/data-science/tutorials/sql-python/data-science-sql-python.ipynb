{
  "metadata": {
  },
  "nbformat": 4,
  "nbformat_minor": 5,
  "cells": [
    {
      "id": "metadata",
      "cell_type": "markdown",
      "source": "<div style=\"border: 2px solid #8A9AD0; margin: 1em 0.2em; padding: 0.5em;\">\n\n# SQL with Python\n\nby [The Carpentries](https://training.galaxyproject.org/hall-of-fame/carpentries/), [Helena Rasche](https://training.galaxyproject.org/hall-of-fame/hexylena/), [Avans Hogeschool](https://training.galaxyproject.org/hall-of-fame/avans-atgm/)\n\nCC-BY licensed content from the [Galaxy Training Network](https://training.galaxyproject.org/)\n\n**Objectives**\n\n- How can I access databases from programs written in Python?\n\n**Objectives**\n\n- Write short programs that execute SQL queries.\n- Trace the execution of a program that contains an SQL query.\n- Explain why most database applications are written in a general-purpose language rather than in SQL.\n\n**Time Estimation: 45M**\n</div>\n",
      "metadata": {
        "editable": false,
        "collapsed": false
      }
    },
    {
      "id": "cell-0",
      "source": "<blockquote class=\"comment\" style=\"border: 2px solid #ffecc1; margin: 1em 0.2em\">\n<h3 id=\"-icon-comment--comment\">💬 Comment</h3>\n<p>This tutorial is <strong>significantly</strong> based on <a href=\"https://carpentries.org\">the Carpentries</a> <a href=\"https://github.com/swcarpentry/sql-novice-survey/\">Databases and SQL</a> lesson, which is licensed CC-BY 4.0.</p>\n<p>Abigail Cabunoc and Sheldon McKay (eds): “Software Carpentry: Using Databases and SQL.”  Version 2017.08, August 2017,\n<a href=\"https://github.com/swcarpentry/sql-novice-survey\">github.com/swcarpentry/sql-novice-survey</a>, <a href=\"https://doi.org/10.5281/zenodo.838776\">https://doi.org/10.5281/zenodo.838776</a></p>\n<p>Adaptations have been made to make this work better in a GTN/Galaxy environment.</p>\n</blockquote>\n<blockquote class=\"agenda\" style=\"border: 2px solid #86D486;display: none; margin: 1em 0.2em\">\n<h3 id=\"agenda\">Agenda</h3>\n<p>In this tutorial, we will cover:</p>\n</blockquote>\n<p>For this tutorial we need to download a database that we will use for the queries.</p>\n",
      "cell_type": "markdown",
      "metadata": {
        "editable": false,
        "collapsed": false
      }
    },
    {
      "id": "cell-1",
      "source": [
        "!wget -c http://swcarpentry.github.io/sql-novice-survey/files/survey.db"
      ],
      "cell_type": "code",
      "execution_count": null,
      "outputs": [

      ],
      "metadata": {
        "attributes": {
          "classes": [
            "python"
          ],
          "id": ""
        }
      }
    },
    {
      "id": "cell-2",
      "source": "<h1 id=\"programming-with-databases---python\">Programming with Databases - Python</h1>\n<p>Let’s have a look at how to access a database from\na general-purpose programming language like Python.\nOther languages use almost exactly the same model:\nlibrary and function names may differ,\nbut the concepts are the same.</p>\n<p>Here’s a short Python program that selects latitudes and longitudes\nfrom an SQLite database stored in a file called <code>survey.db</code>:</p>\n",
      "cell_type": "markdown",
      "metadata": {
        "editable": false,
        "collapsed": false
      }
    },
    {
      "id": "cell-3",
      "source": [
        "import sqlite3\n",
        "\n",
        "connection = sqlite3.connect(\"survey.db\")\n",
        "cursor = connection.cursor()\n",
        "cursor.execute(\"SELECT Site.lat, Site.long FROM Site;\")\n",
        "results = cursor.fetchall()\n",
        "for r in results:\n",
        "print(r)\n",
        "cursor.close()\n",
        "connection.close()"
      ],
      "cell_type": "code",
      "execution_count": null,
      "outputs": [

      ],
      "metadata": {
        "attributes": {
          "classes": [
            "python"
          ],
          "id": ""
        }
      }
    },
    {
      "id": "cell-4",
      "source": "<p>The program starts by importing the <code>sqlite3</code> library.\nIf we were connecting to MySQL, DB2, or some other database,\nwe would import a different library,\nbut all of them provide the same functions,\nso that the rest of our program does not have to change\n(at least, not much)\nif we switch from one database to another.</p>\n<p>Line 2 establishes a connection to the database.\nSince we’re using SQLite,\nall we need to specify is the name of the database file.\nOther systems may require us to provide a username and password as well.\nLine 3 then uses this connection to create a cursor.\nJust like the cursor in an editor,\nits role is to keep track of where we are in the database.</p>\n<p>On line 4, we use that cursor to ask the database to execute a query for us.\nThe query is written in SQL,\nand passed to <code>cursor.execute</code> as a string.\nIt’s our job to make sure that SQL is properly formatted;\nif it isn’t,\nor if something goes wrong when it is being executed,\nthe database will report an error.</p>\n<p>The database returns the results of the query to us\nin response to the <code>cursor.fetchall</code> call on line 5.\nThis result is a list with one entry for each record in the result set;\nif we loop over that list (line 6) and print those list entries (line 7),\nwe can see that each one is a tuple\nwith one element for each field we asked for.</p>\n<p>Finally, lines 8 and 9 close our cursor and our connection,\nsince the database can only keep a limited number of these open at one time.\nSince establishing a connection takes time,\nthough,\nwe shouldn’t open a connection,\ndo one operation,\nthen close the connection,\nonly to reopen it a few microseconds later to do another operation.\nInstead,\nit’s normal to create one connection that stays open for the lifetime of the program.</p>\n<p>Queries in real applications will often depend on values provided by users.\nFor example,\nthis function takes a user’s ID as a parameter and returns their name:</p>\n",
      "cell_type": "markdown",
      "metadata": {
        "editable": false,
        "collapsed": false
      }
    },
    {
      "id": "cell-5",
      "source": [
        "import sqlite3\n",
        "\n",
        "def get_name(database_file, person_id):\n",
        "query = \"SELECT personal || ' ' || family FROM Person WHERE id='\" + person_id + \"';\"\n",
        "\n",
        "connection = sqlite3.connect(database_file)\n",
        "cursor = connection.cursor()\n",
        "cursor.execute(query)\n",
        "results = cursor.fetchall()\n",
        "cursor.close()\n",
        "connection.close()\n",
        "\n",
        "return results[0][0]\n",
        "\n",
        "print(\"Full name for dyer:\", get_name('survey.db', 'dyer'))"
      ],
      "cell_type": "code",
      "execution_count": null,
      "outputs": [

      ],
      "metadata": {
        "attributes": {
          "classes": [
            "python"
          ],
          "id": ""
        }
      }
    },
    {
      "id": "cell-6",
      "source": "<p>We use string concatenation on the first line of this function\nto construct a query containing the user ID we have been given.\nThis seems simple enough,\nbut what happens if someone gives us this string as input?</p>\n<div class=\"language-plaintext highlighter-rouge\"><div><pre style=\"color: inherit; background: white\"><code>dyer'; DROP TABLE Survey; SELECT '\n</code></pre></div></div>\n<p>It looks like there’s garbage after the user’s ID,\nbut it is very carefully chosen garbage.\nIf we insert this string into our query,\nthe result is:</p>\n<div class=\"language-plaintext highlighter-rouge\"><div><pre style=\"color: inherit; background: white\"><code>SELECT personal || ' ' || family FROM Person WHERE id='dyer'; DROP TABLE Survey; SELECT '';\n</code></pre></div></div>\n<p>If we execute this,\nit will erase one of the tables in our database.</p>\n<p>This is called an SQL injection attack,\nand it has been used to attack thousands of programs over the years.\nIn particular,\nmany web sites that take data from users insert values directly into queries\nwithout checking them carefully first.\nA very <a href=\"https://xkcd.com/327/\">relevant XKCD</a> that explains the\ndangers of using raw input in queries a little more succinctly:</p>\n<p><img src=\"https://imgs.xkcd.com/comics/exploits_of_a_mom.png\" alt=\"A 4 panel comic, in the first panel a person is shown answering the phone, hearing that their son's school has some computer trouble. In panel 2 they apologises asking if their child broke something. In panel 3, the unseen person on the other end of the phone call asks if they really named their son Robert'); Drop table students;--? They respond saying 'oh yes. little bobby tables we call him.' In the 4th panel the caller says 'well we have lost this years student records, I hope you're happy.' They respond 'And I hope you've learned to sanitize your database inputs'.\" /></p>\n<p>Since a villain might try to smuggle commands into our queries in many different ways,\nthe safest way to deal with this threat is\nto replace characters like quotes with their escaped equivalents,\nso that we can safely put whatever the user gives us inside a string.\nWe can do this by using a prepared statement\ninstead of formatting our statements as strings.\nHere’s what our example program looks like if we do this:</p>\n",
      "cell_type": "markdown",
      "metadata": {
        "editable": false,
        "collapsed": false
      }
    },
    {
      "id": "cell-7",
      "source": [
        "import sqlite3\n",
        "\n",
        "def get_name(database_file, person_id):\n",
        "query = \"SELECT personal || ' ' || family FROM Person WHERE id=?;\"\n",
        "\n",
        "connection = sqlite3.connect(database_file)\n",
        "cursor = connection.cursor()\n",
        "cursor.execute(query, [person_id])\n",
        "results = cursor.fetchall()\n",
        "cursor.close()\n",
        "connection.close()\n",
        "\n",
        "return results[0][0]\n",
        "\n",
        "print(\"Full name for dyer:\", get_name('survey.db', 'dyer'))"
      ],
      "cell_type": "code",
      "execution_count": null,
      "outputs": [

      ],
      "metadata": {
        "attributes": {
          "classes": [
            "python"
          ],
          "id": ""
        }
      }
    },
    {
      "id": "cell-8",
      "source": "<p>The key changes are in the query string and the <code>execute</code> call.\nInstead of formatting the query ourselves,\nwe put question marks in the query template where we want to insert values.\nWhen we call <code>execute</code>,\nwe provide a list\nthat contains as many values as there are question marks in the query.\nThe library matches values to question marks in order,\nand translates any special characters in the values\ninto their escaped equivalents\nso that they are safe to use.</p>\n<p>We can also use <code>sqlite3</code>’s cursor to make changes to our database,\nsuch as inserting a new name.\nFor instance, we can define a new function called <code>add_name</code> like so:</p>\n",
      "cell_type": "markdown",
      "metadata": {
        "editable": false,
        "collapsed": false
      }
    },
    {
      "id": "cell-9",
      "source": [
        "import sqlite3\n",
        "\n",
        "def add_name(database_file, new_person):\n",
        "query = \"INSERT INTO Person (id, personal, family) VALUES (?, ?, ?);\"\n",
        "\n",
        "connection = sqlite3.connect(database_file)\n",
        "cursor = connection.cursor()\n",
        "cursor.execute(query, list(new_person))\n",
        "cursor.close()\n",
        "connection.close()\n",
        "\n",
        "\n",
        "def get_name(database_file, person_id):\n",
        "query = \"SELECT personal || ' ' || family FROM Person WHERE id=?;\"\n",
        "\n",
        "connection = sqlite3.connect(database_file)\n",
        "cursor = connection.cursor()\n",
        "cursor.execute(query, [person_id])\n",
        "results = cursor.fetchall()\n",
        "cursor.close()\n",
        "connection.close()\n",
        "\n",
        "return results[0][0]\n",
        "\n",
        "# Insert a new name\n",
        "add_name('survey.db', ('barrett', 'Mary', 'Barrett'))\n",
        "# Check it exists\n",
        "print(\"Full name for barrett:\", get_name('survey.db', 'barrett'))"
      ],
      "cell_type": "code",
      "execution_count": null,
      "outputs": [

      ],
      "metadata": {
        "attributes": {
          "classes": [
            "python"
          ],
          "id": ""
        }
      }
    },
    {
      "id": "cell-10",
      "source": "<p>Note that in versions of sqlite3 &gt;= 2.5, the <code>get_name</code> function described\nabove will fail with an <code>IndexError: list index out of range</code>,\neven though we added Mary’s\nentry into the table using <code>add_name</code>.\nThis is because we must perform a <code>connection.commit()</code> before closing\nthe connection, in order to save our changes to the database.</p>\n",
      "cell_type": "markdown",
      "metadata": {
        "editable": false,
        "collapsed": false
      }
    },
    {
      "id": "cell-11",
      "source": [
        "import sqlite3\n",
        "\n",
        "def add_name(database_file, new_person):\n",
        "query = \"INSERT INTO Person (id, personal, family) VALUES (?, ?, ?);\"\n",
        "\n",
        "connection = sqlite3.connect(database_file)\n",
        "cursor = connection.cursor()\n",
        "cursor.execute(query, list(new_person))\n",
        "cursor.close()\n",
        "connection.commit()\n",
        "connection.close()\n",
        "\n",
        "\n",
        "def get_name(database_file, person_id):\n",
        "query = \"SELECT personal || ' ' || family FROM Person WHERE id=?;\"\n",
        "\n",
        "connection = sqlite3.connect(database_file)\n",
        "cursor = connection.cursor()\n",
        "cursor.execute(query, [person_id])\n",
        "results = cursor.fetchall()\n",
        "cursor.close()\n",
        "connection.close()\n",
        "\n",
        "return results[0][0]\n",
        "\n",
        "# Insert a new name\n",
        "add_name('survey.db', ('barrett', 'Mary', 'Barrett'))\n",
        "# Check it exists\n",
        "print(\"Full name for barrett:\", get_name('survey.db', 'barrett'))"
      ],
      "cell_type": "code",
      "execution_count": null,
      "outputs": [

      ],
      "metadata": {
        "attributes": {
          "classes": [
            "python"
          ],
          "id": ""
        }
      }
    },
    {
      "id": "cell-12",
      "source": "<blockquote class=\"question\" style=\"border: 2px solid #8A9AD0; margin: 1em 0.2em\">\n<h3 id=\"-icon-question--question-filling-a-table-vs-printing-values\">❓ Question: Filling a Table vs. Printing Values</h3>\n<p>Write a Python program that creates a new database in a file called\n<code>original.db</code> containing a single table called <code>Pressure</code>, with a\nsingle field called <code>reading</code>, and inserts 100,000 random numbers\nbetween 10.0 and 25.0.  How long does it take this program to run?\nHow long does it take to run a program that simply writes those\nrandom numbers to a file?</p>\n<blockquote class=\"solution\" style=\"border: 2px solid #B8C3EA;color: white; margin: 1em 0.2em\">\n<div style=\"color: #555; font-size: 95%;\">Hint: Select the text with your mouse to see the answer</div><h3 id=\"-icon-solution--solution\">👁 Solution</h3>\n<div class=\"language-plaintext python highlighter-rouge\"><div><pre style=\"color: inherit; background: white\"><code>import sqlite3\n# import random number generator\nfrom numpy.random import uniform\n\nrandom_numbers = uniform(low=10.0, high=25.0, size=100000)\n\nconnection = sqlite3.connect(\"original.db\")\ncursor = connection.cursor()\ncursor.execute(\"CREATE TABLE Pressure (reading float not null)\")\nquery = \"INSERT INTO Pressure (reading) VALUES (?);\"\n\nfor number in random_numbers:\n    cursor.execute(query, [number])\n\ncursor.close()\nconnection.commit() # save changes to file for next exercise\nconnection.close()\n</code></pre></div>    </div>\n<p>For comparison, the following program writes the random numbers\ninto the file <code>random_numbers.txt</code>:</p>\n<div class=\"language-plaintext python highlighter-rouge\"><div><pre style=\"color: inherit; background: white\"><code>from numpy.random import uniform\n\nrandom_numbers = uniform(low=10.0, high=25.0, size=100000)\nwith open('random_numbers.txt', 'w') as outfile:\n    for number in random_numbers:\n        # need to add linebreak \\n\n        outfile.write(\"{}\\n\".format(number))\n</code></pre></div>    </div>\n</blockquote>\n</blockquote>\n<blockquote class=\"question\" style=\"border: 2px solid #8A9AD0; margin: 1em 0.2em\">\n<h3 id=\"-icon-question--question-filtering-in-sql-vs-filtering-in-python\">❓ Question: Filtering in SQL vs. Filtering in Python</h3>\n<p>Write a Python program that creates a new database called\n<code>backup.db</code> with the same structure as <code>original.db</code> and copies all\nthe values greater than 20.0 from <code>original.db</code> to <code>backup.db</code>.\nWhich is faster: filtering values in the query, or reading\neverything into memory and filtering in Python?</p>\n<blockquote class=\"solution\" style=\"border: 2px solid #B8C3EA;color: white; margin: 1em 0.2em\">\n<h3 id=\"-icon-solution--solution-1\">👁 Solution</h3>\n<p>The first example reads all the data into memory and filters the\nnumbers using the if statement in Python.</p>\n<div class=\"language-plaintext highlighter-rouge\"><div><pre style=\"color: inherit; background: white\"><code>import sqlite3\n\nconnection_original = sqlite3.connect(\"original.db\")\ncursor_original = connection_original.cursor()\ncursor_original.execute(\"SELECT * FROM Pressure;\")\nresults = cursor_original.fetchall()\ncursor_original.close()\nconnection_original.close()\n\nconnection_backup = sqlite3.connect(\"backup.db\")\ncursor_backup = connection_backup.cursor()\ncursor_backup.execute(\"CREATE TABLE Pressure (reading float not null)\")\nquery = \"INSERT INTO Pressure (reading) VALUES (?);\"\n\nfor entry in results:\n    # number is saved in first column of the table\n    if entry[0] &gt; 20.0:\n        cursor_backup.execute(query, entry)\n\ncursor_backup.close()\nconnection_backup.commit()\nconnection_backup.close()\n</code></pre></div>    </div>\n<p>In contrast the following example uses the conditional <code></code>SELECT<code></code> statement\nto filter the numbers in SQL.\nThe only lines that changed are in line 5, where the values are fetched\nfrom <code>original.db</code> and the for loop starting in line 15 used to insert\nthe numbers into <code>backup.db</code>.\nNote how this version does not require the use of Python’s if statement.</p>\n<div class=\"language-plaintext highlighter-rouge\"><div><pre style=\"color: inherit; background: white\"><code>import sqlite3\n\nconnection_original = sqlite3.connect(\"original.db\")\ncursor_original = connection_original.cursor()\ncursor_original.execute(\"SELECT * FROM Pressure WHERE reading &gt; 20.0;\")\nresults = cursor_original.fetchall()\ncursor_original.close()\nconnection_original.close()\n\nconnection_backup = sqlite3.connect(\"backup.db\")\ncursor_backup = connection_backup.cursor()\ncursor_backup.execute(\"CREATE TABLE Pressure (reading float not null)\")\nquery = \"INSERT INTO Pressure (reading) VALUES (?);\"\n\nfor entry in results:\n    cursor_backup.execute(query, entry)\n\ncursor_backup.close()\nconnection_backup.commit()\nconnection_backup.close()\n</code></pre></div>    </div>\n</blockquote>\n</blockquote>\n<blockquote class=\"question\" style=\"border: 2px solid #8A9AD0; margin: 1em 0.2em\">\n<h3 id=\"-icon-question--question-generating-insert-statements\">❓ Question: Generating Insert Statements</h3>\n<p>One of our colleagues has sent us a\nCSV\nfile containing\ntemperature readings by Robert Olmstead, which is formatted like\nthis:</p>\n<div class=\"language-plaintext output highlighter-rouge\"><div><pre style=\"color: inherit; background: white\"><code>Taken,Temp\n619,-21.5\n622,-15.5\n</code></pre></div>  </div>\n<p>Write a small Python program that reads this file in and prints out\nthe SQL <code>INSERT</code> statements needed to add these records to the\nsurvey database.  Note: you will need to add an entry for Olmstead\nto the <code>Person</code> table.  If you are testing your program repeatedly,\nyou may want to investigate SQL’s <code>INSERT or REPLACE</code> command.</p>\n</blockquote>\n",
      "cell_type": "markdown",
      "metadata": {
        "editable": false,
        "collapsed": false
      }
    },
    {
      "cell_type": "markdown",
      "id": "final-ending-cell",
      "metadata": {
        "editable": false,
        "collapsed": false
      },
      "source": [
        "# Key Points\n\n",
        "- General-purpose languages have libraries for accessing databases.\n",
        "- To connect to a database, a program must use a library specific to that database manager.\n",
        "- These libraries use a connection-and-cursor model.\n",
        "- Programs can read query results in batches or all at once.\n",
        "- Queries should be written using parameter substitution, not string formatting.\n",
        "\n# Congratulations on successfully completing this tutorial!\n\n",
        "Please [fill out the feedback on the GTN website](https://training.galaxyproject.org/training-material/topics/data-science/tutorials/sql-python/tutorial.html#feedback) and check there for further resources!\n"
      ]
    }
  ]
}