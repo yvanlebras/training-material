{
  "metadata": {
    "kernelspec": {
      "display_name": "Bash",
      "language": "bash",
      "name": "bash"
    },
    "language_info": {
      "codemirror_mode": "shell",
      "file_extension": ".sh",
      "mimetype": "text/x-sh",
      "name": "bash"
    }
  },
  "nbformat": 4,
  "nbformat_minor": 5,
  "cells": [
    {
      "id": "metadata",
      "cell_type": "markdown",
      "source": "<div style=\"border: 2px solid #8A9AD0; margin: 1em 0.2em; padding: 0.5em;\">\n\n# CLI Educational Game - Bashcrawl\n\nby [Helena Rasche](https://training.galaxyproject.org/hall-of-fame/hexylena/), [Erasmus+ Programme](https://training.galaxyproject.org/hall-of-fame/erasmusplus/)\n\nCC-BY licensed content from the [Galaxy Training Network](https://training.galaxyproject.org/)\n\n**Objectives**\n\n- How can I move around on my computer?\n- How can I see what files and directories I have?\n- How can I specify the location of a file or directory on my computer?\n- How can I create, copy, and delete files and directories?\n- How can I edit files?\n\n**Objectives**\n\n- Explore the bash dungeon and fight monsters\n- Reinforce the learning of CLI basics such as how to change directories, move around, find things, and symlinkings\n\n**Time Estimation: 2H**\n</div>\n",
      "metadata": {
        "editable": false,
        "collapsed": false
      }
    },
    {
      "id": "cell-0",
      "source": "<p>This is not a tutorial like most GTN content but a fun exercise for you to play around and learn a bit about the command line, and hopefully re-inforce the skills you covered in Basic and Advanced CLI skills.</p>\n<blockquote class=\"hands_on\" style=\"border: 2px solid #dfe5f9; margin: 1em 0.2em\">\n<h3 id=\"-icon-hands_on--open-a-jupyter-terminal\">✏️ Open a Jupyter Terminal</h3>\n<p>To best follow this tutorial, you should open a terminal.</p>\n<p>Here are some instructions for how to do this on various environments.</p>\n<p><strong>Jupyter</strong> on UseGalaxy.* and <strong>MyBinder.org</strong></p>\n<ol>\n<li>\n<p>Use the File → New → Terminal menu to launch a terminal.</p>\n<p><img src=\"https://training.galaxyproject.org/training-material/topics/data-science/tutorials/cli-bashcrawl/../../images/carpentries-cli/mybinder-launch.png\" alt=\"screenshot of jupyterlab showing the File menu expanded to show new and terminal option.\" loading=\"lazy\" /></p>\n</li>\n<li>\n<p>Disable “Simple” mode in the bottom left hand corner, if it activated.</p>\n<p><img src=\"https://training.galaxyproject.org/training-material/topics/data-science/tutorials/cli-bashcrawl/../../images/carpentries-cli/mybinder-simple.png\" alt=\"screenshot of jupyterlab showing a toggle labelled simple. \" loading=\"lazy\" /></p>\n</li>\n<li>\n<p>Drag one of the terminal or notebook tabs to the side to have the training materials and terminal side-by-side</p>\n<p><img src=\"https://training.galaxyproject.org/training-material/topics/data-science/tutorials/cli-bashcrawl/../../images/carpentries-cli/mybinder-final.png\" alt=\"screenshot of jupyterlab with notebook and terminal side-by-side.\" loading=\"lazy\" /></p>\n</li>\n</ol>\n<p><strong>CoCalc</strong></p>\n<ol>\n<li>\n<p>Use the <em>Split View</em> functionality of cocalc to split your view into two portions.</p>\n<p><img src=\"https://training.galaxyproject.org/training-material/topics/data-science/tutorials/cli-bashcrawl/../../images/carpentries-cli/cocalc-split.png\" alt=\"screenshot of cocalc button to split views. \" loading=\"lazy\" /></p>\n</li>\n<li>\n<p>Change the view of one panel to a terminal</p>\n<p><img src=\"https://training.galaxyproject.org/training-material/topics/data-science/tutorials/cli-bashcrawl/../../images/carpentries-cli/cocalc-terminal.png\" alt=\"screenshot of cocalc swapping view port to that of a terminal. \" loading=\"lazy\" /></p>\n</li>\n</ol>\n</blockquote>\n<h2 id=\"setup\">Setup</h2>\n",
      "cell_type": "markdown",
      "metadata": {
        "editable": false,
        "collapsed": false
      }
    },
    {
      "id": "cell-1",
      "source": [
        "git clone https://gitlab.com/slackermedia/bashcrawl\n",
        "cd bashcrawl/entrance\n",
        "# Run: cat scroll"
      ],
      "cell_type": "code",
      "execution_count": null,
      "outputs": [

      ],
      "metadata": {
        "attributes": {
          "classes": [
            "bash"
          ],
          "id": ""
        }
      }
    },
    {
      "id": "cell-2",
      "source": "<p>Have fun, and good luck!</p>\n",
      "cell_type": "markdown",
      "metadata": {
        "editable": false,
        "collapsed": false
      }
    },
    {
      "cell_type": "markdown",
      "id": "final-ending-cell",
      "metadata": {
        "editable": false,
        "collapsed": false
      },
      "source": [
        "# Key Points\n\n",
        "- Learning linux can be fun!\n",
        "\n# Congratulations on successfully completing this tutorial!\n\n",
        "Please [fill out the feedback on the GTN website](https://training.galaxyproject.org/training-material/topics/data-science/tutorials/cli-bashcrawl/tutorial.html#feedback) and check there for further resources!\n"
      ]
    }
  ]
}