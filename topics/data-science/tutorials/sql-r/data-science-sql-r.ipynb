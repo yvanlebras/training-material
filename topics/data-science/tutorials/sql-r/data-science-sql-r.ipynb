{
  "metadata": {
    "kernelspec": {
      "display_name": "R",
      "language": "R",
      "name": "r"
    },
    "language_info": {
      "codemirror_mode": "r",
      "file_extension": ".r",
      "mimetype": "text/x-r-source",
      "name": "R",
      "pygments_lexer": "r",
      "version": "4.1.0"
    }
  },
  "nbformat": 4,
  "nbformat_minor": 5,
  "cells": [
    {
      "id": "metadata",
      "cell_type": "markdown",
      "source": "<div style=\"border: 2px solid #8A9AD0; margin: 1em 0.2em; padding: 0.5em;\">\n\n# SQL with R\n\nby [The Carpentries](https://training.galaxyproject.org/hall-of-fame/carpentries/), [Helena Rasche](https://training.galaxyproject.org/hall-of-fame/hexylena/), [Avans Hogeschool](https://training.galaxyproject.org/hall-of-fame/avans-atgm/)\n\nCC-BY licensed content from the [Galaxy Training Network](https://training.galaxyproject.org/)\n\n**Objectives**\n\n- How can I access databases from programs written in R?\n\n**Objectives**\n\n- Write short programs that execute SQL queries.\n- Trace the execution of a program that contains an SQL query.\n- Explain why most database applications are written in a general-purpose language rather than in SQL.\n\n**Time Estimation: 45M**\n</div>\n",
      "metadata": {
        "editable": false,
        "collapsed": false
      }
    },
    {
      "id": "cell-0",
      "source": "<blockquote class=\"comment\" style=\"border: 2px solid #ffecc1; margin: 1em 0.2em\">\n<h3 id=\"-icon-comment--comment\">💬 Comment</h3>\n<p>This tutorial is <strong>significantly</strong> based on <a href=\"https://carpentries.org\">the Carpentries</a> <a href=\"https://github.com/swcarpentry/sql-novice-survey/\">Databases and SQL</a> lesson, which is licensed CC-BY 4.0.</p>\n<p>Abigail Cabunoc and Sheldon McKay (eds): “Software Carpentry: Using Databases and SQL.”  Version 2017.08, August 2017,\n<a href=\"https://github.com/swcarpentry/sql-novice-survey\">github.com/swcarpentry/sql-novice-survey</a>, <a href=\"https://doi.org/10.5281/zenodo.838776\">https://doi.org/10.5281/zenodo.838776</a></p>\n<p>Adaptations have been made to make this work better in a GTN/Galaxy environment.</p>\n</blockquote>\n<blockquote class=\"agenda\" style=\"border: 2px solid #86D486;display: none; margin: 1em 0.2em\">\n<h3 id=\"agenda\">Agenda</h3>\n<p>In this tutorial, we will cover:</p>\n</blockquote>\n<p>For this tutorial we need to download a database that we will use for the queries.</p>\n",
      "cell_type": "markdown",
      "metadata": {
        "editable": false,
        "collapsed": false
      }
    },
    {
      "id": "cell-1",
      "source": [
        "download.file(\"http://swcarpentry.github.io/sql-novice-survey/files/survey.db\", destfile=\"survey.db\")"
      ],
      "cell_type": "code",
      "execution_count": null,
      "outputs": [

      ],
      "metadata": {
        "attributes": {
          "classes": [
            "r"
          ],
          "id": ""
        }
      }
    },
    {
      "id": "cell-2",
      "source": "<h1 id=\"programming-with-databases---r\">Programming with Databases - R</h1>\n<p>Let’s have a look at how to access a database from\na data analysis language like R.\nOther languages use almost exactly the same model:\nlibrary and function names may differ,\nbut the concepts are the same.</p>\n<p>Here’s a short R program that selects latitudes and longitudes\nfrom an SQLite database stored in a file called <code>survey.db</code>:</p>\n",
      "cell_type": "markdown",
      "metadata": {
        "editable": false,
        "collapsed": false
      }
    },
    {
      "id": "cell-3",
      "source": [
        "library(RSQLite)\n",
        "connection <- dbConnect(SQLite(), \"survey.db\")\n",
        "results <- dbGetQuery(connection, \"SELECT Site.lat, Site.long FROM Site;\")\n",
        "print(results)\n",
        "dbDisconnect(connection)"
      ],
      "cell_type": "code",
      "execution_count": null,
      "outputs": [

      ],
      "metadata": {
        "attributes": {
          "classes": [
            "r"
          ],
          "id": ""
        }
      }
    },
    {
      "id": "cell-4",
      "source": "<p>The program starts by importing the <code>RSQLite</code> library.\nIf we were connecting to MySQL, DB2, or some other database,\nwe would import a different library,\nbut all of them provide the same functions,\nso that the rest of our program does not have to change\n(at least, not much)\nif we switch from one database to another.</p>\n<p>Line 2 establishes a connection to the database.\nSince we’re using SQLite,\nall we need to specify is the name of the database file.\nOther systems may require us to provide a username and password as well.</p>\n<p>On line 3, we retrieve the results from an SQL query.\nIt’s our job to make sure that SQL is properly formatted;\nif it isn’t,\nor if something goes wrong when it is being executed,\nthe database will report an error.\nThis result is a dataframe with one row for each entry and one column for each column in the database.</p>\n<p>Finally, the last line closes our connection,\nsince the database can only keep a limited number of these open at one time.\nSince establishing a connection takes time,\nthough,\nwe shouldn’t open a connection,\ndo one operation,\nthen close the connection,\nonly to reopen it a few microseconds later to do another operation.\nInstead,\nit’s normal to create one connection that stays open for the lifetime of the program.</p>\n<p>Queries in real applications will often depend on values provided by users.\nFor example,\nthis function takes a user’s ID as a parameter and returns their name:</p>\n",
      "cell_type": "markdown",
      "metadata": {
        "editable": false,
        "collapsed": false
      }
    },
    {
      "id": "cell-5",
      "source": [
        "library(RSQLite)\n",
        "\n",
        "connection <- dbConnect(SQLite(), \"survey.db\")\n",
        "\n",
        "getName <- function(personID) {\n",
        "query <- paste0(\"SELECT personal || ' ' || family FROM Person WHERE id =='\",\n",
        "personID, \"';\")\n",
        "return(dbGetQuery(connection, query))\n",
        "}\n",
        "\n",
        "print(paste(\"full name for dyer:\", getName('dyer')))\n",
        "\n",
        "dbDisconnect(connection)"
      ],
      "cell_type": "code",
      "execution_count": null,
      "outputs": [

      ],
      "metadata": {
        "attributes": {
          "classes": [
            "r"
          ],
          "id": ""
        }
      }
    },
    {
      "id": "cell-6",
      "source": "<p>We use string concatenation on the first line of this function\nto construct a query containing the user ID we have been given.\nThis seems simple enough,\nbut what happens if someone gives us this string as input?</p>\n<div class=\"language-plaintext highlighter-rouge\"><div><pre style=\"color: inherit; background: white\"><code>dyer'; DROP TABLE Survey; SELECT '\n</code></pre></div></div>\n<p>It looks like there’s garbage after the user’s ID,\nbut it is very carefully chosen garbage.\nIf we insert this string into our query,\nthe result is:</p>\n<div class=\"language-plaintext highlighter-rouge\"><div><pre style=\"color: inherit; background: white\"><code>SELECT personal || ' ' || family FROM Person WHERE id='dyer'; DROP TABLE Survey; SELECT '';\n</code></pre></div></div>\n<p>If we execute this,\nit will erase one of the tables in our database.</p>\n<p>This is called an SQL injection attack,\nand it has been used to attack thousands of programs over the years.\nIn particular,\nmany web sites that take data from users insert values directly into queries\nwithout checking them carefully first.\nA very <a href=\"https://xkcd.com/327/\">relevant XKCD</a> that explains the\ndangers of using raw input in queries a little more succinctly:</p>\n<p><img src=\"https://imgs.xkcd.com/comics/exploits_of_a_mom.png\" alt=\"A 4 panel comic, in the first panel a person is shown answering the phone, hearing that their son's school has some computer trouble. In panel 2 they apologises asking if their child broke something. In panel 3, the unseen person on the other end of the phone call asks if they really named their son Robert'); Drop table students;--? They respond saying 'oh yes. little bobby tables we call him.' In the 4th panel the caller says 'well we have lost this years student records, I hope you're happy.' They respond 'And I hope you've learned to sanitize your database inputs'.\" loading=\"lazy\" /></p>\n<p>Since an unscrupulous parent might try to smuggle commands into our queries in many different ways,\nthe safest way to deal with this threat is\nto replace characters like quotes with their escaped equivalents,\nso that we can safely put whatever the user gives us inside a string.\nWe can do this by using a prepared statement\ninstead of formatting our statements as strings.\nHere’s what our example program looks like if we do this:</p>\n",
      "cell_type": "markdown",
      "metadata": {
        "editable": false,
        "collapsed": false
      }
    },
    {
      "id": "cell-7",
      "source": [
        "library(RSQLite)\n",
        "connection <- dbConnect(SQLite(), \"survey.db\")\n",
        "\n",
        "getName <- function(personID) {\n",
        "query <- \"SELECT personal || ' ' || family FROM Person WHERE id == ?\"\n",
        "return(dbGetPreparedQuery(connection, query, data.frame(personID)))\n",
        "}\n",
        "\n",
        "print(paste(\"full name for dyer:\", getName('dyer')))\n",
        "\n",
        "dbDisconnect(connection)"
      ],
      "cell_type": "code",
      "execution_count": null,
      "outputs": [

      ],
      "metadata": {
        "attributes": {
          "classes": [
            "r"
          ],
          "id": ""
        }
      }
    },
    {
      "id": "cell-8",
      "source": "<p>The key changes are in the query string and the <code>dbGetQuery</code> call (we use dbGetPreparedQuery instead).\nInstead of formatting the query ourselves,\nwe put question marks in the query template where we want to insert values.\nWhen we call <code>dbGetPreparedQuery</code>,\nwe provide a dataframe\nthat contains as many values as there are question marks in the query.\nThe library matches values to question marks in order,\nand translates any special characters in the values\ninto their escaped equivalents\nso that they are safe to use.</p>\n<blockquote class=\"question\" style=\"border: 2px solid #8A9AD0; margin: 1em 0.2em\">\n<h3 id=\"-icon-question--question-filling-a-table-vs-printing-values\">❓ Question: Filling a Table vs. Printing Values</h3>\n<p>Write an R program that creates a new database in a file called\n<code>original.db</code> containing a single table called <code>Pressure</code>, with a\nsingle field called <code>reading</code>, and inserts 100,000 random numbers\nbetween 10.0 and 25.0.  How long does it take this program to run?\nHow long does it take to run a program that simply writes those\nrandom numbers to a file?</p>\n</blockquote>\n<blockquote class=\"question\" style=\"border: 2px solid #8A9AD0; margin: 1em 0.2em\">\n<h3 id=\"-icon-question--question-filtering-in-sql-vs-filtering-in-r\">❓ Question: Filtering in SQL vs. Filtering in R</h3>\n<p>Write an R program that creates a new database called\n<code>backup.db</code> with the same structure as <code>original.db</code> and copies all\nthe values greater than 20.0 from <code>original.db</code> to <code>backup.db</code>.\nWhich is faster: filtering values in the query, or reading\neverything into memory and filtering in R?</p>\n</blockquote>\n<h2 id=\"database-helper-functions-in-r\">Database helper functions in R</h2>\n<p>R’s database interface packages (like <code>RSQLite</code>) all share\na common set of helper functions useful for exploring databases and\nreading/writing entire tables at once.</p>\n<p>To view all tables in a database, we can use <code>dbListTables()</code>:</p>\n",
      "cell_type": "markdown",
      "metadata": {
        "editable": false,
        "collapsed": false
      }
    },
    {
      "id": "cell-9",
      "source": [
        "connection <- dbConnect(SQLite(), \"survey.db\")\n",
        "dbListTables(connection)"
      ],
      "cell_type": "code",
      "execution_count": null,
      "outputs": [

      ],
      "metadata": {
        "attributes": {
          "classes": [
            "r"
          ],
          "id": ""
        }
      }
    },
    {
      "id": "cell-10",
      "source": "<p>To view all column names of a table, use <code>dbListFields()</code>:</p>\n",
      "cell_type": "markdown",
      "metadata": {
        "editable": false,
        "collapsed": false
      }
    },
    {
      "id": "cell-11",
      "source": [
        "dbListFields(connection, \"Survey\")"
      ],
      "cell_type": "code",
      "execution_count": null,
      "outputs": [

      ],
      "metadata": {
        "attributes": {
          "classes": [
            "r"
          ],
          "id": ""
        }
      }
    },
    {
      "id": "cell-12",
      "source": "<p>To read an entire table as a dataframe, use <code>dbReadTable()</code>:</p>\n",
      "cell_type": "markdown",
      "metadata": {
        "editable": false,
        "collapsed": false
      }
    },
    {
      "id": "cell-13",
      "source": [
        "dbReadTable(connection, \"Person\")"
      ],
      "cell_type": "code",
      "execution_count": null,
      "outputs": [

      ],
      "metadata": {
        "attributes": {
          "classes": [
            "r"
          ],
          "id": ""
        }
      }
    },
    {
      "id": "cell-14",
      "source": "<p>Finally to write an entire table to a database, you can use <code>dbWriteTable()</code>.\nNote that we will always want to use the <code>row.names = FALSE</code> argument or R\nwill write the row names as a separate column.\nIn this example we will write R’s built-in <code>iris</code> dataset as a table in <code>survey.db</code>.</p>\n",
      "cell_type": "markdown",
      "metadata": {
        "editable": false,
        "collapsed": false
      }
    },
    {
      "id": "cell-15",
      "source": [
        "dbWriteTable(connection, \"iris\", iris, row.names = FALSE)\n",
        "head(dbReadTable(connection, \"iris\"))"
      ],
      "cell_type": "code",
      "execution_count": null,
      "outputs": [

      ],
      "metadata": {
        "attributes": {
          "classes": [
            "r"
          ],
          "id": ""
        }
      }
    },
    {
      "id": "cell-16",
      "source": "<p>And as always, remember to close the database connection when done!</p>\n",
      "cell_type": "markdown",
      "metadata": {
        "editable": false,
        "collapsed": false
      }
    },
    {
      "id": "cell-17",
      "source": [
        "dbDisconnect(connection)"
      ],
      "cell_type": "code",
      "execution_count": null,
      "outputs": [

      ],
      "metadata": {
        "attributes": {
          "classes": [
            "r"
          ],
          "id": ""
        }
      }
    },
    {
      "id": "cell-18",
      "source": "\n",
      "cell_type": "markdown",
      "metadata": {
        "editable": false,
        "collapsed": false
      }
    },
    {
      "cell_type": "markdown",
      "id": "final-ending-cell",
      "metadata": {
        "editable": false,
        "collapsed": false
      },
      "source": [
        "# Key Points\n\n",
        "- Data analysis languages have libraries for accessing databases.\n",
        "- To connect to a database, a program must use a library specific to that database manager.\n",
        "- R's libraries can be used to directly query or read from a database.\n",
        "- Programs can read query results in batches or all at once.\n",
        "- Queries should be written using parameter substitution, not string formatting.\n",
        "- R has multiple helper functions to make working with databases easier.\n",
        "\n# Congratulations on successfully completing this tutorial!\n\n",
        "Please [fill out the feedback on the GTN website](https://training.galaxyproject.org/training-material/topics/data-science/tutorials/sql-r/tutorial.html#feedback) and check there for further resources!\n"
      ]
    }
  ]
}