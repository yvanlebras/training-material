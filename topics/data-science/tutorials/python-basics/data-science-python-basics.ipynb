{
  "metadata": {
  },
  "nbformat": 4,
  "nbformat_minor": 5,
  "cells": [
    {
      "id": "metadata",
      "cell_type": "markdown",
      "source": "<div style=\"border: 2px solid #8A9AD0; margin: 1em 0.2em; padding: 0.5em;\">\n\n# Introduction to Python\n\nby [Maria Christina Maniou](https://training.galaxyproject.org/hall-of-fame/mcmaniou/), [Fotis E. Psomopoulos](https://training.galaxyproject.org/hall-of-fame/fpsom/), [The Carpentries](https://training.galaxyproject.org/hall-of-fame/carpentries/), [Erasmus+ Programme](https://training.galaxyproject.org/hall-of-fame/erasmusplus/)\n\nCC-BY licensed content from the [Galaxy Training Network](https://training.galaxyproject.org/)\n\n**Objectives**\n\n- How can I run Python programs?\n\n**Objectives**\n\n- Learn the fundamentals of programming in Python\n\n**Time Estimation: 5H**\n</div>\n",
      "metadata": {
        "editable": false,
        "collapsed": false
      }
    },
    {
      "id": "cell-0",
      "source": "<p>In this lesson, we will be using Python 3 with some of its most popular scientific libraries. We will be using JupyterNotebook, a Python interpreter that comes with everything we need for the lesson.</p>\n<blockquote class=\"comment\" style=\"border: 2px solid #ffecc1; margin: 1em 0.2em\">\n<h3 id=\"-icon-comment--comment\">💬 Comment</h3>\n<p>This tutorial is <strong>significantly</strong> based on <a href=\"https://carpentries.org\">the Carpentries</a> <a href=\"https://swcarpentry.github.io/python-novice-inflammation/\">Programming with Python</a> and <a href=\"https://swcarpentry.github.io/python-novice-gapminder/\">Plotting and Programming in Python</a>, which is licensed CC-BY 4.0.</p>\n<p>Adaptations have been made to make this work better in a GTN/Galaxy environment.</p>\n</blockquote>\n<blockquote class=\"agenda\" style=\"border: 2px solid #86D486;display: none; margin: 1em 0.2em\">\n<h3 id=\"agenda\">Agenda</h3>\n<p>In this tutorial, we will cover:</p>\n<ol id=\"markdown-toc\">\n<li><a href=\"#overview\" id=\"markdown-toc-overview\">Overview</a></li>\n<li><a href=\"#python-fundamentals\" id=\"markdown-toc-python-fundamentals\">Python Fundamentals</a>    <ol>\n<li><a href=\"#variables\" id=\"markdown-toc-variables\">Variables</a></li>\n</ol>\n</li>\n</ol>\n</blockquote>\n<h1 id=\"overview\">Overview</h1>\n<p>Python was developed by Guido van Rossum. Guido van Rossum started implementing Python in 1989. Python is a very simple programming language so even if you are new to programming, you can learn python without facing any issues.</p>\n<p>Features of Python language:</p>\n<ol>\n<li>\n<p><strong>Readable</strong>: Python is a very readable language.</p>\n</li>\n<li>\n<p><strong>Easy to Learn</strong>: Learning python is easy as this is a expressive and high level programming language, which means it is easy to understand the language and thus easy to learn.</p>\n</li>\n<li>\n<p><strong>Cross platform</strong>: Python is available and can run on various operating systems such as Mac, Windows, Linux, Unix etc. This makes it a cross platform and portable language.</p>\n</li>\n<li>\n<p><strong>Open Source</strong>: Python is a open source programming language.</p>\n</li>\n<li>\n<p><strong>Large standard library</strong>: Python comes with a large standard library that has some handy codes and functions which we can use while writing code in Python.</p>\n</li>\n<li>\n<p><strong>Free</strong>: Python is free to download and use. This means you can download it for free and use it in your application.</p>\n</li>\n<li>\n<p><strong>Supports exception handling</strong>: Python supports exception handling which means we can write less error prone code and can test various scenarios that can cause an exception later on.</p>\n</li>\n<li>\n<p><strong>Automatic memory management</strong>: Python supports automatic memory management which means the memory is cleared and freed automatically. You do not have to bother clearing the memory.</p>\n</li>\n</ol>\n<blockquote class=\"tip\" style=\"border: 2px solid #FFE19E; margin: 1em 0.2em\">\n<h3 id=\"-icon-tip--why-jupyter\">💡 Why Jupyter?</h3>\n<p>JupyterLab is a User Interface including notebooks. A user can open several notebooks or files as tabs in the same window, like an IDE. JupyterNotebook is a web-based interactive computational environment for creating Jupyter notebook documents. It supports several languages like Python (IPython), Julia, R etc. and is largely used for data analysis, data visualization and further interactive, exploratory computing.</p>\n<p>JupyterNotebook has several advantages:</p>\n<ul>\n<li>You can easily type, edit, and copy and paste blocks of code.</li>\n<li>Tab complete allows you to easily access the names of things you are using and learn more about them.</li>\n<li>It allows you to annotate your code with links, different sized text, bullets, etc. to make it more accessible to you and your collaborators.</li>\n<li>It allows you to display figures next to the code that produces them to tell a complete story of the analysis.</li>\n</ul>\n<p>Each notebook contains one or more cells that contain code, text, or images. Each notebook can be exported (File, Export as, Executable script) as Python script that can be run from the command line.</p>\n<p>We will be using JupyterNotebook in Galaxy and as a result you need to frequently save the notebook in the workspace. This is both for good practice and to protect you in case you accidentally close the browser. Your environment will still run, so it will contain the last saved notebook you have.  Furthermore, you need to download a notebook, before you delete or close a notebook in your history or you will lose it.</p>\n</blockquote>\n<h1 id=\"python-fundamentals\">Python Fundamentals</h1>\n<h2 id=\"variables\">Variables</h2>\n<p>Any Python interpreter can be used as a calculator:</p>\n",
      "cell_type": "markdown",
      "metadata": {
        "editable": false,
        "collapsed": false
      }
    },
    {
      "id": "cell-1",
      "source": [
        "3 + 5 * 4"
      ],
      "cell_type": "code",
      "execution_count": null,
      "outputs": [

      ],
      "metadata": {
        "attributes": {
          "classes": [
            "python"
          ],
          "id": ""
        }
      }
    },
    {
      "id": "cell-2",
      "source": "<p>This is great but not very interesting. To do anything useful with data, we need to assign its value to a variable. In Python, we can assign a value to a variable, using the equals sign <code class=\"language-plaintext highlighter-rouge\">=</code>. For example, we can track the weight of a patient who weighs 60 kilograms by assigning the value 60 to a variable <code class=\"language-plaintext highlighter-rouge\">weight_kg</code>:</p>\n",
      "cell_type": "markdown",
      "metadata": {
        "editable": false,
        "collapsed": false
      }
    },
    {
      "id": "cell-3",
      "source": [
        "weight_kg = 60"
      ],
      "cell_type": "code",
      "execution_count": null,
      "outputs": [

      ],
      "metadata": {
        "attributes": {
          "classes": [
            "python"
          ],
          "id": ""
        }
      }
    },
    {
      "id": "cell-4",
      "source": "<p>From now on, whenever we use <code>weight_kg</code>, Python will substitute the value we assigned to it.</p>\n<p>In Python, variable names:</p>\n<ul>\n<li>can include letters, digits, and underscores</li>\n<li>cannot start with a digit</li>\n<li>are case sensitive</li>\n</ul>\n<p>This means that, for example:</p>\n<ul>\n<li><code>weight0</code> is a valid variable name, whereas <code>0weight</code> is not</li>\n<li><code>weight</code> and <code>Weight</code> are different variables</li>\n</ul>\n<h3 id=\"types-of-data\">Types of data</h3>\n<p>Python knows various types of data. Three common ones are:</p>\n<ul>\n<li>integer numbers</li>\n<li>floating point numbers, and</li>\n<li>strings.</li>\n</ul>\n<p>In the example above, variable <code>weight_kg</code> has an integer value of <code>60</code>. If we want to more precisely track the weight of our patient, we can use a floating point value by executing:</p>\n",
      "cell_type": "markdown",
      "metadata": {
        "editable": false,
        "collapsed": false
      }
    },
    {
      "id": "cell-5",
      "source": [
        "weight_kg = 60.3"
      ],
      "cell_type": "code",
      "execution_count": null,
      "outputs": [

      ],
      "metadata": {
        "attributes": {
          "classes": [
            "python"
          ],
          "id": ""
        }
      }
    },
    {
      "id": "cell-6",
      "source": "<p>To create a string, we add single or double quotes around some text. To identify and track a patient throughout our study, we can assign each person a unique identifier by storing it in a string:</p>\n",
      "cell_type": "markdown",
      "metadata": {
        "editable": false,
        "collapsed": false
      }
    },
    {
      "id": "cell-7",
      "source": [
        "patient_id = '001'"
      ],
      "cell_type": "code",
      "execution_count": null,
      "outputs": [

      ],
      "metadata": {
        "attributes": {
          "classes": [
            "python"
          ],
          "id": ""
        }
      }
    },
    {
      "id": "cell-8",
      "source": "<h3 id=\"using-variables-in-python\">Using Variables in Python</h3>\n<p>Once we have data stored with variable names, we can make use of it in calculations. We may want to store our patient’s weight in pounds as well as kilograms:</p>\n",
      "cell_type": "markdown",
      "metadata": {
        "editable": false,
        "collapsed": false
      }
    },
    {
      "id": "cell-9",
      "source": [
        "weight_lb = 2.2 * weight_kg"
      ],
      "cell_type": "code",
      "execution_count": null,
      "outputs": [

      ],
      "metadata": {
        "attributes": {
          "classes": [
            "python"
          ],
          "id": ""
        }
      }
    },
    {
      "id": "cell-10",
      "source": "<p>We might decide to add a prefix to our patient identifier:</p>\n",
      "cell_type": "markdown",
      "metadata": {
        "editable": false,
        "collapsed": false
      }
    },
    {
      "id": "cell-11",
      "source": [
        "patient_id = 'inflam_' + patient_id"
      ],
      "cell_type": "code",
      "execution_count": null,
      "outputs": [

      ],
      "metadata": {
        "attributes": {
          "classes": [
            "python"
          ],
          "id": ""
        }
      }
    },
    {
      "id": "cell-12",
      "source": "<h3 id=\"variables-persist-between-cells\">Variables Persist Between Cells</h3>\n<p>Be aware that it is the order of execution of cells that is important in a Jupyter notebook, not the order in which they appear. Python will remember all the code that was run previously, including any variables you have defined, irrespective of the order in the notebook. Therefore if you define variables lower down the notebook and then (re)run cells further up, those defined further down will still be present. As an example, create two cells with the following content, in this order:</p>\n",
      "cell_type": "markdown",
      "metadata": {
        "editable": false,
        "collapsed": false
      }
    },
    {
      "id": "cell-13",
      "source": [
        "print(myval)\n",
        "myval = 1"
      ],
      "cell_type": "code",
      "execution_count": null,
      "outputs": [

      ],
      "metadata": {
        "attributes": {
          "classes": [
            "python"
          ],
          "id": ""
        }
      }
    },
    {
      "id": "cell-14",
      "source": "<p>If you execute this in order, the first cell will give an error. However, if you run the first cell after the second cell, it will print out 1. To prevent confusion, it can be helpful to use the Kernel -&gt; Restart &amp; Run All option which clears the interpreter and runs everything from a clean slate going top to bottom.</p>\n<blockquote class=\"question\" style=\"border: 2px solid #8A9AD0; margin: 1em 0.2em\">\n<h3 id=\"-icon-question--question-variables-and-values\">❓ Question: Variables and values</h3>\n<p>What values do the variables <code>mass</code> and <code>age</code> have after each of the following statements? Test your answer by executing the lines.</p>\n<div class=\"language-plaintext highlighter-rouge\"><div><pre style=\"color: inherit; background: white\"><code>mass = 47.5\nage = 122\nmass = mass * 2.0\nage = age - 20\n</code></pre></div>  </div>\n<blockquote class=\"solution\" style=\"border: 2px solid #B8C3EA;color: white; margin: 1em 0.2em\">\n<div style=\"color: #555; font-size: 95%;\">Hint: Select the text with your mouse to see the answer</div><h3 id=\"-icon-solution--solution\">👁 Solution</h3>\n<p><code>mass</code> holds a value of 47.5, <code>age</code> does not exist\n<code>mass</code> still holds a value of 47.5, <code>age</code> holds a value of 122\n<code>mass</code> now has a value of 95.0, <code>age</code>’s value is still 122\n<code>mass</code> still has a value of 95.0, <code>age</code> now holds 102</p>\n</blockquote>\n</blockquote>\n<blockquote class=\"question\" style=\"border: 2px solid #8A9AD0; margin: 1em 0.2em\">\n<h3 id=\"-icon-question--question-variables\">❓ Question: Variables</h3>\n<p>Python allows you to assign multiple values to multiple variables in one line by separating the variables and values with commas. What does the following program print out?</p>\n<div class=\"language-plaintext highlighter-rouge\"><div><pre style=\"color: inherit; background: white\"><code>first, second = 'Grace', 'Hopper'\nthird, fourth = second, first\nprint(third, fourth)\n</code></pre></div>  </div>\n<blockquote class=\"solution\" style=\"border: 2px solid #B8C3EA;color: white; margin: 1em 0.2em\">\n<h3 id=\"-icon-solution--solution-1\">👁 Solution</h3>\n<p>Hopper Grace</p>\n</blockquote>\n</blockquote>\n<blockquote class=\"question\" style=\"border: 2px solid #8A9AD0; margin: 1em 0.2em\">\n<h3 id=\"-icon-question--question-variables-and-data-types\">❓ Question: Variables and data types</h3>\n<p>What are the data types of the following variables?</p>\n<div class=\"language-plaintext highlighter-rouge\"><div><pre style=\"color: inherit; background: white\"><code>planet = 'Earth'\napples = 5\ndistance = 10.5\n</code></pre></div>  </div>\n<blockquote class=\"solution\" style=\"border: 2px solid #B8C3EA;color: white; margin: 1em 0.2em\">\n<h3 id=\"-icon-solution--solution-2\">👁 Solution</h3>\n<div class=\"language-plaintext highlighter-rouge\"><div><pre style=\"color: inherit; background: white\"><code>type(planet)\ntype(apples)\ntype(distance)\n</code></pre></div>    </div>\n</blockquote>\n</blockquote>\n<h2 id=\"lists\">Lists</h2>\n<p>Lists are built into the language so we do not have to load a library to use them. We create a list by putting values inside square brackets and separating the values with commas:</p>\n",
      "cell_type": "markdown",
      "metadata": {
        "editable": false,
        "collapsed": false
      }
    },
    {
      "id": "cell-15",
      "source": [
        "odds = [1, 3, 5, 7]\n",
        "print('odds are:', odds)"
      ],
      "cell_type": "code",
      "execution_count": null,
      "outputs": [

      ],
      "metadata": {
        "attributes": {
          "classes": [
            "python"
          ],
          "id": ""
        }
      }
    },
    {
      "id": "cell-16",
      "source": "<p>We can access elements of a list using indices – numbered positions of elements in the list. These positions are numbered starting at 0, so the first element has an index of 0.</p>\n",
      "cell_type": "markdown",
      "metadata": {
        "editable": false,
        "collapsed": false
      }
    },
    {
      "id": "cell-17",
      "source": [
        "print('first element:', odds[0])\n",
        "print('last element:', odds[3])\n",
        "print('\"-1\" element:', odds[-1])"
      ],
      "cell_type": "code",
      "execution_count": null,
      "outputs": [

      ],
      "metadata": {
        "attributes": {
          "classes": [
            "python"
          ],
          "id": ""
        }
      }
    },
    {
      "id": "cell-18",
      "source": "<p>Yes, we can use negative numbers as indices in Python. When we do so, the index <code>-1</code> gives us the last element in the list, <code>-2</code> the second to last, and so on. Because of this, <code>odds[3]</code> and <code>odds[-1]</code> point to the same element here.</p>\n<p>There is one important difference between lists and strings: we can change the values in a list, but we cannot change individual characters in a string. For example:</p>\n",
      "cell_type": "markdown",
      "metadata": {
        "editable": false,
        "collapsed": false
      }
    },
    {
      "id": "cell-19",
      "source": [
        "names = ['Curie', 'Darwing', 'Turing']  # typo in Darwin's name\n",
        "print('names is originally:', names)\n",
        "names[1] = 'Darwin'  # correct the name\n",
        "print('final value of names:', names)"
      ],
      "cell_type": "code",
      "execution_count": null,
      "outputs": [

      ],
      "metadata": {
        "attributes": {
          "classes": [
            "python"
          ],
          "id": ""
        }
      }
    },
    {
      "id": "cell-20",
      "source": "<p>works, but the following does not:</p>\n",
      "cell_type": "markdown",
      "metadata": {
        "editable": false,
        "collapsed": false
      }
    },
    {
      "id": "cell-21",
      "source": [
        "name = 'Darwin'\n",
        "name[0] = 'd'"
      ],
      "cell_type": "code",
      "execution_count": null,
      "outputs": [

      ],
      "metadata": {
        "attributes": {
          "classes": [
            "python"
          ],
          "id": ""
        }
      }
    },
    {
      "id": "cell-22",
      "source": "<p>Lists in Python can contain elements of different types. Example:</p>\n",
      "cell_type": "markdown",
      "metadata": {
        "editable": false,
        "collapsed": false
      }
    },
    {
      "id": "cell-23",
      "source": [
        "sample_ages = [10, 12.5, 'Unknown']"
      ],
      "cell_type": "code",
      "execution_count": null,
      "outputs": [

      ],
      "metadata": {
        "attributes": {
          "classes": [
            "python"
          ],
          "id": ""
        }
      }
    },
    {
      "id": "cell-24",
      "source": "<p>There are many ways to change the contents of lists besides assigning new values to individual elements:</p>\n<p>We can append new elements to a list</p>\n",
      "cell_type": "markdown",
      "metadata": {
        "editable": false,
        "collapsed": false
      }
    },
    {
      "id": "cell-25",
      "source": [
        "odds.append(11)\n",
        "print('odds after adding a value:', odds)"
      ],
      "cell_type": "code",
      "execution_count": null,
      "outputs": [

      ],
      "metadata": {
        "attributes": {
          "classes": [
            "python"
          ],
          "id": ""
        }
      }
    },
    {
      "id": "cell-26",
      "source": "<p>We can pop an element off the end of a list</p>\n",
      "cell_type": "markdown",
      "metadata": {
        "editable": false,
        "collapsed": false
      }
    },
    {
      "id": "cell-27",
      "source": [
        "removed_element = odds.pop(0)\n",
        "print('odds after removing the first element:', odds)\n",
        "print('removed_element:', removed_element)"
      ],
      "cell_type": "code",
      "execution_count": null,
      "outputs": [

      ],
      "metadata": {
        "attributes": {
          "classes": [
            "python"
          ],
          "id": ""
        }
      }
    },
    {
      "id": "cell-28",
      "source": "<p>Or we can reverse the list</p>\n",
      "cell_type": "markdown",
      "metadata": {
        "editable": false,
        "collapsed": false
      }
    },
    {
      "id": "cell-29",
      "source": [
        "odds.reverse()\n",
        "print('odds after reversing:', odds)"
      ],
      "cell_type": "code",
      "execution_count": null,
      "outputs": [

      ],
      "metadata": {
        "attributes": {
          "classes": [
            "python"
          ],
          "id": ""
        }
      }
    },
    {
      "id": "cell-30",
      "source": "<h3 id=\"mutable-vs-immutable-data\">Mutable vs Immutable data</h3>\n<p>Data which can be modified in place is called mutable, while data which cannot be modified is called immutable. Strings and numbers are immutable. This does not mean that variables with string or number values are constants, but when we want to change the value of a string or number variable, we can only replace the old value with a completely new value.</p>\n<p>Lists and arrays, on the other hand, are mutable: we can modify them after they have been created. We can change individual elements, append new elements, or reorder the whole list. For some operations, like sorting, we can choose whether to use a function that modifies the data in-place or a function that returns a modified copy and leaves the original unchanged.</p>\n<p>Be careful when modifying data in-place. If two variables refer to the same list, and you modify the list value, it will change for both variables!</p>\n",
      "cell_type": "markdown",
      "metadata": {
        "editable": false,
        "collapsed": false
      }
    },
    {
      "id": "cell-31",
      "source": [
        "salsa = ['peppers', 'onions', 'cilantro', 'tomatoes']\n",
        "my_salsa = salsa        # <-- my_salsa and salsa point to the *same* list data in memory\n",
        "salsa[0] = 'hot peppers'\n",
        "print('Ingredients in my salsa:', my_salsa)"
      ],
      "cell_type": "code",
      "execution_count": null,
      "outputs": [

      ],
      "metadata": {
        "attributes": {
          "classes": [
            "python"
          ],
          "id": ""
        }
      }
    },
    {
      "id": "cell-32",
      "source": "<p>If you want variables with mutable values to be independent, you must make a copy of the value when you assign it.</p>\n",
      "cell_type": "markdown",
      "metadata": {
        "editable": false,
        "collapsed": false
      }
    },
    {
      "id": "cell-33",
      "source": [
        "salsa = ['peppers', 'onions', 'cilantro', 'tomatoes']\n",
        "my_salsa = salsa.copy()        # <-- makes a *copy* of the list\n",
        "salsa[0] = 'hot peppers'\n",
        "print('Ingredients in my salsa:', my_salsa)"
      ],
      "cell_type": "code",
      "execution_count": null,
      "outputs": [

      ],
      "metadata": {
        "attributes": {
          "classes": [
            "python"
          ],
          "id": ""
        }
      }
    },
    {
      "id": "cell-34",
      "source": "<p>Because of pitfalls like this, code which modifies data in place can be more difficult to understand. However, it is often far more efficient to modify a large data structure in place than to create a modified copy for every small change. You should consider both of these aspects when writing your code.</p>\n<h3 id=\"nested-lists\">Nested lists</h3>\n<p>Since a list can contain any Python variables, it can even contain other lists.</p>\n<p>For example, we could represent the products in the shelves of a small grocery shop:</p>\n",
      "cell_type": "markdown",
      "metadata": {
        "editable": false,
        "collapsed": false
      }
    },
    {
      "id": "cell-35",
      "source": [
        "x = [['pepper', 'zucchini', 'onion'],\n",
        "['cabbage', 'lettuce', 'garlic'],\n",
        "['apple', 'pear', 'banana']]"
      ],
      "cell_type": "code",
      "execution_count": null,
      "outputs": [

      ],
      "metadata": {
        "attributes": {
          "classes": [
            "python"
          ],
          "id": ""
        }
      }
    },
    {
      "id": "cell-36",
      "source": "<p>Here is an example of how indexing a list of lists <code>x</code> works:</p>\n",
      "cell_type": "markdown",
      "metadata": {
        "editable": false,
        "collapsed": false
      }
    },
    {
      "id": "cell-37",
      "source": [
        "print([x[0]])\n",
        "print(x[0])\n",
        "print(x[0][0])"
      ],
      "cell_type": "code",
      "execution_count": null,
      "outputs": [

      ],
      "metadata": {
        "attributes": {
          "classes": [
            "python"
          ],
          "id": ""
        }
      }
    },
    {
      "id": "cell-38",
      "source": "<h3 id=\"slicing\">Slicing</h3>\n<p>Subsets of lists can be accessed by specifying ranges of values in brackets. This is commonly referred to as “slicing” the list.</p>\n",
      "cell_type": "markdown",
      "metadata": {
        "editable": false,
        "collapsed": false
      }
    },
    {
      "id": "cell-39",
      "source": [
        "chromosomes = ['X', 'Y', '2', '3', '4']\n",
        "autosomes = chromosomes[2:5]\n",
        "print('autosomes:', autosomes)\n",
        "last = chromosomes[-1]\n",
        "print('last:', last)"
      ],
      "cell_type": "code",
      "execution_count": null,
      "outputs": [

      ],
      "metadata": {
        "attributes": {
          "classes": [
            "python"
          ],
          "id": ""
        }
      }
    },
    {
      "id": "cell-40",
      "source": "<blockquote class=\"question\" style=\"border: 2px solid #8A9AD0; margin: 1em 0.2em\">\n<h3 id=\"-icon-question--question-negative-indices\">❓ Question: Negative indices</h3>\n<p>Use slicing to access only the last four characters of a string or entries of a list.</p>\n<div class=\"language-plaintext highlighter-rouge\"><div><pre style=\"color: inherit; background: white\"><code>string_for_slicing = 'Observation date: 02-Feb-2013'\nlist_for_slicing = [['fluorine', 'F'], ['chlorine', 'Cl'], ['bromine', 'Br'], ['iodine', 'I'], ['astatine', 'At']]\n</code></pre></div>  </div>\n<p>Your output should be:\n‘2013’\n[[‘chlorine’, ‘Cl’], [‘bromine’, ‘Br’], [‘iodine’, ‘I’], [‘astatine’, ‘At’]]</p>\n<p>Would your solution work regardless of whether you knew beforehand the length of the string or list (e.g. if you wanted to apply the solution to a set of lists of different lengths)? If not, try to change your approach to make it more robust.\nHint: Remember that indices can be negative as well as positive.</p>\n<blockquote class=\"solution\" style=\"border: 2px solid #B8C3EA;color: white; margin: 1em 0.2em\">\n<div style=\"color: #555; font-size: 95%;\">Hint: Select the text with your mouse to see the answer</div><h3 id=\"-icon-solution--solution\">👁 Solution</h3>\n<p>Use negative indices to count elements from the end of a container (such as list or string):</p>\n<div class=\"language-plaintext highlighter-rouge\"><div><pre style=\"color: inherit; background: white\"><code>string_for_slicing[-4:]\nlist_for_slicing[-4:]\n</code></pre></div>    </div>\n</blockquote>\n</blockquote>\n<blockquote class=\"question\" style=\"border: 2px solid #8A9AD0; margin: 1em 0.2em\">\n<h3 id=\"-icon-question--question-slicing\">❓ Question: Slicing</h3>\n<p>So far we’ve seen how to use slicing to take single blocks of successive entries from a sequence. But what if we want to take a subset of entries that aren’t next to each other in the sequence?</p>\n<p>You can achieve this by providing a third argument to the range within the brackets, called the step size. The example below shows how you can take every third entry in a list:</p>\n<div class=\"language-plaintext highlighter-rouge\"><div><pre style=\"color: inherit; background: white\"><code>primes = [2, 3, 5, 7, 11, 13, 17, 19, 23, 29, 31, 37]\nsubset = primes[0:12:3]\nprint('subset', subset)\n</code></pre></div>  </div>\n<p>Notice that the slice taken begins with the first entry in the range, followed by entries taken at equally-spaced intervals (the steps) thereafter. What if you wanted to begin the subset with the third entry? Use the previous example to write your solution that gives the following output.</p>\n<blockquote class=\"solution\" style=\"border: 2px solid #B8C3EA;color: white; margin: 1em 0.2em\">\n<h3 id=\"-icon-solution--solution-1\">👁 Solution</h3>\n<p>You would need to specify that as the starting point of the sliced range:</p>\n<div class=\"language-plaintext highlighter-rouge\"><div><pre style=\"color: inherit; background: white\"><code>subset = primes[2:12:3]\nprint('subset', subset)\n</code></pre></div>    </div>\n</blockquote>\n</blockquote>\n<h2 id=\"strings\">Strings</h2>\n<h3 id=\"use-an-index-to-get-a-single-character-from-a-string\">Use an index to get a single character from a string.</h3>\n<p>The characters (individual letters, numbers,and so on) in a string are ordered. For example, the string ‘AB’ is not the same as ‘BA’. Because of this ordering, we can treat the string as a list of characters. Each position in the string (first, second, etc.) is given a number. This number is called an index or sometimes a subscript. Indices are numbered from 0.You can use the position’s index in square brackets to get the character at that position.</p>\n",
      "cell_type": "markdown",
      "metadata": {
        "editable": false,
        "collapsed": false
      }
    },
    {
      "id": "cell-41",
      "source": [
        "atom_name = 'helium'\n",
        "print(atom_name[0])"
      ],
      "cell_type": "code",
      "execution_count": null,
      "outputs": [

      ],
      "metadata": {
        "attributes": {
          "classes": [
            "python"
          ],
          "id": ""
        }
      }
    },
    {
      "id": "cell-42",
      "source": "<h3 id=\"use-a-slice-to-get-a-substring\">Use a slice to get a substring.</h3>\n<p>A part of a string is called a substring. A substring can be as short as a single character. An item in a list is called an element. Whenever we treat a string as if it were a list, the string’s elements are its individual characters. A slice is a part of a string (or, more generally, any list-like thing). We take a slice by using [start:stop], where start is replaced with the index of the first element we want and stop is replaced with the index of the element just after the last element we want. Mathematically, you might say that a slice selects [start:stop). The difference between stop and start is the slice’s length. Taking a slice does not change the contents of the original string. Instead, the slice is a copy of part of the original string.</p>\n",
      "cell_type": "markdown",
      "metadata": {
        "editable": false,
        "collapsed": false
      }
    },
    {
      "id": "cell-43",
      "source": [
        "atom_name = 'sodium'\n",
        "print(atom_name[0:3])"
      ],
      "cell_type": "code",
      "execution_count": null,
      "outputs": [

      ],
      "metadata": {
        "attributes": {
          "classes": [
            "python"
          ],
          "id": ""
        }
      }
    },
    {
      "id": "cell-44",
      "source": "<p>You can use the built-in function <code>len</code> to find the length of a string.</p>\n",
      "cell_type": "markdown",
      "metadata": {
        "editable": false,
        "collapsed": false
      }
    },
    {
      "id": "cell-45",
      "source": [
        "print(len('helium'))"
      ],
      "cell_type": "code",
      "execution_count": null,
      "outputs": [

      ],
      "metadata": {
        "attributes": {
          "classes": [
            "python"
          ],
          "id": ""
        }
      }
    },
    {
      "id": "cell-46",
      "source": "<p>Nested functions are evaluated from the inside out, like in mathematics.</p>\n<blockquote class=\"question\" style=\"border: 2px solid #8A9AD0; margin: 1em 0.2em\">\n<h3 id=\"-icon-question--question-slicing\">❓ Question: Slicing</h3>\n<p>Use what you have learnt in this tutorial to answer the following questions:\na. What does the following program print?</p>\n<div class=\"language-plaintext highlighter-rouge\"><div><pre style=\"color: inherit; background: white\"><code>atom_name = 'carbon'\nprint('atom_name[1:3] is:', atom_name[1:3])\n</code></pre></div>  </div>\n<p>b. What does <code>thing[low:high]</code> do?\nc. What does <code>thing[low:]</code> (without a value after the colon) do?\nd. What does <code>thing[:high]</code> (without a value before the colon) do?\ne. What does <code>thing[:]</code> (just a colon) do?\nf. What does <code>thing[number:some-negative-number]</code> do?\ng. What happens when you choose a high value which is out of range? (i.e., try <code>atom_name[0:15]</code>)</p>\n<blockquote class=\"solution\" style=\"border: 2px solid #B8C3EA;color: white; margin: 1em 0.2em\">\n<div style=\"color: #555; font-size: 95%;\">Hint: Select the text with your mouse to see the answer</div><h3 id=\"-icon-solution--solution\">👁 Solution</h3>\n<p>a. <code>atom_name[1:3] is: ar</code>\nb. <code>thing[low:high]</code> returns a slice from low to the value before high\nc. <code>thing[low:]</code> returns a slice from low all the way to the end of thing\nd. <code>thing[:high]</code> returns a slice from the beginning of thing to the value before high\ne. <code>thing[:]</code> returns all of thing\nf. <code>thing[number:some-negative-number]</code> returns a slice from number to some-negative-number values from the end of thing\ng. If a part of the slice is out of range, the operation does not fail. <code>atom_name[0:15]</code> gives the same result as <code>atom_name[0:]</code>.</p>\n</blockquote>\n</blockquote>\n<h3 id=\"you-can-use-the--and--operators-on-stringslists\">You can use the “+” and “*” operators on strings/lists.</h3>\n<p>“Adding” character strings concatenates them.</p>\n",
      "cell_type": "markdown",
      "metadata": {
        "editable": false,
        "collapsed": false
      }
    },
    {
      "id": "cell-47",
      "source": [
        "full_name = 'Ahmed' + ' ' + 'Walsh'\n",
        "print(full_name)"
      ],
      "cell_type": "code",
      "execution_count": null,
      "outputs": [

      ],
      "metadata": {
        "attributes": {
          "classes": [
            "python"
          ],
          "id": ""
        }
      }
    },
    {
      "id": "cell-48",
      "source": "<p>Multiplying a character string by an integer “N” creates a new string that consists of that character string repeated N times.</p>\n<p>Since multiplication is repeated addition.</p>\n",
      "cell_type": "markdown",
      "metadata": {
        "editable": false,
        "collapsed": false
      }
    },
    {
      "id": "cell-49",
      "source": [
        "separator = '=' * 10\n",
        "print(separator)"
      ],
      "cell_type": "code",
      "execution_count": null,
      "outputs": [

      ],
      "metadata": {
        "attributes": {
          "classes": [
            "python"
          ],
          "id": ""
        }
      }
    },
    {
      "id": "cell-50",
      "source": "<p>The same rules apply for lists. Consider the following example:</p>\n",
      "cell_type": "markdown",
      "metadata": {
        "editable": false,
        "collapsed": false
      }
    },
    {
      "id": "cell-51",
      "source": [
        "counts = [2, 4, 6, 8, 10]\n",
        "repeats = counts * 2\n",
        "print(repeats)"
      ],
      "cell_type": "code",
      "execution_count": null,
      "outputs": [

      ],
      "metadata": {
        "attributes": {
          "classes": [
            "python"
          ],
          "id": ""
        }
      }
    },
    {
      "id": "cell-52",
      "source": "<p>It’s equivalent to:</p>\n",
      "cell_type": "markdown",
      "metadata": {
        "editable": false,
        "collapsed": false
      }
    },
    {
      "id": "cell-53",
      "source": [
        "counts + counts"
      ],
      "cell_type": "code",
      "execution_count": null,
      "outputs": [

      ],
      "metadata": {
        "attributes": {
          "classes": [
            "python"
          ],
          "id": ""
        }
      }
    },
    {
      "id": "cell-54",
      "source": "<p>Strings have a length (but numbers don’t).The built-in function <code>len</code> counts the number of characters in a string.</p>\n",
      "cell_type": "markdown",
      "metadata": {
        "editable": false,
        "collapsed": false
      }
    },
    {
      "id": "cell-55",
      "source": [
        "print(len(full_name))"
      ],
      "cell_type": "code",
      "execution_count": null,
      "outputs": [

      ],
      "metadata": {
        "attributes": {
          "classes": [
            "python"
          ],
          "id": ""
        }
      }
    },
    {
      "id": "cell-56",
      "source": "<p>But numbers don’t have a length (not even zero). For example, the following command returns an error message.</p>\n",
      "cell_type": "markdown",
      "metadata": {
        "editable": false,
        "collapsed": false
      }
    },
    {
      "id": "cell-57",
      "source": [
        "print(len(52))"
      ],
      "cell_type": "code",
      "execution_count": null,
      "outputs": [

      ],
      "metadata": {
        "attributes": {
          "classes": [
            "python"
          ],
          "id": ""
        }
      }
    },
    {
      "id": "cell-58",
      "source": "<h2 id=\"type-conversion\">Type conversion</h2>\n<p>Python converts automatically integers to floats, when needed, but you must convert numbers to strings or vice versa when operating on them.\nIt is not allowed to add numbers and strings. For example <code>print(1 + '2')</code> is ambiguous: should <code>1 + '2'</code> be <code>3</code> or <code>'12'</code>?</p>\n<p>Some types can be converted to other types by using the type name as a function.</p>\n",
      "cell_type": "markdown",
      "metadata": {
        "editable": false,
        "collapsed": false
      }
    },
    {
      "id": "cell-59",
      "source": [
        "print(1 + int('2'))\n",
        "print(str(1) + '2')"
      ],
      "cell_type": "code",
      "execution_count": null,
      "outputs": [

      ],
      "metadata": {
        "attributes": {
          "classes": [
            "python"
          ],
          "id": ""
        }
      }
    },
    {
      "id": "cell-60",
      "source": "<blockquote class=\"question\" style=\"border: 2px solid #8A9AD0; margin: 1em 0.2em\">\n<h3 id=\"-icon-question--question-data-types\">❓ Question: Data types</h3>\n<p>What type of value is 3.25 + 4?</p>\n<blockquote class=\"solution\" style=\"border: 2px solid #B8C3EA;color: white; margin: 1em 0.2em\">\n<div style=\"color: #555; font-size: 95%;\">Hint: Select the text with your mouse to see the answer</div><h3 id=\"-icon-solution--solution\">👁 Solution</h3>\n<p>It is a float: integers are automatically converted to floats as necessary.</p>\n</blockquote>\n</blockquote>\n<blockquote class=\"question\" style=\"border: 2px solid #8A9AD0; margin: 1em 0.2em\">\n<h3 id=\"-icon-question--question-division\">❓ Question: Division</h3>\n<p>In Python 3, the <code>//</code> operator performs integer (whole-number) floor division, the <code>/</code> operator performs floating-point division, and the <code>%</code> (or <em>modulo</em>) operator calculates and returns the remainder from integer division:</p>\n<blockquote class=\"code-in\" style=\"border: 2px solid #86D486; margin: 1em 0.2em\">\n<h3 id=\"-icon-code-in--python\">⌨️ Python</h3>\n<div class=\"language-plaintext highlighter-rouge\"><div><pre style=\"color: inherit; background: white\"><code>print('5 // 3:', 5 // 3)\nprint('5 / 3:', 5 / 3)\nprint('5 % 3:', 5 % 3)\n</code></pre></div>    </div>\n</blockquote>\n<blockquote class=\"code-out\" style=\"border: 2px solid #fb99d0; margin: 1em 0.2em\">\n<h3 id=\"-icon-code-out--output\">🖥 Output</h3>\n<div class=\"language-plaintext highlighter-rouge\"><div><pre style=\"color: inherit; background: white\"><code>5 // 3: 1\n5 / 3: 1.6666666666666667\n5 % 3: 2\n</code></pre></div>    </div>\n</blockquote>\n<p>If <code>num_subjects</code> is the number of subjects taking part in a study, and <code>num_per_survey</code> is the number that can take part in a single survey, write an expression that calculates the number of surveys needed to reach everyone once.</p>\n<blockquote class=\"solution\" style=\"border: 2px solid #B8C3EA;color: white; margin: 1em 0.2em\">\n<h3 id=\"-icon-solution--solution-1\">👁 Solution</h3>\n<p>We want the minimum number of surveys that reaches everyone once, which is the rounded up value of <code>num_subjects/ num_per_survey</code>. This is equivalent to performing a floor division with <code>//</code> and adding 1. Before the division we need to subtract 1 from the number of subjects to deal with the case where <code>num_subjects</code> is evenly divisible by <code>num_per_survey</code>.</p>\n<div class=\"language-plaintext highlighter-rouge\"><div><pre style=\"color: inherit; background: white\"><code>num_subjects = 600\nnum_per_survey = 42\nnum_surveys = (num_subjects - 1) // num_per_survey + 1\n\nprint(num_subjects, 'subjects,', num_per_survey, 'per survey:', num_surveys)\n</code></pre></div>    </div>\n</blockquote>\n</blockquote>\n<blockquote class=\"question\" style=\"border: 2px solid #8A9AD0; margin: 1em 0.2em\">\n<h3 id=\"-icon-question--question-typecasting\">❓ Question: Typecasting</h3>\n<p>Where reasonable, <code>float()</code> will convert a string to a floating point number, and <code>int()</code> will convert a floating point number to an integer:</p>\n<blockquote class=\"code-in\" style=\"border: 2px solid #86D486; margin: 1em 0.2em\">\n<h3 id=\"-icon-code-in--python-1\">⌨️ Python</h3>\n<div class=\"language-plaintext highlighter-rouge\"><div><pre style=\"color: inherit; background: white\"><code>print(\"string to float:\", float(\"3.4\"))\nprint(\"float to int:\", int(3.4))\n</code></pre></div>    </div>\n</blockquote>\n<blockquote class=\"code-out\" style=\"border: 2px solid #fb99d0; margin: 1em 0.2em\">\n<h3 id=\"-icon-code-out--output-1\">🖥 Output</h3>\n<div class=\"language-plaintext highlighter-rouge\"><div><pre style=\"color: inherit; background: white\"><code>string to float: 3.4\nfloat to int: 3\n</code></pre></div>    </div>\n</blockquote>\n<p>If the conversion doesn’t make sense, however, an error message will occur.\nGiven this information, what do you expect the following program to do? What does it actually do? Why do you think it does that?</p>\n<div class=\"language-plaintext highlighter-rouge\"><div><pre style=\"color: inherit; background: white\"><code>print(\"fractional string to int:\", int(\"3.4\"))\n</code></pre></div>  </div>\n<blockquote class=\"solution\" style=\"border: 2px solid #B8C3EA;color: white; margin: 1em 0.2em\">\n<h3 id=\"-icon-solution--solution-2\">👁 Solution</h3>\n<p>Python 3 throws an error. If you ask Python to perform two consecutive typecasts, you must convert it explicitly in code.</p>\n<div class=\"language-plaintext highlighter-rouge\"><div><pre style=\"color: inherit; background: white\"><code>int(float(\"3.4\"))\n</code></pre></div>    </div>\n</blockquote>\n</blockquote>\n<blockquote class=\"question\" style=\"border: 2px solid #8A9AD0; margin: 1em 0.2em\">\n<h3 id=\"-icon-question--question-typecasting-1\">❓ Question: Typecasting</h3>\n<p>Which of the following will return the floating point number <code>2.0</code>? Note: there may be more than one right answer.</p>\n<div class=\"language-plaintext highlighter-rouge\"><div><pre style=\"color: inherit; background: white\"><code>first = 1.0\nsecond = \"1\"\nthird = \"1.1\"\n</code></pre></div>  </div>\n<ol>\n<li><code>first + float(second)</code></li>\n<li><code>float(second) + float(third)</code></li>\n<li><code>first + int(third)</code></li>\n<li><code>first + int(float(third))</code></li>\n<li><code>int(first) + int(float(third))</code></li>\n<li><code>2.0 * second</code></li>\n</ol>\n<blockquote class=\"solution\" style=\"border: 2px solid #B8C3EA;color: white; margin: 1em 0.2em\">\n<h3 id=\"-icon-solution--solution-3\">👁 Solution</h3>\n<p>Answer: 1 and 4</p>\n</blockquote>\n</blockquote>\n<blockquote class=\"question\" style=\"border: 2px solid #8A9AD0; margin: 1em 0.2em\">\n<h3 id=\"-icon-question--question-imaginary-numbers\">❓ Question: Imaginary numbers</h3>\n<p>Python provides complex numbers, which are written as <code>1.0+2.0j</code>. If <code>val</code> is a complex number, its real and imaginary parts can be accessed using dot notation as <code>val.real</code> and <code>val.imag</code>.</p>\n<div class=\"language-plaintext highlighter-rouge\"><div><pre style=\"color: inherit; background: white\"><code>complex = 6 + 2j\nprint(complex.real)\nprint(complex.imag)\n</code></pre></div>  </div>\n<p>Output:\n6.0\n2.0</p>\n<ol>\n<li>Why do you think Python uses <code>j</code> instead of i for the imaginary part?</li>\n<li>What do you expect <code>1+2j + 3</code> to produce?</li>\n<li>What do you expect <code>4j</code> to be? What about <code>4 j</code> or <code>4 + j</code>?</li>\n</ol>\n<blockquote class=\"solution\" style=\"border: 2px solid #B8C3EA;color: white; margin: 1em 0.2em\">\n<h3 id=\"-icon-solution--solution-4\">👁 Solution</h3>\n<ol>\n<li>Standard mathematics treatments typically use i to denote an imaginary number. However, from media reports it was an early convention established from electrical engineering that now presents a technically expensive area to change.</li>\n<li><code>(4+2j)</code></li>\n<li><code>4j</code> and Syntax Error: invalid syntax. In the latter cases, <code>j</code> is considered a variable and the statement depends on if <code>j</code> is defined and if so, its assigned value.</li>\n</ol>\n</blockquote>\n</blockquote>\n<h2 id=\"built-in-python-functions\">Built-in Python functions</h2>\n<p>To carry out common tasks with data and variables in Python, the language provides us with several built-in functions. To display information to the screen, we use the <code>print</code> function:</p>\n",
      "cell_type": "markdown",
      "metadata": {
        "editable": false,
        "collapsed": false
      }
    },
    {
      "id": "cell-61",
      "source": [
        "print(weight_lb)\n",
        "print(patient_id)"
      ],
      "cell_type": "code",
      "execution_count": null,
      "outputs": [

      ],
      "metadata": {
        "attributes": {
          "classes": [
            "python"
          ],
          "id": ""
        }
      }
    },
    {
      "id": "cell-62",
      "source": "<p>When we want to make use of a function, referred to as calling the function, we follow its name by parentheses. The parentheses are important: if you leave them off, the function doesn’t actually run! Sometimes you will include values or variables inside the parentheses for the function to use. In the case of <code>print</code>, we use the parentheses to tell the function what value we want to display. <code>print</code> automatically puts a single space between outputs to separate them and wraps around to a new line at the end.</p>\n<p>We can display multiple things at once using only one <code>print</code> call:</p>\n",
      "cell_type": "markdown",
      "metadata": {
        "editable": false,
        "collapsed": false
      }
    },
    {
      "id": "cell-63",
      "source": [
        "print(patient_id, 'weight in kilograms:', weight_kg)"
      ],
      "cell_type": "code",
      "execution_count": null,
      "outputs": [

      ],
      "metadata": {
        "attributes": {
          "classes": [
            "python"
          ],
          "id": ""
        }
      }
    },
    {
      "id": "cell-64",
      "source": "<p>We can also call a function inside of another function call. For example, Python has a built-in function called <code>type</code> that tells you a value’s data type:</p>\n",
      "cell_type": "markdown",
      "metadata": {
        "editable": false,
        "collapsed": false
      }
    },
    {
      "id": "cell-65",
      "source": [
        "print(type(60.3))\n",
        "print(type(patient_id))"
      ],
      "cell_type": "code",
      "execution_count": null,
      "outputs": [

      ],
      "metadata": {
        "attributes": {
          "classes": [
            "python"
          ],
          "id": ""
        }
      }
    },
    {
      "id": "cell-66",
      "source": "<p>Moreover, we can do arithmetic with variables right inside the <code>print</code> function:</p>\n",
      "cell_type": "markdown",
      "metadata": {
        "editable": false,
        "collapsed": false
      }
    },
    {
      "id": "cell-67",
      "source": [
        "print('weight in pounds:', 2.2 * weight_kg)"
      ],
      "cell_type": "code",
      "execution_count": null,
      "outputs": [

      ],
      "metadata": {
        "attributes": {
          "classes": [
            "python"
          ],
          "id": ""
        }
      }
    },
    {
      "id": "cell-68",
      "source": "<p>The above command, however, did not change the value of <code>weight_kg</code>:</p>\n",
      "cell_type": "markdown",
      "metadata": {
        "editable": false,
        "collapsed": false
      }
    },
    {
      "id": "cell-69",
      "source": [
        "print(weight_kg)"
      ],
      "cell_type": "code",
      "execution_count": null,
      "outputs": [

      ],
      "metadata": {
        "attributes": {
          "classes": [
            "python"
          ],
          "id": ""
        }
      }
    },
    {
      "id": "cell-70",
      "source": "<p>To change the value of the <code>weight_kg</code> variable, we have to assign <code>weight_kg</code> a new value using the equals <code>=</code> sign:</p>\n",
      "cell_type": "markdown",
      "metadata": {
        "editable": false,
        "collapsed": false
      }
    },
    {
      "id": "cell-71",
      "source": [
        "weight_kg = 65.0\n",
        "print('weight in kilograms is now:', weight_kg)"
      ],
      "cell_type": "code",
      "execution_count": null,
      "outputs": [

      ],
      "metadata": {
        "attributes": {
          "classes": [
            "python"
          ],
          "id": ""
        }
      }
    },
    {
      "id": "cell-72",
      "source": "<p>A function may take zero or more arguments.  An <em>argument</em> is a value passed into a function. You must always use parentheses, even if they’re empty, so that Python knows a function is being called.</p>\n<p>Every function call produces some result. If the function doesn’t have a useful result to return, it usually returns the special value <code>None</code>. <code>None</code> is a Python object that stands in anytime there is no value.</p>\n",
      "cell_type": "markdown",
      "metadata": {
        "editable": false,
        "collapsed": false
      }
    },
    {
      "id": "cell-73",
      "source": [
        "result = print('example')\n",
        "print('result of print is', result)"
      ],
      "cell_type": "code",
      "execution_count": null,
      "outputs": [

      ],
      "metadata": {
        "attributes": {
          "classes": [
            "python"
          ],
          "id": ""
        }
      }
    },
    {
      "id": "cell-74",
      "source": "<p>Commonly-used built-in functions include <code>max</code>, <code>min</code>, and <code>round</code>. <code>max</code> and <code>min</code> work on character strings as well as numbers. From “larger” and “smaller”, they use the order: (0-9, A-Z, a-z) to compare letters.</p>\n",
      "cell_type": "markdown",
      "metadata": {
        "editable": false,
        "collapsed": false
      }
    },
    {
      "id": "cell-75",
      "source": [
        "print(max(1, 2, 3))\n",
        "print(min('a', 'A', '0'))"
      ],
      "cell_type": "code",
      "execution_count": null,
      "outputs": [

      ],
      "metadata": {
        "attributes": {
          "classes": [
            "python"
          ],
          "id": ""
        }
      }
    },
    {
      "id": "cell-76",
      "source": "<p>Functions may have default values for some arguments. <code>round</code> will round off a floating-point number. By default, it rounds to zero decimal places.</p>\n",
      "cell_type": "markdown",
      "metadata": {
        "editable": false,
        "collapsed": false
      }
    },
    {
      "id": "cell-77",
      "source": [
        "round(3.712)"
      ],
      "cell_type": "code",
      "execution_count": null,
      "outputs": [

      ],
      "metadata": {
        "attributes": {
          "classes": [
            "python"
          ],
          "id": ""
        }
      }
    },
    {
      "id": "cell-78",
      "source": "<p>We can specify the number of decimal places we want.</p>\n",
      "cell_type": "markdown",
      "metadata": {
        "editable": false,
        "collapsed": false
      }
    },
    {
      "id": "cell-79",
      "source": [
        "round(3.712, 1)"
      ],
      "cell_type": "code",
      "execution_count": null,
      "outputs": [

      ],
      "metadata": {
        "attributes": {
          "classes": [
            "python"
          ],
          "id": ""
        }
      }
    },
    {
      "id": "cell-80",
      "source": "<h3 id=\"functions-attached-to-objects-are-called-methods\">Functions attached to objects are called methods</h3>\n<p>Methods have parentheses like functions, but come after the variable. Some methods are used for internal Python operations, and are marked with double underlines.</p>\n",
      "cell_type": "markdown",
      "metadata": {
        "editable": false,
        "collapsed": false
      }
    },
    {
      "id": "cell-81",
      "source": [
        "my_string = 'Hello world!'  # creation of a string object\n",
        "\n",
        "print(len(my_string))       # the len function takes a string as an argument and returns the length of the string\n",
        "\n",
        "print(my_string.swapcase()) # calling the swapcase method on the my_string object\n",
        "\n",
        "print(my_string.__len__())  # calling the internal __len__ method on the my_string object, used by len(my_string)"
      ],
      "cell_type": "code",
      "execution_count": null,
      "outputs": [

      ],
      "metadata": {
        "attributes": {
          "classes": [
            "python"
          ],
          "id": ""
        }
      }
    },
    {
      "id": "cell-82",
      "source": "<p>You might even see them chained together. They operate left to right.</p>\n",
      "cell_type": "markdown",
      "metadata": {
        "editable": false,
        "collapsed": false
      }
    },
    {
      "id": "cell-83",
      "source": [
        "print(my_string.isupper())          # Not all the letters are uppercase\n",
        "print(my_string.upper())            # This capitalizes all the letters\n",
        "\n",
        "print(my_string.upper().isupper())  # Now all the letters are uppercase"
      ],
      "cell_type": "code",
      "execution_count": null,
      "outputs": [

      ],
      "metadata": {
        "attributes": {
          "classes": [
            "python"
          ],
          "id": ""
        }
      }
    },
    {
      "id": "cell-84",
      "source": "<h3 id=\"use-the-built-in-function-help-to-get-help-for-a-function\">Use the built-in function <code>help</code> to get help for a function.</h3>\n<p>Every built-in function has online documentation.</p>\n",
      "cell_type": "markdown",
      "metadata": {
        "editable": false,
        "collapsed": false
      }
    },
    {
      "id": "cell-85",
      "source": [
        "help(round)"
      ],
      "cell_type": "code",
      "execution_count": null,
      "outputs": [

      ],
      "metadata": {
        "attributes": {
          "classes": [
            "python"
          ],
          "id": ""
        }
      }
    },
    {
      "id": "cell-86",
      "source": "<h2 id=\"conditionals\">Conditionals</h2>\n<p>An if statement (more properly called a conditional statement) controls whether some block of code is executed or not.\nThe first line opens with if and ends with a colon and the block of code to be executed is indented. An example is showed below.</p>\n",
      "cell_type": "markdown",
      "metadata": {
        "editable": false,
        "collapsed": false
      }
    },
    {
      "id": "cell-87",
      "source": [
        "num = 37\n",
        "if num > 100:\n",
        "print('greater')\n",
        "else:\n",
        "print('not greater')\n",
        "print('done')"
      ],
      "cell_type": "code",
      "execution_count": null,
      "outputs": [

      ],
      "metadata": {
        "attributes": {
          "classes": [
            "python"
          ],
          "id": ""
        }
      }
    },
    {
      "id": "cell-88",
      "source": "<p>If the expression that follows the if statement is true, the body of the <code>if</code> (i.e., the set of lines indented underneath it) is executed, and <code>“greater”</code> is printed. If it is false, the body of the <code>else</code> is executed instead, and <code>“not greater”</code> is printed. Only one or the other is ever executed before continuing on with program execution to print <code>“done”</code>:</p>\n<p><img src=\"https://training.galaxyproject.org/training-material/topics/data-science/tutorials/python-basics/../../images/python-basics/Figure5_Conditionals.png\" alt=\"A flow chart diagram is shown with a decision box of number &gt; 100. For true it branches to print 'greater'. For false it branches to print 'not greater'. Both branches re-connect to print done.\" loading=\"lazy\" /></p>\n<p>Conditional statements don’t have to include an <code>else</code>.  If there isn’t one, Python simply does nothing if the expression is false:</p>\n",
      "cell_type": "markdown",
      "metadata": {
        "editable": false,
        "collapsed": false
      }
    },
    {
      "id": "cell-89",
      "source": [
        "num = 53\n",
        "print('before conditional...')\n",
        "if num > 100:\n",
        "print(num, 'is greater than 100')\n",
        "print('...after conditional')"
      ],
      "cell_type": "code",
      "execution_count": null,
      "outputs": [

      ],
      "metadata": {
        "attributes": {
          "classes": [
            "python"
          ],
          "id": ""
        }
      }
    },
    {
      "id": "cell-90",
      "source": "<p>We can also chain several expressions together using <code>elif</code>, which is short for “else if”. The following Python code uses <code>elif</code> to print the sign of a number.</p>\n",
      "cell_type": "markdown",
      "metadata": {
        "editable": false,
        "collapsed": false
      }
    },
    {
      "id": "cell-91",
      "source": [
        "num = -3\n",
        "\n",
        "if num > 0:\n",
        "print(num, 'is positive')\n",
        "elif num == 0:\n",
        "print(num, 'is zero')\n",
        "else:\n",
        "print(num, 'is negative')"
      ],
      "cell_type": "code",
      "execution_count": null,
      "outputs": [

      ],
      "metadata": {
        "attributes": {
          "classes": [
            "python"
          ],
          "id": ""
        }
      }
    },
    {
      "id": "cell-92",
      "source": "<h3 id=\"comparison-operators-in-python\">Comparison operators in Python</h3>\n<p>The operators used for comparing values in conditionals are the following:</p>\n<ul>\n<li><code>&gt;</code> : greater than</li>\n<li><code>&lt;</code> : less than</li>\n<li><code>==</code> : equal to</li>\n<li><code>!=</code> : does not equal</li>\n<li><code>&gt;=</code> : greater than or equal to</li>\n<li><code>&lt;=</code> : less than or equal to</li>\n</ul>\n<h3 id=\"logical-operators-in-python\">Logical operators in Python</h3>\n<p>We can also combine expressions using <code>and</code> and <code>or</code>. <code>and</code> is only true if both parts are true:</p>\n",
      "cell_type": "markdown",
      "metadata": {
        "editable": false,
        "collapsed": false
      }
    },
    {
      "id": "cell-93",
      "source": [
        "if (1 > 0) and (-1 >= 0):\n",
        "print('both parts are true')\n",
        "else:\n",
        "print('at least one part is false')"
      ],
      "cell_type": "code",
      "execution_count": null,
      "outputs": [

      ],
      "metadata": {
        "attributes": {
          "classes": [
            "python"
          ],
          "id": ""
        }
      }
    },
    {
      "id": "cell-94",
      "source": "<p>while <code>or</code> is true if at least one part is true:</p>\n",
      "cell_type": "markdown",
      "metadata": {
        "editable": false,
        "collapsed": false
      }
    },
    {
      "id": "cell-95",
      "source": [
        "if (1 < 0) or (1 >= 0):\n",
        "print('at least one test is true')"
      ],
      "cell_type": "code",
      "execution_count": null,
      "outputs": [

      ],
      "metadata": {
        "attributes": {
          "classes": [
            "python"
          ],
          "id": ""
        }
      }
    },
    {
      "id": "cell-96",
      "source": "<h3 id=\"true-and-false\">True and False</h3>\n<p><code>True</code> and <code>False</code> are special words in Python called booleans, which represent truth values. A statement such as <code>1 &lt; 0</code> returns the value <code>False</code>, while <code>-1 &lt; 0</code> returns the value <code>True</code>.</p>\n<blockquote class=\"question\" style=\"border: 2px solid #8A9AD0; margin: 1em 0.2em\">\n<h3 id=\"-icon-question--question-conditionals\">❓ Question: Conditionals</h3>\n<p>What does this program print?</p>\n<div class=\"language-plaintext highlighter-rouge\"><div><pre style=\"color: inherit; background: white\"><code>pressure = 71.9\nif pressure &gt; 50.0:\n    pressure = 25.0\nelif pressure &lt;= 50.0:\n    pressure = 0.0\nprint(pressure)\n</code></pre></div>  </div>\n<blockquote class=\"solution\" style=\"border: 2px solid #B8C3EA;color: white; margin: 1em 0.2em\">\n<div style=\"color: #555; font-size: 95%;\">Hint: Select the text with your mouse to see the answer</div><h3 id=\"-icon-solution--solution\">👁 Solution</h3>\n<p>25</p>\n</blockquote>\n</blockquote>\n<blockquote class=\"question\" style=\"border: 2px solid #8A9AD0; margin: 1em 0.2em\">\n<h3 id=\"-icon-question--question-conditionals-1\">❓ Question: Conditionals</h3>\n<p>Write some conditions that print <code>True</code> if the variable <code>a</code> is within 10% of the variable <code>b</code> and <code>False</code> otherwise. Compare your implementation with your partner’s: do you get the same answer for all possible pairs of numbers?\nHint: There is a built-in function <code>abs()</code> that returns the absolute value of a number.</p>\n<blockquote class=\"solution\" style=\"border: 2px solid #B8C3EA;color: white; margin: 1em 0.2em\">\n<h3 id=\"-icon-solution--solution-1\">👁 Solution</h3>\n<div class=\"language-plaintext highlighter-rouge\"><div><pre style=\"color: inherit; background: white\"><code>a = 5\nb = 5.1\nif abs(a - b) &lt;= 0.1 * abs(b):\n   print('True')\nelse:\n   print('False')\n</code></pre></div>    </div>\n</blockquote>\n</blockquote>\n<h2 id=\"for-loops\">For loops</h2>\n<p>Doing calculations on the values in a list one by one is very time consuming.</p>\n",
      "cell_type": "markdown",
      "metadata": {
        "editable": false,
        "collapsed": false
      }
    },
    {
      "id": "cell-97",
      "source": [
        "odds = [1, 3, 5, 7, 9, 11]\n",
        "print(odds[0])\n",
        "print(odds[1])\n",
        "print(odds[2])\n",
        "print(odds[3])\n",
        "print(odds[4])\n",
        "print(odds[5])\n",
        ""
      ],
      "cell_type": "code",
      "execution_count": null,
      "outputs": [

      ],
      "metadata": {
        "attributes": {
          "classes": [
            "python"
          ],
          "id": ""
        }
      }
    },
    {
      "id": "cell-98",
      "source": "<p>A for loop tells Python to execute some statements once for each value in a list, a character string, or some other collection.\n“for each thing in this group, do these operations”. The for loop equivalent to the previous code is:</p>\n",
      "cell_type": "markdown",
      "metadata": {
        "editable": false,
        "collapsed": false
      }
    },
    {
      "id": "cell-99",
      "source": [
        "for num in odds:\n",
        "print(num)"
      ],
      "cell_type": "code",
      "execution_count": null,
      "outputs": [

      ],
      "metadata": {
        "attributes": {
          "classes": [
            "python"
          ],
          "id": ""
        }
      }
    },
    {
      "id": "cell-100",
      "source": "<p>The improved version uses a for loop to repeat an operation — in this case, printing — once for each thing in a sequence. The general form of a loop is:</p>\n",
      "cell_type": "markdown",
      "metadata": {
        "editable": false,
        "collapsed": false
      }
    },
    {
      "id": "cell-101",
      "source": [
        "for variable in collection:\n",
        "# do things using variable, such as print"
      ],
      "cell_type": "code",
      "execution_count": null,
      "outputs": [

      ],
      "metadata": {
        "attributes": {
          "classes": [
            "python"
          ],
          "id": ""
        }
      }
    },
    {
      "id": "cell-102",
      "source": "<p>Using the odds example above, the loop might look like this:\n<img src=\"https://training.galaxyproject.org/training-material/topics/data-science/tutorials/python-basics/../../images/python-basics/Figure6_For_loop.png\" alt=\"A cartoon schematic shows a  small array named odds with the odd numbers from 1 to 11. A for loop is written &quot;for num in odds&quot; and for each of these items in the array print(num) happens, and the output is shown below, the odd numbers printed out.\" loading=\"lazy\" /></p>\n<p>where each number (<code class=\"language-plaintext highlighter-rouge\">num</code>) in the variable odds is looped through and printed one number after another. The other numbers in the diagram denote which loop cycle the number was printed in (1 being the first loop cycle, and 6 being the final loop cycle).</p>\n<p>We can call the loop variable anything we like, but there must be a colon at the end of the line starting the loop, and we must indent anything we want to run inside the loop. Unlike many other languages, there is no command to signify the end of the loop body (e.g. end for); what is indented after the for statement belongs to the loop. Python uses indentation to show nesting. Any consistent indentation is legal, but almost everyone uses four spaces.</p>\n<p>When looping through a list, the position index and corresponding value can be retrieved at the same time using the <code>enumerate()</code> function.</p>\n",
      "cell_type": "markdown",
      "metadata": {
        "editable": false,
        "collapsed": false
      }
    },
    {
      "id": "cell-103",
      "source": [
        "for i, v in enumerate(['tic', 'tac', 'toe']):\n",
        "... print(i, v)"
      ],
      "cell_type": "code",
      "execution_count": null,
      "outputs": [

      ],
      "metadata": {
        "attributes": {
          "classes": [
            "python"
          ],
          "id": ""
        }
      }
    },
    {
      "id": "cell-104",
      "source": "<p>To loop over two or more lists at the same time, the entries can be paired with the <code>zip()</code> function.</p>\n",
      "cell_type": "markdown",
      "metadata": {
        "editable": false,
        "collapsed": false
      }
    },
    {
      "id": "cell-105",
      "source": [
        "questions = ['name', 'quest', 'favorite color']\n",
        "answers = ['lancelot', 'the holy grail', 'blue']\n",
        "for q, a in zip(questions, answers):\n",
        "print('What is your {0}?  It is {1}.'.format(q, a))"
      ],
      "cell_type": "code",
      "execution_count": null,
      "outputs": [

      ],
      "metadata": {
        "attributes": {
          "classes": [
            "python"
          ],
          "id": ""
        }
      }
    },
    {
      "id": "cell-106",
      "source": "<p>We can choose any name we want for variables. It is a good idea to choose variable names that are meaningful, otherwise it would be more difficult to understand what the loop is doing.</p>\n<p>Here’s another loop that repeatedly updates a variable:</p>\n",
      "cell_type": "markdown",
      "metadata": {
        "editable": false,
        "collapsed": false
      }
    },
    {
      "id": "cell-107",
      "source": [
        "length = 0\n",
        "names = ['Curie', 'Darwin', 'Turing']\n",
        "for value in names:\n",
        "length = length + 1\n",
        "print('There are', length, 'names in the list.')\n",
        "print('After the loop, name is', name)"
      ],
      "cell_type": "code",
      "execution_count": null,
      "outputs": [

      ],
      "metadata": {
        "attributes": {
          "classes": [
            "python"
          ],
          "id": ""
        }
      }
    },
    {
      "id": "cell-108",
      "source": "<p>It is worth tracing the execution of this little program step by step. Since there are three names in <code>names</code>, the statement on line 4 will be executed three times. The first time around, <code>length</code> is <code>0</code> (the value assigned to it on line 1) and <code>value</code> is <code>Curie</code>. The statement adds 1 to the old value of <code>length</code>, producing 1, and updates <code>length</code> to refer to that new value. The next time around, <code>value</code> is <code>Darwin</code> and <code>length</code> is <code>1</code>, so <code>length</code> is updated to be <code>2</code>. After one more update, <code>length</code> is <code>3</code>; since there is nothing left in <code>names</code> for Python to process, the loop finishes and the print function on line 5 tells us our final answer.</p>\n<p>Note that a loop variable is a variable that is being used to record progress in a loop. It still exists after the loop is over, stores the value assigned to it last, and we can re-use variables previously defined as loop variables as well.</p>\n<blockquote class=\"question\" style=\"border: 2px solid #8A9AD0; margin: 1em 0.2em\">\n<h3 id=\"-icon-question--question-range-of-numbers\">❓ Question: range of numbers</h3>\n<p>Python has a built-in function called <code>range()</code> that generates a sequence of numbers. <code>range</code> can accept 1, 2, or 3 parameters.\nIf one parameter is given, <code>range</code> generates a sequence of that length, starting at zero and incrementing by 1. For example, <code>range(3)</code> produces the numbers <code>0, 1, 2</code>.\nIf two parameters are given, <code>range</code> starts at the first and ends just before the second, incrementing by one. For example, <code>range(2, 5)</code> produces <code>2, 3, 4</code>.\nIf <code>range</code> is given 3 parameters, it starts at the first one, ends just before the second one, and increments by the third one. For example, <code>range(3, 10, 2)</code> produces <code>3, 5, 7, 9</code>.\nUsing <code>range</code>, write a loop that uses <code>range</code> to print the first 3 natural numbers:</p>\n<div class=\"language-plaintext highlighter-rouge\"><div><pre style=\"color: inherit; background: white\"><code>1\n2\n3\n</code></pre></div>  </div>\n<blockquote class=\"solution\" style=\"border: 2px solid #B8C3EA;color: white; margin: 1em 0.2em\">\n<div style=\"color: #555; font-size: 95%;\">Hint: Select the text with your mouse to see the answer</div><h3 id=\"-icon-solution--solution\">👁 Solution</h3>\n<div class=\"language-plaintext highlighter-rouge\"><div><pre style=\"color: inherit; background: white\"><code> for i in range(1, 4):\n    print(i)\n</code></pre></div>    </div>\n</blockquote>\n</blockquote>\n<blockquote class=\"question\" style=\"border: 2px solid #8A9AD0; margin: 1em 0.2em\">\n<h3 id=\"-icon-question--question-number-of-iterations\">❓ Question: Number of iterations</h3>\n<p>Given the following loop:</p>\n<div class=\"language-plaintext highlighter-rouge\"><div><pre style=\"color: inherit; background: white\"><code>word = 'oxygen'\nfor char in word:\n   print(char)\n</code></pre></div>  </div>\n<p>How many times is the for loop executed?</p>\n<blockquote class=\"solution\" style=\"border: 2px solid #B8C3EA;color: white; margin: 1em 0.2em\">\n<h3 id=\"-icon-solution--solution-1\">👁 Solution</h3>\n<p>The body of the loop is executed 6 times.</p>\n</blockquote>\n</blockquote>\n<blockquote class=\"question\" style=\"border: 2px solid #8A9AD0; margin: 1em 0.2em\">\n<h3 id=\"-icon-question--question-exponentiation\">❓ Question: Exponentiation</h3>\n<p>Exponentiation is built into Python:</p>\n<div class=\"language-plaintext highlighter-rouge\"><div><pre style=\"color: inherit; background: white\"><code>print(5 ** 3)\n</code></pre></div>  </div>\n<p>Output:\n125</p>\n<p>Write a loop that calculates the same result as <code>5 ** 3</code> using multiplication (and without exponentiation).</p>\n<blockquote class=\"solution\" style=\"border: 2px solid #B8C3EA;color: white; margin: 1em 0.2em\">\n<h3 id=\"-icon-solution--solution-2\">👁 Solution</h3>\n<div class=\"language-plaintext highlighter-rouge\"><div><pre style=\"color: inherit; background: white\"><code>result = 1\nfor number in range(0, 3):\n    result = result * 5\nprint(result)\n</code></pre></div>    </div>\n</blockquote>\n</blockquote>\n<blockquote class=\"question\" style=\"border: 2px solid #8A9AD0; margin: 1em 0.2em\">\n<h3 id=\"-icon-question--question-iterations-over-a-list\">❓ Question: Iterations over a list</h3>\n<p>Write a loop that calculates the sum of elements in a list by adding each element and printing the final value, so <code>[124, 402, 36]</code> prints <code>562</code></p>\n<blockquote class=\"solution\" style=\"border: 2px solid #B8C3EA;color: white; margin: 1em 0.2em\">\n<h3 id=\"-icon-solution--solution-3\">👁 Solution</h3>\n<div class=\"language-plaintext highlighter-rouge\"><div><pre style=\"color: inherit; background: white\"><code>numbers = [124, 402, 36]\nsummed = 0\nfor num in numbers:\n    summed = summed + num\nprint(summed)\n</code></pre></div>    </div>\n</blockquote>\n</blockquote>\n<blockquote class=\"question\" style=\"border: 2px solid #8A9AD0; margin: 1em 0.2em\">\n<h3 id=\"-icon-question--question-polynomial\">❓ Question: Polynomial</h3>\n<p>Suppose you have encoded a polynomial as a list of coefficients in the following way: the first element is the constant term, the second element is the coefficient of the linear term, the third is the coefficient of the quadratic term, etc.</p>\n<div class=\"language-plaintext highlighter-rouge\"><div><pre style=\"color: inherit; background: white\"><code>x = 5\ncoefs = [2, 4, 3]\ny = coefs[0] * x**0 + coefs[1] * x**1 + coefs[2] * x**2\nprint(y)\n</code></pre></div>  </div>\n<p>Output:\n97</p>\n<p>Write a loop using <code>enumerate(coefs)</code> which computes the value <code>y</code> of any polynomial, given <code>x</code> and <code>coefs</code>.</p>\n<blockquote class=\"solution\" style=\"border: 2px solid #B8C3EA;color: white; margin: 1em 0.2em\">\n<h3 id=\"-icon-solution--solution-4\">👁 Solution</h3>\n<div class=\"language-plaintext highlighter-rouge\"><div><pre style=\"color: inherit; background: white\"><code>y = 0\nfor idx, coef in enumerate(coefs):\n    y = y + coef * x**idx\n</code></pre></div>    </div>\n</blockquote>\n</blockquote>\n<blockquote class=\"question\" style=\"border: 2px solid #8A9AD0; margin: 1em 0.2em\">\n<h3 id=\"-icon-question--question-for-loops-and-conditionals\">❓ Question: For loops and conditionals</h3>\n<p>Fill in the blanks so that this program creates a new list containing zeroes where the original list’s values were negative and ones where the original list’s values were positive.</p>\n<div class=\"language-plaintext highlighter-rouge\"><div><pre style=\"color: inherit; background: white\"><code>original = [-1.5, 0.2, 0.4, 0.0, -1.3, 0.4]\nresult = ____\nfor value in original:\n    if ____:\n        result.append(0)\n    else:\n        ____\n    print(result)\n</code></pre></div>  </div>\n<p>Output:\n[0, 1, 1, 1, 0, 1]</p>\n<blockquote class=\"solution\" style=\"border: 2px solid #B8C3EA;color: white; margin: 1em 0.2em\">\n<h3 id=\"-icon-solution--solution-5\">👁 Solution</h3>\n<div class=\"language-plaintext highlighter-rouge\"><div><pre style=\"color: inherit; background: white\"><code>original = [-1.5, 0.2, 0.4, 0.0, -1.3, 0.4]\nresult = []\nfor value in original:\n    if value &lt; 0:\n        result.append(0)\n    else:\n        result.append(1)\n    print(result)\n</code></pre></div>    </div>\n</blockquote>\n</blockquote>\n<h2 id=\"while-loops\">While loops</h2>\n<p>With the while loop we can execute a set of statements as long as an expression is true. The following example prints <code>i</code> as long as <code>i</code> is less than 6:</p>\n",
      "cell_type": "markdown",
      "metadata": {
        "editable": false,
        "collapsed": false
      }
    },
    {
      "id": "cell-109",
      "source": [
        "odds = [1, 3, 5, 7, 9, 11]\n",
        "i = 0\n",
        "while odds[i] < 6:\n",
        "print(odds[i])\n",
        "i = i + 1"
      ],
      "cell_type": "code",
      "execution_count": null,
      "outputs": [

      ],
      "metadata": {
        "attributes": {
          "classes": [
            "python"
          ],
          "id": ""
        }
      }
    },
    {
      "id": "cell-110",
      "source": "<p>Remember to increment <code>i</code>, or else the loop will continue forever. The while loop requires relevant variables to be ready, in this example we need to define an indexing variable, <code>i</code>, which we set to 0.</p>\n<p>With the <code>break</code> statement we can stop the loop even if the while condition is true:</p>\n",
      "cell_type": "markdown",
      "metadata": {
        "editable": false,
        "collapsed": false
      }
    },
    {
      "id": "cell-111",
      "source": [
        "odds = [1, 3, 5, 7, 9, 11]\n",
        "i = 0\n",
        "while odds[i] < 6:\n",
        "print(odds[i])\n",
        "if odds[i] == 3:\n",
        "break\n",
        "i = i + 1"
      ],
      "cell_type": "code",
      "execution_count": null,
      "outputs": [

      ],
      "metadata": {
        "attributes": {
          "classes": [
            "python"
          ],
          "id": ""
        }
      }
    },
    {
      "id": "cell-112",
      "source": "<p>With the <code>continue</code> statement we can stop the current iteration, and continue with the next:</p>\n",
      "cell_type": "markdown",
      "metadata": {
        "editable": false,
        "collapsed": false
      }
    },
    {
      "id": "cell-113",
      "source": [
        "odds = [1, 3, 5, 7, 9, 11]\n",
        "i = 0\n",
        "while odds[i] < 6:\n",
        "i = i + 1\n",
        "if odds[i] == 3:\n",
        "continue\n",
        "print(odds[i])\n",
        ""
      ],
      "cell_type": "code",
      "execution_count": null,
      "outputs": [

      ],
      "metadata": {
        "attributes": {
          "classes": [
            "python"
          ],
          "id": ""
        }
      }
    },
    {
      "id": "cell-114",
      "source": "<p>With the <code>else</code> statement we can run a block of code once when the condition no longer is true:</p>\n",
      "cell_type": "markdown",
      "metadata": {
        "editable": false,
        "collapsed": false
      }
    },
    {
      "id": "cell-115",
      "source": [
        "odds = [1, 3, 5, 7, 9, 11]\n",
        "i = 0\n",
        "while odds[i] < 6:\n",
        "print(odds[i])\n",
        "i = i + 1\n",
        "else:\n",
        "print(\"condition is no longer True\")"
      ],
      "cell_type": "code",
      "execution_count": null,
      "outputs": [

      ],
      "metadata": {
        "attributes": {
          "classes": [
            "python"
          ],
          "id": ""
        }
      }
    },
    {
      "id": "cell-116",
      "source": "<h2 id=\"create-functions\">Create Functions</h2>\n<p>Human beings can only keep a few items in working memory at a time. Breaking down larger/more complicated pieces of code in functions helps in understanding and using it. A function can be re-used. Write one time, use many times.</p>\n",
      "cell_type": "markdown",
      "metadata": {
        "editable": false,
        "collapsed": false
      }
    },
    {
      "id": "cell-117",
      "source": [
        "def fahr_to_celsius(temp):\n",
        "return ((temp - 32) * (5/9))"
      ],
      "cell_type": "code",
      "execution_count": null,
      "outputs": [

      ],
      "metadata": {
        "attributes": {
          "classes": [
            "python"
          ],
          "id": ""
        }
      }
    },
    {
      "id": "cell-118",
      "source": "<p><img src=\"https://training.galaxyproject.org/training-material/topics/data-science/tutorials/python-basics/../../images/python-basics/Figure7_Functions.png\" alt=\"The above function fahr to celsius is shown except annotated. def is labelled &quot;def statement&quot;, fahr_to_celsius is noted as the function name. Inside parentheses is temp and an arrow shows it is called parameter names. The next line which is indented is annotated as the function body which has a return statement and the calculation from above.\" loading=\"lazy\" /></p>\n<p>The function definition opens with the keyword <code>def</code> followed by the name of the function <code>fahr_to_celsius</code> and a parenthesized list of parameter names <code>temp</code>. The body of the function — the statements that are executed when it runs — is indented below the definition line. The body concludes with a <code>return</code> keyword followed by the return value.</p>\n<p>When we call the function, the values we pass to it are assigned to those variables so that we can use them inside the function. Inside the function, we use a return statement to send a result back to whoever asked for it.</p>\n<p>Let’s try running our function.</p>\n",
      "cell_type": "markdown",
      "metadata": {
        "editable": false,
        "collapsed": false
      }
    },
    {
      "id": "cell-119",
      "source": [
        "fahr_to_celsius(32)\n",
        "print('freezing point of water:', fahr_to_celsius(32), 'C')\n",
        "print('boiling point of water:', fahr_to_celsius(212), 'C')"
      ],
      "cell_type": "code",
      "execution_count": null,
      "outputs": [

      ],
      "metadata": {
        "attributes": {
          "classes": [
            "python"
          ],
          "id": ""
        }
      }
    },
    {
      "id": "cell-120",
      "source": "<p>We’ve successfully called the function that we defined, and we have access to the value that we returned.</p>\n<p>Now that we’ve seen how to turn Fahrenheit into Celsius, we can also write the function to turn Celsius into Kelvin:</p>\n",
      "cell_type": "markdown",
      "metadata": {
        "editable": false,
        "collapsed": false
      }
    },
    {
      "id": "cell-121",
      "source": [
        "def celsius_to_kelvin(temp_c):\n",
        "return temp_c + 273.15\n",
        "\n",
        "print('freezing point of water in Kelvin:', celsius_to_kelvin(0.))"
      ],
      "cell_type": "code",
      "execution_count": null,
      "outputs": [

      ],
      "metadata": {
        "attributes": {
          "classes": [
            "python"
          ],
          "id": ""
        }
      }
    },
    {
      "id": "cell-122",
      "source": "<p>What about converting Fahrenheit to Kelvin? We could write out the formula, but we don’t need to. Instead, we can compose the two functions we have already created:</p>\n",
      "cell_type": "markdown",
      "metadata": {
        "editable": false,
        "collapsed": false
      }
    },
    {
      "id": "cell-123",
      "source": [
        "def fahr_to_kelvin(temp_f):\n",
        "temp_c = fahr_to_celsius(temp_f)\n",
        "temp_k = celsius_to_kelvin(temp_c)\n",
        "return temp_k\n",
        "\n",
        "print('boiling point of water in Kelvin:', fahr_to_kelvin(212.0))"
      ],
      "cell_type": "code",
      "execution_count": null,
      "outputs": [

      ],
      "metadata": {
        "attributes": {
          "classes": [
            "python"
          ],
          "id": ""
        }
      }
    },
    {
      "id": "cell-124",
      "source": "<p>This is our first taste of how larger programs are built: we define basic operations, then combine them in ever-larger chunks to get the effect we want. Real-life functions will usually be larger than the ones shown here — typically half a dozen to a few dozen lines — but they shouldn’t ever be much longer than that, or the next person who reads it won’t be able to understand what’s going on.</p>\n<h3 id=\"variable-scope\">Variable Scope</h3>\n<p>In composing our temperature conversion functions, we created variables inside of those functions, <code>temp</code>, <code>temp_c</code>, <code>temp_f</code>, and <code>temp_k</code>. We refer to these variables as local variables because they no longer exist once the function is done executing. If we try to access their values outside of the function, we will encounter an error:</p>\n",
      "cell_type": "markdown",
      "metadata": {
        "editable": false,
        "collapsed": false
      }
    },
    {
      "id": "cell-125",
      "source": [
        "print('Again, temperature in Kelvin was:', temp_k)"
      ],
      "cell_type": "code",
      "execution_count": null,
      "outputs": [

      ],
      "metadata": {
        "attributes": {
          "classes": [
            "python"
          ],
          "id": ""
        }
      }
    },
    {
      "id": "cell-126",
      "source": "<p>If you want to reuse the temperature in Kelvin after you have calculated it with fahr_to_kelvin, you can store the result of the function call in a variable:</p>\n",
      "cell_type": "markdown",
      "metadata": {
        "editable": false,
        "collapsed": false
      }
    },
    {
      "id": "cell-127",
      "source": [
        "temp_kelvin = fahr_to_kelvin(212.0)\n",
        "print('temperature in Kelvin was:', temp_kelvin)"
      ],
      "cell_type": "code",
      "execution_count": null,
      "outputs": [

      ],
      "metadata": {
        "attributes": {
          "classes": [
            "python"
          ],
          "id": ""
        }
      }
    },
    {
      "id": "cell-128",
      "source": "<h3 id=\"defining-default-parameters\">Defining Default parameters</h3>\n<p>If we usually want a function to work one way, but occasionally need it to do something else, we can allow people to pass a parameter when they need to but provide a default to make the normal case easier. The example below shows how Python matches values to parameters:</p>\n",
      "cell_type": "markdown",
      "metadata": {
        "editable": false,
        "collapsed": false
      }
    },
    {
      "id": "cell-129",
      "source": [
        "def display(a=1, b=2, c=3):\n",
        "print('a:', a, 'b:', b, 'c:', c)\n",
        "\n",
        "print('no parameters:')\n",
        "display()\n",
        "print('one parameter:')\n",
        "display(55)\n",
        "print('two parameters:')\n",
        "display(55, 66)"
      ],
      "cell_type": "code",
      "execution_count": null,
      "outputs": [

      ],
      "metadata": {
        "attributes": {
          "classes": [
            "python"
          ],
          "id": ""
        }
      }
    },
    {
      "id": "cell-130",
      "source": "<p>As this example shows, parameters are matched up from left to right, and any that haven’t been given a value explicitly get their default value. We can override this behavior by naming the value as we pass it in:</p>\n",
      "cell_type": "markdown",
      "metadata": {
        "editable": false,
        "collapsed": false
      }
    },
    {
      "id": "cell-131",
      "source": [
        "print('only setting the value of c')\n",
        "display(c=77)"
      ],
      "cell_type": "code",
      "execution_count": null,
      "outputs": [

      ],
      "metadata": {
        "attributes": {
          "classes": [
            "python"
          ],
          "id": ""
        }
      }
    },
    {
      "id": "cell-132",
      "source": "<blockquote class=\"question\" style=\"border: 2px solid #8A9AD0; margin: 1em 0.2em\">\n<h3 id=\"-icon-question--question-variable-scope\">❓ Question: Variable scope</h3>\n<p>What does the following piece of code display when run — and why?</p>\n<div class=\"language-plaintext highlighter-rouge\"><div><pre style=\"color: inherit; background: white\"><code>f = 0\nk = 0\n\ndef f2k(f):\n    k = ((f - 32) * (5.0 / 9.0)) + 273.15\nreturn k\n\nprint(f2k(8))\nprint(f2k(41))\nprint(f2k(32))\nprint(k)\n</code></pre></div>  </div>\n<blockquote class=\"solution\" style=\"border: 2px solid #B8C3EA;color: white; margin: 1em 0.2em\">\n<div style=\"color: #555; font-size: 95%;\">Hint: Select the text with your mouse to see the answer</div><h3 id=\"-icon-solution--solution\">👁 Solution</h3>\n<p>Output:\n259.81666666666666\n278.15\n273.15\n0</p>\n<p><code>k</code> is 0 because the <code>k</code> inside the function <code>f2k</code> doesn’t know about the <code>k</code> defined outside the function. When the <code>f2k</code> function is called, it creates a local variable <code>k</code>. The function does not return any values and does not alter <code>k</code> outside of its local copy. Therefore the original value of <code>k</code> remains unchanged.</p>\n</blockquote>\n</blockquote>\n<h2 id=\"libraries\">Libraries</h2>\n<p>A library is a collection of files (called modules) that contains functions for use by other programs. It may also contain data values (e.g., numerical constants) and other things. A library’s contents are supposed to be related, but there’s no way to enforce that. The Python standard library is an extensive suite of modules that comes with Python itself. Many additional libraries are available from PyPI (the Python Package Index).</p>\n<h3 id=\"libraries-and-modules\">Libraries and modules</h3>\n<p>A library is a collection of modules, but the terms are often used interchangeably, especially since many libraries only consist of a single module, so don’t worry if you mix them.</p>\n<h3 id=\"a-program-must-import-a-library-module-before-using-it\">A program must import a library module before using it.</h3>\n<p>You can use <code>import</code> to load a library module into a program’s memory, then refer to things from the <code>module as module_name.thing_name</code>. Python uses <code>.</code> to mean “part of”. For example, using <code>math</code>, one of the modules in the standard library:</p>\n",
      "cell_type": "markdown",
      "metadata": {
        "editable": false,
        "collapsed": false
      }
    },
    {
      "id": "cell-133",
      "source": [
        "import math\n",
        "\n",
        "print('pi is', math.pi)\n",
        "print('cos(pi) is', math.cos(math.pi))"
      ],
      "cell_type": "code",
      "execution_count": null,
      "outputs": [

      ],
      "metadata": {
        "attributes": {
          "classes": [
            "python"
          ],
          "id": ""
        }
      }
    },
    {
      "id": "cell-134",
      "source": "<p>You can use <code>help</code> to learn about the contents of a library module. it works just like help for a function.</p>\n",
      "cell_type": "markdown",
      "metadata": {
        "editable": false,
        "collapsed": false
      }
    },
    {
      "id": "cell-135",
      "source": [
        "help(math)"
      ],
      "cell_type": "code",
      "execution_count": null,
      "outputs": [

      ],
      "metadata": {
        "attributes": {
          "classes": [
            "python"
          ],
          "id": ""
        }
      }
    },
    {
      "id": "cell-136",
      "source": "<p>You can import specific items from a library module to shorten programs. You can use <code>from ... import ...</code> to load only specific items from a library module. Then refer to them directly without library name as prefix.</p>\n",
      "cell_type": "markdown",
      "metadata": {
        "editable": false,
        "collapsed": false
      }
    },
    {
      "id": "cell-137",
      "source": [
        "from math import cos, pi\n",
        "\n",
        "print('cos(pi) is', cos(pi))"
      ],
      "cell_type": "code",
      "execution_count": null,
      "outputs": [

      ],
      "metadata": {
        "attributes": {
          "classes": [
            "python"
          ],
          "id": ""
        }
      }
    },
    {
      "id": "cell-138",
      "source": "<p>You can create an alias for a library module when importing it to shorten programs. Use <code>import ... as ...</code> to give a library a short alias while importing it. Then refer to items in the library using that shortened name.</p>\n",
      "cell_type": "markdown",
      "metadata": {
        "editable": false,
        "collapsed": false
      }
    },
    {
      "id": "cell-139",
      "source": [
        "import math as m\n",
        "\n",
        "print('cos(pi) is', m.cos(m.pi))"
      ],
      "cell_type": "code",
      "execution_count": null,
      "outputs": [

      ],
      "metadata": {
        "attributes": {
          "classes": [
            "python"
          ],
          "id": ""
        }
      }
    },
    {
      "id": "cell-140",
      "source": "<h1 id=\"programming-style\">Programming style</h1>\n<p>A consistent coding style helps others (including our future selves) read and understand code more easily. Code is read much more often than it is written, and as the <a href=\"https://www.python.org/dev/peps/pep-0020/\">Zen of Python</a> states, “Readability counts”. Python proposed a standard style through one of its first Python Enhancement Proposals (PEP), <a href=\"https://www.python.org/dev/peps/pep-0008/\">PEP8</a>.</p>\n<p>Some points worth highlighting:</p>\n<ul>\n<li>document your code and ensure that assumptions, internal algorithms, expected inputs, expected outputs, etc., are clear</li>\n<li>use clear, semantically meaningful variable names</li>\n<li>use white-space, not tabs, to indent lines (tabs can cause problems across different text editors, operating systems, and version control systems)</li>\n</ul>\n<h1 id=\"python-community\">Python community</h1>\n<p>Python supports a large and diverse community across academia and industry.</p>\n<ul>\n<li>The <a href=\"https://docs.python.org/3/\">Python 3 documentation</a> covers the core language and the standard library.</li>\n<li><a href=\"https://pycon.org/\">PyCon</a> is the largest annual conference for the Python community.</li>\n<li><a href=\"https://scipy.org/\">SciPy</a> is a rich collection of scientific utilities. It is also the name of <a href=\"https://conference.scipy.org/\">a series of annual conferences</a>.</li>\n<li><a href=\"https://jupyter.org/\">Jupyter</a> is the home of Project Jupyter.</li>\n<li><a href=\"https://pandas.pydata.org/\">Pandas</a> is the home of the Pandas data library.</li>\n<li><a href=\"https://stackoverflow.com/questions/tagged/python?tab=Votes\">Stack Overflow’s</a> general Python section can be helpful, as well as the sections on <a href=\"https://stackoverflow.com/questions/tagged/numpy?tab=Votes\">NumPy</a>, <a href=\"https://stackoverflow.com/questions/tagged/scipy?tab=Votes\">SciPy</a>, and <a href=\"https://stackoverflow.com/questions/tagged/pandas?tab=Votes\">Pandas</a>.</li>\n</ul>\n",
      "cell_type": "markdown",
      "metadata": {
        "editable": false,
        "collapsed": false
      }
    },
    {
      "cell_type": "markdown",
      "id": "final-ending-cell",
      "metadata": {
        "editable": false,
        "collapsed": false
      },
      "source": [
        "# Key Points\n\n",
        "- Python is a fairly easy programming language to learn and use, but be mindful of the indexing.\n",
        "- Python has many libraries offering a variety of capabilities, which makes it popular for beginners, as well as, more experienced users\n",
        "\n# Congratulations on successfully completing this tutorial!\n\n",
        "Please [fill out the feedback on the GTN website](https://training.galaxyproject.org/training-material/topics/data-science/tutorials/python-basics/tutorial.html#feedback) and check there for further resources!\n"
      ]
    }
  ]
}