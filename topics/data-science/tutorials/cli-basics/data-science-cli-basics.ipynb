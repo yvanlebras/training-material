{
  "metadata": {
    "kernelspec": {
      "display_name": "Bash",
      "language": "bash",
      "name": "bash"
    },
    "language_info": {
      "codemirror_mode": "shell",
      "file_extension": ".sh",
      "mimetype": "text/x-sh",
      "name": "bash"
    }
  },
  "nbformat": 4,
  "nbformat_minor": 5,
  "cells": [
    {
      "id": "metadata",
      "cell_type": "markdown",
      "source": "<div style=\"border: 2px solid #8A9AD0; margin: 1em 0.2em; padding: 0.5em;\">\n\n# CLI basics\n\nby [The Carpentries](https://training.galaxyproject.org/hall-of-fame/carpentries/), [Helena Rasche](https://training.galaxyproject.org/hall-of-fame/hexylena/), [Bazante Sanders](https://training.galaxyproject.org/hall-of-fame/bazante1/), [Erasmus+ Programme](https://training.galaxyproject.org/hall-of-fame/erasmusplus/), [Avans Hogeschool](https://training.galaxyproject.org/hall-of-fame/avans-atgm/)\n\nCC-BY licensed content from the [Galaxy Training Network](https://training.galaxyproject.org/)\n\n**Objectives**\n\n- What is a command shell and why would I use one?\n- How can I move around on my computer?\n- How can I see what files and directories I have?\n- How can I specify the location of a file or directory on my computer?\n- How can I create, copy, and delete files and directories?\n- How can I edit files?\n\n**Objectives**\n\n- Explain how the shell relates to the keyboard, the screen, the operating system, and users' programs.\n- Explain when and why command-line interfaces should be used instead of graphical interfaces.\n- Explain the similarities and differences between a file and a directory.\n- Translate an absolute path into a relative path and vice versa.\n- Construct absolute and relative paths that identify specific files and directories.\n- Use options and arguments to change the behaviour of a shell command.\n- Demonstrate the use of tab completion and explain its advantages.\n- Create a directory hierarchy that matches a given diagram.\n- Create files in that hierarchy using an editor or by copying and renaming existing files.\n- Delete, copy and move specified files and/or directories.\n\n**Time Estimation: 1H**\n</div>\n",
      "metadata": {
        "editable": false,
        "collapsed": false
      }
    },
    {
      "id": "cell-0",
      "source": "<p>This tutorial will walk you through the basics of how to use the Unix command line.</p>\n<blockquote class=\"comment\" style=\"border: 2px solid #ffecc1; margin: 1em 0.2em\">\n<h3 id=\"-icon-comment--comment\">💬 Comment</h3>\n<p>This tutorial is <strong>significantly</strong> based on <a href=\"https://carpentries.org\">the Carpentries</a> <a href=\"https://swcarpentry.github.io/shell-novice/\">“The Unix Shell”</a> lesson, which is licensed CC-BY 4.0. Adaptations have been made to make this work better in a GTN/Galaxy environment.</p>\n</blockquote>\n<blockquote class=\"agenda\" style=\"border: 2px solid #86D486;display: none; margin: 1em 0.2em\">\n<h3 id=\"agenda\">Agenda</h3>\n<p>In this tutorial, we will cover:</p>\n<ol id=\"markdown-toc\">\n<li><a href=\"#background\" id=\"markdown-toc-background\">Background</a>    <ol>\n<li><a href=\"#setup\" id=\"markdown-toc-setup\">Setup</a></li>\n</ol>\n</li>\n</ol>\n</blockquote>\n<h1 id=\"background\">Background</h1>\n<p>Humans and computers commonly interact in many different ways, such as through a keyboard and mouse,\ntouch screen interfaces, or using speech recognition systems.\nThe most widely used way to interact with personal computers is called a\n<strong>graphical user interface</strong> (GUI).\nWith a GUI, we give instructions by clicking a mouse and using menu-driven interactions.</p>\n<p>While the visual aid of a GUI makes it intuitive to learn,\nthis way of delivering instructions to a computer scales very poorly.\nImagine the following task:\nfor a literature search, you have to copy the third line of one thousand text files in one thousand\ndifferent directories and paste it into a single file.\nUsing a GUI, you would not only be clicking at your desk for several hours,\nbut you could potentially also commit an error in the process of completing this repetitive task.\nThis is where we take advantage of the Unix shell.\nThe Unix shell is both a <strong>command-line interface</strong> (CLI) and a scripting language,\nallowing such repetitive tasks to be done automatically and fast.\nWith the proper commands, the shell can repeat tasks with or without some modification\nas many times as we want.\nUsing the shell, the task in the literature example can be accomplished in seconds.</p>\n<h2 id=\"setup\">Setup</h2>\n<p>Before we do anything, we’ll get you setup with some test data which can help\nguide your exploration of the CLI.</p>\n",
      "cell_type": "markdown",
      "metadata": {
        "editable": false,
        "collapsed": false
      }
    },
    {
      "id": "cell-1",
      "source": [
        "cd ~/\n",
        "mkdir -p Desktop/\n",
        "cd Desktop/\n",
        "wget -c https://github.com/swcarpentry/shell-novice/raw/2929ba2cbb1bcb5ff0d1b4100c6e58b96e155fd1/data/shell-lesson-data.zip\n",
        "unzip -u shell-lesson-data.zip"
      ],
      "cell_type": "code",
      "execution_count": null,
      "outputs": [

      ],
      "metadata": {
        "attributes": {
          "classes": [
            "bash"
          ],
          "id": ""
        }
      }
    },
    {
      "id": "cell-2",
      "source": "<h2 id=\"the-shell\">The Shell</h2>\n<p>The shell is a program where users can type commands.\nWith the shell, it’s possible to invoke complicated programs like climate modeling software\nor simple commands that create an empty directory with only one line of code.\nThe most popular Unix shell is Bash (the Bourne Again SHell —\nso-called because it’s derived from a shell written by Stephen Bourne).\nBash is the default shell on most modern implementations of Unix and in most packages that provide\nUnix-like tools for Windows.</p>\n<p>Using the shell will take some effort and some time to learn.\nWhile a GUI presents you with choices to select, CLI choices are not automatically presented to you,\nso you must learn a few commands like new vocabulary in a language you’re studying.\nHowever, unlike a spoken language, a small number of “words” (i.e. commands) gets you a long way,\nand we’ll cover those essential few today.</p>\n<p>The grammar of a shell allows you to combine existing tools into powerful\npipelines and handle large volumes of data automatically. Sequences of\ncommands can be written into a <em>script</em>, improving the reproducibility of\nworkflows.</p>\n<p>In addition, the command line is often the easiest way to interact with remote machines\nand supercomputers.\nFamiliarity with the shell is near essential to run a variety of specialized tools and resources\nincluding high-performance computing systems.\nAs clusters and cloud computing systems become more popular for scientific data crunching,\nbeing able to interact with the shell is becoming a necessary skill.\nWe can build on the command-line skills covered here\nto tackle a wide range of scientific questions and computational challenges.</p>\n<p>Let’s get started.</p>\n<p>When the shell is first opened, you are presented with a <strong>prompt</strong>,\nindicating that the shell is waiting for input.</p>\n<div class=\"language-plaintext highlighter-rouge\"><div><pre style=\"color: inherit; background: white\"><code>&#36;\n</code></pre></div></div>\n<p>The shell typically uses <code>&#36; </code> as the prompt, but may use a different symbol.\nIn the examples for this lesson, we will <strong>not</strong> include this prompt!</p>\n<p>Most importantly:\nwhen typing commands, either from these lessons or from other sources,\n<em>do not type the prompt</em>, only the commands that follow it.\nAlso note that after you type a command, you have to press the <kbd>Enter</kbd> key to execute it.</p>\n<p>The prompt is followed by a <strong>text cursor</strong>, a character that indicates the position where your\ntyping will appear.\nThe cursor is usually a flashing or solid block, but it can also be an underscore or a pipe.\nYou may have seen it in a text editor program, for example.</p>\n<p>So let’s try our first command, <code>ls</code> which is short for listing.</p>\n<blockquote class=\"hands_on\" style=\"border: 2px solid #dfe5f9; margin: 1em 0.2em\">\n<h3 id=\"-icon-hands_on--open-a-jupyter-terminal\">✏️ Open a Jupyter Terminal</h3>\n<p>This tutorial will let you accomplish almost everything from this view, running code in the cells below directly in the training material. You can choose between running the code here, or opening up a terminal tab in which to run it.</p>\n<p>Here are some instructions for how to do this on various environments.</p>\n<p><strong>Jupyter</strong> on UseGalaxy.* and <strong>MyBinder.org</strong></p>\n<ol>\n<li>\n<p>Use the File → New → Terminal menu to launch a terminal.</p>\n<p><img src=\"https://training.galaxyproject.org/training-material/topics/data-science/tutorials/cli-basics/../../images/carpentries-cli/mybinder-launch.png\" alt=\"screenshot of jupyterlab showing the File menu expanded to show new and terminal option.\" loading=\"lazy\" /></p>\n</li>\n<li>\n<p>Disable “Simple” mode in the bottom left hand corner, if it activated.</p>\n<p><img src=\"https://training.galaxyproject.org/training-material/topics/data-science/tutorials/cli-basics/../../images/carpentries-cli/mybinder-simple.png\" alt=\"screenshot of jupyterlab showing a toggle labelled simple. \" loading=\"lazy\" /></p>\n</li>\n<li>\n<p>Drag one of the terminal or notebook tabs to the side to have the training materials and terminal side-by-side</p>\n<p><img src=\"https://training.galaxyproject.org/training-material/topics/data-science/tutorials/cli-basics/../../images/carpentries-cli/mybinder-final.png\" alt=\"screenshot of jupyterlab with notebook and terminal side-by-side.\" loading=\"lazy\" /></p>\n</li>\n</ol>\n<p><strong>CoCalc</strong></p>\n<ol>\n<li>\n<p>Use the <em>Split View</em> functionality of cocalc to split your view into two portions.</p>\n<p><img src=\"https://training.galaxyproject.org/training-material/topics/data-science/tutorials/cli-basics/../../images/carpentries-cli/cocalc-split.png\" alt=\"screenshot of cocalc button to split views. \" loading=\"lazy\" /></p>\n</li>\n<li>\n<p>Change the view of one panel to a terminal</p>\n<p><img src=\"https://training.galaxyproject.org/training-material/topics/data-science/tutorials/cli-basics/../../images/carpentries-cli/cocalc-terminal.png\" alt=\"screenshot of cocalc swapping view port to that of a terminal. \" loading=\"lazy\" /></p>\n</li>\n</ol>\n</blockquote>\n<p>This command will list the contents of the current directory:</p>\n",
      "cell_type": "markdown",
      "metadata": {
        "editable": false,
        "collapsed": false
      }
    },
    {
      "id": "cell-3",
      "source": [
        "ls"
      ],
      "cell_type": "code",
      "execution_count": null,
      "outputs": [

      ],
      "metadata": {
        "attributes": {
          "classes": [
            "bash"
          ],
          "id": ""
        }
      }
    },
    {
      "id": "cell-4",
      "source": "<blockquote class=\"tip\" style=\"border: 2px solid #FFE19E; margin: 1em 0.2em\">\n<h3 id=\"-icon-tip--command-not-found\">💡 Command not found</h3>\n<p>If the shell can’t find a program whose name is the command you typed, it\nwill print an error message such as:</p>\n<blockquote class=\"code-in\" style=\"border: 2px solid #86D486; margin: 1em 0.2em\">\n<h3 id=\"-icon-code-in--input-bash\">⌨️ Input: Bash</h3>\n<div class=\"language-plaintext highlighter-rouge\"><div><pre style=\"color: inherit; background: white\"><code>&#36; ks\n</code></pre></div>    </div>\n</blockquote>\n<blockquote class=\"code-out\" style=\"border: 2px solid #fb99d0; margin: 1em 0.2em\">\n<h3 id=\"-icon-code-out--output\">🖥 Output</h3>\n<div class=\"language-plaintext highlighter-rouge\"><div><pre style=\"color: inherit; background: white\"><code>ks: command not found\n</code></pre></div>    </div>\n</blockquote>\n<p>This might happen if the command was mis-typed or if the program corresponding to that command\nis not installed.</p>\n</blockquote>\n<h2 id=\"nelles-pipeline-a-typical-problem\">Nelle’s Pipeline: A Typical Problem</h2>\n<p>Nelle Nemo, a marine biologist,\nhas just returned from a six-month survey of the\n<a href=\"http://en.wikipedia.org/wiki/North_Pacific_Gyre\">North Pacific Gyre</a>,\nwhere she has been sampling gelatinous marine life in the\n<a href=\"http://en.wikipedia.org/wiki/Great_Pacific_Garbage_Patch\">Great Pacific Garbage Patch</a>.\nShe has 1520 samples that she’s run through an assay machine to measure the relative abundance\nof 300 proteins.\nShe needs to run these 1520 files through an imaginary program called <code>goostats.sh</code> she inherited.\nOn top of this huge task, she has to write up results by the end of the month so her paper\ncan appear in a special issue of <em>Aquatic Goo Letters</em>.</p>\n<p>The bad news is that if she has to run <code>goostats.sh</code> by hand using a GUI,\nshe’ll have to select and open a file 1520 times.\nIf <code>goostats.sh</code> takes 30 seconds to run each file, the whole process will take more than 12 hours\nof Nelle’s attention.\nWith the shell, Nelle can instead assign her computer this mundane task while she focuses\nher attention on writing her paper.</p>\n<p>The next few lessons will explore the ways Nelle can achieve this.\nMore specifically,\nthey explain how she can use a command shell to run the <code>goostats.sh</code> program,\nusing loops to automate the repetitive steps of entering file names,\nso that her computer can work while she writes her paper.</p>\n<p>As a bonus,\nonce she has put a processing pipeline together,\nshe will be able to use it again whenever she collects more data.</p>\n<p>In order to achieve her task, Nelle needs to know how to:</p>\n<ul>\n<li>navigate to a file/directory</li>\n<li>create a file/directory</li>\n<li>check the length of a file</li>\n<li>chain commands together</li>\n<li>retrieve a set of files</li>\n<li>iterate over files</li>\n<li>run a shell script containing her pipeline</li>\n</ul>\n<h1 id=\"navigating-files-and-directories\">Navigating Files and Directories</h1>\n<p>The part of the operating system responsible for managing files and directories\nis called the <strong>file system</strong>.\nIt organizes our data into files,\nwhich hold information,\nand directories (also called ‘folders’),\nwhich hold files or other directories.</p>\n<p>Several commands are frequently used to create, inspect, rename, and delete files and directories.\nTo start exploring them, we’ll go to our open shell window.</p>\n<p>First, let’s find out where we are by running a command called <code>pwd</code>\n(which stands for ‘print working directory’). Directories are like <em>places</em>, at any time\nwhile we are using the shell, we are in exactly one place called\nour <strong>current working directory</strong>. Commands mostly read and write files in the\ncurrent working directory, i.e. ‘here’, so knowing where you are before running\na command is important. <code>pwd</code> shows you where you are:</p>\n",
      "cell_type": "markdown",
      "metadata": {
        "editable": false,
        "collapsed": false
      }
    },
    {
      "id": "cell-5",
      "source": [
        "pwd"
      ],
      "cell_type": "code",
      "execution_count": null,
      "outputs": [

      ],
      "metadata": {
        "attributes": {
          "classes": [
            "bash"
          ],
          "id": ""
        }
      }
    },
    {
      "id": "cell-6",
      "source": "<p>Try running it now.</p>\n<blockquote class=\"tip\" style=\"border: 2px solid #FFE19E; margin: 1em 0.2em\">\n<h3 id=\"-icon-tip--home-directory-variation\">💡 Home Directory Variation</h3>\n<p>The home directory path will look different on different operating systems.</p>\n<table>\n<thead>\n<tr>\n<th>Linux</th>\n<th>OSX</th>\n<th>Jupyter (UseGalaxy/Binder)</th>\n<th>CoCalc</th>\n</tr>\n</thead>\n<tbody>\n<tr>\n<td><code>/home/nelle</code></td>\n<td><code>/Users/nelle</code></td>\n<td><code>/home/joyvan</code></td>\n<td><code>/projects/<id>&lt;/code&gt;</id></code></td>\n</tr>\n</tbody>\n</table>\n<p>On Windows, it will be similar to <code>C:\\Documents and Settings\\nelle</code> or <code>C:\\Users\\nelle</code>.\n(Note that it may look slightly different for different versions of Windows.)\nIn future examples, we’ve used Mac output as the default - Linux and Windows\noutput may differ slightly but should be generally similar.</p>\n<p>We will also assume that your <code>pwd</code> command returns your user’s home directory.\nIf <code>pwd</code> returns something different, you may need to navigate there using <code>cd</code>\nor some commands in this lesson will not work as written.\nSee <a href=\"#exploring-other-directories\">Exploring Other Directories</a> for more details\non the <code>cd</code> command.</p>\n</blockquote>\n<p>To understand what a ‘home directory’ is,\nlet’s have a look at how the file system as a whole is organized.  For the\nsake of this example, we’ll be\nillustrating the filesystem on our scientist Nelle’s computer.  After this\nillustration, you’ll be learning commands to explore your own filesystem,\nwhich will be constructed in a similar way, but not be exactly identical.</p>\n<p>On Nelle’s computer, the filesystem looks like this:</p>\n<p><img src=\"https://training.galaxyproject.org/training-material/topics/data-science/tutorials/cli-basics/../../images/carpentries-cli/filesystem.svg\" alt=\"The file system is made up of a root directory that contains sub-directories titled bin, data, users, and tmp. \" loading=\"lazy\" /></p>\n<p>At the top is the <strong>root directory</strong>\nthat holds everything else.\nWe refer to it using a slash character, <code>/</code>, on its own;\nthis character is the leading slash in <code>/Users/nelle</code>.</p>\n<p>Inside that directory are several other directories:\n<code>bin</code> (which is where some built-in programs are stored),\n<code>data</code> (for miscellaneous data files),\n<code>Users</code> (where users’ personal directories are located),\n<code>tmp</code> (for temporary files that don’t need to be stored long-term),\nand so on.</p>\n<p>We know that our current working directory <code>/Users/nelle</code> is stored inside <code>/Users</code>\nbecause <code>/Users</code> is the first part of its name.\nSimilarly,\nwe know that <code>/Users</code> is stored inside the root directory <code>/</code>\nbecause its name begins with <code>/</code>.</p>\n<blockquote class=\"tip\" style=\"border: 2px solid #FFE19E; margin: 1em 0.2em\">\n<h2 id=\"slashes\">Slashes</h2>\n<p>Notice that there are two meanings for the <code>/</code> character.\nWhen it appears at the front of a file or directory name,\nit refers to the root directory. When it appears <em>inside</em> a path,\nit’s just a separator.</p>\n</blockquote>\n<p>Underneath <code>/Users</code>,\nwe find one directory for each user with an account on Nelle’s machine,\nher colleagues <em>imhotep</em> and <em>larry</em>.</p>\n<p><img src=\"https://training.galaxyproject.org/training-material/topics/data-science/tutorials/cli-basics/../../images/carpentries-cli/home-directories.svg\" alt=\"Like other directories, home directories are sub-directories underneath '/Users' like '/Users/imhotep', '/Users/larry' or '/Users/nelle'. \" loading=\"lazy\" /></p>\n<p>The user <em>imhotep</em>’s files are stored in <code>/Users/imhotep</code>,\nuser <em>larry</em>’s in <code>/Users/larry</code>,\nand Nelle’s in <code>/Users/nelle</code>.  Because Nelle is the user in our\nexamples here, therefore we get <code>/Users/nelle</code> as our home directory.\nTypically, when you open a new command prompt, you will be in\nyour home directory to start.</p>\n<p>Now let’s learn the command that will let us see the contents of our\nown filesystem.  We can see what’s in our home directory by running <code>ls</code>:</p>\n",
      "cell_type": "markdown",
      "metadata": {
        "editable": false,
        "collapsed": false
      }
    },
    {
      "id": "cell-7",
      "source": [
        "ls"
      ],
      "cell_type": "code",
      "execution_count": null,
      "outputs": [

      ],
      "metadata": {
        "attributes": {
          "classes": [
            "bash"
          ],
          "id": ""
        }
      }
    },
    {
      "id": "cell-8",
      "source": "<p><code class=\"language-plaintext highlighter-rouge\">ls</code> prints the names of the files and directories in the current directory.\nWe can make its output more comprehensible by using the <code>-F</code> <strong>option</strong>\n(also known as a <strong>switch</strong> or a <strong>flag</strong>),\nwhich tells <code>ls</code> to classify the output\nby adding a marker to file and directory names to indicate what they are:</p>\n<ul>\n<li>a trailing <code>/</code> indicates that this is a directory</li>\n<li><code>@</code> indicates a link</li>\n<li><code>*</code> indicates an executable</li>\n</ul>\n<p>Depending on your default options,\nthe shell might also use colors to indicate whether each entry is a file or\ndirectory.</p>\n",
      "cell_type": "markdown",
      "metadata": {
        "editable": false,
        "collapsed": false
      }
    },
    {
      "id": "cell-9",
      "source": [
        "ls -F"
      ],
      "cell_type": "code",
      "execution_count": null,
      "outputs": [

      ],
      "metadata": {
        "attributes": {
          "classes": [
            "bash"
          ],
          "id": ""
        }
      }
    },
    {
      "id": "cell-10",
      "source": "<p>Here,\nwe can see that our home directory contains only <strong>sub-directories</strong>.\nAny names in our output that don’t have a classification symbol\nare plain old <strong>files</strong>.</p>\n<blockquote class=\"tip\" style=\"border: 2px solid #FFE19E; margin: 1em 0.2em\">\n<h3 id=\"-icon-tip--real-terminal-tip-clearing-your-terminal\">💡 Real Terminal Tip: Clearing your terminal</h3>\n<p>If your screen gets too cluttered, you can clear your terminal using the\n<code>clear</code> command. You can still access previous commands using <kbd>↑</kbd>\nand <kbd>↓</kbd> to move line-by-line, or by scrolling in your terminal.</p>\n</blockquote>\n<h3 id=\"getting-help\">Getting help</h3>\n<p><code>ls</code> has lots of other <strong>options</strong>. There are two common ways to find out how\nto use a command and what options it accepts:</p>\n<ol>\n<li>We can pass a <code>--help</code> option to the command,</li>\n<li>We can read its manual with <code>man</code></li>\n</ol>\n<h4 id=\"the---help-option\">The <code>--help</code> option</h4>\n<p>Many bash commands, and programs that people have written that can be\nrun from within bash, support a <code>--help</code> option to display more\ninformation on how to use the command or program.</p>\n",
      "cell_type": "markdown",
      "metadata": {
        "editable": false,
        "collapsed": false
      }
    },
    {
      "id": "cell-11",
      "source": [
        "ls --help"
      ],
      "cell_type": "code",
      "execution_count": null,
      "outputs": [

      ],
      "metadata": {
        "attributes": {
          "classes": [
            "bash"
          ],
          "id": ""
        }
      }
    },
    {
      "id": "cell-12",
      "source": "<blockquote class=\"tip\" style=\"border: 2px solid #FFE19E; margin: 1em 0.2em\">\n<h3 id=\"-icon-tip--unsupported-command-line-options\">💡 Unsupported command-line options</h3>\n<p>If you try to use an option (flag) that is not supported, <code>ls</code> and other commands\nwill usually print an error message similar to:</p>\n<blockquote class=\"code-in\" style=\"border: 2px solid #86D486; margin: 1em 0.2em\">\n<h3 id=\"-icon-code-in--input-bash\">⌨️ Input: Bash</h3>\n<div class=\"language-plaintext highlighter-rouge\"><div><pre style=\"color: inherit; background: white\"><code>ls -j\n</code></pre></div>    </div>\n</blockquote>\n<blockquote class=\"code-out\" style=\"border: 2px solid #fb99d0; margin: 1em 0.2em\">\n<h3 id=\"-icon-code-out--output\">🖥 Output</h3>\n<div class=\"language-plaintext highlighter-rouge\"><div><pre style=\"color: inherit; background: white\"><code>ls: invalid option -- 'j'\nTry 'ls --help' for more information.\n</code></pre></div>    </div>\n</blockquote>\n</blockquote>\n<h4 id=\"the-man-command\">The <code>man</code> command</h4>\n<p>The other way to learn about <code>ls</code> is to type</p>\n<blockquote class=\"code-in\" style=\"border: 2px solid #86D486; margin: 1em 0.2em\">\n<h3 id=\"-icon-code-in--input-bash-1\">⌨️ Input: Bash</h3>\n<div class=\"language-plaintext highlighter-rouge\"><div><pre style=\"color: inherit; background: white\"><code>&#36; man ls\n</code></pre></div>  </div>\n</blockquote>\n<blockquote class=\"code-out\" style=\"border: 2px solid #fb99d0; margin: 1em 0.2em\">\n<h3 id=\"-icon-code-out--output-1\">🖥 Output</h3>\n<div class=\"language-plaintext highlighter-rouge\"><div><pre style=\"color: inherit; background: white\"><code>LS(1)                                                          User Commands                                                          LS(1)\n\nNAME\n       ls - list directory contents\n\nSYNOPSIS\n       ls [OPTION]... [FILE]...\n\nDESCRIPTION\n       List information about the FILEs (the current directory by default).  Sort entries alphabetically if none of -cftuvSUX nor --sort is\n       specified.\n\n       Mandatory arguments to long options are mandatory for short options too.\n\n       -a, --all\n              do not ignore entries starting with .\n\n       -A, --almost-all\n              do not list implied . and ..\n\n       --author\n              with -l, print the author of each file\n\n       -b, --escape\n              print C-style escapes for nongraphic characters\n\n       --block-size=SIZE\n              with -l, scale sizes by SIZE when printing them; e.g., '--block-size=M'; see SIZE format below\n\n       -B, --ignore-backups\n              do not list implied entries ending with ~\n\n       -c     with -lt: sort by, and show, ctime (time of last modification of file status information); with -l: show ctime  and  sort  by\n              name; otherwise: sort by ctime, newest first\n\n       -C     list entries by columns\n\n       --color[=WHEN]\n              colorize the output; WHEN can be 'always' (default if omitted), 'auto', or 'never'; more info below\n</code></pre></div>  </div>\n</blockquote>\n<p>This command will turn your terminal into a page with a description\nof the <code>ls</code> command and its options.</p>\n<p>To navigate through the <code>man</code> pages,\nyou may use <kbd>↑</kbd> and <kbd>↓</kbd> to move line-by-line,\nor try <kbd>B</kbd> and <kbd>Spacebar</kbd> to skip up and down by a full page.\nTo search for a character or word in the <code>man</code> pages,\nuse <kbd>/</kbd> followed by the character or word you are searching for.\nSometimes a search will result in multiple hits.\nIf so, you can move between hits using <kbd>N</kbd> (for moving forward) and\n<kbd>Shift</kbd>+<kbd>N</kbd> (for moving backward).</p>\n<p>To <strong>quit</strong> the <code>man</code> pages, press <kbd>Q</kbd>.</p>\n<blockquote class=\"tip\" style=\"border: 2px solid #FFE19E; margin: 1em 0.2em\">\n<h3 id=\"-icon-tip--manual-pages-on-the-web\">💡 Manual pages on the web</h3>\n<p>Of course, there is a third way to access help for commands:\nsearching the internet via your web browser.\nWhen using internet search, including the phrase <code>unix man page</code> in your search\nquery will help to find relevant results.</p>\n<p>GNU provides links to its\n<a href=\"http://www.gnu.org/manual/manual.html\">manuals</a> including the\n<a href=\"http://www.gnu.org/software/coreutils/manual/coreutils.html\">core GNU utilities</a>,\nwhich covers many commands introduced within this lesson.</p>\n</blockquote>\n<blockquote class=\"question\" style=\"border: 2px solid #8A9AD0; margin: 1em 0.2em\">\n<h3 id=\"-icon-question--exploring-more-ls-flags\">❓ Exploring More <code>ls</code> Flags</h3>\n<p>You can also use two options at the same time. What does the command <code>ls</code> do when used\nwith the <code>-l</code> option? What about if you use both the <code>-l</code> and the <code>-h</code> option?</p>\n<p>Some of its output is about properties that we do not cover in this lesson (such\nas file permissions and ownership), but the rest should be useful\nnevertheless.</p>\n<blockquote class=\"solution\" style=\"border: 2px solid #B8C3EA;color: white; margin: 1em 0.2em\">\n<div style=\"color: #555; font-size: 95%;\">Hint: Select the text with your mouse to see the answer</div><h3 id=\"-icon-solution--solution\">👁 Solution</h3>\n<p>The <code>-l</code> option makes <code>ls</code> use a <strong>l</strong>ong listing format, showing not only\nthe file/directory names but also additional information, such as the file size\nand the time of its last modification. If you use both the <code>-h</code> option and the <code>-l</code> option,\nthis makes the file size ‘<strong>h</strong>uman readable’, i.e. displaying something like <code>5.3K</code>\ninstead of <code>5369</code>.</p>\n</blockquote>\n</blockquote>\n<blockquote class=\"question\" style=\"border: 2px solid #8A9AD0; margin: 1em 0.2em\">\n<h3 id=\"-icon-question--listing-in-reverse-chronological-order\">❓ Listing in Reverse Chronological Order</h3>\n<p>By default, <code>ls</code> lists the contents of a directory in alphabetical\norder by name. The command <code>ls -t</code> lists items by time of last\nchange instead of alphabetically. The command <code>ls -r</code> lists the\ncontents of a directory in reverse order.\nWhich file is displayed last when you combine the <code>-t</code> and <code>-r</code> flags?\nHint: You may need to use the <code>-l</code> flag to see the\nlast changed dates.</p>\n<blockquote class=\"solution\" style=\"border: 2px solid #B8C3EA;color: white; margin: 1em 0.2em\">\n<h3 id=\"-icon-solution--solution-1\">👁 Solution</h3>\n<p>The most recently changed file is listed last when using <code>-rt</code>. This\ncan be very useful for finding your most recent edits or checking to\nsee if a new output file was written.</p>\n</blockquote>\n</blockquote>\n",
      "cell_type": "markdown",
      "metadata": {
        "editable": false,
        "collapsed": false
      }
    },
    {
      "id": "cell-13",
      "source": [
        "# Explore the possible solutions here!"
      ],
      "cell_type": "code",
      "execution_count": null,
      "outputs": [

      ],
      "metadata": {
        "attributes": {
          "classes": [
            "bash"
          ],
          "id": ""
        }
      }
    },
    {
      "id": "cell-14",
      "source": "<h3 id=\"exploring-other-directories\">Exploring Other Directories</h3>\n<p>Not only can we use <code>ls</code> on the current working directory,\nbut we can use it to list the contents of a different directory.\nLet’s take a look at our current directory by running <code>ls -F ~/</code>,\ni.e.,\nthe command <code>ls</code> with the <code>-F</code> <strong>option</strong> and the [<strong>argument</strong>][Arguments]  <code>/</code>.\nThe argument <code>~/</code> tells <code>ls</code> that\nwe want a listing of something other than our current working directory:</p>\n",
      "cell_type": "markdown",
      "metadata": {
        "editable": false,
        "collapsed": false
      }
    },
    {
      "id": "cell-15",
      "source": [
        "ls -F ~/"
      ],
      "cell_type": "code",
      "execution_count": null,
      "outputs": [

      ],
      "metadata": {
        "attributes": {
          "classes": [
            "bash"
          ],
          "id": ""
        }
      }
    },
    {
      "id": "cell-16",
      "source": "<p>As you may now see, using a bash shell is strongly dependent on the idea that\nyour files are organized in a hierarchical file system.\nOrganizing things hierarchically in this way helps us keep track of our work:\nit’s possible to put hundreds of files in our home directory,\njust as it’s possible to pile hundreds of printed papers on our desk,\nbut it’s a self-defeating strategy.</p>\n<p>Now that we know the <code>shell-lesson-data</code> directory is located in current working directory, we\ncan do two things.</p>\n<p>First, we can look at its contents, using the same strategy as before, passing\na directory name to <code>ls</code>:</p>\n",
      "cell_type": "markdown",
      "metadata": {
        "editable": false,
        "collapsed": false
      }
    },
    {
      "id": "cell-17",
      "source": [
        "ls -F shell-lesson-data"
      ],
      "cell_type": "code",
      "execution_count": null,
      "outputs": [

      ],
      "metadata": {
        "attributes": {
          "classes": [
            "bash"
          ],
          "id": ""
        }
      }
    },
    {
      "id": "cell-18",
      "source": "<p>Second, we can actually change our location to a different directory, so\nwe are no longer located in\nour home directory.</p>\n<p>The command to change locations is <code>cd</code> followed by a\ndirectory name to change our working directory.\n<code>cd</code> stands for ‘change directory’,\nwhich is a bit misleading:\nthe command doesn’t change the directory;\nit changes the shell’s idea of what directory we are in.\nThe <code>cd</code> command is akin to double clicking a folder in a graphical interface to get into a folder.</p>\n<p>Let’s say we want to move to the <code>data</code> directory we saw above. We can\nuse the following series of commands to get there:</p>\n",
      "cell_type": "markdown",
      "metadata": {
        "editable": false,
        "collapsed": false
      }
    },
    {
      "id": "cell-19",
      "source": [
        "cd shell-lesson-data"
      ],
      "cell_type": "code",
      "execution_count": null,
      "outputs": [

      ],
      "metadata": {
        "attributes": {
          "classes": [
            "bash"
          ],
          "id": ""
        }
      }
    },
    {
      "id": "cell-20",
      "source": "<p>These commands will move us into\nthe <code>shell-lesson-data</code> directory, then into the <code>data</code> directory.\nYou will notice that <code>cd</code> doesn’t print anything. This is normal.\nMany shell commands will not output anything to the screen when successfully executed.\nBut if we run <code>pwd</code> after it, we can see that we are now\nin <code>/Users/nelle/Desktop/shell-lesson-data/data</code>.\nIf we run <code>ls -F</code> without arguments now,\nit lists the contents of <code>/Users/nelle/Desktop/shell-lesson-data/data</code>,\nbecause that’s where we now are:</p>\n",
      "cell_type": "markdown",
      "metadata": {
        "editable": false,
        "collapsed": false
      }
    },
    {
      "id": "cell-21",
      "source": [
        "pwd"
      ],
      "cell_type": "code",
      "execution_count": null,
      "outputs": [

      ],
      "metadata": {
        "attributes": {
          "classes": [
            "bash"
          ],
          "id": ""
        }
      }
    },
    {
      "id": "cell-22",
      "source": "\n",
      "cell_type": "markdown",
      "metadata": {
        "editable": false,
        "collapsed": false
      }
    },
    {
      "id": "cell-23",
      "source": [
        "ls -F data/"
      ],
      "cell_type": "code",
      "execution_count": null,
      "outputs": [

      ],
      "metadata": {
        "attributes": {
          "classes": [
            "bash"
          ],
          "id": ""
        }
      }
    },
    {
      "id": "cell-24",
      "source": "<p>We now know how to go down the directory tree (i.e. how to go into a subdirectory),\nbut how do we go up (i.e. how do we leave a directory and go into its parent directory)?\nWe might try the following:</p>\n",
      "cell_type": "markdown",
      "metadata": {
        "editable": false,
        "collapsed": false
      }
    },
    {
      "id": "cell-25",
      "source": [
        "cd shell-lesson-data"
      ],
      "cell_type": "code",
      "execution_count": null,
      "outputs": [

      ],
      "metadata": {
        "attributes": {
          "classes": [
            "bash"
          ],
          "id": ""
        }
      }
    },
    {
      "id": "cell-26",
      "source": "<p>But we get an error! Why is this?</p>\n<p>With our methods so far,\n<code>cd</code> can only see sub-directories inside your current directory. There are\ndifferent ways to see directories above your current location; we’ll start\nwith the simplest.</p>\n<p>There is a shortcut in the shell to move up one directory level\nthat looks like this:</p>\n",
      "cell_type": "markdown",
      "metadata": {
        "editable": false,
        "collapsed": false
      }
    },
    {
      "id": "cell-27",
      "source": [
        "cd .."
      ],
      "cell_type": "code",
      "execution_count": null,
      "outputs": [

      ],
      "metadata": {
        "attributes": {
          "classes": [
            "bash"
          ],
          "id": ""
        }
      }
    },
    {
      "id": "cell-28",
      "source": "<p><code class=\"language-plaintext highlighter-rouge\">..</code> is a special directory name meaning\n“the directory containing this one”,\nor more succinctly,\nthe <strong>parent</strong> of the current directory.\nSure enough,\nif we run <code>pwd</code> after running <code>cd ..</code>, we’re back in <code>/Users/nelle/Desktop/shell-lesson-data</code>:</p>\n",
      "cell_type": "markdown",
      "metadata": {
        "editable": false,
        "collapsed": false
      }
    },
    {
      "id": "cell-29",
      "source": [
        "pwd"
      ],
      "cell_type": "code",
      "execution_count": null,
      "outputs": [

      ],
      "metadata": {
        "attributes": {
          "classes": [
            "bash"
          ],
          "id": ""
        }
      }
    },
    {
      "id": "cell-30",
      "source": "<p>The special directory <code>..</code> doesn’t usually show up when we run <code>ls</code>. If we want\nto display it, we can add the <code>-a</code> option to <code>ls -F</code>:</p>\n",
      "cell_type": "markdown",
      "metadata": {
        "editable": false,
        "collapsed": false
      }
    },
    {
      "id": "cell-31",
      "source": [
        "ls -F -a"
      ],
      "cell_type": "code",
      "execution_count": null,
      "outputs": [

      ],
      "metadata": {
        "attributes": {
          "classes": [
            "bash"
          ],
          "id": ""
        }
      }
    },
    {
      "id": "cell-32",
      "source": "<p><code class=\"language-plaintext highlighter-rouge\">-a</code> stands for ‘show all’;\nit forces <code>ls</code> to show us file and directory names that begin with <code>.</code>,\nsuch as <code>..</code> (which, if we’re in <code>/Users/nelle</code>, refers to the <code>/Users</code> directory).\nAs you can see,\nit also displays another special directory that’s just called <code>.</code>,\nwhich means ‘the current working directory’.\nIt may seem redundant to have a name for it,\nbut we’ll see some uses for it soon.</p>\n<p>Note that in most command line tools, multiple options can be combined\nwith a single <code>-</code> and no spaces between the options: <code>ls -F -a</code> is\nequivalent to <code>ls -Fa</code>.</p>\n<blockquote class=\"tip\" style=\"border: 2px solid #FFE19E; margin: 1em 0.2em\">\n<h3 id=\"-icon-tip--other-hidden-files\">💡 Other Hidden Files</h3>\n<p>In addition to the hidden directories <code>..</code> and <code>.</code>, you may also see a file\ncalled <code>.bash_profile</code>. This file usually contains shell configuration\nsettings. You may also see other files and directories beginning\nwith <code>.</code>. These are usually files and directories that are used to configure\ndifferent programs on your computer. The prefix <code>.</code> is used to prevent these\nconfiguration files from cluttering the terminal when a standard <code>ls</code> command\nis used.</p>\n</blockquote>\n<p>These three commands are the basic commands for navigating the filesystem on your computer:\n<code class=\"language-plaintext highlighter-rouge\">pwd</code>, <code>ls</code>, and <code>cd</code>. Let’s explore some variations on those commands. What happens\nif you type <code>cd</code> on its own, without giving\na directory?</p>\n",
      "cell_type": "markdown",
      "metadata": {
        "editable": false,
        "collapsed": false
      }
    },
    {
      "id": "cell-33",
      "source": [
        "cd"
      ],
      "cell_type": "code",
      "execution_count": null,
      "outputs": [

      ],
      "metadata": {
        "attributes": {
          "classes": [
            "bash"
          ],
          "id": ""
        }
      }
    },
    {
      "id": "cell-34",
      "source": "<p>How can you check what happened? <code>pwd</code> gives us the answer!</p>\n",
      "cell_type": "markdown",
      "metadata": {
        "editable": false,
        "collapsed": false
      }
    },
    {
      "id": "cell-35",
      "source": [
        "pwd"
      ],
      "cell_type": "code",
      "execution_count": null,
      "outputs": [

      ],
      "metadata": {
        "attributes": {
          "classes": [
            "bash"
          ],
          "id": ""
        }
      }
    },
    {
      "id": "cell-36",
      "source": "<p>It turns out that <code>cd</code> without an argument will return you to your home directory,\nwhich is great if you’ve gotten lost in your own filesystem.</p>\n<p>Let’s try returning to the <code>data</code> directory from before. Last time, we used\nthree commands, but we can actually string together the list of directories\nto move to <code>data</code> in one step:</p>\n",
      "cell_type": "markdown",
      "metadata": {
        "editable": false,
        "collapsed": false
      }
    },
    {
      "id": "cell-37",
      "source": [
        "cd ~/Desktop/shell-lesson-data/data"
      ],
      "cell_type": "code",
      "execution_count": null,
      "outputs": [

      ],
      "metadata": {
        "attributes": {
          "classes": [
            "bash"
          ],
          "id": ""
        }
      }
    },
    {
      "id": "cell-38",
      "source": "<p>Check that we’ve moved to the right place by running <code>pwd</code> and <code>ls -F</code>.</p>\n<p>If we want to move up one level from the data directory, we could use <code>cd ..</code>.  But\nthere is another way to move to any directory, regardless of your\ncurrent location.</p>\n<p>So far, when specifying directory names, or even a directory path (as above),\nwe have been using <strong>relative paths</strong>.  When you use a relative path with a command\nlike <code>ls</code> or <code>cd</code>, it tries to find that location from where we are,\nrather than from the root of the file system.</p>\n<p>However, it is possible to specify the <strong>absolute path</strong> to a directory by\nincluding its entire path from the root directory, which is indicated by a\nleading slash. The leading <code>/</code> tells the computer to follow the path from\nthe root of the file system, so it always refers to exactly one directory,\nno matter where we are when we run the command.</p>\n<p>This allows us to move to our <code>shell-lesson-data</code> directory from anywhere on\nthe filesystem (including from inside <code>data</code>). To find the absolute path\nwe’re looking for, we can use <code>pwd</code> and then extract the piece we need\nto move to <code>shell-lesson-data</code>.</p>\n<blockquote class=\"code-in\" style=\"border: 2px solid #86D486; margin: 1em 0.2em\">\n<h3 id=\"-icon-code-in--input-bash\">⌨️ Input: Bash</h3>\n<div class=\"language-plaintext highlighter-rouge\"><div><pre style=\"color: inherit; background: white\"><code>&#36; pwd\n</code></pre></div>  </div>\n</blockquote>\n<blockquote class=\"code-out\" style=\"border: 2px solid #fb99d0; margin: 1em 0.2em\">\n<h3 id=\"-icon-code-out--output\">🖥 Output</h3>\n<div class=\"language-bash highlighter-rouge\"><div><pre style=\"color: inherit; background: white\"><code>/Users/nelle/\n</code></pre></div>  </div>\n</blockquote>\n<p>Then we could run something like:</p>\n<div class=\"language-plaintext highlighter-rouge\"><div><pre style=\"color: inherit; background: white\"><code>&#36; cd /Users/nelle/shell-lesson-data\n</code></pre></div></div>\n<p>Run <code>pwd</code> and <code>ls -F</code> to ensure that we’re in the directory we expect. If we’re not, edit the command block below to make sure we’re in the correct location (<code class=\"language-plaintext highlighter-rouge\">~/Desktop/shell-lesson-data/</code>)</p>\n<div class=\"language-plaintext highlighter-rouge\"><div><pre style=\"color: inherit; background: white\"><code>pwd\nls -F\n</code></pre></div></div>\n<blockquote class=\"tip\" style=\"border: 2px solid #FFE19E; margin: 1em 0.2em\">\n<h3 id=\"-icon-tip--two-more-shortcuts\">💡 Two More Shortcuts</h3>\n<p>The shell interprets a tilde (<code class=\"language-plaintext highlighter-rouge\">~</code>) character at the start of a path to\nmean “the current user’s home directory”. For example, if Nelle’s home\ndirectory is <code>/Users/nelle</code>, then <code>~/data</code> is equivalent to\n<code>/Users/nelle/data</code>. This only works if it is the first character in the\npath: <code>here/there/~/elsewhere</code> is <em>not</em> <code>here/there/Users/nelle/elsewhere</code>.</p>\n<p>Another shortcut is the <code>-</code> (dash) character. <code>cd</code> will translate <code>-</code> into\n<em>the previous directory I was in</em>, which is faster than having to remember,\nthen type, the full path.  This is a <em>very</em> efficient way of moving\n<em>back and forth between two directories</em> – i.e. if you execute <code>cd -</code> twice,\nyou end up back in the starting directory.</p>\n<p>The difference between <code>cd ..</code> and <code>cd -</code> is\nthat the former brings you <em>up</em>, while the latter brings you <em>back</em>.</p>\n<hr />\n<p>Try it out below!</p>\n</blockquote>\n<p>First navigate to <code>~/Desktop/shell-lesson-data</code> (you should already be there).</p>\n",
      "cell_type": "markdown",
      "metadata": {
        "editable": false,
        "collapsed": false
      }
    },
    {
      "id": "cell-39",
      "source": [
        "cd ~/Desktop/shell-lesson-data"
      ],
      "cell_type": "code",
      "execution_count": null,
      "outputs": [

      ],
      "metadata": {
        "attributes": {
          "classes": [
            "bash"
          ],
          "id": ""
        }
      }
    },
    {
      "id": "cell-40",
      "source": "<p>Then <code>cd</code> into the <code>creatures</code> directory</p>\n",
      "cell_type": "markdown",
      "metadata": {
        "editable": false,
        "collapsed": false
      }
    },
    {
      "id": "cell-41",
      "source": [
        "cd creatures"
      ],
      "cell_type": "code",
      "execution_count": null,
      "outputs": [

      ],
      "metadata": {
        "attributes": {
          "classes": [
            "bash"
          ],
          "id": ""
        }
      }
    },
    {
      "id": "cell-42",
      "source": "<p>Now if you run</p>\n",
      "cell_type": "markdown",
      "metadata": {
        "editable": false,
        "collapsed": false
      }
    },
    {
      "id": "cell-43",
      "source": [
        "cd -"
      ],
      "cell_type": "code",
      "execution_count": null,
      "outputs": [

      ],
      "metadata": {
        "attributes": {
          "classes": [
            "bash"
          ],
          "id": ""
        }
      }
    },
    {
      "id": "cell-44",
      "source": "<p>you’ll see you’re back in <code>~/Desktop/shell-lesson-data</code>.\nRun <code>cd -</code> again and you’re back in <code>~/Desktop/shell-lesson-data/creatures</code></p>\n<blockquote class=\"question\" style=\"border: 2px solid #8A9AD0; margin: 1em 0.2em\">\n<h3 id=\"-icon-question--absolute-vs-relative-paths\">❓ Absolute vs Relative Paths</h3>\n<p>Starting from <code>/Users/amanda/data</code>,\nwhich of the following commands could Amanda use to navigate to her home directory,\nwhich is <code>/Users/amanda</code>?</p>\n<ol>\n<li><code>cd .</code></li>\n<li><code>cd /</code></li>\n<li><code>cd /home/amanda</code></li>\n<li><code>cd ../..</code></li>\n<li><code>cd ~</code></li>\n<li><code>cd home</code></li>\n<li><code>cd ~/data/..</code></li>\n<li><code>cd</code></li>\n<li><code>cd ..</code></li>\n</ol>\n<blockquote class=\"solution\" style=\"border: 2px solid #B8C3EA;color: white; margin: 1em 0.2em\">\n<h3 id=\"-icon-question--solution\">❓ Solution</h3>\n<ol>\n<li>No: <code>.</code> stands for the current directory.</li>\n<li>No: <code>/</code> stands for the root directory.</li>\n<li>No: Amanda’s home directory is <code>/Users/amanda</code>.</li>\n<li>No: this command goes up two levels, i.e. ends in <code>/Users</code>.</li>\n<li>Yes: <code>~</code> stands for the user’s home directory, in this case <code>/Users/amanda</code>.</li>\n<li>No: this command would navigate into a directory <code>home</code> in the current directory, if it exists.</li>\n<li>Yes: unnecessarily complicated, but correct.</li>\n<li>Yes: shortcut to go back to the user’s home directory.</li>\n<li>Yes: goes up one level.</li>\n</ol>\n</blockquote>\n</blockquote>\n<blockquote class=\"question\" style=\"border: 2px solid #8A9AD0; margin: 1em 0.2em\">\n<h3 id=\"-icon-question--relative-path-resolution\">❓ Relative Path Resolution</h3>\n<p>Using the filesystem diagram below, if <code>pwd</code> displays <code>/Users/thing</code>,\nwhat will <code>ls -F ../backup</code> display?</p>\n<ol>\n<li><code>../backup: No such file or directory</code></li>\n<li><code>2012-12-01 2013-01-08 2013-01-27</code></li>\n<li><code>2012-12-01/ 2013-01-08/ 2013-01-27/</code></li>\n<li><code>original/ pnas_final/ pnas_sub/</code></li>\n</ol>\n<p><img src=\"https://training.galaxyproject.org/training-material/topics/data-science/tutorials/cli-basics/../../images/carpentries-cli/filesystem-challenge.svg\" alt=\"A directory tree below the Users directory where '/Users' contains the directories 'backup' and 'thing'; '/Users/backup' contains 'original', 'pnas_final' and 'pnas_sub'; '/Users/thing' contains 'backup'; and '/Users/thing/backup' contains '2012-12-01', '2013-01-08' and '2013-01-27'. \" loading=\"lazy\" /></p>\n<blockquote class=\"solution\" style=\"border: 2px solid #B8C3EA;color: white; margin: 1em 0.2em\">\n<div style=\"color: #555; font-size: 95%;\">Hint: Select the text with your mouse to see the answer</div><h3 id=\"-icon-solution--solution\">👁 Solution</h3>\n<ol>\n<li>No: there <em>is</em> a directory <code>backup</code> in <code>/Users</code>.</li>\n<li>No: this is the content of <code>Users/thing/backup</code>, but with <code>..</code>, we asked for one level further up.</li>\n<li>No: see previous explanation.</li>\n<li>Yes: <code>../backup/</code> refers to <code>/Users/backup/</code>.</li>\n</ol>\n</blockquote>\n</blockquote>\n<blockquote class=\"question\" style=\"border: 2px solid #8A9AD0; margin: 1em 0.2em\">\n<h3 id=\"-icon-question--ls-reading-comprehension\">❓ <code>ls</code> Reading Comprehension</h3>\n<p>Using the filesystem diagram below,\nif <code>pwd</code> displays <code>/Users/backup</code>,\nand <code>-r</code> tells <code>ls</code> to display things in reverse order,\nwhat command(s) will result in the following output:</p>\n<div class=\"language-plaintext output highlighter-rouge\"><div><pre style=\"color: inherit; background: white\"><code>pnas_sub/ pnas_final/ original/\n</code></pre></div>  </div>\n<p><img src=\"https://training.galaxyproject.org/training-material/topics/data-science/tutorials/cli-basics/../../images/carpentries-cli/filesystem-challenge.svg\" alt=\"A directory tree below the Users directory where '/Users' contains the directories 'backup' and 'thing'; '/Users/backup' contains 'original', 'pnas_final' and 'pnas_sub'; '/Users/thing' contains 'backup'; and'/Users/thing/backup' contains '2012-12-01', '2013-01-08' and '2013-01-27'. \" loading=\"lazy\" /></p>\n<ol>\n<li><code>ls pwd</code></li>\n<li><code>ls -r -F</code></li>\n<li><code>ls -r -F /Users/backup</code></li>\n</ol>\n<blockquote class=\"solution\" style=\"border: 2px solid #B8C3EA;color: white; margin: 1em 0.2em\">\n<h3 id=\"-icon-solution--solution-1\">👁 Solution</h3>\n<ol>\n<li>No: <code>pwd</code> is not the name of a directory.</li>\n<li>Yes: <code>ls</code> without directory argument lists files and directories in the current directory.</li>\n<li>Yes: uses the absolute path explicitly.</li>\n</ol>\n</blockquote>\n</blockquote>\n<h2 id=\"general-syntax-of-a-shell-command\">General Syntax of a Shell Command</h2>\n<p>We have now encountered commands, options, and arguments,\nbut it is perhaps useful to formalise some terminology.</p>\n<p>Consider the command below as a general example of a command,\nwhich we will dissect into its component parts:</p>\n<div class=\"language-plaintext highlighter-rouge\"><div><pre style=\"color: inherit; background: white\"><code>&#36; ls -F ~/Desktop/shell-lesson-data/\n</code></pre></div></div>\n<p><code>ls</code> is the <strong>command</strong>, with an <strong>option</strong> <code>-F</code> and an\n<strong>argument</strong> <code>/</code>.\nWe’ve already encountered options (also called <strong>switches</strong> or <strong>flags</strong>) which\neither start with a single dash (<code class=\"language-plaintext highlighter-rouge\">-</code>) or two dashes (<code class=\"language-plaintext highlighter-rouge\">--</code>),\nand they change the behavior of a command.\n[Arguments] tell the command what to operate on (e.g. files and directories).\nSometimes options and arguments are referred to as <strong>parameters</strong>.\nA command can be called with more than one option and more than one argument, but a\ncommand doesn’t always require an argument or an option.</p>\n<p>Each part is separated by spaces: if you omit the space\nbetween <code>ls</code> and <code>-F</code> the shell will look for a command called <code>ls-F</code>, which\ndoesn’t exist. Also, capitalization can be important.\nFor example, <code>ls -s</code> will display the size of files and directories alongside the names,\nwhile <code>ls -S</code> will sort the files and directories by size, as shown below:</p>\n<div class=\"language-plaintext highlighter-rouge\"><div><pre style=\"color: inherit; background: white\"><code>&#36; ls -s Desktop/shell-lesson-data/data\ntotal 116\n4 amino-acids.txt   4 animals.txt   4 morse.txt  12 planets.txt  76 sunspot.txt\n4 animal-counts     4 elements      4 pdb         4 salmon.txt\n&#36; ls -S Desktop/shell-lesson-data/data\nsunspot.txt  animal-counts  pdb        amino-acids.txt  salmon.txt\nplanets.txt  elements       morse.txt  animals.txt\n</code></pre></div></div>\n<p>Putting all that together, our command above gives us a listing\nof files and directories in our shell-lesson-data folder.</p>\n<h3 id=\"nelles-pipeline-organizing-files\">Nelle’s Pipeline: Organizing Files</h3>\n<p>Knowing this much about files and directories,\nNelle is ready to organize the files that the protein assay machine will create.\nFirst,\nshe creates a directory called <code>north-pacific-gyre</code>\n(to remind herself where the data came from).\nInside that,\nshe creates a directory called <code>2012-07-03</code>,\nwhich is the date she started processing the samples.\nShe used to use names like <code>conference-paper</code> and <code>revised-results</code>,\nbut she found them hard to understand after a couple of years.\n(The final straw was when she found herself creating\na directory called <code>revised-revised-results-3</code>.)</p>\n<blockquote class=\"tip\" style=\"border: 2px solid #FFE19E; margin: 1em 0.2em\">\n<h3 id=\"-icon-tip--sorting-output\">💡 Sorting Output</h3>\n<p>Nelle names her directories ‘year-month-day’,\nwith leading zeroes for months and days,\nbecause the shell displays file and directory names in alphabetical order.\nIf she used month names,\nDecember would come before July;\nif she didn’t use leading zeroes,\nNovember (‘11’) would come before July (‘7’). Similarly, putting the year first\nmeans that June 2012 will come before June 2013.</p>\n</blockquote>\n<p>Each of her physical samples is labelled according to her lab’s convention\nwith a unique ten-character ID,\nsuch as ‘NENE01729A’.\nThis ID is what she used in her collection log\nto record the location, time, depth, and other characteristics of the sample,\nso she decides to use it as part of each data file’s name.\nSince the assay machine’s output is plain text,\nshe will call her files <code>NENE01729A.txt</code>, <code>NENE01812A.txt</code>, and so on.\nAll 1520 files will go into the same directory.</p>\n<p>Now in her current directory <code>shell-lesson-data</code>,\nNelle can see what files she has using the command:</p>\n",
      "cell_type": "markdown",
      "metadata": {
        "editable": false,
        "collapsed": false
      }
    },
    {
      "id": "cell-45",
      "source": [
        "ls north-pacific-gyre/2012-07-03/"
      ],
      "cell_type": "code",
      "execution_count": null,
      "outputs": [

      ],
      "metadata": {
        "attributes": {
          "classes": [
            "bash"
          ],
          "id": ""
        }
      }
    },
    {
      "id": "cell-46",
      "source": "<p>This command is a lot to type,\nbut she can let the shell do most of the work through what is called <strong>tab completion</strong>.\nIf she types:</p>\n",
      "cell_type": "markdown",
      "metadata": {
        "editable": false,
        "collapsed": false
      }
    },
    {
      "id": "cell-47",
      "source": [
        "ls nor"
      ],
      "cell_type": "code",
      "execution_count": null,
      "outputs": [

      ],
      "metadata": {
        "attributes": {
          "classes": [
            "bash"
          ],
          "id": ""
        }
      }
    },
    {
      "id": "cell-48",
      "source": "<p>and then presses <kbd>Tab</kbd> (the tab key on her keyboard),\nthe shell automatically completes the directory name for her:</p>\n<div class=\"language-bash highlighter-rouge\"><div><pre style=\"color: inherit; background: white\"><code><span class=\"nv\">&#36; </span><span class=\"nb\">ls </span>north-pacific-gyre/\n</code></pre></div></div>\n<p>If she presses <kbd>Tab</kbd> again,\nBash will add <code>2012-07-03/</code> to the command,\nsince it’s the only possible completion.\nPressing <kbd>Tab</kbd> again does nothing,\nsince there are 19 possibilities;\npressing <kbd>Tab</kbd> twice brings up a list of all the files,\nand so on.\nThis is called <strong>tab completion</strong>,\nand we will see it in many other tools as we go on.</p>\n<h1 id=\"working-with-files-and-directories\">Working with Files and Directories</h1>\n<p>We now know how to explore files and directories,\nbut how do we create them in the first place?</p>\n<h2 id=\"step-one-see-where-we-are-and-what-we-already-have\">Step one: see where we are and what we already have</h2>\n<p>Let’s go back to our <code>shell-lesson-data</code> directory on the Desktop\nand use <code>ls -F</code> to see what it contains:</p>\n",
      "cell_type": "markdown",
      "metadata": {
        "editable": false,
        "collapsed": false
      }
    },
    {
      "id": "cell-49",
      "source": [
        "pwd"
      ],
      "cell_type": "code",
      "execution_count": null,
      "outputs": [

      ],
      "metadata": {
        "attributes": {
          "classes": [
            "bash"
          ],
          "id": ""
        }
      }
    },
    {
      "id": "cell-50",
      "source": "\n",
      "cell_type": "markdown",
      "metadata": {
        "editable": false,
        "collapsed": false
      }
    },
    {
      "id": "cell-51",
      "source": [
        "ls -F"
      ],
      "cell_type": "code",
      "execution_count": null,
      "outputs": [

      ],
      "metadata": {
        "attributes": {
          "classes": [
            "bash"
          ],
          "id": ""
        }
      }
    },
    {
      "id": "cell-52",
      "source": "<p>You should see folders like the following, if not, you’re in the wrong place!</p>\n<div class=\"language-plaintext highlighter-rouge\"><div><pre style=\"color: inherit; background: white\"><code>creatures/  data/  molecules/  north-pacific-gyre/  notes.txt  pizza.cfg  solar.pdf  writing/\n</code></pre></div></div>\n<h2 id=\"create-a-directory\">Create a directory</h2>\n<p>Let’s create a new directory called <code>thesis</code> using the command <code>mkdir thesis</code>\n(which has no output):</p>\n",
      "cell_type": "markdown",
      "metadata": {
        "editable": false,
        "collapsed": false
      }
    },
    {
      "id": "cell-53",
      "source": [
        "mkdir thesis"
      ],
      "cell_type": "code",
      "execution_count": null,
      "outputs": [

      ],
      "metadata": {
        "attributes": {
          "classes": [
            "bash"
          ],
          "id": ""
        }
      }
    },
    {
      "id": "cell-54",
      "source": "<p>As you might guess from its name,\n<code>mkdir</code> means ‘make directory’.\nSince <code>thesis</code> is a relative path\n(i.e., does not have a leading slash, like <code>/what/ever/thesis</code>),\nthe new directory is created in the current working directory:</p>\n",
      "cell_type": "markdown",
      "metadata": {
        "editable": false,
        "collapsed": false
      }
    },
    {
      "id": "cell-55",
      "source": [
        "ls -F"
      ],
      "cell_type": "code",
      "execution_count": null,
      "outputs": [

      ],
      "metadata": {
        "attributes": {
          "classes": [
            "bash"
          ],
          "id": ""
        }
      }
    },
    {
      "id": "cell-56",
      "source": "<p>Since we’ve just created the <code>thesis</code> directory, there’s nothing in it yet:</p>\n",
      "cell_type": "markdown",
      "metadata": {
        "editable": false,
        "collapsed": false
      }
    },
    {
      "id": "cell-57",
      "source": [
        "ls -F thesis"
      ],
      "cell_type": "code",
      "execution_count": null,
      "outputs": [

      ],
      "metadata": {
        "attributes": {
          "classes": [
            "bash"
          ],
          "id": ""
        }
      }
    },
    {
      "id": "cell-58",
      "source": "<p>Note that <code>mkdir</code> is not limited to creating single directories one at a time.\nThe <code>-p</code> option allows <code>mkdir</code> to create a directory with nested subdirectories\nin a single operation:</p>\n",
      "cell_type": "markdown",
      "metadata": {
        "editable": false,
        "collapsed": false
      }
    },
    {
      "id": "cell-59",
      "source": [
        "mkdir -p project/data project/results"
      ],
      "cell_type": "code",
      "execution_count": null,
      "outputs": [

      ],
      "metadata": {
        "attributes": {
          "classes": [
            "bash"
          ],
          "id": ""
        }
      }
    },
    {
      "id": "cell-60",
      "source": "<p>The <code>-R</code> option to the <code>ls</code> command will list all nested subdirectories within a directory.\nLet’s use <code>ls -FR</code> to recursively list the new directory hierarchy we just created in the\n<code>project</code> directory:</p>\n",
      "cell_type": "markdown",
      "metadata": {
        "editable": false,
        "collapsed": false
      }
    },
    {
      "id": "cell-61",
      "source": [
        "ls -FR project"
      ],
      "cell_type": "code",
      "execution_count": null,
      "outputs": [

      ],
      "metadata": {
        "attributes": {
          "classes": [
            "bash"
          ],
          "id": ""
        }
      }
    },
    {
      "id": "cell-62",
      "source": "<p>It should look like:</p>\n<div class=\"language-plaintext highlighter-rouge\"><div><pre style=\"color: inherit; background: white\"><code>project/:\ndata/  results/\n\nproject/data:\n\nproject/results:\n</code></pre></div></div>\n<blockquote class=\"tip\" style=\"border: 2px solid #FFE19E; margin: 1em 0.2em\">\n<h3 id=\"-icon-tip--two-ways-of-doing-the-same-thing\">💡 Two ways of doing the same thing</h3>\n<p>Using the shell to create a directory is no different than using a file explorer.\nIf you open the current directory using your operating system’s graphical file explorer,\nthe <code>thesis</code> directory will appear there too.\nWhile the shell and the file explorer are two different ways of interacting with the files,\nthe files and directories themselves are the same.</p>\n</blockquote>\n<blockquote class=\"tip\" style=\"border: 2px solid #FFE19E; margin: 1em 0.2em\">\n<h3 id=\"-icon-tip--good-names-for-files-and-directories\">💡 Good names for files and directories</h3>\n<p>Complicated names of files and directories can make your life painful\nwhen working on the command line. Here we provide a few useful\ntips for the names of your files and directories.</p>\n<ol>\n<li>\n<p>Don’t use spaces.</p>\n<p>Spaces can make a name more meaningful,\nbut since spaces are used to separate arguments on the command line\nit is better to avoid them in names of files and directories.\nYou can use <code>-</code> or <code>_</code> instead (e.g. <code>north-pacific-gyre/</code> rather than <code>north pacific gyre/</code>).\nTo test this out, try typing <code>mkdir north pacific gyre</code>and see what directory (or directories!)\nare made when you check with <code>ls -F</code>.</p>\n</li>\n<li>\n<p>Don’t begin the name with <code>-</code> (dash).</p>\n<p>Commands treat names starting with <code>-</code> as options.</p>\n</li>\n<li>\n<p>Stick with letters, numbers, <code>.</code> (period or ‘full stop’), <code>-</code> (dash) and <code>_</code> (underscore).</p>\n<p>Many other characters have special meanings on the command line.\nWe will learn about some of these during this lesson.\nThere are special characters that can cause your command to not work as\nexpected and can even result in data loss.</p>\n</li>\n</ol>\n<p>If you need to refer to names of files or directories that have spaces\nor other special characters, you should surround the name in quotes (<code class=\"language-plaintext highlighter-rouge\">\"\"</code>).</p>\n</blockquote>\n<h2 id=\"creating-a-text-file\">Creating a text file</h2>\n<p>Let’s change our working directory to <code>thesis</code> using <code>cd</code>,\nthen run a text editor called Nano to create a file called <code>draft.txt</code>:</p>\n<div class=\"language-plaintext highlighter-rouge\"><div><pre style=\"color: inherit; background: white\"><code>&#36; cd thesis\n&#36; nano draft.txt\n</code></pre></div></div>\n<blockquote class=\"warning\" style=\"border: 2px solid #de8875; margin: 1em 0.2em\">\n<h3 id=\"-icon-warning--nano-wont-work-in-a-jupyter-notebook\">⚠️ Nano won’t work in a Jupyter Notebook!</h3>\n<p>Nano is an interactive, full screen editor. You’ll need to switch to a proper\nconsole to do this step, if you haven’t already.</p>\n<p>In JupyterLab you can find this under the top menu by clicking <strong>File -&gt; New -&gt; Terminal</strong></p>\n</blockquote>\n<blockquote class=\"tip\" style=\"border: 2px solid #FFE19E; margin: 1em 0.2em\">\n<h3 id=\"-icon-tip--which-editor\">💡 Which Editor?</h3>\n<p>When we say, “<code>nano</code> is a text editor” we really do mean “text”: it can\nonly work with plain character data, not tables, images, or any other\nhuman-friendly media. We use it in examples because it is one of the\nleast complex text editors. However, because of this trait, it may\nnot be powerful enough or flexible enough for the work you need to do\nafter this workshop. On Unix systems (such as Linux and macOS),\nmany programmers use <a href=\"http://www.gnu.org/software/emacs/\">Emacs</a> or\n<a href=\"http://www.vim.org/\">Vim</a> (both of which require more time to learn),\nor a graphical editor such as\n<a href=\"http://projects.gnome.org/gedit/\">Gedit</a>. On Windows, you may wish to\nuse <a href=\"http://notepad-plus-plus.org/\">Notepad++</a>.  Windows also has a built-in\neditor called <code>notepad</code> that can be run from the command line in the same\nway as <code>nano</code> for the purposes of this lesson.</p>\n<p>No matter what editor you use, you will need to know where it searches\nfor and saves files. If you start it from the shell, it will (probably)\nuse your current working directory as its default location. If you use\nyour computer’s start menu, it may want to save files in your desktop or\ndocuments directory instead. You can change this by navigating to\nanother directory the first time you “Save As…”</p>\n</blockquote>\n<p>Let’s type in a few lines of text.\nOnce we’re happy with our text, we can press <kbd>Ctrl</kbd>+<kbd>O</kbd>\n(press the <kbd>Ctrl</kbd> or <kbd>Control</kbd> key and, while\nholding it down, press the <kbd>O</kbd> key) to write our data to disk\n(we’ll be asked what file we want to save this to:\npress <kbd>Return</kbd> to accept the suggested default of <code>draft.txt</code>).</p>\n<p><img src=\"https://training.galaxyproject.org/training-material/topics/data-science/tutorials/cli-basics/../../images/carpentries-cli/nano-screenshot.png\" alt=\"screenshot of nano text editor in action. \" loading=\"lazy\" /></p>\n<p>Once our file is saved, we can use <kbd>Ctrl</kbd>+<kbd>X</kbd> to quit the editor and\nreturn to the shell.</p>\n<blockquote class=\"tip\" style=\"border: 2px solid #FFE19E; margin: 1em 0.2em\">\n<h3 id=\"-icon-tip--control-ctrl-or--key\">💡 Control, Ctrl, or ^ Key</h3>\n<p>The Control key is also called the ‘Ctrl’ key. There are various ways\nin which using the Control key may be described. For example, you may\nsee an instruction to press the <kbd>Control</kbd> key and, while holding it down,\npress the <kbd>X</kbd> key, described as any of:</p>\n<ul>\n<li><code>Control-X</code></li>\n<li><code>Control+X</code></li>\n<li><code>Ctrl-X</code></li>\n<li><code>Ctrl+X</code></li>\n<li><code>^X</code></li>\n<li><code>C-x</code></li>\n</ul>\n<p>In nano, along the bottom of the screen you’ll see <code>^G Get Help ^O WriteOut</code>.\nThis means that you can use <code>Control-G</code> to get help and <code>Control-O</code> to save your\nfile.</p>\n</blockquote>\n<p><code>nano</code> doesn’t leave any output on the screen after it exits,\nbut <code>ls</code> now shows that we have created a file called <code>draft.txt</code>:</p>\n",
      "cell_type": "markdown",
      "metadata": {
        "editable": false,
        "collapsed": false
      }
    },
    {
      "id": "cell-63",
      "source": [
        "ls"
      ],
      "cell_type": "code",
      "execution_count": null,
      "outputs": [

      ],
      "metadata": {
        "attributes": {
          "classes": [
            "bash"
          ],
          "id": ""
        }
      }
    },
    {
      "id": "cell-64",
      "source": "<blockquote class=\"question\" style=\"border: 2px solid #8A9AD0; margin: 1em 0.2em\">\n<h3 id=\"-icon-question--creating-files-a-different-way\">❓ Creating Files a Different Way</h3>\n<p>We have seen how to create text files using the <code>nano</code> editor.\nNow, try the following command:</p>\n<div class=\"language-bash highlighter-rouge\"><div><pre style=\"color: inherit; background: white\"><code><span class=\"nb\">touch </span>my_file.txt\n</code></pre></div>  </div>\n<ol>\n<li>\n<p>What did the <code>touch</code> command do?\nWhen you look at your current directory using the GUI file explorer,\ndoes the file show up?</p>\n</li>\n<li>\n<p>Use <code>ls -l</code> to inspect the files.  How large is <code>my_file.txt</code>?</p>\n</li>\n<li>\n<p>When might you want to create a file this way?</p>\n</li>\n</ol>\n<blockquote class=\"solution\" style=\"border: 2px solid #B8C3EA;color: white; margin: 1em 0.2em\">\n<div style=\"color: #555; font-size: 95%;\">Hint: Select the text with your mouse to see the answer</div><h3 id=\"-icon-solution--solution\">👁 Solution</h3>\n<ol>\n<li>\n<p>The <code>touch</code> command generates a new file called <code>my_file.txt</code> in\nyour current directory.  You\ncan observe this newly generated file by typing <code>ls</code> at the\ncommand line prompt.  <code>my_file.txt</code> can also be viewed in your\nGUI file explorer.</p>\n</li>\n<li>\n<p>When you inspect the file with <code>ls -l</code>, note that the size of\n<code>my_file.txt</code> is 0 bytes.  In other words, it contains no data.\nIf you open <code>my_file.txt</code> using your text editor it is blank.</p>\n</li>\n<li>\n<p>Some programs do not generate output files themselves, but\ninstead require that empty files have already been generated.\nWhen the program is run, it searches for an existing file to\npopulate with its output.  The touch command allows you to\nefficiently generate a blank text file to be used by such\nprograms.</p>\n</li>\n</ol>\n</blockquote>\n</blockquote>\n",
      "cell_type": "markdown",
      "metadata": {
        "editable": false,
        "collapsed": false
      }
    },
    {
      "id": "cell-65",
      "source": [
        "# Explore the possible solutions here!"
      ],
      "cell_type": "code",
      "execution_count": null,
      "outputs": [

      ],
      "metadata": {
        "attributes": {
          "classes": [
            "bash"
          ],
          "id": ""
        }
      }
    },
    {
      "id": "cell-66",
      "source": "<blockquote class=\"tip\" style=\"border: 2px solid #FFE19E; margin: 1em 0.2em\">\n<h3 id=\"-icon-tip--whats-in-a-name\">💡 What’s In A Name?</h3>\n<p>You may have noticed that all of Nelle’s files are named ‘something dot\nsomething’, and in this part of the lesson, we always used the extension\n<code>.txt</code>.  This is just a convention: we can call a file <code>mythesis</code> or\nalmost anything else we want. However, most people use two-part names\nmost of the time to help them (and their programs) tell different kinds\nof files apart. The second part of such a name is called the\n<strong>filename extension</strong> and indicates\nwhat type of data the file holds: <code>.txt</code> signals a plain text file, <code>.pdf</code>\nindicates a PDF document, <code>.cfg</code> is a configuration file full of parameters\nfor some program or other, <code>.png</code> is a PNG image, and so on.</p>\n<p>This is <em>just a convention</em>, albeit an important one. Files contain\nbytes: it’s up to us and our programs to interpret those bytes\naccording to the rules for plain text files, PDF documents, configuration\nfiles, images, and so on.</p>\n<p>Naming a PNG image of a whale as <code>whale.mp3</code> doesn’t somehow\nmagically turn it into a recording of whale song, though it <em>might</em>\ncause the operating system to try to open it with a music player\nwhen someone double-clicks it.</p>\n</blockquote>\n<h2 id=\"moving-files-and-directories\">Moving files and directories</h2>\n<p>Returning to the <code>shell-lesson-data</code> directory,</p>\n",
      "cell_type": "markdown",
      "metadata": {
        "editable": false,
        "collapsed": false
      }
    },
    {
      "id": "cell-67",
      "source": [
        "cd ~/Desktop/shell-lesson-data/"
      ],
      "cell_type": "code",
      "execution_count": null,
      "outputs": [

      ],
      "metadata": {
        "attributes": {
          "classes": [
            "bash"
          ],
          "id": ""
        }
      }
    },
    {
      "id": "cell-68",
      "source": "<p>In our <code>thesis</code> directory we have a file <code>draft.txt</code>\nwhich isn’t a particularly informative name,\nso let’s change the file’s name using <code>mv</code>,\nwhich is short for ‘move’:</p>\n",
      "cell_type": "markdown",
      "metadata": {
        "editable": false,
        "collapsed": false
      }
    },
    {
      "id": "cell-69",
      "source": [
        "mv thesis/draft.txt thesis/quotes.txt"
      ],
      "cell_type": "code",
      "execution_count": null,
      "outputs": [

      ],
      "metadata": {
        "attributes": {
          "classes": [
            "bash"
          ],
          "id": ""
        }
      }
    },
    {
      "id": "cell-70",
      "source": "<p>The first argument tells <code>mv</code> what we’re ‘moving’,\nwhile the second is where it’s to go.\nIn this case,\nwe’re moving <code>thesis/draft.txt</code> to <code>thesis/quotes.txt</code>,\nwhich has the same effect as renaming the file.\nSure enough,\n<code>ls</code> shows us that <code>thesis</code> now contains one file called <code>quotes.txt</code>:</p>\n",
      "cell_type": "markdown",
      "metadata": {
        "editable": false,
        "collapsed": false
      }
    },
    {
      "id": "cell-71",
      "source": [
        "ls thesis"
      ],
      "cell_type": "code",
      "execution_count": null,
      "outputs": [

      ],
      "metadata": {
        "attributes": {
          "classes": [
            "bash"
          ],
          "id": ""
        }
      }
    },
    {
      "id": "cell-72",
      "source": "<p>One must be careful when specifying the target file name, since <code>mv</code> will\nsilently overwrite any existing file with the same name, which could\nlead to data loss. An additional option, <code>mv -i</code> (or <code>mv --interactive</code>),\ncan be used to make <code>mv</code> ask you for confirmation before overwriting.</p>\n<p>Note that <code>mv</code> also works on directories.</p>\n<p>Let’s move <code>quotes.txt</code> into the current working directory.\nWe use <code>mv</code> once again,\nbut this time we’ll use just the name of a directory as the second argument\nto tell <code>mv</code> that we want to keep the filename\nbut put the file somewhere new.\n(This is why the command is called ‘move’.)\nIn this case,\nthe directory name we use is the special directory name <code>.</code> that we mentioned earlier.</p>\n",
      "cell_type": "markdown",
      "metadata": {
        "editable": false,
        "collapsed": false
      }
    },
    {
      "id": "cell-73",
      "source": [
        "mv thesis/quotes.txt ."
      ],
      "cell_type": "code",
      "execution_count": null,
      "outputs": [

      ],
      "metadata": {
        "attributes": {
          "classes": [
            "bash"
          ],
          "id": ""
        }
      }
    },
    {
      "id": "cell-74",
      "source": "<p>The effect is to move the file from the directory it was in to the current working directory.\n<code>ls</code> now shows us that <code>thesis</code> is empty:</p>\n",
      "cell_type": "markdown",
      "metadata": {
        "editable": false,
        "collapsed": false
      }
    },
    {
      "id": "cell-75",
      "source": [
        "ls thesis"
      ],
      "cell_type": "code",
      "execution_count": null,
      "outputs": [

      ],
      "metadata": {
        "attributes": {
          "classes": [
            "bash"
          ],
          "id": ""
        }
      }
    },
    {
      "id": "cell-76",
      "source": "<p>Alternatively, we can confirm the file <code>quotes.txt</code> is no longer present in the <code>thesis</code> directory\nby explicitly trying to list it:</p>\n",
      "cell_type": "markdown",
      "metadata": {
        "editable": false,
        "collapsed": false
      }
    },
    {
      "id": "cell-77",
      "source": [
        "ls thesis/quotes.txt"
      ],
      "cell_type": "code",
      "execution_count": null,
      "outputs": [

      ],
      "metadata": {
        "attributes": {
          "classes": [
            "bash"
          ],
          "id": ""
        }
      }
    },
    {
      "id": "cell-78",
      "source": "<p><code class=\"language-plaintext highlighter-rouge\">ls</code> with a filename or directory as an argument only lists the requested file or directory.\nIf the file given as the argument doesn’t exist, the shell returns an error as we saw above.\nWe can use this to see that <code>quotes.txt</code> is now present in our current directory:</p>\n",
      "cell_type": "markdown",
      "metadata": {
        "editable": false,
        "collapsed": false
      }
    },
    {
      "id": "cell-79",
      "source": [
        "ls quotes.txt"
      ],
      "cell_type": "code",
      "execution_count": null,
      "outputs": [

      ],
      "metadata": {
        "attributes": {
          "classes": [
            "bash"
          ],
          "id": ""
        }
      }
    },
    {
      "id": "cell-80",
      "source": "<blockquote class=\"question\" style=\"border: 2px solid #8A9AD0; margin: 1em 0.2em\">\n<h3 id=\"-icon-question--moving-files-to-a-new-folder\">❓ Moving Files to a new folder</h3>\n<p>After running the following commands,\nJamie realizes that she put the files <code>sucrose.dat</code> and <code>maltose.dat</code> into the wrong folder.\nThe files should have been placed in the <code>raw</code> folder.</p>\n<div class=\"language-plaintext highlighter-rouge\"><div><pre style=\"color: inherit; background: white\"><code>&#36; ls -F\n analyzed/ raw/\n&#36; ls -F analyzed\nfructose.dat glucose.dat maltose.dat sucrose.dat\n&#36; cd analyzed\n</code></pre></div>  </div>\n<p>Fill in the blanks to move these files to the <code>raw/</code> folder\n(i.e. the one she forgot to put them in)</p>\n<div class=\"language-bash highlighter-rouge\"><div><pre style=\"color: inherit; background: white\"><code><span class=\"nb\">mv </span>sucrose.dat maltose.dat ____/____\n</code></pre></div>  </div>\n<blockquote class=\"solution\" style=\"border: 2px solid #B8C3EA;color: white; margin: 1em 0.2em\">\n<div style=\"color: #555; font-size: 95%;\">Hint: Select the text with your mouse to see the answer</div><h3 id=\"-icon-solution--solution\">👁 Solution</h3>\n<div class=\"language-bash highlighter-rouge\"><div><pre style=\"color: inherit; background: white\"><code><span class=\"nv\">&#36; </span><span class=\"nb\">mv </span>sucrose.dat maltose.dat ../raw\n</code></pre></div>    </div>\n<p>Recall that <code>..</code> refers to the parent directory (i.e. one above the current directory)\nand that <code>.</code> refers to the current directory.</p>\n</blockquote>\n</blockquote>\n<h2 id=\"copying-files-and-directories\">Copying files and directories</h2>\n<p>The <code>cp</code> command works very much like <code>mv</code>,\nexcept it copies a file instead of moving it.\nWe can check that it did the right thing using <code>ls</code>\nwith two paths as arguments — like most Unix commands,\n<code>ls</code> can be given multiple paths at once:</p>\n",
      "cell_type": "markdown",
      "metadata": {
        "editable": false,
        "collapsed": false
      }
    },
    {
      "id": "cell-81",
      "source": [
        "cp quotes.txt thesis/quotations.txt\n",
        "ls quotes.txt thesis/quotations.txt"
      ],
      "cell_type": "code",
      "execution_count": null,
      "outputs": [

      ],
      "metadata": {
        "attributes": {
          "classes": [
            "bash"
          ],
          "id": ""
        }
      }
    },
    {
      "id": "cell-82",
      "source": "<p>We can also copy a directory and all its contents by using the\n<a href=\"https://en.wikipedia.org/wiki/Recursion\">recursive</a> option <code>-r</code>,\ne.g. to back up a directory:</p>\n",
      "cell_type": "markdown",
      "metadata": {
        "editable": false,
        "collapsed": false
      }
    },
    {
      "id": "cell-83",
      "source": [
        "cp -r thesis thesis_backup"
      ],
      "cell_type": "code",
      "execution_count": null,
      "outputs": [

      ],
      "metadata": {
        "attributes": {
          "classes": [
            "bash"
          ],
          "id": ""
        }
      }
    },
    {
      "id": "cell-84",
      "source": "<p>We can check the result by listing the contents of both the <code>thesis</code> and <code>thesis_backup</code> directory:</p>\n",
      "cell_type": "markdown",
      "metadata": {
        "editable": false,
        "collapsed": false
      }
    },
    {
      "id": "cell-85",
      "source": [
        "ls thesis thesis_backup"
      ],
      "cell_type": "code",
      "execution_count": null,
      "outputs": [

      ],
      "metadata": {
        "attributes": {
          "classes": [
            "bash"
          ],
          "id": ""
        }
      }
    },
    {
      "id": "cell-86",
      "source": "<blockquote class=\"question\" style=\"border: 2px solid #8A9AD0; margin: 1em 0.2em\">\n<h3 id=\"-icon-question--renaming-files\">❓ Renaming Files</h3>\n<p>Suppose that you created a plain-text file in your current directory to contain a list of the\nstatistical tests you will need to do to analyze your data, and named it: <code>statstics.txt</code></p>\n<p>After creating and saving this file you realize you misspelled the filename! You want to\ncorrect the mistake, which of the following commands could you use to do so?</p>\n<ol>\n<li><code>cp statstics.txt statistics.txt</code></li>\n<li><code>mv statstics.txt statistics.txt</code></li>\n<li><code>mv statstics.txt .</code></li>\n<li><code>cp statstics.txt .</code></li>\n</ol>\n<blockquote class=\"solution\" style=\"border: 2px solid #B8C3EA;color: white; margin: 1em 0.2em\">\n<div style=\"color: #555; font-size: 95%;\">Hint: Select the text with your mouse to see the answer</div><h3 id=\"-icon-solution--solution\">👁 Solution</h3>\n<ol>\n<li>No.  While this would create a file with the correct name,\nthe incorrectly named file still exists in the directory\nand would need to be deleted.</li>\n<li>Yes, this would work to rename the file.</li>\n<li>No, the period(.) indicates where to move the file, but does not provide a new file name;\nidentical file names\ncannot be created.</li>\n<li>No, the period(.) indicates where to copy the file, but does not provide a new file name;\nidentical file names cannot be created.</li>\n</ol>\n</blockquote>\n</blockquote>\n<blockquote class=\"question\" style=\"border: 2px solid #8A9AD0; margin: 1em 0.2em\">\n<h3 id=\"-icon-question--moving-and-copying\">❓ Moving and Copying</h3>\n<p>What is the output of the closing <code>ls</code> command in the sequence shown below?</p>\n<blockquote class=\"code-in\" style=\"border: 2px solid #86D486; margin: 1em 0.2em\">\n<h3 id=\"-icon-code-in--input-bash\">⌨️ Input: Bash</h3>\n<div class=\"language-plaintext highlighter-rouge\"><div><pre style=\"color: inherit; background: white\"><code>pwd\n</code></pre></div>    </div>\n</blockquote>\n<blockquote class=\"code-out\" style=\"border: 2px solid #fb99d0; margin: 1em 0.2em\">\n<h3 id=\"-icon-code-out--output\">🖥 Output</h3>\n<div class=\"language-plaintext highlighter-rouge\"><div><pre style=\"color: inherit; background: white\"><code>/Users/jamie/data\n</code></pre></div>    </div>\n</blockquote>\n<blockquote class=\"code-in\" style=\"border: 2px solid #86D486; margin: 1em 0.2em\">\n<h3 id=\"-icon-code-in--input-bash-1\">⌨️ Input: Bash</h3>\n<div class=\"language-plaintext highlighter-rouge\"><div><pre style=\"color: inherit; background: white\"><code>ls\n</code></pre></div>    </div>\n</blockquote>\n<blockquote class=\"code-out\" style=\"border: 2px solid #fb99d0; margin: 1em 0.2em\">\n<h3 id=\"-icon-code-out--output-1\">🖥 Output</h3>\n<div class=\"language-plaintext highlighter-rouge\"><div><pre style=\"color: inherit; background: white\"><code>proteins.dat\n</code></pre></div>    </div>\n</blockquote>\n<blockquote class=\"code-in\" style=\"border: 2px solid #86D486; margin: 1em 0.2em\">\n<h3 id=\"-icon-code-in--input-bash-2\">⌨️ Input: Bash</h3>\n<div class=\"language-plaintext highlighter-rouge\"><div><pre style=\"color: inherit; background: white\"><code>mkdir recombined\nmv proteins.dat recombined/\ncp recombined/proteins.dat ../proteins-saved.dat\nls\n</code></pre></div>    </div>\n</blockquote>\n<ol>\n<li><code>proteins-saved.dat recombined</code></li>\n<li><code>recombined</code></li>\n<li><code>proteins.dat recombined</code></li>\n<li><code>proteins-saved.dat</code></li>\n</ol>\n<blockquote class=\"solution\" style=\"border: 2px solid #B8C3EA;color: white; margin: 1em 0.2em\">\n<h3 id=\"-icon-solution--solution-1\">👁 Solution</h3>\n<p>We start in the <code>/Users/jamie/data</code> directory, and create a new folder called <code>recombined</code>.\nThe second line moves (<code class=\"language-plaintext highlighter-rouge\">mv</code>) the file <code>proteins.dat</code> to the new folder (<code class=\"language-plaintext highlighter-rouge\">recombined</code>).\nThe third line makes a copy of the file we just moved.\nThe tricky part here is where the file was copied to.\nRecall that <code>..</code> means ‘go up a level’, so the copied file is now in <code>/Users/jamie</code>.\nNotice that <code>..</code> is interpreted with respect to the current working\ndirectory, <strong>not</strong> with respect to the location of the file being copied.\nSo, the only thing that will show using ls (in <code>/Users/jamie/data</code>) is the recombined folder.</p>\n<ol>\n<li>No, see explanation above. <code>proteins-saved.dat</code> is located at <code>/Users/jamie</code></li>\n<li>Yes</li>\n<li>No, see explanation above. <code>proteins.dat</code> is located at <code>/Users/jamie/data/recombined</code></li>\n<li>No, see explanation above. <code>proteins-saved.dat</code> is located at <code>/Users/jamie</code></li>\n</ol>\n</blockquote>\n</blockquote>\n<h2 id=\"removing-files-and-directories\">Removing files and directories</h2>\n<p>Returning to the <code>shell-lesson-data</code> directory,\nlet’s tidy up this directory by removing the <code>quotes.txt</code> file we created.\nThe Unix command we’ll use for this is <code>rm</code> (short for ‘remove’):</p>\n",
      "cell_type": "markdown",
      "metadata": {
        "editable": false,
        "collapsed": false
      }
    },
    {
      "id": "cell-87",
      "source": [
        "rm quotes.txt"
      ],
      "cell_type": "code",
      "execution_count": null,
      "outputs": [

      ],
      "metadata": {
        "attributes": {
          "classes": [
            "bash"
          ],
          "id": ""
        }
      }
    },
    {
      "id": "cell-88",
      "source": "<p>We can confirm the file has gone using <code>ls</code>:</p>\n",
      "cell_type": "markdown",
      "metadata": {
        "editable": false,
        "collapsed": false
      }
    },
    {
      "id": "cell-89",
      "source": [
        "ls quotes.txt"
      ],
      "cell_type": "code",
      "execution_count": null,
      "outputs": [

      ],
      "metadata": {
        "attributes": {
          "classes": [
            "bash"
          ],
          "id": ""
        }
      }
    },
    {
      "id": "cell-90",
      "source": "<blockquote class=\"tip\" style=\"border: 2px solid #FFE19E; margin: 1em 0.2em\">\n<h2 id=\"deleting-is-forever\">Deleting Is Forever</h2>\n<p>The Unix shell doesn’t have a trash bin that we can recover deleted\nfiles from (though most graphical interfaces to Unix do).  Instead,\nwhen we delete files, they are unlinked from the file system so that\ntheir storage space on disk can be recycled. Tools for finding and\nrecovering deleted files do exist, but there’s no guarantee they’ll\nwork in any particular situation, since the computer may recycle the\nfile’s disk space right away.</p>\n</blockquote>\n<blockquote class=\"question\" style=\"border: 2px solid #8A9AD0; margin: 1em 0.2em\">\n<h3 id=\"-icon-question--using-rm-safely\">❓ Using <code>rm</code> Safely</h3>\n<p>What happens when we execute <code>rm -i thesis_backup/quotations.txt</code>?\nWhy would we want this protection when using <code>rm</code>?</p>\n<blockquote class=\"solution\" style=\"border: 2px solid #B8C3EA;color: white; margin: 1em 0.2em\">\n<div style=\"color: #555; font-size: 95%;\">Hint: Select the text with your mouse to see the answer</div><h3 id=\"-icon-solution--solution\">👁 Solution</h3>\n<div class=\"language-bash highlighter-rouge\"><div><pre style=\"color: inherit; background: white\"><code><span class=\"nv\">&#36; </span><span class=\"nb\">rm</span>: remove regular file <span class=\"s1\">'thesis_backup/quotations.txt'</span>? y\n</code></pre></div>    </div>\n<p>The <code>-i</code> option will prompt before (every) removal (use <kbd>Y</kbd> to confirm deletion\nor <kbd>N</kbd> to keep the file).\nThe Unix shell doesn’t have a trash bin, so all the files removed will disappear forever.\nBy using the <code>-i</code> option, we have the chance to check that we are deleting only the files\nthat we want to remove.</p>\n</blockquote>\n</blockquote>\n<p>If we try to remove the <code>thesis</code> directory using <code>rm thesis</code>,\nwe get an error message:</p>\n",
      "cell_type": "markdown",
      "metadata": {
        "editable": false,
        "collapsed": false
      }
    },
    {
      "id": "cell-91",
      "source": [
        "rm thesis"
      ],
      "cell_type": "code",
      "execution_count": null,
      "outputs": [

      ],
      "metadata": {
        "attributes": {
          "classes": [
            "bash"
          ],
          "id": ""
        }
      }
    },
    {
      "id": "cell-92",
      "source": "<p>This happens because <code>rm</code> by default only works on files, not directories.</p>\n<p><code>rm</code> can remove a directory <em>and all its contents</em> if we use the\nrecursive option <code>-r</code>, and it will do so <em>without any confirmation prompts</em>:</p>\n",
      "cell_type": "markdown",
      "metadata": {
        "editable": false,
        "collapsed": false
      }
    },
    {
      "id": "cell-93",
      "source": [
        "rm -r thesis"
      ],
      "cell_type": "code",
      "execution_count": null,
      "outputs": [

      ],
      "metadata": {
        "attributes": {
          "classes": [
            "bash"
          ],
          "id": ""
        }
      }
    },
    {
      "id": "cell-94",
      "source": "<p>Given that there is no way to retrieve files deleted using the shell,\n<code>rm -r</code> <em>should be used with great caution</em>\n(you might consider adding the interactive option <code>rm -r -i</code>).</p>\n<h2 id=\"operations-with-multiple-files-and-directories\">Operations with multiple files and directories</h2>\n<p>Oftentimes one needs to copy or move several files at once.\nThis can be done by providing a list of individual filenames,\nor specifying a naming pattern using wildcards.</p>\n<blockquote class=\"question\" style=\"border: 2px solid #8A9AD0; margin: 1em 0.2em\">\n<h3 id=\"-icon-question--copy-with-multiple-filenames\">❓ Copy with Multiple Filenames</h3>\n<p>For this exercise, you can test the commands in the <code>shell-lesson-data/data</code> directory.</p>\n<p>In the example below, what does <code>cp</code> do when given several filenames and a directory name?</p>\n<blockquote class=\"code-in\" style=\"border: 2px solid #86D486; margin: 1em 0.2em\">\n<h3 id=\"-icon-code-in--input-bash\">⌨️ Input: Bash</h3>\n<div class=\"language-plaintext highlighter-rouge\"><div><pre style=\"color: inherit; background: white\"><code>&#36; mkdir backup\n&#36; cp amino-acids.txt animals.txt backup/\n</code></pre></div>    </div>\n</blockquote>\n<p>In the example below, what does <code>cp</code> do when given three or more file names?</p>\n<blockquote class=\"code-in\" style=\"border: 2px solid #86D486; margin: 1em 0.2em\">\n<h3 id=\"-icon-code-in--input-bash-1\">⌨️ Input: Bash</h3>\n<div class=\"language-plaintext highlighter-rouge\"><div><pre style=\"color: inherit; background: white\"><code>&#36; ls -F\namino-acids.txt  animals.txt  backup/  elements/  morse.txt  pdb/\nplanets.txt  salmon.txt  sunspot.txt\n&#36; cp amino-acids.txt animals.txt morse.txt\n</code></pre></div>    </div>\n</blockquote>\n<blockquote class=\"solution\" style=\"border: 2px solid #B8C3EA;color: white; margin: 1em 0.2em\">\n<div style=\"color: #555; font-size: 95%;\">Hint: Select the text with your mouse to see the answer</div><h3 id=\"-icon-solution--solution\">👁 Solution</h3>\n<p>If given more than one file name followed by a directory name\n(i.e. the destination directory must be the last argument),\n<code>cp</code> copies the files to the named directory.</p>\n<p>If given three file names, <code>cp</code> throws an error such as the one below,\nbecause it is expecting a directory name as the last argument.</p>\n<div class=\"language-plaintext output highlighter-rouge\"><div><pre style=\"color: inherit; background: white\"><code>cp: target 'morse.txt' is not a directory\n</code></pre></div>    </div>\n</blockquote>\n</blockquote>\n",
      "cell_type": "markdown",
      "metadata": {
        "editable": false,
        "collapsed": false
      }
    },
    {
      "id": "cell-95",
      "source": [
        "# Explore the possible solutions here!"
      ],
      "cell_type": "code",
      "execution_count": null,
      "outputs": [

      ],
      "metadata": {
        "attributes": {
          "classes": [
            "bash"
          ],
          "id": ""
        }
      }
    },
    {
      "id": "cell-96",
      "source": "<h3 id=\"using-wildcards-for-accessing-multiple-files-at-once\">Using wildcards for accessing multiple files at once</h3>\n<blockquote class=\"tip\" style=\"border: 2px solid #FFE19E; margin: 1em 0.2em\">\n<h3 id=\"-icon-tip--wildcards\">💡 Wildcards</h3>\n<p><code>*</code> is a <strong>wildcard</strong>, which matches zero or more  characters.\nLet’s consider the <code>shell-lesson-data/molecules</code> directory:\n<code>*.pdb</code> matches <code>ethane.pdb</code>, <code>propane.pdb</code>, and every\nfile that ends with ‘.pdb’. On the other hand, <code>p*.pdb</code> only matches\n<code>pentane.pdb</code> and <code>propane.pdb</code>, because the ‘p’ at the front only\nmatches filenames that begin with the letter ‘p’.</p>\n<p><code>?</code> is also a wildcard, but it matches exactly one character.\nSo <code>?ethane.pdb</code> would match <code>methane.pdb</code> whereas\n<code>*ethane.pdb</code> matches both <code>ethane.pdb</code>, and <code>methane.pdb</code>.</p>\n<p>Wildcards can be used in combination with each other\ne.g. <code>???ane.pdb</code> matches three characters followed by <code>ane.pdb</code>,\ngiving <code>cubane.pdb  ethane.pdb  octane.pdb</code>.</p>\n<p>When the shell sees a wildcard, it expands the wildcard to create a\nlist of matching filenames <em>before</em> running the command that was\nasked for. As an exception, if a wildcard expression does not match\nany file, Bash will pass the expression as an argument to the command\nas it is. For example, typing <code>ls *.pdf</code> in the <code>molecules</code> directory\n(which contains only files with names ending with <code>.pdb</code>) results in\nan error message that there is no file called <code>*.pdf</code>.\nHowever, generally commands like <code>wc</code> and <code>ls</code> see the lists of\nfile names matching these expressions, but not the wildcards\nthemselves. It is the shell, not the other programs, that deals with\nexpanding wildcards.</p>\n</blockquote>\n<blockquote class=\"question\" style=\"border: 2px solid #8A9AD0; margin: 1em 0.2em\">\n<h3 id=\"-icon-question--list-filenames-matching-a-pattern\">❓ List filenames matching a pattern</h3>\n<p>When run in the <code>molecules</code> directory, which <code>ls</code> command(s) will\nproduce this output?</p>\n<p><code>ethane.pdb   methane.pdb</code></p>\n<ol>\n<li><code>ls *t*ane.pdb</code></li>\n<li><code>ls *t?ne.*</code></li>\n<li><code>ls *t??ne.pdb</code></li>\n<li><code>ls ethane.*</code></li>\n</ol>\n<blockquote class=\"solution\" style=\"border: 2px solid #B8C3EA;color: white; margin: 1em 0.2em\">\n<div style=\"color: #555; font-size: 95%;\">Hint: Select the text with your mouse to see the answer</div><h3 id=\"-icon-solution--solution\">👁 Solution</h3>\n<p>The solution is <code>3.</code></p>\n<p><code>1.</code> shows all files whose names contain zero or more characters (<code class=\"language-plaintext highlighter-rouge\">*</code>)\nfollowed by the letter <code>t</code>,\nthen zero or more characters (<code class=\"language-plaintext highlighter-rouge\">*</code>) followed by <code>ane.pdb</code>.\nThis gives <code>ethane.pdb  methane.pdb  octane.pdb  pentane.pdb</code>.</p>\n<p><code>2.</code> shows all files whose names start with zero or more characters (<code class=\"language-plaintext highlighter-rouge\">*</code>) followed by\nthe letter <code>t</code>,\nthen a single character (<code class=\"language-plaintext highlighter-rouge\">?</code>), then <code>ne.</code> followed by zero or more characters (<code class=\"language-plaintext highlighter-rouge\">*</code>).\nThis will give us <code>octane.pdb</code> and <code>pentane.pdb</code> but doesn’t match anything\nwhich ends in <code>thane.pdb</code>.</p>\n<p><code>3.</code> fixes the problems of option 2 by matching two characters (<code class=\"language-plaintext highlighter-rouge\">??</code>) between <code>t</code> and <code>ne</code>.\nThis is the solution.</p>\n<p><code>4.</code> only shows files starting with <code>ethane.</code>.</p>\n</blockquote>\n</blockquote>\n",
      "cell_type": "markdown",
      "metadata": {
        "editable": false,
        "collapsed": false
      }
    },
    {
      "id": "cell-97",
      "source": [
        "# Explore the possible solutions here!"
      ],
      "cell_type": "code",
      "execution_count": null,
      "outputs": [

      ],
      "metadata": {
        "attributes": {
          "classes": [
            "bash"
          ],
          "id": ""
        }
      }
    },
    {
      "id": "cell-98",
      "source": "<blockquote class=\"question\" style=\"border: 2px solid #8A9AD0; margin: 1em 0.2em\">\n<h3 id=\"-icon-question--more-on-wildcards\">❓ More on Wildcards</h3>\n<p>Sam has a directory containing calibration data, datasets, and descriptions of\nthe datasets:</p>\n<div class=\"language-plaintext highlighter-rouge\"><div><pre style=\"color: inherit; background: white\"><code>.\n├── 2015-10-23-calibration.txt\n├── 2015-10-23-dataset1.txt\n├── 2015-10-23-dataset2.txt\n├── 2015-10-23-dataset_overview.txt\n├── 2015-10-26-calibration.txt\n├── 2015-10-26-dataset1.txt\n├── 2015-10-26-dataset2.txt\n├── 2015-10-26-dataset_overview.txt\n├── 2015-11-23-calibration.txt\n├── 2015-11-23-dataset1.txt\n├── 2015-11-23-dataset2.txt\n├── 2015-11-23-dataset_overview.txt\n├── backup\n│   ├── calibration\n│   └── datasets\n└── send_to_bob\n    ├── all_datasets_created_on_a_23rd\n    └── all_november_files\n</code></pre></div>  </div>\n<p>Before heading off to another field trip, she wants to back up her data and\nsend some datasets to her colleague Bob. Sam uses the following commands\nto get the job done:</p>\n<div class=\"language-plaintext highlighter-rouge\"><div><pre style=\"color: inherit; background: white\"><code>&#36; cp *dataset* backup/datasets\n&#36; cp ____calibration____ backup/calibration\n&#36; cp 2015-____-____ send_to_bob/all_november_files/\n&#36; cp ____ send_to_bob/all_datasets_created_on_a_23rd/\n</code></pre></div>  </div>\n<p>Help Sam by filling in the blanks.</p>\n<p>The resulting directory structure should look like this</p>\n<div class=\"language-plaintext highlighter-rouge\"><div><pre style=\"color: inherit; background: white\"><code>.\n├── 2015-10-23-calibration.txt\n├── 2015-10-23-dataset1.txt\n├── 2015-10-23-dataset2.txt\n├── 2015-10-23-dataset_overview.txt\n├── 2015-10-26-calibration.txt\n├── 2015-10-26-dataset1.txt\n├── 2015-10-26-dataset2.txt\n├── 2015-10-26-dataset_overview.txt\n├── 2015-11-23-calibration.txt\n├── 2015-11-23-dataset1.txt\n├── 2015-11-23-dataset2.txt\n├── 2015-11-23-dataset_overview.txt\n├── backup\n│   ├── calibration\n│   │   ├── 2015-10-23-calibration.txt\n│   │   ├── 2015-10-26-calibration.txt\n│   │   └── 2015-11-23-calibration.txt\n│   └── datasets\n│       ├── 2015-10-23-dataset1.txt\n│       ├── 2015-10-23-dataset2.txt\n│       ├── 2015-10-23-dataset_overview.txt\n│       ├── 2015-10-26-dataset1.txt\n│       ├── 2015-10-26-dataset2.txt\n│       ├── 2015-10-26-dataset_overview.txt\n│       ├── 2015-11-23-dataset1.txt\n│       ├── 2015-11-23-dataset2.txt\n│       └── 2015-11-23-dataset_overview.txt\n└── send_to_bob\n    ├── all_datasets_created_on_a_23rd\n    │   ├── 2015-10-23-dataset1.txt\n    │   ├── 2015-10-23-dataset2.txt\n    │   ├── 2015-10-23-dataset_overview.txt\n    │   ├── 2015-11-23-dataset1.txt\n    │   ├── 2015-11-23-dataset2.txt\n    │   └── 2015-11-23-dataset_overview.txt\n    └── all_november_files\n        ├── 2015-11-23-calibration.txt\n        ├── 2015-11-23-dataset1.txt\n        ├── 2015-11-23-dataset2.txt\n        └── 2015-11-23-dataset_overview.txt\n</code></pre></div>  </div>\n<blockquote class=\"solution\" style=\"border: 2px solid #B8C3EA;color: white; margin: 1em 0.2em\">\n<div style=\"color: #555; font-size: 95%;\">Hint: Select the text with your mouse to see the answer</div><h3 id=\"-icon-solution--solution\">👁 Solution</h3>\n<div class=\"language-plaintext highlighter-rouge\"><div><pre style=\"color: inherit; background: white\"><code>cp *calibration.txt backup/calibration\ncp 2015-11-* send_to_bob/all_november_files/\ncp *-23-dataset* send_to_bob/all_datasets_created_on_a_23rd/\n</code></pre></div>    </div>\n</blockquote>\n</blockquote>\n",
      "cell_type": "markdown",
      "metadata": {
        "editable": false,
        "collapsed": false
      }
    },
    {
      "id": "cell-99",
      "source": [
        "# Explore the possible solutions here!"
      ],
      "cell_type": "code",
      "execution_count": null,
      "outputs": [

      ],
      "metadata": {
        "attributes": {
          "classes": [
            "bash"
          ],
          "id": ""
        }
      }
    },
    {
      "id": "cell-100",
      "source": "<blockquote class=\"question\" style=\"border: 2px solid #8A9AD0; margin: 1em 0.2em\">\n<h3 id=\"-icon-question--organizing-directories-and-files\">❓ Organizing Directories and Files</h3>\n<p>Jamie is working on a project and she sees that her files aren’t very well\norganized:</p>\n<div class=\"language-plaintext highlighter-rouge\"><div><pre style=\"color: inherit; background: white\"><code>&#36; ls -F\nanalyzed/  fructose.dat    raw/   sucrose.dat\n</code></pre></div>  </div>\n<p>The <code>fructose.dat</code> and <code>sucrose.dat</code> files contain output from her data\nanalysis. What command(s) covered in this lesson does she need to run\nso that the commands below will produce the output shown?</p>\n<div class=\"language-plaintext highlighter-rouge\"><div><pre style=\"color: inherit; background: white\"><code>&#36; ls -F\nanalyzed/   raw/\n&#36; ls analyzed\nfructose.dat    sucrose.dat\n</code></pre></div>  </div>\n<blockquote class=\"solution\" style=\"border: 2px solid #B8C3EA;color: white; margin: 1em 0.2em\">\n<div style=\"color: #555; font-size: 95%;\">Hint: Select the text with your mouse to see the answer</div><h3 id=\"-icon-solution--solution\">👁 Solution</h3>\n<div class=\"language-bash highlighter-rouge\"><div><pre style=\"color: inherit; background: white\"><code><span class=\"nb\">mv</span> <span class=\"k\">*</span>.dat analyzed\n</code></pre></div>    </div>\n<p>Jamie needs to move her files <code>fructose.dat</code> and <code>sucrose.dat</code> to the <code>analyzed</code> directory.\nThe shell will expand *.dat to match all .dat files in the current directory.\nThe <code>mv</code> command then moves the list of .dat files to the ‘analyzed’ directory.</p>\n</blockquote>\n</blockquote>\n",
      "cell_type": "markdown",
      "metadata": {
        "editable": false,
        "collapsed": false
      }
    },
    {
      "id": "cell-101",
      "source": [
        "# Explore the possible solutions here!"
      ],
      "cell_type": "code",
      "execution_count": null,
      "outputs": [

      ],
      "metadata": {
        "attributes": {
          "classes": [
            "bash"
          ],
          "id": ""
        }
      }
    },
    {
      "id": "cell-102",
      "source": "<blockquote class=\"question\" style=\"border: 2px solid #8A9AD0; margin: 1em 0.2em\">\n<h3 id=\"-icon-question--reproduce-a-folder-structure\">❓ Reproduce a folder structure</h3>\n<p>You’re starting a new experiment and would like to duplicate the directory\nstructure from your previous experiment so you can add new data.</p>\n<p>Assume that the previous experiment is in a folder called ‘2016-05-18’,\nwhich contains a <code>data</code> folder that in turn contains folders named <code>raw</code> and\n<code>processed</code> that contain data files.  The goal is to copy the folder structure\nof the <code>2016-05-18-data</code> folder into a folder called <code>2016-05-20</code>\nso that your final directory structure looks like this:</p>\n<div class=\"language-plaintext highlighter-rouge\"><div><pre style=\"color: inherit; background: white\"><code>2016-05-20/\n└── data\n   ├── processed\n   └── raw\n</code></pre></div>  </div>\n<p>Which of the following set of commands would achieve this objective?\nWhat would the other commands do?</p>\n<blockquote class=\"code-in\" style=\"border: 2px solid #86D486; margin: 1em 0.2em\">\n<h3 id=\"-icon-code-in--option-1\">⌨️ Option 1</h3>\n<div class=\"language-plaintext highlighter-rouge\"><div><pre style=\"color: inherit; background: white\"><code>&#36; mkdir 2016-05-20\n&#36; mkdir 2016-05-20/data\n&#36; mkdir 2016-05-20/data/processed\n&#36; mkdir 2016-05-20/data/raw\n</code></pre></div>    </div>\n</blockquote>\n<blockquote class=\"code-in\" style=\"border: 2px solid #86D486; margin: 1em 0.2em\">\n<h3 id=\"-icon-code-in--option-2\">⌨️ Option 2</h3>\n<div class=\"language-plaintext highlighter-rouge\"><div><pre style=\"color: inherit; background: white\"><code>&#36; mkdir 2016-05-20\n&#36; cd 2016-05-20/\n&#36; mkdir data/\n&#36; cd data\n&#36; mkdir raw processed\n</code></pre></div>    </div>\n</blockquote>\n<blockquote class=\"code-in\" style=\"border: 2px solid #86D486; margin: 1em 0.2em\">\n<h3 id=\"-icon-code-in--option-3\">⌨️ Option 3</h3>\n<div class=\"language-plaintext highlighter-rouge\"><div><pre style=\"color: inherit; background: white\"><code>&#36; mkdir 2016-05-20/data/raw\n&#36; mkdir 2016-05-20/data/processed\n</code></pre></div>    </div>\n</blockquote>\n<blockquote class=\"code-in\" style=\"border: 2px solid #86D486; margin: 1em 0.2em\">\n<h3 id=\"-icon-code-in--option-4\">⌨️ Option 4</h3>\n<div class=\"language-plaintext highlighter-rouge\"><div><pre style=\"color: inherit; background: white\"><code>&#36; mkdir -p 2016-05-20/data/raw\n&#36; mkdir -p 2016-05-20/data/processed\n</code></pre></div>    </div>\n</blockquote>\n<blockquote class=\"code-in\" style=\"border: 2px solid #86D486; margin: 1em 0.2em\">\n<h3 id=\"-icon-code-in--option-5\">⌨️ Option 5</h3>\n<div class=\"language-plaintext highlighter-rouge\"><div><pre style=\"color: inherit; background: white\"><code>&#36; mkdir 2016-05-20\n&#36; cd 2016-05-20\n&#36; mkdir data\n&#36; mkdir raw processed\n</code></pre></div>    </div>\n</blockquote>\n<blockquote class=\"solution\" style=\"border: 2px solid #B8C3EA;color: white; margin: 1em 0.2em\">\n<div style=\"color: #555; font-size: 95%;\">Hint: Select the text with your mouse to see the answer</div><h3 id=\"-icon-solution--solution\">👁 Solution</h3>\n<p>The first two sets of commands achieve this objective.\nThe first set uses relative paths to create the top-level directory before\nthe subdirectories.</p>\n<p>The third set of commands will give an error because the default behavior of <code>mkdir</code>\nwon’t create a subdirectory of a non-existent directory:\nthe intermediate level folders must be created first.</p>\n<p>The fourth set of commands achieve this objective. Remember, the <code>-p</code> option,\nfollowed by a path of one or more\ndirectories, will cause <code>mkdir</code> to create any intermediate subdirectories as required.</p>\n<p>The final set of commands generates the ‘raw’ and ‘processed’ directories at the same level\nas the ‘data’ directory.</p>\n</blockquote>\n</blockquote>\n",
      "cell_type": "markdown",
      "metadata": {
        "editable": false,
        "collapsed": false
      }
    },
    {
      "id": "cell-103",
      "source": [
        "# Explore the possible solutions here!"
      ],
      "cell_type": "code",
      "execution_count": null,
      "outputs": [

      ],
      "metadata": {
        "attributes": {
          "classes": [
            "bash"
          ],
          "id": ""
        }
      }
    },
    {
      "id": "cell-104",
      "source": "",
      "cell_type": "markdown",
      "metadata": {
        "editable": false,
        "collapsed": false
      }
    },
    {
      "cell_type": "markdown",
      "id": "final-ending-cell",
      "metadata": {
        "editable": false,
        "collapsed": false
      },
      "source": [
        "# Key Points\n\n",
        "- A shell is a program whose primary purpose is to read commands and run other programs.\n",
        "- This lesson uses Bash, the default shell in many implementations of Unix.\n",
        "- Programs can be run in Bash by entering commands at the command-line prompt.\n",
        "- The shell's main advantages are its high action-to-keystroke ratio, its support for automating repetitive tasks, and its capacity to access networked machines.\n",
        "- The shell's main disadvantages are its primarily textual nature and how cryptic its commands and operation can be.\n",
        "- The file system is responsible for managing information on the disk.\n",
        "- Information is stored in files, which are stored in directories (folders).\n",
        "- Directories can also store other directories, which then form a directory tree.\n",
        "- `cd [path]` changes the current working directory.\n",
        "- `ls [path]` prints a listing of a specific file or directory; `ls` on its own lists the current working directory.\n",
        "- `pwd` prints the user's current working directory.\n",
        "- `/` on its own is the root directory of the whole file system.\n",
        "- Most commands take options (flags) that begin with a `-`.\n",
        "- A relative path specifies a location starting from the current location.\n",
        "- An absolute path specifies a location from the root of the file system.\n",
        "- Directory names in a path are separated with `/` on Unix, but `\\` on Windows.\n",
        "- `..` means 'the directory above the current one'; `.` on its own means 'the current directory'.\n",
        "- `cp [old] [new]` copies a file.\n",
        "- `mkdir [path]` creates a new directory.\n",
        "- `mv [old] [new]` moves (renames) a file or directory.\n",
        "- `rm [path]` removes (deletes) a file.\n",
        "- `*` matches zero or more characters in a filename, so `*.txt` matches all files ending in `.txt`.\n",
        "- `?` matches any single character in a filename, so `?.txt` matches `a.txt` but not `any.txt`.\n",
        "- Use of the Control key may be described in many ways, including `Ctrl-X`, `Control-X`, and `^X`.\n",
        "- The shell does not have a trash bin: once something is deleted, it's really gone.\n",
        "- Most files' names are `something.extension`. The extension isn't required, and doesn't guarantee anything, but is normally used to indicate the type of data in the file.\n",
        "- Depending on the type of work you do, you may need a more powerful text editor than Nano.\n",
        "\n# Congratulations on successfully completing this tutorial!\n\n",
        "Please [fill out the feedback on the GTN website](https://training.galaxyproject.org/training-material/topics/data-science/tutorials/cli-basics/tutorial.html#feedback) and check there for further resources!\n"
      ]
    }
  ]
}