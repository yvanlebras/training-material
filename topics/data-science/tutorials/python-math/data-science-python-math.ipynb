{
  "metadata": {
  },
  "nbformat": 4,
  "nbformat_minor": 5,
  "cells": [
    {
      "id": "metadata",
      "cell_type": "markdown",
      "source": "<div style=\"border: 2px solid #8A9AD0; margin: 1em 0.2em; padding: 0.5em;\">\n\n# Python - Math\n\nby [Helena Rasche](https://training.galaxyproject.org/hall-of-fame/hexylena/), [Donny Vrins](https://training.galaxyproject.org/hall-of-fame/dirowa/), [Bazante Sanders](https://training.galaxyproject.org/hall-of-fame/bazante1/)\n\nCC-BY licensed content from the [Galaxy Training Network](https://training.galaxyproject.org/)\n\n**Objectives**\n\n- How do I do math in Python?\n\n**Objectives**\n\n- Understand the fundamentals of object assignment and math in python and can write simple statements and execute calcualtions in order to be able to summarize the results of calculations and classify valid and invalid statements.\n- Translate some known math functions (e.g. euclidean distance, root algorithm) into python to transfer concepts from mathematics lessons directly into Python.\n\n**Time Estimation: 30M**\n</div>\n",
      "metadata": {
        "editable": false,
        "collapsed": false
      }
    },
    {
      "id": "cell-0",
      "source": "<p>Here we’ll learn some of the fundamentals of python and how to do basic maths in Python.</p>\n<blockquote class=\"agenda\" style=\"border: 2px solid #86D486;display: none; margin: 1em 0.2em\">\n<div class=\"box-title agenda-title\" id=\"agenda\">Agenda</div>\n<p>In this tutorial, we will cover:</p>\n<ol id=\"markdown-toc\">\n<li><a href=\"#python-fundamentals\" id=\"markdown-toc-python-fundamentals\">Python Fundamentals</a>    <ol>\n<li><a href=\"#variables\" id=\"markdown-toc-variables\">Variables</a></li>\n</ol>\n</li>\n</ol>\n</blockquote>\n<h1 id=\"python-fundamentals\">Python Fundamentals</h1>\n<h2 id=\"variables\">Variables</h2>\n<p>Any Python interpreter can be used as a calculator. We can do simple sums</p>\n",
      "cell_type": "markdown",
      "metadata": {
        "editable": false,
        "collapsed": false
      }
    },
    {
      "id": "cell-1",
      "source": [
        "3 + 5 - 4"
      ],
      "cell_type": "code",
      "execution_count": null,
      "outputs": [

      ],
      "metadata": {
        "attributes": {
          "classes": [
            "> <agenda-title></agenda-title>"
          ],
          "id": ""
        }
      }
    },
    {
      "id": "cell-2",
      "source": "<p>Multiplication</p>\n",
      "cell_type": "markdown",
      "metadata": {
        "editable": false,
        "collapsed": false
      }
    },
    {
      "id": "cell-3",
      "source": [
        "5 * 4"
      ],
      "cell_type": "code",
      "execution_count": null,
      "outputs": [

      ],
      "metadata": {
        "attributes": {
          "classes": [
            "> <agenda-title></agenda-title>"
          ],
          "id": ""
        }
      }
    },
    {
      "id": "cell-4",
      "source": "<p>Division</p>\n",
      "cell_type": "markdown",
      "metadata": {
        "editable": false,
        "collapsed": false
      }
    },
    {
      "id": "cell-5",
      "source": [
        "5 / 4"
      ],
      "cell_type": "code",
      "execution_count": null,
      "outputs": [

      ],
      "metadata": {
        "attributes": {
          "classes": [
            "> <agenda-title></agenda-title>"
          ],
          "id": ""
        }
      }
    },
    {
      "id": "cell-6",
      "source": "<p>Just like you’ve probably learned in maths courses, we can assign values to variables</p>\n",
      "cell_type": "markdown",
      "metadata": {
        "editable": false,
        "collapsed": false
      }
    },
    {
      "id": "cell-7",
      "source": [
        "x = 10\n",
        "y = 2.5\n",
        "z = 3"
      ],
      "cell_type": "code",
      "execution_count": null,
      "outputs": [

      ],
      "metadata": {
        "attributes": {
          "classes": [
            "> <agenda-title></agenda-title>"
          ],
          "id": ""
        }
      }
    },
    {
      "id": "cell-8",
      "source": "<p>From now on, whenever we use <code style=\"color: inherit\">x</code> or <code style=\"color: inherit\">y</code> or <code style=\"color: inherit\">z</code>, Python will substitute the value we assigned to it.\nYou’ll notice when we assign things to a variable, nothing is printed out. If we’ve assigned a value to a variable we can print it by doing:</p>\n",
      "cell_type": "markdown",
      "metadata": {
        "editable": false,
        "collapsed": false
      }
    },
    {
      "id": "cell-9",
      "source": [
        "print(x)\n",
        "print(y, z)"
      ],
      "cell_type": "code",
      "execution_count": null,
      "outputs": [

      ],
      "metadata": {
        "attributes": {
          "classes": [
            "> <agenda-title></agenda-title>"
          ],
          "id": ""
        }
      }
    },
    {
      "id": "cell-10",
      "source": "<p>You can print out multiple variables if you separate them with a comma <code style=\"color: inherit\">,</code>.</p>\n<blockquote class=\"tip\" style=\"border: 2px solid #FFE19E; margin: 1em 0.2em\">\n<div class=\"box-title tip-title\" id=\"tip-variable-names\"><button class=\"gtn-boxify-button tip\" type=\"button\" aria-controls=\"tip-variable-names\" aria-expanded=\"true\"><i class=\"far fa-lightbulb\" aria-hidden=\"true\" ></i> Tip: Variable Names<span class=\"fold-unfold fa fa-minus-square\"></span></button></div>\n<p>In Python, variable names:</p>\n<ul>\n<li>can include letters, digits, and underscores</li>\n<li>cannot start with a digit</li>\n<li>are case sensitive</li>\n</ul>\n<p>This means that, for example:</p>\n<ul>\n<li><code style=\"color: inherit\">x</code> is a valid name</li>\n<li><code style=\"color: inherit\">weight0</code> is a valid variable name, whereas <code style=\"color: inherit\">0weight</code> is not</li>\n<li><code style=\"color: inherit\">weight</code> and <code style=\"color: inherit\">Weight</code> are different variables</li>\n</ul>\n</blockquote>\n",
      "cell_type": "markdown",
      "metadata": {
        "editable": false,
        "collapsed": false
      }
    },
    {
      "id": "cell-11",
      "source": [
        "x * (y + z)"
      ],
      "cell_type": "code",
      "execution_count": null,
      "outputs": [

      ],
      "metadata": {
        "attributes": {
          "classes": [
            "> <agenda-title></agenda-title>"
          ],
          "id": ""
        }
      }
    },
    {
      "id": "cell-12",
      "source": "<p>What do you think the following will result in? The best way to find out is trying things for yourself. If it’s wrong, can you correct it?</p>\n",
      "cell_type": "markdown",
      "metadata": {
        "editable": false,
        "collapsed": false
      }
    },
    {
      "id": "cell-13",
      "source": [
        "xy"
      ],
      "cell_type": "code",
      "execution_count": null,
      "outputs": [

      ],
      "metadata": {
        "attributes": {
          "classes": [
            "> <agenda-title></agenda-title>"
          ],
          "id": ""
        }
      }
    },
    {
      "id": "cell-14",
      "source": "<p>Time to check what we’ve learned!</p>\n<blockquote class=\"question\" style=\"border: 2px solid #8A9AD0; margin: 1em 0.2em\">\n<div class=\"box-title question-title\" id=\"question-exercise-0-simple-equations\"><i class=\"far fa-question-circle\" aria-hidden=\"true\" ></i> Question: Exercise 0: Simple Equations</div>\n<p>Given the equation:</p>\n\n\\[y = x * 921 + 534\\]\n<p>What is the value of <code style=\"color: inherit\">y</code> when <code style=\"color: inherit\">x = 452</code></p>\n<p>You can test out solutions in the box below this question.</p>\n<br/><details style=\"border: 2px solid #B8C3EA; margin: 1em 0.2em;padding: 0.5em; cursor: pointer;\"><summary>👁 View solution</summary>\n<div class=\"box-title solution-title\" id=\"solution\"><button class=\"gtn-boxify-button solution\" type=\"button\" aria-controls=\"solution\" aria-expanded=\"true\"><i class=\"far fa-eye\" aria-hidden=\"true\" ></i> Solution<span class=\"fold-unfold fa fa-minus-square\"></span></button></div>\n<div class=\"language-plaintext highlighter-rouge\"><div><pre style=\"color: inherit; background: transparent\"><code style=\"color: inherit\">x = 452\ny = x * 921 + 534\n# Remember to print it out!\nprint(y)\n</code></pre></div>    </div>\n<p>416826</p>\n</details>\n</blockquote>\n",
      "cell_type": "markdown",
      "metadata": {
        "editable": false,
        "collapsed": false
      }
    },
    {
      "id": "cell-15",
      "source": [
        "# Test solutions here!\n",
        "# By the way, lines starting with a # are comment lines!\n",
        "# You can use that to take notes, and not affect how your code runes\n",
        "# People use it for documentation: explaining what the function does,\n",
        "# what a variable means, why they chose this or that algorithm."
      ],
      "cell_type": "code",
      "execution_count": null,
      "outputs": [

      ],
      "metadata": {
        "attributes": {
          "classes": [
            "> <agenda-title></agenda-title>"
          ],
          "id": ""
        }
      }
    },
    {
      "id": "cell-16",
      "source": "<h2 id=\"libraries\">Libraries</h2>\n<p>A library is a collection of files (called modules) that contains functions for use by other programs. It may also contain data values (e.g., numerical constants) and other things. A library’s contents are supposed to be related, but there’s no way to enforce that. The Python standard library is an extensive suite of modules that comes with Python itself. Many additional libraries are available from <a href=\"https://pypi.org/\">PyPI (the Python Package Index)</a>.</p>\n<h3 id=\"libraries-and-modules\">Libraries and modules</h3>\n<p>A library is a collection of modules, but the terms are often used interchangeably, especially since many libraries only consist of a single module, so don’t worry if you mix them.</p>\n<h3 id=\"a-program-must-import-a-library-module-before-using-it\">A program must import a library module before using it.</h3>\n<p>You can use <code style=\"color: inherit\">import</code> to load a library module into a program’s memory, then refer to things from the <code style=\"color: inherit\">module as module_name.thing_name</code>. Python uses <code style=\"color: inherit\">.</code> to mean “part of”. For example, using <code style=\"color: inherit\">datetime</code>, one of the modules in the standard library:</p>\n",
      "cell_type": "markdown",
      "metadata": {
        "editable": false,
        "collapsed": false
      }
    },
    {
      "id": "cell-17",
      "source": [
        "import datetime\n",
        "\n",
        "# it is currently\n",
        "datetime.datetime.now()"
      ],
      "cell_type": "code",
      "execution_count": null,
      "outputs": [

      ],
      "metadata": {
        "attributes": {
          "classes": [
            "> <agenda-title></agenda-title>"
          ],
          "id": ""
        }
      }
    },
    {
      "id": "cell-18",
      "source": "<blockquote class=\"tip\" style=\"border: 2px solid #FFE19E; margin: 1em 0.2em\">\n<div class=\"box-title tip-title\" id=\"tip-more-complicated-importing\"><button class=\"gtn-boxify-button tip\" type=\"button\" aria-controls=\"tip-more-complicated-importing\" aria-expanded=\"true\"><i class=\"far fa-lightbulb\" aria-hidden=\"true\" ></i> Tip: More complicated importing<span class=\"fold-unfold fa fa-minus-square\"></span></button></div>\n<p>First, you can use <code style=\"color: inherit\">help</code> to learn about the contents of a library module. it works just like help for a function.</p>\n<div class=\"language-plaintext highlighter-rouge\"><div><pre style=\"color: inherit; background: transparent\"><code style=\"color: inherit\">help(datetime)\n</code></pre></div>  </div>\n<p>You can import specific items from a library module to shorten programs. You can use <code style=\"color: inherit\">from ... import ...</code> to load only specific items from a library module. Then refer to them directly without library name as prefix.</p>\n<div class=\"language-plaintext highlighter-rouge\"><div><pre style=\"color: inherit; background: transparent\"><code style=\"color: inherit\">from datetime import datetime\n\ndatetime.now()\n</code></pre></div>  </div>\n<p>You can create an alias for a library module when importing it to shorten programs. Use <code style=\"color: inherit\">import ... as ...</code> to give a library a short alias while importing it. Then refer to items in the library using that shortened name.</p>\n<div class=\"language-plaintext highlighter-rouge\"><div><pre style=\"color: inherit; background: transparent\"><code style=\"color: inherit\">from datetime import datetime as dt\n\ndt.now()\n</code></pre></div>  </div>\n</blockquote>\n<h2 id=\"math-module\">Math Module</h2>\n<p>Let’s import the math module:</p>\n",
      "cell_type": "markdown",
      "metadata": {
        "editable": false,
        "collapsed": false
      }
    },
    {
      "id": "cell-19",
      "source": [
        "import math"
      ],
      "cell_type": "code",
      "execution_count": null,
      "outputs": [

      ],
      "metadata": {
        "attributes": {
          "classes": [
            "> <agenda-title></agenda-title>"
          ],
          "id": ""
        }
      }
    },
    {
      "id": "cell-20",
      "source": "<p>This imports the math module. If you ever don’t know what a function does, you can use the <code style=\"color: inherit\">help()</code> command:</p>\n",
      "cell_type": "markdown",
      "metadata": {
        "editable": false,
        "collapsed": false
      }
    },
    {
      "id": "cell-21",
      "source": [
        "help(math)"
      ],
      "cell_type": "code",
      "execution_count": null,
      "outputs": [

      ],
      "metadata": {
        "attributes": {
          "classes": [
            "> <agenda-title></agenda-title>"
          ],
          "id": ""
        }
      }
    },
    {
      "id": "cell-22",
      "source": "<p>And you’ll see a list of the functions and properties available. Let’s try out one of those functions now:</p>\n",
      "cell_type": "markdown",
      "metadata": {
        "editable": false,
        "collapsed": false
      }
    },
    {
      "id": "cell-23",
      "source": [
        "math.sqrt(9)"
      ],
      "cell_type": "code",
      "execution_count": null,
      "outputs": [

      ],
      "metadata": {
        "attributes": {
          "classes": [
            "> <agenda-title></agenda-title>"
          ],
          "id": ""
        }
      }
    },
    {
      "id": "cell-24",
      "source": "<br/><details style=\"border: 2px solid #B8C3EA; margin: 1em 0.2em;padding: 0.5em; cursor: pointer;\"><summary>👁 View solution</summary>\n<div class=\"box-title solution-title\" id=\"solution-tip-why-code-style-quot-color-inherit-quot-math-code\"><button class=\"gtn-boxify-button solution\" type=\"button\" aria-controls=\"solution-tip-why-code-style-quot-color-inherit-quot-math-code\" aria-expanded=\"true\"><i class=\"far fa-eye\" aria-hidden=\"true\" ></i> Solution: Tip: Why <code style=&quot;color: inherit&quot;>math.</code>?<span class=\"fold-unfold fa fa-minus-square\"></span></button></div>\n<p>When we import a module like <code style=\"color: inherit\">import math</code>, we need to use that as a prefix. Imagine we had two different modules, <code style=\"color: inherit\">math</code> and <code style=\"color: inherit\">other_math</code>, and both have a <code style=\"color: inherit\">sqrt</code> function. How would Python know which <code style=\"color: inherit\">sqrt</code> function we wanted? So we use <code style=\"color: inherit\">math.sqrt</code> to be explicit about which function we need.</p>\n</details>\n<p>You might also have done powers (e.g. 2 cubed, or \\(2^3\\)) in the past, too:</p>\n",
      "cell_type": "markdown",
      "metadata": {
        "editable": false,
        "collapsed": false
      }
    },
    {
      "id": "cell-25",
      "source": [
        "math.pow(2, 3)"
      ],
      "cell_type": "code",
      "execution_count": null,
      "outputs": [

      ],
      "metadata": {
        "attributes": {
          "classes": [
            "> <agenda-title></agenda-title>"
          ],
          "id": ""
        }
      }
    },
    {
      "id": "cell-26",
      "source": "<p>Above we computed 2 cubed, but how did we know what to write? We might have seen <code style=\"color: inherit\">math.pow</code> in the <code style=\"color: inherit\">help(math)</code> page above, but how did we know <code style=\"color: inherit\">2, 3</code>? The same way of course:</p>\n",
      "cell_type": "markdown",
      "metadata": {
        "editable": false,
        "collapsed": false
      }
    },
    {
      "id": "cell-27",
      "source": [
        "help(math.pow)"
      ],
      "cell_type": "code",
      "execution_count": null,
      "outputs": [

      ],
      "metadata": {
        "attributes": {
          "classes": [
            "> <agenda-title></agenda-title>"
          ],
          "id": ""
        }
      }
    },
    {
      "id": "cell-28",
      "source": "<p>That would tell us that if we want 2 cubed, we need to write <code style=\"color: inherit\">2</code> and <code style=\"color: inherit\">3</code>. So let’s do some exercises now and practice some of our maths skills.</p>\n<blockquote class=\"question\" style=\"border: 2px solid #8A9AD0; margin: 1em 0.2em\">\n<div class=\"box-title question-title\" id=\"question-exercise-1-basics\"><i class=\"far fa-question-circle\" aria-hidden=\"true\" ></i> Question: Exercise 1: Basics</div>\n<p>Please convert this function from an equation, into python code:</p>\n\n\\[x = 2^8\\]\n<br/><details style=\"border: 2px solid #B8C3EA; margin: 1em 0.2em;padding: 0.5em; cursor: pointer;\"><summary>👁 View solution</summary>\n<div class=\"box-title solution-title\" id=\"solution-1\"><button class=\"gtn-boxify-button solution\" type=\"button\" aria-controls=\"solution-1\" aria-expanded=\"true\"><i class=\"far fa-eye\" aria-hidden=\"true\" ></i> Solution<span class=\"fold-unfold fa fa-minus-square\"></span></button></div>\n<div class=\"language-plaintext highlighter-rouge\"><div><pre style=\"color: inherit; background: transparent\"><code style=\"color: inherit\">x = math.pow(2, 8)\nprint(x)\n</code></pre></div>    </div>\n</details>\n</blockquote>\n",
      "cell_type": "markdown",
      "metadata": {
        "editable": false,
        "collapsed": false
      }
    },
    {
      "id": "cell-29",
      "source": [
        "# Test solutions here!\n",
        "x =\n",
        "print(x)"
      ],
      "cell_type": "code",
      "execution_count": null,
      "outputs": [

      ],
      "metadata": {
        "attributes": {
          "classes": [
            "> <agenda-title></agenda-title>"
          ],
          "id": ""
        }
      }
    },
    {
      "id": "cell-30",
      "source": "<blockquote class=\"question\" style=\"border: 2px solid #8A9AD0; margin: 1em 0.2em\">\n<div class=\"box-title question-title\" id=\"question-exercise-2-averaging-two-values\"><i class=\"far fa-question-circle\" aria-hidden=\"true\" ></i> Question: Exercise 2: Averaging two values</div>\n<p>See if you can find the average of these two values, using the math operations</p>\n<ul>\n<li>23484</li>\n<li>12345</li>\n</ul>\n<p>You can find the average by summing, and dividing by 2:</p>\n<br/><details style=\"border: 2px solid #B8C3EA; margin: 1em 0.2em;padding: 0.5em; cursor: pointer;\"><summary>👁 View solution</summary>\n<div class=\"box-title solution-title\" id=\"solution-2\"><button class=\"gtn-boxify-button solution\" type=\"button\" aria-controls=\"solution-2\" aria-expanded=\"true\"><i class=\"far fa-eye\" aria-hidden=\"true\" ></i> Solution<span class=\"fold-unfold fa fa-minus-square\"></span></button></div>\n<div class=\"language-plaintext highlighter-rouge\"><div><pre style=\"color: inherit; background: transparent\"><code style=\"color: inherit\">(23484 + 12345) / 2\n</code></pre></div>    </div>\n</details>\n</blockquote>\n",
      "cell_type": "markdown",
      "metadata": {
        "editable": false,
        "collapsed": false
      }
    },
    {
      "id": "cell-31",
      "source": [
        "# Test solutions here!"
      ],
      "cell_type": "code",
      "execution_count": null,
      "outputs": [

      ],
      "metadata": {
        "attributes": {
          "classes": [
            "> <agenda-title></agenda-title>"
          ],
          "id": ""
        }
      }
    },
    {
      "id": "cell-32",
      "source": "<blockquote class=\"question\" style=\"border: 2px solid #8A9AD0; margin: 1em 0.2em\">\n<div class=\"box-title question-title\" id=\"question-exercise-3-round-trip\"><i class=\"far fa-question-circle\" aria-hidden=\"true\" ></i> Question: Exercise 3: Round-trip</div>\n<p>Please convert this function from an equation, into python code. Remember, you can assign values to variables, if you want to split this into multiple steps.</p>\n\n\\[x = \\sqrt{9^2}\\]\n<br/><details style=\"border: 2px solid #B8C3EA; margin: 1em 0.2em;padding: 0.5em; cursor: pointer;\"><summary>👁 View solution</summary>\n<div class=\"box-title solution-title\" id=\"solution-3\"><button class=\"gtn-boxify-button solution\" type=\"button\" aria-controls=\"solution-3\" aria-expanded=\"true\"><i class=\"far fa-eye\" aria-hidden=\"true\" ></i> Solution<span class=\"fold-unfold fa fa-minus-square\"></span></button></div>\n<div class=\"language-plaintext highlighter-rouge\"><div><pre style=\"color: inherit; background: transparent\"><code style=\"color: inherit\">y = math.pow(9, 2)\nx = math.sqrt(y)\n</code></pre></div>    </div>\n<p>Or</p>\n<div class=\"language-plaintext highlighter-rouge\"><div><pre style=\"color: inherit; background: transparent\"><code style=\"color: inherit\">x = math.sqrt(math.pow(9, 2))\n</code></pre></div>    </div>\n</details>\n</blockquote>\n",
      "cell_type": "markdown",
      "metadata": {
        "editable": false,
        "collapsed": false
      }
    },
    {
      "id": "cell-33",
      "source": [
        "# Test solutions here!"
      ],
      "cell_type": "code",
      "execution_count": null,
      "outputs": [

      ],
      "metadata": {
        "attributes": {
          "classes": [
            "> <agenda-title></agenda-title>"
          ],
          "id": ""
        }
      }
    },
    {
      "id": "cell-34",
      "source": "<blockquote class=\"question\" style=\"border: 2px solid #8A9AD0; margin: 1em 0.2em\">\n<div class=\"box-title question-title\" id=\"question-exercise-4-pythagorean-theorem\"><i class=\"far fa-question-circle\" aria-hidden=\"true\" ></i> Question: Exercise 4: Pythagorean Theorem</div>\n<p>The formula for a 90° triangle can be expressed as:</p>\n\n\\[a^2 + b^2 = c^2\\]\n<p>Or, expressed in terms of c, \\(c = \\sqrt{a^2 + b^2}\\)</p>\n<p>Please convert this to python and find <code style=\"color: inherit\">c</code> when</p>\n<div class=\"language-plaintext highlighter-rouge\"><div><pre style=\"color: inherit; background: transparent\"><code style=\"color: inherit\">a = 65\nb = 72\n</code></pre></div>  </div>\n<br/><details style=\"border: 2px solid #B8C3EA; margin: 1em 0.2em;padding: 0.5em; cursor: pointer;\"><summary>👁 View solution</summary>\n<div class=\"box-title solution-title\" id=\"solution-4\"><button class=\"gtn-boxify-button solution\" type=\"button\" aria-controls=\"solution-4\" aria-expanded=\"true\"><i class=\"far fa-eye\" aria-hidden=\"true\" ></i> Solution<span class=\"fold-unfold fa fa-minus-square\"></span></button></div>\n<p>c = 97</p>\n<div class=\"language-plaintext highlighter-rouge\"><div><pre style=\"color: inherit; background: transparent\"><code style=\"color: inherit\">c = math.sqrt(math.pow(a, 2) + math.pow(b, 2))\n</code></pre></div>    </div>\n</details>\n</blockquote>\n",
      "cell_type": "markdown",
      "metadata": {
        "editable": false,
        "collapsed": false
      }
    },
    {
      "id": "cell-35",
      "source": [
        "# Test solutions here!"
      ],
      "cell_type": "code",
      "execution_count": null,
      "outputs": [

      ],
      "metadata": {
        "attributes": {
          "classes": [
            "> <agenda-title></agenda-title>"
          ],
          "id": ""
        }
      }
    },
    {
      "id": "cell-36",
      "source": "<blockquote class=\"question\" style=\"border: 2px solid #8A9AD0; margin: 1em 0.2em\">\n<div class=\"box-title question-title\" id=\"question-exercise-5-quadratic-roots\"><i class=\"far fa-question-circle\" aria-hidden=\"true\" ></i> Question: Exercise 5: Quadratic Roots</div>\n<p>Way back in algebra class, you might have been given a quadratic equation, something like:</p>\n<p>\\(y = 2*x^2 + x - 1\\) and were told to find the roots of this function, using a complicated equation. So challenge time: reproduce this equation in Python:</p>\n<p>Given the following variables:</p>\n<p>a = 2\nb = 1\nc = -1</p>\n<p>Convert the following formulas to Python, and find the answers</p>\n<p>\\(\\dfrac{-b + \\sqrt{b^2 - 4ac}}{2a}\\) and \\(\\dfrac{-b - \\sqrt{b^2 - 4ac}}{2a}\\)</p>\n<p>Since we’re checking your ability to write Python, not do math, it should give <code style=\"color: inherit\">-1</code> and <code style=\"color: inherit\">0.5</code> to let you check your work. If you got those values, you got it right!</p>\n<p>Make sure you save each root as it’s own variable, and then print them out.</p>\n<br/><details style=\"border: 2px solid #B8C3EA; margin: 1em 0.2em;padding: 0.5em; cursor: pointer;\"><summary>👁 View solution</summary>\n<div class=\"box-title solution-title\" id=\"solution-5\"><button class=\"gtn-boxify-button solution\" type=\"button\" aria-controls=\"solution-5\" aria-expanded=\"true\"><i class=\"far fa-eye\" aria-hidden=\"true\" ></i> Solution<span class=\"fold-unfold fa fa-minus-square\"></span></button></div>\n<div class=\"language-plaintext highlighter-rouge\"><div><pre style=\"color: inherit; background: transparent\"><code style=\"color: inherit\">root1 = (-b + math.sqrt(math.pow(b, 2) - 4 * a * c))/(2 * a)\nroot2 = (-b - math.sqrt(math.pow(b, 2) - 4 * a * c))/(2 * a)\nprint(root1)\nprint(root2)\n</code></pre></div>    </div>\n</details>\n</blockquote>\n",
      "cell_type": "markdown",
      "metadata": {
        "editable": false,
        "collapsed": false
      }
    },
    {
      "id": "cell-37",
      "source": [
        "# Test solutions here!\n",
        "root1 =\n",
        "root2 =\n",
        "print(root1)\n",
        "print(root2)"
      ],
      "cell_type": "code",
      "execution_count": null,
      "outputs": [

      ],
      "metadata": {
        "attributes": {
          "classes": [
            "> <agenda-title></agenda-title>"
          ],
          "id": ""
        }
      }
    },
    {
      "id": "cell-38",
      "source": "\n",
      "cell_type": "markdown",
      "metadata": {
        "editable": false,
        "collapsed": false
      }
    },
    {
      "cell_type": "markdown",
      "id": "final-ending-cell",
      "metadata": {
        "editable": false,
        "collapsed": false
      },
      "source": [
        "# Key Points\n\n",
        "- Converting mathematics equation to python is pretty easy!\n",
        "- In real life you'll occasionally need to do this, either converting from a formula you read in a paper, or a description of an algorithm, into code that you'll re-use.\n",
        "- Did you forget how a particular module or function works? Try `help()`\n",
        "\n# Congratulations on successfully completing this tutorial!\n\n",
        "Please [fill out the feedback on the GTN website](https://training.galaxyproject.org/training-material/topics/data-science/tutorials/python-math/tutorial.html#feedback) and check there for further resources!\n"
      ]
    }
  ]
}