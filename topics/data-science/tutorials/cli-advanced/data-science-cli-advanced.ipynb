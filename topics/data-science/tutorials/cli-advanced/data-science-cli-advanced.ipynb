{
  "metadata": {
    "kernelspec": {
      "display_name": "Bash",
      "language": "bash",
      "name": "bash"
    },
    "language_info": {
      "codemirror_mode": "shell",
      "file_extension": ".sh",
      "mimetype": "text/x-sh",
      "name": "bash"
    }
  },
  "nbformat": 4,
  "nbformat_minor": 5,
  "cells": [
    {
      "id": "metadata",
      "cell_type": "markdown",
      "source": "<div style=\"border: 2px solid #8A9AD0; margin: 1em 0.2em; padding: 0.5em;\">\n\n# Advanced CLI in Galaxy\n\nby [The Carpentries](https://training.galaxyproject.org/hall-of-fame/carpentries/), [Helena Rasche](https://training.galaxyproject.org/hall-of-fame/hexylena/), [Bazante Sanders](https://training.galaxyproject.org/hall-of-fame/bazante1/), [Erasmus+ Programme](https://training.galaxyproject.org/hall-of-fame/erasmusplus/), [Avans Hogeschool](https://training.galaxyproject.org/hall-of-fame/avans-atgm/)\n\nCC-BY licensed content from the [Galaxy Training Network](https://training.galaxyproject.org/)\n\n**Objectives**\n\n- How can I combine existing commands to do new things?\n- How can I perform the same actions on many different files?\n- How can I find files?\n- How can I find things in files?\n\n**Objectives**\n\n- Redirect a command's output to a file.\n- Process a file instead of keyboard input using redirection.\n- Construct command pipelines with two or more stages.\n- Explain what usually happens if a program or pipeline isn't given any input to process.\n- Explain Unix's 'small pieces, loosely joined' philosophy.\n- Write a loop that applies one or more commands separately to each file in a set of files.\n- Trace the values taken on by a loop variable during execution of the loop.\n- Explain the difference between a variable's name and its value.\n- Explain why spaces and some punctuation characters shouldn't be used in file names.\n- Demonstrate how to see what commands have recently been executed.\n- Re-run recently executed commands without retyping them.\n- Use <code>grep</code> to select lines from text files that match simple patterns.\n- Use <code>find</code> to find files and directories whose names match simple patterns.\n- Use the output of one command as the command-line argument(s) to another command.\n- Explain what is meant by 'text' and 'binary' files, and why many common tools don't handle the latter well.\n\n**Time Estimation: 2H**\n</div>\n",
      "metadata": {
        "editable": false,
        "collapsed": false
      }
    },
    {
      "id": "cell-0",
      "source": "<p>This tutorial will walk you through the basics of how to use the Unix command line.</p>\n<blockquote class=\"comment\" style=\"border: 2px solid #ffecc1; margin: 1em 0.2em\">\n<h3 id=\"-icon-comment--comment\">💬 Comment</h3>\n<p>This tutorial is <strong>significantly</strong> based on <a href=\"https://carpentries.org\">the Carpentries</a> <a href=\"https://swcarpentry.github.io/shell-novice/\">“The Unix Shell”</a> lesson, which is licensed CC-BY 4.0. Adaptations have been made to make this work better in a GTN/Galaxy environment.</p>\n</blockquote>\n<blockquote class=\"agenda\" style=\"border: 2px solid #86D486;display: none; margin: 1em 0.2em\">\n<h3 id=\"agenda\">Agenda</h3>\n<p>In this tutorial, we will cover:</p>\n<ol id=\"markdown-toc\">\n<li><a href=\"#pipes-and-filtering\" id=\"markdown-toc-pipes-and-filtering\">Pipes and Filtering</a></li>\n</ol>\n</blockquote>\n<h1 id=\"pipes-and-filtering\">Pipes and Filtering</h1>\n<p>Now that we know a few basic commands,\nwe can finally look at the shell’s most powerful feature:\nthe ease with which it lets us combine existing programs in new ways.\nWe’ll start with the directory called <code>shell-lesson-data/molecules</code>\nthat contains six files describing some simple organic molecules.\nThe <code>.pdb</code> extension indicates that these files are in Protein Data Bank format,\na simple text format that specifies the type and position of each atom in the molecule.</p>\n",
      "cell_type": "markdown",
      "metadata": {
        "editable": false,
        "collapsed": false
      }
    },
    {
      "id": "cell-1",
      "source": [
        "cd ~/Desktop/shell-lesson-data/\n",
        "ls molecules"
      ],
      "cell_type": "code",
      "execution_count": null,
      "outputs": [

      ],
      "metadata": {
        "attributes": {
          "classes": [
            "bash"
          ],
          "id": ""
        }
      }
    },
    {
      "id": "cell-2",
      "source": "<p>Let’s go into that directory with <code>cd</code> and run an example command <code>wc cubane.pdb</code>:</p>\n",
      "cell_type": "markdown",
      "metadata": {
        "editable": false,
        "collapsed": false
      }
    },
    {
      "id": "cell-3",
      "source": [
        "cd molecules\n",
        "wc cubane"
      ],
      "cell_type": "code",
      "execution_count": null,
      "outputs": [

      ],
      "metadata": {
        "attributes": {
          "classes": [
            "bash"
          ],
          "id": ""
        }
      }
    },
    {
      "id": "cell-4",
      "source": "<p><code class=\"language-plaintext highlighter-rouge\">wc</code> is the ‘word count’ command:\nit counts the number of lines, words, and characters in files (from left to right, in that order).</p>\n<p>If we run the command <code>wc *.pdb</code>, the <code>*</code> in <code>*.pdb</code> matches zero or more characters,\nso the shell turns <code>*.pdb</code> into a list of all <code>.pdb</code> files in the current directory:</p>\n",
      "cell_type": "markdown",
      "metadata": {
        "editable": false,
        "collapsed": false
      }
    },
    {
      "id": "cell-5",
      "source": [
        "wc *.pdb"
      ],
      "cell_type": "code",
      "execution_count": null,
      "outputs": [

      ],
      "metadata": {
        "attributes": {
          "classes": [
            "bash"
          ],
          "id": ""
        }
      }
    },
    {
      "id": "cell-6",
      "source": "<p>Note that <code>wc *.pdb</code> also shows the total number of all lines in the last line of the output.</p>\n<p>If we run <code>wc -l</code> instead of just <code>wc</code>,\nthe output shows only the number of lines per file:</p>\n",
      "cell_type": "markdown",
      "metadata": {
        "editable": false,
        "collapsed": false
      }
    },
    {
      "id": "cell-7",
      "source": [
        "wc -l *.pdb"
      ],
      "cell_type": "code",
      "execution_count": null,
      "outputs": [

      ],
      "metadata": {
        "attributes": {
          "classes": [
            "bash"
          ],
          "id": ""
        }
      }
    },
    {
      "id": "cell-8",
      "source": "<p>The <code>-m</code> and <code>-w</code> options can also be used with the <code>wc</code> command, to show\nonly the number of characters or the number of words in the files.</p>\n<blockquote class=\"tip\" style=\"border: 2px solid #FFE19E; margin: 1em 0.2em\">\n<h3 id=\"-icon-tip--why-isnt-it-doing-anything\">💡 Why Isn’t It Doing Anything?</h3>\n<p>What happens if a command is supposed to process a file, but we\ndon’t give it a filename? For example, what if we type:</p>\n<div class=\"language-bash highlighter-rouge\"><div><pre style=\"color: inherit; background: white\"><code><span class=\"nv\">&#36; </span><span class=\"nb\">wc</span> <span class=\"nt\">-l</span>\n</code></pre></div>  </div>\n<p>but don’t type <code>*.pdb</code> (or anything else) after the command?\nSince it doesn’t have any filenames, <code>wc</code> assumes it is supposed to\nprocess input given at the command prompt, so it just sits there and waits for us to give\nit some data interactively. From the outside, though, all we see is it\nsitting there: the command doesn’t appear to do anything.</p>\n<p>If you make this kind of mistake, you can escape out of this state by holding down\nthe control key (<kbd>Ctrl</kbd>) and typing the letter <kbd>C</kbd> once and\nletting go of the <kbd>Ctrl</kbd> key.\n<kbd>Ctrl</kbd>+<kbd>C</kbd></p>\n</blockquote>\n<h2 id=\"capturing-output-from-commands\">Capturing output from commands</h2>\n<p>Which of these files contains the fewest lines?\nIt’s an easy question to answer when there are only six files,\nbut what if there were 6000?\nOur first step toward a solution is to run the command:</p>\n",
      "cell_type": "markdown",
      "metadata": {
        "editable": false,
        "collapsed": false
      }
    },
    {
      "id": "cell-9",
      "source": [
        "wc -l *.pdb > lengths.txt"
      ],
      "cell_type": "code",
      "execution_count": null,
      "outputs": [

      ],
      "metadata": {
        "attributes": {
          "classes": [
            "bash"
          ],
          "id": ""
        }
      }
    },
    {
      "id": "cell-10",
      "source": "<p>The greater than symbol, <code>&gt;</code>, tells the shell to <strong>redirect</strong> the command’s output\nto a file instead of printing it to the screen. (This is why there is no screen output:\neverything that <code>wc</code> would have printed has gone into the\nfile <code>lengths.txt</code> instead.)  The shell will create\nthe file if it doesn’t exist. If the file exists, it will be\nsilently overwritten, which may lead to data loss and thus requires\nsome caution.\n<code>ls lengths.txt</code> confirms that the file exists:</p>\n",
      "cell_type": "markdown",
      "metadata": {
        "editable": false,
        "collapsed": false
      }
    },
    {
      "id": "cell-11",
      "source": [
        "ls lengths.txt"
      ],
      "cell_type": "code",
      "execution_count": null,
      "outputs": [

      ],
      "metadata": {
        "attributes": {
          "classes": [
            "bash"
          ],
          "id": ""
        }
      }
    },
    {
      "id": "cell-12",
      "source": "<p>We can now send the content of <code>lengths.txt</code> to the screen using <code>cat lengths.txt</code>.\nThe <code>cat</code> command gets its name from ‘concatenate’ i.e. join together,\nand it prints the contents of files one after another.\nThere’s only one file in this case,\nso <code>cat</code> just shows us what it contains:</p>\n",
      "cell_type": "markdown",
      "metadata": {
        "editable": false,
        "collapsed": false
      }
    },
    {
      "id": "cell-13",
      "source": [
        "cat lengths.txt"
      ],
      "cell_type": "code",
      "execution_count": null,
      "outputs": [

      ],
      "metadata": {
        "attributes": {
          "classes": [
            "bash"
          ],
          "id": ""
        }
      }
    },
    {
      "id": "cell-14",
      "source": "<blockquote class=\"tip\" style=\"border: 2px solid #FFE19E; margin: 1em 0.2em\">\n<h3 id=\"-icon-tip--output-page-by-page\">💡 Output Page by Page</h3>\n<p>We’ll continue to use <code>cat</code> in this lesson, for convenience and consistency,\nbut it has the disadvantage that it always dumps the whole file onto your screen.\nMore useful in practice is the command <code>less</code>,\nwhich you use with <code>less lengths.txt</code>.\nThis displays a screenful of the file, and then stops.\nYou can go forward one screenful by pressing the spacebar,\nor back one by pressing <code>b</code>.  Press <code>q</code> to quit.</p>\n</blockquote>\n<h2 id=\"filtering-output\">Filtering output</h2>\n<p>Next we’ll use the <code>sort</code> command to sort the contents of the <code>lengths.txt</code> file.\nBut first we’ll use an exercise to learn a little about the sort command:</p>\n<blockquote class=\"question\" style=\"border: 2px solid #8A9AD0; margin: 1em 0.2em\">\n<h3 id=\"-icon-question--what-does-sort--n-do\">❓ What Does <code>sort -n</code> Do?</h3>\n<p>The file <code>shell-lesson-data/numbers.txt</code>\ncontains the following lines:</p>\n<div class=\"language-plaintext highlighter-rouge\"><div><pre style=\"color: inherit; background: white\"><code>10\n2\n19\n22\n6\n</code></pre></div>  </div>\n<p>If we run <code>sort</code> on this file, the output is:</p>\n<div class=\"language-plaintext highlighter-rouge\"><div><pre style=\"color: inherit; background: white\"><code>10\n19\n2\n22\n6\n</code></pre></div>  </div>\n<p>If we run <code>sort -n</code> on the same file, we get this instead:</p>\n<div class=\"language-plaintext highlighter-rouge\"><div><pre style=\"color: inherit; background: white\"><code>2\n6\n10\n19\n22\n</code></pre></div>  </div>\n<p>Explain why <code>-n</code> has this effect.</p>\n<blockquote class=\"solution\" style=\"border: 2px solid #B8C3EA;color: white; margin: 1em 0.2em\">\n<div style=\"color: #555; font-size: 95%;\">Hint: Select the text with your mouse to see the answer</div><h3 id=\"-icon-solution--solution\">👁 Solution</h3>\n<p>The <code>-n</code> option specifies a numerical rather than an alphanumerical sort.</p>\n</blockquote>\n</blockquote>\n<p>We will also use the <code>-n</code> option to specify that the sort is\nnumerical instead of alphanumerical.\nThis does <em>not</em> change the file;\ninstead, it sends the sorted result to the screen:</p>\n",
      "cell_type": "markdown",
      "metadata": {
        "editable": false,
        "collapsed": false
      }
    },
    {
      "id": "cell-15",
      "source": [
        "sort -n lengths.txt"
      ],
      "cell_type": "code",
      "execution_count": null,
      "outputs": [

      ],
      "metadata": {
        "attributes": {
          "classes": [
            "bash"
          ],
          "id": ""
        }
      }
    },
    {
      "id": "cell-16",
      "source": "<p>We can put the sorted list of lines in another temporary file called <code>sorted-lengths.txt</code>\nby putting <code>&gt; sorted-lengths.txt</code> after the command,\njust as we used <code>&gt; lengths.txt</code> to put the output of <code>wc</code> into <code>lengths.txt</code>.\nOnce we’ve done that,\nwe can run another command called <code>head</code> to get the first few lines in <code>sorted-lengths.txt</code>:</p>\n",
      "cell_type": "markdown",
      "metadata": {
        "editable": false,
        "collapsed": false
      }
    },
    {
      "id": "cell-17",
      "source": [
        "sort -n lengths.txt > sorted-lengths.txt"
      ],
      "cell_type": "code",
      "execution_count": null,
      "outputs": [

      ],
      "metadata": {
        "attributes": {
          "classes": [
            "bash"
          ],
          "id": ""
        }
      }
    },
    {
      "id": "cell-18",
      "source": "<p>Using <code>-n 1</code> with <code>head</code> tells it that\nwe only want the first line of the file;\n<code>-n 20</code> would get the first 20,\nand so on.\nSince <code>sorted-lengths.txt</code> contains the lengths of our files ordered from least to greatest,\nthe output of <code>head</code> must be the file with the fewest lines.</p>\n<blockquote class=\"tip\" style=\"border: 2px solid #FFE19E; margin: 1em 0.2em\">\n<h3 id=\"-icon-tip--redirecting-to-the-same-file\">💡 Redirecting to the same file</h3>\n<p>It’s a very bad idea to try redirecting\nthe output of a command that operates on a file\nto the same file. For example:</p>\n<div class=\"language-plaintext highlighter-rouge\"><div><pre style=\"color: inherit; background: white\"><code>&#36; sort -n lengths.txt &gt; lengths.txt\n</code></pre></div>  </div>\n<p>Doing something like this may give you\nincorrect results and/or delete\nthe contents of <code>lengths.txt</code>.</p>\n</blockquote>\n<blockquote class=\"question\" style=\"border: 2px solid #8A9AD0; margin: 1em 0.2em\">\n<h3 id=\"-icon-question--what-does--mean\">❓ What Does <code>&gt;&gt;</code> Mean?</h3>\n<p>We have seen the use of <code>&gt;</code>, but there is a similar operator <code>&gt;&gt;</code>\nwhich works slightly differently.\nWe’ll learn about the differences between these two operators by printing some strings.\nWe can use the <code>echo</code> command to print strings e.g.</p>\n<blockquote class=\"code-in\" style=\"border: 2px solid #86D486; margin: 1em 0.2em\">\n<h3 id=\"-icon-code-in--input-bash\">⌨️ Input: Bash</h3>\n<div class=\"language-plaintext highlighter-rouge\"><div><pre style=\"color: inherit; background: white\"><code>&#36; echo The echo command prints text\n</code></pre></div>    </div>\n</blockquote>\n<blockquote class=\"code-out\" style=\"border: 2px solid #fb99d0; margin: 1em 0.2em\">\n<h3 id=\"-icon-code-out--output\">🖥 Output</h3>\n<div class=\"language-plaintext highlighter-rouge\"><div><pre style=\"color: inherit; background: white\"><code>The echo command prints text\n</code></pre></div>    </div>\n</blockquote>\n<p>Now test the commands below to reveal the difference between the two operators:</p>\n<blockquote class=\"code-in\" style=\"border: 2px solid #86D486; margin: 1em 0.2em\">\n<h3 id=\"-icon-code-in--input-bash-1\">⌨️ Input: Bash</h3>\n<div class=\"language-plaintext highlighter-rouge\"><div><pre style=\"color: inherit; background: white\"><code>&#36; echo hello &gt; testfile01.txt\n</code></pre></div>    </div>\n</blockquote>\n<p>and:</p>\n<blockquote class=\"code-in\" style=\"border: 2px solid #86D486; margin: 1em 0.2em\">\n<h3 id=\"-icon-code-in--input-bash-2\">⌨️ Input: Bash</h3>\n<div class=\"language-plaintext highlighter-rouge\"><div><pre style=\"color: inherit; background: white\"><code>&#36; echo hello &gt;&gt; testfile02.txt\n</code></pre></div>    </div>\n</blockquote>\n<p><strong>Hint</strong>: Try executing each command twice in a row and then examining the output files.</p>\n<blockquote class=\"solution\" style=\"border: 2px solid #B8C3EA;color: white; margin: 1em 0.2em\">\n<h2 id=\"solution\">Solution</h2>\n<p>In the first example with <code>&gt;</code>, the string ‘hello’ is written to <code>testfile01.txt</code>,\nbut the file gets overwritten each time we run the command.</p>\n<p>We see from the second example that the <code>&gt;&gt;</code> operator also writes ‘hello’ to a file\n(in this case<code class=\"language-plaintext highlighter-rouge\">testfile02.txt</code>),\nbut appends the string to the file if it already exists\n(i.e. when we run it for the second time).</p>\n</blockquote>\n</blockquote>\n",
      "cell_type": "markdown",
      "metadata": {
        "editable": false,
        "collapsed": false
      }
    },
    {
      "id": "cell-19",
      "source": [
        "# Explore the possible solutions here!"
      ],
      "cell_type": "code",
      "execution_count": null,
      "outputs": [

      ],
      "metadata": {
        "attributes": {
          "classes": [
            "bash"
          ],
          "id": ""
        }
      }
    },
    {
      "id": "cell-20",
      "source": "<blockquote class=\"question\" style=\"border: 2px solid #8A9AD0; margin: 1em 0.2em\">\n<h3 id=\"-icon-question--appending-data\">❓ Appending Data</h3>\n<p>We have already met the <code>head</code> command, which prints lines from the start of a file.\n<code>tail</code> is similar, but prints lines from the end of a file instead.</p>\n<p>Consider the file <code>shell-lesson-data/data/animals.txt</code>.\nAfter these commands, select the answer that\ncorresponds to the file <code>animals-subset.txt</code>:</p>\n<div class=\"language-plaintext highlighter-rouge\"><div><pre style=\"color: inherit; background: white\"><code>&#36; head -n 3 animals.txt &gt; animals-subset.txt\n&#36; tail -n 2 animals.txt &gt;&gt; animals-subset.txt\n</code></pre></div>  </div>\n<ol>\n<li>The first three lines of <code>animals.txt</code></li>\n<li>The last two lines of <code>animals.txt</code></li>\n<li>The first three lines and the last two lines of <code>animals.txt</code></li>\n<li>The second and third lines of <code>animals.txt</code></li>\n</ol>\n<blockquote class=\"solution\" style=\"border: 2px solid #B8C3EA;color: white; margin: 1em 0.2em\">\n<div style=\"color: #555; font-size: 95%;\">Hint: Select the text with your mouse to see the answer</div><h3 id=\"-icon-solution--solution\">👁 Solution</h3>\n<p>Option 3 is correct.\nFor option 1 to be correct we would only run the <code>head</code> command.\nFor option 2 to be correct we would only run the <code>tail</code> command.\nFor option 4 to be correct we would have to pipe the output of <code>head</code> into <code>tail -n 2</code>\nby doing <code>head -n 3 animals.txt | tail -n 2 &gt; animals-subset.txt</code></p>\n</blockquote>\n</blockquote>\n",
      "cell_type": "markdown",
      "metadata": {
        "editable": false,
        "collapsed": false
      }
    },
    {
      "id": "cell-21",
      "source": [
        "# Explore the possible solutions here!"
      ],
      "cell_type": "code",
      "execution_count": null,
      "outputs": [

      ],
      "metadata": {
        "attributes": {
          "classes": [
            "bash"
          ],
          "id": ""
        }
      }
    },
    {
      "id": "cell-22",
      "source": "<h2 id=\"passing-output-to-another-command\">Passing output to another command</h2>\n<p>In our example of finding the file with the fewest lines,\nwe are using two intermediate files <code>lengths.txt</code> and <code>sorted-lengths.txt</code> to store output.\nThis is a confusing way to work because\neven once you understand what <code>wc</code>, <code>sort</code>, and <code>head</code> do,\nthose intermediate files make it hard to follow what’s going on.\nWe can make it easier to understand by running <code>sort</code> and <code>head</code> together:</p>\n",
      "cell_type": "markdown",
      "metadata": {
        "editable": false,
        "collapsed": false
      }
    },
    {
      "id": "cell-23",
      "source": [
        "sort -n lengths.txt | head -n 1"
      ],
      "cell_type": "code",
      "execution_count": null,
      "outputs": [

      ],
      "metadata": {
        "attributes": {
          "classes": [
            "bash"
          ],
          "id": ""
        }
      }
    },
    {
      "id": "cell-24",
      "source": "<p>The vertical bar, <code>|</code>, between the two commands is called a <strong>pipe</strong>.\nIt tells the shell that we want to use\nthe output of the command on the left\nas the input to the command on the right.</p>\n<p>This has removed the need for the <code>sorted-lengths.txt</code> file.</p>\n<h2 id=\"combining-multiple-commands\">Combining multiple commands</h2>\n<p>Nothing prevents us from chaining pipes consecutively.\nWe can for example send the output of <code>wc</code> directly to <code>sort</code>,\nand then the resulting output to <code>head</code>.\nThis removes the need for any intermediate files.</p>\n<p>We’ll start by using a pipe to send the output of <code>wc</code> to <code>sort</code>:</p>\n",
      "cell_type": "markdown",
      "metadata": {
        "editable": false,
        "collapsed": false
      }
    },
    {
      "id": "cell-25",
      "source": [
        "wc -l *.pdb | sort -n"
      ],
      "cell_type": "code",
      "execution_count": null,
      "outputs": [

      ],
      "metadata": {
        "attributes": {
          "classes": [
            "bash"
          ],
          "id": ""
        }
      }
    },
    {
      "id": "cell-26",
      "source": "<p>We can then send that output through another pipe, to <code>head</code>, so that the full pipeline becomes:</p>\n",
      "cell_type": "markdown",
      "metadata": {
        "editable": false,
        "collapsed": false
      }
    },
    {
      "id": "cell-27",
      "source": [
        "wc -l *.pdb | sort -n | head -n 1"
      ],
      "cell_type": "code",
      "execution_count": null,
      "outputs": [

      ],
      "metadata": {
        "attributes": {
          "classes": [
            "bash"
          ],
          "id": ""
        }
      }
    },
    {
      "id": "cell-28",
      "source": "<p>This is exactly like a mathematician nesting functions like <em>log(3x)</em>\nand saying ‘the log of three times <em>x</em>’.\nIn our case,\nthe calculation is ‘head of sort of line count of <code>*.pdb</code>’.</p>\n<p>The redirection and pipes used in the last few commands are illustrated below:</p>\n<p><img src=\"https://training.galaxyproject.org/training-material/topics/data-science/tutorials/cli-advanced/../../images/carpentries-cli/redirects-and-pipes.svg\" alt=\"Redirects and Pipes of different commands\" /></p>\n<p><code>wc -l *.pdb</code> will direct the output to the shell. <code>wc -l *.pdb &gt; lengths</code> will\ndirect output to the file lengths. <code>wc -l *.pdb | sort -n | head -n 1</code> will\nbuild a pipeline where the output of the wc command is the input to the sort\ncommand, the output of the sort command is the input to the head command and\nthe output of the head command is directed to the shell</p>\n<blockquote class=\"question\" style=\"border: 2px solid #8A9AD0; margin: 1em 0.2em\">\n<h3 id=\"-icon-question--piping-commands-together\">❓ Piping Commands Together</h3>\n<p>In our current directory, we want to find the 3 files which have the least number of\nlines. Which command listed below would work?</p>\n<ol>\n<li><code>wc -l * &gt; sort -n &gt; head -n 3</code></li>\n<li><code>wc -l * | sort -n | head -n 1-3</code></li>\n<li><code>wc -l * | head -n 3 | sort -n</code></li>\n<li><code>wc -l * | sort -n | head -n 3</code></li>\n</ol>\n<blockquote class=\"solution\" style=\"border: 2px solid #B8C3EA;color: white; margin: 1em 0.2em\">\n<div style=\"color: #555; font-size: 95%;\">Hint: Select the text with your mouse to see the answer</div><h3 id=\"-icon-solution--solution\">👁 Solution</h3>\n<p>Option 4 is the solution.\nThe pipe character <code>|</code> is used to connect the output from one command to\nthe input of another.\n<code>&gt;</code> is used to redirect standard output to a file.\nTry it in the <code>shell-lesson-data/molecules</code> directory!</p>\n</blockquote>\n</blockquote>\n",
      "cell_type": "markdown",
      "metadata": {
        "editable": false,
        "collapsed": false
      }
    },
    {
      "id": "cell-29",
      "source": [
        "# Explore the possible solutions here!"
      ],
      "cell_type": "code",
      "execution_count": null,
      "outputs": [

      ],
      "metadata": {
        "attributes": {
          "classes": [
            "bash"
          ],
          "id": ""
        }
      }
    },
    {
      "id": "cell-30",
      "source": "<h2 id=\"tools-designed-to-work-together\">Tools designed to work together</h2>\n<p>This idea of linking programs together is why Unix has been so successful.\nInstead of creating enormous programs that try to do many different things,\nUnix programmers focus on creating lots of simple tools that each do one job well,\nand that work well with each other.\nThis programming model is called ‘pipes and filters’.\nWe’ve already seen pipes;\na <strong>filter</strong> is a program like <code>wc</code> or <code>sort</code>\nthat transforms a stream of input into a stream of output.\nAlmost all of the standard Unix tools can work this way:\nunless told to do otherwise,\nthey read from standard input,\ndo something with what they’ve read,\nand write to standard output.</p>\n<p>The key is that any program that reads lines of text from standard input\nand writes lines of text to standard output\ncan be combined with every other program that behaves this way as well.\nYou can <em>and should</em> write your programs this way\nso that you and other people can put those programs into pipes to multiply their power.</p>\n<blockquote class=\"question\" style=\"border: 2px solid #8A9AD0; margin: 1em 0.2em\">\n<h3 id=\"-icon-question--pipe-reading-comprehension\">❓ Pipe Reading Comprehension</h3>\n<p>A file called <code>animals.txt</code> (in the <code>shell-lesson-data/data</code> folder) contains the following data:</p>\n<div class=\"language-plaintext highlighter-rouge\"><div><pre style=\"color: inherit; background: white\"><code>2012-11-05,deer\n2012-11-05,rabbit\n2012-11-05,raccoon\n2012-11-06,rabbit\n2012-11-06,deer\n2012-11-06,fox\n2012-11-07,rabbit\n2012-11-07,bear\n</code></pre></div>  </div>\n<p>What text passes through each of the pipes and the final redirect in the pipeline below?</p>\n<div class=\"language-plaintext highlighter-rouge\"><div><pre style=\"color: inherit; background: white\"><code>&#36; cat animals.txt | head -n 5 | tail -n 3 | sort -r &gt; final.txt\n</code></pre></div>  </div>\n<p>Hint: build the pipeline up one command at a time to test your understanding</p>\n<blockquote class=\"solution\" style=\"border: 2px solid #B8C3EA;color: white; margin: 1em 0.2em\">\n<div style=\"color: #555; font-size: 95%;\">Hint: Select the text with your mouse to see the answer</div><h3 id=\"-icon-solution--solution\">👁 Solution</h3>\n<p>The <code>head</code> command extracts the first 5 lines from <code>animals.txt</code>.\nThen, the last 3 lines are extracted from the previous 5 by using the <code>tail</code> command.\nWith the <code>sort -r</code> command those 3 lines are sorted in reverse order and finally,\nthe output is redirected to a file <code>final.txt</code>.\nThe content of this file can be checked by executing <code>cat final.txt</code>.\nThe file should contain the following lines:</p>\n<div class=\"language-plaintext highlighter-rouge\"><div><pre style=\"color: inherit; background: white\"><code>2012-11-06,rabbit\n2012-11-06,deer\n2012-11-05,raccoon\n</code></pre></div>    </div>\n</blockquote>\n</blockquote>\n",
      "cell_type": "markdown",
      "metadata": {
        "editable": false,
        "collapsed": false
      }
    },
    {
      "id": "cell-31",
      "source": [
        "# Explore the possible solutions here!"
      ],
      "cell_type": "code",
      "execution_count": null,
      "outputs": [

      ],
      "metadata": {
        "attributes": {
          "classes": [
            "bash"
          ],
          "id": ""
        }
      }
    },
    {
      "id": "cell-32",
      "source": "<blockquote class=\"question\" style=\"border: 2px solid #8A9AD0; margin: 1em 0.2em\">\n<h3 id=\"-icon-question--pipe-construction\">❓ Pipe Construction</h3>\n<p>For the file <code>animals.txt</code> from the previous exercise, consider the following command:</p>\n<div class=\"language-plaintext highlighter-rouge\"><div><pre style=\"color: inherit; background: white\"><code>&#36; cut -d , -f 2 animals.txt\n</code></pre></div>  </div>\n<p>The <code>cut</code> command is used to remove or ‘cut out’ certain sections of each line in the file,\nand <code>cut</code> expects the lines to be separated into columns by a <kbd>Tab</kbd> character.\nA character used in this way is a called a <strong>delimiter</strong>.\nIn the example above we use the <code>-d</code> option to specify the comma as our delimiter character.\nWe have also used the <code>-f</code> option to specify that we want to extract the second field (column).\nThis gives the following output:</p>\n<div class=\"language-plaintext highlighter-rouge\"><div><pre style=\"color: inherit; background: white\"><code>deer\nrabbit\nraccoon\nrabbit\ndeer\nfox\nrabbit\nbear\n</code></pre></div>  </div>\n<p>The <code>uniq</code> command filters out adjacent matching lines in a file.\nHow could you extend this pipeline (using <code>uniq</code> and another command) to find\nout what animals the file contains (without any duplicates in their\nnames)?</p>\n<blockquote class=\"solution\" style=\"border: 2px solid #B8C3EA;color: white; margin: 1em 0.2em\">\n<div style=\"color: #555; font-size: 95%;\">Hint: Select the text with your mouse to see the answer</div><h3 id=\"-icon-solution--solution\">👁 Solution</h3>\n<div class=\"language-plaintext highlighter-rouge\"><div><pre style=\"color: inherit; background: white\"><code>&#36; cut -d , -f 2 animals.txt | sort | uniq\n</code></pre></div>    </div>\n</blockquote>\n</blockquote>\n",
      "cell_type": "markdown",
      "metadata": {
        "editable": false,
        "collapsed": false
      }
    },
    {
      "id": "cell-33",
      "source": [
        "# Explore the possible solutions here!"
      ],
      "cell_type": "code",
      "execution_count": null,
      "outputs": [

      ],
      "metadata": {
        "attributes": {
          "classes": [
            "bash"
          ],
          "id": ""
        }
      }
    },
    {
      "id": "cell-34",
      "source": "<blockquote class=\"question\" style=\"border: 2px solid #8A9AD0; margin: 1em 0.2em\">\n<h3 id=\"-icon-question--which-pipe\">❓ Which Pipe?</h3>\n<p>The file <code>animals.txt</code> contains 8 lines of data formatted as follows:</p>\n<div class=\"language-plaintext highlighter-rouge\"><div><pre style=\"color: inherit; background: white\"><code>2012-11-05,deer\n2012-11-05,rabbit\n2012-11-05,raccoon\n2012-11-06,rabbit\n...\n</code></pre></div>  </div>\n<p>The <code>uniq</code> command has a <code>-c</code> option which gives a count of the\nnumber of times a line occurs in its input.  Assuming your current\ndirectory is <code>shell-lesson-data/data/</code>, what command would you use to produce\na table that shows the total count of each type of animal in the file?</p>\n<ol>\n<li><code>sort animals.txt | uniq -c</code></li>\n<li><code>sort -t, -k2,2 animals.txt | uniq -c</code></li>\n<li><code>cut -d, -f 2 animals.txt | uniq -c</code></li>\n<li><code>cut -d, -f 2 animals.txt | sort | uniq -c</code></li>\n<li><code>cut -d, -f 2 animals.txt | sort | uniq -c | wc -l</code></li>\n</ol>\n<blockquote class=\"solution\" style=\"border: 2px solid #B8C3EA;color: white; margin: 1em 0.2em\">\n<div style=\"color: #555; font-size: 95%;\">Hint: Select the text with your mouse to see the answer</div><h3 id=\"-icon-solution--solution\">👁 Solution</h3>\n<p>Option 4. is the correct answer.\nIf you have difficulty understanding why, try running the commands, or sub-sections of\nthe pipelines (make sure you are in the <code>shell-lesson-data/data</code> directory).</p>\n</blockquote>\n</blockquote>\n",
      "cell_type": "markdown",
      "metadata": {
        "editable": false,
        "collapsed": false
      }
    },
    {
      "id": "cell-35",
      "source": [
        "# Explore the possible solutions here!"
      ],
      "cell_type": "code",
      "execution_count": null,
      "outputs": [

      ],
      "metadata": {
        "attributes": {
          "classes": [
            "bash"
          ],
          "id": ""
        }
      }
    },
    {
      "id": "cell-36",
      "source": "<h2 id=\"nelles-pipeline-checking-files\">Nelle’s Pipeline: Checking Files</h2>\n<p>Nelle has run her samples through the assay machines\nand created 17 files in the <code>north-pacific-gyre/2012-07-03</code> directory described earlier.\nAs a quick check, starting from her home directory, Nelle types:</p>\n",
      "cell_type": "markdown",
      "metadata": {
        "editable": false,
        "collapsed": false
      }
    },
    {
      "id": "cell-37",
      "source": [
        "cd ~/Desktop/shell-lesson-data/north-pacific-gyre/2012-07-03\n",
        "wc -l *.txt"
      ],
      "cell_type": "code",
      "execution_count": null,
      "outputs": [

      ],
      "metadata": {
        "attributes": {
          "classes": [
            "bash"
          ],
          "id": ""
        }
      }
    },
    {
      "id": "cell-38",
      "source": "<p>The output is 18 lines that look like this:</p>\n<div class=\"language-plaintext highlighter-rouge\"><div><pre style=\"color: inherit; background: white\"><code>300 NENE01729A.txt\n300 NENE01729B.txt\n300 NENE01736A.txt\n300 NENE01751A.txt\n300 NENE01751B.txt\n300 NENE01812A.txt\n... ...\n</code></pre></div></div>\n<p>Now she types this:</p>\n",
      "cell_type": "markdown",
      "metadata": {
        "editable": false,
        "collapsed": false
      }
    },
    {
      "id": "cell-39",
      "source": [
        "wc -l *.txt | sort -n | head -n 5"
      ],
      "cell_type": "code",
      "execution_count": null,
      "outputs": [

      ],
      "metadata": {
        "attributes": {
          "classes": [
            "bash"
          ],
          "id": ""
        }
      }
    },
    {
      "id": "cell-40",
      "source": "<p>Whoops: one of the files is 60 lines shorter than the others.\nWhen she goes back and checks it,\nshe sees that she did that assay at 8:00 on a Monday morning — someone\nwas probably in using the machine on the weekend,\nand she forgot to reset it.\nBefore re-running that sample,\nshe checks to see if any files have too much data:</p>\n",
      "cell_type": "markdown",
      "metadata": {
        "editable": false,
        "collapsed": false
      }
    },
    {
      "id": "cell-41",
      "source": [
        "wc -l *.txt | sort -n | tail -n 5"
      ],
      "cell_type": "code",
      "execution_count": null,
      "outputs": [

      ],
      "metadata": {
        "attributes": {
          "classes": [
            "bash"
          ],
          "id": ""
        }
      }
    },
    {
      "id": "cell-42",
      "source": "<p>Those numbers look good — but what’s that ‘Z’ doing there in the third-to-last line?\nAll of her samples should be marked ‘A’ or ‘B’;\nby convention,\nher lab uses ‘Z’ to indicate samples with missing information.\nTo find others like it, she does this:</p>\n",
      "cell_type": "markdown",
      "metadata": {
        "editable": false,
        "collapsed": false
      }
    },
    {
      "id": "cell-43",
      "source": [
        "ls *Z.txt"
      ],
      "cell_type": "code",
      "execution_count": null,
      "outputs": [

      ],
      "metadata": {
        "attributes": {
          "classes": [
            "bash"
          ],
          "id": ""
        }
      }
    },
    {
      "id": "cell-44",
      "source": "<p>Sure enough,\nwhen she checks the log on her laptop,\nthere’s no depth recorded for either of those samples.\nSince it’s too late to get the information any other way,\nshe must exclude those two files from her analysis.\nShe could delete them using <code>rm</code>,\nbut there are actually some analyses she might do later where depth doesn’t matter,\nso instead, she’ll have to be careful later on to select files using the wildcard expressions\n<code class=\"language-plaintext highlighter-rouge\">NENE*A.txt NENE*B.txt</code>.</p>\n<blockquote class=\"question\" style=\"border: 2px solid #8A9AD0; margin: 1em 0.2em\">\n<h3 id=\"-icon-question--removing-unneeded-files\">❓ Removing Unneeded Files</h3>\n<p>Suppose you want to delete your processed data files, and only keep\nyour raw files and processing script to save storage.\nThe raw files end in <code>.dat</code> and the processed files end in <code>.txt</code>.\nWhich of the following would remove all the processed data files,\nand <em>only</em> the processed data files?</p>\n<ol>\n<li><code>rm ?.txt</code></li>\n<li><code>rm *.txt</code></li>\n<li><code>rm * .txt</code></li>\n<li><code>rm *.*</code></li>\n</ol>\n<blockquote class=\"solution\" style=\"border: 2px solid #B8C3EA;color: white; margin: 1em 0.2em\">\n<div style=\"color: #555; font-size: 95%;\">Hint: Select the text with your mouse to see the answer</div><h3 id=\"-icon-solution--solution\">👁 Solution</h3>\n<ol>\n<li>This would remove <code>.txt</code> files with one-character names</li>\n<li>This is correct answer</li>\n<li>The shell would expand <code>*</code> to match everything in the current directory,\nso the command would try to remove all matched files and an additional\nfile called <code>.txt</code></li>\n<li>The shell would expand <code>*.*</code> to match all files with any extension,\nso this command would delete all files</li>\n</ol>\n</blockquote>\n</blockquote>\n<h1 id=\"loops\">Loops</h1>\n<p><strong>Loops</strong> are a programming construct which allow us to repeat a command or set of commands\nfor each item in a list.\nAs such they are key to productivity improvements through automation.\nSimilar to wildcards and tab completion, using loops also reduces the\namount of typing required (and hence reduces the number of typing mistakes).</p>\n<p>Suppose we have several hundred genome data files named <code>basilisk.dat</code>, <code>minotaur.dat</code>, and\n<code class=\"language-plaintext highlighter-rouge\">unicorn.dat</code>.\nFor this example, we’ll use the <code>creatures</code> directory which only has three example files,\nbut the principles can be applied to many many more files at once. First, go\ninto the creatures directory.</p>\n",
      "cell_type": "markdown",
      "metadata": {
        "editable": false,
        "collapsed": false
      }
    },
    {
      "id": "cell-45",
      "source": [
        "# Change directories here!\n",
        ""
      ],
      "cell_type": "code",
      "execution_count": null,
      "outputs": [

      ],
      "metadata": {
        "attributes": {
          "classes": [
            "bash"
          ],
          "id": ""
        }
      }
    },
    {
      "id": "cell-46",
      "source": "<p>The structure of these files is the same: the common name, classification, and updated date are\npresented on the first three lines, with DNA sequences on the following lines.\nLet’s look at the files:</p>\n",
      "cell_type": "markdown",
      "metadata": {
        "editable": false,
        "collapsed": false
      }
    },
    {
      "id": "cell-47",
      "source": [
        "head -n 5 basilisk.dat minotaur.dat unicorn.dat"
      ],
      "cell_type": "code",
      "execution_count": null,
      "outputs": [

      ],
      "metadata": {
        "attributes": {
          "classes": [
            "bash"
          ],
          "id": ""
        }
      }
    },
    {
      "id": "cell-48",
      "source": "<p>We would like to print out the classification for each species, which is given on the second\nline of each file.\nFor each file, we would need to execute the command <code>head -n 2</code> and pipe this to <code>tail -n 1</code>.\nWe’ll use a loop to solve this problem, but first let’s look at the general form of a loop:</p>\n<div class=\"language-plaintext highlighter-rouge\"><div><pre style=\"color: inherit; background: white\"><code>for thing in list_of_things\ndo\noperation_using &#36;thing    # Indentation within the loop is not required, but aids legibility\ndone\n</code></pre></div></div>\n<p>and we can apply this to our example like this:</p>\n",
      "cell_type": "markdown",
      "metadata": {
        "editable": false,
        "collapsed": false
      }
    },
    {
      "id": "cell-49",
      "source": [
        "for filename in basilisk.dat minotaur.dat unicorn.dat\n",
        "do\n",
        "head -n 2 $filename | tail -n 1\n",
        "done"
      ],
      "cell_type": "code",
      "execution_count": null,
      "outputs": [

      ],
      "metadata": {
        "attributes": {
          "classes": [
            "bash"
          ],
          "id": ""
        }
      }
    },
    {
      "id": "cell-50",
      "source": "<blockquote class=\"tip\" style=\"border: 2px solid #FFE19E; margin: 1em 0.2em\">\n<h3 id=\"-icon-tip--follow-the-prompt\">💡 Follow the Prompt</h3>\n<p>The shell prompt changes from <code>&#36;</code> to <code>&gt;</code> and back again as we were\ntyping in our loop. The second prompt, <code>&gt;</code>, is different to remind\nus that we haven’t finished typing a complete command yet. A semicolon, <code>;</code>,\ncan be used to separate two commands written on a single line.</p>\n</blockquote>\n<p>When the shell sees the keyword <code>for</code>,\nit knows to repeat a command (or group of commands) once for each item in a list.\nEach time the loop runs (called an iteration), an item in the list is assigned in sequence to\nthe <strong>variable</strong>, and the commands inside the loop are executed, before moving on to\nthe next item in the list.\nInside the loop,\nwe call for the variable’s value by putting <code>&#36;</code> in front of it.\nThe <code>&#36;</code> tells the shell interpreter to treat\nthe variable as a variable name and substitute its value in its place,\nrather than treat it as text or an external command.</p>\n<p>In this example, the list is three filenames: <code>basilisk.dat</code>, <code>minotaur.dat</code>, and <code>unicorn.dat</code>.\nEach time the loop iterates, it will assign a file name to the variable <code>filename</code>\nand run the <code>head</code> command.\nThe first time through the loop,\n<code>&#36;filename</code> is <code>basilisk.dat</code>.\nThe interpreter runs the command <code>head</code> on <code>basilisk.dat</code>\nand pipes the first two lines to the <code>tail</code> command,\nwhich then prints the second line of <code>basilisk.dat</code>.\nFor the second iteration, <code>&#36;filename</code> becomes\n<code class=\"language-plaintext highlighter-rouge\">minotaur.dat</code>. This time, the shell runs <code>head</code> on <code>minotaur.dat</code>\nand pipes the first two lines to the <code>tail</code> command,\nwhich then prints the second line of <code>minotaur.dat</code>.\nFor the third iteration, <code>&#36;filename</code> becomes\n<code class=\"language-plaintext highlighter-rouge\">unicorn.dat</code>, so the shell runs the <code>head</code> command on that file,\nand <code>tail</code> on the output of that.\nSince the list was only three items, the shell exits the <code>for</code> loop.</p>\n<blockquote class=\"tip\" style=\"border: 2px solid #FFE19E; margin: 1em 0.2em\">\n<h3 id=\"-icon-tip--same-symbols-different-meanings\">💡 Same Symbols, Different Meanings</h3>\n<p>Here we see <code>&gt;</code> being used as a shell prompt, whereas <code>&gt;</code> is also\nused to redirect output.\nSimilarly, <code>&#36;</code> is used as a shell prompt, but, as we saw earlier,\nit is also used to ask the shell to get the value of a variable.</p>\n<p>If the <em>shell</em> prints <code>&gt;</code> or <code>&#36;</code> then it expects you to type something,\nand the symbol is a prompt.</p>\n<p>If <em>you</em> type <code>&gt;</code> or <code>&#36;</code> yourself, it is an instruction from you that\nthe shell should redirect output or get the value of a variable.</p>\n</blockquote>\n<p>When using variables it is also\npossible to put the names into curly braces to clearly delimit the variable\nname: <code>&#36;filename</code> is equivalent to <code>&#36;{filename}</code>, but is different from\n<code class=\"language-plaintext highlighter-rouge\">&#36;{file}name</code>. You may find this notation in other people’s programs.</p>\n<p>We have called the variable in this loop <code>filename</code>\nin order to make its purpose clearer to human readers.\nThe shell itself doesn’t care what the variable is called;\nif we wrote this loop as:</p>\n",
      "cell_type": "markdown",
      "metadata": {
        "editable": false,
        "collapsed": false
      }
    },
    {
      "id": "cell-51",
      "source": [
        "for x in basilisk.dat minotaur.dat unicorn.dat\n",
        "do\n",
        "head -n 2 $x | tail -n 1\n",
        "done"
      ],
      "cell_type": "code",
      "execution_count": null,
      "outputs": [

      ],
      "metadata": {
        "attributes": {
          "classes": [
            "bash"
          ],
          "id": ""
        }
      }
    },
    {
      "id": "cell-52",
      "source": "<p>or:</p>\n",
      "cell_type": "markdown",
      "metadata": {
        "editable": false,
        "collapsed": false
      }
    },
    {
      "id": "cell-53",
      "source": [
        "for temperature in basilisk.dat minotaur.dat unicorn.dat\n",
        "do\n",
        "head -n 2 $temperature | tail -n 1\n",
        "done"
      ],
      "cell_type": "code",
      "execution_count": null,
      "outputs": [

      ],
      "metadata": {
        "attributes": {
          "classes": [
            "bash"
          ],
          "id": ""
        }
      }
    },
    {
      "id": "cell-54",
      "source": "<p>it would work exactly the same way.</p>\n<p><strong>Don’t do this.</strong></p>\n<p>Programs are only useful if people can understand them,\nso meaningless names (like <code>x</code>) or misleading names (like <code>temperature</code>)\nincrease the odds that the program won’t do what its readers think it does.</p>\n<blockquote class=\"question\" style=\"border: 2px solid #8A9AD0; margin: 1em 0.2em\">\n<h3 id=\"-icon-question--variables-in-loops\">❓ Variables in Loops</h3>\n<p>This exercise refers to the <code>shell-lesson-data/molecules</code> directory.\n<code>ls</code> gives the following output:</p>\n<div class=\"language-plaintext highlighter-rouge\"><div><pre style=\"color: inherit; background: white\"><code>cubane.pdb  ethane.pdb  methane.pdb  octane.pdb  pentane.pdb  propane.pdb\n</code></pre></div>  </div>\n<p>What is the output of the following code?</p>\n<div class=\"language-plaintext highlighter-rouge\"><div><pre style=\"color: inherit; background: white\"><code>for datafile in *.pdb\ndo\n    ls *.pdb\ndone\n</code></pre></div>  </div>\n<p>Now, what is the output of the following code?</p>\n<div class=\"language-plaintext highlighter-rouge\"><div><pre style=\"color: inherit; background: white\"><code>for datafile in *.pdb\ndo\n   ls &#36;datafile\ndone\n</code></pre></div>  </div>\n<p>Why do these two loops give different outputs?</p>\n<blockquote class=\"solution\" style=\"border: 2px solid #B8C3EA;color: white; margin: 1em 0.2em\">\n<div style=\"color: #555; font-size: 95%;\">Hint: Select the text with your mouse to see the answer</div><h3 id=\"-icon-solution--solution\">👁 Solution</h3>\n<p>The first code block gives the same output on each iteration through\nthe loop.\nBash expands the wildcard <code>*.pdb</code> within the loop body (as well as\nbefore the loop starts) to match all files ending in <code>.pdb</code>\nand then lists them using <code>ls</code>.\nThe expanded loop would look like this:</p>\n<div class=\"language-plaintext highlighter-rouge\"><div><pre style=\"color: inherit; background: white\"><code>&#36; for datafile in cubane.pdb  ethane.pdb  methane.pdb  octane.pdb  pentane.pdb  propane.pdb\n&gt; do\n&gt;     ls cubane.pdb  ethane.pdb  methane.pdb  octane.pdb  pentane.pdb  propane.pdb\n&gt; done\n</code></pre></div>    </div>\n<div class=\"language-plaintext highlighter-rouge\"><div><pre style=\"color: inherit; background: white\"><code>cubane.pdb  ethane.pdb  methane.pdb  octane.pdb  pentane.pdb  propane.pdb\ncubane.pdb  ethane.pdb  methane.pdb  octane.pdb  pentane.pdb  propane.pdb\ncubane.pdb  ethane.pdb  methane.pdb  octane.pdb  pentane.pdb  propane.pdb\ncubane.pdb  ethane.pdb  methane.pdb  octane.pdb  pentane.pdb  propane.pdb\ncubane.pdb  ethane.pdb  methane.pdb  octane.pdb  pentane.pdb  propane.pdb\ncubane.pdb  ethane.pdb  methane.pdb  octane.pdb  pentane.pdb  propane.pdb\n</code></pre></div>    </div>\n<p>The second code block lists a different file on each loop iteration.\nThe value of the <code>datafile</code> variable is evaluated using <code>&#36;datafile</code>,\nand then listed using <code>ls</code>.</p>\n<div class=\"language-plaintext highlighter-rouge\"><div><pre style=\"color: inherit; background: white\"><code>cubane.pdb\nethane.pdb\nmethane.pdb\noctane.pdb\npentane.pdb\npropane.pdb\n</code></pre></div>    </div>\n</blockquote>\n</blockquote>\n",
      "cell_type": "markdown",
      "metadata": {
        "editable": false,
        "collapsed": false
      }
    },
    {
      "id": "cell-55",
      "source": [
        "# Explore the possible solutions here!"
      ],
      "cell_type": "code",
      "execution_count": null,
      "outputs": [

      ],
      "metadata": {
        "attributes": {
          "classes": [
            "bash"
          ],
          "id": ""
        }
      }
    },
    {
      "id": "cell-56",
      "source": "<blockquote class=\"question\" style=\"border: 2px solid #8A9AD0; margin: 1em 0.2em\">\n<h3 id=\"-icon-question--limiting-sets-of-files\">❓ Limiting Sets of Files</h3>\n<p>What would be the output of running the following loop in thei\n<code>shell-lesson-data/molecules</code> directory?</p>\n<div class=\"language-plaintext highlighter-rouge\"><div><pre style=\"color: inherit; background: white\"><code>for filename in c*\ndo\n    ls &#36;filename\ndone\n</code></pre></div>  </div>\n<ol>\n<li>No files are listed.</li>\n<li>All files are listed.</li>\n<li>Only <code>cubane.pdb</code>, <code>octane.pdb</code> and <code>pentane.pdb</code> are listed.</li>\n<li>Only <code>cubane.pdb</code> is listed.</li>\n</ol>\n<blockquote class=\"solution\" style=\"border: 2px solid #B8C3EA;color: white; margin: 1em 0.2em\">\n<div style=\"color: #555; font-size: 95%;\">Hint: Select the text with your mouse to see the answer</div><h3 id=\"-icon-solution--solution\">👁 Solution</h3>\n<p>4 is the correct answer. <code>*</code> matches zero or more characters, so any file name starting with\nthe letter c, followed by zero or more other characters will be matched.</p>\n</blockquote>\n<p>How would the output differ from using this command instead?</p>\n<div class=\"language-plaintext highlighter-rouge\"><div><pre style=\"color: inherit; background: white\"><code>for filename in *c*\ndo\n    ls &#36;filename\ndone\n</code></pre></div>  </div>\n<ol>\n<li>The same files would be listed.</li>\n<li>All the files are listed this time.</li>\n<li>No files are listed this time.</li>\n<li>The files <code>cubane.pdb</code> and <code>octane.pdb</code> will be listed.</li>\n<li>Only the file <code>octane.pdb</code> will be listed.</li>\n</ol>\n<blockquote class=\"solution\" style=\"border: 2px solid #B8C3EA;color: white; margin: 1em 0.2em\">\n<h3 id=\"-icon-solution--solution-1\">👁 Solution</h3>\n<p>4 is the correct answer. <code>*</code> matches zero or more characters, so a file name with zero or more\ncharacters before a letter c and zero or more characters after the letter c will be matched.</p>\n</blockquote>\n</blockquote>\n",
      "cell_type": "markdown",
      "metadata": {
        "editable": false,
        "collapsed": false
      }
    },
    {
      "id": "cell-57",
      "source": [
        "# Explore the possible solutions here!"
      ],
      "cell_type": "code",
      "execution_count": null,
      "outputs": [

      ],
      "metadata": {
        "attributes": {
          "classes": [
            "bash"
          ],
          "id": ""
        }
      }
    },
    {
      "id": "cell-58",
      "source": "<blockquote class=\"question\" style=\"border: 2px solid #8A9AD0; margin: 1em 0.2em\">\n<h3 id=\"-icon-question--saving-to-a-file-in-a-loop---part-one\">❓ Saving to a File in a Loop - Part One</h3>\n<p>In the <code>shell-lesson-data/molecules</code> directory, what is the effect of this loop?</p>\n<div class=\"language-plaintext highlighter-rouge\"><div><pre style=\"color: inherit; background: white\"><code>for alkanes in *.pdb\ndo\n    echo &#36;alkanes\n    cat &#36;alkanes &gt; alkanes.pdb\ndone\n</code></pre></div>  </div>\n<ol>\n<li>Prints <code>cubane.pdb</code>, <code>ethane.pdb</code>, <code>methane.pdb</code>, <code>octane.pdb</code>, <code>pentane.pdb</code> and\n<code>propane.pdb</code>, and the text from <code>propane.pdb</code> will be saved to a file called <code>alkanes.pdb</code>.</li>\n<li>Prints <code>cubane.pdb</code>, <code>ethane.pdb</code>, and <code>methane.pdb</code>, and the text from all three files\nwould be concatenated and saved to a file called <code>alkanes.pdb</code>.</li>\n<li>Prints <code>cubane.pdb</code>, <code>ethane.pdb</code>, <code>methane.pdb</code>, <code>octane.pdb</code>, and <code>pentane.pdb</code>,\nand the text from <code>propane.pdb</code> will be saved to a file called <code>alkanes.pdb</code>.</li>\n<li>None of the above.</li>\n</ol>\n<blockquote class=\"solution\" style=\"border: 2px solid #B8C3EA;color: white; margin: 1em 0.2em\">\n<div style=\"color: #555; font-size: 95%;\">Hint: Select the text with your mouse to see the answer</div><h3 id=\"-icon-solution--solution\">👁 Solution</h3>\n<p>1 is correct. The text from each file in turn gets written to the <code>alkanes.pdb</code> file.\nHowever, the file gets overwritten on each loop iteration, so the final content of <code>alkanes.pdb</code>\nis the text from the <code>propane.pdb</code> file.</p>\n</blockquote>\n</blockquote>\n",
      "cell_type": "markdown",
      "metadata": {
        "editable": false,
        "collapsed": false
      }
    },
    {
      "id": "cell-59",
      "source": [
        "# Explore the possible solutions here!"
      ],
      "cell_type": "code",
      "execution_count": null,
      "outputs": [

      ],
      "metadata": {
        "attributes": {
          "classes": [
            "bash"
          ],
          "id": ""
        }
      }
    },
    {
      "id": "cell-60",
      "source": "<blockquote class=\"question\" style=\"border: 2px solid #8A9AD0; margin: 1em 0.2em\">\n<h3 id=\"-icon-question--saving-to-a-file-in-a-loop---part-two\">❓ Saving to a File in a Loop - Part Two</h3>\n<p>Also in the <code>shell-lesson-data/molecules</code> directory,\nwhat would be the output of the following loop?</p>\n<div class=\"language-plaintext highlighter-rouge\"><div><pre style=\"color: inherit; background: white\"><code>for datafile in *.pdb\ndo\n    cat &#36;datafile &gt;&gt; all.pdb\ndone\n</code></pre></div>  </div>\n<ol>\n<li>All of the text from <code>cubane.pdb</code>, <code>ethane.pdb</code>, <code>methane.pdb</code>, <code>octane.pdb</code>, and\n<code>pentane.pdb</code> would be concatenated and saved to a file called <code>all.pdb</code>.</li>\n<li>The text from <code>ethane.pdb</code> will be saved to a file called <code>all.pdb</code>.</li>\n<li>All of the text from <code>cubane.pdb</code>, <code>ethane.pdb</code>, <code>methane.pdb</code>, <code>octane.pdb</code>, <code>pentane.pdb</code>\nand <code>propane.pdb</code> would be concatenated and saved to a file called <code>all.pdb</code>.</li>\n<li>All of the text from <code>cubane.pdb</code>, <code>ethane.pdb</code>, <code>methane.pdb</code>, <code>octane.pdb</code>, <code>pentane.pdb</code>\nand <code>propane.pdb</code> would be printed to the screen and saved to a file called <code>all.pdb</code>.</li>\n</ol>\n<blockquote class=\"solution\" style=\"border: 2px solid #B8C3EA;color: white; margin: 1em 0.2em\">\n<div style=\"color: #555; font-size: 95%;\">Hint: Select the text with your mouse to see the answer</div><h3 id=\"-icon-solution--solution\">👁 Solution</h3>\n<p>3 is the correct answer. <code>&gt;&gt;</code> appends to a file, rather than overwriting it with the redirected\noutput from a command.\nGiven the output from the <code>cat</code> command has been redirected, nothing is printed to the screen.</p>\n</blockquote>\n</blockquote>\n",
      "cell_type": "markdown",
      "metadata": {
        "editable": false,
        "collapsed": false
      }
    },
    {
      "id": "cell-61",
      "source": [
        "# Explore the possible solutions here!"
      ],
      "cell_type": "code",
      "execution_count": null,
      "outputs": [

      ],
      "metadata": {
        "attributes": {
          "classes": [
            "bash"
          ],
          "id": ""
        }
      }
    },
    {
      "id": "cell-62",
      "source": "<p>Let’s continue with our example in the <code>shell-lesson-data/creatures</code> directory.\nHere’s a slightly more complicated loop:</p>\n",
      "cell_type": "markdown",
      "metadata": {
        "editable": false,
        "collapsed": false
      }
    },
    {
      "id": "cell-63",
      "source": [
        "for filename in *.dat\n",
        "do\n",
        "echo $filename\n",
        "head -n 100 $filename | tail -n 20\n",
        "done"
      ],
      "cell_type": "code",
      "execution_count": null,
      "outputs": [

      ],
      "metadata": {
        "attributes": {
          "classes": [
            "bash"
          ],
          "id": ""
        }
      }
    },
    {
      "id": "cell-64",
      "source": "<p>The shell starts by expanding <code>*.dat</code> to create the list of files it will process.\nThe <strong>loop body</strong>\nthen executes two commands for each of those files.\nThe first command, <code>echo</code>, prints its command-line arguments to standard output.\nFor example:</p>\n",
      "cell_type": "markdown",
      "metadata": {
        "editable": false,
        "collapsed": false
      }
    },
    {
      "id": "cell-65",
      "source": [
        "echo hello there"
      ],
      "cell_type": "code",
      "execution_count": null,
      "outputs": [

      ],
      "metadata": {
        "attributes": {
          "classes": [
            "bash"
          ],
          "id": ""
        }
      }
    },
    {
      "id": "cell-66",
      "source": "<p>prints:</p>\n<div class=\"language-plaintext highlighter-rouge\"><div><pre style=\"color: inherit; background: white\"><code>hello there\n</code></pre></div></div>\n<p>In this case,\nsince the shell expands <code>&#36;filename</code> to be the name of a file,\n<code>echo &#36;filename</code> prints the name of the file.\nNote that we can’t write this as:</p>\n",
      "cell_type": "markdown",
      "metadata": {
        "editable": false,
        "collapsed": false
      }
    },
    {
      "id": "cell-67",
      "source": [
        "for filename in *.dat\n",
        "do\n",
        "$filename\n",
        "head -n 100 $filename | tail -n 20\n",
        "done"
      ],
      "cell_type": "code",
      "execution_count": null,
      "outputs": [

      ],
      "metadata": {
        "attributes": {
          "classes": [
            "bash"
          ],
          "id": ""
        }
      }
    },
    {
      "id": "cell-68",
      "source": "<p>because then the first time through the loop,\nwhen <code>&#36;filename</code> expanded to <code>basilisk.dat</code>, the shell would try to run <code>basilisk.dat</code> as a program.\nFinally,\nthe <code>head</code> and <code>tail</code> combination selects lines 81-100\nfrom whatever file is being processed\n(assuming the file has at least 100 lines).</p>\n<blockquote class=\"tip\" style=\"border: 2px solid #FFE19E; margin: 1em 0.2em\">\n<h3 id=\"-icon-tip--spaces-in-names\">💡 Spaces in Names</h3>\n<p>Spaces are used to separate the elements of the list\nthat we are going to loop over. If one of those elements\ncontains a space character, we need to surround it with\nquotes, and do the same thing to our loop variable.\nSuppose our data files are named:</p>\n<div class=\"language-plaintext highlighter-rouge\"><div><pre style=\"color: inherit; background: white\"><code>red dragon.dat\npurple unicorn.dat\n</code></pre></div>  </div>\n<p>To loop over these files, we would need to add double quotes like so:</p>\n<div class=\"language-plaintext highlighter-rouge\"><div><pre style=\"color: inherit; background: white\"><code>&#36; for filename in \"red dragon.dat\" \"purple unicorn.dat\"\n&gt; do\n&gt;     head -n 100 \"&#36;filename\" | tail -n 20\n&gt; done\n</code></pre></div>  </div>\n<p>It is simpler to avoid using spaces (or other special characters) in filenames.</p>\n<p>The files above don’t exist, so if we run the above code, the <code>head</code> command will be unable\nto find them, however the error message returned will show the name of the files it is\nexpecting:</p>\n<div class=\"language-plaintext highlighter-rouge\"><div><pre style=\"color: inherit; background: white\"><code>head: cannot open ‘red dragon.dat’ for reading: No such file or directory\nhead: cannot open ‘purple unicorn.dat’ for reading: No such file or directory\n</code></pre></div>  </div>\n<p>Try removing the quotes around <code>&#36;filename</code> in the loop above to see the effect of the quote\nmarks on spaces. Note that we get a result from the loop command for unicorn.dat\nwhen we run this code in the <code>creatures</code> directory:</p>\n<div class=\"language-plaintext highlighter-rouge\"><div><pre style=\"color: inherit; background: white\"><code>head: cannot open ‘red’ for reading: No such file or directory\nhead: cannot open ‘dragon.dat’ for reading: No such file or directory\nhead: cannot open ‘purple’ for reading: No such file or directory\nCGGTACCGAA\nAAGGGTCGCG\nCAAGTGTTCC\n...\n</code></pre></div>  </div>\n</blockquote>\n<p>We would like to modify each of the files in <code>shell-lesson-data/creatures</code>, but also save a version\nof the original files, naming the copies <code>original-basilisk.dat</code> and <code>original-unicorn.dat</code>.\nWe can’t use:</p>\n<div class=\"language-plaintext highlighter-rouge\"><div><pre style=\"color: inherit; background: white\"><code>cp *.dat original-*.dat\n</code></pre></div></div>\n<p>because that would expand to:</p>\n",
      "cell_type": "markdown",
      "metadata": {
        "editable": false,
        "collapsed": false
      }
    },
    {
      "id": "cell-69",
      "source": [
        "cp basilisk.dat minotaur.dat unicorn.dat original-*.dat"
      ],
      "cell_type": "code",
      "execution_count": null,
      "outputs": [

      ],
      "metadata": {
        "attributes": {
          "classes": [
            "bash"
          ],
          "id": ""
        }
      }
    },
    {
      "id": "cell-70",
      "source": "<p>This wouldn’t back up our files, instead we get an error.</p>\n<p>This problem arises when <code>cp</code> receives more than two inputs. When this happens, it\nexpects the last input to be a directory where it can copy all the files it was passed.\nSince there is no directory named <code>original-*.dat</code> in the <code>creatures</code> directory we get an\nerror.</p>\n<p>Instead, we can use a loop:</p>\n",
      "cell_type": "markdown",
      "metadata": {
        "editable": false,
        "collapsed": false
      }
    },
    {
      "id": "cell-71",
      "source": [
        "for filename in *.dat\n",
        "do\n",
        "cp $filename original-$filename\n",
        "done"
      ],
      "cell_type": "code",
      "execution_count": null,
      "outputs": [

      ],
      "metadata": {
        "attributes": {
          "classes": [
            "bash"
          ],
          "id": ""
        }
      }
    },
    {
      "id": "cell-72",
      "source": "<p>This loop runs the <code>cp</code> command once for each filename.\nThe first time,\nwhen <code>&#36;filename</code> expands to <code>basilisk.dat</code>,\nthe shell executes:</p>\n<div class=\"language-plaintext highlighter-rouge\"><div><pre style=\"color: inherit; background: white\"><code>cp basilisk.dat original-basilisk.dat\n</code></pre></div></div>\n<p>The second time, the command is:</p>\n<div class=\"language-plaintext highlighter-rouge\"><div><pre style=\"color: inherit; background: white\"><code>cp minotaur.dat original-minotaur.dat\n</code></pre></div></div>\n<p>The third and last time, the command is:</p>\n<div class=\"language-plaintext highlighter-rouge\"><div><pre style=\"color: inherit; background: white\"><code>cp unicorn.dat original-unicorn.dat\n</code></pre></div></div>\n<p>Since the <code>cp</code> command does not normally produce any output, it’s hard to check\nthat the loop is doing the correct thing.\nHowever, we learned earlier how to print strings using <code>echo</code>, and we can modify the loop\nto use <code>echo</code> to print our commands without actually executing them.\nAs such we can check what commands <em>would be</em> run in the unmodified loop.</p>\n<p>The following diagram\nshows what happens when the modified loop is executed, and demonstrates how the\njudicious use of <code>echo</code> is a good debugging technique.</p>\n<p><img src=\"https://training.galaxyproject.org/training-material/topics/data-science/tutorials/cli-advanced/../../images/carpentries-cli/shell_script_for_loop_flow_chart.svg\" alt=\"The for loop 'for filename in *.dat; do echo cp &#36;filename original-&#36;filename; done' will successively assign the names of all '*.dat' files in your current directory to the variable '&#36;filename' and then execute the command. With the files 'basilisk.dat', 'minotaur.dat' and 'unicorn.dat' in the current directory the loop will successively call the echo command three times and print three lines: 'cp basislisk.dat original-basilisk.dat', then 'cp minotaur.dat original-minotaur.dat' and finally 'cp unicorn.dat original-unicorn.dat'\" /></p>\n<h2 id=\"nelles-pipeline-processing-files\">Nelle’s Pipeline: Processing Files</h2>\n<p>Nelle is now ready to process her data files using <code>goostats.sh</code> —\na shell script written by her supervisor.\nThis calculates some statistics from a protein sample file, and takes two arguments:</p>\n<ol>\n<li>an input file (containing the raw data)</li>\n<li>an output file (to store the calculated statistics)</li>\n</ol>\n<p>Since she’s still learning how to use the shell,\nshe decides to build up the required commands in stages.\nHer first step is to make sure that she can select the right input files — remember,\nthese are ones whose names end in ‘A’ or ‘B’, rather than ‘Z’.\nStarting from her home directory, Nelle types:</p>\n",
      "cell_type": "markdown",
      "metadata": {
        "editable": false,
        "collapsed": false
      }
    },
    {
      "id": "cell-73",
      "source": [
        "cd ~/Desktop/shell-lesson-data/north-pacific-gyre/2012-07-03\n",
        "for datafile in NENE*A.txt NENE*B.txt\n",
        "do\n",
        "echo $datafile\n",
        "done"
      ],
      "cell_type": "code",
      "execution_count": null,
      "outputs": [

      ],
      "metadata": {
        "attributes": {
          "classes": [
            "bash"
          ],
          "id": ""
        }
      }
    },
    {
      "id": "cell-74",
      "source": "<p>Her next step is to decide\nwhat to call the files that the <code>goostats.sh</code> analysis program will create.\nPrefixing each input file’s name with ‘stats’ seems simple,\nso she modifies her loop to do that:</p>\n",
      "cell_type": "markdown",
      "metadata": {
        "editable": false,
        "collapsed": false
      }
    },
    {
      "id": "cell-75",
      "source": [
        "for datafile in NENE*A.txt NENE*B.txt\n",
        "do\n",
        "echo $datafile stats-$datafile\n",
        "done"
      ],
      "cell_type": "code",
      "execution_count": null,
      "outputs": [

      ],
      "metadata": {
        "attributes": {
          "classes": [
            "bash"
          ],
          "id": ""
        }
      }
    },
    {
      "id": "cell-76",
      "source": "<p>She hasn’t actually run <code>goostats.sh</code> yet,\nbut now she’s sure she can select the right files and generate the right output filenames.</p>\n<blockquote class=\"tip\" style=\"border: 2px solid #FFE19E; margin: 1em 0.2em\">\n<h3 id=\"-icon-tip--top-terminal-tip-re-running-previous-commands\">💡 Top Terminal Tip: Re-running previous commands</h3>\n<p>Typing in commands over and over again is becoming tedious,\nthough,\nand Nelle is worried about making mistakes,\nso instead of re-entering her loop,\nshe presses <kbd>↑</kbd>.\nIn response,\nthe shell redisplays the whole loop on one line\n(using semi-colons to separate the pieces):</p>\n<div class=\"language-plaintext highlighter-rouge\"><div><pre style=\"color: inherit; background: white\"><code>for datafile in NENE*A.txt NENE*B.txt; do echo &#36;datafile stats-&#36;datafile; done\n</code></pre></div>  </div>\n</blockquote>\n<p>Using the left arrow key,\nNelle backs up and changes the command <code>echo</code> to <code>bash goostats.sh</code>:</p>\n<div class=\"language-plaintext highlighter-rouge\"><div><pre style=\"color: inherit; background: white\"><code>for datafile in NENE*A.txt NENE*B.txt; do bash goostats.sh &#36;datafile stats-&#36;datafile; done\n</code></pre></div></div>\n<p>When she presses <kbd>Enter</kbd>,\nthe shell runs the modified command.\nHowever, nothing appears to happen — there is no output.\nAfter a moment, Nelle realizes that since her script doesn’t print anything to the screen\nany longer, she has no idea whether it is running, much less how quickly.\nShe kills the running command by typing <kbd>Ctrl</kbd>+<kbd>C</kbd>,\nuses <kbd>↑</kbd> to repeat the command,\nand edits it to read:</p>\n<div class=\"language-plaintext highlighter-rouge\"><div><pre style=\"color: inherit; background: white\"><code>for datafile in NENE*A.txt NENE*B.txt; do echo &#36;datafile; bash goostats.sh &#36;datafile stats-&#36;datafile; done\n</code></pre></div></div>\n<blockquote class=\"tip\" style=\"border: 2px solid #FFE19E; margin: 1em 0.2em\">\n<h2 id=\"beginning-and-end\">Beginning and End</h2>\n<p>We can move to the beginning of a line in the shell by typing <kbd>Ctrl</kbd>+<kbd>A</kbd>\nand to the end using <kbd>Ctrl</kbd>+<kbd>E</kbd>.</p>\n</blockquote>\n<p>When she runs her program now,\nit produces one line of output every five seconds or so:</p>\n<p>1518 times 5 seconds,\ndivided by 60,\ntells her that her script will take about two hours to run.\nAs a final check,\nshe opens another terminal window,\ngoes into <code>north-pacific-gyre/2012-07-03</code>,\nand uses <code>cat stats-NENE01729B.txt</code>\nto examine one of the output files.\nIt looks good,\nso she decides to get some coffee and catch up on her reading.</p>\n<blockquote class=\"tip\" style=\"border: 2px solid #FFE19E; margin: 1em 0.2em\">\n<h3 id=\"-icon-tip--those-who-know-history-can-choose-to-repeat-it\">💡 Those Who Know History Can Choose to Repeat It</h3>\n<p>Another way to repeat previous work is to use the <code>history</code> command to\nget a list of the last few hundred commands that have been executed, and\nthen to use <code>!123</code> (where ‘123’ is replaced by the command number) to\nrepeat one of those commands. For example, if Nelle types this:</p>\n<div class=\"language-plaintext highlighter-rouge\"><div><pre style=\"color: inherit; background: white\"><code>&#36; history | tail -n 5\n</code></pre></div>  </div>\n<div class=\"language-plaintext highlighter-rouge\"><div><pre style=\"color: inherit; background: white\"><code>  456  ls -l NENE0*.txt\n  457  rm stats-NENE01729B.txt.txt\n  458  bash goostats.sh NENE01729B.txt stats-NENE01729B.txt\n  459  ls -l NENE0*.txt\n  460  history\n</code></pre></div>  </div>\n<p>then she can re-run <code>goostats.sh</code> on <code>NENE01729B.txt</code> simply by typing\n<code>!458</code>. This number will be different for you, you should check your history before running it!</p>\n</blockquote>\n<blockquote class=\"tip\" style=\"border: 2px solid #FFE19E; margin: 1em 0.2em\">\n<h3 id=\"-icon-tip--other-history-commands\">💡 Other History Commands</h3>\n<p>There are a number of other shortcut commands for getting at the history.</p>\n<ul>\n<li><kbd>Ctrl</kbd>+<kbd>R</kbd> enters a history search mode ‘reverse-i-search’ and finds the\nmost recent command in your history that matches the text you enter next.\nPress <kbd>Ctrl</kbd>+<kbd>R</kbd> one or more additional times to search for earlier matches.\nYou can then use the left and right arrow keys to choose that line and edit\nit then hit <kbd>Return</kbd> to run the command.</li>\n<li><code>!!</code> retrieves the immediately preceding command\n(you may or may not find this more convenient than using <kbd>↑</kbd>)</li>\n<li><code>!&#36;</code> retrieves the last word of the last command.\nThat’s useful more often than you might expect: after\n<code>bash goostats.sh NENE01729B.txt stats-NENE01729B.txt</code>, you can type\n<code>less !&#36;</code> to look at the file <code>stats-NENE01729B.txt</code>, which is\nquicker than doing <kbd>↑</kbd> and editing the command-line.</li>\n</ul>\n</blockquote>\n<blockquote class=\"question\" style=\"border: 2px solid #8A9AD0; margin: 1em 0.2em\">\n<h3 id=\"-icon-question--doing-a-dry-run\">❓ Doing a Dry Run</h3>\n<p>A loop is a way to do many things at once — or to make many mistakes at\nonce if it does the wrong thing. One way to check what a loop <em>would</em> do\nis to <code>echo</code> the commands it would run instead of actually running them.</p>\n<p>Suppose we want to preview the commands the following loop will execute\nwithout actually running those commands:</p>\n<div class=\"language-plaintext highlighter-rouge\"><div><pre style=\"color: inherit; background: white\"><code>cd ~/Desktop/shell-lesson-data/pdb/\nfor datafile in *.pdb\ndo\n    cat &#36;datafile &gt;&gt; all.pdb\ndone\n</code></pre></div>  </div>\n<p>What is the difference between the two loops below, and which one would we\nwant to run?</p>\n<blockquote class=\"code-in\" style=\"border: 2px solid #86D486; margin: 1em 0.2em\">\n<h3 id=\"-icon-code-in--version-1\">⌨️ Version 1</h3>\n<div class=\"language-plaintext highlighter-rouge\"><div><pre style=\"color: inherit; background: white\"><code>for datafile in *.pdb\ndo\n    echo cat &#36;datafile &gt;&gt; all.pdb\ndone\n</code></pre></div>    </div>\n</blockquote>\n<blockquote class=\"code-in\" style=\"border: 2px solid #86D486; margin: 1em 0.2em\">\n<h3 id=\"-icon-code-in--version-2\">⌨️ Version 2</h3>\n<div class=\"language-plaintext highlighter-rouge\"><div><pre style=\"color: inherit; background: white\"><code>for datafile in *.pdb\ndo\n    echo \"cat &#36;datafile &gt;&gt; all.pdb\"\ndone\n</code></pre></div>    </div>\n</blockquote>\n<blockquote class=\"solution\" style=\"border: 2px solid #B8C3EA;color: white; margin: 1em 0.2em\">\n<h3 id=\"-icon-tip--solution\">💡 Solution</h3>\n<p>The second version is the one we want to run.\nThis prints to screen everything enclosed in the quote marks, expanding the\nloop variable name because we have prefixed it with a dollar sign.</p>\n<p>The first version appends the output from the command <code>echo cat &#36;datafile</code>\nto the file, <code>all.pdb</code>. This file will just contain the list;\n<code>cat cubane.pdb</code>, <code>cat ethane.pdb</code>, <code>cat methane.pdb</code> etc.</p>\n<p>Try both versions for yourself to see the output! Be sure to open the\n<code>all.pdb</code> file to view its contents.</p>\n</blockquote>\n</blockquote>\n",
      "cell_type": "markdown",
      "metadata": {
        "editable": false,
        "collapsed": false
      }
    },
    {
      "id": "cell-77",
      "source": [
        "# Explore the possible solutions here!"
      ],
      "cell_type": "code",
      "execution_count": null,
      "outputs": [

      ],
      "metadata": {
        "attributes": {
          "classes": [
            "bash"
          ],
          "id": ""
        }
      }
    },
    {
      "id": "cell-78",
      "source": "<blockquote class=\"question\" style=\"border: 2px solid #8A9AD0; margin: 1em 0.2em\">\n<h3 id=\"-icon-question--nested-loops\">❓ Nested Loops</h3>\n<p>Suppose we want to set up a directory structure to organize\nsome experiments measuring reaction rate constants with different compounds\n<em>and</em> different temperatures.  What would be the\nresult of the following code:</p>\n<div class=\"language-plaintext highlighter-rouge\"><div><pre style=\"color: inherit; background: white\"><code>for species in cubane ethane methane\ndo\n    for temperature in 25 30 37 40\n    do\n        mkdir &#36;species-&#36;temperature\n    done\ndone\n</code></pre></div>  </div>\n<blockquote class=\"solution\" style=\"border: 2px solid #B8C3EA;color: white; margin: 1em 0.2em\">\n<div style=\"color: #555; font-size: 95%;\">Hint: Select the text with your mouse to see the answer</div><h3 id=\"-icon-solution--solution\">👁 Solution</h3>\n<p>We have a nested loop, i.e. contained within another loop, so for each species\nin the outer loop, the inner loop (the nested loop) iterates over the list of\ntemperatures, and creates a new directory for each combination.</p>\n<p>Try running the code for yourself to see which directories are created!</p>\n</blockquote>\n</blockquote>\n",
      "cell_type": "markdown",
      "metadata": {
        "editable": false,
        "collapsed": false
      }
    },
    {
      "id": "cell-79",
      "source": [
        "# Explore the possible solutions here!"
      ],
      "cell_type": "code",
      "execution_count": null,
      "outputs": [

      ],
      "metadata": {
        "attributes": {
          "classes": [
            "bash"
          ],
          "id": ""
        }
      }
    },
    {
      "id": "cell-80",
      "source": "<h1 id=\"finding-things\">Finding Things</h1>\n<p>In the same way that many of us now use ‘Google’ as a\nverb meaning ‘to find’, Unix programmers often use the\nword ‘grep’.\n‘grep’ is a contraction of ‘global/regular expression/print’,\na common sequence of operations in early Unix text editors.\nIt is also the name of a very useful command-line program.</p>\n<p><code>grep</code> finds and prints lines in files that match a pattern.\nFor our examples,\nwe will use a file that contains three haiku taken from a\n1998 competition in <em>Salon</em> magazine. For this set of examples,\nwe’re going to be working in the writing subdirectory:</p>\n",
      "cell_type": "markdown",
      "metadata": {
        "editable": false,
        "collapsed": false
      }
    },
    {
      "id": "cell-81",
      "source": [
        "cd\n",
        "cd Desktop/shell-lesson-data/writing\n",
        "cat haiku.txt"
      ],
      "cell_type": "code",
      "execution_count": null,
      "outputs": [

      ],
      "metadata": {
        "attributes": {
          "classes": [
            "bash"
          ],
          "id": ""
        }
      }
    },
    {
      "id": "cell-82",
      "source": "<blockquote class=\"tip\" style=\"border: 2px solid #FFE19E; margin: 1em 0.2em\">\n<h3 id=\"-icon-tip--forever-or-five-years\">💡 Forever, or Five Years</h3>\n<p>We haven’t linked to the original haiku because\nthey don’t appear to be on <em>Salon</em>’s site any longer.\nAs <a href=\"https://www.clir.org/wp-content/uploads/sites/6/ensuring.pdf\">Jeff Rothenberg said</a>,\n‘Digital information lasts forever — or five years, whichever comes first.’\nLuckily, popular content often <a href=\"http://wiki.c2.com/?ComputerErrorHaiku\">has backups</a>.</p>\n</blockquote>\n<p>Let’s find lines that contain the word ‘not’:</p>\n",
      "cell_type": "markdown",
      "metadata": {
        "editable": false,
        "collapsed": false
      }
    },
    {
      "id": "cell-83",
      "source": [
        "grep not haiku.txt"
      ],
      "cell_type": "code",
      "execution_count": null,
      "outputs": [

      ],
      "metadata": {
        "attributes": {
          "classes": [
            "bash"
          ],
          "id": ""
        }
      }
    },
    {
      "id": "cell-84",
      "source": "<p>Here, <code>not</code> is the pattern we’re searching for.\nThe grep command searches through the file, looking for matches to the pattern specified.\nTo use it type <code>grep</code>, then the pattern we’re searching for and finally\nthe name of the file (or files) we’re searching in.</p>\n<p>The output is the three lines in the file that contain the letters ‘not’.</p>\n<p>By default, grep searches for a pattern in a case-sensitive way.\nIn addition, the search pattern we have selected does not have to form a complete word,\nas we will see in the next example.</p>\n<p>Let’s search for the pattern: ‘The’.</p>\n",
      "cell_type": "markdown",
      "metadata": {
        "editable": false,
        "collapsed": false
      }
    },
    {
      "id": "cell-85",
      "source": [
        "grep The haiku.txt"
      ],
      "cell_type": "code",
      "execution_count": null,
      "outputs": [

      ],
      "metadata": {
        "attributes": {
          "classes": [
            "bash"
          ],
          "id": ""
        }
      }
    },
    {
      "id": "cell-86",
      "source": "<p>This time, two lines that include the letters ‘The’ are outputted,\none of which contained our search pattern within a larger word, ‘Thesis’.</p>\n<p>To restrict matches to lines containing the word ‘The’ on its own,\nwe can give <code>grep</code> with the <code>-w</code> option.\nThis will limit matches to word boundaries.</p>\n<p>Later in this lesson, we will also see how we can change the search behavior of grep\nwith respect to its case sensitivity.</p>\n",
      "cell_type": "markdown",
      "metadata": {
        "editable": false,
        "collapsed": false
      }
    },
    {
      "id": "cell-87",
      "source": [
        "grep -w The haiku.txt"
      ],
      "cell_type": "code",
      "execution_count": null,
      "outputs": [

      ],
      "metadata": {
        "attributes": {
          "classes": [
            "bash"
          ],
          "id": ""
        }
      }
    },
    {
      "id": "cell-88",
      "source": "<p>Note that a ‘word boundary’ includes the start and end of a line, so not\njust letters surrounded by spaces.\nSometimes we don’t\nwant to search for a single word, but a phrase. This is also easy to do with\n<code>grep</code> by putting the phrase in quotes.</p>\n",
      "cell_type": "markdown",
      "metadata": {
        "editable": false,
        "collapsed": false
      }
    },
    {
      "id": "cell-89",
      "source": [
        "grep -w \"is not\" haiku.txt"
      ],
      "cell_type": "code",
      "execution_count": null,
      "outputs": [

      ],
      "metadata": {
        "attributes": {
          "classes": [
            "bash"
          ],
          "id": ""
        }
      }
    },
    {
      "id": "cell-90",
      "source": "<p>We’ve now seen that you don’t have to have quotes around single words,\nbut it is useful to use quotes when searching for multiple words.\nIt also helps to make it easier to distinguish between the search term or phrase\nand the file being searched.\nWe will use quotes in the remaining examples.</p>\n<p>Another useful option is <code>-n</code>, which numbers the lines that match:</p>\n",
      "cell_type": "markdown",
      "metadata": {
        "editable": false,
        "collapsed": false
      }
    },
    {
      "id": "cell-91",
      "source": [
        "grep -n \"it\" haiku.txt"
      ],
      "cell_type": "code",
      "execution_count": null,
      "outputs": [

      ],
      "metadata": {
        "attributes": {
          "classes": [
            "bash"
          ],
          "id": ""
        }
      }
    },
    {
      "id": "cell-92",
      "source": "<p>Here, we can see that lines 5, 9, and 10 contain the letters ‘it’.</p>\n<p>We can combine options (i.e. flags) as we do with other Unix commands.\nFor example, let’s find the lines that contain the word ‘the’.\nWe can combine the option <code>-w</code> to find the lines that contain the word ‘the’\nand <code>-n</code> to number the lines that match:</p>\n",
      "cell_type": "markdown",
      "metadata": {
        "editable": false,
        "collapsed": false
      }
    },
    {
      "id": "cell-93",
      "source": [
        "grep -n -w \"the\" haiku.txt"
      ],
      "cell_type": "code",
      "execution_count": null,
      "outputs": [

      ],
      "metadata": {
        "attributes": {
          "classes": [
            "bash"
          ],
          "id": ""
        }
      }
    },
    {
      "id": "cell-94",
      "source": "<p>Now we want to use the option <code>-i</code> to make our search case-insensitive:</p>\n",
      "cell_type": "markdown",
      "metadata": {
        "editable": false,
        "collapsed": false
      }
    },
    {
      "id": "cell-95",
      "source": [
        "grep -n -w -i \"the\" haiku.txt"
      ],
      "cell_type": "code",
      "execution_count": null,
      "outputs": [

      ],
      "metadata": {
        "attributes": {
          "classes": [
            "bash"
          ],
          "id": ""
        }
      }
    },
    {
      "id": "cell-96",
      "source": "<p>Now, we want to use the option <code>-v</code> to invert our search, i.e., we want to output\nthe lines that do not contain the word ‘the’.</p>\n",
      "cell_type": "markdown",
      "metadata": {
        "editable": false,
        "collapsed": false
      }
    },
    {
      "id": "cell-97",
      "source": [
        "grep -n -w -v \"the\" haiku.txt"
      ],
      "cell_type": "code",
      "execution_count": null,
      "outputs": [

      ],
      "metadata": {
        "attributes": {
          "classes": [
            "bash"
          ],
          "id": ""
        }
      }
    },
    {
      "id": "cell-98",
      "source": "<p>If we use the <code>-r</code> (recursive) option,\n<code>grep</code> can search for a pattern recursively through a set of files in subdirectories.</p>\n<p>Let’s search recursively for <code>Yesterday</code> in the <code>shell-lesson-data/writing</code> directory:</p>\n",
      "cell_type": "markdown",
      "metadata": {
        "editable": false,
        "collapsed": false
      }
    },
    {
      "id": "cell-99",
      "source": [
        "grep -r Yesterday ."
      ],
      "cell_type": "code",
      "execution_count": null,
      "outputs": [

      ],
      "metadata": {
        "attributes": {
          "classes": [
            "bash"
          ],
          "id": ""
        }
      }
    },
    {
      "id": "cell-100",
      "source": "<p><code class=\"language-plaintext highlighter-rouge\">grep</code> has lots of other options. To find out what they are, we can type:</p>\n",
      "cell_type": "markdown",
      "metadata": {
        "editable": false,
        "collapsed": false
      }
    },
    {
      "id": "cell-101",
      "source": [
        "grep --help"
      ],
      "cell_type": "code",
      "execution_count": null,
      "outputs": [

      ],
      "metadata": {
        "attributes": {
          "classes": [
            "bash"
          ],
          "id": ""
        }
      }
    },
    {
      "id": "cell-102",
      "source": "<blockquote class=\"question\" style=\"border: 2px solid #8A9AD0; margin: 1em 0.2em\">\n<h3 id=\"-icon-question--using-grep\">❓ Using <code>grep</code></h3>\n<p>Which command would result in the following output:</p>\n<div class=\"language-plaintext highlighter-rouge\"><div><pre style=\"color: inherit; background: white\"><code>and the presence of absence:\n</code></pre></div>  </div>\n<ol>\n<li><code>grep \"of\" haiku.txt</code></li>\n<li><code>grep -E \"of\" haiku.txt</code></li>\n<li><code>grep -w \"of\" haiku.txt</code></li>\n<li><code>grep -i \"of\" haiku.txt</code></li>\n</ol>\n<blockquote class=\"solution\" style=\"border: 2px solid #B8C3EA;color: white; margin: 1em 0.2em\">\n<div style=\"color: #555; font-size: 95%;\">Hint: Select the text with your mouse to see the answer</div><h3 id=\"-icon-solution--solution\">👁 Solution</h3>\n<p>The correct answer is 3, because the <code>-w</code> option looks only for whole-word matches.\nThe other options will also match ‘of’ when part of another word.</p>\n</blockquote>\n</blockquote>\n",
      "cell_type": "markdown",
      "metadata": {
        "editable": false,
        "collapsed": false
      }
    },
    {
      "id": "cell-103",
      "source": [
        "# Explore the possible solutions here!"
      ],
      "cell_type": "code",
      "execution_count": null,
      "outputs": [

      ],
      "metadata": {
        "attributes": {
          "classes": [
            "bash"
          ],
          "id": ""
        }
      }
    },
    {
      "id": "cell-104",
      "source": "<blockquote class=\"tip\" style=\"border: 2px solid #FFE19E; margin: 1em 0.2em\">\n<h3 id=\"-icon-tip--wildcards\">💡 Wildcards</h3>\n<p><code>grep</code>’s real power doesn’t come from its options, though; it comes from\nthe fact that patterns can include wildcards. (The technical name for\nthese is <strong>regular expressions</strong>, which\nis what the ‘re’ in ‘grep’ stands for.) Regular expressions are both complex\nand powerful; if you want to do complex searches, please look at the lesson\non <a href=\"http://v4.software-carpentry.org/regexp/index.html\">our website</a>. As a taster, we can\nfind lines that have an ‘o’ in the second position like this:</p>\n<div class=\"language-plaintext highlighter-rouge\"><div><pre style=\"color: inherit; background: white\"><code>&#36; grep -E \"^.o\" haiku.txt\n</code></pre></div>  </div>\n<div class=\"language-plaintext highlighter-rouge\"><div><pre style=\"color: inherit; background: white\"><code>You bring fresh toner.\nToday it is not working\nSoftware is like that.\n</code></pre></div>  </div>\n<p>We use the <code>-E</code> option and put the pattern in quotes to prevent the shell\nfrom trying to interpret it. (If the pattern contained a <code>*</code>, for\nexample, the shell would try to expand it before running <code>grep</code>.) The\n<code>^</code> in the pattern anchors the match to the start of the line. The <code>.</code>\nmatches a single character (just like <code>?</code> in the shell), while the <code>o</code>\nmatches an actual ‘o’.</p>\n</blockquote>\n",
      "cell_type": "markdown",
      "metadata": {
        "editable": false,
        "collapsed": false
      }
    },
    {
      "id": "cell-105",
      "source": [
        "# Explore the possible solutions here!"
      ],
      "cell_type": "code",
      "execution_count": null,
      "outputs": [

      ],
      "metadata": {
        "attributes": {
          "classes": [
            "bash"
          ],
          "id": ""
        }
      }
    },
    {
      "id": "cell-106",
      "source": "<blockquote class=\"question\" style=\"border: 2px solid #8A9AD0; margin: 1em 0.2em\">\n<h3 id=\"-icon-question--tracking-a-species\">❓ Tracking a Species</h3>\n<p>Leah has several hundred\ndata files saved in one directory, each of which is formatted like this:</p>\n<div class=\"language-plaintext highlighter-rouge\"><div><pre style=\"color: inherit; background: white\"><code>2013-11-05,deer,5\n2013-11-05,rabbit,22\n2013-11-05,raccoon,7\n2013-11-06,rabbit,19\n2013-11-06,deer,2\n</code></pre></div>  </div>\n<p>She wants to write a shell script that takes a species as the first command-line argument\nand a directory as the second argument. The script should return one file called <code>species.txt</code>\ncontaining a list of dates and the number of that species seen on each date.\nFor example using the data shown above, <code>rabbit.txt</code> would contain:</p>\n<div class=\"language-plaintext highlighter-rouge\"><div><pre style=\"color: inherit; background: white\"><code>2013-11-05,22\n2013-11-06,19\n</code></pre></div>  </div>\n<p>Put these commands and pipes in the right order to achieve this:</p>\n<div class=\"language-plaintext highlighter-rouge\"><div><pre style=\"color: inherit; background: white\"><code>cut -d : -f 2\n&gt;\n|\ngrep -w &#36;1 -r &#36;2\n|\n&#36;1.txt\ncut -d , -f 1,3\n</code></pre></div>  </div>\n<p>Hint: use <code>man grep</code> to look for how to grep text recursively in a directory\nand <code>man cut</code> to select more than one field in a line.</p>\n<p>An example of such a file is provided in <code>shell-lesson-data/data/animal-counts/animals.txt</code></p>\n<blockquote class=\"solution\" style=\"border: 2px solid #B8C3EA;color: white; margin: 1em 0.2em\">\n<div style=\"color: #555; font-size: 95%;\">Hint: Select the text with your mouse to see the answer</div><h3 id=\"-icon-solution--solution\">👁 Solution</h3>\n<div class=\"language-plaintext highlighter-rouge\"><div><pre style=\"color: inherit; background: white\"><code>grep -w &#36;1 -r &#36;2 | cut -d : -f 2 | cut -d , -f 1,3 &gt; &#36;1.txt\n</code></pre></div>    </div>\n<p>Actually, you can swap the order of the two cut commands and it still works. At the\ncommand line, try changing the order of the cut commands, and have a look at the output\nfrom each step to see why this is the case.</p>\n<p>You would call the script above like this:</p>\n<div class=\"language-plaintext highlighter-rouge\"><div><pre style=\"color: inherit; background: white\"><code>&#36; bash count-species.sh bear .\n</code></pre></div>    </div>\n</blockquote>\n</blockquote>\n",
      "cell_type": "markdown",
      "metadata": {
        "editable": false,
        "collapsed": false
      }
    },
    {
      "id": "cell-107",
      "source": [
        "# Explore the possible solutions here!"
      ],
      "cell_type": "code",
      "execution_count": null,
      "outputs": [

      ],
      "metadata": {
        "attributes": {
          "classes": [
            "bash"
          ],
          "id": ""
        }
      }
    },
    {
      "id": "cell-108",
      "source": "<blockquote class=\"question\" style=\"border: 2px solid #8A9AD0; margin: 1em 0.2em\">\n<h3 id=\"-icon-question--little-women\">❓ Little Women</h3>\n<p>You and your friend, having just finished reading <em>Little Women</em> by\nLouisa May Alcott, are in an argument.  Of the four sisters in the\nbook, Jo, Meg, Beth, and Amy, your friend thinks that Jo was the\nmost mentioned.  You, however, are certain it was Amy.  Luckily, you\nhave a file <code>LittleWomen.txt</code> containing the full text of the novel\n(<code class=\"language-plaintext highlighter-rouge\">shell-lesson-data/writing/data/LittleWomen.txt</code>).\nUsing a <code>for</code> loop, how would you tabulate the number of times each\nof the four sisters is mentioned?</p>\n<p>Hint: one solution might employ\nthe commands <code>grep</code> and <code>wc</code> and a <code>|</code>, while another might utilize\n<code>grep</code> options.\nThere is often more than one way to solve a programming task, so a\nparticular solution is usually chosen based on a combination of\nyielding the correct result, elegance, readability, and speed.</p>\n<blockquote class=\"solution\" style=\"border: 2px solid #B8C3EA;color: white; margin: 1em 0.2em\">\n<h3 id=\"-icon-solution--solutions\">👁 Solutions</h3>\n<div class=\"language-plaintext highlighter-rouge\"><div><pre style=\"color: inherit; background: white\"><code>for sis in Jo Meg Beth Amy\ndo\n\techo &#36;sis:\n\tgrep -ow &#36;sis LittleWomen.txt | wc -l\ndone\n</code></pre></div>    </div>\n<p>Alternative, slightly inferior solution:</p>\n<div class=\"language-plaintext highlighter-rouge\"><div><pre style=\"color: inherit; background: white\"><code>for sis in Jo Meg Beth Amy\ndo\n\techo &#36;sis:\n\tgrep -ocw &#36;sis LittleWomen.txt\ndone\n</code></pre></div>    </div>\n<p>This solution is inferior because <code>grep -c</code> only reports the number of lines matched.\nThe total number of matches reported by this method will be lower if there is more\nthan one match per line.</p>\n<p>Perceptive observers may have noticed that character names sometimes appear in all-uppercase\nin chapter titles (e.g. ‘MEG GOES TO VANITY FAIR’).\nIf you wanted to count these as well, you could add the <code>-i</code> option for case-insensitivity\n(though in this case, it doesn’t affect the answer to which sister is mentioned\nmost frequently).</p>\n</blockquote>\n</blockquote>\n",
      "cell_type": "markdown",
      "metadata": {
        "editable": false,
        "collapsed": false
      }
    },
    {
      "id": "cell-109",
      "source": [
        "# Explore the possible solutions here!"
      ],
      "cell_type": "code",
      "execution_count": null,
      "outputs": [

      ],
      "metadata": {
        "attributes": {
          "classes": [
            "bash"
          ],
          "id": ""
        }
      }
    },
    {
      "id": "cell-110",
      "source": "<p>While <code>grep</code> finds lines in files,\nthe <code>find</code> command finds files themselves.\nAgain,\nit has a lot of options;\nto show how the simplest ones work, we’ll use the directory tree shown below.</p>\n<p><img src=\"https://training.galaxyproject.org/training-material/topics/data-science/tutorials/cli-advanced/../../images/carpentries-cli/find-file-tree.svg\" alt=\"A file tree under the directory 'writing' contians several sub-directories and files such that 'writing' contains directories 'data', 'thesis', 'tools' and a file 'haiku.txt'; 'writing/data' contains the files 'Little Women.txt', 'one.txt' and 'two.txt'; 'writing/thesis' contains the file 'empty-draft.md'; 'writing/tools' contains the directory 'old' and the files 'format' and 'stats'; and 'writing/tools/old' contains a file 'oldtool'\" /></p>\n<p>Nelle’s <code>writing</code> directory contains one file called <code>haiku.txt</code> and three subdirectories:\n<code>thesis</code> (which contains a sadly empty file, <code>empty-draft.md</code>);\n<code>data</code> (which contains three files <code>LittleWomen.txt</code>, <code>one.txt</code> and <code>two.txt</code>);\nand a <code>tools</code> directory that contains the programs <code>format</code> and <code>stats</code>,\nand a subdirectory called <code>old</code>, with a file <code>oldtool</code>.</p>\n<p>For our first command,\nlet’s run <code>find .</code> (remember to run this command from the <code>shell-lesson-data/writing</code> folder).</p>\n",
      "cell_type": "markdown",
      "metadata": {
        "editable": false,
        "collapsed": false
      }
    },
    {
      "id": "cell-111",
      "source": [
        "find ."
      ],
      "cell_type": "code",
      "execution_count": null,
      "outputs": [

      ],
      "metadata": {
        "attributes": {
          "classes": [
            "bash"
          ],
          "id": ""
        }
      }
    },
    {
      "id": "cell-112",
      "source": "<p>As always,\nthe <code>.</code> on its own means the current working directory,\nwhich is where we want our search to start.\n<code class=\"language-plaintext highlighter-rouge\">find</code>’s output is the names of every file <strong>and</strong> directory\nunder the current working directory.\nThis can seem useless at first but <code>find</code> has many options\nto filter the output and in this lesson we will discover some\nof them.</p>\n<p>The first option in our list is\n<code>-type d</code> that means ‘things that are directories’.\nSure enough,\n<code class=\"language-plaintext highlighter-rouge\">find</code>’s output is the names of the five directories in our little tree\n(including <code>.</code>):</p>\n",
      "cell_type": "markdown",
      "metadata": {
        "editable": false,
        "collapsed": false
      }
    },
    {
      "id": "cell-113",
      "source": [
        "find . -type d"
      ],
      "cell_type": "code",
      "execution_count": null,
      "outputs": [

      ],
      "metadata": {
        "attributes": {
          "classes": [
            "bash"
          ],
          "id": ""
        }
      }
    },
    {
      "id": "cell-114",
      "source": "<p>Notice that the objects <code>find</code> finds are not listed in any particular order.\nIf we change <code>-type d</code> to <code>-type f</code>,\nwe get a listing of all the files instead:</p>\n",
      "cell_type": "markdown",
      "metadata": {
        "editable": false,
        "collapsed": false
      }
    },
    {
      "id": "cell-115",
      "source": [
        "find . -type f"
      ],
      "cell_type": "code",
      "execution_count": null,
      "outputs": [

      ],
      "metadata": {
        "attributes": {
          "classes": [
            "bash"
          ],
          "id": ""
        }
      }
    },
    {
      "id": "cell-116",
      "source": "<p>Now let’s try matching by name:</p>\n",
      "cell_type": "markdown",
      "metadata": {
        "editable": false,
        "collapsed": false
      }
    },
    {
      "id": "cell-117",
      "source": [
        "find . -name *.txt"
      ],
      "cell_type": "code",
      "execution_count": null,
      "outputs": [

      ],
      "metadata": {
        "attributes": {
          "classes": [
            "bash"
          ],
          "id": ""
        }
      }
    },
    {
      "id": "cell-118",
      "source": "<p>We expected it to find all the text files,\nbut it only prints out <code>./haiku.txt</code>.\nThe problem is that the shell expands wildcard characters like <code>*</code> <em>before</em> commands run.\nSince <code>*.txt</code> in the current directory expands to <code>haiku.txt</code>,\nthe command we actually ran was:</p>\n",
      "cell_type": "markdown",
      "metadata": {
        "editable": false,
        "collapsed": false
      }
    },
    {
      "id": "cell-119",
      "source": [
        "find . -name haiku.txt"
      ],
      "cell_type": "code",
      "execution_count": null,
      "outputs": [

      ],
      "metadata": {
        "attributes": {
          "classes": [
            "bash"
          ],
          "id": ""
        }
      }
    },
    {
      "id": "cell-120",
      "source": "<p><code class=\"language-plaintext highlighter-rouge\">find</code> did what we asked; we just asked for the wrong thing.</p>\n<p>To get what we want,\nlet’s do what we did with <code>grep</code>:\nput <code>*.txt</code> in quotes to prevent the shell from expanding the <code>*</code> wildcard.\nThis way,\n<code>find</code> actually gets the pattern <code>*.txt</code>, not the expanded filename <code>haiku.txt</code>:</p>\n",
      "cell_type": "markdown",
      "metadata": {
        "editable": false,
        "collapsed": false
      }
    },
    {
      "id": "cell-121",
      "source": [
        "find . -name \"*.txt\""
      ],
      "cell_type": "code",
      "execution_count": null,
      "outputs": [

      ],
      "metadata": {
        "attributes": {
          "classes": [
            "bash"
          ],
          "id": ""
        }
      }
    },
    {
      "id": "cell-122",
      "source": "<blockquote class=\"tip\" style=\"border: 2px solid #FFE19E; margin: 1em 0.2em\">\n<h3 id=\"-icon-tip--listing-vs-finding\">💡 Listing vs. Finding</h3>\n<p><code>ls</code> and <code>find</code> can be made to do similar things given the right options,\nbut under normal circumstances,\n<code>ls</code> lists everything it can,\nwhile <code>find</code> searches for things with certain properties and shows them.</p>\n</blockquote>\n<p>As we said earlier,\nthe command line’s power lies in combining tools.\nWe’ve seen how to do that with pipes;\nlet’s look at another technique.\nAs we just saw,\n<code>find . -name \"*.txt\"</code> gives us a list of all text files in or below the current directory.\nHow can we combine that with <code>wc -l</code> to count the lines in all those files?</p>\n<p>The simplest way is to put the <code>find</code> command inside <code>&#36;()</code>:</p>\n",
      "cell_type": "markdown",
      "metadata": {
        "editable": false,
        "collapsed": false
      }
    },
    {
      "id": "cell-123",
      "source": [
        "wc -l $(find . -name \"*.txt\")"
      ],
      "cell_type": "code",
      "execution_count": null,
      "outputs": [

      ],
      "metadata": {
        "attributes": {
          "classes": [
            "bash"
          ],
          "id": ""
        }
      }
    },
    {
      "id": "cell-124",
      "source": "<p>When the shell executes this command,\nthe first thing it does is run whatever is inside the <code>&#36;()</code>.\nIt then replaces the <code>&#36;()</code> expression with that command’s output.\nSince the output of <code>find</code> is the four filenames <code>./data/one.txt</code>, <code>./data/LittleWomen.txt</code>,\n<code class=\"language-plaintext highlighter-rouge\">./data/two.txt</code>, and <code>./haiku.txt</code>, the shell constructs the command:</p>\n",
      "cell_type": "markdown",
      "metadata": {
        "editable": false,
        "collapsed": false
      }
    },
    {
      "id": "cell-125",
      "source": [
        "wc -l ./data/one.txt ./data/LittleWomen.txt ./data/two.txt ./haiku.txt"
      ],
      "cell_type": "code",
      "execution_count": null,
      "outputs": [

      ],
      "metadata": {
        "attributes": {
          "classes": [
            "bash"
          ],
          "id": ""
        }
      }
    },
    {
      "id": "cell-126",
      "source": "<p>which is what we wanted.\nThis expansion is exactly what the shell does when it expands wildcards like <code>*</code> and <code>?</code>,\nbut lets us use any command we want as our own ‘wildcard’.</p>\n<p>It’s very common to use <code>find</code> and <code>grep</code> together.\nThe first finds files that match a pattern;\nthe second looks for lines inside those files that match another pattern.\nHere, for example, we can find PDB files that contain iron atoms\nby looking for the string ‘FE’ in all the <code>.pdb</code> files above the current directory:</p>\n",
      "cell_type": "markdown",
      "metadata": {
        "editable": false,
        "collapsed": false
      }
    },
    {
      "id": "cell-127",
      "source": [
        "grep \"FE\" $(find .. -name \"*.pdb\")"
      ],
      "cell_type": "code",
      "execution_count": null,
      "outputs": [

      ],
      "metadata": {
        "attributes": {
          "classes": [
            "bash"
          ],
          "id": ""
        }
      }
    },
    {
      "id": "cell-128",
      "source": "<blockquote class=\"question\" style=\"border: 2px solid #8A9AD0; margin: 1em 0.2em\">\n<h3 id=\"-icon-question--matching-and-subtracting\">❓ Matching and Subtracting</h3>\n<p>The <code>-v</code> option to <code>grep</code> inverts pattern matching, so that only lines\nwhich do <em>not</em> match the pattern are printed. Given that, which of\nthe following commands will find all files in <code>/data</code> whose names\nend in <code>s.txt</code> but whose names also do <em>not</em> contain the string <code>net</code>?\n(For example, <code>animals.txt</code> or <code>amino-acids.txt</code> but not <code>planets.txt</code>.)\nOnce you have thought about your answer, you can test the commands in the <code>shell-lesson-data</code>\ndirectory.</p>\n<ol>\n<li><code>find data -name \"*s.txt\" | grep -v net</code></li>\n<li><code>find data -name *s.txt | grep -v net</code></li>\n<li><code>grep -v \"net\" &#36;(find data -name \"*s.txt\")</code></li>\n<li>None of the above.</li>\n</ol>\n<blockquote class=\"solution\" style=\"border: 2px solid #B8C3EA;color: white; margin: 1em 0.2em\">\n<div style=\"color: #555; font-size: 95%;\">Hint: Select the text with your mouse to see the answer</div><h3 id=\"-icon-solution--solution\">👁 Solution</h3>\n<p>The correct answer is 1. Putting the match expression in quotes prevents the shell\nexpanding it, so it gets passed to the <code>find</code> command.</p>\n<p>Option 2 is incorrect because the shell expands <code>*s.txt</code> instead of passing the wildcard\nexpression to <code>find</code>.</p>\n<p>Option 3 is incorrect because it searches the contents of the files for lines which\ndo not match ‘net’, rather than searching the file names.</p>\n</blockquote>\n</blockquote>\n",
      "cell_type": "markdown",
      "metadata": {
        "editable": false,
        "collapsed": false
      }
    },
    {
      "id": "cell-129",
      "source": [
        "# Explore the possible solutions here!"
      ],
      "cell_type": "code",
      "execution_count": null,
      "outputs": [

      ],
      "metadata": {
        "attributes": {
          "classes": [
            "bash"
          ],
          "id": ""
        }
      }
    },
    {
      "id": "cell-130",
      "source": "<blockquote class=\"tip\" style=\"border: 2px solid #FFE19E; margin: 1em 0.2em\">\n<h3 id=\"-icon-tip--binary-files\">💡 Binary Files</h3>\n<p>We have focused exclusively on finding patterns in text files. What if\nyour data is stored as images, in databases, or in some other format?</p>\n<p>A handful of tools extend <code>grep</code> to handle a few non text formats. But a\nmore generalizable approach is to convert the data to text, or\nextract the text-like elements from the data. On the one hand, it makes simple\nthings easy to do. On the other hand, complex things are usually impossible. For\nexample, it’s easy enough to write a program that will extract X and Y\ndimensions from image files for <code>grep</code> to play with, but how would you\nwrite something to find values in a spreadsheet whose cells contained\nformulas?</p>\n<p>A last option is to recognize that the shell and text processing have\ntheir limits, and to use another programming language.\nWhen the time comes to do this, don’t be too hard on the shell: many\nmodern programming languages have borrowed a lot of\nideas from it, and imitation is also the sincerest form of praise.</p>\n</blockquote>\n<p>The Unix shell is older than most of the people who use it. It has\nsurvived so long because it is one of the most productive programming\nenvironments ever created — maybe even <em>the</em> most productive. Its syntax\nmay be cryptic, but people who have mastered it can experiment with\ndifferent commands interactively, then use what they have learned to\nautomate their work. Graphical user interfaces may be easier to use at\nfirst, but once learned, the productivity in the shell is unbeatable.\nAnd as Alfred North Whitehead wrote in 1911, ‘Civilization advances by\nextending the number of important operations which we can perform\nwithout thinking about them.’</p>\n<blockquote class=\"question\" style=\"border: 2px solid #8A9AD0; margin: 1em 0.2em\">\n<h3 id=\"-icon-question--find-pipeline-reading-comprehension\">❓ <code>find</code> Pipeline Reading Comprehension</h3>\n<p>Write a short explanatory comment for the following shell script:</p>\n<div class=\"language-plaintext highlighter-rouge\"><div><pre style=\"color: inherit; background: white\"><code>wc -l &#36;(find . -name \"*.dat\") | sort -n\n</code></pre></div>  </div>\n<blockquote class=\"solution\" style=\"border: 2px solid #B8C3EA;color: white; margin: 1em 0.2em\">\n<div style=\"color: #555; font-size: 95%;\">Hint: Select the text with your mouse to see the answer</div><h3 id=\"-icon-solution--solution\">👁 Solution</h3>\n<ol>\n<li>Find all files with a <code>.dat</code> extension recursively from the current directory</li>\n<li>Count the number of lines each of these files contains</li>\n<li>Sort the output from step 2. numerically</li>\n</ol>\n</blockquote>\n</blockquote>\n<h1 id=\"final-notes\">Final Notes</h1>\n<p>All of the commands you have run up until now were ad-hoc, interactive commands.</p>\n",
      "cell_type": "markdown",
      "metadata": {
        "editable": false,
        "collapsed": false
      }
    },
    {
      "cell_type": "markdown",
      "id": "final-ending-cell",
      "metadata": {
        "editable": false,
        "collapsed": false
      },
      "source": [
        "# Key Points\n\n",
        "- `wc` counts lines, words, and characters in its inputs.\n",
        "- `cat` displays the contents of its inputs.\n",
        "- `sort` sorts its inputs.\n",
        "- `head` displays the first 10 lines of its input.\n",
        "- `tail` displays the last 10 lines of its input.\n",
        "- `command > [file]` redirects a command's output to a file (overwriting any existing content).\n",
        "- `command >> [file]` appends a command's output to a file.\n",
        "- `[first] | [second]` is a pipeline: the output of the first command is used as the input to the second.\n",
        "- The best way to use the shell is to use pipes to combine simple single-purpose programs (filters).\n",
        "- A `for` loop repeats commands once for every thing in a list.\n",
        "- Every `for` loop needs a variable to refer to the thing it is currently operating on.\n",
        "- Use `$name` to expand a variable (i.e., get its value). `${name}` can also be used.\n",
        "- Do not use spaces, quotes, or wildcard characters such as '*' or '?' in filenames, as it complicates variable expansion.\n",
        "- Give files consistent names that are easy to match with wildcard patterns to make it easy to select them for looping.\n",
        "- Use the up-arrow key to scroll up through previous commands to edit and repeat them.\n",
        "- Use <kbd>Ctrl</kbd>+<kbd>R</kbd> to search through the previously entered commands.\n",
        "- Use `history` to display recent commands, and `![number]` to repeat a command by number.\n",
        "- `find` finds files with specific properties that match patterns.\n",
        "- `grep` selects lines in files that match patterns.\n",
        "- `--help` is an option supported by many bash commands, and programs that can be run from within Bash, to display more information on how to use these commands or programs.\n",
        "- `man [command]` displays the manual page for a given command.\n",
        "- `$([command])` inserts a command's output in place.\n",
        "\n# Congratulations on successfully completing this tutorial!\n\n",
        "Please [fill out the feedback on the GTN website](https://training.galaxyproject.org/training-material/topics/data-science/tutorials/cli-advanced/tutorial.html#feedback) and check there for further resources!\n"
      ]
    }
  ]
}