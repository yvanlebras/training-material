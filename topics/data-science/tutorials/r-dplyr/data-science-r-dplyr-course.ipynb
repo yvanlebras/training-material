{
  "metadata": {
    "kernelspec": {
      "display_name": "R",
      "language": "R",
      "name": "r"
    },
    "language_info": {
      "codemirror_mode": "r",
      "file_extension": ".r",
      "mimetype": "text/x-r-source",
      "name": "R",
      "pygments_lexer": "r",
      "version": "4.1.0"
    }
  },
  "nbformat": 4,
  "nbformat_minor": 5,
  "cells": [
    {
      "id": "metadata",
      "cell_type": "markdown",
      "source": "<div style=\"border: 2px solid #8A9AD0; margin: 1em 0.2em; padding: 0.5em;\">\n\n# dplyr &amp; tidyverse for data processing\n\nby [Helena Rasche](https://training.galaxyproject.org/hall-of-fame/hexylena/), [Erasmus+ Programme](https://training.galaxyproject.org/hall-of-fame/erasmusplus/), [Avans Hogeschool](https://training.galaxyproject.org/hall-of-fame/avans-atgm/)\n\nMIT licensed content from the [Galaxy Training Network](https://training.galaxyproject.org/)\n\n**Objectives**\n\n- How can I load tabular data into R?\n- How can I slice and dice the data to ask questions?\n\n**Objectives**\n\n- Read data with the built-in <code style=\"color: inherit\">read.csv</code>\n- Read data with dplyr's <code style=\"color: inherit\">read_csv</code>\n- Use dplyr and tidyverse functions to cleanup data.\n\n**Time Estimation: 1H**\n</div>\n",
      "metadata": {
        "editable": false,
        "collapsed": false
      }
    },
    {
      "id": "cell-0",
      "source": "<p>dplyr ({% cite r-dplyr %}) is a powerful R-package to transform and summarize tabular data with rows and columns. It is part of a group of packages (including <code style=\"color: inherit\">ggplot2</code>) called the <code style=\"color: inherit\">tidyverse</code> ({% cite r-tidyverse %}), a collection of packages for data processing and visualisation. For further exploration please see the dplyr package vignette: <a href=\"https://cran.r-project.org/web/packages/dplyr/vignettes/dplyr.html\">Introduction to dplyr</a></p>\n<blockquote class=\"comment\" style=\"border: 2px solid #ffecc1; margin: 1em 0.2em\">\n<div class=\"box-title comment-title\" id=\"comment\"><i class=\"far fa-comment-dots\" aria-hidden=\"true\" ></i> Comment</div>\n<p>This tutorial is <strong>significantly</strong> based on <a href=\"https://github.com/genomicsclass/labs/blob/master/intro/dplyr_tutorial.Rmd\">GenomicsClass/labs</a>.</p>\n</blockquote>\n<blockquote class=\"agenda\" style=\"border: 2px solid #86D486;display: none; margin: 1em 0.2em\">\n<div class=\"box-title agenda-title\" id=\"agenda\">Agenda</div>\n<p>In this tutorial, we will cover:</p>\n<ol id=\"markdown-toc\">\n<li><a href=\"#why-is-it-useful\" id=\"markdown-toc-why-is-it-useful\">Why Is It Useful?</a></li>\n<li><a href=\"#how-does-it-compare-to-using-base-functions-r\" id=\"markdown-toc-how-does-it-compare-to-using-base-functions-r\">How Does It Compare To Using Base Functions R?</a></li>\n<li><a href=\"#how-do-i-get-dplyr\" id=\"markdown-toc-how-do-i-get-dplyr\">How Do I Get dplyr?</a></li>\n</ol>\n</blockquote>\n<h2 id=\"why-is-it-useful\">Why Is It Useful?</h2>\n<p>The package contains a set of functions (or “verbs”) that perform common data manipulation operations such as filtering for rows, selecting specific columns, re-ordering rows, adding new columns and summarizing data.</p>\n<p>In addition, dplyr contains a useful function to perform another common task which is the “split-apply-combine” concept.  We will discuss that in a little bit.</p>\n<h2 id=\"how-does-it-compare-to-using-base-functions-r\">How Does It Compare To Using Base Functions R?</h2>\n<p>If you are familiar with R, you are probably familiar with base R functions such as split(), subset(), apply(), sapply(), lapply(), tapply() and aggregate(). Compared to base functions in R, the functions in dplyr are easier to work with, are more consistent in the syntax and are targeted for data analysis around tibbles, instead of just vectors.</p>\n<h2 id=\"how-do-i-get-dplyr\">How Do I Get dplyr?</h2>\n<p>To load the required packages:</p>\n",
      "cell_type": "markdown",
      "metadata": {
        "editable": false,
        "collapsed": false
      }
    },
    {
      "id": "cell-1",
      "source": [
        "library(tidyverse)"
      ],
      "cell_type": "code",
      "execution_count": null,
      "outputs": [

      ],
      "metadata": {
        "attributes": {
          "classes": [
            "> <comment-title></comment-title>"
          ],
          "id": ""
        }
      }
    },
    {
      "id": "cell-2",
      "source": "<blockquote class=\"tip\" style=\"border: 2px solid #FFE19E; margin: 1em 0.2em\">\n<div class=\"box-title tip-title\" id=\"tip-package-not-found\"><button class=\"gtn-boxify-button tip\" type=\"button\" aria-controls=\"tip-package-not-found\" aria-expanded=\"true\"><i class=\"far fa-lightbulb\" aria-hidden=\"true\" ></i> Tip: Package not found?<span class=\"fold-unfold fa fa-minus-square\"></span></button></div>\n<p>Remember that you can install new packages by running</p>\n<div class=\"language-plaintext highlighter-rouge\"><div><pre style=\"color: inherit; background: transparent\"><code style=\"color: inherit\">install.packages(\"tidyverse\")\n</code></pre></div>  </div>\n<p>Or by using the Install button on the RStudio Packages interface</p>\n</blockquote>\n<p>Here we’ve imported the entire suite of tidyverse packages. We’ll specifically be using:</p>\n<table>\n<thead>\n<tr>\n<th>Package</th>\n<th>Use</th>\n</tr>\n</thead>\n<tbody>\n<tr>\n<td><code style=\"color: inherit\">readr</code></td>\n<td>This provides the <code style=\"color: inherit\">read_csv</code> function which is identical to <code style=\"color: inherit\">read.csv</code> except it returns a tibble</td>\n</tr>\n<tr>\n<td><code style=\"color: inherit\">dplyr</code></td>\n<td>All of the useful functions we’ll be covering are part of dplyr</td>\n</tr>\n<tr>\n<td><code style=\"color: inherit\">magrittr</code></td>\n<td>A dependency of <code style=\"color: inherit\">dplyr</code> that provides the <code style=\"color: inherit\">%&gt;%</code> operator</td>\n</tr>\n<tr>\n<td><code style=\"color: inherit\">ggplot2</code></td>\n<td>The famous plotting library which we’ll use at the very end to plot our aggregated data.</td>\n</tr>\n</tbody>\n</table>\n<h1 id=\"data-mammals-sleep\">Data: Mammals Sleep</h1>\n<p>The msleep (mammals sleep) data set contains the sleep times and weights for a set of mammals. This data set contains 83 rows and 11 variables.</p>\n",
      "cell_type": "markdown",
      "metadata": {
        "editable": false,
        "collapsed": false
      }
    },
    {
      "id": "cell-3",
      "source": [
        "url <- \"https://raw.githubusercontent.com/genomicsclass/dagdata/master/inst/extdata/msleep_ggplot2.csv\"\n",
        "msleep <- read_csv(url)\n",
        "head(msleep)"
      ],
      "cell_type": "code",
      "execution_count": null,
      "outputs": [

      ],
      "metadata": {
        "attributes": {
          "classes": [
            "> <comment-title></comment-title>"
          ],
          "id": ""
        }
      }
    },
    {
      "id": "cell-4",
      "source": "<p>The columns (in order) correspond to the following:</p>\n<table>\n<thead>\n<tr>\n<th>column name</th>\n<th>Description</th>\n</tr>\n</thead>\n<tbody>\n<tr>\n<td>name</td>\n<td>common name</td>\n</tr>\n<tr>\n<td>genus</td>\n<td>taxonomic rank</td>\n</tr>\n<tr>\n<td>vore</td>\n<td>carnivore, omnivore or herbivore?</td>\n</tr>\n<tr>\n<td>order</td>\n<td>taxonomic rank</td>\n</tr>\n<tr>\n<td>conservation</td>\n<td>the conservation status of the mammal</td>\n</tr>\n<tr>\n<td>sleep_total</td>\n<td>total amount of sleep, in hours</td>\n</tr>\n<tr>\n<td>sleep_rem</td>\n<td>rem sleep, in hours</td>\n</tr>\n<tr>\n<td>sleep_cycle</td>\n<td>length of sleep cycle, in hours</td>\n</tr>\n<tr>\n<td>awake</td>\n<td>amount of time spent awake, in hours</td>\n</tr>\n<tr>\n<td>brainwt</td>\n<td>brain weight in kilograms</td>\n</tr>\n<tr>\n<td>bodywt</td>\n<td>body weight in kilograms</td>\n</tr>\n</tbody>\n</table>\n<p>Compare the above output with the more traditional <code style=\"color: inherit\">read.csv</code> that is built into R</p>\n",
      "cell_type": "markdown",
      "metadata": {
        "editable": false,
        "collapsed": false
      }
    },
    {
      "id": "cell-5",
      "source": [
        "dfmsleep <- read.csv(url)\n",
        "head(dfmsleep)"
      ],
      "cell_type": "code",
      "execution_count": null,
      "outputs": [

      ],
      "metadata": {
        "attributes": {
          "classes": [
            "> <comment-title></comment-title>"
          ],
          "id": ""
        }
      }
    },
    {
      "id": "cell-6",
      "source": "<p>This is a “data frame” and was the basis of data processing for years in R, and is still quite commonly used! But notice how <code style=\"color: inherit\">dplyr</code> has a much prettier and more consice output. This is what is called a <code style=\"color: inherit\">tibble</code> (like a table). We can immediately see metadata about the table, the separator that was guessed for us, what datatypes each column was (dbl or chr), how many rows and columns we have, etc. The <code style=\"color: inherit\">tibble</code> works basically exactly like a data frame except it has a lot of features to integrate nicely with the <code style=\"color: inherit\">dplyr</code> package.</p>\n<p><em>That said</em>, all of the functions below you will learn about work equally well with data frames and tibbles, but tibbles will save you from filling your screen with hundreds of rows by automatically truncating large tables unless you specifically request otherwise.</p>\n<h1 id=\"important-dplyr-verbs-to-remember\">Important dplyr Verbs To Remember</h1>\n<table>\n<thead>\n<tr>\n<th>dplyr verbs</th>\n<th>Description</th>\n<th>SQL Equivalent Operation</th>\n</tr>\n</thead>\n<tbody>\n<tr>\n<td><code style=\"color: inherit\">select()</code></td>\n<td>select columns</td>\n<td><code style=\"color: inherit\">SELECT</code></td>\n</tr>\n<tr>\n<td><code style=\"color: inherit\">filter()</code></td>\n<td>filter rows</td>\n<td><code style=\"color: inherit\">WHERE</code></td>\n</tr>\n<tr>\n<td><code style=\"color: inherit\">arrange()</code></td>\n<td>re-order or arrange rows</td>\n<td><code style=\"color: inherit\">ORDER BY</code></td>\n</tr>\n<tr>\n<td><code style=\"color: inherit\">mutate()</code></td>\n<td>create new columns</td>\n<td><code style=\"color: inherit\">SELECT x, x*2 ...</code></td>\n</tr>\n<tr>\n<td><code style=\"color: inherit\">summarise()</code></td>\n<td>summarise values</td>\n<td>n/a</td>\n</tr>\n<tr>\n<td><code style=\"color: inherit\">group_by()</code></td>\n<td>allows for group operations in the “split-apply-combine” concept</td>\n<td><code style=\"color: inherit\">GROUP BY</code></td>\n</tr>\n</tbody>\n</table>\n<h1 id=\"dplyr-verbs-in-action\">dplyr Verbs In Action</h1>\n<p>The two most basic functions are <code style=\"color: inherit\">select()</code> and <code style=\"color: inherit\">filter()</code>, which selects columns and filters rows respectively.</p>\n<h2 id=\"pipe-operator-\">Pipe Operator: %&gt;%</h2>\n<p>Before we go any further, let’s introduce the pipe operator: %&gt;%. dplyr imports this operator from another package (magrittr).This operator allows you to pipe the output from one function to the input of another function. Instead of nesting functions (reading from the inside to the outside), the idea of piping is to read the functions from left to right. This is a lot more like how you would write a <code style=\"color: inherit\">bash</code> data processing pipeline and can be a lot more readable and intuitive than the nested version.</p>\n<p>Here’s is the more old fashioned way of writing the equivalent code:</p>\n",
      "cell_type": "markdown",
      "metadata": {
        "editable": false,
        "collapsed": false
      }
    },
    {
      "id": "cell-7",
      "source": [
        "head(select(msleep, name, sleep_total))"
      ],
      "cell_type": "code",
      "execution_count": null,
      "outputs": [

      ],
      "metadata": {
        "attributes": {
          "classes": [
            "> <comment-title></comment-title>"
          ],
          "id": ""
        }
      }
    },
    {
      "id": "cell-8",
      "source": "<p>Now in this case, we will pipe the msleep tibble to the function that will select two columns (name and sleep_total) and then pipe the new tibble to the function <code style=\"color: inherit\">head()</code>, which will return the head of the new tibble.</p>\n",
      "cell_type": "markdown",
      "metadata": {
        "editable": false,
        "collapsed": false
      }
    },
    {
      "id": "cell-9",
      "source": [
        "msleep %>% select(name, sleep_total) %>% head(2)"
      ],
      "cell_type": "code",
      "execution_count": null,
      "outputs": [

      ],
      "metadata": {
        "attributes": {
          "classes": [
            "> <comment-title></comment-title>"
          ],
          "id": ""
        }
      }
    },
    {
      "id": "cell-10",
      "source": "<blockquote class=\"question\" style=\"border: 2px solid #8A9AD0; margin: 1em 0.2em\">\n<div class=\"box-title question-title\" id=\"question\"><i class=\"far fa-question-circle\" aria-hidden=\"true\" ></i> Question</div>\n<p>How would you rewrite the following code to use the pipe operator?</p>\n<div class=\"language-plaintext highlighter-rouge\"><div><pre style=\"color: inherit; background: transparent\"><code style=\"color: inherit\">prcomp(tail(read.csv(\"file.csv\"), 10))\n</code></pre></div>  </div>\n<br/><details style=\"border: 2px solid #B8C3EA; margin: 1em 0.2em;padding: 0.5em; cursor: pointer;\"><summary>👁 View solution</summary>\n<div class=\"box-title solution-title\" id=\"solution\"><button class=\"gtn-boxify-button solution\" type=\"button\" aria-controls=\"solution\" aria-expanded=\"true\"><i class=\"far fa-eye\" aria-hidden=\"true\" ></i> Solution<span class=\"fold-unfold fa fa-minus-square\"></span></button></div>\n<p>Just read from inside to outside, starting with the innermost <code style=\"color: inherit\">()</code> and use <code style=\"color: inherit\">%&gt;%</code> between each step.</p>\n<div class=\"language-plaintext highlighter-rouge\"><div><pre style=\"color: inherit; background: transparent\"><code style=\"color: inherit\">read.csv(\"file.csv\") %&gt;% tail(10) %&gt;% prcomp()\n</code></pre></div>    </div>\n</details>\n</blockquote>\n<h2 id=\"selecting-columns-using-select\">Selecting Columns Using <code style=\"color: inherit\">select()</code></h2>\n<p>Select a set of columns: the name and the sleep_total columns.</p>\n",
      "cell_type": "markdown",
      "metadata": {
        "editable": false,
        "collapsed": false
      }
    },
    {
      "id": "cell-11",
      "source": [
        "msleep %>% select(name, sleep_total)"
      ],
      "cell_type": "code",
      "execution_count": null,
      "outputs": [

      ],
      "metadata": {
        "attributes": {
          "classes": [
            "> <comment-title></comment-title>"
          ],
          "id": ""
        }
      }
    },
    {
      "id": "cell-12",
      "source": "<p>To select all the columns <em>except</em> a specific column, use the “-“ (subtraction) operator (also known as negative indexing):</p>\n",
      "cell_type": "markdown",
      "metadata": {
        "editable": false,
        "collapsed": false
      }
    },
    {
      "id": "cell-13",
      "source": [
        "msleep %>% select(-name)"
      ],
      "cell_type": "code",
      "execution_count": null,
      "outputs": [

      ],
      "metadata": {
        "attributes": {
          "classes": [
            "> <comment-title></comment-title>"
          ],
          "id": ""
        }
      }
    },
    {
      "id": "cell-14",
      "source": "<p>To select a range of columns by name, use the “:” (colon) operator:</p>\n",
      "cell_type": "markdown",
      "metadata": {
        "editable": false,
        "collapsed": false
      }
    },
    {
      "id": "cell-15",
      "source": [
        "msleep %>% select(name:order)"
      ],
      "cell_type": "code",
      "execution_count": null,
      "outputs": [

      ],
      "metadata": {
        "attributes": {
          "classes": [
            "> <comment-title></comment-title>"
          ],
          "id": ""
        }
      }
    },
    {
      "id": "cell-16",
      "source": "<p>To select all columns that start with the character string “sl”, use the function <code style=\"color: inherit\">starts_with()</code>:</p>\n",
      "cell_type": "markdown",
      "metadata": {
        "editable": false,
        "collapsed": false
      }
    },
    {
      "id": "cell-17",
      "source": [
        "msleep %>% select(starts_with(\"sl\"))"
      ],
      "cell_type": "code",
      "execution_count": null,
      "outputs": [

      ],
      "metadata": {
        "attributes": {
          "classes": [
            "> <comment-title></comment-title>"
          ],
          "id": ""
        }
      }
    },
    {
      "id": "cell-18",
      "source": "<p>Some additional options to select columns based on a specific criteria include:</p>\n<table>\n<thead>\n<tr>\n<th>Function</th>\n<th>Usage</th>\n</tr>\n</thead>\n<tbody>\n<tr>\n<td><code style=\"color: inherit\">ends_with()</code></td>\n<td>Select columns that end with a character string</td>\n</tr>\n<tr>\n<td><code style=\"color: inherit\">contains()</code></td>\n<td>Select columns that contain a character string</td>\n</tr>\n<tr>\n<td><code style=\"color: inherit\">matches()</code></td>\n<td>Select columns that match a regular expression</td>\n</tr>\n<tr>\n<td><code style=\"color: inherit\">one_of()</code></td>\n<td>Select column names that are from a group of names</td>\n</tr>\n</tbody>\n</table>\n<h2 id=\"selecting-rows-using-filter\">Selecting Rows Using <code style=\"color: inherit\">filter()</code></h2>\n<p>Filter the rows for mammals that sleep a total of more than 16 hours.</p>\n",
      "cell_type": "markdown",
      "metadata": {
        "editable": false,
        "collapsed": false
      }
    },
    {
      "id": "cell-19",
      "source": [
        "msleep %>% filter(sleep_total >= 16)"
      ],
      "cell_type": "code",
      "execution_count": null,
      "outputs": [

      ],
      "metadata": {
        "attributes": {
          "classes": [
            "> <comment-title></comment-title>"
          ],
          "id": ""
        }
      }
    },
    {
      "id": "cell-20",
      "source": "<p>Filter the rows for mammals that sleep a total of more than 16 hours <em>and</em> have a body weight of greater than 1 kilogram.</p>\n",
      "cell_type": "markdown",
      "metadata": {
        "editable": false,
        "collapsed": false
      }
    },
    {
      "id": "cell-21",
      "source": [
        "msleep %>% filter(sleep_total >= 16, bodywt >= 1)"
      ],
      "cell_type": "code",
      "execution_count": null,
      "outputs": [

      ],
      "metadata": {
        "attributes": {
          "classes": [
            "> <comment-title></comment-title>"
          ],
          "id": ""
        }
      }
    },
    {
      "id": "cell-22",
      "source": "<p>Filter the rows for mammals in the Perissodactyla and Primates taxonomic order</p>\n",
      "cell_type": "markdown",
      "metadata": {
        "editable": false,
        "collapsed": false
      }
    },
    {
      "id": "cell-23",
      "source": [
        "msleep %>% filter(order %in% c(\"Perissodactyla\", \"Primates\"))"
      ],
      "cell_type": "code",
      "execution_count": null,
      "outputs": [

      ],
      "metadata": {
        "attributes": {
          "classes": [
            "> <comment-title></comment-title>"
          ],
          "id": ""
        }
      }
    },
    {
      "id": "cell-24",
      "source": "<p>You can use the boolean operators (e.g. &gt;, &lt;, &gt;=, &lt;=, !=, %in%) to create the logical tests.</p>\n<h2 id=\"arrange-or-re-order-rows-using-arrange\">Arrange Or Re-order Rows Using <code style=\"color: inherit\">arrange()</code></h2>\n<p>To arrange (or re-order) rows by a particular column, such as the taxonomic order, list the name of the column you want to arrange the rows by:</p>\n",
      "cell_type": "markdown",
      "metadata": {
        "editable": false,
        "collapsed": false
      }
    },
    {
      "id": "cell-25",
      "source": [
        "msleep %>% arrange(order) %>% select(order, genus, name)"
      ],
      "cell_type": "code",
      "execution_count": null,
      "outputs": [

      ],
      "metadata": {
        "attributes": {
          "classes": [
            "> <comment-title></comment-title>"
          ],
          "id": ""
        }
      }
    },
    {
      "id": "cell-26",
      "source": "<p>Now we will select three columns from msleep, arrange the rows by the taxonomic order and then arrange the rows by sleep_total. Finally, show the final tibble:</p>\n",
      "cell_type": "markdown",
      "metadata": {
        "editable": false,
        "collapsed": false
      }
    },
    {
      "id": "cell-27",
      "source": [
        "msleep %>%\n",
        "    select(name, order, sleep_total) %>%\n",
        "    arrange(order, sleep_total)"
      ],
      "cell_type": "code",
      "execution_count": null,
      "outputs": [

      ],
      "metadata": {
        "attributes": {
          "classes": [
            "> <comment-title></comment-title>"
          ],
          "id": ""
        }
      }
    },
    {
      "id": "cell-28",
      "source": "<p>Same as above, except here we filter the rows for mammals that sleep for 16 or more hours, instead of showing the whole tibble:</p>\n",
      "cell_type": "markdown",
      "metadata": {
        "editable": false,
        "collapsed": false
      }
    },
    {
      "id": "cell-29",
      "source": [
        "msleep %>%\n",
        "    select(name, order, sleep_total) %>%\n",
        "    arrange(order, sleep_total) %>%\n",
        "    filter(sleep_total >= 16)"
      ],
      "cell_type": "code",
      "execution_count": null,
      "outputs": [

      ],
      "metadata": {
        "attributes": {
          "classes": [
            "> <comment-title></comment-title>"
          ],
          "id": ""
        }
      }
    },
    {
      "id": "cell-30",
      "source": "<p>Something slightly more complicated: same as above, except arrange the rows in the sleep_total column in a descending order. For this, use the function <code class=\"language-plaintext highlighter-rouge\">desc()</code></p>\n",
      "cell_type": "markdown",
      "metadata": {
        "editable": false,
        "collapsed": false
      }
    },
    {
      "id": "cell-31",
      "source": [
        "msleep %>%\n",
        "    select(name, order, sleep_total) %>%\n",
        "    arrange(order, desc(sleep_total)) %>%\n",
        "    filter(sleep_total >= 16)"
      ],
      "cell_type": "code",
      "execution_count": null,
      "outputs": [

      ],
      "metadata": {
        "attributes": {
          "classes": [
            "> <comment-title></comment-title>"
          ],
          "id": ""
        }
      }
    },
    {
      "id": "cell-32",
      "source": "<h2 id=\"create-new-columns-using-mutate\">Create New Columns Using <code style=\"color: inherit\">mutate()</code></h2>\n<p>The <code style=\"color: inherit\">mutate()</code> function will add new columns to the tibble. Create a new column called rem_proportion, which is the ratio of rem sleep to total amount of sleep.</p>\n",
      "cell_type": "markdown",
      "metadata": {
        "editable": false,
        "collapsed": false
      }
    },
    {
      "id": "cell-33",
      "source": [
        "msleep %>%\n",
        "  mutate(rem_proportion = sleep_rem / sleep_total) %>%\n",
        "  select(starts_with(\"sl\"), rem_proportion)"
      ],
      "cell_type": "code",
      "execution_count": null,
      "outputs": [

      ],
      "metadata": {
        "attributes": {
          "classes": [
            "> <comment-title></comment-title>"
          ],
          "id": ""
        }
      }
    },
    {
      "id": "cell-34",
      "source": "<p>You can many new columns using mutate (separated by commas). Here we add a second column called bodywt_grams which is the bodywt column in grams.</p>\n",
      "cell_type": "markdown",
      "metadata": {
        "editable": false,
        "collapsed": false
      }
    },
    {
      "id": "cell-35",
      "source": [
        "msleep %>%\n",
        "    mutate(rem_proportion = sleep_rem / sleep_total,\n",
        "           bodywt_grams = bodywt * 1000) %>%\n",
        "    select(sleep_total, sleep_rem, rem_proportion, bodywt, bodywt_grams)"
      ],
      "cell_type": "code",
      "execution_count": null,
      "outputs": [

      ],
      "metadata": {
        "attributes": {
          "classes": [
            "> <comment-title></comment-title>"
          ],
          "id": ""
        }
      }
    },
    {
      "id": "cell-36",
      "source": "<h2 id=\"create-summaries-of-the-tibble-using-summarise\">Create summaries of the tibble using <code style=\"color: inherit\">summarise()</code></h2>\n<p>The <code style=\"color: inherit\">summarise()</code> function will create summary statistics for a given column in the tibble such as finding the mean. For example, to compute the average number of hours of sleep, apply the <code style=\"color: inherit\">mean()</code> function to the column sleep_total and call the summary value avg_sleep.</p>\n",
      "cell_type": "markdown",
      "metadata": {
        "editable": false,
        "collapsed": false
      }
    },
    {
      "id": "cell-37",
      "source": [
        "msleep %>%\n",
        "    summarise(avg_sleep = mean(sleep_total))"
      ],
      "cell_type": "code",
      "execution_count": null,
      "outputs": [

      ],
      "metadata": {
        "attributes": {
          "classes": [
            "> <comment-title></comment-title>"
          ],
          "id": ""
        }
      }
    },
    {
      "id": "cell-38",
      "source": "<p>There are many other summary statistics you could consider such <code style=\"color: inherit\">sd()</code>, <code style=\"color: inherit\">min()</code>, <code style=\"color: inherit\">max()</code>, <code style=\"color: inherit\">median()</code>, <code style=\"color: inherit\">sum()</code>, <code style=\"color: inherit\">n()</code> (returns the length of vector), <code style=\"color: inherit\">first()</code> (returns first value in vector), <code style=\"color: inherit\">last()</code> (returns last value in vector) and <code style=\"color: inherit\">n_distinct()</code> (number of distinct values in vector).</p>\n",
      "cell_type": "markdown",
      "metadata": {
        "editable": false,
        "collapsed": false
      }
    },
    {
      "id": "cell-39",
      "source": [
        "msleep %>%\n",
        "    summarise(avg_sleep = mean(sleep_total),\n",
        "              min_sleep = min(sleep_total),\n",
        "              max_sleep = max(sleep_total),\n",
        "              total = n())"
      ],
      "cell_type": "code",
      "execution_count": null,
      "outputs": [

      ],
      "metadata": {
        "attributes": {
          "classes": [
            "> <comment-title></comment-title>"
          ],
          "id": ""
        }
      }
    },
    {
      "id": "cell-40",
      "source": "<h2 id=\"group-operations-using-group_by\">Group operations using <code style=\"color: inherit\">group_by()</code></h2>\n<p>The <code style=\"color: inherit\">group_by()</code> verb is an important function in dplyr. As we mentioned before it’s related to concept of “split-apply-combine”. We literally want to split the tibble by some variable (e.g. taxonomic order), apply a function to the individual tibbles and then combine the output.</p>\n<p>Let’s do that: split the msleep tibble by the taxonomic order, then ask for the same summary statistics as above. We expect a set of summary statistics for each taxonomic order.</p>\n",
      "cell_type": "markdown",
      "metadata": {
        "editable": false,
        "collapsed": false
      }
    },
    {
      "id": "cell-41",
      "source": [
        "msleep %>%\n",
        "    group_by(order) %>%\n",
        "    summarise(avg_sleep = mean(sleep_total),\n",
        "              min_sleep = min(sleep_total),\n",
        "              max_sleep = max(sleep_total),\n",
        "              total = n())"
      ],
      "cell_type": "code",
      "execution_count": null,
      "outputs": [

      ],
      "metadata": {
        "attributes": {
          "classes": [
            "> <comment-title></comment-title>"
          ],
          "id": ""
        }
      }
    },
    {
      "id": "cell-42",
      "source": "<h2 id=\"ggplot2\">ggplot2</h2>\n<p>Most people want to slice and dice their data before plotting, so let’s demonstrate that quickly by plotting our last dataset.</p>\n",
      "cell_type": "markdown",
      "metadata": {
        "editable": false,
        "collapsed": false
      }
    },
    {
      "id": "cell-43",
      "source": [
        "library(ggplot2)\n",
        "msleep %>%\n",
        "    group_by(order) %>%\n",
        "    summarise(avg_sleep = mean(sleep_total),\n",
        "              min_sleep = min(sleep_total),\n",
        "              max_sleep = max(sleep_total),\n",
        "              total = n()) %>%\n",
        "    ggplot() + geom_point(aes(x=min_sleep, y=max_sleep, colour=order))"
      ],
      "cell_type": "code",
      "execution_count": null,
      "outputs": [

      ],
      "metadata": {
        "attributes": {
          "classes": [
            "> <comment-title></comment-title>"
          ],
          "id": ""
        }
      }
    },
    {
      "id": "cell-44",
      "source": "<p>Notice how we can just keep piping our data together, this makes it incredibly easier to experiment and play around with our data and test out what filtering or summarisation we want and how that will plot in the end. If we wanted, or if the data processing is an especially computationally expensive step, we could save it to an intermediate variable before playing around with plotting options, but in the case of this small dataset that’s probably not necessary.</p>\n",
      "cell_type": "markdown",
      "metadata": {
        "editable": false,
        "collapsed": false
      }
    },
    {
      "cell_type": "markdown",
      "id": "final-ending-cell",
      "metadata": {
        "editable": false,
        "collapsed": false
      },
      "source": [
        "# Key Points\n\n",
        "- Dplyr and tidyverse make it a lot easier to process data\n",
        "- The functions for selecting data are a lot easier to understand than R's built in alternatives.\n",
        "\n# Congratulations on successfully completing this tutorial!\n\n",
        "Please [fill out the feedback on the GTN website](https://training.galaxyproject.org/training-material/topics/data-science/tutorials/r-dplyr/tutorial.html#feedback) and check there for further resources!\n"
      ]
    }
  ]
}