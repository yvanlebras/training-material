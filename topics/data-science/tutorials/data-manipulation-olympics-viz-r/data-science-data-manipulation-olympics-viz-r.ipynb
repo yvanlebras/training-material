{
  "metadata": {
    "kernelspec": {
      "display_name": "R",
      "language": "R",
      "name": "r"
    },
    "language_info": {
      "codemirror_mode": "r",
      "file_extension": ".r",
      "mimetype": "text/x-r-source",
      "name": "R",
      "pygments_lexer": "r",
      "version": "4.1.0"
    }
  },
  "nbformat": 4,
  "nbformat_minor": 5,
  "cells": [
    {
      "id": "metadata",
      "cell_type": "markdown",
      "source": "<div style=\"border: 2px solid #8A9AD0; margin: 1em 0.2em; padding: 0.5em;\">\n\n# Data visualisation Olympics - Visualization in R\n\nby [The Carpentries](https://training.galaxyproject.org/hall-of-fame/carpentries/)\n\nCC-BY licensed content from the [Galaxy Training Network](https://training.galaxyproject.org/)\n\n**Objectives**\n\n- How does plotting work in R?\n- How can I facet plots?\n- How do I produce a nice, publication ready plot with ggplot2?\n\n**Objectives**\n\n- Produce scatter plots, boxplots, and time series plots using ggplot.\n- Set universal plot settings.\n- Describe what faceting is and apply faceting in ggplot.\n- Modify the aesthetics of an existing ggplot plot (including axis labels and color).\n- Build complex and customized plots from data in a data frame.\n\n**Time Estimation: 1h**\n</div>\n",
      "metadata": {
        "editable": false,
        "collapsed": false
      }
    },
    {
      "id": "cell-0",
      "source": "<p>In this tutorial, you will learn how to produce scatter plots, boxplots, and time series plots using ggplot. You will also learn how to set universal plot settings, modify the aesthetics of an existing ggplot plots (including axis labels and color), and learn how to facet in ggplot.</p>\n<blockquote class=\"comment\" style=\"border: 2px solid #ffecc1; margin: 1em 0.2em\">\n<div class=\"box-title comment-title\" id=\"comment\"><i class=\"far fa-comment-dots\" aria-hidden=\"true\" ></i> Comment</div>\n<p>This tutorial is significantly based on <a href=\"https://datacarpentry.org\">Data Carpentry</a> lesson <a href=\"https://datacarpentry.org/R-ecology-lesson/04-visualization-ggplot2.html\">“Data visualization with ggplot2”</a>.</p>\n</blockquote>\n<blockquote class=\"agenda\" style=\"border: 2px solid #86D486;display: none; margin: 1em 0.2em\">\n<div class=\"box-title agenda-title\" id=\"agenda\">Agenda</div>\n<p>In this tutorial, we will cover:</p>\n<ol id=\"markdown-toc\">\n<li><a href=\"#background\" id=\"markdown-toc-background\">Background</a>    <ol>\n<li><a href=\"#data-visualization-with-ggplot2\" id=\"markdown-toc-data-visualization-with-ggplot2\">Data Visualization with ggplot2</a></li>\n</ol>\n</li>\n</ol>\n</blockquote>\n<h1 id=\"background\">Background</h1>\n<p>In this tutorial, we will use as our dataset a table with results from the Olympics, from the games in Athens in 1896 until Tokyo in 2020. The objective is to familiarize you with a large number of the most important data visualisation tools in Galaxy. Much like the Olympics, there are many different disciplines (types of operations), and for each operation there are often multiple techniques (tools) available to athletes (data analysts, you) that are great for achieving the goal.</p>\n<p><a href=\"{% link topics/introduction/tutorials/data-manipulation-olympics/images/cover.jpg %}\" rel=\"noopener noreferrer\"><img src=\"{% link topics/introduction/tutorials/data-manipulation-olympics/images/cover.jpg %}\" alt=\"image of olympic rings, logo and two athletes around the words &quot;Data Analysis Olympics&quot;. \" width=\"320\" height=\"180\" loading=\"lazy\" /></a></p>\n<p>We will show you many of these commonly needed visualisation operations, and some examples of how to perform them in R. We also provide many exercises so that you can train your skills and become a data visualisation Olympian!</p>\n<h2 id=\"data-visualization-with-ggplot2\">Data Visualization with ggplot2</h2>\n<p>We start by loading the required packages. <code style=\"color: inherit\">ggplot2</code> is included in the <code style=\"color: inherit\">tidyverse</code> package.</p>\n",
      "cell_type": "markdown",
      "metadata": {
        "editable": false,
        "collapsed": false
      }
    },
    {
      "id": "cell-1",
      "source": [
        "library(tidyverse)"
      ],
      "cell_type": "code",
      "execution_count": null,
      "outputs": [

      ],
      "metadata": {
        "attributes": {
          "classes": [
            "> <comment-title></comment-title>"
          ],
          "id": ""
        }
      }
    },
    {
      "id": "cell-2",
      "source": "<h1 id=\"download-data\">Download Data</h1>\n<p>Before we can do any visualisation, we will need some data. Let’s download our table with Olympics results now.</p>\n",
      "cell_type": "markdown",
      "metadata": {
        "editable": false,
        "collapsed": false
      }
    },
    {
      "id": "cell-3",
      "source": [
        "olympics <- read_tsv(\"https://zenodo.org/record/6803028/files/olympics.tsv\")"
      ],
      "cell_type": "code",
      "execution_count": null,
      "outputs": [

      ],
      "metadata": {
        "attributes": {
          "classes": [
            "> <comment-title></comment-title>"
          ],
          "id": ""
        }
      }
    },
    {
      "id": "cell-4",
      "source": "\n",
      "cell_type": "markdown",
      "metadata": {
        "editable": false,
        "collapsed": false
      }
    },
    {
      "id": "cell-5",
      "source": [
        "View(olympics)"
      ],
      "cell_type": "code",
      "execution_count": null,
      "outputs": [

      ],
      "metadata": {
        "attributes": {
          "classes": [
            "> <comment-title></comment-title>"
          ],
          "id": ""
        }
      }
    },
    {
      "id": "cell-6",
      "source": "<blockquote class=\"question\" style=\"border: 2px solid #8A9AD0; margin: 1em 0.2em\">\n<div class=\"box-title question-title\" id=\"question\"><i class=\"far fa-question-circle\" aria-hidden=\"true\" ></i> Question</div>\n<ol>\n<li>What is the format of the file?</li>\n<li>How is it structured?</li>\n<li>How many lines are in the file?</li>\n<li>How many columns?</li>\n</ol>\n<br/><details style=\"border: 2px solid #B8C3EA; margin: 1em 0.2em;padding: 0.5em; cursor: pointer;\"><summary>👁 View solution</summary>\n<div class=\"box-title solution-title\" id=\"solution\"><button class=\"gtn-boxify-button solution\" type=\"button\" aria-controls=\"solution\" aria-expanded=\"true\"><i class=\"far fa-eye\" aria-hidden=\"true\" ></i> Solution<span class=\"fold-unfold fa fa-minus-square\"></span></button></div>\n<ol>\n<li>When you expand the <code style=\"color: inherit\">olympics.tsv</code> dataset in your history (see also screenshot below), you will see <code style=\"color: inherit\">format: tabular</code>, this is another term for a tab-separated (<code class=\"language-plaintext highlighter-rouge\">tsv</code>) file.</li>\n<li>Each row represents an athlete’s participation in an event. If an athlete competes in multiple events, there is a line for each event.</li>\n<li>234,522. Look at the bottom of the View or Environment panels to see this number.</li>\n<li>There are 17 columns in this file. See View or Environment panels.</li>\n</ol>\n</details>\n</blockquote>\n<h2 id=\"about-this-dataset\">About this dataset</h2>\n<p>The data was <a href=\"https://github.com/UOSCS/Olympic_Athletes\">obtained</a> from <a href=\"https://www.olympedia.org/\">Olympedia</a>. The file <code style=\"color: inherit\">olympics.tsv</code> contains\n234,522 rows and 17 columns. Each row corresponds to an individual athlete competing in an individual Olympic event. The columns are:</p>\n<ul>\n<li><strong>athlete_id</strong> - Unique number for each athlete</li>\n<li><strong>name</strong> - Athlete’s name</li>\n<li><strong>sex</strong> - M or F</li>\n<li><strong>birth_year</strong> - 4-digit number</li>\n<li><strong>birth_day</strong> - e.g. 24 July</li>\n<li><strong>birth_place</strong> - town and/or country</li>\n<li><strong>height</strong> - In centimeters (or <code style=\"color: inherit\">NA</code> if data not known)</li>\n<li><strong>weight</strong> - In kilograms (or <code style=\"color: inherit\">NA</code> if data not known)</li>\n<li><strong>team</strong> - Team name</li>\n<li><strong>noc</strong> - National Olympic Committee 3-letter code</li>\n<li><strong>games</strong> - Year and season</li>\n<li><strong>year</strong> - Integer</li>\n<li><strong>season</strong> - Summer or Winter</li>\n<li><strong>city</strong> - Host city</li>\n<li><strong>sport</strong> - Sport</li>\n<li><strong>event</strong> - Event</li>\n<li><strong>medal</strong> - Gold, Silver, Bronze (or <code style=\"color: inherit\">NA</code> if no medal was won)</li>\n</ul>\n<p>We will use this dataset to practice our data visualisation skills in Galaxy.</p>\n<h2 id=\"plotting-with-ggplot2\">Plotting with <code style=\"color: inherit\">ggplot2</code></h2>\n<p><code style=\"color: inherit\">ggplot2</code> is a plotting package that provides helpful commands to create complex plots\nfrom data in a data frame. It provides a more programmatic interface for\nspecifying what variables to plot, how they are displayed, and general visual\nproperties. Therefore, we only need minimal changes if the underlying data\nchange or if we decide to change from a bar plot to a scatterplot. This helps in\ncreating publication quality plots with minimal amounts of adjustments and\ntweaking.</p>\n<p><code style=\"color: inherit\">ggplot2</code> refers to the name of the package itself. When using the package we use the\nfunction <code style=\"color: inherit\">ggplot()</code> to generate the plots, and so references to using the function will\nbe referred to as <code style=\"color: inherit\">ggplot()</code> and the package as a whole as <code style=\"color: inherit\">ggplot2</code></p>\n<p><code style=\"color: inherit\">ggplot2</code> plots work best with data in the ‘long’ format, i.e., a column for every variable,\nand a row for every observation. Well-structured data will save you lots of time\nwhen making figures with <code style=\"color: inherit\">ggplot2</code></p>\n<p>ggplot graphics are built layer by layer by adding new elements. Adding layers in\nthis fashion allows for extensive flexibility and customization of plots.</p>\n<p>To build a ggplot, we will use the following basic template that can be used for different types of plots:</p>\n<div class=\"language-plaintext highlighter-rouge\"><div><pre style=\"color: inherit; background: transparent\"><code style=\"color: inherit\">ggplot(data = &lt;DATA&gt;, mapping = aes(&lt;MAPPINGS&gt;)) +  &lt;GEOM_FUNCTION&gt;()\n</code></pre></div></div>\n<p>use the <code style=\"color: inherit\">ggplot()</code> function and bind the plot to a specific data frame using the <code style=\"color: inherit\">data</code> argument</p>\n",
      "cell_type": "markdown",
      "metadata": {
        "editable": false,
        "collapsed": false
      }
    },
    {
      "id": "cell-7",
      "source": [
        "ggplot(data = olympics)"
      ],
      "cell_type": "code",
      "execution_count": null,
      "outputs": [

      ],
      "metadata": {
        "attributes": {
          "classes": [
            "> <comment-title></comment-title>"
          ],
          "id": ""
        }
      }
    },
    {
      "id": "cell-8",
      "source": "<ul>\n<li>define an aesthetic mapping (using the aesthetic (<code class=\"language-plaintext highlighter-rouge\">aes</code>) function), by\nselecting the variables to be plotted and specifying how to present them in the\ngraph, e.g., as x/y positions or characteristics such as size, shape, color, etc.</li>\n</ul>\n",
      "cell_type": "markdown",
      "metadata": {
        "editable": false,
        "collapsed": false
      }
    },
    {
      "id": "cell-9",
      "source": [
        "ggplot(data = olympics, mapping = aes(x = year, y = height))"
      ],
      "cell_type": "code",
      "execution_count": null,
      "outputs": [

      ],
      "metadata": {
        "attributes": {
          "classes": [
            "> <comment-title></comment-title>"
          ],
          "id": ""
        }
      }
    },
    {
      "id": "cell-10",
      "source": "<ul>\n<li>\n<p>add ‘geoms’ – graphical representations of the data in the plot (points,\nlines, bars). <code style=\"color: inherit\">ggplot2</code> offers many different geoms; we will use some\ncommon ones today, including:</p>\n<ul>\n<li><code style=\"color: inherit\">geom_point()</code> for scatter plots, dot plots, etc.</li>\n<li><code style=\"color: inherit\">geom_boxplot()</code> for, well, boxplots!</li>\n<li><code style=\"color: inherit\">geom_line()</code> for trend lines, time series, etc.</li>\n</ul>\n</li>\n</ul>\n<p>To add a geom to the plot use <code style=\"color: inherit\">+</code> operator. Because we have two continuous\nvariables, let’s use <code style=\"color: inherit\">geom_point()</code> first:</p>\n",
      "cell_type": "markdown",
      "metadata": {
        "editable": false,
        "collapsed": false
      }
    },
    {
      "id": "cell-11",
      "source": [
        "ggplot(data = olympics, aes(x = year, y = height)) +\n",
        "  geom_point()"
      ],
      "cell_type": "code",
      "execution_count": null,
      "outputs": [

      ],
      "metadata": {
        "attributes": {
          "classes": [
            "> <comment-title></comment-title>"
          ],
          "id": ""
        }
      }
    },
    {
      "id": "cell-12",
      "source": "<p>The <code style=\"color: inherit\">+</code> in the <code style=\"color: inherit\">ggplot2</code> package is particularly useful because it allows\nyou to modify existing <code style=\"color: inherit\">ggplot</code> objects. This means you can easily set up plot\n“templates” and conveniently explore different types of plots, so the above\nplot can also be generated with code like this:</p>\n",
      "cell_type": "markdown",
      "metadata": {
        "editable": false,
        "collapsed": false
      }
    },
    {
      "id": "cell-13",
      "source": [
        "# Assign plot to a variable\n",
        "height_plot <- ggplot(data = olympics,\n",
        "                       mapping = aes(x = year, y = height))\n",
        "\n",
        "# Draw the plot\n",
        "height_plot +\n",
        "    geom_point()"
      ],
      "cell_type": "code",
      "execution_count": null,
      "outputs": [

      ],
      "metadata": {
        "attributes": {
          "classes": [
            "> <comment-title></comment-title>"
          ],
          "id": ""
        }
      }
    },
    {
      "id": "cell-14",
      "source": "\n",
      "cell_type": "markdown",
      "metadata": {
        "editable": false,
        "collapsed": false
      }
    },
    {
      "id": "cell-15",
      "source": [
        "## Create a ggplot and draw it.\n",
        "height_plot <- ggplot(data = olympics,\n",
        "                       aes(x = year, y = height))\n",
        "\n",
        "height_plot +\n",
        "  geom_point()"
      ],
      "cell_type": "code",
      "execution_count": null,
      "outputs": [

      ],
      "metadata": {
        "attributes": {
          "classes": [
            "> <comment-title></comment-title>"
          ],
          "id": ""
        }
      }
    },
    {
      "id": "cell-16",
      "source": "<h3 id=\"notes\">Notes</h3>\n<ul>\n<li>Anything you put in the <code style=\"color: inherit\">ggplot()</code> function can be seen by any geom layers\nthat you add (i.e., these are universal plot settings). This includes the x-\nand y-axis you set up in <code style=\"color: inherit\">aes()</code>.</li>\n<li>You can also specify aesthetics for a given geom independently of the\naesthetics defined globally in the <code style=\"color: inherit\">ggplot()</code> function.</li>\n<li>The <code style=\"color: inherit\">+</code> sign used to add layers must be placed at the end of each line\ncontaining a layer. If, instead, the <code style=\"color: inherit\">+</code> sign is added in the line before the\nother layer, <code style=\"color: inherit\">ggplot2</code> will not add the new layer and will return an error\nmessage.</li>\n<li>You may notice that we sometimes reference ‘ggplot2’ and sometimes ‘ggplot’.\nTo clarify, ‘ggplot2’ is the name of the most recent version of the package.\nHowever, any time we call the function itself, it’s just called ‘ggplot’.</li>\n<li>The previous version of the <code style=\"color: inherit\">ggplot2</code> package, called <code style=\"color: inherit\">ggplot</code>,\nwhich also contained the <code style=\"color: inherit\">ggplot()</code> function is now unsupported and has\nbeen removed from CRAN in order to reduce accidental installations\nand further confusion.</li>\n</ul>\n",
      "cell_type": "markdown",
      "metadata": {
        "editable": false,
        "collapsed": false
      }
    },
    {
      "id": "cell-17",
      "source": [
        "# This is the correct syntax for adding layers\n",
        "height_plot +\n",
        "  geom_point()\n",
        "\n",
        "# This will not add the new layer and will return an error message\n",
        "# height_plot\n",
        "#   + geom_point()"
      ],
      "cell_type": "code",
      "execution_count": null,
      "outputs": [

      ],
      "metadata": {
        "attributes": {
          "classes": [
            "> <comment-title></comment-title>"
          ],
          "id": ""
        }
      }
    },
    {
      "id": "cell-18",
      "source": "<blockquote class=\"question\" style=\"border: 2px solid #8A9AD0; margin: 1em 0.2em\">\n<div class=\"box-title question-title\" id=\"question-challenge-optional\"><i class=\"far fa-question-circle\" aria-hidden=\"true\"></i> Challenge (optional)</div>\n<p>Scatter plots can be useful exploratory tools for small datasets. For data\nsets with large numbers of observations, such as the <code style=\"color: inherit\">olympics</code> data\nset, overplotting of points can be a limitation of scatter plots. One strategy\nfor handling such settings is to use hexagonal binning of observations. The\nplot space is tessellated into hexagons. Each hexagon is assigned a color\nbased on the number of observations that fall within its boundaries.  To use\nhexagonal binning with <code style=\"color: inherit\">ggplot2</code>, first install the R package <code style=\"color: inherit\">hexbin</code>\nfrom CRAN:</p>\n<div class=\"language-plaintext highlighter-rouge\"><div><pre style=\"color: inherit; background: transparent\"><code style=\"color: inherit\"># install.packages(\"hexbin\")\nlibrary(hexbin)\n</code></pre></div>  </div>\n<p>Then use the <code style=\"color: inherit\">geom_hex()</code> function:</p>\n<div class=\"language-plaintext highlighter-rouge\"><div><pre style=\"color: inherit; background: transparent\"><code style=\"color: inherit\">height_plot +\n geom_hex()\n</code></pre></div>  </div>\n<p>What are the relative strengths and weaknesses of a hexagonal bin plot\ncompared to a scatter plot? Examine the above scatter plot and compare it\nwith the hexagonal bin plot that you created.</p>\n</blockquote>\n<h2 id=\"data-cleaning--calculations\">Data Cleaning &amp; Calculations</h2>\n<p>We’ll calculate some new fields to enable us to answer more questions, let’s do that now.</p>\n",
      "cell_type": "markdown",
      "metadata": {
        "editable": false,
        "collapsed": false
      }
    },
    {
      "id": "cell-19",
      "source": [
        "olympics <- olympics %>%\n",
        "    mutate(age = year - birth_year) %>%\n",
        "    mutate(weight = as.integer(weight)) %>%\n",
        "    filter(!is.na(weight)) %>%\n",
        "    filter(!is.na(height))"
      ],
      "cell_type": "code",
      "execution_count": null,
      "outputs": [

      ],
      "metadata": {
        "attributes": {
          "classes": [
            "> <comment-title></comment-title>"
          ],
          "id": ""
        }
      }
    },
    {
      "id": "cell-20",
      "source": "<p>And to speed up future plots, let’s pick three countries and three sports we’re\ninterested in to reduce the amount of data we’ll need to plot:</p>\n",
      "cell_type": "markdown",
      "metadata": {
        "editable": false,
        "collapsed": false
      }
    },
    {
      "id": "cell-21",
      "source": [
        "sports = c(\"Archery\", \"Judo\", \"Speed Skating\")\n",
        "# You can change this to any of:\n",
        "# c(\"Alpine Skiing\", \"Archery\", \"Art Competitions\", \"Artistic Gymnastics\", \"Artistic Swimming\", \"Athletics\", \"Badminton\", \"Baseball\", \"Basketball\", \"Biathlon\", \"Bobsleigh\", \"Bowling\", \"Boxing\", \"Canoe Marathon\", \"Canoe Slalom\", \"Canoe Sprint\", \"Cross Country Skiing\", \"Cycling BMX Freestyle\", \"Cycling BMX Racing\", \"Cycling Mountain Bike\", \"Cycling Road\", \"Cycling Track\", \"Diving\", \"Dogsled Racing\", \"Equestrian Dressage\", \"Equestrian Eventing\", \"Equestrian Jumping\", \"Fencing\", \"Figure Skating\", \"Freestyle Skiing\", \"Golf\", \"Handball\", \"Hockey\", \"Judo\", \"Karate\", \"Luge\", \"Marathon Swimming\", \"Military Ski Patrol\", \"Modern Pentathlon\", \"Nordic Combined\", \"Rhythmic Gymnastics\", \"Rowing\", \"Rugby\", \"Sailing\", \"Shooting\", \"Short Track Speed Skating\", \"Skateboarding\", \"Skeleton\", \"Ski Jumping\", \"Snowboarding\", \"Speed Skating\", \"Speed Skiing\", \"Surfing\", \"Swimming\", \"Table Tennis\", \"Taekwondo\", \"Tennis\", \"Trampolining\", \"Triathlon\", \"Tug-Of-War\", \"Volleyball\", \"Water Polo\", \"Weightlifting\", \"Winter Pentathlon\", \"Wrestling\", \"Wushu\")\n",
        "\n",
        "countries = c(\"NED\", \"USA\", \"CHN\")\n",
        "\n",
        "olympics_small <- olympics %>% filter(sport %in% sports) %>% filter(noc %in% countries)"
      ],
      "cell_type": "code",
      "execution_count": null,
      "outputs": [

      ],
      "metadata": {
        "attributes": {
          "classes": [
            "> <comment-title></comment-title>"
          ],
          "id": ""
        }
      }
    },
    {
      "id": "cell-22",
      "source": "<h2 id=\"building-your-plots-iteratively\">Building your plots iteratively</h2>\n<p>Building plots with <code style=\"color: inherit\">ggplot2</code> is typically an iterative process. We start by\ndefining the dataset we’ll use, lay out the axes, and choose a geom:</p>\n",
      "cell_type": "markdown",
      "metadata": {
        "editable": false,
        "collapsed": false
      }
    },
    {
      "id": "cell-23",
      "source": [
        "ggplot(olympics_small, aes(x=age, y=sport)) +\n",
        "    geom_point()"
      ],
      "cell_type": "code",
      "execution_count": null,
      "outputs": [

      ],
      "metadata": {
        "attributes": {
          "classes": [
            "> <comment-title></comment-title>"
          ],
          "id": ""
        }
      }
    },
    {
      "id": "cell-24",
      "source": "<p>Then, we start modifying this plot to extract more information from it. For\ninstance, we can add transparency (<code class=\"language-plaintext highlighter-rouge\">alpha</code>) to avoid overplotting:</p>\n",
      "cell_type": "markdown",
      "metadata": {
        "editable": false,
        "collapsed": false
      }
    },
    {
      "id": "cell-25",
      "source": [
        "ggplot(olympics_small, aes(x=age, y=sport)) +\n",
        "    geom_point(alpha = 0.1)"
      ],
      "cell_type": "code",
      "execution_count": null,
      "outputs": [

      ],
      "metadata": {
        "attributes": {
          "classes": [
            "> <comment-title></comment-title>"
          ],
          "id": ""
        }
      }
    },
    {
      "id": "cell-26",
      "source": "<p>We can also add colors for all the points:</p>\n",
      "cell_type": "markdown",
      "metadata": {
        "editable": false,
        "collapsed": false
      }
    },
    {
      "id": "cell-27",
      "source": [
        "ggplot(olympics_small, aes(x=age, y=sport)) +\n",
        "    geom_point(alpha = 0.1, color = \"blue\")"
      ],
      "cell_type": "code",
      "execution_count": null,
      "outputs": [

      ],
      "metadata": {
        "attributes": {
          "classes": [
            "> <comment-title></comment-title>"
          ],
          "id": ""
        }
      }
    },
    {
      "id": "cell-28",
      "source": "<p>Or to color each species in the plot differently, you could use a vector as an input to the argument <strong>color</strong>. <code style=\"color: inherit\">ggplot2</code> will provide a different color corresponding to different values in the vector. Here is an example where we color with <strong><code class=\"language-plaintext highlighter-rouge\">species_id</code></strong>:</p>\n",
      "cell_type": "markdown",
      "metadata": {
        "editable": false,
        "collapsed": false
      }
    },
    {
      "id": "cell-29",
      "source": [
        "ggplot(olympics_small, aes(x=age, y=sport)) +\n",
        "    geom_point(alpha = 0.1, aes(color = sex))"
      ],
      "cell_type": "code",
      "execution_count": null,
      "outputs": [

      ],
      "metadata": {
        "attributes": {
          "classes": [
            "> <comment-title></comment-title>"
          ],
          "id": ""
        }
      }
    },
    {
      "id": "cell-30",
      "source": "<blockquote class=\"question\" style=\"border: 2px solid #8A9AD0; margin: 1em 0.2em\">\n<div class=\"box-title question-title\" id=\"question-challenge\"><i class=\"far fa-question-circle\" aria-hidden=\"true\"></i> Challenge</div>\n<p>Use what you just learned to create a scatter plot of <code style=\"color: inherit\">height</code> over\n<code style=\"color: inherit\">sport</code> with the plot types showing the season in different colors.\nIs this a good way to show this type of data?</p>\n<br/><details style=\"border: 2px solid #B8C3EA; margin: 1em 0.2em;padding: 0.5em; cursor: pointer;\"><summary>👁 View solution</summary>\n<div class=\"box-title solution-title\" id=\"solution-1\"><button class=\"gtn-boxify-button solution\" type=\"button\" aria-controls=\"solution-1\" aria-expanded=\"true\"><i class=\"far fa-eye\" aria-hidden=\"true\" ></i> Solution<span class=\"fold-unfold fa fa-minus-square\"></span></button></div>\n<div class=\"language-plaintext highlighter-rouge\"><div><pre style=\"color: inherit; background: transparent\"><code style=\"color: inherit\">ggplot(data = olympics,\n       mapping = aes(x = height, y = sport)) +\n   geom_point(aes(color = season))\n</code></pre></div>    </div>\n</details>\n</blockquote>\n<h2 id=\"boxplot\">Boxplot</h2>\n<p>We can use boxplots to visualize the distribution of height within each sport:</p>\n",
      "cell_type": "markdown",
      "metadata": {
        "editable": false,
        "collapsed": false
      }
    },
    {
      "id": "cell-31",
      "source": [
        "ggplot(data = olympics_small, mapping = aes(x = height, y = sport)) +\n",
        "    geom_boxplot()"
      ],
      "cell_type": "code",
      "execution_count": null,
      "outputs": [

      ],
      "metadata": {
        "attributes": {
          "classes": [
            "> <comment-title></comment-title>"
          ],
          "id": ""
        }
      }
    },
    {
      "id": "cell-32",
      "source": "<p>But this is a bit boring with all three merged together, so let’s colour by NOC.</p>\n",
      "cell_type": "markdown",
      "metadata": {
        "editable": false,
        "collapsed": false
      }
    },
    {
      "id": "cell-33",
      "source": [
        "ggplot(olympics_small, aes(x = height, y = sport, fill=noc)) +\n",
        "    geom_boxplot()"
      ],
      "cell_type": "code",
      "execution_count": null,
      "outputs": [

      ],
      "metadata": {
        "attributes": {
          "classes": [
            "> <comment-title></comment-title>"
          ],
          "id": ""
        }
      }
    },
    {
      "id": "cell-34",
      "source": "<p>By adding points to the boxplot, we can have a better idea of the number of\nmeasurements and of their distribution. Because the boxplot will show the outliers\nby default these points will be plotted twice – by <code style=\"color: inherit\">geom_boxplot</code> and\n<code class=\"language-plaintext highlighter-rouge\">geom_jitter</code>. To avoid this we must specify that no outliers should be added\nto the boxplot by specifying <code style=\"color: inherit\">outlier.shape = NA</code>.</p>\n",
      "cell_type": "markdown",
      "metadata": {
        "editable": false,
        "collapsed": false
      }
    },
    {
      "id": "cell-35",
      "source": [
        "ggplot(olympics_small, aes(x = height, y = sport, fill=noc)) +\n",
        "    geom_boxplot(outlier.shape = NA) +\n",
        "    geom_jitter(alpha = 0.3, color = \"orange\")"
      ],
      "cell_type": "code",
      "execution_count": null,
      "outputs": [

      ],
      "metadata": {
        "attributes": {
          "classes": [
            "> <comment-title></comment-title>"
          ],
          "id": ""
        }
      }
    },
    {
      "id": "cell-36",
      "source": "<p>Notice how the boxplot layer is behind the jitter layer? What do you need to\nchange in the code to put the boxplot in front of the points such that it’s not\nhidden?</p>\n<blockquote class=\"question\" style=\"border: 2px solid #8A9AD0; margin: 1em 0.2em\">\n<div class=\"box-title question-title\" id=\"question-challenge-1\"><i class=\"far fa-question-circle\" aria-hidden=\"true\"></i> Challenge</div>\n<p>Boxplots are useful summaries, but hide the <em>shape</em> of the distribution. For\nexample, if there is a bimodal distribution, it would not be observed with a\nboxplot. An alternative to the boxplot is the violin plot (sometimes known as\na beanplot), where the shape (of the density of points) is drawn.</p>\n<ul>\n<li>Replace the box plot with a violin plot; see <code style=\"color: inherit\">geom_violin()</code>.</li>\n</ul>\n<br/><details style=\"border: 2px solid #B8C3EA; margin: 1em 0.2em;padding: 0.5em; cursor: pointer;\"><summary>👁 View solution</summary>\n<div class=\"box-title solution-title\" id=\"solution-2\"><button class=\"gtn-boxify-button solution\" type=\"button\" aria-controls=\"solution-2\" aria-expanded=\"true\"><i class=\"far fa-eye\" aria-hidden=\"true\" ></i> Solution<span class=\"fold-unfold fa fa-minus-square\"></span></button></div>\n<div class=\"language-plaintext highlighter-rouge\"><div><pre style=\"color: inherit; background: transparent\"><code style=\"color: inherit\">ggplot(olympics_small, aes(x = height, y = sport)) +\n    geom_jitter(alpha = 0.3, color = \"orange\") +\n    geom_violin()\n</code></pre></div>    </div>\n</details>\n</blockquote>\n<p>In many types of data, it is important to consider the <em>scale</em> of the\nobservations.  For example, it may be worth changing the scale of the axis to\nbetter distribute the observations in the space of the plot.  Changing the scale\nof the axes is done similarly to adding/modifying other components (i.e., by\nincrementally adding commands). Try making these modifications:</p>\n<ul>\n<li>Represent height on the <code style=\"color: inherit\">log_10</code> scale; see <code style=\"color: inherit\">scale_y_log10()</code> and <code style=\"color: inherit\">scale_x_log10()</code>.</li>\n</ul>\n<br/><details style=\"border: 2px solid #B8C3EA; margin: 1em 0.2em;padding: 0.5em; cursor: pointer;\"><summary>👁 View solution</summary>\n<div class=\"box-title solution-title\" id=\"solution-3\"><button class=\"gtn-boxify-button solution\" type=\"button\" aria-controls=\"solution-3\" aria-expanded=\"true\"><i class=\"far fa-eye\" aria-hidden=\"true\" ></i> Solution<span class=\"fold-unfold fa fa-minus-square\"></span></button></div>\n<div class=\"language-plaintext highlighter-rouge\"><div><pre style=\"color: inherit; background: transparent\"><code style=\"color: inherit\">ggplot(olympics_small, aes(x = height, y = sport)) +\nscale_x_log10() +\ngeom_jitter(alpha = 0.3, color = \"orange\") +\ngeom_boxplot(outlier.shape = NA)\n</code></pre></div>  </div>\n</blockquote>\n<p>So far, we’ve looked at the distribution of height within specific sports. Try making\na new plot to explore the distribution of another variable within each sport!</p>\n<p>Create boxplot for <code style=\"color: inherit\">age</code> by sport.  Overlay the boxplot layer on a jitter\nlayer to show actual measurements.</p>\n<br/><details style=\"border: 2px solid #B8C3EA; margin: 1em 0.2em;padding: 0.5em; cursor: pointer;\"><summary>👁 View solution</summary>\n<div class=\"box-title solution-title\" id=\"solution-4\"><button class=\"gtn-boxify-button solution\" type=\"button\" aria-controls=\"solution-4\" aria-expanded=\"true\"><i class=\"far fa-eye\" aria-hidden=\"true\" ></i> Solution<span class=\"fold-unfold fa fa-minus-square\"></span></button></div>\n<div class=\"language-plaintext highlighter-rouge\"><div><pre style=\"color: inherit; background: transparent\"><code style=\"color: inherit\">ggplot(olympics_small, aes(x = age, y = sport)) +\ngeom_jitter(alpha = 0.3, color = \"orange\") +\ngeom_boxplot(outlier.shape = NA)\n</code></pre></div>  </div>\n</blockquote>\n<p>Add color to the data points on your boxplot according to the year from which\nthe sample was taken (<code class=\"language-plaintext highlighter-rouge\">year</code>).</p>\n<p>Hint: Check the class for <code style=\"color: inherit\">year</code>. Consider changing the class of <code style=\"color: inherit\">year</code>\nfrom integer to factor. Why does this change how R makes the graph?</p>\n<br/><details style=\"border: 2px solid #B8C3EA; margin: 1em 0.2em;padding: 0.5em; cursor: pointer;\"><summary>👁 View solution</summary>\n<div class=\"box-title solution-title\" id=\"solution-5\"><button class=\"gtn-boxify-button solution\" type=\"button\" aria-controls=\"solution-5\" aria-expanded=\"true\"><i class=\"far fa-eye\" aria-hidden=\"true\" ></i> Solution<span class=\"fold-unfold fa fa-minus-square\"></span></button></div>\n<div class=\"language-plaintext highlighter-rouge\"><div><pre style=\"color: inherit; background: transparent\"><code style=\"color: inherit\">ggplot(olympics_small, aes(x = age, y = sport)) +\n  geom_jitter(alpha = 0.3, aes(color=year)) +\n  geom_boxplot(outlier.shape = NA)\n\n# As a factor:\nggplot(olympics_small, aes(x = age, y = sport)) +\n  geom_jitter(alpha = 0.3, aes(color=as.factor(year))) +\n  geom_boxplot(outlier.shape = NA)\n</code></pre></div>  </div>\n</blockquote>\n<h2 id=\"plotting-time-series-data\">Plotting time series data</h2>\n<p>Let’s calculate number of participants per year for each games. First we need\nto group the data and count records within each group:</p>\n",
      "cell_type": "markdown",
      "metadata": {
        "editable": false,
        "collapsed": false
      }
    },
    {
      "id": "cell-37",
      "source": [
        "yearly_counts <- olympics %>% count(year, season)"
      ],
      "cell_type": "code",
      "execution_count": null,
      "outputs": [

      ],
      "metadata": {
        "attributes": {
          "classes": [
            "> <comment-title></comment-title>"
          ],
          "id": ""
        }
      }
    },
    {
      "id": "cell-38",
      "source": "<p>Timelapse data can be visualized as a line plot with years on the x-axis and\ncounts on the y-axis:</p>\n",
      "cell_type": "markdown",
      "metadata": {
        "editable": false,
        "collapsed": false
      }
    },
    {
      "id": "cell-39",
      "source": [
        "ggplot(data = yearly_counts, aes(x = year, y = n)) +\n",
        "     geom_line()"
      ],
      "cell_type": "code",
      "execution_count": null,
      "outputs": [

      ],
      "metadata": {
        "attributes": {
          "classes": [
            "> <comment-title></comment-title>"
          ],
          "id": ""
        }
      }
    },
    {
      "id": "cell-40",
      "source": "<p>Unfortunately, this does not work well because our data is quite sparse, datapoints only ever 2 or 4 years.\nLet’s instead use a box plot</p>\n",
      "cell_type": "markdown",
      "metadata": {
        "editable": false,
        "collapsed": false
      }
    },
    {
      "id": "cell-41",
      "source": [
        "ggplot(data = yearly_counts, aes(x = year, y = n)) +\n",
        "     geom_col()"
      ],
      "cell_type": "code",
      "execution_count": null,
      "outputs": [

      ],
      "metadata": {
        "attributes": {
          "classes": [
            "> <comment-title></comment-title>"
          ],
          "id": ""
        }
      }
    },
    {
      "id": "cell-42",
      "source": "<p>We can’t use <code style=\"color: inherit\">geom_box()</code> here, instead we should use <code style=\"color: inherit\">geom_col()</code> as our data is already aggregated.</p>\n<p>We need to tell ggplot to draw a line for each season by modifying\nthe aesthetic function to include <code style=\"color: inherit\">group = season</code>:</p>\n",
      "cell_type": "markdown",
      "metadata": {
        "editable": false,
        "collapsed": false
      }
    },
    {
      "id": "cell-43",
      "source": [
        "ggplot(data = yearly_counts, aes(x = year, y = n, group = season)) +\n",
        "    geom_col()"
      ],
      "cell_type": "code",
      "execution_count": null,
      "outputs": [

      ],
      "metadata": {
        "attributes": {
          "classes": [
            "> <comment-title></comment-title>"
          ],
          "id": ""
        }
      }
    },
    {
      "id": "cell-44",
      "source": "<p>We will be able to distinguish season in the plot if we add colors (using\n<code style=\"color: inherit\">color</code> or <code style=\"color: inherit\">fill</code> also automatically groups the data:</p>\n",
      "cell_type": "markdown",
      "metadata": {
        "editable": false,
        "collapsed": false
      }
    },
    {
      "id": "cell-45",
      "source": [
        "ggplot(data = yearly_counts, aes(x = year, y = n, fill = season)) +\n",
        "    geom_col()"
      ],
      "cell_type": "code",
      "execution_count": null,
      "outputs": [

      ],
      "metadata": {
        "attributes": {
          "classes": [
            "> <comment-title></comment-title>"
          ],
          "id": ""
        }
      }
    },
    {
      "id": "cell-46",
      "source": "<p>If you want the histograms to be side-by-side, we can do that with the “dodge” positioning:</p>\n",
      "cell_type": "markdown",
      "metadata": {
        "editable": false,
        "collapsed": false
      }
    },
    {
      "id": "cell-47",
      "source": [
        "ggplot(data = yearly_counts, aes(x = year, y = n, fill = season)) +\n",
        "    geom_col(position = \"dodge\")"
      ],
      "cell_type": "code",
      "execution_count": null,
      "outputs": [

      ],
      "metadata": {
        "attributes": {
          "classes": [
            "> <comment-title></comment-title>"
          ],
          "id": ""
        }
      }
    },
    {
      "id": "cell-48",
      "source": "<h2 id=\"integrating-the-pipe-operator-with-ggplot2\">Integrating the pipe operator with ggplot2</h2>\n<p>In the previous lesson, we saw how to use the pipe operator <code style=\"color: inherit\">%&gt;%</code> to use\ndifferent functions in a sequence and create a coherent workflow.\nWe can also use the pipe operator to pass the <code style=\"color: inherit\">data</code> argument to the\n<code style=\"color: inherit\">ggplot()</code> function. The hard part is to remember that to build your ggplot,\nyou need to use <code style=\"color: inherit\">+</code> and not <code style=\"color: inherit\">%&gt;%</code>.</p>\n",
      "cell_type": "markdown",
      "metadata": {
        "editable": false,
        "collapsed": false
      }
    },
    {
      "id": "cell-49",
      "source": [
        "yearly_counts %>%\n",
        "    ggplot(aes(x = year, y = n, fill = season)) +\n",
        "    geom_col()"
      ],
      "cell_type": "code",
      "execution_count": null,
      "outputs": [

      ],
      "metadata": {
        "attributes": {
          "classes": [
            "> <comment-title></comment-title>"
          ],
          "id": ""
        }
      }
    },
    {
      "id": "cell-50",
      "source": "<p>The pipe operator can also be used to link data manipulation with consequent data visualization.</p>\n",
      "cell_type": "markdown",
      "metadata": {
        "editable": false,
        "collapsed": false
      }
    },
    {
      "id": "cell-51",
      "source": [
        "yearly_counts_graph <- olympics %>%\n",
        "    count(year, season) %>%\n",
        "    ggplot(mapping = aes(x = year, y = n, fill = season)) +\n",
        "    geom_col()\n",
        "\n",
        "yearly_counts_graph"
      ],
      "cell_type": "code",
      "execution_count": null,
      "outputs": [

      ],
      "metadata": {
        "attributes": {
          "classes": [
            "> <comment-title></comment-title>"
          ],
          "id": ""
        }
      }
    },
    {
      "id": "cell-52",
      "source": "<h2 id=\"faceting\">Faceting</h2>\n<p><code style=\"color: inherit\">ggplot</code> has a special technique called <em>faceting</em> that allows the user to split\none plot into multiple plots based on a factor included in the dataset. We will\nuse it to make a time series plot for each season separately:</p>\n",
      "cell_type": "markdown",
      "metadata": {
        "editable": false,
        "collapsed": false
      }
    },
    {
      "id": "cell-53",
      "source": [
        "yearly_counts %>%\n",
        "    ggplot(aes(x = year, y = n, fill = season)) +\n",
        "    geom_col() + facet_wrap(facets=vars(season))"
      ],
      "cell_type": "code",
      "execution_count": null,
      "outputs": [

      ],
      "metadata": {
        "attributes": {
          "classes": [
            "> <comment-title></comment-title>"
          ],
          "id": ""
        }
      }
    },
    {
      "id": "cell-54",
      "source": "<p>Now we would like to split the line in each plot by the sex of each individual, sport, and their medal placement.\nTo do that we need to make counts in the data frame grouped by <code style=\"color: inherit\">year</code>, <code style=\"color: inherit\">season</code>, <code style=\"color: inherit\">sport</code>, <code style=\"color: inherit\">medal</code>, and <code style=\"color: inherit\">noc</code>.</p>\n",
      "cell_type": "markdown",
      "metadata": {
        "editable": false,
        "collapsed": false
      }
    },
    {
      "id": "cell-55",
      "source": [
        "year_detail_counts <- olympics_small %>%\n",
        "                      count(year, season, sport, medal, noc)"
      ],
      "cell_type": "code",
      "execution_count": null,
      "outputs": [

      ],
      "metadata": {
        "attributes": {
          "classes": [
            "> <comment-title></comment-title>"
          ],
          "id": ""
        }
      }
    },
    {
      "id": "cell-56",
      "source": "<p>We can now make the faceted plot by splitting further by medal using <code style=\"color: inherit\">color</code>\n(within a single plot), and per NOC:</p>\n",
      "cell_type": "markdown",
      "metadata": {
        "editable": false,
        "collapsed": false
      }
    },
    {
      "id": "cell-57",
      "source": [
        "ggplot(data = year_detail_counts, mapping = aes(x = year, y = n, color = medal)) +\n",
        "  geom_line() +\n",
        "  facet_wrap(facets =  vars(noc))"
      ],
      "cell_type": "code",
      "execution_count": null,
      "outputs": [

      ],
      "metadata": {
        "attributes": {
          "classes": [
            "> <comment-title></comment-title>"
          ],
          "id": ""
        }
      }
    },
    {
      "id": "cell-58",
      "source": "<p>We can also facet both by NOC and sport:</p>\n",
      "cell_type": "markdown",
      "metadata": {
        "editable": false,
        "collapsed": false
      }
    },
    {
      "id": "cell-59",
      "source": [
        "ggplot(data = year_detail_counts, mapping = aes(x = year, y = n, color = medal)) +\n",
        "  geom_line() +\n",
        "  facet_grid(rows = vars(noc), cols =  vars(sport))"
      ],
      "cell_type": "code",
      "execution_count": null,
      "outputs": [

      ],
      "metadata": {
        "attributes": {
          "classes": [
            "> <comment-title></comment-title>"
          ],
          "id": ""
        }
      }
    },
    {
      "id": "cell-60",
      "source": "<p>You can also organise the panels only by rows (or only by columns):</p>\n",
      "cell_type": "markdown",
      "metadata": {
        "editable": false,
        "collapsed": false
      }
    },
    {
      "id": "cell-61",
      "source": [
        "# One column, facet by rows\n",
        "ggplot(data = year_detail_counts, mapping = aes(x = year, y = n, color = medal)) +\n",
        "  geom_line() +\n",
        "  facet_grid(rows = vars(noc))"
      ],
      "cell_type": "code",
      "execution_count": null,
      "outputs": [

      ],
      "metadata": {
        "attributes": {
          "classes": [
            "> <comment-title></comment-title>"
          ],
          "id": ""
        }
      }
    },
    {
      "id": "cell-62",
      "source": "\n",
      "cell_type": "markdown",
      "metadata": {
        "editable": false,
        "collapsed": false
      }
    },
    {
      "id": "cell-63",
      "source": [
        "# One row, facet by column\n",
        "ggplot(data = year_detail_counts, mapping = aes(x = year, y = n, color = medal)) +\n",
        "  geom_line() +\n",
        "  facet_grid(cols = vars(noc))"
      ],
      "cell_type": "code",
      "execution_count": null,
      "outputs": [

      ],
      "metadata": {
        "attributes": {
          "classes": [
            "> <comment-title></comment-title>"
          ],
          "id": ""
        }
      }
    },
    {
      "id": "cell-64",
      "source": "<blockquote class=\"tip\" style=\"border: 2px solid #FFE19E; margin: 1em 0.2em\">\n<div class=\"box-title tip-title\" id=\"tip-facet-grid-wrap-with\"><button class=\"gtn-boxify-button tip\" type=\"button\" aria-controls=\"tip-facet-grid-wrap-with\" aria-expanded=\"true\"><i class=\"far fa-lightbulb\" aria-hidden=\"true\" ></i> Tip: facet_grid/wrap with ~<span class=\"fold-unfold fa fa-minus-square\"></span></button></div>\n<p><code style=\"color: inherit\">ggplot2</code> before version 3.0.0 used formulas to specify how plots are faceted.\nIf you encounter <code style=\"color: inherit\">facet_grid</code>/<code style=\"color: inherit\">wrap(...)</code> code containing <code style=\"color: inherit\">~</code>, please read\n<a href=\"https://ggplot2.tidyverse.org/news/#tidy-evaluation\">https://ggplot2.tidyverse.org/news/#tidy-evaluation</a>.</p>\n</blockquote>\n<h2 id=\"ggplot2-themes\"><code style=\"color: inherit\">ggplot2</code> themes</h2>\n<p>Usually plots with white background look more readable when printed.\nEvery single component of a <code style=\"color: inherit\">ggplot</code> graph can be customized using the generic\n<code style=\"color: inherit\">theme()</code> function, as we will see below. However, there are pre-loaded themes\navailable that change the overall appearance of the graph without much effort.</p>\n<p>For example, we can change our previous graph to have a simpler white background\nusing the <code style=\"color: inherit\">theme_bw()</code> function:</p>\n",
      "cell_type": "markdown",
      "metadata": {
        "editable": false,
        "collapsed": false
      }
    },
    {
      "id": "cell-65",
      "source": [
        "ggplot(data = year_detail_counts, mapping = aes(x = year, y = n, color = medal))  +\n",
        "    geom_line() +\n",
        "    facet_grid(rows = vars(noc), cols =  vars(sport)) +\n",
        "    theme_bw()"
      ],
      "cell_type": "code",
      "execution_count": null,
      "outputs": [

      ],
      "metadata": {
        "attributes": {
          "classes": [
            "> <comment-title></comment-title>"
          ],
          "id": ""
        }
      }
    },
    {
      "id": "cell-66",
      "source": "<p>In addition to <code style=\"color: inherit\">theme_bw()</code>, which changes the plot background to white, <code style=\"color: inherit\">ggplot2</code>\ncomes with several other themes which can be useful to quickly change the look\nof your visualization. The complete list of themes is <a href=\"https://ggplot2.tidyverse.org/reference/ggtheme.html\">documented in the ggthemes reference</a>. <code style=\"color: inherit\">theme_minimal()</code> and\n<code style=\"color: inherit\">theme_light()</code> are popular, and <code style=\"color: inherit\">theme_void()</code> can be useful as a starting\npoint to create a new hand-crafted theme.</p>\n<p>The\n<a href=\"https://jrnold.github.io/ggthemes/reference/index.html\">ggthemes</a> package\nprovides a wide variety of options.</p>\n<blockquote class=\"question\" style=\"border: 2px solid #8A9AD0; margin: 1em 0.2em\">\n<div class=\"box-title question-title\" id=\"question-challenge-2\"><i class=\"far fa-question-circle\" aria-hidden=\"true\"></i> Challenge</div>\n<p>Use what you just learned to create a plot the relationship between height and weight,\nof participants, broken down by NOC and Sport.</p>\n<br/><details style=\"border: 2px solid #B8C3EA; margin: 1em 0.2em;padding: 0.5em; cursor: pointer;\"><summary>👁 View solution</summary>\n<div class=\"box-title solution-title\" id=\"solution-6\"><button class=\"gtn-boxify-button solution\" type=\"button\" aria-controls=\"solution-6\" aria-expanded=\"true\"><i class=\"far fa-eye\" aria-hidden=\"true\" ></i> Solution<span class=\"fold-unfold fa fa-minus-square\"></span></button></div>\n<div class=\"language-plaintext highlighter-rouge\"><div><pre style=\"color: inherit; background: transparent\"><code style=\"color: inherit\">ggplot(data = olympics_small, mapping = aes(x = height, y = weight, color = medal)) +\n    geom_point() +\n    facet_grid(rows = vars(noc), cols = vars(sport))\n</code></pre></div>    </div>\n</details>\n</blockquote>\n<h2 id=\"customization\">Customization</h2>\n<p>Take a look at the <a href=\"https://posit.co/wp-content/uploads/2022/10/data-visualization-1.pdf\"><code style=\"color: inherit\">ggplot2</code> cheat sheet</a>, and\nthink of ways you could improve the plot.</p>\n<p>Now, let’s change names of axes to something more informative than ‘year’\nand ‘n’ and add a title to the figure:</p>\n",
      "cell_type": "markdown",
      "metadata": {
        "editable": false,
        "collapsed": false
      }
    },
    {
      "id": "cell-67",
      "source": [
        "ggplot(data = year_detail_counts, mapping = aes(x = year, y = n, fill = medal))  +\n",
        "    geom_col() +\n",
        "    facet_grid(rows = vars(noc), cols =  vars(sport)) +\n",
        "    labs(title = \"Participants and medals over the years\",\n",
        "         x = \"Year\",\n",
        "         y = \"Number of individuals\") +\n",
        "    theme_bw()"
      ],
      "cell_type": "code",
      "execution_count": null,
      "outputs": [

      ],
      "metadata": {
        "attributes": {
          "classes": [
            "> <comment-title></comment-title>"
          ],
          "id": ""
        }
      }
    },
    {
      "id": "cell-68",
      "source": "<p>The axes have more informative names, but their readability can be improved by\nincreasing the font size. This can be done with the generic <code style=\"color: inherit\">theme()</code> function:</p>\n",
      "cell_type": "markdown",
      "metadata": {
        "editable": false,
        "collapsed": false
      }
    },
    {
      "id": "cell-69",
      "source": [
        "ggplot(data = year_detail_counts, mapping = aes(x = year, y = n, fill = medal))  +\n",
        "    geom_col() +\n",
        "    facet_grid(rows = vars(noc), cols =  vars(sport)) +\n",
        "    labs(title = \"Participants and medals over the years\",\n",
        "         x = \"Year\",\n",
        "         y = \"Number of individuals\") +\n",
        "    theme_bw()\n",
        "    theme(text=element_text(size = 16))"
      ],
      "cell_type": "code",
      "execution_count": null,
      "outputs": [

      ],
      "metadata": {
        "attributes": {
          "classes": [
            "> <comment-title></comment-title>"
          ],
          "id": ""
        }
      }
    },
    {
      "id": "cell-70",
      "source": "<p>Note that it is also possible to change the fonts of your plots. If you are on\nWindows, you may have to install\nthe <a href=\"https://github.com/wch/extrafont\"><code style=\"color: inherit\">extrafont</code> package</a>, and follow the\ninstructions included in the README for this package.</p>\n<p>After our manipulations, you may notice that the values on the x-axis are still\nnot properly readable. Let’s change the orientation of the labels and adjust\nthem vertically and horizontally so they don’t overlap. You can use a 90 degree\nangle, or experiment to find the appropriate angle for diagonally oriented\nlabels. We can also modify the facet label text (<code class=\"language-plaintext highlighter-rouge\">strip.text</code>) to italicize the genus\nnames:</p>\n",
      "cell_type": "markdown",
      "metadata": {
        "editable": false,
        "collapsed": false
      }
    },
    {
      "id": "cell-71",
      "source": [
        "ggplot(data = year_detail_counts, mapping = aes(x = year, y = n, fill = medal))  +\n",
        "    geom_col() +\n",
        "    facet_grid(rows = vars(noc), cols =  vars(sport)) +\n",
        "    labs(title = \"Participants and medals over the years\",\n",
        "         x = \"Year\",\n",
        "         y = \"Number of individuals\") +\n",
        "    theme_bw()\n",
        "    theme(axis.text.x = element_text(colour = \"grey20\", size = 12, angle = 90, hjust = 0.5, vjust = 0.5),\n",
        "                        axis.text.y = element_text(colour = \"grey20\", size = 12),\n",
        "                        strip.text = element_text(face = \"italic\"),\n",
        "                        text = element_text(size = 16))"
      ],
      "cell_type": "code",
      "execution_count": null,
      "outputs": [

      ],
      "metadata": {
        "attributes": {
          "classes": [
            "> <comment-title></comment-title>"
          ],
          "id": ""
        }
      }
    },
    {
      "id": "cell-72",
      "source": "<p>If you like the changes you created better than the default theme, you can save\nthem as an object to be able to easily apply them to other plots you may create:</p>\n",
      "cell_type": "markdown",
      "metadata": {
        "editable": false,
        "collapsed": false
      }
    },
    {
      "id": "cell-73",
      "source": [
        "grey_theme <- theme(axis.text.x = element_text(colour=\"grey20\", size = 12,\n",
        "                                               angle = 90, hjust = 0.5,\n",
        "                                               vjust = 0.5),\n",
        "                    axis.text.y = element_text(colour = \"grey20\", size = 12),\n",
        "                    text=element_text(size = 16))\n",
        "\n",
        "ggplot(data = year_detail_counts, mapping = aes(x = year, y = n, fill = medal))  +\n",
        "    geom_col() +\n",
        "    facet_grid(rows = vars(noc), cols =  vars(sport)) +\n",
        "    grey_theme"
      ],
      "cell_type": "code",
      "execution_count": null,
      "outputs": [

      ],
      "metadata": {
        "attributes": {
          "classes": [
            "> <comment-title></comment-title>"
          ],
          "id": ""
        }
      }
    },
    {
      "id": "cell-74",
      "source": "<blockquote class=\"question\" style=\"border: 2px solid #8A9AD0; margin: 1em 0.2em\">\n<div class=\"box-title question-title\" id=\"question-challenge-3\"><i class=\"far fa-question-circle\" aria-hidden=\"true\"></i> Challenge</div>\n<p>With all of this information in hand, please take another five minutes to either\nimprove one of the plots generated in this exercise or create a beautiful graph\nof your own. Use the RStudio <a href=\"https://posit.co/wp-content/uploads/2022/10/data-visualization-1.pdf\"><code style=\"color: inherit\">ggplot2</code> cheat sheet</a>\nfor inspiration.</p>\n<p>Here are some ideas:</p>\n<ul>\n<li>See if you can change the plot type to another plot</li>\n<li>Can you find a way to change the name of the legend? What about its labels?</li>\n<li>Try using a different color palette (see <a href=\"https://r-graphics.org/chapter-colors\">https://r-graphics.org/chapter-colors</a>).</li>\n</ul>\n<br/><details style=\"border: 2px solid #B8C3EA; margin: 1em 0.2em;padding: 0.5em; cursor: pointer;\"><summary>👁 View solution</summary>\n<div class=\"box-title solution-title\" id=\"solution-7\"><button class=\"gtn-boxify-button solution\" type=\"button\" aria-controls=\"solution-7\" aria-expanded=\"true\"><i class=\"far fa-eye\" aria-hidden=\"true\" ></i> Solution<span class=\"fold-unfold fa fa-minus-square\"></span></button></div>\n<p>This optional exercise currently lacks solutions. If you have them, please feel free to contribute suggestions here :)</p>\n</details>\n</blockquote>\n<h2 id=\"arranging-plots\">Arranging plots</h2>\n<p>Faceting is a great tool for splitting one plot into multiple plots, but\nsometimes you may want to produce a single figure that contains multiple plots\nusing different variables or even different data frames. The <code style=\"color: inherit\">patchwork</code>\npackage allows us to combine separate ggplots into a single figure while keeping\neverything aligned properly. Like most R packages, we can install <code style=\"color: inherit\">patchwork</code>\nfrom CRAN, the R package repository, if it isn’t already available:</p>\n",
      "cell_type": "markdown",
      "metadata": {
        "editable": false,
        "collapsed": false
      }
    },
    {
      "id": "cell-75",
      "source": [
        "# install.packages(\"patchwork\")"
      ],
      "cell_type": "code",
      "execution_count": null,
      "outputs": [

      ],
      "metadata": {
        "attributes": {
          "classes": [
            "> <comment-title></comment-title>"
          ],
          "id": ""
        }
      }
    },
    {
      "id": "cell-76",
      "source": "<p>After you have loaded the <code style=\"color: inherit\">patchwork</code> package you can use <code style=\"color: inherit\">+</code> to place plots\nnext to each other, <code style=\"color: inherit\">/</code> to arrange them vertically, and <code style=\"color: inherit\">plot_layout()</code> to\ndetermine how much space each plot uses:</p>\n",
      "cell_type": "markdown",
      "metadata": {
        "editable": false,
        "collapsed": false
      }
    },
    {
      "id": "cell-77",
      "source": [
        "library(patchwork)\n",
        "\n",
        "plot_weight <- olympics_small %>% ggplot(aes(x=noc, y=weight)) +\n",
        "  geom_boxplot() +\n",
        "  labs(x = \"NOC\", y = expression(log[10](Weight))) +\n",
        "  scale_y_log10()\n",
        "\n",
        "plot_height <- olympics_small %>% ggplot(aes(x=noc, y=height)) +\n",
        "  geom_boxplot() +\n",
        "  labs(x = \"NOC\", y = expression(log[10](Height))) +\n",
        "  scale_y_log10()\n",
        "\n",
        "plot_weight / plot_height + plot_layout(heights = c(3, 2))"
      ],
      "cell_type": "code",
      "execution_count": null,
      "outputs": [

      ],
      "metadata": {
        "attributes": {
          "classes": [
            "> <comment-title></comment-title>"
          ],
          "id": ""
        }
      }
    },
    {
      "id": "cell-78",
      "source": "<p>You can also use parentheses <code style=\"color: inherit\">()</code> to create more complex layouts. There are\nmany useful examples on the <a href=\"https://patchwork.data-imaginist.com/\">patchwork website</a></p>\n<h2 id=\"exporting-plots\">Exporting plots</h2>\n<p>After creating your plot, you can save it to a file in your favorite format. The\nExport tab in the <strong>Plot</strong> pane in RStudio will save your plots at low\nresolution, which will not be accepted by many journals and will not scale well\nfor posters. The <a href=\"https://exts.ggplot2.tidyverse.org/\"><code style=\"color: inherit\">ggplot2</code> extensions website</a> provides a list\nof packages that extend the capabilities of <code style=\"color: inherit\">ggplot2</code>, including additional\nthemes.</p>\n<p>Instead, use the <code style=\"color: inherit\">ggsave()</code> function, which allows you to easily change the\ndimension and resolution of your plot by adjusting the appropriate arguments\n(<code class=\"language-plaintext highlighter-rouge\">width</code>, <code style=\"color: inherit\">height</code> and <code style=\"color: inherit\">dpi</code>):</p>\n",
      "cell_type": "markdown",
      "metadata": {
        "editable": false,
        "collapsed": false
      }
    },
    {
      "id": "cell-79",
      "source": [
        "my_plot <- year_detail_counts %>% ggplot(aes(x = year, y = n, fill = medal))  +\n",
        "    geom_col() +\n",
        "    facet_grid(rows = vars(noc), cols =  vars(sport)) +\n",
        "    labs(title = \"Participants and medals over the years\",\n",
        "         x = \"Year\",\n",
        "         y = \"Number of individuals\") +\n",
        "    theme_bw()\n",
        "    theme(axis.text.x = element_text(colour = \"grey20\", size = 12, angle = 90, hjust = 0.5, vjust = 0.5),\n",
        "                        axis.text.y = element_text(colour = \"grey20\", size = 12),\n",
        "                        strip.text = element_text(face = \"italic\"),\n",
        "                        text = element_text(size = 16))\n",
        "\n",
        "ggsave(\"name_of_file.png\", my_plot, width = 15, height = 10)\n",
        "\n",
        "## This also works for plots combined with patchwork\n",
        "plot_combined <- plot_weight / plot_height + plot_layout(heights = c(3, 2))\n",
        "ggsave(\"plot_combined.png\", plot_combined, width = 10, dpi = 300)"
      ],
      "cell_type": "code",
      "execution_count": null,
      "outputs": [

      ],
      "metadata": {
        "attributes": {
          "classes": [
            "> <comment-title></comment-title>"
          ],
          "id": ""
        }
      }
    },
    {
      "id": "cell-80",
      "source": "<p>Note: The parameters <code style=\"color: inherit\">width</code> and <code style=\"color: inherit\">height</code> also determine the font size in the\nsaved plot.</p>\n",
      "cell_type": "markdown",
      "metadata": {
        "editable": false,
        "collapsed": false
      }
    },
    {
      "id": "cell-81",
      "source": [
        "### Final plotting challenge:\n",
        "##  With all of this information in hand, please take another five\n",
        "##  minutes to either improve one of the plots generated in this\n",
        "##  exercise or create a beautiful graph of your own. Use the RStudio\n",
        "##  ggplot2 cheat sheet for inspiration:\n",
        "##  https://posit.co/wp-content/uploads/2022/10/data-visualization-1.pdf"
      ],
      "cell_type": "code",
      "execution_count": null,
      "outputs": [

      ],
      "metadata": {
        "attributes": {
          "classes": [
            "> <comment-title></comment-title>"
          ],
          "id": ""
        }
      }
    },
    {
      "id": "cell-82",
      "source": "\n",
      "cell_type": "markdown",
      "metadata": {
        "editable": false,
        "collapsed": false
      }
    },
    {
      "cell_type": "markdown",
      "id": "final-ending-cell",
      "metadata": {
        "editable": false,
        "collapsed": false
      },
      "source": [
        "# Key Points\n\n",
        "- Plotting is easy with ggplot2.\n",
        "- Start small, and build up plots over time.\n",
        "\n# Congratulations on successfully completing this tutorial!\n\n",
        "Please [fill out the feedback on the GTN website](https://training.galaxyproject.org/training-material/topics/data-science/tutorials/data-manipulation-olympics-viz-r/tutorial.html#feedback) and check there for further resources!\n"
      ]
    }
  ]
}