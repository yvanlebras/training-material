{
  "metadata": {
  },
  "nbformat": 4,
  "nbformat_minor": 5,
  "cells": [
    {
      "id": "metadata",
      "cell_type": "markdown",
      "source": "<div style=\"border: 2px solid #8A9AD0; margin: 1em 0.2em; padding: 0.5em;\">\n\n# Python - Basic Types &amp; Type Conversion\n\nby [The Carpentries](https://training.galaxyproject.org/hall-of-fame/carpentries/), [Helena Rasche](https://training.galaxyproject.org/hall-of-fame/hexylena/), [Donny Vrins](https://training.galaxyproject.org/hall-of-fame/dirowa/), [Bazante Sanders](https://training.galaxyproject.org/hall-of-fame/bazante1/)\n\nCC-BY licensed content from the [Galaxy Training Network](https://training.galaxyproject.org/)\n\n**Objectives**\n\n- What kinds of data do programs store?\n- How can I convert one type to another?\n\n**Objectives**\n\n- Explain key differences between integers and floating point numbers.\n- Explain key differences between numbers and character strings.\n- Use built-in functions to convert between integers, floating point numbers, and strings.\n\n**Time Estimation: 30M**\n</div>\n",
      "metadata": {
        "editable": false,
        "collapsed": false
      }
    },
    {
      "id": "cell-0",
      "source": "<p>Python is a typed language, data has a type, and different types of data cannot always be connected immediately and might need some conversion step before they can be used together. For instance if you add a number to a number, what should happen? If you add a number to a message, what do you expect will happen?</p>\n<blockquote class=\"agenda\" style=\"border: 2px solid #86D486;display: none; margin: 1em 0.2em\">\n<div class=\"box-title agenda-title\" id=\"agenda\">Agenda</div>\n<p>In this tutorial, we will cover:</p>\n<ol id=\"markdown-toc\">\n<li><a href=\"#types\" id=\"markdown-toc-types\">Types</a></li>\n</ol>\n</blockquote>\n<h2 id=\"types\">Types</h2>\n<p>Every value in a program has a specific type.</p>\n<table>\n<thead>\n<tr>\n<th>Name</th>\n<th>Python Code</th>\n<th>Represents</th>\n</tr>\n</thead>\n<tbody>\n<tr>\n<td>Integer</td>\n<td><code style=\"color: inherit\">int</code></td>\n<td>represents positive or negative whole numbers like 3 or -512.</td>\n</tr>\n<tr>\n<td>Floating point number</td>\n<td><code style=\"color: inherit\">float</code></td>\n<td>represents real numbers like 3.14159 or -2.5.</td>\n</tr>\n<tr>\n<td>Character string</td>\n<td><code style=\"color: inherit\">str</code></td>\n<td>text, written with either <code style=\"color: inherit\">'</code> or <code style=\"color: inherit\">\"</code> quotes (they must match)</td>\n</tr>\n</tbody>\n</table>\n<h3 id=\"checking-the-type\">Checking the Type</h3>\n<p>Use the built-in function <code style=\"color: inherit\">type</code> to find out what type a value has. This works on values as well as variables. But remember: the <em>value</em> has the type — the <em>variable</em> is just a label.</p>\n<p>Check the type of values with the <a href=\"https://docs.python.org/3.8/library/functions.html#type\"><code class=\"language-plaintext highlighter-rouge\">type()</code></a> function:</p>\n",
      "cell_type": "markdown",
      "metadata": {
        "editable": false,
        "collapsed": false
      }
    },
    {
      "id": "cell-1",
      "source": [
        "print(type(52))\n",
        "print(type(3.14159))"
      ],
      "cell_type": "code",
      "execution_count": null,
      "outputs": [

      ],
      "metadata": {
        "attributes": {
          "classes": [
            "> <agenda-title></agenda-title>"
          ],
          "id": ""
        }
      }
    },
    {
      "id": "cell-2",
      "source": "<p>You can also check the types of variables</p>\n",
      "cell_type": "markdown",
      "metadata": {
        "editable": false,
        "collapsed": false
      }
    },
    {
      "id": "cell-3",
      "source": [
        "fitness = 'average'\n",
        "print(type(fitness))"
      ],
      "cell_type": "code",
      "execution_count": null,
      "outputs": [

      ],
      "metadata": {
        "attributes": {
          "classes": [
            "> <agenda-title></agenda-title>"
          ],
          "id": ""
        }
      }
    },
    {
      "id": "cell-4",
      "source": "<h3 id=\"methods\">Methods</h3>\n<p>A value’s type determines what the program can do to it. Some operations may work</p>\n",
      "cell_type": "markdown",
      "metadata": {
        "editable": false,
        "collapsed": false
      }
    },
    {
      "id": "cell-5",
      "source": [
        "print(5 - 3)"
      ],
      "cell_type": "code",
      "execution_count": null,
      "outputs": [

      ],
      "metadata": {
        "attributes": {
          "classes": [
            "> <agenda-title></agenda-title>"
          ],
          "id": ""
        }
      }
    },
    {
      "id": "cell-6",
      "source": "<p>And some operations may not work:</p>\n",
      "cell_type": "markdown",
      "metadata": {
        "editable": false,
        "collapsed": false
      }
    },
    {
      "id": "cell-7",
      "source": [
        "print('hello' - 'h')"
      ],
      "cell_type": "code",
      "execution_count": null,
      "outputs": [

      ],
      "metadata": {
        "attributes": {
          "classes": [
            "> <agenda-title></agenda-title>"
          ],
          "id": ""
        }
      }
    },
    {
      "id": "cell-8",
      "source": "<p>For instance, you can use the <code style=\"color: inherit\">+</code> and <code style=\"color: inherit\">*</code> operators on strings.</p>\n",
      "cell_type": "markdown",
      "metadata": {
        "editable": false,
        "collapsed": false
      }
    },
    {
      "id": "cell-9",
      "source": [
        "full_name = 'Ahmed' + ' ' + 'Walsh'\n",
        "print(full_name)\n",
        "separator = '=' * 10\n",
        "print(separator)"
      ],
      "cell_type": "code",
      "execution_count": null,
      "outputs": [

      ],
      "metadata": {
        "attributes": {
          "classes": [
            "> <agenda-title></agenda-title>"
          ],
          "id": ""
        }
      }
    },
    {
      "id": "cell-10",
      "source": "<p>Some methods only accept specific types, or only work on specific types.</p>\n<p>The built-in function <code style=\"color: inherit\">len</code> returns the length of your data. Which of the following would you expect to work? <code style=\"color: inherit\">len(string)</code>? <code style=\"color: inherit\">len(int)</code>?</p>\n",
      "cell_type": "markdown",
      "metadata": {
        "editable": false,
        "collapsed": false
      }
    },
    {
      "id": "cell-11",
      "source": [
        "print(len(full_name))\n",
        "print(len(52))"
      ],
      "cell_type": "code",
      "execution_count": null,
      "outputs": [

      ],
      "metadata": {
        "attributes": {
          "classes": [
            "> <agenda-title></agenda-title>"
          ],
          "id": ""
        }
      }
    },
    {
      "id": "cell-12",
      "source": "<h3 id=\"matching-types\">Matching Types</h3>\n<p>Not all types support all operations, adding an integer to a string doesn’t make much sense:</p>\n",
      "cell_type": "markdown",
      "metadata": {
        "editable": false,
        "collapsed": false
      }
    },
    {
      "id": "cell-13",
      "source": [
        "print(1 + '2')"
      ],
      "cell_type": "code",
      "execution_count": null,
      "outputs": [

      ],
      "metadata": {
        "attributes": {
          "classes": [
            "> <agenda-title></agenda-title>"
          ],
          "id": ""
        }
      }
    },
    {
      "id": "cell-14",
      "source": "<p>This does not work because it’s ambiguous: should <code style=\"color: inherit\">1 + '2'</code> be <code style=\"color: inherit\">3</code> (a number) or <code style=\"color: inherit\">'12'</code> (a string)? Some types can be converted to other types by using the type name as a function.</p>\n",
      "cell_type": "markdown",
      "metadata": {
        "editable": false,
        "collapsed": false
      }
    },
    {
      "id": "cell-15",
      "source": [
        "print(1 + int('2'))\n",
        "print(str(1) + '2')"
      ],
      "cell_type": "code",
      "execution_count": null,
      "outputs": [

      ],
      "metadata": {
        "attributes": {
          "classes": [
            "> <agenda-title></agenda-title>"
          ],
          "id": ""
        }
      }
    },
    {
      "id": "cell-16",
      "source": "<h3 id=\"operation-support\">Operation Support</h3>\n<p>Here is a quick chart showing which operations are allowed for each pair:</p>\n<table>\n<thead>\n<tr>\n<th>Left\\Right</th>\n<th><code style=\"color: inherit\">int</code></th>\n<th><code style=\"color: inherit\">float</code></th>\n<th><code style=\"color: inherit\">str</code></th>\n</tr>\n</thead>\n<tbody>\n<tr>\n<td><code style=\"color: inherit\">int</code></td>\n<td><code style=\"color: inherit\">+-*/</code></td>\n<td><code style=\"color: inherit\">+-*/</code></td>\n<td><code style=\"color: inherit\">*</code></td>\n</tr>\n<tr>\n<td><code style=\"color: inherit\">float</code></td>\n<td><code style=\"color: inherit\">+-*/</code></td>\n<td><code style=\"color: inherit\">+-*/</code></td>\n<td><code style=\"color: inherit\"></code></td>\n</tr>\n<tr>\n<td><code style=\"color: inherit\">str</code></td>\n<td><code style=\"color: inherit\">*</code></td>\n<td><code style=\"color: inherit\"></code></td>\n<td><code style=\"color: inherit\">+</code></td>\n</tr>\n</tbody>\n</table>\n<p>As you can see you can do <code style=\"color: inherit\">3 * \"test\"</code> and <code style=\"color: inherit\">\"test\" * 3</code>, but it doesn’t work with floats.</p>\n<h2 id=\"can-mix-integers-and-floats-freely-in-operations\">Can mix integers and floats freely in operations.</h2>\n<p>Integers and floating-point numbers can be mixed in arithmetic. Python 3 (which we use) automatically converts integers to floats as needed.</p>\n",
      "cell_type": "markdown",
      "metadata": {
        "editable": false,
        "collapsed": false
      }
    },
    {
      "id": "cell-17",
      "source": [
        "print(f'half is {1 / 2.0}')\n",
        "print(f'three squared is {3.0 ** 2}')"
      ],
      "cell_type": "code",
      "execution_count": null,
      "outputs": [

      ],
      "metadata": {
        "attributes": {
          "classes": [
            "> <agenda-title></agenda-title>"
          ],
          "id": ""
        }
      }
    },
    {
      "id": "cell-18",
      "source": "<h2 id=\"variables-only-change-value-when-something-is-assigned-to-them\">Variables only change value when something is assigned to them.</h2>\n<p>If we make one cell in a spreadsheet depend on another, and update the latter,\nthe former updates automatically. However, this does <strong>not</strong> happen in programming languages.</p>\n",
      "cell_type": "markdown",
      "metadata": {
        "editable": false,
        "collapsed": false
      }
    },
    {
      "id": "cell-19",
      "source": [
        "variable_one = 1\n",
        "variable_two = 5 * variable_one\n",
        "variable_one = 2\n",
        "print(f'first is {variable_one} and second is {variable_two}')"
      ],
      "cell_type": "code",
      "execution_count": null,
      "outputs": [

      ],
      "metadata": {
        "attributes": {
          "classes": [
            "> <agenda-title></agenda-title>"
          ],
          "id": ""
        }
      }
    },
    {
      "id": "cell-20",
      "source": "<p>The computer reads the value of <code style=\"color: inherit\">first</code> when doing the multiplication, creates\na new value, and assigns it to <code style=\"color: inherit\">second</code>. After that, <code style=\"color: inherit\">second</code> does not remember\nwhere it came from. Every computation happens line-by-line.</p>\n<blockquote class=\"question\" style=\"border: 2px solid #8A9AD0; margin: 1em 0.2em\">\n<div class=\"box-title question-title\" id=\"question-fractions\"><i class=\"far fa-question-circle\" aria-hidden=\"true\" ></i> Question: Fractions</div>\n<p>What type of value is 3.14159?\nHow can you find out?</p>\n<br/><details style=\"border: 2px solid #B8C3EA; margin: 1em 0.2em;padding: 0.5em; cursor: pointer;\"><summary>👁 View solution</summary>\n<div class=\"box-title solution-title\" id=\"solution\"><button class=\"gtn-boxify-button solution\" type=\"button\" aria-controls=\"solution\" aria-expanded=\"true\"><i class=\"far fa-eye\" aria-hidden=\"true\" ></i> Solution<span class=\"fold-unfold fa fa-minus-square\"></span></button></div>\n<p>It is a floating-point number (often abbreviated “float”).\nIt is possible to find out by using the built-in function <code style=\"color: inherit\">type()</code>.</p>\n<div class=\"language-plaintext highlighter-rouge\"><div><pre style=\"color: inherit; background: transparent\"><code style=\"color: inherit\">print(type(3.14159))\n&lt;class 'float'&gt;\n</code></pre></div>    </div>\n</details>\n</blockquote>\n",
      "cell_type": "markdown",
      "metadata": {
        "editable": false,
        "collapsed": false
      }
    },
    {
      "id": "cell-21",
      "source": [
        "# Test out solutions here!\n",
        ""
      ],
      "cell_type": "code",
      "execution_count": null,
      "outputs": [

      ],
      "metadata": {
        "attributes": {
          "classes": [
            "> <agenda-title></agenda-title>"
          ],
          "id": ""
        }
      }
    },
    {
      "id": "cell-22",
      "source": "<blockquote class=\"question\" style=\"border: 2px solid #8A9AD0; margin: 1em 0.2em\">\n<div class=\"box-title question-title\" id=\"question-automatic-type-conversion\"><i class=\"far fa-question-circle\" aria-hidden=\"true\" ></i> Question: Automatic Type Conversion</div>\n<p>What type of value is the result of (3.25 + 4)?</p>\n<br/><details style=\"border: 2px solid #B8C3EA; margin: 1em 0.2em;padding: 0.5em; cursor: pointer;\"><summary>👁 View solution</summary>\n<div class=\"box-title solution-title\" id=\"solution-1\"><button class=\"gtn-boxify-button solution\" type=\"button\" aria-controls=\"solution-1\" aria-expanded=\"true\"><i class=\"far fa-eye\" aria-hidden=\"true\" ></i> Solution<span class=\"fold-unfold fa fa-minus-square\"></span></button></div>\n<p>It is a float:\nintegers are automatically converted to floats as necessary.</p>\n<div class=\"language-plaintext highlighter-rouge\"><div><pre style=\"color: inherit; background: transparent\"><code style=\"color: inherit\">result = 3.25 + 4\nprint(f'result is {type(result)}')\n</code></pre></div>    </div>\n<div class=\"language-plaintext highlighter-rouge\"><div><pre style=\"color: inherit; background: transparent\"><code style=\"color: inherit\">7.25 is &lt;class 'float'&gt;\n</code></pre></div>    </div>\n</details>\n</blockquote>\n",
      "cell_type": "markdown",
      "metadata": {
        "editable": false,
        "collapsed": false
      }
    },
    {
      "id": "cell-23",
      "source": [
        "# Test out solutions here!\n",
        ""
      ],
      "cell_type": "code",
      "execution_count": null,
      "outputs": [

      ],
      "metadata": {
        "attributes": {
          "classes": [
            "> <agenda-title></agenda-title>"
          ],
          "id": ""
        }
      }
    },
    {
      "id": "cell-24",
      "source": "<blockquote class=\"question\" style=\"border: 2px solid #8A9AD0; margin: 1em 0.2em\">\n<div class=\"box-title question-title\" id=\"question-choose-a-type\"><i class=\"far fa-question-circle\" aria-hidden=\"true\" ></i> Question: Choose a Type</div>\n<p>What type of value (integer, floating point number, or character string)\nwould you use to represent each of the following?  Try to come up with more than one good answer for each problem.  For example, in  # 1, when would counting days with a floating point variable make more sense than using an integer?</p>\n<ol>\n<li>Number of days since the start of the year.</li>\n<li>Time elapsed from the start of the year until now in days.</li>\n<li>Serial number of a piece of lab equipment.</li>\n<li>A lab specimen’s age</li>\n<li>Current population of a city.</li>\n<li>Average population of a city over time.</li>\n</ol>\n<br/><details style=\"border: 2px solid #B8C3EA; margin: 1em 0.2em;padding: 0.5em; cursor: pointer;\"><summary>👁 View solution</summary>\n<div class=\"box-title solution-title\" id=\"solution-2\"><button class=\"gtn-boxify-button solution\" type=\"button\" aria-controls=\"solution-2\" aria-expanded=\"true\"><i class=\"far fa-eye\" aria-hidden=\"true\" ></i> Solution<span class=\"fold-unfold fa fa-minus-square\"></span></button></div>\n<p>The answers to the questions are:</p>\n<ol>\n<li>Integer, since the number of days would lie between 1 and 365.</li>\n<li>Floating point, since fractional days are required</li>\n<li>Character string if serial number contains letters and numbers, otherwise integer if the serial number consists only of numerals</li>\n<li>This will vary! How do you define a specimen’s age? whole days since collection (integer)? date and time (string)?</li>\n<li>Choose floating point to represent population as large aggregates (eg millions), or integer to represent population in units of individuals.</li>\n<li>Floating point number, since an average is likely to have a fractional part.</li>\n</ol>\n</details>\n</blockquote>\n<blockquote class=\"question\" style=\"border: 2px solid #8A9AD0; margin: 1em 0.2em\">\n<div class=\"box-title question-title\" id=\"question-division-types\"><i class=\"far fa-question-circle\" aria-hidden=\"true\" ></i> Question: Division Types</div>\n<p>In Python 3, the <code style=\"color: inherit\">//</code> operator performs integer (whole-number) floor division, the <code style=\"color: inherit\">/</code> operator performs floating-point\ndivision, and the <code style=\"color: inherit\">%</code> (or <em>modulo</em>) operator calculates and returns the remainder from integer division:</p>\n<div class=\"language-plaintext highlighter-rouge\"><div><pre style=\"color: inherit; background: transparent\"><code style=\"color: inherit\">print(f'5 // 3: {5 // 3}')\nprint(f'5 / 3: {5 / 3}')\nprint(f'5 % 3: {5 % 3}')\n</code></pre></div>  </div>\n<div class=\"language-plaintext highlighter-rouge\"><div><pre style=\"color: inherit; background: transparent\"><code style=\"color: inherit\">5 // 3: 1\n5 / 3: 1.6666666666666667\n5 % 3: 2\n</code></pre></div>  </div>\n<p>If <code style=\"color: inherit\">num_subjects</code> is the number of subjects taking part in a study,\nand <code style=\"color: inherit\">num_per_survey</code> is the number that can take part in a single survey,\nwrite an expression that calculates the number of surveys needed\nto reach everyone once.</p>\n<br/><details style=\"border: 2px solid #B8C3EA; margin: 1em 0.2em;padding: 0.5em; cursor: pointer;\"><summary>👁 View solution</summary>\n<div class=\"box-title solution-title\" id=\"solution-3\"><button class=\"gtn-boxify-button solution\" type=\"button\" aria-controls=\"solution-3\" aria-expanded=\"true\"><i class=\"far fa-eye\" aria-hidden=\"true\" ></i> Solution<span class=\"fold-unfold fa fa-minus-square\"></span></button></div>\n<p>We want the minimum number of surveys that reaches everyone once, which is\nthe rounded up value of <code style=\"color: inherit\">num_subjects/ num_per_survey</code>. This is\nequivalent to performing a floor division with <code style=\"color: inherit\">//</code> and adding 1. Before\nthe division we need to subtract 1 from the number of subjects to deal with\nthe case where <code style=\"color: inherit\">num_subjects</code> is evenly divisible by <code style=\"color: inherit\">num_per_survey</code>.</p>\n<div class=\"language-plaintext highlighter-rouge\"><div><pre style=\"color: inherit; background: transparent\"><code style=\"color: inherit\">num_subjects = 600\nnum_per_survey = 42\nnum_surveys = (num_subjects - 1) // num_per_survey + 1\n\nprint(num_subjects, 'subjects,', num_per_survey, 'per survey:', num_surveys)\n</code></pre></div>    </div>\n<div class=\"language-plaintext highlighter-rouge\"><div><pre style=\"color: inherit; background: transparent\"><code style=\"color: inherit\">600 subjects, 42 per survey: 15\n</code></pre></div>    </div>\n</blockquote>\n</blockquote>\n",
      "cell_type": "markdown",
      "metadata": {
        "editable": false,
        "collapsed": false
      }
    },
    {
      "id": "cell-25",
      "source": [
        "# Test out solutions here!"
      ],
      "cell_type": "code",
      "execution_count": null,
      "outputs": [

      ],
      "metadata": {
        "attributes": {
          "classes": [
            "> <agenda-title></agenda-title>"
          ],
          "id": ""
        }
      }
    },
    {
      "id": "cell-26",
      "source": "<blockquote class=\"question\" style=\"border: 2px solid #8A9AD0; margin: 1em 0.2em\">\n<div class=\"box-title question-title\" id=\"question-strings-to-numbers\"><i class=\"far fa-question-circle\" aria-hidden=\"true\" ></i> Question: Strings to Numbers</div>\n<p>Where reasonable, <code style=\"color: inherit\">float()</code> will convert a string to a floating point number,\nand <code style=\"color: inherit\">int()</code> will convert a floating point number to an integer:</p>\n<div class=\"language-plaintext highlighter-rouge\"><div><pre style=\"color: inherit; background: transparent\"><code style=\"color: inherit\">print(\"string to float:\", float(\"3.4\"))\nprint(\"float to int:\", int(3.4))\n</code></pre></div>  </div>\n<div class=\"language-plaintext highlighter-rouge\"><div><pre style=\"color: inherit; background: transparent\"><code style=\"color: inherit\">string to float: 3.4\nfloat to int: 3\n</code></pre></div>  </div>\n<p>If the conversion doesn’t make sense, however, an error message will occur.</p>\n<blockquote class=\"code-in\" style=\"border: 2px solid #86D486; margin: 1em 0.2em\">\n<div class=\"box-title code-in-title\" id=\"code-in-python\"><i class=\"far fa-keyboard\" aria-hidden=\"true\" ></i> Input: Python</div>\n<div class=\"language-plaintext highlighter-rouge\"><div><pre style=\"color: inherit; background: transparent\"><code style=\"color: inherit\">print(\"string to float:\", float(\"Hello world!\"))\n</code></pre></div>    </div>\n</blockquote>\n<blockquote class=\"code-out\" style=\"border: 2px solid #fb99d0; margin: 1em 0.2em\">\n<div class=\"box-title code-out-title\" id=\"code-out\"><i class=\"fas fa-laptop-code\" aria-hidden=\"true\" ></i> Output</div>\n<div class=\"language-plaintext highlighter-rouge\"><div><pre style=\"color: inherit; background: transparent\"><code style=\"color: inherit\">Traceback (most recent call last):\n  File \"&lt;stdin&gt;\", line 1, in &lt;module&gt;\nValueError: could not convert string to float: 'Hello world!'\n</code></pre></div>    </div>\n</blockquote>\n<p>Given this information, what do you expect the following program to do?</p>\n<p>What does it actually do?</p>\n<p>Why do you think it does that?</p>\n<div class=\"language-plaintext highlighter-rouge\"><div><pre style=\"color: inherit; background: transparent\"><code style=\"color: inherit\">print(\"fractional string to int:\", int(\"3.4\"))\n</code></pre></div>  </div>\n<br/><details style=\"border: 2px solid #B8C3EA; margin: 1em 0.2em;padding: 0.5em; cursor: pointer;\"><summary>👁 View solution</summary>\n<div class=\"box-title solution-title\" id=\"solution-4\"><button class=\"gtn-boxify-button solution\" type=\"button\" aria-controls=\"solution-4\" aria-expanded=\"true\"><i class=\"far fa-eye\" aria-hidden=\"true\" ></i> Solution<span class=\"fold-unfold fa fa-minus-square\"></span></button></div>\n<p>What do you expect this program to do? It would not be so unreasonable to expect the Python 3 <code style=\"color: inherit\">int</code> command to\nconvert the string “3.4” to 3.4 and an additional type conversion to 3. After all, Python 3 performs a lot of other\nmagic - isn’t that part of its charm?</p>\n<div class=\"language-plaintext highlighter-rouge\"><div><pre style=\"color: inherit; background: transparent\"><code style=\"color: inherit\">int(\"3.4\")\n</code></pre></div>    </div>\n<p>However, Python 3 throws an error.</p>\n<div class=\"language-plaintext highlighter-rouge\"><div><pre style=\"color: inherit; background: transparent\"><code style=\"color: inherit\">Traceback (most recent call last):\n  File \"&lt;stdin&gt;\", line 1, in &lt;module&gt;\nValueError: invalid literal for int() with base 10: '3.4'\n</code></pre></div>    </div>\n<p>Why? To be consistent, possibly. If you ask Python to perform two consecutive\ntypecasts, you must convert it explicitly in code.</p>\n<div class=\"language-plaintext highlighter-rouge\"><div><pre style=\"color: inherit; background: transparent\"><code style=\"color: inherit\">int(float(\"3.4\"))\n</code></pre></div>    </div>\n<div class=\"language-plaintext highlighter-rouge\"><div><pre style=\"color: inherit; background: transparent\"><code style=\"color: inherit\">3\n</code></pre></div>    </div>\n</details>\n</blockquote>\n",
      "cell_type": "markdown",
      "metadata": {
        "editable": false,
        "collapsed": false
      }
    },
    {
      "id": "cell-27",
      "source": [
        "# Test out solutions here!"
      ],
      "cell_type": "code",
      "execution_count": null,
      "outputs": [

      ],
      "metadata": {
        "attributes": {
          "classes": [
            "> <agenda-title></agenda-title>"
          ],
          "id": ""
        }
      }
    },
    {
      "id": "cell-28",
      "source": "<blockquote class=\"question\" style=\"border: 2px solid #8A9AD0; margin: 1em 0.2em\">\n<div class=\"box-title question-title\" id=\"question-arithmetic-with-different-types\"><i class=\"far fa-question-circle\" aria-hidden=\"true\" ></i> Question: Arithmetic with Different Types</div>\n<p>Which of the following will return the floating point number <code style=\"color: inherit\">2.0</code>?\nNote: there may be more than one right answer.</p>\n<div class=\"language-plaintext highlighter-rouge\"><div><pre style=\"color: inherit; background: transparent\"><code style=\"color: inherit\">first = 1.0\nsecond = \"1\"\nthird = \"1.1\"\n</code></pre></div>  </div>\n<ol>\n<li><code style=\"color: inherit\">first + float(second)</code></li>\n<li><code style=\"color: inherit\">float(second) + float(third)</code></li>\n<li><code style=\"color: inherit\">first + int(third)</code></li>\n<li><code style=\"color: inherit\">first + int(float(third))</code></li>\n<li><code style=\"color: inherit\">int(first) + int(float(third))</code></li>\n<li><code style=\"color: inherit\">2.0 * second</code></li>\n</ol>\n<br/><details style=\"border: 2px solid #B8C3EA; margin: 1em 0.2em;padding: 0.5em; cursor: pointer;\"><summary>👁 View solution</summary>\n<div class=\"box-title solution-title\" id=\"solution-5\"><button class=\"gtn-boxify-button solution\" type=\"button\" aria-controls=\"solution-5\" aria-expanded=\"true\"><i class=\"far fa-eye\" aria-hidden=\"true\" ></i> Solution<span class=\"fold-unfold fa fa-minus-square\"></span></button></div>\n<p>Answer: 1 and 4 give exactly 2.0.\nAnswer 5 gives the value <code style=\"color: inherit\">2</code> which may be considered equivalent, but is not returning a float specifically.</p>\n</details>\n</blockquote>\n",
      "cell_type": "markdown",
      "metadata": {
        "editable": false,
        "collapsed": false
      }
    },
    {
      "id": "cell-29",
      "source": [
        "# Test out solutions here!"
      ],
      "cell_type": "code",
      "execution_count": null,
      "outputs": [

      ],
      "metadata": {
        "attributes": {
          "classes": [
            "> <agenda-title></agenda-title>"
          ],
          "id": ""
        }
      }
    },
    {
      "id": "cell-30",
      "source": "\n",
      "cell_type": "markdown",
      "metadata": {
        "editable": false,
        "collapsed": false
      }
    },
    {
      "cell_type": "markdown",
      "id": "final-ending-cell",
      "metadata": {
        "editable": false,
        "collapsed": false
      },
      "source": [
        "# Key Points\n\n",
        "- Every value has a type.\n",
        "- Use the built-in function `type` to find the type of a value.\n",
        "- Types control what operations can be done on values.\n",
        "- Strings can be added and multiplied.\n",
        "- Strings have a length (but numbers don't).\n",
        "- Must convert numbers to strings or vice versa when operating on them.\n",
        "- Can mix integers and floats freely in operations.\n",
        "- Variables only change value when something is assigned to them.\n",
        "\n# Congratulations on successfully completing this tutorial!\n\n",
        "Please [fill out the feedback on the GTN website](https://training.galaxyproject.org/training-material/topics/data-science/tutorials/python-types/tutorial.html#feedback) and check there for further resources!\n"
      ]
    }
  ]
}