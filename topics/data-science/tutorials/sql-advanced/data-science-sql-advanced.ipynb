{
  "metadata": {
  },
  "nbformat": 4,
  "nbformat_minor": 5,
  "cells": [
    {
      "id": "metadata",
      "cell_type": "markdown",
      "source": "<div style=\"border: 2px solid #8A9AD0; margin: 1em 0.2em; padding: 0.5em;\">\n\n# Advanced SQL\n\nby [The Carpentries](https://training.galaxyproject.org/hall-of-fame/carpentries/), [Helena Rasche](https://training.galaxyproject.org/hall-of-fame/hexylena/), [Avans Hogeschool](https://training.galaxyproject.org/hall-of-fame/avans-atgm/)\n\nCC-BY licensed content from the [Galaxy Training Network](https://training.galaxyproject.org/)\n\n**Objectives**\n\n- How can I calculate sums, averages, and other summary values?\n- How can I combine data from multiple tables?\n- How should I format data in a database, and why?\n- How can I create, modify, and delete tables and data?\n- How can I access databases from programs written in Python?\n\n**Objectives**\n\n- Define aggregation and give examples of its use.\n- Write queries that compute aggregated values.\n- Trace the execution of a query that performs aggregation.\n- Explain how missing data is handled during aggregation.\n- Explain the operation of a query that joins two tables.\n- Explain how to restrict the output of a query containing a join to only include meaningful combinations of values.\n- Write queries that join tables on equal keys.\n- Explain what primary and foreign keys are, and why they are useful.\n- Explain what an atomic value is.\n- Distinguish between atomic and non-atomic values.\n- Explain why every value in a database should be atomic.\n- Explain what a primary key is and why every record should have one.\n- Identify primary keys in database tables.\n- Explain why database entries should not contain redundant information.\n- Identify redundant information in databases.\n- Write statements that create tables.\n- Write statements to insert, modify, and delete records.\n- Write short programs that execute SQL queries.\n- Trace the execution of a program that contains an SQL query.\n- Explain why most database applications are written in a general-purpose language rather than in SQL.\n\n**Time Estimation: 3H**\n</div>\n",
      "metadata": {
        "editable": false,
        "collapsed": false
      }
    },
    {
      "id": "cell-0",
      "source": "<blockquote class=\"comment\" style=\"border: 2px solid #ffecc1; margin: 1em 0.2em\">\n<h3 id=\"-icon-comment--comment\">💬 Comment</h3>\n<p>This tutorial is <strong>significantly</strong> based on <a href=\"https://carpentries.org\">the Carpentries</a> <a href=\"https://github.com/swcarpentry/sql-novice-survey/\">Databases and SQL</a> lesson, which is licensed CC-BY 4.0.</p>\n<p>Abigail Cabunoc and Sheldon McKay (eds): “Software Carpentry: Using Databases and SQL.”  Version 2017.08, August 2017,\n<a href=\"https://github.com/swcarpentry/sql-novice-survey\">github.com/swcarpentry/sql-novice-survey</a>, <a href=\"https://doi.org/10.5281/zenodo.838776\">https://doi.org/10.5281/zenodo.838776</a></p>\n<p>Adaptations have been made to make this work better in a GTN/Galaxy environment.</p>\n</blockquote>\n<blockquote class=\"agenda\" style=\"border: 2px solid #86D486;display: none; margin: 1em 0.2em\">\n<h3 id=\"agenda\">Agenda</h3>\n<p>In this tutorial, we will cover:</p>\n</blockquote>\n",
      "cell_type": "markdown",
      "metadata": {
        "editable": false,
        "collapsed": false
      }
    },
    {
      "id": "cell-1",
      "source": [
        "# This preamble sets up the sql \"magic\" for jupyter. Use %%sql in your cells to write sql!\n",
        "!python3 -m pip install ipython-sql sqlalchemy\n",
        "!wget -c http://swcarpentry.github.io/sql-novice-survey/files/survey.db\n",
        "import sqlalchemy\n",
        "engine = sqlalchemy.create_engine(\"sqlite:///survey.db\")\n",
        "%load_ext sql\n",
        "%sql sqlite:///survey.db\n",
        "%config SqlMagic.displaycon=False"
      ],
      "cell_type": "code",
      "execution_count": null,
      "outputs": [

      ],
      "metadata": {
        "attributes": {
          "classes": [
            "sql"
          ],
          "id": ""
        }
      }
    },
    {
      "id": "cell-2",
      "source": "<h1 id=\"aggregation\">Aggregation</h1>\n<p>We now want to calculate ranges and averages for our data.\nWe know how to select all of the dates from the <code>Visited</code> table:</p>\n",
      "cell_type": "markdown",
      "metadata": {
        "editable": false,
        "collapsed": false
      }
    },
    {
      "id": "cell-3",
      "source": [
        "%%sql\n",
        "SELECT dated FROM Visited;"
      ],
      "cell_type": "code",
      "execution_count": null,
      "outputs": [

      ],
      "metadata": {
        "attributes": {
          "classes": [
            "sql"
          ],
          "id": ""
        }
      }
    },
    {
      "id": "cell-4",
      "source": "<p>but to combine them,\nwe must use an aggregation function\nsuch as <code>min</code> or <code>max</code>.\nEach of these functions takes a set of records as input,\nand produces a single record as output:</p>\n",
      "cell_type": "markdown",
      "metadata": {
        "editable": false,
        "collapsed": false
      }
    },
    {
      "id": "cell-5",
      "source": [
        "%%sql\n",
        "SELECT min(dated) FROM Visited;"
      ],
      "cell_type": "code",
      "execution_count": null,
      "outputs": [

      ],
      "metadata": {
        "attributes": {
          "classes": [
            "sql"
          ],
          "id": ""
        }
      }
    },
    {
      "id": "cell-6",
      "source": "<p><img src=\"https://training.galaxyproject.org/training-material/topics/data-science/tutorials/sql-advanced/../../images/carpentries-sql/sql-aggregation.svg\" alt=\"SQL Aggregation\" /></p>\n",
      "cell_type": "markdown",
      "metadata": {
        "editable": false,
        "collapsed": false
      }
    },
    {
      "id": "cell-7",
      "source": [
        "%%sql\n",
        "SELECT max(dated) FROM Visited;"
      ],
      "cell_type": "code",
      "execution_count": null,
      "outputs": [

      ],
      "metadata": {
        "attributes": {
          "classes": [
            "sql"
          ],
          "id": ""
        }
      }
    },
    {
      "id": "cell-8",
      "source": "<p><code class=\"language-plaintext highlighter-rouge\">min</code> and <code>max</code> are just two of\nthe aggregation functions built into SQL.\nThree others are <code>avg</code>,\n<code class=\"language-plaintext highlighter-rouge\">count</code>,\nand <code>sum</code>:</p>\n",
      "cell_type": "markdown",
      "metadata": {
        "editable": false,
        "collapsed": false
      }
    },
    {
      "id": "cell-9",
      "source": [
        "%%sql\n",
        "SELECT avg(reading) FROM Survey WHERE quant = 'sal';"
      ],
      "cell_type": "code",
      "execution_count": null,
      "outputs": [

      ],
      "metadata": {
        "attributes": {
          "classes": [
            "sql"
          ],
          "id": ""
        }
      }
    },
    {
      "id": "cell-10",
      "source": "\n",
      "cell_type": "markdown",
      "metadata": {
        "editable": false,
        "collapsed": false
      }
    },
    {
      "id": "cell-11",
      "source": [
        "%%sql\n",
        "SELECT count(reading) FROM Survey WHERE quant = 'sal';"
      ],
      "cell_type": "code",
      "execution_count": null,
      "outputs": [

      ],
      "metadata": {
        "attributes": {
          "classes": [
            "sql"
          ],
          "id": ""
        }
      }
    },
    {
      "id": "cell-12",
      "source": "\n",
      "cell_type": "markdown",
      "metadata": {
        "editable": false,
        "collapsed": false
      }
    },
    {
      "id": "cell-13",
      "source": [
        "%%sql\n",
        "SELECT sum(reading) FROM Survey WHERE quant = 'sal';"
      ],
      "cell_type": "code",
      "execution_count": null,
      "outputs": [

      ],
      "metadata": {
        "attributes": {
          "classes": [
            "sql"
          ],
          "id": ""
        }
      }
    },
    {
      "id": "cell-14",
      "source": "<p>We used <code>count(reading)</code> here,\nbut we could just as easily have counted <code>quant</code>\nor any other field in the table,\nor even used <code>count(*)</code>,\nsince the function doesn’t care about the values themselves,\njust how many values there are.</p>\n<p>SQL lets us do several aggregations at once.\nWe can,\nfor example,\nfind the range of sensible salinity measurements:</p>\n",
      "cell_type": "markdown",
      "metadata": {
        "editable": false,
        "collapsed": false
      }
    },
    {
      "id": "cell-15",
      "source": [
        "%%sql\n",
        "SELECT min(reading), max(reading) FROM Survey WHERE quant = 'sal' AND reading <= 1.0;"
      ],
      "cell_type": "code",
      "execution_count": null,
      "outputs": [

      ],
      "metadata": {
        "attributes": {
          "classes": [
            "sql"
          ],
          "id": ""
        }
      }
    },
    {
      "id": "cell-16",
      "source": "<p>We can also combine aggregated results with raw results,\nalthough the output might surprise you:</p>\n",
      "cell_type": "markdown",
      "metadata": {
        "editable": false,
        "collapsed": false
      }
    },
    {
      "id": "cell-17",
      "source": [
        "%%sql\n",
        "SELECT person, count(*) FROM Survey WHERE quant = 'sal' AND reading <= 1.0;"
      ],
      "cell_type": "code",
      "execution_count": null,
      "outputs": [

      ],
      "metadata": {
        "attributes": {
          "classes": [
            "sql"
          ],
          "id": ""
        }
      }
    },
    {
      "id": "cell-18",
      "source": "<p>Why does Lake’s name appear rather than Roerich’s or Dyer’s?\nThe answer is that when it has to aggregate a field,\nbut isn’t told how to,\nthe database manager chooses an actual value from the input set.\nIt might use the first one processed,\nthe last one,\nor something else entirely.</p>\n<p>Another important fact is that when there are no values to aggregate —\nfor example, where there are no rows satisfying the <code>WHERE</code> clause —\naggregation’s result is “don’t know”\nrather than zero or some other arbitrary value:</p>\n",
      "cell_type": "markdown",
      "metadata": {
        "editable": false,
        "collapsed": false
      }
    },
    {
      "id": "cell-19",
      "source": [
        "%%sql\n",
        "SELECT person, max(reading), sum(reading) FROM Survey WHERE quant = 'missing';"
      ],
      "cell_type": "code",
      "execution_count": null,
      "outputs": [

      ],
      "metadata": {
        "attributes": {
          "classes": [
            "sql"
          ],
          "id": ""
        }
      }
    },
    {
      "id": "cell-20",
      "source": "<p>One final important feature of aggregation functions is that\nthey are inconsistent with the rest of SQL in a very useful way.\nIf we add two values,\nand one of them is null,\nthe result is null.\nBy extension,\nif we use <code>sum</code> to add all the values in a set,\nand any of those values are null,\nthe result should also be null.\nIt’s much more useful,\nthough,\nfor aggregation functions to ignore null values\nand only combine those that are non-null.\nThis behavior lets us write our queries as:</p>\n",
      "cell_type": "markdown",
      "metadata": {
        "editable": false,
        "collapsed": false
      }
    },
    {
      "id": "cell-21",
      "source": [
        "%%sql\n",
        "SELECT min(dated) FROM Visited;"
      ],
      "cell_type": "code",
      "execution_count": null,
      "outputs": [

      ],
      "metadata": {
        "attributes": {
          "classes": [
            "sql"
          ],
          "id": ""
        }
      }
    },
    {
      "id": "cell-22",
      "source": "<p>instead of always having to filter explicitly:</p>\n",
      "cell_type": "markdown",
      "metadata": {
        "editable": false,
        "collapsed": false
      }
    },
    {
      "id": "cell-23",
      "source": [
        "%%sql\n",
        "SELECT min(dated) FROM Visited WHERE dated IS NOT NULL;"
      ],
      "cell_type": "code",
      "execution_count": null,
      "outputs": [

      ],
      "metadata": {
        "attributes": {
          "classes": [
            "sql"
          ],
          "id": ""
        }
      }
    },
    {
      "id": "cell-24",
      "source": "<p>Aggregating all records at once doesn’t always make sense.\nFor example,\nsuppose we suspect that there is a systematic bias in our data,\nand that some scientists’ radiation readings are higher than others.\nWe know that this doesn’t work:</p>\n",
      "cell_type": "markdown",
      "metadata": {
        "editable": false,
        "collapsed": false
      }
    },
    {
      "id": "cell-25",
      "source": [
        "%%sql\n",
        "SELECT person, count(reading), round(avg(reading), 2)\n",
        "FROM  Survey\n",
        "WHERE quant = 'rad';"
      ],
      "cell_type": "code",
      "execution_count": null,
      "outputs": [

      ],
      "metadata": {
        "attributes": {
          "classes": [
            "sql"
          ],
          "id": ""
        }
      }
    },
    {
      "id": "cell-26",
      "source": "<p>because the database manager selects a single arbitrary scientist’s name\nrather than aggregating separately for each scientist.\nSince there are only five scientists,\nwe could write five queries of the form:</p>\n",
      "cell_type": "markdown",
      "metadata": {
        "editable": false,
        "collapsed": false
      }
    },
    {
      "id": "cell-27",
      "source": [
        "%%sql\n",
        "SELECT person, count(reading), round(avg(reading), 2)\n",
        "FROM  Survey\n",
        "WHERE quant = 'rad'\n",
        "AND   person = 'dyer';"
      ],
      "cell_type": "code",
      "execution_count": null,
      "outputs": [

      ],
      "metadata": {
        "attributes": {
          "classes": [
            "sql"
          ],
          "id": ""
        }
      }
    },
    {
      "id": "cell-28",
      "source": "<p>but this would be tedious,\nand if we ever had a data set with fifty or five hundred scientists,\nthe chances of us getting all of those queries right is small.</p>\n<p>What we need to do is\ntell the database manager to aggregate the hours for each scientist separately\nusing a <code>GROUP BY</code> clause:</p>\n",
      "cell_type": "markdown",
      "metadata": {
        "editable": false,
        "collapsed": false
      }
    },
    {
      "id": "cell-29",
      "source": [
        "%%sql\n",
        "SELECT   person, count(reading), round(avg(reading), 2)\n",
        "FROM     Survey\n",
        "WHERE    quant = 'rad'\n",
        "GROUP BY person;"
      ],
      "cell_type": "code",
      "execution_count": null,
      "outputs": [

      ],
      "metadata": {
        "attributes": {
          "classes": [
            "sql"
          ],
          "id": ""
        }
      }
    },
    {
      "id": "cell-30",
      "source": "<p><code class=\"language-plaintext highlighter-rouge\">GROUP BY</code> does exactly what its name implies:\ngroups all the records with the same value for the specified field together\nso that aggregation can process each batch separately.\nSince all the records in each batch have the same value for <code>person</code>,\nit no longer matters that the database manager\nis picking an arbitrary one to display\nalongside the aggregated <code>reading</code> values.</p>\n<blockquote class=\"tip\" style=\"border: 2px solid #FFE19E; margin: 1em 0.2em\">\n<h3 id=\"-icon-tip--know-excel-its-just-a-pivot-table\">💡 Know Excel? It’s just a pivot table.</h3>\n<p><code>GROUP BY</code> is basically just a pivot table for Excel users, it lets you build\nnice summary tables which aggregate your results.</p>\n<p>And if you didn’t already know the Excel equivalent, now you know what to\nlook for when you need it!</p>\n</blockquote>\n<p>Just as we can sort by multiple criteria at once,\nwe can also group by multiple criteria.\nTo get the average reading by scientist and quantity measured,\nfor example,\nwe just add another field to the <code>GROUP BY</code> clause:</p>\n",
      "cell_type": "markdown",
      "metadata": {
        "editable": false,
        "collapsed": false
      }
    },
    {
      "id": "cell-31",
      "source": [
        "%%sql\n",
        "SELECT   person, quant, count(reading), round(avg(reading), 2)\n",
        "FROM     Survey\n",
        "GROUP BY person, quant;"
      ],
      "cell_type": "code",
      "execution_count": null,
      "outputs": [

      ],
      "metadata": {
        "attributes": {
          "classes": [
            "sql"
          ],
          "id": ""
        }
      }
    },
    {
      "id": "cell-32",
      "source": "<p>Note that we have added <code>quant</code> to the list of fields displayed,\nsince the results wouldn’t make much sense otherwise.</p>\n<p>Let’s go one step further and remove all the entries\nwhere we don’t know who took the measurement:</p>\n",
      "cell_type": "markdown",
      "metadata": {
        "editable": false,
        "collapsed": false
      }
    },
    {
      "id": "cell-33",
      "source": [
        "%%sql\n",
        "SELECT   person, quant, count(reading), round(avg(reading), 2)\n",
        "FROM     Survey\n",
        "WHERE    person IS NOT NULL\n",
        "GROUP BY person, quant\n",
        "ORDER BY person, quant;"
      ],
      "cell_type": "code",
      "execution_count": null,
      "outputs": [

      ],
      "metadata": {
        "attributes": {
          "classes": [
            "sql"
          ],
          "id": ""
        }
      }
    },
    {
      "id": "cell-34",
      "source": "<p>Looking more closely,\nthis query:</p>\n<ol>\n<li>selected records from the <code>Survey</code> table where the <code>person</code> field was not null;</li>\n<li>grouped those records into subsets so that the <code>person</code> and <code>quant</code> values in each subset were the same;</li>\n<li>ordered those subsets first by <code>person</code>, and then within each sub-group by <code>quant</code>; and</li>\n<li>counted the number of records in each subset, calculated the average <code>reading</code> in each, and chose a <code>person</code> and <code>quant</code> value from each (it doesn’t matter which ones, since they’re all equal).</li>\n</ol>\n<blockquote class=\"question\" style=\"border: 2px solid #8A9AD0; margin: 1em 0.2em\">\n<h3 id=\"-icon-question--question-counting-temperature-readings\">❓ Question: Counting Temperature Readings</h3>\n<p>How many temperature readings did Frank Pabodie record,\nand what was their average value?</p>\n<blockquote class=\"solution\" style=\"border: 2px solid #B8C3EA;color: white; margin: 1em 0.2em\">\n<div style=\"color: #555; font-size: 95%;\">Hint: Select the text with your mouse to see the answer</div><h3 id=\"-icon-solution--solution\">👁 Solution</h3>\n<div class=\"language-plaintext highlighter-rouge\"><div><pre style=\"color: inherit; background: white\"><code>SELECT count(reading), avg(reading) FROM Survey WHERE quant = 'temp' AND person = 'pb';\n</code></pre></div>    </div>\n<table>\n<thead>\n<tr>\n<th>count(reading)</th>\n<th>avg(reading)</th>\n</tr>\n</thead>\n<tbody>\n<tr>\n<td>2</td>\n<td>-20.0</td>\n</tr>\n</tbody>\n</table>\n</blockquote>\n</blockquote>\n",
      "cell_type": "markdown",
      "metadata": {
        "editable": false,
        "collapsed": false
      }
    },
    {
      "id": "cell-35",
      "source": [
        "%%sql\n",
        "-- Try solutions here!"
      ],
      "cell_type": "code",
      "execution_count": null,
      "outputs": [

      ],
      "metadata": {
        "attributes": {
          "classes": [
            "sql"
          ],
          "id": ""
        }
      }
    },
    {
      "id": "cell-36",
      "source": "<blockquote class=\"question\" style=\"border: 2px solid #8A9AD0; margin: 1em 0.2em\">\n<h2 id=\"averaging-with-null\">Averaging with NULL</h2>\n<p>The average of a set of values is the sum of the values\ndivided by the number of values.\nDoes this mean that the <code>avg</code> function returns 2.0 or 3.0\nwhen given the values 1.0, <code>null</code>, and 5.0?</p>\n<blockquote class=\"solution\" style=\"border: 2px solid #B8C3EA;color: white; margin: 1em 0.2em\">\n<div style=\"color: #555; font-size: 95%;\">Hint: Select the text with your mouse to see the answer</div><h3 id=\"-icon-solution--solution\">👁 Solution</h3>\n<p>The answer is 3.0.\n<code>NULL</code> is not a value; it is the absence of a value.\nAs such it is not included in the calculation.</p>\n<p>You can confirm this, by executing this code:</p>\n<div class=\"language-plaintext highlighter-rouge\"><div><pre style=\"color: inherit; background: white\"><code>SELECT AVG(a) FROM (\n    SELECT 1 AS a\n    UNION ALL SELECT NULL\n    UNION ALL SELECT 5);\n</code></pre></div>    </div>\n</blockquote>\n</blockquote>\n",
      "cell_type": "markdown",
      "metadata": {
        "editable": false,
        "collapsed": false
      }
    },
    {
      "id": "cell-37",
      "source": [
        "%%sql\n",
        "-- Try solutions here!"
      ],
      "cell_type": "code",
      "execution_count": null,
      "outputs": [

      ],
      "metadata": {
        "attributes": {
          "classes": [
            "sql"
          ],
          "id": ""
        }
      }
    },
    {
      "id": "cell-38",
      "source": "<blockquote class=\"question\" style=\"border: 2px solid #8A9AD0; margin: 1em 0.2em\">\n<h3 id=\"-icon-question--question-what-does-this-query-do\">❓ Question: What Does This Query Do?</h3>\n<p>We want to calculate the difference between\neach individual radiation reading\nand the average of all the radiation readings.\nWe write the query:</p>\n<div class=\"language-plaintext highlighter-rouge\"><div><pre style=\"color: inherit; background: white\"><code>SELECT reading - avg(reading) FROM Survey WHERE quant = 'rad';\n</code></pre></div>  </div>\n<p>What does this actually produce, and can you think of why?</p>\n<blockquote class=\"solution\" style=\"border: 2px solid #B8C3EA;color: white; margin: 1em 0.2em\">\n<div style=\"color: #555; font-size: 95%;\">Hint: Select the text with your mouse to see the answer</div><h3 id=\"-icon-solution--solution\">👁 Solution</h3>\n<p>The query produces only one row of results when we what we really want is a result for each of the readings.\nThe <code>avg()</code> function produces only a single value, and because it is run first, the table is reduced to a single row.\nThe <code>reading</code> value is simply an arbitrary one.</p>\n<p>To achieve what we wanted, we would have to run two queries:</p>\n<div class=\"language-plaintext highlighter-rouge\"><div><pre style=\"color: inherit; background: white\"><code>SELECT avg(reading) FROM Survey WHERE quant='rad';\n</code></pre></div>    </div>\n<p>This produces the average value (6.5625), which we can then insert into a second query:</p>\n<div class=\"language-plaintext highlighter-rouge\"><div><pre style=\"color: inherit; background: white\"><code>SELECT reading - 6.5625 FROM Survey WHERE quant = 'rad';\n</code></pre></div>    </div>\n<p>This produces what we want, but we can combine this into a single query using subqueries.</p>\n<div class=\"language-plaintext highlighter-rouge\"><div><pre style=\"color: inherit; background: white\"><code>SELECT reading - (SELECT avg(reading) FROM Survey WHERE quant='rad') FROM Survey WHERE quant = 'rad';\n</code></pre></div>    </div>\n<p>This way we don’t have execute two queries.</p>\n<p>In summary what we have done is to replace <code>avg(reading)</code> with <code>(SELECT avg(reading) FROM Survey WHERE quant='rad')</code> in the original query.</p>\n</blockquote>\n</blockquote>\n",
      "cell_type": "markdown",
      "metadata": {
        "editable": false,
        "collapsed": false
      }
    },
    {
      "id": "cell-39",
      "source": [
        "%%sql\n",
        "-- Try solutions here!"
      ],
      "cell_type": "code",
      "execution_count": null,
      "outputs": [

      ],
      "metadata": {
        "attributes": {
          "classes": [
            "sql"
          ],
          "id": ""
        }
      }
    },
    {
      "id": "cell-40",
      "source": "<blockquote class=\"question\" style=\"border: 2px solid #8A9AD0; margin: 1em 0.2em\">\n<h3 id=\"-icon-question--question-ordering-when-concatenating\">❓ Question: Ordering When Concatenating</h3>\n<p>The function <code>group_concat(field, separator)</code>\nconcatenates all the values in a field\nusing the specified separator character\n(or ‘,’ if the separator isn’t specified).\nUse this to produce a one-line list of scientists’ names,\nsuch as:</p>\n<div class=\"language-plaintext highlighter-rouge\"><div><pre style=\"color: inherit; background: white\"><code>William Dyer, Frank Pabodie, Anderson Lake, Valentina Roerich, Frank Danforth\n</code></pre></div>  </div>\n<p>Can you find a way to order the list by surname?</p>\n</blockquote>\n",
      "cell_type": "markdown",
      "metadata": {
        "editable": false,
        "collapsed": false
      }
    },
    {
      "id": "cell-41",
      "source": [
        "%%sql\n",
        "-- Try solutions here!"
      ],
      "cell_type": "code",
      "execution_count": null,
      "outputs": [

      ],
      "metadata": {
        "attributes": {
          "classes": [
            "sql"
          ],
          "id": ""
        }
      }
    },
    {
      "id": "cell-42",
      "source": "<h1 id=\"combining-data\">Combining Data</h1>\n<p>In order to submit our data to a web site\nthat aggregates historical meteorological data,\nwe might need to format it as\nlatitude, longitude, date, quantity, and reading.\nHowever,\nour latitudes and longitudes are in the <code>Site</code> table,\nwhile the dates of measurements are in the <code>Visited</code> table\nand the readings themselves are in the <code>Survey</code> table.\nWe need to combine these tables somehow.</p>\n<p>This figure shows the relations between the tables:</p>\n<p><img src=\"https://training.galaxyproject.org/training-material/topics/data-science/tutorials/sql-advanced/../../images/carpentries-sql/sql-join-structure.svg\" alt=\"Survey Database Structure\" /></p>\n<p>The SQL command to do this is <code>JOIN</code>.\nTo see how it works,\nlet’s start by joining the <code>Site</code> and <code>Visited</code> tables:</p>\n",
      "cell_type": "markdown",
      "metadata": {
        "editable": false,
        "collapsed": false
      }
    },
    {
      "id": "cell-43",
      "source": [
        "%%sql\n",
        "SELECT * FROM Site JOIN Visited;"
      ],
      "cell_type": "code",
      "execution_count": null,
      "outputs": [

      ],
      "metadata": {
        "attributes": {
          "classes": [
            "sql"
          ],
          "id": ""
        }
      }
    },
    {
      "id": "cell-44",
      "source": "<p><code class=\"language-plaintext highlighter-rouge\">JOIN</code> creates\nthe cross product\nof two tables,\ni.e.,\nit joins each record of one table with each record of the other table\nto give all possible combinations.\nSince there are three records in <code>Site</code>\nand eight in <code>Visited</code>,\nthe join’s output has 24 records (3 * 8 = 24) .\nAnd since each table has three fields,\nthe output has six fields (3 + 3 = 6).</p>\n<p>What the join <em>hasn’t</em> done is\nfigure out if the records being joined have anything to do with each other.\nIt has no way of knowing whether they do or not until we tell it how.\nTo do that,\nwe add a clause specifying that\nwe’re only interested in combinations that have the same site name,\nthus we need to use a filter:</p>\n",
      "cell_type": "markdown",
      "metadata": {
        "editable": false,
        "collapsed": false
      }
    },
    {
      "id": "cell-45",
      "source": [
        "%%sql\n",
        "SELECT * FROM Site JOIN Visited ON Site.name = Visited.site;"
      ],
      "cell_type": "code",
      "execution_count": null,
      "outputs": [

      ],
      "metadata": {
        "attributes": {
          "classes": [
            "sql"
          ],
          "id": ""
        }
      }
    },
    {
      "id": "cell-46",
      "source": "<p><code class=\"language-plaintext highlighter-rouge\">ON</code> is very similar to <code>WHERE</code>,\nand for all the queries in this lesson you can use them interchangeably.\nThere are differences in how they affect [outer joins][outer],\nbut that’s beyond the scope of this lesson.\nOnce we add this to our query,\nthe database manager throws away records\nthat combined information about two different sites,\nleaving us with just the ones we want.</p>\n<p>Notice that we used <code>Table.field</code> to specify field names\nin the output of the join.\nWe do this because tables can have fields with the same name,\nand we need to be specific which ones we’re talking about.\nFor example,\nif we joined the <code>Person</code> and <code>Visited</code> tables,\nthe result would inherit a field called <code>id</code>\nfrom each of the original tables.</p>\n<p>We can now use the same dotted notation\nto select the three columns we actually want\nout of our join:</p>\n",
      "cell_type": "markdown",
      "metadata": {
        "editable": false,
        "collapsed": false
      }
    },
    {
      "id": "cell-47",
      "source": [
        "%%sql\n",
        "SELECT Site.lat, Site.long, Visited.dated\n",
        "FROM   Site JOIN Visited\n",
        "ON     Site.name = Visited.site;"
      ],
      "cell_type": "code",
      "execution_count": null,
      "outputs": [

      ],
      "metadata": {
        "attributes": {
          "classes": [
            "sql"
          ],
          "id": ""
        }
      }
    },
    {
      "id": "cell-48",
      "source": "<p>If joining two tables is good,\njoining many tables must be better.\nIn fact,\nwe can join any number of tables\nsimply by adding more <code>JOIN</code> clauses to our query,\nand more <code>ON</code> tests to filter out combinations of records\nthat don’t make sense:</p>\n",
      "cell_type": "markdown",
      "metadata": {
        "editable": false,
        "collapsed": false
      }
    },
    {
      "id": "cell-49",
      "source": [
        "%%sql\n",
        "SELECT Site.lat, Site.long, Visited.dated, Survey.quant, Survey.reading\n",
        "FROM   Site JOIN Visited JOIN Survey\n",
        "ON     Site.name = Visited.site\n",
        "AND    Visited.id = Survey.taken\n",
        "AND    Visited.dated IS NOT NULL;"
      ],
      "cell_type": "code",
      "execution_count": null,
      "outputs": [

      ],
      "metadata": {
        "attributes": {
          "classes": [
            "sql"
          ],
          "id": ""
        }
      }
    },
    {
      "id": "cell-50",
      "source": "<p>We can tell which records from <code>Site</code>, <code>Visited</code>, and <code>Survey</code>\ncorrespond with each other\nbecause those tables contain\nprimary keys\nand foreign keys.\nA primary key is a value,\nor combination of values,\nthat uniquely identifies each record in a table.\nA foreign key is a value (or combination of values) from one table\nthat identifies a unique record in another table.\nAnother way of saying this is that\na foreign key is the primary key of one table\nthat appears in some other table.\nIn our database,\n<code>Person.id</code> is the primary key in the <code>Person</code> table,\nwhile <code>Survey.person</code> is a foreign key\nrelating the <code>Survey</code> table’s entries\nto entries in <code>Person</code>.</p>\n<p>Most database designers believe that\nevery table should have a well-defined primary key.\nThey also believe that this key should be separate from the data itself,\nso that if we ever need to change the data,\nwe only need to make one change in one place.\nOne easy way to do this is\nto create an arbitrary, unique ID for each record\nas we add it to the database.\nThis is actually very common:\nthose IDs have names like “student numbers” and “patient numbers”,\nand they almost always turn out to have originally been\na unique record identifier in some database system or other.\nAs the query below demonstrates,\nSQLite [automatically numbers records][rowid] as they’re added to tables,\nand we can use those record numbers in queries:</p>\n",
      "cell_type": "markdown",
      "metadata": {
        "editable": false,
        "collapsed": false
      }
    },
    {
      "id": "cell-51",
      "source": [
        "%%sql\n",
        "SELECT rowid, * FROM Person;"
      ],
      "cell_type": "code",
      "execution_count": null,
      "outputs": [

      ],
      "metadata": {
        "attributes": {
          "classes": [
            "sql"
          ],
          "id": ""
        }
      }
    },
    {
      "id": "cell-52",
      "source": "<blockquote class=\"question\" style=\"border: 2px solid #8A9AD0; margin: 1em 0.2em\">\n<h3 id=\"-icon-question--question-listing-radiation-readings\">❓ Question: Listing Radiation Readings</h3>\n<p>Write a query that lists all radiation readings from the DR-1 site.</p>\n<blockquote class=\"solution\" style=\"border: 2px solid #B8C3EA;color: white; margin: 1em 0.2em\">\n<div style=\"color: #555; font-size: 95%;\">Hint: Select the text with your mouse to see the answer</div><h3 id=\"-icon-solution--solution\">👁 Solution</h3>\n<div class=\"language-plaintext highlighter-rouge\"><div><pre style=\"color: inherit; background: white\"><code>SELECT Survey.reading\nFROM Site JOIN Visited JOIN Survey\nON Site.name = Visited.site\nAND Visited.id = Survey.taken\nWHERE Site.name = 'DR-1'\nAND Survey.quant = 'rad';\n</code></pre></div>    </div>\n<table>\n<thead>\n<tr>\n<th>reading</th>\n</tr>\n</thead>\n<tbody>\n<tr>\n<td>9.82</td>\n</tr>\n<tr>\n<td>7.8</td>\n</tr>\n<tr>\n<td>11.25</td>\n</tr>\n</tbody>\n</table>\n</blockquote>\n</blockquote>\n",
      "cell_type": "markdown",
      "metadata": {
        "editable": false,
        "collapsed": false
      }
    },
    {
      "id": "cell-53",
      "source": [
        "%%sql\n",
        "-- Try solutions here!"
      ],
      "cell_type": "code",
      "execution_count": null,
      "outputs": [

      ],
      "metadata": {
        "attributes": {
          "classes": [
            "sql"
          ],
          "id": ""
        }
      }
    },
    {
      "id": "cell-54",
      "source": "<blockquote class=\"question\" style=\"border: 2px solid #8A9AD0; margin: 1em 0.2em\">\n<h3 id=\"-icon-question--question-wheres-frank\">❓ Question: Where’s Frank?</h3>\n<p>Write a query that lists all sites visited by people named “Frank”.</p>\n<blockquote class=\"solution\" style=\"border: 2px solid #B8C3EA;color: white; margin: 1em 0.2em\">\n<div style=\"color: #555; font-size: 95%;\">Hint: Select the text with your mouse to see the answer</div><h3 id=\"-icon-solution--solution\">👁 Solution</h3>\n<div class=\"language-plaintext highlighter-rouge\"><div><pre style=\"color: inherit; background: white\"><code>SELECT DISTINCT Site.name\nFROM Site JOIN Visited JOIN Survey JOIN Person\nON Site.name = Visited.site\nAND Visited.id = Survey.taken\nAND Survey.person = Person.id\nWHERE Person.personal = 'Frank';\n</code></pre></div>    </div>\n<table>\n<thead>\n<tr>\n<th>name</th>\n</tr>\n</thead>\n<tbody>\n<tr>\n<td>DR-3</td>\n</tr>\n</tbody>\n</table>\n</blockquote>\n</blockquote>\n",
      "cell_type": "markdown",
      "metadata": {
        "editable": false,
        "collapsed": false
      }
    },
    {
      "id": "cell-55",
      "source": [
        "%%sql\n",
        "-- Try solutions here!"
      ],
      "cell_type": "code",
      "execution_count": null,
      "outputs": [

      ],
      "metadata": {
        "attributes": {
          "classes": [
            "sql"
          ],
          "id": ""
        }
      }
    },
    {
      "id": "cell-56",
      "source": "<blockquote class=\"question\" style=\"border: 2px solid #8A9AD0; margin: 1em 0.2em\">\n<h3 id=\"-icon-question--question-reading-queries\">❓ Question: Reading Queries</h3>\n<p>Describe in your own words what the following query produces:</p>\n<div class=\"language-plaintext highlighter-rouge\"><div><pre style=\"color: inherit; background: white\"><code>SELECT Site.name FROM Site JOIN Visited\nON Site.lat &lt; -49.0 AND Site.name = Visited.site AND Visited.dated &gt;= '1932-01-01';\n</code></pre></div>  </div>\n</blockquote>\n",
      "cell_type": "markdown",
      "metadata": {
        "editable": false,
        "collapsed": false
      }
    },
    {
      "id": "cell-57",
      "source": [
        "%%sql\n",
        "-- Try solutions here!"
      ],
      "cell_type": "code",
      "execution_count": null,
      "outputs": [

      ],
      "metadata": {
        "attributes": {
          "classes": [
            "sql"
          ],
          "id": ""
        }
      }
    },
    {
      "id": "cell-58",
      "source": "<blockquote class=\"question\" style=\"border: 2px solid #8A9AD0; margin: 1em 0.2em\">\n<h3 id=\"-icon-question--question-who-has-been-where\">❓ Question: Who Has Been Where?</h3>\n<p>Write a query that shows each site with exact location (lat, long) ordered by visited date,\nfollowed by personal name and family name of the person who visited the site\nand the type of measurement taken and its reading. Please avoid all null values.\nTip: you should get 15 records with 8 fields.</p>\n<blockquote class=\"solution\" style=\"border: 2px solid #B8C3EA;color: white; margin: 1em 0.2em\">\n<div style=\"color: #555; font-size: 95%;\">Hint: Select the text with your mouse to see the answer</div><h3 id=\"-icon-solution--solution\">👁 Solution</h3>\n<div class=\"language-plaintext highlighter-rouge\"><div><pre style=\"color: inherit; background: white\"><code>SELECT Site.name, Site.lat, Site.long, Person.personal, Person.family, Survey.quant, Survey.reading, Visited.dated\nFROM Site JOIN Visited JOIN Survey JOIN Person\nON Site.name = Visited.site\nAND Visited.id = Survey.taken\nAND Survey.person = Person.id\nWHERE Survey.person IS NOT NULL\nAND Visited.dated IS NOT NULL\nORDER BY Visited.dated;\n</code></pre></div>    </div>\n<table>\n<thead>\n<tr>\n<th>name</th>\n<th>lat</th>\n<th>long</th>\n<th>personal</th>\n<th>family</th>\n<th>quant</th>\n<th>reading</th>\n<th>dated</th>\n</tr>\n</thead>\n<tbody>\n<tr>\n<td>DR-1</td>\n<td>-49.85</td>\n<td>-128.57</td>\n<td>William</td>\n<td>Dyer</td>\n<td>rad</td>\n<td>9.82</td>\n<td>1927-02-08</td>\n</tr>\n<tr>\n<td>DR-1</td>\n<td>-49.85</td>\n<td>-128.57</td>\n<td>William</td>\n<td>Dyer</td>\n<td>sal</td>\n<td>0.13</td>\n<td>1927-02-08</td>\n</tr>\n<tr>\n<td>DR-1</td>\n<td>-49.85</td>\n<td>-128.57</td>\n<td>William</td>\n<td>Dyer</td>\n<td>rad</td>\n<td>7.8</td>\n<td>1927-02-10</td>\n</tr>\n<tr>\n<td>DR-1</td>\n<td>-49.85</td>\n<td>-128.57</td>\n<td>William</td>\n<td>Dyer</td>\n<td>sal</td>\n<td>0.09</td>\n<td>1927-02-10</td>\n</tr>\n<tr>\n<td>DR-3</td>\n<td>-47.15</td>\n<td>-126.72</td>\n<td>Anderson</td>\n<td>Lake</td>\n<td>sal</td>\n<td>0.05</td>\n<td>1930-01-07</td>\n</tr>\n<tr>\n<td>DR-3</td>\n<td>-47.15</td>\n<td>-126.72</td>\n<td>Frank</td>\n<td>Pabodie</td>\n<td>rad</td>\n<td>8.41</td>\n<td>1930-01-07</td>\n</tr>\n<tr>\n<td>DR-3</td>\n<td>-47.15</td>\n<td>-126.72</td>\n<td>Frank</td>\n<td>Pabodie</td>\n<td>temp</td>\n<td>-21.5</td>\n<td>1930-01-07</td>\n</tr>\n<tr>\n<td>DR-3</td>\n<td>-47.15</td>\n<td>-126.72</td>\n<td>Frank</td>\n<td>Pabodie</td>\n<td>rad</td>\n<td>7.22</td>\n<td>1930-01-12</td>\n</tr>\n<tr>\n<td>DR-3</td>\n<td>-47.15</td>\n<td>-126.72</td>\n<td>Anderson</td>\n<td>Lake</td>\n<td>sal</td>\n<td>0.1</td>\n<td>1930-02-26</td>\n</tr>\n<tr>\n<td>DR-3</td>\n<td>-47.15</td>\n<td>-126.72</td>\n<td>Frank</td>\n<td>Pabodie</td>\n<td>rad</td>\n<td>4.35</td>\n<td>1930-02-26</td>\n</tr>\n<tr>\n<td>DR-3</td>\n<td>-47.15</td>\n<td>-126.72</td>\n<td>Frank</td>\n<td>Pabodie</td>\n<td>temp</td>\n<td>-18.5</td>\n<td>1930-02-26</td>\n</tr>\n<tr>\n<td>MSK-4</td>\n<td>-48.87</td>\n<td>-123.4</td>\n<td>Anderson</td>\n<td>Lake</td>\n<td>rad</td>\n<td>1.46</td>\n<td>1932-01-14</td>\n</tr>\n<tr>\n<td>MSK-4</td>\n<td>-48.87</td>\n<td>-123.4</td>\n<td>Anderson</td>\n<td>Lake</td>\n<td>sal</td>\n<td>0.21</td>\n<td>1932-01-14</td>\n</tr>\n<tr>\n<td>MSK-4</td>\n<td>-48.87</td>\n<td>-123.4</td>\n<td>Valentina</td>\n<td>Roerich</td>\n<td>sal</td>\n<td>22.5</td>\n<td>1932-01-14</td>\n</tr>\n<tr>\n<td>DR-1</td>\n<td>-49.85</td>\n<td>-128.57</td>\n<td>Valentina</td>\n<td>Roerich</td>\n<td>rad</td>\n<td>11.25</td>\n<td>1932-03-22</td>\n</tr>\n</tbody>\n</table>\n</blockquote>\n</blockquote>\n",
      "cell_type": "markdown",
      "metadata": {
        "editable": false,
        "collapsed": false
      }
    },
    {
      "id": "cell-59",
      "source": [
        "%%sql\n",
        "-- Try solutions here!"
      ],
      "cell_type": "code",
      "execution_count": null,
      "outputs": [

      ],
      "metadata": {
        "attributes": {
          "classes": [
            "sql"
          ],
          "id": ""
        }
      }
    },
    {
      "id": "cell-60",
      "source": "<p>A good visual explanation of joins can be found <a href=\"https://sql-joins.leopard.in.ua/\">here</a></p>\n<h1 id=\"data-hygiene\">Data Hygiene</h1>\n<p>Now that we have seen how joins work, we can see why the relational\nmodel is so useful and how best to use it.  The first rule is that\nevery value should be atomic, i.e., not\ncontain parts that we might want to work with separately.  We store\npersonal and family names in separate columns instead of putting the\nentire name in one column so that we don’t have to use substring\noperations to get the name’s components.  More importantly, we store\nthe two parts of the name separately because splitting on spaces is\nunreliable: just think of a name like “Eloise St. Cyr” or “Jan Mikkel\nSteubart”.</p>\n<p>The second rule is that every record should have a unique primary key.\nThis can be a serial number that has no intrinsic meaning,\none of the values in the record (like the <code>id</code> field in the <code>Person</code> table),\nor even a combination of values:\nthe triple <code>(taken, person, quant)</code> from the <code>Survey</code> table uniquely identifies every measurement.</p>\n<p>The third rule is that there should be no redundant information.\nFor example,\nwe could get rid of the <code>Site</code> table and rewrite the <code>Visited</code> table like this:</p>\n<table>\n<thead>\n<tr>\n<th>id</th>\n<th>lat</th>\n<th>long</th>\n<th>dated</th>\n</tr>\n</thead>\n<tbody>\n<tr>\n<td>619</td>\n<td>-49.85</td>\n<td>-128.57</td>\n<td>1927-02-08</td>\n</tr>\n<tr>\n<td>622</td>\n<td>-49.85</td>\n<td>-128.57</td>\n<td>1927-02-10</td>\n</tr>\n<tr>\n<td>734</td>\n<td>-47.15</td>\n<td>-126.72</td>\n<td>1930-01-07</td>\n</tr>\n<tr>\n<td>735</td>\n<td>-47.15</td>\n<td>-126.72</td>\n<td>1930-01-12</td>\n</tr>\n<tr>\n<td>751</td>\n<td>-47.15</td>\n<td>-126.72</td>\n<td>1930-02-26</td>\n</tr>\n<tr>\n<td>752</td>\n<td>-47.15</td>\n<td>-126.72</td>\n<td>None</td>\n</tr>\n<tr>\n<td>837</td>\n<td>-48.87</td>\n<td>-123.40</td>\n<td>1932-01-14</td>\n</tr>\n<tr>\n<td>844</td>\n<td>-49.85</td>\n<td>-128.57</td>\n<td>1932-03-22</td>\n</tr>\n</tbody>\n</table>\n<p>In fact,\nwe could use a single table that recorded all the information about each reading in each row,\njust as a spreadsheet would.\nThe problem is that it’s very hard to keep data organized this way consistent:\nif we realize that the date of a particular visit to a particular site is wrong,\nwe have to change multiple records in the database.\nWhat’s worse,\nwe may have to guess which records to change,\nsince other sites may also have been visited on that date.</p>\n<p>The fourth rule is that the units for every value should be stored explicitly.\nOur database doesn’t do this,\nand that’s a problem:\nRoerich’s salinity measurements are several orders of magnitude larger than anyone else’s,\nbut we don’t know if that means she was using parts per million instead of parts per thousand,\nor whether there actually was a saline anomaly at that site in 1932.</p>\n<p>Stepping back,\ndata and the tools used to store it have a symbiotic relationship:\nwe use tables and joins because it’s efficient,\nprovided our data is organized a certain way,\nbut organize our data that way because we have tools to manipulate it efficiently.\nAs anthropologists say,\nthe tool shapes the hand that shapes the tool.</p>\n<blockquote class=\"question\" style=\"border: 2px solid #8A9AD0; margin: 1em 0.2em\">\n<h3 id=\"-icon-question--question-identifying-atomic-values\">❓ Question: Identifying Atomic Values</h3>\n<p>Which of the following are atomic values? Which are not? Why?</p>\n<ul>\n<li>New Zealand</li>\n<li>87 Turing Avenue</li>\n<li>January 25, 1971</li>\n<li>the XY coordinate (0.5, 3.3)</li>\n</ul>\n<blockquote class=\"solution\" style=\"border: 2px solid #B8C3EA;color: white; margin: 1em 0.2em\">\n<div style=\"color: #555; font-size: 95%;\">Hint: Select the text with your mouse to see the answer</div><h3 id=\"-icon-solution--solution\">👁 Solution</h3>\n<p>New Zealand is the only clear-cut atomic value.</p>\n<p>The address and the XY coordinate contain more than one piece of information\nwhich should be stored separately:</p>\n<ul>\n<li>House number, street name</li>\n<li>X coordinate, Y coordinate</li>\n</ul>\n<p>The date entry is less clear cut, because it contains month, day, and year elements.\nHowever, there is a <code>DATE</code> datatype in SQL, and dates should be stored using this format.\nIf we need to work with the month, day, or year separately, we can use the SQL functions available for our database software\n(for example <a href=\"https://docs.oracle.com/cd/B19306_01/server.102/b14200/functions050.htm\"><code class=\"language-plaintext highlighter-rouge\">EXTRACT</code></a> or <a href=\"http://www.sqlite.org/lang_datefunc.html\"><code class=\"language-plaintext highlighter-rouge\">STRFTIME</code></a> for SQLite).</p>\n</blockquote>\n</blockquote>\n",
      "cell_type": "markdown",
      "metadata": {
        "editable": false,
        "collapsed": false
      }
    },
    {
      "id": "cell-61",
      "source": [
        "%%sql\n",
        "-- Try solutions here!"
      ],
      "cell_type": "code",
      "execution_count": null,
      "outputs": [

      ],
      "metadata": {
        "attributes": {
          "classes": [
            "sql"
          ],
          "id": ""
        }
      }
    },
    {
      "id": "cell-62",
      "source": "<blockquote class=\"question\" style=\"border: 2px solid #8A9AD0; margin: 1em 0.2em\">\n<h3 id=\"-icon-question--question-identifying-a-primary-key\">❓ Question: Identifying a Primary Key</h3>\n<p>What is the primary key in this table?\nI.e., what value or combination of values uniquely identifies a record?</p>\n<table>\n<thead>\n<tr>\n<th>latitude</th>\n<th>longitude</th>\n<th>date</th>\n<th>temperature</th>\n</tr>\n</thead>\n<tbody>\n<tr>\n<td>57.3</td>\n<td>-22.5</td>\n<td>2015-01-09</td>\n<td>-14.2</td>\n</tr>\n</tbody>\n</table>\n<blockquote class=\"solution\" style=\"border: 2px solid #B8C3EA;color: white; margin: 1em 0.2em\">\n<div style=\"color: #555; font-size: 95%;\">Hint: Select the text with your mouse to see the answer</div><h3 id=\"-icon-solution--solution\">👁 Solution</h3>\n<p>Latitude, longitude, and date are all required to uniquely identify the temperature record.</p>\n</blockquote>\n</blockquote>\n",
      "cell_type": "markdown",
      "metadata": {
        "editable": false,
        "collapsed": false
      }
    },
    {
      "id": "cell-63",
      "source": [
        "%%sql\n",
        "-- Try solutions here!"
      ],
      "cell_type": "code",
      "execution_count": null,
      "outputs": [

      ],
      "metadata": {
        "attributes": {
          "classes": [
            "sql"
          ],
          "id": ""
        }
      }
    },
    {
      "id": "cell-64",
      "source": "<h1 id=\"creating-and-modifying-data\">Creating and Modifying Data</h1>\n<p>So far we have only looked at how to get information out of a database,\nboth because that is more frequent than adding information,\nand because most other operations only make sense\nonce queries are understood.\nIf we want to create and modify data,\nwe need to know two other sets of commands.</p>\n<p>The first pair are [<code class=\"language-plaintext highlighter-rouge\">CREATE TABLE</code>][create-table] and [<code class=\"language-plaintext highlighter-rouge\">DROP TABLE</code>][drop-table].\nWhile they are written as two words,\nthey are actually single commands.\nThe first one creates a new table;\nits arguments are the names and types of the table’s columns.\nFor example,\nthe following statements create the four tables in our survey database:</p>\n",
      "cell_type": "markdown",
      "metadata": {
        "editable": false,
        "collapsed": false
      }
    },
    {
      "id": "cell-65",
      "source": [
        "%%sql\n",
        "CREATE TABLE Person(id text, personal text, family text);\n",
        "CREATE TABLE Site(name text, lat real, long real);\n",
        "CREATE TABLE Visited(id integer, site text, dated text);\n",
        "CREATE TABLE Survey(taken integer, person text, quant text, reading real);"
      ],
      "cell_type": "code",
      "execution_count": null,
      "outputs": [

      ],
      "metadata": {
        "attributes": {
          "classes": [
            "sql"
          ],
          "id": ""
        }
      }
    },
    {
      "id": "cell-66",
      "source": "<p>We can get rid of one of our tables using:</p>\n",
      "cell_type": "markdown",
      "metadata": {
        "editable": false,
        "collapsed": false
      }
    },
    {
      "id": "cell-67",
      "source": [
        "%%sql\n",
        "DROP TABLE Survey;"
      ],
      "cell_type": "code",
      "execution_count": null,
      "outputs": [

      ],
      "metadata": {
        "attributes": {
          "classes": [
            "sql"
          ],
          "id": ""
        }
      }
    },
    {
      "id": "cell-68",
      "source": "<p>Be very careful when doing this:\nif you drop the wrong table, hope that the person maintaining the database has a backup,\nbut it’s better not to have to rely on it.</p>\n<p>Different database systems support different data types for table columns,\nbut most provide the following:</p>\n<table>\n<thead>\n<tr>\n<th>data type</th>\n<th>use</th>\n</tr>\n</thead>\n<tbody>\n<tr>\n<td>INTEGER</td>\n<td>a signed integer</td>\n</tr>\n<tr>\n<td>REAL</td>\n<td>a floating point number</td>\n</tr>\n<tr>\n<td>TEXT</td>\n<td>a character string</td>\n</tr>\n<tr>\n<td>BLOB</td>\n<td>a “binary large object”, such as an image</td>\n</tr>\n</tbody>\n</table>\n<p>Most databases also support Booleans and date/time values;\nSQLite uses the integers 0 and 1 for the former,\nand represents the latter as text or numeric fields.</p>\n<p>An increasing number of databases also support geographic data types,\nsuch as latitude and longitude.\nKeeping track of what particular systems do or do not offer,\nand what names they give different data types,\nis an unending portability headache.</p>\n<blockquote class=\"tip\" style=\"border: 2px solid #FFE19E; margin: 1em 0.2em\">\n<h3 id=\"-icon-tip--which-database-should-i-use\">💡 Which database should I use?</h3>\n<p>SQLite is fantastic for small databases or embedded into applications where\nyou want to be able to use SQL to query and process data.</p>\n<p>However for any real analysis PostgreSQL is usually the best choice, it\nscales incredibly well and can meet a wide range of use cases. It has good\ndata type support.</p>\n</blockquote>\n<blockquote class=\"tip\" style=\"border: 2px solid #FFE19E; margin: 1em 0.2em\">\n<h3 id=\"-icon-tip--do-you-have-geographic-data\">💡 Do you have geographic data?</h3>\n<p>Use Postgres. The <a href=\"https://postgis.net/\">PostGIS</a> library is fantastic and industry standard for storing geographic data in a database.</p>\n</blockquote>\n<p>When we create a table,\nwe can specify several kinds of constraints on its columns.\nFor example,\na better definition for the <code>Survey</code> table would be:</p>\n",
      "cell_type": "markdown",
      "metadata": {
        "editable": false,
        "collapsed": false
      }
    },
    {
      "id": "cell-69",
      "source": [
        "%%sql\n",
        "CREATE TABLE Survey(\n",
        "taken   integer not null, -- where reading taken\n",
        "person  text,             -- may not know who took it\n",
        "quant   text not null,    -- the quantity measured\n",
        "reading real not null,    -- the actual reading\n",
        "primary key(taken, quant),\n",
        "foreign key(taken) references Visited(id),\n",
        "foreign key(person) references Person(id)\n",
        ");"
      ],
      "cell_type": "code",
      "execution_count": null,
      "outputs": [

      ],
      "metadata": {
        "attributes": {
          "classes": [
            "sql"
          ],
          "id": ""
        }
      }
    },
    {
      "id": "cell-70",
      "source": "<p>Once again,\nexactly what constraints are available\nand what they’re called\ndepends on which database manager we are using.</p>\n<p>Once tables have been created,\nwe can add, change, and remove records using our other set of commands,\n<code class=\"language-plaintext highlighter-rouge\">INSERT</code>, <code>UPDATE</code>, and <code>DELETE</code>.</p>\n<p>Here is an example of inserting rows into the <code>Site</code> table:</p>\n",
      "cell_type": "markdown",
      "metadata": {
        "editable": false,
        "collapsed": false
      }
    },
    {
      "id": "cell-71",
      "source": [
        "%%sql\n",
        "INSERT INTO Site (name, lat, long) VALUES ('DR-1', -49.85, -128.57);\n",
        "INSERT INTO Site (name, lat, long) VALUES ('DR-3', -47.15, -126.72);\n",
        "INSERT INTO Site (name, lat, long) VALUES ('MSK-4', -48.87, -123.40);"
      ],
      "cell_type": "code",
      "execution_count": null,
      "outputs": [

      ],
      "metadata": {
        "attributes": {
          "classes": [
            "sql"
          ],
          "id": ""
        }
      }
    },
    {
      "id": "cell-72",
      "source": "<p>We can also insert values into one table directly from another:</p>\n",
      "cell_type": "markdown",
      "metadata": {
        "editable": false,
        "collapsed": false
      }
    },
    {
      "id": "cell-73",
      "source": [
        "%%sql\n",
        "CREATE TABLE JustLatLong(lat real, long real);\n",
        "INSERT INTO JustLatLong SELECT lat, long FROM Site;"
      ],
      "cell_type": "code",
      "execution_count": null,
      "outputs": [

      ],
      "metadata": {
        "attributes": {
          "classes": [
            "sql"
          ],
          "id": ""
        }
      }
    },
    {
      "id": "cell-74",
      "source": "<p>Modifying existing records is done using the <code>UPDATE</code> statement.\nTo do this we tell the database which table we want to update,\nwhat we want to change the values to for any or all of the fields,\nand under what conditions we should update the values.</p>\n<p>For example, if we made a mistake when entering the lat and long values\nof the last <code>INSERT</code> statement above, we can correct it with an update:</p>\n",
      "cell_type": "markdown",
      "metadata": {
        "editable": false,
        "collapsed": false
      }
    },
    {
      "id": "cell-75",
      "source": [
        "%%sql\n",
        "UPDATE Site SET lat = -47.87, long = -122.40 WHERE name = 'MSK-4';"
      ],
      "cell_type": "code",
      "execution_count": null,
      "outputs": [

      ],
      "metadata": {
        "attributes": {
          "classes": [
            "sql"
          ],
          "id": ""
        }
      }
    },
    {
      "id": "cell-76",
      "source": "<p>Be careful to not forget the <code>WHERE</code> clause or the update statement will\nmodify <em>all</em> of the records in the database.</p>\n<p>Deleting records can be a bit trickier,\nbecause we have to ensure that the database remains internally consistent.\nIf all we care about is a single table,\nwe can use the <code>DELETE</code> command with a <code>WHERE</code> clause\nthat matches the records we want to discard.\nFor example,\nonce we realize that Frank Danforth didn’t take any measurements,\nwe can remove him from the <code>Person</code> table like this:</p>\n",
      "cell_type": "markdown",
      "metadata": {
        "editable": false,
        "collapsed": false
      }
    },
    {
      "id": "cell-77",
      "source": [
        "%%sql\n",
        "DELETE FROM Person WHERE id = 'danforth';"
      ],
      "cell_type": "code",
      "execution_count": null,
      "outputs": [

      ],
      "metadata": {
        "attributes": {
          "classes": [
            "sql"
          ],
          "id": ""
        }
      }
    },
    {
      "id": "cell-78",
      "source": "<p>But what if we removed Anderson Lake instead?\nOur <code>Survey</code> table would still contain seven records\nof measurements he’d taken,\nbut that’s never supposed to happen:\n<code>Survey.person</code> is a foreign key into the <code>Person</code> table,\nand all our queries assume there will be a row in the latter\nmatching every value in the former.</p>\n<p>This problem is called referential integrity:\nwe need to ensure that all references between tables can always be resolved correctly.\nOne way to do this is to delete all the records\nthat use <code>'lake'</code> as a foreign key\nbefore deleting the record that uses it as a primary key.\nIf our database manager supports it,\nwe can automate this\nusing cascading delete.\nHowever,\nthis technique is outside the scope of this chapter.</p>\n<blockquote class=\"tip\" style=\"border: 2px solid #FFE19E; margin: 1em 0.2em\">\n<h3 id=\"-icon-tip--hybrid-storage-models\">💡 Hybrid Storage Models</h3>\n<p>Many applications use a hybrid storage model\ninstead of putting everything into a database:\nthe actual data (such as astronomical images) is stored in files,\nwhile the database stores the files’ names,\ntheir modification dates,\nthe region of the sky they cover,\ntheir spectral characteristics,\nand so on.\nThis is also how most music player software is built:\nthe database inside the application keeps track of the MP3 files,\nbut the files themselves live on disk.</p>\n</blockquote>\n<blockquote class=\"question\" style=\"border: 2px solid #8A9AD0; margin: 1em 0.2em\">\n<h3 id=\"-icon-question--question-replacing-null\">❓ Question: Replacing NULL</h3>\n<p>Write an SQL statement to replace all uses of <code>null</code> in\n<code>Survey.person</code> with the string <code>'unknown'</code>.</p>\n<blockquote class=\"solution\" style=\"border: 2px solid #B8C3EA;color: white; margin: 1em 0.2em\">\n<div style=\"color: #555; font-size: 95%;\">Hint: Select the text with your mouse to see the answer</div><h3 id=\"-icon-solution--solution\">👁 Solution</h3>\n<div class=\"language-plaintext highlighter-rouge\"><div><pre style=\"color: inherit; background: white\"><code>UPDATE Survey SET person = 'unknown' WHERE person IS NULL;\n</code></pre></div>    </div>\n</blockquote>\n</blockquote>\n",
      "cell_type": "markdown",
      "metadata": {
        "editable": false,
        "collapsed": false
      }
    },
    {
      "id": "cell-79",
      "source": [
        "%%sql\n",
        "-- Try solutions here!"
      ],
      "cell_type": "code",
      "execution_count": null,
      "outputs": [

      ],
      "metadata": {
        "attributes": {
          "classes": [
            "sql"
          ],
          "id": ""
        }
      }
    },
    {
      "id": "cell-80",
      "source": "<blockquote class=\"question\" style=\"border: 2px solid #8A9AD0; margin: 1em 0.2em\">\n<h3 id=\"-icon-question--question-backing-up-with-sql\">❓ Question: Backing Up with SQL</h3>\n<p>SQLite has several administrative commands that aren’t part of the\nSQL standard.  One of them is <code>.dump</code>, which prints the SQL commands\nneeded to re-create the database.  Another is <code>.read</code>, which reads a\nfile created by <code>.dump</code> and restores the database.  A colleague of\nyours thinks that storing dump files (which are text) in version\ncontrol is a good way to track and manage changes to the database.\nWhat are the pros and cons of this approach?  (Hint: records aren’t\nstored in any particular order.)</p>\n<blockquote class=\"solution\" style=\"border: 2px solid #B8C3EA;color: white; margin: 1em 0.2em\">\n<div style=\"color: #555; font-size: 95%;\">Hint: Select the text with your mouse to see the answer</div><h3 id=\"-icon-solution--solution\">👁 Solution</h3>\n<h4 id=\"advantages\">Advantages</h4>\n<ul>\n<li>A version control system will be able to show differences between versions\nof the dump file; something it can’t do for binary files like databases</li>\n<li>A VCS only saves changes between versions, rather than a complete copy of\neach version (save disk space)</li>\n<li>The version control log will explain the reason for the changes in each version\nof the database</li>\n</ul>\n<h4 id=\"disadvantages\">Disadvantages</h4>\n<ul>\n<li>Artificial differences between commits because records don’t have a fixed order</li>\n</ul>\n</blockquote>\n</blockquote>\n",
      "cell_type": "markdown",
      "metadata": {
        "editable": false,
        "collapsed": false
      }
    },
    {
      "id": "cell-81",
      "source": [
        "%%sql\n",
        "-- Try solutions here!"
      ],
      "cell_type": "code",
      "execution_count": null,
      "outputs": [

      ],
      "metadata": {
        "attributes": {
          "classes": [
            "sql"
          ],
          "id": ""
        }
      }
    },
    {
      "id": "cell-82",
      "source": "",
      "cell_type": "markdown",
      "metadata": {
        "editable": false,
        "collapsed": false
      }
    },
    {
      "cell_type": "markdown",
      "id": "final-ending-cell",
      "metadata": {
        "editable": false,
        "collapsed": false
      },
      "source": [
        "# Key Points\n\n",
        "- Use aggregation functions to combine multiple values.\n",
        "- Aggregation functions ignore `null` values.\n",
        "- Aggregation happens after filtering.\n",
        "- Use GROUP BY to combine subsets separately.\n",
        "- If no aggregation function is specified for a field, the query may return an arbitrary value for that field.\n",
        "- Use JOIN to combine data from two tables.\n",
        "- Use table.field notation to refer to fields when doing joins.\n",
        "- Every fact should be represented in a database exactly once.\n",
        "- A join produces all combinations of records from one table with records from another.\n",
        "- A primary key is a field (or set of fields) whose values uniquely identify the records in a table.\n",
        "- A foreign key is a field (or set of fields) in one table whose values are a primary key in another table.\n",
        "- We can eliminate meaningless combinations of records by matching primary keys and foreign keys between tables.\n",
        "- The most common join condition is matching keys.\n",
        "- Every value in a database should be atomic.\n",
        "- Every record should have a unique primary key.\n",
        "- A database should not contain redundant information.\n",
        "- Units and similar metadata should be stored with the data.\n",
        "- Use CREATE and DROP to create and delete tables.\n",
        "- Use INSERT to add data.\n",
        "- Use UPDATE to modify existing data.\n",
        "- Use DELETE to remove data.\n",
        "- It is simpler and safer to modify data when every record has a unique primary key.\n",
        "- Do not create dangling references by deleting records that other records refer to.\n",
        "- General-purpose languages have libraries for accessing databases.\n",
        "- To connect to a database, a program must use a library specific to that database manager.\n",
        "- These libraries use a connection-and-cursor model.\n",
        "- Programs can read query results in batches or all at once.\n",
        "- Queries should be written using parameter substitution, not string formatting.\n",
        "\n# Congratulations on successfully completing this tutorial!\n\n",
        "Please [fill out the feedback on the GTN website](https://training.galaxyproject.org/training-material/topics/data-science/tutorials/sql-advanced/tutorial.html#feedback) and check there for further resources!\n"
      ]
    }
  ]
}