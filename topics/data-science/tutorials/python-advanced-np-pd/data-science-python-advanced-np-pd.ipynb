{
  "metadata": {
  },
  "nbformat": 4,
  "nbformat_minor": 5,
  "cells": [
    {
      "id": "metadata",
      "cell_type": "markdown",
      "source": "<div style=\"border: 2px solid #8A9AD0; margin: 1em 0.2em; padding: 0.5em;\">\n\n# Advanced Python\n\nby [Maria Christina Maniou](https://training.galaxyproject.org/hall-of-fame/mcmaniou/), [Fotis E. Psomopoulos](https://training.galaxyproject.org/hall-of-fame/fpsom/), [The Carpentries](https://training.galaxyproject.org/hall-of-fame/carpentries/), [Erasmus+ Programme](https://training.galaxyproject.org/hall-of-fame/erasmusplus/)\n\nCC-BY licensed content from the [Galaxy Training Network](https://training.galaxyproject.org/)\n\n**Objectives**\n\n- How can I analyze data using Python with Numpy and Pandas?\n\n**Objectives**\n\n- Use the scientific libraries pandas and numpy to explore tabular datasets\n- Calculate basic statistics about datasets and columns\n\n**Time Estimation: 3H**\n</div>\n",
      "metadata": {
        "editable": false,
        "collapsed": false
      }
    },
    {
      "id": "cell-0",
      "source": "<p>In this lesson, we will be using Python 3 with some of its most popular scientific libraries. This tutorial assumes that the reader is familiar with the fundamentals of the Python programming language, as well as, how to run Python programs using Galaxy. Otherwise, it is advised to follow the “Introduction to Python” tutorial available in the same platform. We will be using JupyterNotebook, a Python interpreter that comes with everything we need for the lesson. Please note:  JupyterNotebook is only currently available on the <a href=\"https://usegalaxy.eu/\">usegalaxy.eu</a> and <a href=\"https://usegalaxy.org/\">usegalaxy.org</a> sites.</p>\n<blockquote class=\"comment\" style=\"border: 2px solid #ffecc1; margin: 1em 0.2em\">\n<h3 id=\"-icon-comment--comment\">💬 Comment</h3>\n<p>This tutorial is <strong>significantly</strong> based on <a href=\"https://carpentries.org\">the Carpentries</a> <a href=\"https://swcarpentry.github.io/python-novice-inflammation/\">Programming with Python</a> and <a href=\"https://swcarpentry.github.io/python-novice-gapminder/\">Plotting and Programming in Python</a>, which is licensed CC-BY 4.0.</p>\n<p>Adaptations have been made to make this work better in a GTN/Galaxy environment.</p>\n</blockquote>\n<blockquote class=\"agenda\" style=\"border: 2px solid #86D486;display: none; margin: 1em 0.2em\">\n<h3 id=\"agenda\">Agenda</h3>\n<p>In this tutorial, we will cover:</p>\n<ol id=\"markdown-toc\">\n<li><a href=\"#analyze-data-using-numpy\" id=\"markdown-toc-analyze-data-using-numpy\">Analyze data using numpy</a></li>\n</ol>\n</blockquote>\n<h1 id=\"analyze-data-using-numpy\">Analyze data using numpy</h1>\n<p>NumPy is a python library and it stands for Numerical Python. In general, you should use this library when you want to perform operations and manipulate numerical data, especially if you have matrices or arrays. To tell Python that we’d like to start using NumPy, we need to import it:</p>\n",
      "cell_type": "markdown",
      "metadata": {
        "editable": false,
        "collapsed": false
      }
    },
    {
      "id": "cell-1",
      "source": [
        "import numpy as np"
      ],
      "cell_type": "code",
      "execution_count": null,
      "outputs": [

      ],
      "metadata": {
        "attributes": {
          "classes": [
            "python"
          ],
          "id": ""
        }
      }
    },
    {
      "id": "cell-2",
      "source": "<p>A Numpy array contains one or more elements of the same type. To examine the basic functions of the library, we will create an array of random data. These data will correspond to arthritis patients’ inflammation. The rows are the individual patients, and the columns are their daily inflammation measurements. We will use the <code>random.randint()</code> function. It has 4 arguments as inputs <code>randint(low, high=None, size=None, dtype=int)</code>. <code>low</code> nad <code>high</code> specify the limits of the random number generator. <code>size</code> determines the shape of the array and it can be an integer or a tuple.</p>\n",
      "cell_type": "markdown",
      "metadata": {
        "editable": false,
        "collapsed": false
      }
    },
    {
      "id": "cell-3",
      "source": [
        "np.random.seed(2021)  #create reproducible work\n",
        "random_data = np.random.randint(1, 25, size=(50,70))"
      ],
      "cell_type": "code",
      "execution_count": null,
      "outputs": [

      ],
      "metadata": {
        "attributes": {
          "classes": [
            "python"
          ],
          "id": ""
        }
      }
    },
    {
      "id": "cell-4",
      "source": "<p>If we want to check the data have been loaded, we can print the variable’s value:</p>\n",
      "cell_type": "markdown",
      "metadata": {
        "editable": false,
        "collapsed": false
      }
    },
    {
      "id": "cell-5",
      "source": [
        "print(random_data)"
      ],
      "cell_type": "code",
      "execution_count": null,
      "outputs": [

      ],
      "metadata": {
        "attributes": {
          "classes": [
            "python"
          ],
          "id": ""
        }
      }
    },
    {
      "id": "cell-6",
      "source": "<p>Now that the data are in memory, we can manipulate them. First, let’s ask what type of thing data refers to:</p>\n",
      "cell_type": "markdown",
      "metadata": {
        "editable": false,
        "collapsed": false
      }
    },
    {
      "id": "cell-7",
      "source": [
        "print(type(random_data))"
      ],
      "cell_type": "code",
      "execution_count": null,
      "outputs": [

      ],
      "metadata": {
        "attributes": {
          "classes": [
            "python"
          ],
          "id": ""
        }
      }
    },
    {
      "id": "cell-8",
      "source": "<p>The output tells us that data currently refers to an N-dimensional array, the functionality for which is provided by the NumPy library. These data correspond to arthritis patients’ inflammation. The rows are the individual patients, and the columns are their daily inflammation measurements.</p>\n<p>The <code>type</code> function will only tell you that a variable is a NumPy array but won’t tell you the type of thing inside the array. We can find out the type of the data contained in the NumPy array.</p>\n",
      "cell_type": "markdown",
      "metadata": {
        "editable": false,
        "collapsed": false
      }
    },
    {
      "id": "cell-9",
      "source": [
        "print(random_data.dtype)"
      ],
      "cell_type": "code",
      "execution_count": null,
      "outputs": [

      ],
      "metadata": {
        "attributes": {
          "classes": [
            "python"
          ],
          "id": ""
        }
      }
    },
    {
      "id": "cell-10",
      "source": "<p>This tells us that the NumPy array’s elements are integer numbers.</p>\n<p>With the following command, we can see the array’s shape:</p>\n",
      "cell_type": "markdown",
      "metadata": {
        "editable": false,
        "collapsed": false
      }
    },
    {
      "id": "cell-11",
      "source": [
        "print(random_data.shape)"
      ],
      "cell_type": "code",
      "execution_count": null,
      "outputs": [

      ],
      "metadata": {
        "attributes": {
          "classes": [
            "python"
          ],
          "id": ""
        }
      }
    },
    {
      "id": "cell-12",
      "source": "<p>The output tells us that the data array variable contains 50 rows and 70 columns. When we created the variable <code>random_data</code> to store our arthritis data, we did not only create the array; we also created information about the array, called members or attributes. This extra information describes <code>random_data</code> in the same way an adjective describes a noun. <code>random_data.shape</code> is an attribute of <code>random_data</code> which describes the dimensions of <code>random_data</code>.</p>\n<p>If we want to get a single number from the array, we must provide an index in square brackets after the variable name, just as we do in math when referring to an element of a matrix. Our data has two dimensions, so we will need to use two indices to refer to one specific value:</p>\n",
      "cell_type": "markdown",
      "metadata": {
        "editable": false,
        "collapsed": false
      }
    },
    {
      "id": "cell-13",
      "source": [
        "print('first value in data:', random_data[0, 0])"
      ],
      "cell_type": "code",
      "execution_count": null,
      "outputs": [

      ],
      "metadata": {
        "attributes": {
          "classes": [
            "python"
          ],
          "id": ""
        }
      }
    },
    {
      "id": "cell-14",
      "source": "\n",
      "cell_type": "markdown",
      "metadata": {
        "editable": false,
        "collapsed": false
      }
    },
    {
      "id": "cell-15",
      "source": [
        "print('middle value in data:', random_data[25, 35])"
      ],
      "cell_type": "code",
      "execution_count": null,
      "outputs": [

      ],
      "metadata": {
        "attributes": {
          "classes": [
            "python"
          ],
          "id": ""
        }
      }
    },
    {
      "id": "cell-16",
      "source": "<p>The expression random_data[25, 35] accesses the element at row 25, column 35. While this expression may not surprise you, random_data[0, 0] might. Programming languages like Fortran, MATLAB and R start counting at 1 because that’s what human beings have done for thousands of years. Languages in the C family (including C++, Java, Perl, and Python) count from 0 because it represents an offset from the first value in the array (the second value is offset by one index from the first value). As a result, if we have an M×N array in Python, its indices go from 0 to M-1 on the first axis and 0 to N-1 on the second.</p>\n<p>Slicing data\nAn index like [25, 35] selects a single element of an array, but we can select whole sections as well, using slicing the same way as previously with the strings. For example, we can select the first ten days (columns) of values for the first four patients (rows) like this:</p>\n",
      "cell_type": "markdown",
      "metadata": {
        "editable": false,
        "collapsed": false
      }
    },
    {
      "id": "cell-17",
      "source": [
        "print(random_data[0:4, 0:10])"
      ],
      "cell_type": "code",
      "execution_count": null,
      "outputs": [

      ],
      "metadata": {
        "attributes": {
          "classes": [
            "python"
          ],
          "id": ""
        }
      }
    },
    {
      "id": "cell-18",
      "source": "<p>We don’t have to include the upper and lower bound on the slice. If we don’t include the lower bound, Python uses 0 by default; if we don’t include the upper, the slice runs to the end of the axis, and if we don’t include either (i.e., if we use ‘:’ on its own), the slice includes everything:</p>\n",
      "cell_type": "markdown",
      "metadata": {
        "editable": false,
        "collapsed": false
      }
    },
    {
      "id": "cell-19",
      "source": [
        "small = random_data[:3, 36:]\n",
        "print('small is:')\n",
        "print(small)"
      ],
      "cell_type": "code",
      "execution_count": null,
      "outputs": [

      ],
      "metadata": {
        "attributes": {
          "classes": [
            "python"
          ],
          "id": ""
        }
      }
    },
    {
      "id": "cell-20",
      "source": "<p>The above example selects rows 0 through 2 and columns 36 through to the end of the array.</p>\n<h2 id=\"process-the-data\">Process the data</h2>\n<p>NumPy has several useful functions that take an array as input to perform operations on its values. If we want to find the average inflammation for all patients on all days, for example, we can ask NumPy to compute random_data’s mean value:</p>\n",
      "cell_type": "markdown",
      "metadata": {
        "editable": false,
        "collapsed": false
      }
    },
    {
      "id": "cell-21",
      "source": [
        "print(np.mean(random_data))"
      ],
      "cell_type": "code",
      "execution_count": null,
      "outputs": [

      ],
      "metadata": {
        "attributes": {
          "classes": [
            "python"
          ],
          "id": ""
        }
      }
    },
    {
      "id": "cell-22",
      "source": "<p>Let’s use three other NumPy functions to get some descriptive values about the dataset. We’ll also use multiple assignment, a convenient Python feature that will enable us to do this all in one line.</p>\n",
      "cell_type": "markdown",
      "metadata": {
        "editable": false,
        "collapsed": false
      }
    },
    {
      "id": "cell-23",
      "source": [
        "maxval, minval, stdval = np.max(random_data), np.min(random_data), np.std(random_data)\n",
        "\n",
        "print('maximum inflammation:', maxval)\n",
        "print('minimum inflammation:', minval)\n",
        "print('standard deviation:', stdval)"
      ],
      "cell_type": "code",
      "execution_count": null,
      "outputs": [

      ],
      "metadata": {
        "attributes": {
          "classes": [
            "python"
          ],
          "id": ""
        }
      }
    },
    {
      "id": "cell-24",
      "source": "<p>How did we know what functions NumPy has and how to use them? If you are working in IPython or in a Jupyter Notebook, there is an easy way to find out. If you type the name of something followed by a dot, then you can use tab completion (e.g. type <code>np.</code> and then press Tab) to see a list of all functions and attributes that you can use. After selecting one, you can also add a question mark (e.g. <code>np.cumprod?</code>), and IPython will return an explanation of the method! This is the same as doing <code>help(np.cumprod)</code>.</p>\n<p>When analyzing data, though, we often want to look at variations in statistical values, such as the maximum inflammation per patient or the average inflammation per day. One way to do this is to create a new temporary array of the data we want, then ask it to do the calculation:</p>\n",
      "cell_type": "markdown",
      "metadata": {
        "editable": false,
        "collapsed": false
      }
    },
    {
      "id": "cell-25",
      "source": [
        "patient_0 = random_data[0, :] # 0 on the first axis (rows), everything on the second (columns)\n",
        "print('maximum inflammation for patient 0:', np.max(patient_0))"
      ],
      "cell_type": "code",
      "execution_count": null,
      "outputs": [

      ],
      "metadata": {
        "attributes": {
          "classes": [
            "python"
          ],
          "id": ""
        }
      }
    },
    {
      "id": "cell-26",
      "source": "<p>What if we need the maximum inflammation for each patient over all days (as in the next diagram on the left) or the average for each day (as in the diagram on the right)? As the diagram below shows, we want to perform the operation across an axis:</p>\n<p><img src=\"https://training.galaxyproject.org/training-material/topics/data-science/tutorials/python-advanced-np-pd/../../images/python-advanced-np-pd/Figure8_Operations_across_axis.png\" alt=\"A cartoon shows a data structure on the left with Patient 0 to N as rows in a table, and then Day 0 to N as columns of the same table. Below is written &quot;numpy.max(data, axis=1)&quot; which does an aggregation and finds the max per patient (so maximum daily value for each patient.) On the right a similar table is shown but written below is numpy.max(data, axis=0) and now the maximum is calculated per day, which patient had the maximum value.\" /></p>\n<p>To support this functionality, most array functions allow us to specify the axis we want to work on. If we ask for the average across axis 0 (rows in our 2D example), we get:</p>\n",
      "cell_type": "markdown",
      "metadata": {
        "editable": false,
        "collapsed": false
      }
    },
    {
      "id": "cell-27",
      "source": [
        "print(np.mean(random_data, axis=0))"
      ],
      "cell_type": "code",
      "execution_count": null,
      "outputs": [

      ],
      "metadata": {
        "attributes": {
          "classes": [
            "python"
          ],
          "id": ""
        }
      }
    },
    {
      "id": "cell-28",
      "source": "<p>As a quick check, we can ask this array what its shape is:</p>\n",
      "cell_type": "markdown",
      "metadata": {
        "editable": false,
        "collapsed": false
      }
    },
    {
      "id": "cell-29",
      "source": [
        "print(np.mean(random_data, axis=0).shape)"
      ],
      "cell_type": "code",
      "execution_count": null,
      "outputs": [

      ],
      "metadata": {
        "attributes": {
          "classes": [
            "python"
          ],
          "id": ""
        }
      }
    },
    {
      "id": "cell-30",
      "source": "<p>The expression (70,) tells us we have an N×1 vector, so this is the average inflammation per day for all patients. If we average across axis 1 (columns in our 2D example), we get the average inflammation per patient across all days.:</p>\n",
      "cell_type": "markdown",
      "metadata": {
        "editable": false,
        "collapsed": false
      }
    },
    {
      "id": "cell-31",
      "source": [
        "print(np.mean(random_data, axis=1))"
      ],
      "cell_type": "code",
      "execution_count": null,
      "outputs": [

      ],
      "metadata": {
        "attributes": {
          "classes": [
            "python"
          ],
          "id": ""
        }
      }
    },
    {
      "id": "cell-32",
      "source": "<h3 id=\"stacking-arrays\">Stacking arrays</h3>\n<p>Arrays can be concatenated and stacked on top of one another, using NumPy’s <code>vstack</code> and <code>hstack</code> functions for vertical and horizontal stacking, respectively.</p>\n",
      "cell_type": "markdown",
      "metadata": {
        "editable": false,
        "collapsed": false
      }
    },
    {
      "id": "cell-33",
      "source": [
        "import numpy as np\n",
        "\n",
        "A = np.array([[1,2,3], [4,5,6], [7, 8, 9]])\n",
        "print('A = ')\n",
        "print(A)\n",
        "\n",
        "B = np.hstack([A, A])\n",
        "print('B = ')\n",
        "print(B)\n",
        "\n",
        "C = np.vstack([A, A])\n",
        "print('C = ')\n",
        "print(C)"
      ],
      "cell_type": "code",
      "execution_count": null,
      "outputs": [

      ],
      "metadata": {
        "attributes": {
          "classes": [
            "python"
          ],
          "id": ""
        }
      }
    },
    {
      "id": "cell-34",
      "source": "<h3 id=\"remove-nan-values\">Remove NaN values</h3>\n<p>Sometimes there are missing values in an array, that could make it difficult to perform operations on it. To remove the <code>NaN</code> you must first find their indexes and then replace them. The following example replaces them with <code>0</code>.</p>\n",
      "cell_type": "markdown",
      "metadata": {
        "editable": false,
        "collapsed": false
      }
    },
    {
      "id": "cell-35",
      "source": [
        "a = array([[1, 2, 3], [0, 3, NaN]])\n",
        "print(a)\n",
        "a[np.isnan(a)] = 0\n",
        "print(a)"
      ],
      "cell_type": "code",
      "execution_count": null,
      "outputs": [

      ],
      "metadata": {
        "attributes": {
          "classes": [
            "python"
          ],
          "id": ""
        }
      }
    },
    {
      "id": "cell-36",
      "source": "<blockquote class=\"question\" style=\"border: 2px solid #8A9AD0; margin: 1em 0.2em\">\n<h3 id=\"-icon-question--question-selecting-and-stacking-arrays\">❓ Question: Selecting and stacking arrays</h3>\n<p>Write some additional code that slices the first and last columns of A, and stacks them into a 3x2 array. Make sure to print the results to verify your solution.</p>\n<blockquote class=\"solution\" style=\"border: 2px solid #B8C3EA;color: white; margin: 1em 0.2em\">\n<div style=\"color: #555; font-size: 95%;\">Hint: Select the text with your mouse to see the answer</div><h3 id=\"-icon-solution--solution\">👁 Solution</h3>\n<p>A ‘gotcha’ with array indexing is that singleton dimensions are dropped by default. That means <code>A[:, 0]</code> is a one dimensional array, which won’t stack as desired. To preserve singleton dimensions, the index itself can be a slice or array. For example, <code>A[:, :1]</code> returns a two dimensional array with one singleton dimension (i.e. a column vector).</p>\n<div class=\"language-plaintext highlighter-rouge\"><div><pre style=\"color: inherit; background: white\"><code>D = np.hstack((A[:, :1], A[:, -1:]))\nprint('D = ')\nprint(D)\n</code></pre></div>    </div>\n</blockquote>\n</blockquote>\n<blockquote class=\"question\" style=\"border: 2px solid #8A9AD0; margin: 1em 0.2em\">\n<h3 id=\"-icon-question--question-selecting-with-conditionals\">❓ Question: Selecting with conditionals</h3>\n<p>Given the followind array <code>A</code>, keep only the elements that are lower that <code>0.05</code>.</p>\n<div class=\"language-plaintext highlighter-rouge\"><div><pre style=\"color: inherit; background: white\"><code>A = np.array([0.81, 0.025, 0.15, 0.67, 0.01])\n</code></pre></div>  </div>\n<blockquote class=\"solution\" style=\"border: 2px solid #B8C3EA;color: white; margin: 1em 0.2em\">\n<h3 id=\"-icon-solution--solution-1\">👁 Solution</h3>\n<div class=\"language-plaintext highlighter-rouge\"><div><pre style=\"color: inherit; background: white\"><code>A = A[A&lt;0.05]\n</code></pre></div>    </div>\n</blockquote>\n</blockquote>\n<h1 id=\"use-pandas-to-work-with-dataframes\">Use pandas to work with dataframes</h1>\n<p>Pandas (<span class=\"citation\"><a href=\"#reback2020pandas\">pandas development team 2020</a></span>, <span class=\"citation\"><a href=\"#mckinney-proc-scipy-2010\">Wes McKinney 2010 </a></span>) is a widely-used Python library for statistics, particularly on tabular data. If you are familiar with R dataframes, then this is the library that integrates this functionality. A dataframe is a 2-dimensional table with indexes and column names. The indexes indicate the difference in rows, while the column names indicate the difference in columns. You will see later that these two features are useful when you’re manipulating your data. Each column can contain different data types.</p>\n<p>Load it with import pandas as <code>pd</code>. The alias <code>pd</code> is commonly used for pandas.</p>\n",
      "cell_type": "markdown",
      "metadata": {
        "editable": false,
        "collapsed": false
      }
    },
    {
      "id": "cell-37",
      "source": [
        "import pandas as pd"
      ],
      "cell_type": "code",
      "execution_count": null,
      "outputs": [

      ],
      "metadata": {
        "attributes": {
          "classes": [
            "python"
          ],
          "id": ""
        }
      }
    },
    {
      "id": "cell-38",
      "source": "<p>There are many ways to create a pandas dataframe. For example you can use a numpy array as input.</p>\n",
      "cell_type": "markdown",
      "metadata": {
        "editable": false,
        "collapsed": false
      }
    },
    {
      "id": "cell-39",
      "source": [
        "data = np.array([['','Col1','Col2'],\n",
        "['Row1',1,2],\n",
        "['Row2',3,4]])\n",
        "\n",
        "print(pd.DataFrame(data=data[1:,1:],\n",
        "index=data[1:,0],\n",
        "columns=data[0,1:]))"
      ],
      "cell_type": "code",
      "execution_count": null,
      "outputs": [

      ],
      "metadata": {
        "attributes": {
          "classes": [
            "python"
          ],
          "id": ""
        }
      }
    },
    {
      "id": "cell-40",
      "source": "<p>For the purposes of this tutorial, we will use a file with the annotated differentially expressed genes that was produced in the <a href=\"/training-material/topics/transcriptomics/tutorials/ref-based/tutorial.html\">Reference-based RNA-Seq data analysis</a> tutorial</p>\n<p>We can read a tabular file with <code>pd.read_csv</code>. The first argument is the filepath of the file to be read. The <code>sep</code> argument refers to the symbol used to separate the data into different columns. You can check the rest of the arguments using the <code>help()</code> function.</p>\n",
      "cell_type": "markdown",
      "metadata": {
        "editable": false,
        "collapsed": false
      }
    },
    {
      "id": "cell-41",
      "source": [
        "data = pd.read_csv(\"https://zenodo.org/record/3477564/files/annotatedDEgenes.tabular\", sep = \"\\t\")\n",
        "print(data)"
      ],
      "cell_type": "code",
      "execution_count": null,
      "outputs": [

      ],
      "metadata": {
        "attributes": {
          "classes": [
            "python"
          ],
          "id": ""
        }
      }
    },
    {
      "id": "cell-42",
      "source": "<p>The columns in a dataframe are the observed variables, and the rows are the observations. Pandas uses backslash <code>\\</code> to show wrapped lines when output is too wide to fit the screen.</p>\n<h2 id=\"explore-the-data\">Explore the data</h2>\n<p>You can use <code>index_col</code> to specify that a column’s values should be used as row headings.</p>\n<p>By default row indexes are numbers, but we could use a column of the data. To pass the name of the column to <code>read_csv</code>, you can use its <code>index_col</code> parameter. Be careful though, because the row indexes must be unique for each row.</p>\n",
      "cell_type": "markdown",
      "metadata": {
        "editable": false,
        "collapsed": false
      }
    },
    {
      "id": "cell-43",
      "source": [
        "data = pd.read_csv(\"https://zenodo.org/record/3477564/files/annotatedDEgenes.tabular\", sep = \"\\t\", index_col = 'GeneID')\n",
        "print(data)"
      ],
      "cell_type": "code",
      "execution_count": null,
      "outputs": [

      ],
      "metadata": {
        "attributes": {
          "classes": [
            "python"
          ],
          "id": ""
        }
      }
    },
    {
      "id": "cell-44",
      "source": "<p>You can use the <code>DataFrame.info()</code> method to find out more about a dataframe.</p>\n",
      "cell_type": "markdown",
      "metadata": {
        "editable": false,
        "collapsed": false
      }
    },
    {
      "id": "cell-45",
      "source": [
        "data.info()"
      ],
      "cell_type": "code",
      "execution_count": null,
      "outputs": [

      ],
      "metadata": {
        "attributes": {
          "classes": [
            "python"
          ],
          "id": ""
        }
      }
    },
    {
      "id": "cell-46",
      "source": "<p>We learn that this is a DataFrame. It consists of 130 rows and 12 columns. None of the columns contains any missing values. 6 columns contain 64-bit floating point <code>float64</code> values, 2 contain 64-bit integer <code>int64</code> values and 4 contain character <code>object</code> values. It uses 13.2KB of memory.</p>\n<p>The <code>DataFrame.columns</code> variable stores information about the dataframe’s columns.</p>\n<p>Note that this is an attribute, not a method. (It doesn’t have parentheses.) Called a member variable, or just member.</p>\n",
      "cell_type": "markdown",
      "metadata": {
        "editable": false,
        "collapsed": false
      }
    },
    {
      "id": "cell-47",
      "source": [
        "print(data.columns)"
      ],
      "cell_type": "code",
      "execution_count": null,
      "outputs": [

      ],
      "metadata": {
        "attributes": {
          "classes": [
            "python"
          ],
          "id": ""
        }
      }
    },
    {
      "id": "cell-48",
      "source": "<p>You could use <code>DataFrame.T</code> to transpose a dataframe. The <code>Transpose</code> (written <code>.T</code>) doesn’t copy the data, just changes the program’s view of it. Like columns, it is a member variable.</p>\n",
      "cell_type": "markdown",
      "metadata": {
        "editable": false,
        "collapsed": false
      }
    },
    {
      "id": "cell-49",
      "source": [
        "print(data.T)"
      ],
      "cell_type": "code",
      "execution_count": null,
      "outputs": [

      ],
      "metadata": {
        "attributes": {
          "classes": [
            "python"
          ],
          "id": ""
        }
      }
    },
    {
      "id": "cell-50",
      "source": "<p>You can use <code>DataFrame.describe()</code> to get summary statistics about the data. <code>DataFrame.describe()</code> returns the summary statistics of only the columns that have numerical data.  All other columns are ignored, unless you use the argument <code>include='all'</code>. Depending on the data type of each column, the statistics that can’t be calculated are replaced with  the value <code>NaN</code>.</p>\n",
      "cell_type": "markdown",
      "metadata": {
        "editable": false,
        "collapsed": false
      }
    },
    {
      "id": "cell-51",
      "source": [
        "print(data.describe(include='all'))"
      ],
      "cell_type": "code",
      "execution_count": null,
      "outputs": [

      ],
      "metadata": {
        "attributes": {
          "classes": [
            "python"
          ],
          "id": ""
        }
      }
    },
    {
      "id": "cell-52",
      "source": "<blockquote class=\"question\" style=\"border: 2px solid #8A9AD0; margin: 1em 0.2em\">\n<h3 id=\"-icon-question--question-using-pdhead-and-pdtail\">❓ Question: Using pd.head and pd.tail</h3>\n<p>After reading the data, use <code>help(data.head)</code> and <code>help(data.tail)</code> to find out what <code>DataFrame.head</code> and <code>DataFrame.tail</code> do.\n\ta. What method call will display the first three rows of the data?\n\tb. What method call will display the last three columns of this data? (Hint: you may need to change your view of the data.)</p>\n<blockquote class=\"solution\" style=\"border: 2px solid #B8C3EA;color: white; margin: 1em 0.2em\">\n<div style=\"color: #555; font-size: 95%;\">Hint: Select the text with your mouse to see the answer</div><h3 id=\"-icon-solution--solution\">👁 Solution</h3>\n<p>a. We can check out the first five rows of the data by executing <code>data.head()</code> (allowing us to view the head of the DataFrame). We can specify the number of rows we wish to see by specifying the parameter <code>n</code> in our call to <code>data.head()</code>. To view the first three rows, execute:</p>\n<div class=\"language-plaintext highlighter-rouge\"><div><pre style=\"color: inherit; background: white\"><code>data.head(n=3)\n</code></pre></div>    </div>\n<table>\n<thead>\n<tr>\n<th> </th>\n<th>Base mean</th>\n<th>log2(FC)</th>\n<th>StdErr</th>\n<th>Wald-Stats</th>\n<th>P-value</th>\n<th>P-adj</th>\n<th>Chromosome</th>\n<th>Start</th>\n<th>End</th>\n<th>Strand</th>\n<th>Feature</th>\n<th>Gene name</th>\n<th>GeneID</th>\n</tr>\n</thead>\n<tbody>\n<tr>\n<td>FBgn0039155</td>\n<td>1086.974295</td>\n<td>-4.148450</td>\n<td>0.134949</td>\n<td>-30.740913</td>\n<td>1.617357e-207</td>\n<td>1.387207e-203</td>\n<td>chr3R</td>\n<td>24141394</td>\n<td>24147490</td>\n<td>+</td>\n<td>protein_coding</td>\n<td>Kal1</td>\n<td> </td>\n</tr>\n<tr>\n<td>FBgn0003360</td>\n<td>6409.577128</td>\n<td>-2.999777</td>\n<td>0.104345</td>\n<td>-28.748637</td>\n<td>9.419922e-182</td>\n<td>4.039734e-178</td>\n<td>chrX</td>\n<td>10780892</td>\n<td>10786958</td>\n<td>-</td>\n<td>protein_coding</td>\n<td>sesB</td>\n<td> </td>\n</tr>\n<tr>\n<td>FBgn0026562</td>\n<td>65114.840564</td>\n<td>-2.380164</td>\n<td>0.084327</td>\n<td>-28.225437</td>\n<td>2.850430e-175</td>\n<td>8.149380e-172</td>\n<td>chr3R</td>\n<td>26869237</td>\n<td>26871995</td>\n<td>-</td>\n<td>protein_coding</td>\n<td>BM-40-SPARC</td>\n<td> </td>\n</tr>\n</tbody>\n</table>\n<p>b. To check out the last three rows, we would use the command, <code>data.tail(n=3)</code>, analogous to <code>head()</code> used above. However, here we want to look \tat the last three columns so we need to change our view and then use <code>tail()</code>. To do so, we create a new DataFrame in which rows and columns are \tswitched:</p>\n<div class=\"language-plaintext highlighter-rouge\"><div><pre style=\"color: inherit; background: white\"><code>data_flipped = data.T\n</code></pre></div>    </div>\n<p>We can then view the last three columns of the data by viewing the last three rows of data_flipped:</p>\n<div class=\"language-plaintext highlighter-rouge\"><div><pre style=\"color: inherit; background: white\"><code>data_flipped.tail(n=3)\n</code></pre></div>    </div>\n<p>| GeneID | FBgn0039155 | FBgn0003360 | FBgn0026562 | FBgn0025111 | FBgn0029167 | FBgn0039827 | FBgn0035085 | FBgn0034736 | FBgn0264475 | FBgn0000071 | … | FBgn0264343 | FBgn0038237 | FBgn0020376 | FBgn0028939 | FBgn0036560 | FBgn0035710 | FBgn0035523 | FBgn0038261 | FBgn0039178 | FBgn0034636 |\n| —- | —- | —- | —- | —- | —- | —- | —- | —- | —- | —- | —- | —- | —- | —- | —- | —- | —- | —- | —- | —- | —- |\n| Strand | + | - | - | - | + | + | + | + | + | + | … | + | - | + | + | + | - | + | + | + | - |\n| Feature | protein_coding | protein_coding | protein_coding | protein_coding | protein_coding | protein_coding | protein_coding | protein_coding | lincRNA | protein_coding | … | protein_coding | protein_coding | protein_coding | protein_coding | protein_coding | protein_coding | protein_coding | protein_coding | protein_coding | protein_coding |\n| Gene name | Kal1 | sesB | BM-40-SPARC | Ant2 | Hml | CG1544 | CG3770 | CG6018 | CR43883 | Ama | … | CG43799 | Pde6 | Sr-CIII | NimC2 | CG5895 | SP1173 | CG1311 | CG14856 | CG6356 | CG10440 |</p>\n</blockquote>\n</blockquote>\n<blockquote class=\"question\" style=\"border: 2px solid #8A9AD0; margin: 1em 0.2em\">\n<h3 id=\"-icon-question--question-saving-in-a-csv-file\">❓ Question: Saving in a csv file</h3>\n<p>As well as the <code>read_csv</code> function for reading data from a file, Pandas provides a <code>to_csv</code> function to write dataframes to files. Applying what you’ve learned about reading from files, write one of your dataframes to a file called <code>processed.csv</code>. You can use <code>help</code> to get information on how to use <code>to_csv</code>.</p>\n<blockquote class=\"solution\" style=\"border: 2px solid #B8C3EA;color: white; margin: 1em 0.2em\">\n<h3 id=\"-icon-solution--solution-1\">👁 Solution</h3>\n<div class=\"language-plaintext highlighter-rouge\"><div><pre style=\"color: inherit; background: white\"><code>data_flipped.to_csv('processed.csv')\n</code></pre></div>    </div>\n</blockquote>\n</blockquote>\n<ul>\n<li>Note about Pandas DataFrames/Series</li>\n</ul>\n<p>A <a href=\"https://pandas.pydata.org/pandas-docs/stable/reference/api/pandas.DataFrame.html\">DataFrame</a> is a collection of <a href=\"https://pandas.pydata.org/pandas-docs/stable/reference/api/pandas.Series.html\">Series</a>; The DataFrame is the way Pandas represents a table, and Series is the data-structure Pandas use to represent a column.</p>\n<p>Pandas is built on top of the Numpy library, which in practice means that most of the methods defined for Numpy Arrays apply to Pandas Series/DataFrames.</p>\n<p>What makes Pandas so attractive is the powerful interface to access individual records of the table, proper handling of missing values, and relational-databases operations between DataFrames.</p>\n<h2 id=\"select-data\">Select data</h2>\n<p>To access a value at the position <code>[i,j]</code> of a DataFrame, we have two options, depending on what is the meaning of i in use. Remember that a DataFrame provides an index as a way to identify the rows of the table; a row, then, has a position inside the table as well as a label, which uniquely identifies its entry in the DataFrame.</p>\n<p>You can use <code>DataFrame.iloc[..., ...]</code> to select values by their (entry) position and basically specify location by numerical index analogously to 2D version of character selection in strings.</p>\n",
      "cell_type": "markdown",
      "metadata": {
        "editable": false,
        "collapsed": false
      }
    },
    {
      "id": "cell-53",
      "source": [
        "print(data.iloc[0, 0])"
      ],
      "cell_type": "code",
      "execution_count": null,
      "outputs": [

      ],
      "metadata": {
        "attributes": {
          "classes": [
            "python"
          ],
          "id": ""
        }
      }
    },
    {
      "id": "cell-54",
      "source": "<p>You can also use <code>DataFrame.loc[..., ...]</code> to select values by their (entry) label and basically specify location by row name analogously to 2D version of dictionary keys.</p>\n",
      "cell_type": "markdown",
      "metadata": {
        "editable": false,
        "collapsed": false
      }
    },
    {
      "id": "cell-55",
      "source": [
        "print(data.loc[\"FBgn0039155\", \"Base mean\"])"
      ],
      "cell_type": "code",
      "execution_count": null,
      "outputs": [

      ],
      "metadata": {
        "attributes": {
          "classes": [
            "python"
          ],
          "id": ""
        }
      }
    },
    {
      "id": "cell-56",
      "source": "<p>You can use Python’s usual slicing notation, to select all or a subset of rows and/or columns. For example, the following code selects all the columns of the row <code>\"FBgn0039155\"</code>.</p>\n",
      "cell_type": "markdown",
      "metadata": {
        "editable": false,
        "collapsed": false
      }
    },
    {
      "id": "cell-57",
      "source": [
        "print(data.loc[\"FBgn0039155\", :])"
      ],
      "cell_type": "code",
      "execution_count": null,
      "outputs": [

      ],
      "metadata": {
        "attributes": {
          "classes": [
            "python"
          ],
          "id": ""
        }
      }
    },
    {
      "id": "cell-58",
      "source": "<p>Which would get the same result as printing <code>data.loc[\"FBgn0039155\"]</code> (without a second index).</p>\n<p>You can select multiple columns or rows using <code>DataFrame.loc</code> and a named slice or <code>Dataframe.iloc</code> and the numbers corresponding to the rows and columns.</p>\n",
      "cell_type": "markdown",
      "metadata": {
        "editable": false,
        "collapsed": false
      }
    },
    {
      "id": "cell-59",
      "source": [
        "print(data.loc['FBgn0003360':'FBgn0029167', 'Base mean':'Wald-Stats'])\n",
        "print(data.iloc[1:4 , 0:3])"
      ],
      "cell_type": "code",
      "execution_count": null,
      "outputs": [

      ],
      "metadata": {
        "attributes": {
          "classes": [
            "python"
          ],
          "id": ""
        }
      }
    },
    {
      "id": "cell-60",
      "source": "<ul>\n<li>Note the difference between the 2 outputs.</li>\n</ul>\n<p>When choosing or transitioning between <code>loc</code> and <code>iloc</code>, you should keep in mind that the two methods use slightly different indexing schemes.</p>\n<p><code>iloc</code> uses the Python stdlib indexing scheme, where the first element of the range is included and the last one excluded. So <code>0:10</code> will select entries <code>0,...,9</code>. <code>loc</code>, meanwhile, indexes inclusively. So <code>0:10</code> will select entries <code>0,...,10</code>.</p>\n<p>This is particularly confusing when the DataFrame index is a simple numerical list, e.g. <code>0,...,1000</code>. In this case <code>df.iloc[0:1000]</code> will return 1000 entries, while <code>df.loc[0:1000]</code> return 1001 of them! To get 1000 elements using <code>loc</code>, you will need to go one lower and ask for <code>df.loc[0:999]</code>.</p>\n<p>The result of slicing is a new dataframe and can be used in further operations. All the statistical operators that work on entire dataframes work the same way on slices. E.g., calculate max of a slice.</p>\n",
      "cell_type": "markdown",
      "metadata": {
        "editable": false,
        "collapsed": false
      }
    },
    {
      "id": "cell-61",
      "source": [
        "print(data.loc['FBgn0003360':'FBgn0029167', 'Base mean'].max())"
      ],
      "cell_type": "code",
      "execution_count": null,
      "outputs": [

      ],
      "metadata": {
        "attributes": {
          "classes": [
            "python"
          ],
          "id": ""
        }
      }
    },
    {
      "id": "cell-62",
      "source": "<h2 id=\"use-conditionals-to-select-data\">Use conditionals to select data</h2>\n<p>You can use conditionals to select data. A comparison is applied element by element and returns a similarly-shaped dataframe of <code>True</code> and <code>False</code>. The last one can be used as a mask to subset the original dataframe. The following example creates a new dataframe consisting only of the columns ‘P-adj’ and ‘Gene name’, then keeps the rows that comply with the expression <code class=\"language-plaintext highlighter-rouge\">'P-adj' &lt; 0.000005</code></p>\n",
      "cell_type": "markdown",
      "metadata": {
        "editable": false,
        "collapsed": false
      }
    },
    {
      "id": "cell-63",
      "source": [
        "subset = data.loc[:, ['P-adj', 'Gene name']]\n",
        "print(subset)"
      ],
      "cell_type": "code",
      "execution_count": null,
      "outputs": [

      ],
      "metadata": {
        "attributes": {
          "classes": [
            "python"
          ],
          "id": ""
        }
      }
    },
    {
      "id": "cell-64",
      "source": "\n",
      "cell_type": "markdown",
      "metadata": {
        "editable": false,
        "collapsed": false
      }
    },
    {
      "id": "cell-65",
      "source": [
        "mask = subset.loc[:, 'P-adj'] < 0.000005\n",
        "new_data = subset[mask]\n",
        "print(new_data)"
      ],
      "cell_type": "code",
      "execution_count": null,
      "outputs": [

      ],
      "metadata": {
        "attributes": {
          "classes": [
            "python"
          ],
          "id": ""
        }
      }
    },
    {
      "id": "cell-66",
      "source": "<p>If we have not had specified the column, that the expression should be applied to, then it would have been applied to the entire dataframe. But the dataframe contains different type of data. In that case, an error would occur.</p>\n<p>Consider the following example of a dataframe consisting only of numerical data. The expression and the mask would be normally applied to the data and the mask would return <code>NaN</code> for the data that don’t comply with the expression.</p>\n",
      "cell_type": "markdown",
      "metadata": {
        "editable": false,
        "collapsed": false
      }
    },
    {
      "id": "cell-67",
      "source": [
        "subset = data.loc[:, ['StdErr',\t'Wald-Stats', 'P-value', 'P-adj']]\n",
        "mask = subset < 0.05\n",
        "new_data = subset[mask]\n",
        "print(new_data)"
      ],
      "cell_type": "code",
      "execution_count": null,
      "outputs": [

      ],
      "metadata": {
        "attributes": {
          "classes": [
            "python"
          ],
          "id": ""
        }
      }
    },
    {
      "id": "cell-68",
      "source": "<p>This is very useful because NaNs are ignored by operations like max, min, average, etc.</p>\n",
      "cell_type": "markdown",
      "metadata": {
        "editable": false,
        "collapsed": false
      }
    },
    {
      "id": "cell-69",
      "source": [
        "print(new_data.describe())"
      ],
      "cell_type": "code",
      "execution_count": null,
      "outputs": [

      ],
      "metadata": {
        "attributes": {
          "classes": [
            "python"
          ],
          "id": ""
        }
      }
    },
    {
      "id": "cell-70",
      "source": "<blockquote class=\"question\" style=\"border: 2px solid #8A9AD0; margin: 1em 0.2em\">\n<h3 id=\"-icon-question--question-manipulating-dataframes\">❓ Question: Manipulating dataframes</h3>\n<p>Explain what each line in the following short program does: what is in first, second, etc.?</p>\n<div class=\"language-plaintext highlighter-rouge\"><div><pre style=\"color: inherit; background: white\"><code>first = pd.read_csv(\"https://zenodo.org/record/3477564/files/annotatedDEgenes.tabular\", sep = \"\\t\", index_col = 'GeneID')\nsecond = first[first['log2(FC)'] &gt; 0 ]\nthird = second.drop('FBgn0025111')\nfourth = third.drop('StdErr', axis = 1)\nfourth.to_csv('result.csv')\n</code></pre></div>  </div>\n<blockquote class=\"solution\" style=\"border: 2px solid #B8C3EA;color: white; margin: 1em 0.2em\">\n<div style=\"color: #555; font-size: 95%;\">Hint: Select the text with your mouse to see the answer</div><h3 id=\"-icon-solution--solution\">👁 Solution</h3>\n<p>Let’s go through this piece of code line by line.</p>\n<div class=\"language-plaintext highlighter-rouge\"><div><pre style=\"color: inherit; background: white\"><code>first = pd.read_csv(\"https://zenodo.org/record/3477564/files/annotatedDEgenes.tabular\", sep = \"\\t\", index_col = 'GeneID')\n</code></pre></div>    </div>\n<p>This line loads the data into a dataframe called first. The <code>index_col='GeneID'</code> parameter selects which column to use as the row labels in the dataframe.</p>\n<div class=\"language-plaintext highlighter-rouge\"><div><pre style=\"color: inherit; background: white\"><code>second = first[first['log2(FC)'] &gt; 0 ]\n</code></pre></div>    </div>\n<p>This line makes a selection: only those rows of first for which the ‘log2(FC)’ column contains a positive value are extracted. Notice how the Boolean expression inside the brackets is used to select only those rows where the expression is true.</p>\n<div class=\"language-plaintext highlighter-rouge\"><div><pre style=\"color: inherit; background: white\"><code>third = second.drop('FBgn0025111')\n</code></pre></div>    </div>\n<p>As the syntax suggests, this line drops the row from second where the label is ‘FBgn0025111’. The resulting dataframe third has one row less than the original dataframe second.</p>\n<div class=\"language-plaintext highlighter-rouge\"><div><pre style=\"color: inherit; background: white\"><code>fourth = third.drop('StdErr', axis = 1)\n</code></pre></div>    </div>\n<p>Again we apply the drop function, but in this case we are dropping not a row but a whole column. To accomplish this, we need to specify also the axis parameter.</p>\n<div class=\"language-plaintext highlighter-rouge\"><div><pre style=\"color: inherit; background: white\"><code>fourth.to_csv('result.csv')\n</code></pre></div>    </div>\n<p>The final step is to write the data that we have been working on to a csv file. Pandas makes this easy with the <code>to_csv()</code> function. The only required argument to the function is the filename. Note that the file will be written in the directory from which you started the Jupyter or Python session.</p>\n</blockquote>\n</blockquote>\n<blockquote class=\"question\" style=\"border: 2px solid #8A9AD0; margin: 1em 0.2em\">\n<h3 id=\"-icon-question--question-finding-min-max-indexes\">❓ Question: Finding min-max indexes</h3>\n<p>Explain in simple terms what <code>idxmin</code> and <code>idxmax</code> do in the short program below. When would you use these methods?</p>\n<div class=\"language-plaintext highlighter-rouge\"><div><pre style=\"color: inherit; background: white\"><code>data = pd.read_csv(\"https://zenodo.org/record/3477564/files/annotatedDEgenes.tabular\", sep = \"\\t\", index_col = 'GeneID')\n\nprint(data['Base mean'].idxmin())\nprint(data['Base mean'].idxmax())\n</code></pre></div>  </div>\n<blockquote class=\"solution\" style=\"border: 2px solid #B8C3EA;color: white; margin: 1em 0.2em\">\n<h3 id=\"-icon-solution--solution-1\">👁 Solution</h3>\n<p><code>idxmin</code> will return the index value corresponding to the minimum; idxmax will do the same for the maximum value.</p>\n<p>You can use these functions whenever you want to get the row index of the minimum/maximum value and not the actual minimum/maximum value.</p>\n<p>Output:\nFBgn0063667\nFBgn0026562</p>\n</blockquote>\n</blockquote>\n<blockquote class=\"question\" style=\"border: 2px solid #8A9AD0; margin: 1em 0.2em\">\n<h3 id=\"-icon-question--question-selecting-with-conditionals\">❓ Question: Selecting with conditionals</h3>\n<p>Assume Pandas has been imported and the previous dataset has been loaded. Write an expression to select each of the following:\na. P-value of each gene\nb. all the information of gene <code>FBgn0039178</code>\nc. the information of all genes that belong to chromosome <code>chr3R</code></p>\n<blockquote class=\"solution\" style=\"border: 2px solid #B8C3EA;color: white; margin: 1em 0.2em\">\n<h3 id=\"-icon-solution--solution-2\">👁 Solution</h3>\n<p>a. <code class=\"language-plaintext highlighter-rouge\">data['P-value']</code>\nb.<code class=\"language-plaintext highlighter-rouge\">data.loc['FBgn0039178', :]</code>\nc. <code class=\"language-plaintext highlighter-rouge\">data[data['Chromosome'] == 'chr3R']</code></p>\n</blockquote>\n</blockquote>\n<h2 id=\"group-by-and-analyze-the-data\">Group-by and analyze the data</h2>\n<p>Many data analysis tasks can be approached using the “split-apply-combine” paradigm: split the data into groups, apply some analysis to each group, and then combine the results.</p>\n<p>Pandas makes this very easy through the use of the <code>groupby()</code> method, which splits the data into groups. When the data is grouped in this way, the aggregate method <code>agg()</code> can be used to apply an aggregating or summary function to each group.</p>\n",
      "cell_type": "markdown",
      "metadata": {
        "editable": false,
        "collapsed": false
      }
    },
    {
      "id": "cell-71",
      "source": [
        "summarised_data = data.groupby('Chromosome').agg({'Base mean':'first',\n",
        "'log2(FC)': 'max'})\n",
        "print(summarised_data)"
      ],
      "cell_type": "code",
      "execution_count": null,
      "outputs": [

      ],
      "metadata": {
        "attributes": {
          "classes": [
            "python"
          ],
          "id": ""
        }
      }
    },
    {
      "id": "cell-72",
      "source": "<p>There are a couple of things that should be noted. The <code>agg()</code> method accepts a dictionary as input that specifies the function to be applied to each column. The output is a new dataframe, that each row corresponds to one group. The output dataframe uses the grouping column as index. We could change the last one by simply using the <code>reset_index()</code> method.</p>\n",
      "cell_type": "markdown",
      "metadata": {
        "editable": false,
        "collapsed": false
      }
    },
    {
      "id": "cell-73",
      "source": [
        "summarised_data = data.groupby('Chromosome').agg({'Base mean':'first',\n",
        "'log2(FC)': 'max'}).reset_index()\n",
        "print(summarised_data)"
      ],
      "cell_type": "code",
      "execution_count": null,
      "outputs": [

      ],
      "metadata": {
        "attributes": {
          "classes": [
            "python"
          ],
          "id": ""
        }
      }
    },
    {
      "id": "cell-74",
      "source": "<blockquote>\n<h3 id=\"-icon-question--question-finding-the-max-of-each-group\">❓ Question: Finding the max of each group</h3>\n<p>Using the same dataset, try to find the longest genes in each chromosome.</p>\n<blockquote>\n<div style=\"color: #555; font-size: 95%;\">Hint: Select the text with your mouse to see the answer</div><h3 id=\"-icon-solution--solution\">👁 Solution</h3>\n<div class=\"language-plaintext highlighter-rouge\"><div><pre style=\"color: inherit; background: white\"><code>data['Gene Length'] = data['End'] - data['Start']\ndata.groupby('Chromosome').agg(max_length = ('Gene Length', 'max'))\n</code></pre></div>    </div>\n</blockquote>\n</blockquote>\n<blockquote class=\"question\" style=\"border: 2px solid #8A9AD0; margin: 1em 0.2em\">\n<h3 id=\"-icon-question--question-grouping-with-multiple-variables\">❓ Question: Grouping with multiple variables</h3>\n<p>Using the same dataset, try to find how many genes are found on each strand of each chromosome.</p>\n<blockquote class=\"solution\" style=\"border: 2px solid #B8C3EA;color: white; margin: 1em 0.2em\">\n<h3 id=\"-icon-solution--solution-1\">👁 Solution</h3>\n<p>You can group the data according to more than one column.</p>\n<div class=\"language-plaintext highlighter-rouge\"><div><pre style=\"color: inherit; background: white\"><code>data.groupby(['Chromosome', 'Strand']).size()\n</code></pre></div>    </div>\n</blockquote>\n</blockquote>\n<h1 id=\"conclusion\">Conclusion</h1>\n<p>This tutorial aims to serve as an introduction to data analysis using the Python programming language. We hope you feel more confident in Python!</p>\n",
      "cell_type": "markdown",
      "metadata": {
        "editable": false,
        "collapsed": false
      }
    },
    {
      "cell_type": "markdown",
      "id": "final-ending-cell",
      "metadata": {
        "editable": false,
        "collapsed": false
      },
      "source": [
        "# Key Points\n\n",
        "- Python has many libraries offering a variety of capabilities, which makes it popular for beginners, as well as, more experienced users\n",
        "- You can use scientific libraries like Numpy and Pandas to perform data analysis.\n",
        "\n# Congratulations on successfully completing this tutorial!\n\n",
        "Please [fill out the feedback on the GTN website](https://training.galaxyproject.org/training-material/topics/data-science/tutorials/python-advanced-np-pd/tutorial.html#feedback) and check there for further resources!\n"
      ]
    }
  ]
}