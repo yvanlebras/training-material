{
  "metadata": {
  },
  "nbformat": 4,
  "nbformat_minor": 5,
  "cells": [
    {
      "id": "metadata",
      "cell_type": "markdown",
      "source": "<div style=\"border: 2px solid #8A9AD0; margin: 1em 0.2em; padding: 0.5em;\">\n\n# Python - Functions\n\nby [The Carpentries](https://training.galaxyproject.org/hall-of-fame/carpentries/), [Helena Rasche](https://training.galaxyproject.org/hall-of-fame/hexylena/), [Donny Vrins](https://training.galaxyproject.org/hall-of-fame/dirowa/), [Bazante Sanders](https://training.galaxyproject.org/hall-of-fame/bazante1/)\n\nCC-BY licensed content from the [Galaxy Training Network](https://training.galaxyproject.org/)\n\n**Objectives**\n\n- How do I write functions in Python?\n- What is a function?\n- What do they look like?\n- Fill in the missing part of a function\n\n**Objectives**\n\n- Understand the structure of a \"function\" in order to be able to construct their own functions and predict which functions will not work.\n\n**Time Estimation: 30M**\n</div>\n",
      "metadata": {
        "editable": false,
        "collapsed": false
      }
    },
    {
      "id": "cell-0",
      "source": "<p>Functions are the basic unit of all work in Python! Absolutely everything you do uses functions. Conceptually, functions are super simple. Just like in maths, they take an input, do some transformation, and return an output. As an example, <code style=\"color: inherit\">f(x) = x + 2</code> is a function that calculates whatever value you request, plus two. But functions are foundational, so, you should understand them well before moving on.</p>\n<blockquote class=\"agenda\" style=\"border: 2px solid #86D486;display: none; margin: 1em 0.2em\">\n<div class=\"box-title agenda-title\" id=\"agenda\">Agenda</div>\n<p>In this tutorial, we will cover:</p>\n<ol id=\"markdown-toc\">\n<li><a href=\"#what-is-a-function\" id=\"markdown-toc-what-is-a-function\">What is a Function</a></li>\n<li><a href=\"#create-functions\" id=\"markdown-toc-create-functions\">Create Functions</a></li>\n</ol>\n</blockquote>\n<h2 id=\"what-is-a-function\">What is a Function</h2>\n<p>Functions are a way to re-use some computation you want to do, multiple times. If you don’t have a function, you need to re-write the calculation every time, so we use functions to collect those statements and make them easy to re-run. Additionally they let us “parameterise” some computation. Instead of computing the same value every time, we can template it out, we can re-run the computation with new inputs, and see new results.</p>\n<blockquote class=\"code-2col\">\n<blockquote class=\"code-in\" style=\"border: 2px solid #86D486; margin: 1em 0.2em\">\n<div class=\"box-title code-in-title\" id=\"code-in-math\"><i class=\"far fa-keyboard\" aria-hidden=\"true\" ></i> Input: Math</div>\n<div class=\"language-plaintext highlighter-rouge\"><div><pre style=\"color: inherit; background: transparent\"><code style=\"color: inherit\"># Define our function\nf(x) = 3 * x\n# Compute some value\nf(3) # is 9\n</code></pre></div>    </div>\n</blockquote>\n<blockquote class=\"code-out\" style=\"border: 2px solid #fb99d0; margin: 1em 0.2em\">\n<div class=\"box-title code-out-title\" id=\"code-out-python\"><i class=\"fas fa-laptop-code\" aria-hidden=\"true\" ></i> Output: Python</div>\n<div class=\"language-plaintext highlighter-rouge\"><div><pre style=\"color: inherit; background: transparent\"><code style=\"color: inherit\"># Define our function\ndef f(x):\n   return 3 * x\n# Compute some value\nf(3)\n</code></pre></div>    </div>\n</blockquote>\n</blockquote>\n<p>We’ve talked about mathematical functions before, but now we’ll talk about more programing-related functions</p>\n<h2 id=\"create-functions\">Create Functions</h2>\n<p>Human beings can only keep a few items in working memory at a time. Breaking down larger/more complicated pieces of code in functions helps in understanding and using it. A function can be re-used. Write one time, use many times. (Known as staying Don’t Repeat Yourself (DRY) in the industry.)</p>\n<p>Knowing what Americans mean when they talk about temperatures and weather can be difficult, but we can wrap the temperature conversion calculation (\\(^{\\circ}\\text{C} = (^{\\circ}\\text{F} - 32) * \\dfrac{5}{9}\\)) up as a function that we can easily re-use.</p>\n",
      "cell_type": "markdown",
      "metadata": {
        "editable": false,
        "collapsed": false
      }
    },
    {
      "id": "cell-1",
      "source": [
        "def fahr_to_celsius(temp):\n",
        "    return ((temp - 32) * (5/9))"
      ],
      "cell_type": "code",
      "execution_count": null,
      "outputs": [

      ],
      "metadata": {
        "attributes": {
          "classes": [
            ""
          ],
          "id": ""
        }
      }
    },
    {
      "id": "cell-2",
      "source": "<p><a href=\"../../images/python-basics/Figure7_Functions.png\" rel=\"noopener noreferrer\"><img src=\"data:image/png;base64,iVBORw0KGgoAAAANSUhEUgAAAVQAAACCCAYAAAAZgjAzAAAABmJLR0QA/wD/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\nDDpvgiAIgiAIgiAih/8HMx2y55Me/+oAAAAASUVORK5CYII=\n\"\" alt=\"The above function fahr to celsius is shown except annotated. def is labelled &quot;def statement&quot;, fahr_to_celsius is noted as the function name. Inside parentheses is temp and an arrow shows it is called parameter names. The next line which is indented is annotated as the function body which has a return statement and the calculation from above.\" width=\"340\" height=\"130\" loading=\"lazy\" /></a></p>\n<p>The function definition opens with the keyword <code style=\"color: inherit\">def</code> followed by the name of the function <code style=\"color: inherit\">fahr_to_celsius</code> and a parenthesized list of parameter names <code style=\"color: inherit\">temp</code>. The body of the function — the statements that are executed when it runs — is indented below the definition line. The body concludes with a <code style=\"color: inherit\">return</code> keyword followed by the return value.</p>\n<p>When we call the function, the values we pass to it are assigned to those variables so that we can use them inside the function. Inside the function, we use a return statement to send a result back to whoever asked for it.</p>\n<p>Let’s try running our function.</p>\n",
      "cell_type": "markdown",
      "metadata": {
        "editable": false,
        "collapsed": false
      }
    },
    {
      "id": "cell-3",
      "source": [
        "fahr_to_celsius(32)\n",
        "print(f\"freezing point of water: {fahr_to_celsius(32)}C\")\n",
        "print(f\"boiling point of water: {fahr_to_celsius(212)}C\")"
      ],
      "cell_type": "code",
      "execution_count": null,
      "outputs": [

      ],
      "metadata": {
        "attributes": {
          "classes": [
            ""
          ],
          "id": ""
        }
      }
    },
    {
      "id": "cell-4",
      "source": "<blockquote class=\"tip\" style=\"border: 2px solid #FFE19E; margin: 1em 0.2em\">\n<div class=\"box-title tip-title\" id=\"tip-formatting-strings\"><button class=\"gtn-boxify-button tip\" type=\"button\" aria-controls=\"tip-formatting-strings\" aria-expanded=\"true\"><i class=\"far fa-lightbulb\" aria-hidden=\"true\" ></i> Tip: Formatting Strings<span class=\"fold-unfold fa fa-minus-square\"></span></button></div>\n<p>There are several ways to print out a few values in python. We’d recommend you to use <code style=\"color: inherit\">f-strings</code> as it’s the cleanest and most modern way to do it.</p>\n<p><code style=\"color: inherit\">f</code>-strings start with an <code style=\"color: inherit\">f</code> (very descriptive name eh?). Within the text between the single or double quotes (<code class=\"language-plaintext highlighter-rouge\">'</code>/<code class=\"language-plaintext highlighter-rouge\">\"</code>) you can use curly braces to refer to variables or python code which will be placed there in the string.</p>\n<div class=\"language-plaintext highlighter-rouge\"><div><pre style=\"color: inherit; background: transparent\"><code style=\"color: inherit\">a = 10\nb = f\"Here is the value of a: {a}\"\nprint(b)\nprint(f\"Here is the value of a: {5 + 5}\")\nprint(f\"Here is the value of a: {function_that_returns_10()}\")\n</code></pre></div>  </div>\n<p>All of those would print out <code style=\"color: inherit\">Here is the value of a: 10</code>.</p>\n<p>f-strings can be a lot fancier for formatting decimal places, but we don’t need that for now. Just know:</p>\n<ol>\n<li>Start with an <code style=\"color: inherit\">f</code></li>\n<li>Use braces to use the value of a variable, a function, or some python expression.</li>\n</ol>\n</blockquote>\n<p>We’ve successfully called the function that we defined, and we have access to the value that we returned.</p>\n<p>Now that we’ve seen how to turn Fahrenheit into Celsius, we can also write the function to turn Celsius into Kelvin:</p>\n",
      "cell_type": "markdown",
      "metadata": {
        "editable": false,
        "collapsed": false
      }
    },
    {
      "id": "cell-5",
      "source": [
        "def celsius_to_kelvin(temp_c):\n",
        "    return temp_c + 273.15\n",
        "\n",
        "print(f'freezing point of water in Kelvin: {celsius_to_kelvin(0.)}')"
      ],
      "cell_type": "code",
      "execution_count": null,
      "outputs": [

      ],
      "metadata": {
        "attributes": {
          "classes": [
            ""
          ],
          "id": ""
        }
      }
    },
    {
      "id": "cell-6",
      "source": "<blockquote class=\"tip\" style=\"border: 2px solid #FFE19E; margin: 1em 0.2em\">\n<div class=\"box-title tip-title\" id=\"tip-what-is-code-style-quot-color-inherit-quot-0-code\"><button class=\"gtn-boxify-button tip\" type=\"button\" aria-controls=\"tip-what-is-code-style-quot-color-inherit-quot-0-code\" aria-expanded=\"true\"><i class=\"far fa-lightbulb\" aria-hidden=\"true\" ></i> Tip: What is <code style=&quot;color: inherit&quot;>0.</code><span class=\"fold-unfold fa fa-minus-square\"></span></button></div>\n<p>That’s a float! A <code style=\"color: inherit\">.</code> in a number makes it a float, rather than an integer.</p>\n</blockquote>\n<p>What about converting Fahrenheit to Kelvin? We could write out both formulae, but we don’t need to. Instead, we can <em>compose</em> the two functions we have already created:</p>\n",
      "cell_type": "markdown",
      "metadata": {
        "editable": false,
        "collapsed": false
      }
    },
    {
      "id": "cell-7",
      "source": [
        "def fahr_to_kelvin(temp_f):\n",
        "    temp_c = fahr_to_celsius(temp_f)\n",
        "    temp_k = celsius_to_kelvin(temp_c)\n",
        "    return temp_k\n",
        "\n",
        "print(f'boiling point of water in Kelvin: {fahr_to_kelvin(212.0)}')"
      ],
      "cell_type": "code",
      "execution_count": null,
      "outputs": [

      ],
      "metadata": {
        "attributes": {
          "classes": [
            ""
          ],
          "id": ""
        }
      }
    },
    {
      "id": "cell-8",
      "source": "<p>This is our first taste of how larger programs are built: we define basic operations, then combine them in ever-larger chunks to get the effect we want. Real-life functions will usually be larger than the ones shown here — typically half a dozen to a few dozen lines — but they shouldn’t ever be much longer than that, or the next person who reads it won’t be able to understand what’s going on.</p>\n<h3 id=\"documentation\">Documentation</h3>\n<p>Documenting your code is extremely, <em>extremely</em>, <strong>extremely</strong> important to do. We all forget what we’re doing, it’s only normal, so documenting what you’re doing is key to being able to restart work later.</p>\n",
      "cell_type": "markdown",
      "metadata": {
        "editable": false,
        "collapsed": false
      }
    },
    {
      "id": "cell-9",
      "source": [
        "def fahr_to_kelvin(temp_f):\n",
        "    \"\"\"\n",
        "    Converts a temperature from Fahrenheit to Kelvin\n",
        "\n",
        "    temp_f: the temperature in Fahrenheit\n",
        "\n",
        "    returns the temperature in Celsius\n",
        "    \"\"\"\n",
        "    temp_c = fahr_to_celsius(temp_f)\n",
        "    temp_k = celsius_to_kelvin(temp_c)\n",
        "    return temp_k\n",
        "\n",
        "print(f'boiling point of water in Kelvin: {fahr_to_kelvin(212.0)}')"
      ],
      "cell_type": "code",
      "execution_count": null,
      "outputs": [

      ],
      "metadata": {
        "attributes": {
          "classes": [
            ""
          ],
          "id": ""
        }
      }
    },
    {
      "id": "cell-10",
      "source": "<p>For a function this small, with such a descriptive name (<code class=\"language-plaintext highlighter-rouge\">fahr_to_kelvin</code>) it feels quite obvious what the function should do, what inputs it takes, what outputs it produces. However, you will thank yourself in the future if you do this now. You may think you will remember what the code does, but, be kind to your future self who is busy and stressed and may not want to spend time reading the code over again to figure out what every single function does.</p>\n<blockquote class=\"question\" style=\"border: 2px solid #8A9AD0; margin: 1em 0.2em\">\n<div class=\"box-title question-title\" id=\"question-converting-statements-to-functions\"><i class=\"far fa-question-circle\" aria-hidden=\"true\" ></i> Question: Converting statements to functions</div>\n<p>A lot of what you’ll do in programing is to turn a procedure that you want to do, into statements and a function.</p>\n<p>Fill in the missing portions of this function, two average numbers. Then use it to find the average of 32326 and 631</p>\n<br/><details style=\"border: 2px solid #B8C3EA; margin: 1em 0.2em;padding: 0.5em; cursor: pointer;\"><summary>👁 View solution</summary>\n<div class=\"box-title solution-title\" id=\"solution\"><button class=\"gtn-boxify-button solution\" type=\"button\" aria-controls=\"solution\" aria-expanded=\"true\"><i class=\"far fa-eye\" aria-hidden=\"true\" ></i> Solution<span class=\"fold-unfold fa fa-minus-square\"></span></button></div>\n<div class=\"language-plaintext highlighter-rouge\"><div><pre style=\"color: inherit; background: transparent\"><code style=\"color: inherit\">def average2(a, b):\n    c = (a + b) / 2\n    return c\n</code></pre></div>    </div>\n<p>We call it “average2” here because it will only average two numbers. It will not work for three numbers or a list of them.</p>\n</details>\n</blockquote>\n",
      "cell_type": "markdown",
      "metadata": {
        "editable": false,
        "collapsed": false
      }
    },
    {
      "id": "cell-11",
      "source": [
        "# Test out solutions here!\n",
        "def average2(a, b):\n",
        "    c =\n",
        "    return c\n",
        "\n",
        "print(average2(32326, 631))"
      ],
      "cell_type": "code",
      "execution_count": null,
      "outputs": [

      ],
      "metadata": {
        "attributes": {
          "classes": [
            ""
          ],
          "id": ""
        }
      }
    },
    {
      "id": "cell-12",
      "source": "<blockquote class=\"question\" style=\"border: 2px solid #8A9AD0; margin: 1em 0.2em\">\n<div class=\"box-title question-title\" id=\"question-a-more-complicated-example\"><i class=\"far fa-question-circle\" aria-hidden=\"true\" ></i> Question: A more complicated example</div>\n<p>The formula for a 90° triangle can be expressed as: \\(c = \\sqrt{a^2 + b^2}\\)</p>\n<ol>\n<li>Write a function which takes <code style=\"color: inherit\">a</code> and <code style=\"color: inherit\">b</code>, and calculates <code style=\"color: inherit\">c</code></li>\n<li>Name this function “pythagorus”</li>\n<li>Remember to import math, if you haven’t already</li>\n</ol>\n<br/><details style=\"border: 2px solid #B8C3EA; margin: 1em 0.2em;padding: 0.5em; cursor: pointer;\"><summary>👁 View solution</summary>\n<div class=\"box-title solution-title\" id=\"solution-1\"><button class=\"gtn-boxify-button solution\" type=\"button\" aria-controls=\"solution-1\" aria-expanded=\"true\"><i class=\"far fa-eye\" aria-hidden=\"true\" ></i> Solution<span class=\"fold-unfold fa fa-minus-square\"></span></button></div>\n<div class=\"language-plaintext highlighter-rouge\"><div><pre style=\"color: inherit; background: transparent\"><code style=\"color: inherit\">def pythagorus(a, b):\n    c = math.sqrt(math.pow(a, 2) + math.pow(b, 2))\n    return c\n</code></pre></div>    </div>\n</details>\n</blockquote>\n",
      "cell_type": "markdown",
      "metadata": {
        "editable": false,
        "collapsed": false
      }
    },
    {
      "id": "cell-13",
      "source": [
        "# Test out solutions here!\n",
        "\n",
        "\n",
        "print(pythagorus(1234, 4321)) # Should return 4493.750883170984"
      ],
      "cell_type": "code",
      "execution_count": null,
      "outputs": [

      ],
      "metadata": {
        "attributes": {
          "classes": [
            ""
          ],
          "id": ""
        }
      }
    },
    {
      "id": "cell-14",
      "source": "<h3 id=\"variable-scope\">Variable Scope</h3>\n<p>In composing our temperature conversion functions, we created variables inside of those functions, <code style=\"color: inherit\">temp</code>, <code style=\"color: inherit\">temp_c</code>, <code style=\"color: inherit\">temp_f</code>, and <code style=\"color: inherit\">temp_k</code>. We refer to these variables as local variables because they no longer exist once the function is done executing. If we try to access their values outside of the function, we will encounter an error:</p>\n",
      "cell_type": "markdown",
      "metadata": {
        "editable": false,
        "collapsed": false
      }
    },
    {
      "id": "cell-15",
      "source": [
        "print(f'Again, temperature in Kelvin was: {temp_k}')"
      ],
      "cell_type": "code",
      "execution_count": null,
      "outputs": [

      ],
      "metadata": {
        "attributes": {
          "classes": [
            ""
          ],
          "id": ""
        }
      }
    },
    {
      "id": "cell-16",
      "source": "<p>If you want to reuse the temperature in Kelvin after you have calculated it with fahr_to_kelvin, you can store the result of the function call in a variable:</p>\n",
      "cell_type": "markdown",
      "metadata": {
        "editable": false,
        "collapsed": false
      }
    },
    {
      "id": "cell-17",
      "source": [
        "temp_kelvin = fahr_to_kelvin(212.0)\n",
        "print(f'temperature in Kelvin was: {temp_kelvin}')"
      ],
      "cell_type": "code",
      "execution_count": null,
      "outputs": [

      ],
      "metadata": {
        "attributes": {
          "classes": [
            ""
          ],
          "id": ""
        }
      }
    },
    {
      "id": "cell-18",
      "source": "<p>Watch out for scope issues:</p>\n<ul>\n<li>Variables created inside a function will stay inside the function</li>\n<li>Variables created outside of the function can be accessible inside the function, but you should not do this!</li>\n<li>Ensure that variables are properly scoped will prevent later errors when working with modules or testing big projects.</li>\n</ul>\n",
      "cell_type": "markdown",
      "metadata": {
        "editable": false,
        "collapsed": false
      }
    },
    {
      "id": "cell-19",
      "source": [
        "a = 1\n",
        "b = 2.0\n",
        "\n",
        "# Location 1\n",
        "\n",
        "def some_generic_computation(x, y):\n",
        "    c = x + y\n",
        "    d = x * y\n",
        "    e = c / d\n",
        "    # Location 2\n",
        "    return e\n",
        "\n",
        "# Location 3"
      ],
      "cell_type": "code",
      "execution_count": null,
      "outputs": [

      ],
      "metadata": {
        "attributes": {
          "classes": [
            ""
          ],
          "id": ""
        }
      }
    },
    {
      "id": "cell-20",
      "source": "<blockquote class=\"question\" style=\"border: 2px solid #8A9AD0; margin: 1em 0.2em\">\n<div class=\"box-title question-title\" id=\"question-scope\"><i class=\"far fa-question-circle\" aria-hidden=\"true\" ></i> Question: Scope</div>\n<p>Given the above code, which variables are accessible at Locations 1, 2, and 3?</p>\n<br/><details style=\"border: 2px solid #B8C3EA; margin: 1em 0.2em;padding: 0.5em; cursor: pointer;\"><summary>👁 View solution</summary>\n<div class=\"box-title solution-title\" id=\"solution-2\"><button class=\"gtn-boxify-button solution\" type=\"button\" aria-controls=\"solution-2\" aria-expanded=\"true\"><i class=\"far fa-eye\" aria-hidden=\"true\" ></i> Solution<span class=\"fold-unfold fa fa-minus-square\"></span></button></div>\n<ol>\n<li>a, b</li>\n<li>a and b are there but you shouldn’t use these. x, y, c, d, e are also accessible.</li>\n<li>a, b.</li>\n</ol>\n</details>\n</blockquote>\n<h3 id=\"defining-default-parameters\">Defining Default parameters</h3>\n<p>If we usually want a function to work one way, but occasionally need it to do something else, we can allow people to pass a parameter when they need to but provide a default to make the normal case easier. The example below shows how Python matches values to parameters:</p>\n",
      "cell_type": "markdown",
      "metadata": {
        "editable": false,
        "collapsed": false
      }
    },
    {
      "id": "cell-21",
      "source": [
        "def display(a=1, b=2, c=3):\n",
        "    print(f'a: {a}, b: {b}, c: {c}')\n",
        "\n",
        "# no parameters:\n",
        "display()\n",
        "# one parameter:\n",
        "display(55)\n",
        "# two parameters:\n",
        "display(55, 66)"
      ],
      "cell_type": "code",
      "execution_count": null,
      "outputs": [

      ],
      "metadata": {
        "attributes": {
          "classes": [
            ""
          ],
          "id": ""
        }
      }
    },
    {
      "id": "cell-22",
      "source": "<p>As this example shows, parameters are matched up from left to right, and any that haven’t been given a value explicitly get their default value. We can override this behavior by naming the value as we pass it in:</p>\n",
      "cell_type": "markdown",
      "metadata": {
        "editable": false,
        "collapsed": false
      }
    },
    {
      "id": "cell-23",
      "source": [
        "# only setting the value of c\n",
        "display(c=77)"
      ],
      "cell_type": "code",
      "execution_count": null,
      "outputs": [

      ],
      "metadata": {
        "attributes": {
          "classes": [
            ""
          ],
          "id": ""
        }
      }
    },
    {
      "id": "cell-24",
      "source": "<blockquote class=\"question\" style=\"border: 2px solid #8A9AD0; margin: 1em 0.2em\">\n<div class=\"box-title question-title\" id=\"question-exercise-signing-a-message\"><i class=\"far fa-question-circle\" aria-hidden=\"true\" ></i> Question: Exercise: Signing a message</div>\n<p>Let’s test out a default argument. Imagine you are printing out a message, and at the bottom it should have a signature.</p>\n<p>Inputs:</p>\n<ul>\n<li><code style=\"color: inherit\">message</code>: a variable that is always provided to the function, it has no default.</li>\n<li><code style=\"color: inherit\">signature</code>: a variable that can be <em>optionally</em> provided, it should have a default like your name.</li>\n</ul>\n<p>You can accomplish this with <em>three print statements</em>:</p>\n<ol>\n<li>Print the message</li>\n<li>Print nothing (i.e. <code style=\"color: inherit\">print()</code>)</li>\n<li>Print a signature variable.</li>\n</ol>\n<br/><details style=\"border: 2px solid #B8C3EA; margin: 1em 0.2em;padding: 0.5em; cursor: pointer;\"><summary>👁 View solution</summary>\n<div class=\"box-title solution-title\" id=\"solution-3\"><button class=\"gtn-boxify-button solution\" type=\"button\" aria-controls=\"solution-3\" aria-expanded=\"true\"><i class=\"far fa-eye\" aria-hidden=\"true\" ></i> Solution<span class=\"fold-unfold fa fa-minus-square\"></span></button></div>\n<div class=\"language-plaintext highlighter-rouge\"><div><pre style=\"color: inherit; background: transparent\"><code style=\"color: inherit\">def myFunction(message, signature=\"Your name\"):\n    print(message)\n    print()\n    print(signature)\n</code></pre></div>    </div>\n</details>\n</blockquote>\n",
      "cell_type": "markdown",
      "metadata": {
        "editable": false,
        "collapsed": false
      }
    },
    {
      "id": "cell-25",
      "source": [
        "# Test things out here!\n",
        "def myFunction # Fix this function!\n",
        "\n",
        "\n",
        "# Here are some test cases, for you to check if your function works!\n",
        "myFunction('This is a message')\n",
        "myFunction('This is a message', signature='Jane Doe')"
      ],
      "cell_type": "code",
      "execution_count": null,
      "outputs": [

      ],
      "metadata": {
        "attributes": {
          "classes": [
            ""
          ],
          "id": ""
        }
      }
    },
    {
      "id": "cell-26",
      "source": "\n",
      "cell_type": "markdown",
      "metadata": {
        "editable": false,
        "collapsed": false
      }
    },
    {
      "cell_type": "markdown",
      "id": "final-ending-cell",
      "metadata": {
        "editable": false,
        "collapsed": false
      },
      "source": [
        "# Key Points\n\n",
        "- Functions are foundational in Python\n",
        "- Everything you do will require functions\n",
        "- Functions keep your code DRY (don't repeat yourself), reducing your copying and pasting or rewriting the same block of code.\n",
        "- Deciding what part of your code should, or should not be, a function is something that will come with practice.\n",
        "\n# Congratulations on successfully completing this tutorial!\n\n",
        "Please [fill out the feedback on the GTN website](https://training.galaxyproject.org/training-material/topics/data-science/tutorials/python-functions/tutorial.html#feedback) and check there for further resources!\n"
      ]
    }
  ]
}