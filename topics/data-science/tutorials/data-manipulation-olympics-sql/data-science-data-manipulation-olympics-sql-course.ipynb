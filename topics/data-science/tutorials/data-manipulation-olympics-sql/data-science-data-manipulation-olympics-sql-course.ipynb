{
  "metadata": {
  },
  "nbformat": 4,
  "nbformat_minor": 5,
  "cells": [
    {
      "id": "metadata",
      "cell_type": "markdown",
      "source": "<div style=\"border: 2px solid #8A9AD0; margin: 1em 0.2em; padding: 0.5em;\">\n\n# Data Manipulation Olympics - SQL\n\nby [Saskia Hiltemann](https://training.galaxyproject.org/hall-of-fame/shiltemann/), [Helena Rasche](https://training.galaxyproject.org/hall-of-fame/hexylena/)\n\nCC-BY licensed content from the [Galaxy Training Network](https://training.galaxyproject.org/)\n\n**Objectives**\n\n- How can I do basic data manipulation in SQL?\n- Which functions are available to convert, reformat, filter, sort etc my data stored in a database?\n\n**Objectives**\n\n- Familiarize yourself with data manipulation in SQL\n- Perform basic SQL query tasks in Galaxy\n- Reason about the expected outcome of tools\n\n**Time Estimation: 1h**\n</div>\n",
      "metadata": {
        "editable": false,
        "collapsed": false
      }
    },
    {
      "id": "cell-0",
      "source": "<!--\nNote to contributors: feel free to add sections here to include additional data manipulation options.\nMake sure each section is independent of each other, i.e. each section should start with the olympics.tsv file.\nAlso make sure to include many exercises (with answers) for your section!\n-->\n<h1 id=\"introduction\">Introduction</h1>\n<p>Scientific analyses often consist of a number of tools that run one after the other, in order to go from the raw data to scientific insight. Between these specialized tools, simple data manipulation steps are often needed as a kind of “glue” between tools. For example, the output of tool A may produce a file that contains all the information needed as input for tool B, but tool B expects the columns in a different order. Or in genomic data analysis, some tools expect chromosome X to be listed as <code style=\"color: inherit\">chrX</code>, while others simply expect <code style=\"color: inherit\">X</code>. In these situations, extra data manipulation steps are needed to prepare files for input to analysis tools.</p>\n<p>Galaxy has a large collection of tools to perform such basic data manipulation tasks, and becoming familiar with these operations will allow to perform your analysis more easily in Galaxy (and outside).</p>\n<blockquote class=\"agenda\" style=\"border: 2px solid #86D486;display: none; margin: 1em 0.2em\">\n<div class=\"box-title agenda-title\" id=\"agenda\">Agenda</div>\n<p>In this tutorial, we will cover:</p>\n<ol id=\"markdown-toc\">\n<li><a href=\"#introduction\" id=\"markdown-toc-introduction\">Introduction</a></li>\n<li><a href=\"#cheatsheet\" id=\"markdown-toc-cheatsheet\">Cheatsheet</a></li>\n<li><a href=\"#background\" id=\"markdown-toc-background\">Background</a></li>\n<li><a href=\"#preamble\" id=\"markdown-toc-preamble\">Preamble</a></li>\n</ol>\n</blockquote>\n<h1 id=\"cheatsheet\">Cheatsheet</h1>\n<p>Here is an overview table of the different data manipulations in this tutorial, with links to the tools in Galaxy.</p>\n<table>\n<thead>\n<tr>\n<th>Operation</th>\n<th>Description</th>\n<th>Galaxy Tool</th>\n</tr>\n</thead>\n<tbody>\n<tr>\n<td>Compute on rows</td>\n<td>to derive new column values from existing ones</td>\n<td><code style=\"color: inherit\">SELECT x * 2 FROM y</code></td>\n</tr>\n<tr>\n<td>Concatenate datasets</td>\n<td>one after the other</td>\n<td><code style=\"color: inherit\">SELECT * FROM x; union all; SELECT * FROM y</code></td>\n</tr>\n<tr>\n<td>Counting</td>\n<td>Count occurrences of values in a column</td>\n<td><code style=\"color: inherit\">SELECT count(x) FROM y where x = 'value'</code></td>\n</tr>\n<tr>\n<td>Cut Columns</td>\n<td>By header name</td>\n<td><code style=\"color: inherit\">SELECT x, y, z FROM a</code></td>\n</tr>\n<tr>\n<td>Filter</td>\n<td>Remove rows based on values in one or more columns</td>\n<td><code style=\"color: inherit\">... WHERE x = 'value'</code></td>\n</tr>\n<tr>\n<td>Find and Replace</td>\n<td>in a specific column</td>\n<td><code style=\"color: inherit\">REPLACE()</code>, <code style=\"color: inherit\">regexp_replace</code> in postgresql</td>\n</tr>\n<tr>\n<td>Group on a column</td>\n<td>And perform simple operations (count, mean, min, max etc)</td>\n<td><code style=\"color: inherit\">... GROUP BY x ...</code></td>\n</tr>\n<tr>\n<td>Join two Datasets</td>\n<td>side by side on a specified field</td>\n<td><code style=\"color: inherit\">SELECT * FROM x, y JOIN x.id = y.id</code></td>\n</tr>\n<tr>\n<td>Select First lines</td>\n<td>Good for finding top 10s or saving header lines</td>\n<td><code style=\"color: inherit\">... LIMIT 10</code></td>\n</tr>\n<tr>\n<td>Sort on a column</td>\n<td>Change the order of the rows based on values in one or more columns</td>\n<td><code style=\"color: inherit\">... ORDER BY x ASC</code></td>\n</tr>\n<tr>\n<td>Unique</td>\n<td>Remove duplicate rows</td>\n<td><code style=\"color: inherit\">SELECT DISTINCT x FROM y</code></td>\n</tr>\n</tbody>\n</table>\n<p>In this tutorial, these functions are explained in more detail, and we provide some exercises for you to practice.</p>\n<h1 id=\"background\">Background</h1>\n<p>In this tutorial, we will use as our dataset a table with results from the Olympics, from the games in Athens in 1896 until Tokyo in 2020. The objective is to familiarize you with a large number of the most important data manipulation tools in Galaxy. Much like the Olympics, there are many different disciplines (types of operations), and for each operation there are often multiple techniques (tools) available to athletes (data analysts, you) that are great for achieving the goal.</p>\n<p><a href=\"{% link topics/introduction/tutorials/data-manipulation-olympics/images/cover.jpg %}\" rel=\"noopener noreferrer\"><img src=\"{% link topics/introduction/tutorials/data-manipulation-olympics/images/cover.jpg %}\" alt=\"image of olympic rings, logo and two athletes around the words &quot;Data Analysis Olympics&quot;. \" width=\"320\" height=\"180\" loading=\"lazy\" /></a></p>\n<p>We will show you many of these commonly needed data manipulation operations, and some examples of how to perform them in Galaxy. We also provide many exercises so that you can train your skills and become a data manipulation Olympian!</p>\n<h1 id=\"preamble\">Preamble</h1>\n",
      "cell_type": "markdown",
      "metadata": {
        "editable": false,
        "collapsed": false
      }
    },
    {
      "id": "cell-1",
      "source": [
        "# This preamble sets up the sql \"magic\" for jupyter. Use %%sql in your cells to write sql!\n",
        "!python3 -m pip install ipython-sql sqlalchemy\n",
        "!wget -c https://zenodo.org/record/6803028/files/olympics.db\n",
        "import sqlalchemy\n",
        "engine = sqlalchemy.create_engine(\"sqlite:///olympics.db\")\n",
        "%load_ext sql\n",
        "%sql sqlite:///olympics.db\n",
        "%config SqlMagic.displaycon=False"
      ],
      "cell_type": "code",
      "execution_count": null,
      "outputs": [

      ],
      "metadata": {
        "attributes": {
          "classes": [
            "Make sure each section is independent of each other, i.e. each section should start with the olympics.tsv file."
          ],
          "id": ""
        }
      }
    },
    {
      "id": "cell-2",
      "source": "<h1 id=\"download-data\">Download Data</h1>\n<p>Before we can do any manipulation, we will need some data. Let’s download our table with Olympics results now.</p>\n",
      "cell_type": "markdown",
      "metadata": {
        "editable": false,
        "collapsed": false
      }
    },
    {
      "id": "cell-3",
      "source": [
        "%%sql\n",
        "SELECT * FROM olympics LIMIT 10;"
      ],
      "cell_type": "code",
      "execution_count": null,
      "outputs": [

      ],
      "metadata": {
        "attributes": {
          "classes": [
            "Make sure each section is independent of each other, i.e. each section should start with the olympics.tsv file."
          ],
          "id": ""
        }
      }
    },
    {
      "id": "cell-4",
      "source": "<p>And now we can start querying the database:</p>\n",
      "cell_type": "markdown",
      "metadata": {
        "editable": false,
        "collapsed": false
      }
    },
    {
      "id": "cell-5",
      "source": [
        "%%sql\n",
        "SELECT\n",
        "    name\n",
        "FROM\n",
        "    sqlite_schema"
      ],
      "cell_type": "code",
      "execution_count": null,
      "outputs": [

      ],
      "metadata": {
        "attributes": {
          "classes": [
            "Make sure each section is independent of each other, i.e. each section should start with the olympics.tsv file."
          ],
          "id": ""
        }
      }
    },
    {
      "id": "cell-6",
      "source": "<blockquote class=\"question\" style=\"border: 2px solid #8A9AD0; margin: 1em 0.2em\">\n<div class=\"box-title question-title\" id=\"question\"><i class=\"far fa-question-circle\" aria-hidden=\"true\" ></i> Question</div>\n<ol>\n<li>What tables are available?</li>\n<li>How are they structured?</li>\n</ol>\n<br/><details style=\"border: 2px solid #B8C3EA; margin: 1em 0.2em;padding: 0.5em; cursor: pointer;\"><summary>👁 View solution</summary>\n<div class=\"box-title solution-title\" id=\"solution\"><button class=\"gtn-boxify-button solution\" type=\"button\" aria-controls=\"solution\" aria-expanded=\"true\"><i class=\"far fa-eye\" aria-hidden=\"true\" ></i> Solution<span class=\"fold-unfold fa fa-minus-square\"></span></button></div>\n<ol>\n<li><code style=\"color: inherit\">countries</code>, <code style=\"color: inherit\">olympics</code>, <code style=\"color: inherit\">olympics_2022</code></li>\n<li>Each are tables with 10 or more columns.</li>\n</ol>\n</details>\n</blockquote>\n<h2 id=\"about-this-dataset\">About this dataset</h2>\n<p>The data was <a href=\"https://github.com/UOSCS/Olympic_Athletes\">obtained</a> from <a href=\"https://www.olympedia.org/\">Olympedia</a>. The <code style=\"color: inherit\">olympics</code> table contains\n234,522 rows and 17 columns. Each row corresponds to an individual athlete competing in an individual Olympic event. The columns are:</p>\n<ul>\n<li><strong>athlete_id</strong> - Unique number for each athlete</li>\n<li><strong>name</strong> - Athlete’s name</li>\n<li><strong>sex</strong> - M or F</li>\n<li><strong>birth_year</strong> - 4-digit number</li>\n<li><strong>birth_day</strong> - e.g. 24 July</li>\n<li><strong>birth_place</strong> - town and/or country</li>\n<li><strong>height</strong> - In centimeters (or <code style=\"color: inherit\">NA</code> if data not known)</li>\n<li><strong>weight</strong> - In kilograms (or <code style=\"color: inherit\">NA</code> if data not known)</li>\n<li><strong>team</strong> - Team name</li>\n<li><strong>noc</strong> - National Olympic Committee 3-letter code</li>\n<li><strong>games</strong> - Year and season</li>\n<li><strong>year</strong> - Integer</li>\n<li><strong>season</strong> - Summer or Winter</li>\n<li><strong>city</strong> - Host city</li>\n<li><strong>sport</strong> - Sport</li>\n<li><strong>event</strong> - Event</li>\n<li><strong>medal</strong> - Gold, Silver, Bronze (or <code style=\"color: inherit\">NA</code> if no medal was won)</li>\n</ul>\n<p>We will use this dataset to practice our data manipulation skills in Galaxy.</p>\n<h1 id=\"choose-your-adventure\">Choose your adventure!</h1>\n<p>This tutorial is structured a bit differently than most. <strong>You do not have to do the steps in the order they are presented below.</strong> Every section in this tutorial uses the dataset you just uploaded (the <code style=\"color: inherit\">olympics.db</code> file) as input, so you can jump to any section in this tutorial right now if you have a particular data manipulation operation in mind you want to learn more about.</p>\n<h1 id=\"sorting\">Sorting</h1>\n<p>We have a lot of data in this file, but it is ordered by the athlete ID number, which is a somewhat arbitrary and meaningless number. But we can sort the rows in this file to something more convenient, for example alphabetically by name of the athlete, or chronologically by year of the Olympics.</p>\n<p>In <code style=\"color: inherit\">SQL</code> we can use the <code style=\"color: inherit\">ORDER BY</code> clause. We’ll start by limiting our results, as every table in this dataset is quite large.</p>\n",
      "cell_type": "markdown",
      "metadata": {
        "editable": false,
        "collapsed": false
      }
    },
    {
      "id": "cell-7",
      "source": [
        "%%sql\n",
        "SELECT NOC, `CLDR display name` FROM countries LIMIT 30;"
      ],
      "cell_type": "code",
      "execution_count": null,
      "outputs": [

      ],
      "metadata": {
        "attributes": {
          "classes": [
            "Make sure each section is independent of each other, i.e. each section should start with the olympics.tsv file."
          ],
          "id": ""
        }
      }
    },
    {
      "id": "cell-8",
      "source": "<p>You can use <code style=\"color: inherit\">ORDER BY column-name ASC</code> or <code style=\"color: inherit\">ORDER BY column-name DESC</code> to sort the data ascending or descending.</p>\n",
      "cell_type": "markdown",
      "metadata": {
        "editable": false,
        "collapsed": false
      }
    },
    {
      "id": "cell-9",
      "source": [
        "%%sql\n",
        "SELECT NOC, `CLDR display name` FROM countries ORDER BY NOC ASC LIMIT 30;"
      ],
      "cell_type": "code",
      "execution_count": null,
      "outputs": [

      ],
      "metadata": {
        "attributes": {
          "classes": [
            "Make sure each section is independent of each other, i.e. each section should start with the olympics.tsv file."
          ],
          "id": ""
        }
      }
    },
    {
      "id": "cell-10",
      "source": "\n",
      "cell_type": "markdown",
      "metadata": {
        "editable": false,
        "collapsed": false
      }
    },
    {
      "id": "cell-11",
      "source": [
        "%%sql\n",
        "SELECT NOC, `CLDR display name` FROM countries ORDER BY NOC DESC LIMIT 30;"
      ],
      "cell_type": "code",
      "execution_count": null,
      "outputs": [

      ],
      "metadata": {
        "attributes": {
          "classes": [
            "Make sure each section is independent of each other, i.e. each section should start with the olympics.tsv file."
          ],
          "id": ""
        }
      }
    },
    {
      "id": "cell-12",
      "source": "<p>So let’s sort our file in chronological order, based on the year of the Olympic games:</p>\n<blockquote class=\"question\" style=\"border: 2px solid #8A9AD0; margin: 1em 0.2em\">\n<div class=\"box-title question-title\" id=\"question-1\"><i class=\"far fa-question-circle\" aria-hidden=\"true\" ></i> Question</div>\n<ol>\n<li>Which column contains the year?</li>\n</ol>\n<br/><details style=\"border: 2px solid #B8C3EA; margin: 1em 0.2em;padding: 0.5em; cursor: pointer;\"><summary>👁 View solution</summary>\n<div class=\"box-title solution-title\" id=\"solution-1\"><button class=\"gtn-boxify-button solution\" type=\"button\" aria-controls=\"solution-1\" aria-expanded=\"true\"><i class=\"far fa-eye\" aria-hidden=\"true\" ></i> Solution<span class=\"fold-unfold fa fa-minus-square\"></span></button></div>\n<ol>\n<li><code style=\"color: inherit\">year</code></li>\n</ol>\n</details>\n</blockquote>\n",
      "cell_type": "markdown",
      "metadata": {
        "editable": false,
        "collapsed": false
      }
    },
    {
      "id": "cell-13",
      "source": [
        "%%sql\n",
        "SELECT * FROM olympics ORDER BY year LIMIT 30;"
      ],
      "cell_type": "code",
      "execution_count": null,
      "outputs": [

      ],
      "metadata": {
        "attributes": {
          "classes": [
            "Make sure each section is independent of each other, i.e. each section should start with the olympics.tsv file."
          ],
          "id": ""
        }
      }
    },
    {
      "id": "cell-14",
      "source": "<p>If we wanted to do it in reverse, we could just use <code class=\"language-plaintext highlighter-rouge\">order by year desc</code></p>\n",
      "cell_type": "markdown",
      "metadata": {
        "editable": false,
        "collapsed": false
      }
    },
    {
      "id": "cell-15",
      "source": [
        "%%sql\n",
        "SELECT * FROM olympics ORDER BY year DESC LIMIT 30;"
      ],
      "cell_type": "code",
      "execution_count": null,
      "outputs": [

      ],
      "metadata": {
        "attributes": {
          "classes": [
            "Make sure each section is independent of each other, i.e. each section should start with the olympics.tsv file."
          ],
          "id": ""
        }
      }
    },
    {
      "id": "cell-16",
      "source": "<blockquote class=\"question\" style=\"border: 2px solid #8A9AD0; margin: 1em 0.2em\">\n<div class=\"box-title question-title\" id=\"question-2\"><i class=\"far fa-question-circle\" aria-hidden=\"true\" ></i> Question</div>\n<ol>\n<li>Write a query to access only the first entry.</li>\n<li>Which athlete is listed at the top of the file now?</li>\n</ol>\n<br/><details style=\"border: 2px solid #B8C3EA; margin: 1em 0.2em;padding: 0.5em; cursor: pointer;\"><summary>👁 View solution</summary>\n<div class=\"box-title solution-title\" id=\"solution-2\"><button class=\"gtn-boxify-button solution\" type=\"button\" aria-controls=\"solution-2\" aria-expanded=\"true\"><i class=\"far fa-eye\" aria-hidden=\"true\" ></i> Solution<span class=\"fold-unfold fa fa-minus-square\"></span></button></div>\n<ol>\n<li>We can use <code style=\"color: inherit\">LIMIT</code> for this.\n<div class=\"language-plaintext highlighter-rouge\"><div><pre style=\"color: inherit; background: transparent\"><code style=\"color: inherit\">select * from olympics order by year limit 1;\n</code></pre></div>        </div>\n</li>\n<li>J. Defert. Who competed in a Tennis event 1896 Summer Olympics in Athens.</li>\n</ol>\n</details>\n</blockquote>\n<p>This is great, but maybe it would make more sense to sort alphabetically by athlete name <em>within each year</em>.</p>\n<h2 id=\"sort-on-multiple-columns-at-once\">Sort on multiple columns at once</h2>\n<p>So we want to sort twice, first by year, an then within each year, we sort again alphabetically by name.</p>\n<p>We will sort the file in chronological order based on the year of the Olympic games</p>\n",
      "cell_type": "markdown",
      "metadata": {
        "editable": false,
        "collapsed": false
      }
    },
    {
      "id": "cell-17",
      "source": [
        "%%sql\n",
        "SELECT * FROM olympics ORDER BY year, name LIMIT 30;"
      ],
      "cell_type": "code",
      "execution_count": null,
      "outputs": [

      ],
      "metadata": {
        "attributes": {
          "classes": [
            "Make sure each section is independent of each other, i.e. each section should start with the olympics.tsv file."
          ],
          "id": ""
        }
      }
    },
    {
      "id": "cell-18",
      "source": "<blockquote class=\"question\" style=\"border: 2px solid #8A9AD0; margin: 1em 0.2em\">\n<div class=\"box-title question-title\" id=\"question-3\"><i class=\"far fa-question-circle\" aria-hidden=\"true\" ></i> Question</div>\n<p>Which athlete is listed at the top now? Which discipline (sport) did they compete in?</p>\n<br/><details style=\"border: 2px solid #B8C3EA; margin: 1em 0.2em;padding: 0.5em; cursor: pointer;\"><summary>👁 View solution</summary>\n<div class=\"box-title solution-title\" id=\"solution-3\"><button class=\"gtn-boxify-button solution\" type=\"button\" aria-controls=\"solution-3\" aria-expanded=\"true\"><i class=\"far fa-eye\" aria-hidden=\"true\" ></i> Solution<span class=\"fold-unfold fa fa-minus-square\"></span></button></div>\n<ol>\n<li>A. Grigoriadis. He competed in the 500 meters freestyle swimming event.</li>\n</ol>\n</details>\n</blockquote>\n<h2 id=\"exercises\">Exercises</h2>\n<p>Ok, time to train! Let’s see if you can use the sort tool to answer the following questions:</p>\n<blockquote class=\"question\" style=\"border: 2px solid #8A9AD0; margin: 1em 0.2em\">\n<div class=\"box-title question-title\" id=\"question-exercise-reverse-the-sort\"><i class=\"far fa-question-circle\" aria-hidden=\"true\"></i> Exercise: Reverse the sort</div>\n<p>Which athlete comes <em>last by alphabet</em>, in the <em>most recent</em> Olympics?</p>\n<br/><details style=\"border: 2px solid #B8C3EA; margin: 1em 0.2em;padding: 0.5em; cursor: pointer;\"><summary>👁 View solution</summary>\n<div class=\"box-title solution-title\" id=\"solution-4\"><button class=\"gtn-boxify-button solution\" type=\"button\" aria-controls=\"solution-4\" aria-expanded=\"true\"><i class=\"far fa-eye\" aria-hidden=\"true\" ></i> Solution<span class=\"fold-unfold fa fa-minus-square\"></span></button></div>\n<p><code style=\"color: inherit\">Žolt Peto</code> who competed in table tennis at the 2020 Summer Olympics in Tokyo.</p>\n<p>We do this by repeating the previous sort (on year and then name), but changing the order to <em>descending</em> for both, to get the answer to the top of the file.</p>\n</blockquote>\n</blockquote>\n<blockquote class=\"question\" style=\"border: 2px solid #8A9AD0; margin: 1em 0.2em\">\n<div class=\"box-title question-title\" id=\"question-exercise-sort-by-height\"><i class=\"far fa-question-circle\" aria-hidden=\"true\"></i> Exercise: sort by height</div>\n<ol>\n<li>What is the height of the tallest competing athlete? Which athlete(s) are of this height?</li>\n<li>What is the shortest?</li>\n<li>Who was the tallest athlete from the most recent Olympics? How tall were they?</li>\n</ol>\n<blockquote class=\"tip\" style=\"border: 2px solid #FFE19E; margin: 1em 0.2em\">\n<div class=\"box-title tip-title\" id=\"tip-removing-null-values\"><button class=\"gtn-boxify-button tip\" type=\"button\" aria-controls=\"tip-removing-null-values\" aria-expanded=\"true\"><i class=\"far fa-lightbulb\" aria-hidden=\"true\" ></i> Tip: Removing null values<span class=\"fold-unfold fa fa-minus-square\"></span></button></div>\n<p>This will be covered more during the Filtering section, but for now simply use this filter:</p>\n<div class=\"language-plaintext highlighter-rouge\"><div><pre style=\"color: inherit; background: transparent\"><code style=\"color: inherit\">SELECT * from olympics where height is not null ... ;\n</code></pre></div>    </div>\n</blockquote>\n<br/><details style=\"border: 2px solid #B8C3EA; margin: 1em 0.2em;padding: 0.5em; cursor: pointer;\"><summary>👁 View solution</summary>\n<div class=\"box-title solution-title\" id=\"solution-hints\"></div>\n<ol>\n<li>We can use <code style=\"color: inherit\">.height</code>, and because we want the tallest on top, we will need to sort in <em>descending</em> (decreasing) order. Unfortunately you might discover there are null values.</li>\n<li>Rerun the same query as step 1, but change the order to <em>ascending</em></li>\n<li>First sort by year (descending), then by height (descending)</li>\n</ol>\n</blockquote>\n<br/><details style=\"border: 2px solid #B8C3EA; margin: 1em 0.2em;padding: 0.5em; cursor: pointer;\"><summary>👁 View solution</summary>\n<div class=\"box-title solution-title\" id=\"solution-answers\"></div>\n<ol>\n<li>Adam Sandurski from Poland is the tallest athlete in the file, at 214 cm tall.</li>\n<li>Lyton Mphande from Seol is the shortest at 127 cm.</li>\n<li>Gennaro Di Mauro, 210 cm. (2020 Summer Olympics in Tokyo)</li>\n</ol>\n</blockquote>\n<br/><details style=\"border: 2px solid #B8C3EA; margin: 1em 0.2em;padding: 0.5em; cursor: pointer;\"><summary>👁 View solution</summary>\n<div class=\"box-title solution-title\" id=\"solution-full-solutions\"></div>\n<ol>\n<li><code style=\"color: inherit\">select * from olympics  where height is not null order by height desc limit 1;</code></li>\n<li><code style=\"color: inherit\">select * from olympics  where height is not null order by height asc limit 1</code></li>\n<li><code style=\"color: inherit\">select * from olympics  where height is not null order by year desc, height desc limit 1</code></li>\n</ol>\n</blockquote>\n</blockquote>\n<h1 id=\"filtering\">Filtering</h1>\n<p>This file contains a lot of data, but we may only be interested in a subset of this data. For example, we may only want to look at one particular Olympics, or one particular sport. In such cases we can filter the dataset. This will create a new dataset, removing any rows that are not of interest to us (i.e. that don’t meet the criteria we provide).</p>\n<p>We will filter the file to show only winter Olympics\nLook at the <code style=\"color: inherit\">olympics</code> table and answer the following questions</p>\n<blockquote class=\"question\" style=\"border: 2px solid #8A9AD0; margin: 1em 0.2em\">\n<div class=\"box-title question-title\" id=\"question-4\"><i class=\"far fa-question-circle\" aria-hidden=\"true\" ></i> Question</div>\n<ol>\n<li>Which key contains this information?</li>\n<li>Which values can this column have? (make sure to notice capitalisation, ‘Winter’ is not the same as ‘winter’ to these tools)</li>\n</ol>\n<br/><details style=\"border: 2px solid #B8C3EA; margin: 1em 0.2em;padding: 0.5em; cursor: pointer;\"><summary>👁 View solution</summary>\n<div class=\"box-title solution-title\" id=\"solution-5\"><button class=\"gtn-boxify-button solution\" type=\"button\" aria-controls=\"solution-5\" aria-expanded=\"true\"><i class=\"far fa-eye\" aria-hidden=\"true\" ></i> Solution<span class=\"fold-unfold fa fa-minus-square\"></span></button></div>\n<ol>\n<li><code style=\"color: inherit\">season</code></li>\n<li>The values can be <code style=\"color: inherit\">Summer</code> or <code style=\"color: inherit\">Winter</code> (<code class=\"language-plaintext highlighter-rouge\">select distinct season from olympics</code>)</li>\n</ol>\n</blockquote>\n</blockquote>\n<p>We’ll be using the <code style=\"color: inherit\">WHERE</code> filter to select entries matching specific conditions:</p>\n<blockquote class=\"question\" style=\"border: 2px solid #8A9AD0; margin: 1em 0.2em\">\n<div class=\"box-title question-title\" id=\"question-5\"><i class=\"far fa-question-circle\" aria-hidden=\"true\" ></i> Question</div>\n<ol>\n<li>How would you write the expressions for the following conditions:\n<ol>\n<li><code style=\"color: inherit\">enrolled</code> must be ‘Yes’</li>\n<li><code style=\"color: inherit\">age</code> must be smaller than 75</li>\n<li><code style=\"color: inherit\">height</code> cannot be null</li>\n<li><code style=\"color: inherit\">birthplace</code> cannot be empty</li>\n</ol>\n</li>\n<li>It is also possible to combine multiple conditions, using <code style=\"color: inherit\">and</code>, <code style=\"color: inherit\">or</code>, <code style=\"color: inherit\">not</code> and parentheses\nHow would you write expressions for the following filtering conditions:\n<ol>\n<li><code style=\"color: inherit\">height</code> is larger than 200 or smaller than 160</li>\n<li><code style=\"color: inherit\">height</code> is larger than 200 and smaller than 210</li>\n</ol>\n</li>\n</ol>\n<br/><details style=\"border: 2px solid #B8C3EA; margin: 1em 0.2em;padding: 0.5em; cursor: pointer;\"><summary>👁 View solution</summary>\n<div class=\"box-title solution-title\" id=\"solution-6\"><button class=\"gtn-boxify-button solution\" type=\"button\" aria-controls=\"solution-6\" aria-expanded=\"true\"><i class=\"far fa-eye\" aria-hidden=\"true\" ></i> Solution<span class=\"fold-unfold fa fa-minus-square\"></span></button></div>\n<ol>\n<li>The answers are:\n<ol>\n<li><code style=\"color: inherit\">select * from olympics where enrolled = 'Yes'</code></li>\n<li><code style=\"color: inherit\">select * from olympics where age &lt; 75</code></li>\n<li><code class=\"language-plaintext highlighter-rouge\">select * from olympics where height is not null</code>`</li>\n<li><code style=\"color: inherit\">select * from olympics where birthplace != \"\"</code></li>\n</ol>\n</li>\n<li>The answers are:\n<ol>\n<li><code style=\"color: inherit\">select * from olympics where height &gt; 200 or height &lt; 160</code></li>\n<li><code style=\"color: inherit\">select * from olympics where height &gt; 200 and height &lt; 210</code></li>\n</ol>\n</li>\n</ol>\n</blockquote>\n</blockquote>\n<p>Ok, great, now that you’ve got the hang of writing expressions for this tool, let’s create a file with only Winter Olympics. Make sure it is contained in an array, in case we want to do further sorting.</p>\n",
      "cell_type": "markdown",
      "metadata": {
        "editable": false,
        "collapsed": false
      }
    },
    {
      "id": "cell-19",
      "source": [
        "%%sql\n",
        "CREATE TABLE winter AS SELECT * FROM olympics WHERE season = 'Winter'"
      ],
      "cell_type": "code",
      "execution_count": null,
      "outputs": [

      ],
      "metadata": {
        "attributes": {
          "classes": [
            "Make sure each section is independent of each other, i.e. each section should start with the olympics.tsv file."
          ],
          "id": ""
        }
      }
    },
    {
      "id": "cell-20",
      "source": "<blockquote class=\"question\" style=\"border: 2px solid #8A9AD0; margin: 1em 0.2em\">\n<div class=\"box-title question-title\" id=\"question-6\"><i class=\"far fa-question-circle\" aria-hidden=\"true\" ></i> Question</div>\n<p>How many entries are in this file? (Hint: use <code style=\"color: inherit\">count(*)</code>)</p>\n<br/><details style=\"border: 2px solid #B8C3EA; margin: 1em 0.2em;padding: 0.5em; cursor: pointer;\"><summary>👁 View solution</summary>\n<div class=\"box-title solution-title\" id=\"solution-7\"><button class=\"gtn-boxify-button solution\" type=\"button\" aria-controls=\"solution-7\" aria-expanded=\"true\"><i class=\"far fa-eye\" aria-hidden=\"true\" ></i> Solution<span class=\"fold-unfold fa fa-minus-square\"></span></button></div>\n<p>44,680</p>\n</details>\n</blockquote>\n<p><strong>Repeat</strong> the step for the Summer Olympics</p>\n",
      "cell_type": "markdown",
      "metadata": {
        "editable": false,
        "collapsed": false
      }
    },
    {
      "id": "cell-21",
      "source": [
        "%%sql\n",
        "CREATE TABLE summer AS SELECT * FROM olympics WHERE season = 'Summer'"
      ],
      "cell_type": "code",
      "execution_count": null,
      "outputs": [

      ],
      "metadata": {
        "attributes": {
          "classes": [
            "Make sure each section is independent of each other, i.e. each section should start with the olympics.tsv file."
          ],
          "id": ""
        }
      }
    },
    {
      "id": "cell-22",
      "source": "<blockquote class=\"question\" style=\"border: 2px solid #8A9AD0; margin: 1em 0.2em\">\n<div class=\"box-title question-title\" id=\"question-7\"><i class=\"far fa-question-circle\" aria-hidden=\"true\" ></i> Question</div>\n<ol>\n<li>How many lines do you expect in the this file?</li>\n<li>How many lines are in this file? Were you right?</li>\n</ol>\n<br/><details style=\"border: 2px solid #B8C3EA; margin: 1em 0.2em;padding: 0.5em; cursor: pointer;\"><summary>👁 View solution</summary>\n<div class=\"box-title solution-title\" id=\"solution-hints-1\"></div>\n<ol>\n<li>Use the <code style=\"color: inherit\">count(*)</code> select</li>\n<li>Be careful to consider whether these counts include the header line of the file or not</li>\n</ol>\n</details>\n<br/><details style=\"border: 2px solid #B8C3EA; margin: 1em 0.2em;padding: 0.5em; cursor: pointer;\"><summary>👁 View solution</summary>\n<div class=\"box-title solution-title\" id=\"solution-answers-1\"></div>\n<ol>\n<li>The original file has 234,522 entries, and the Winter Olympics had 44,680 entries. So we would expect 234,522 - 44,680 = 189,842 rows of data.\nIt is always useful to take a moment to think about the expected outcome, this makes it easier to spot mistakes and will save you time in the long run.</li>\n</ol>\n</blockquote>\n</blockquote>\n<h2 id=\"exercises\">Exercises</h2>\n<p>Ok, time to train! let’s see if you can use the <code style=\"color: inherit\">select</code> filter to answer the following questions:</p>\n<blockquote class=\"question\" style=\"border: 2px solid #8A9AD0; margin: 1em 0.2em\">\n<div class=\"box-title question-title\" id=\"question-exercise-medal-winners\"><i class=\"far fa-question-circle\" aria-hidden=\"true\"></i> Exercise: Medal winners</div>\n<ol>\n<li>How many gold medals were handed out?</li>\n<li>How many total medals?</li>\n<li>How many medals were handed out during the 2018 Olympics?</li>\n<li>How many medals were won by individuals with a height between 170 and 180 cm? (inclusive)</li>\n<li>How many gold medals were won by individuals shorter than 160cm or taller than 190?</li>\n</ol>\n<br/><details style=\"border: 2px solid #B8C3EA; margin: 1em 0.2em;padding: 0.5em; cursor: pointer;\"><summary>👁 View solution</summary>\n<div class=\"box-title solution-title\" id=\"solution-hints-2\"></div>\n<ul>\n<li>Column 17 contains information about medals</li>\n<li>The possible values are <code style=\"color: inherit\">Gold</code>, <code style=\"color: inherit\">Silver</code>, <code style=\"color: inherit\">Bronze</code>, and <code style=\"color: inherit\"></code> (empty).</li>\n<li>Don’t forget that the output (and line count) may include the header line</li>\n<li>Do not use quotes on number columns (e.g. year)</li>\n<li>You may need parentheses for complex conditions</li>\n</ul>\n</blockquote>\n<br/><details style=\"border: 2px solid #B8C3EA; margin: 1em 0.2em;padding: 0.5em; cursor: pointer;\"><summary>👁 View solution</summary>\n<div class=\"box-title solution-title\" id=\"solution-answers-2\"></div>\n<ol>\n<li>8,110   (Expression: <code style=\"color: inherit\">SELECT count(*) FROM olympics WHERE medal == \"Gold\"</code>)</li>\n<li>24,633  (Expression: <code style=\"color: inherit\">SELECT count(*) FROM olympics WHERE medal == \"Gold\" or medal == \"Silver\" or medal == \"Bronze\")</code>, or <code style=\"color: inherit\">medal != null</code>)</li>\n<li>131     (Expression: <code style=\"color: inherit\">SELECT count(*) FROM olympics WHERE medal == \"Gold\" and year == 2018</code> (note: do not use quotes around <code style=\"color: inherit\">2018</code>, as it is a numerical value))</li>\n<li>8,086   (Expression: <code style=\"color: inherit\">SELECT count(*) FROM olympics WHERE medal is not null and height &gt;= 170 and height &lt;=180</code>)</li>\n<li>2,333   (Expression: <code style=\"color: inherit\">SELECT count(*) FROM olympics WHERE medal is not null and (height &lt; 160 or height &gt; 190)</code> (note: parentheses are important here))</li>\n</ol>\n<p>Note: these numbers are found by determining the number of lines in the file after each filtering step, and subtracting 1 for the header line.</p>\n</blockquote>\n</blockquote>\n<h1 id=\"counting\">Counting</h1>\n<p>A common operation we might want to perform on tables of data, is simple counting. How many times does a certain value appear? For our dataset for instance, we might want to know how many countries participated in each Olympics, how many women, etc; any column that has categorical data that we can count.</p>\n<p>Let’s start by simply counting how many different Olympic Games we have in our dataset, and how many times it appears (so how many participations there were each year)</p>\n<p>We’ll need to use the <code style=\"color: inherit\">group by</code> syntax which takes a key, and then groups by those values.</p>\n<blockquote class=\"question\" style=\"border: 2px solid #8A9AD0; margin: 1em 0.2em\">\n<div class=\"box-title question-title\" id=\"question-8\"><i class=\"far fa-question-circle\" aria-hidden=\"true\" ></i> Question</div>\n<ol>\n<li>How many different Olympic games are in our file?</li>\n<li>Which Olympic games had the most participations? (Tip: use order by)</li>\n</ol>\n<br/><details style=\"border: 2px solid #B8C3EA; margin: 1em 0.2em;padding: 0.5em; cursor: pointer;\"><summary>👁 View solution</summary>\n<div class=\"box-title solution-title\" id=\"solution-8\"><button class=\"gtn-boxify-button solution\" type=\"button\" aria-controls=\"solution-8\" aria-expanded=\"true\"><i class=\"far fa-eye\" aria-hidden=\"true\" ></i> Solution<span class=\"fold-unfold fa fa-minus-square\"></span></button></div>\n<ol>\n<li>\n<p>52 games (<code class=\"language-plaintext highlighter-rouge\">select count(*), games from olympics group by games</code>)</p>\n<p>The resulting file looks something like:</p>\n<div class=\"language-plaintext highlighter-rouge\"><div><pre style=\"color: inherit; background: transparent\"><code style=\"color: inherit\"> 615\t1896 Summer Olympics\n 2503\t1900 Summer Olympics\n 2643\t1904 Summer Olympics\n 3213\t1908 Summer Olympics\n 4610\t1912 Summer Olympics\n 3448\t1920 Summer Olympics\n 5242\t1924 Summer Olympics\n 358\t1924 Winter Olympics\n 4493\t1928 Summer Olympics\n ...\n</code></pre></div>        </div>\n</li>\n<li>\n<p>1996 Summer Olympics. (10501 participations)</p>\n</li>\n</ol>\n</blockquote>\n</blockquote>\n<p>You may have guessed that like <code style=\"color: inherit\">order by</code>, that we could have selected multiple columns in the <code style=\"color: inherit\">group by</code> step. This lets us count on combinations of columns.</p>\n<p>Let’s try counting the number of men and women in each olympic games.</p>\n",
      "cell_type": "markdown",
      "metadata": {
        "editable": false,
        "collapsed": false
      }
    },
    {
      "id": "cell-23",
      "source": [
        "%%sql\n",
        "select count(*), games, sex from olympics group by games, sex"
      ],
      "cell_type": "code",
      "execution_count": null,
      "outputs": [

      ],
      "metadata": {
        "attributes": {
          "classes": [
            "Make sure each section is independent of each other, i.e. each section should start with the olympics.tsv file."
          ],
          "id": ""
        }
      }
    },
    {
      "id": "cell-24",
      "source": "<blockquote class=\"question\" style=\"border: 2px solid #8A9AD0; margin: 1em 0.2em\">\n<div class=\"box-title question-title\" id=\"question-9\"><i class=\"far fa-question-circle\" aria-hidden=\"true\" ></i> Question</div>\n<p>You see the resulting file has a line for every combination of the two columns (games and sex), providing the count for each.</p>\n<ol>\n<li>\n<p>How many women were in the first Olympic games?</p>\n</li>\n<li>\n<p>Which Olympic games had the most women participants?</p>\n</li>\n</ol>\n<br/><details style=\"border: 2px solid #B8C3EA; margin: 1em 0.2em;padding: 0.5em; cursor: pointer;\"><summary>👁 View solution</summary>\n<div class=\"box-title solution-title\" id=\"solution-9\"><button class=\"gtn-boxify-button solution\" type=\"button\" aria-controls=\"solution-9\" aria-expanded=\"true\"><i class=\"far fa-eye\" aria-hidden=\"true\" ></i> Solution<span class=\"fold-unfold fa fa-minus-square\"></span></button></div>\n<ol>\n<li>2 women participated in the 1896 Olympics. (note that we cannot be sure if this is two different women, or 1 woman participating twice, in this query. Do you know any way we could query that? Try it out!)\nThe results looks something like this:\n<div class=\"language-plaintext highlighter-rouge\"><div><pre style=\"color: inherit; background: transparent\"><code style=\"color: inherit\">2\tF\t1896 Summer Olympics\n43\tF\t1900 Summer Olympics\n17\tF\t1904 Summer Olympics\n55\tF\t1908 Summer Olympics\n97\tF\t1912 Summer Olympics\n132\tF\t1920 Summer Olympics\n269\tF\t1924 Summer Olympics\n</code></pre></div>        </div>\n</li>\n<li>2020 Summer Olympics (4652)</li>\n</ol>\n</details>\n</blockquote>\n<p>Let’s say we wanted to know how many different sports there were in each Olympics. If we used the counting query above, we would get resultsfor each combination of sport and olympics, with the number of lines (participations) of each. But we don’t really care about the number of lines that have this combination, just the total number of unique sports in each games.</p>\n<p>We can use the <code style=\"color: inherit\">distinct</code> filter in our pipeline to discover this. First let’s do our group by and iterate over each resulting group:</p>\n",
      "cell_type": "markdown",
      "metadata": {
        "editable": false,
        "collapsed": false
      }
    },
    {
      "id": "cell-25",
      "source": [
        "%%sql\n",
        "select games, sport from olympics group by games;"
      ],
      "cell_type": "code",
      "execution_count": null,
      "outputs": [

      ],
      "metadata": {
        "attributes": {
          "classes": [
            "Make sure each section is independent of each other, i.e. each section should start with the olympics.tsv file."
          ],
          "id": ""
        }
      }
    },
    {
      "id": "cell-26",
      "source": "<p>And let’s count all of their appearances</p>\n",
      "cell_type": "markdown",
      "metadata": {
        "editable": false,
        "collapsed": false
      }
    },
    {
      "id": "cell-27",
      "source": [
        "%%sql\n",
        "select games, count(sport) as sports from olympics group by games;"
      ],
      "cell_type": "code",
      "execution_count": null,
      "outputs": [

      ],
      "metadata": {
        "attributes": {
          "classes": [
            "Make sure each section is independent of each other, i.e. each section should start with the olympics.tsv file."
          ],
          "id": ""
        }
      }
    },
    {
      "id": "cell-28",
      "source": "<p>But those results still aren’t distinct, those numbers are far too high. So let’s use distinct:</p>\n",
      "cell_type": "markdown",
      "metadata": {
        "editable": false,
        "collapsed": false
      }
    },
    {
      "id": "cell-29",
      "source": [
        "%%sql\n",
        "select games, count(distinct sport) as sports from olympics group by games;"
      ],
      "cell_type": "code",
      "execution_count": null,
      "outputs": [

      ],
      "metadata": {
        "attributes": {
          "classes": [
            "Make sure each section is independent of each other, i.e. each section should start with the olympics.tsv file."
          ],
          "id": ""
        }
      }
    },
    {
      "id": "cell-30",
      "source": "<p>We’re almost there! Let’s sort this</p>\n",
      "cell_type": "markdown",
      "metadata": {
        "editable": false,
        "collapsed": false
      }
    },
    {
      "id": "cell-31",
      "source": [
        "%%sql\n",
        "select games, count(distinct sport) as sports from olympics group by games order by sports asc;"
      ],
      "cell_type": "code",
      "execution_count": null,
      "outputs": [

      ],
      "metadata": {
        "attributes": {
          "classes": [
            "Make sure each section is independent of each other, i.e. each section should start with the olympics.tsv file."
          ],
          "id": ""
        }
      }
    },
    {
      "id": "cell-32",
      "source": "<blockquote class=\"question\" style=\"border: 2px solid #8A9AD0; margin: 1em 0.2em\">\n<div class=\"box-title question-title\" id=\"question-10\"><i class=\"far fa-question-circle\" aria-hidden=\"true\" ></i> Question</div>\n<ol>\n<li>How many sport were in the first Olympics? How many in the latest?</li>\n<li>Which Olympics had the most different sports?</li>\n</ol>\n<br/><details style=\"border: 2px solid #B8C3EA; margin: 1em 0.2em;padding: 0.5em; cursor: pointer;\"><summary>👁 View solution</summary>\n<div class=\"box-title solution-title\" id=\"solution-10\"><button class=\"gtn-boxify-button solution\" type=\"button\" aria-controls=\"solution-10\" aria-expanded=\"true\"><i class=\"far fa-eye\" aria-hidden=\"true\" ></i> Solution<span class=\"fold-unfold fa fa-minus-square\"></span></button></div>\n<ol>\n<li>10 and 38.</li>\n<li>The 2020 Summer Olympics had the most different sports (38)</li>\n</ol>\n</details>\n</blockquote>\n<p>Save the output as something descriptive.</p>\n<h2 id=\"exercises\">Exercises</h2>\n<p>Ok, let’s practice!</p>\n<blockquote class=\"question\" style=\"border: 2px solid #8A9AD0; margin: 1em 0.2em\">\n<div class=\"box-title question-title\" id=\"question-exercise-number-of-participations-per-country\"><i class=\"far fa-question-circle\" aria-hidden=\"true\"></i> Exercise: Number of participations per country</div>\n<ol>\n<li>Which country has had the most participations in the Olympics?</li>\n<li>How many countries participated in the first Olympics? How many in the last?</li>\n</ol>\n<br/><details style=\"border: 2px solid #B8C3EA; margin: 1em 0.2em;padding: 0.5em; cursor: pointer;\"><summary>👁 View solution</summary>\n<div class=\"box-title solution-title\" id=\"solution-hints-3\"></div>\n<ol>\n<li>Since we are counting instances of a key, we can use <code style=\"color: inherit\">group by team</code> and then loop over that to print out the length, and the team name of each of those items.</li>\n<li>This is basically the same question as “how many women” participated, try modifying that query.</li>\n</ol>\n</blockquote>\n<br/><details style=\"border: 2px solid #B8C3EA; margin: 1em 0.2em;padding: 0.5em; cursor: pointer;\"><summary>👁 View solution</summary>\n<div class=\"box-title solution-title\" id=\"solution-answers-3\"></div>\n<ol>\n<li>The United States with 17,286 participations (<code class=\"language-plaintext highlighter-rouge\">select team, count(team) as count from olympics group by team order by count desc;</code>)</li>\n<li>15 and 250. (<code class=\"language-plaintext highlighter-rouge\">select games, count(distinct team) as teams from olympics group by games;</code>)</li>\n</ol>\n</blockquote>\n</blockquote>\n<h1 id=\"grouping\">Grouping</h1>\n<p>Often we may want to group rows based on a value in a column, and perform some operation on the resulting rows. For example we would like to group the olympics data by one value (e.g. year, country, sport), and determine some value for each group (e.g. number of medals won, average age of athletes, etc).</p>\n<p>In the <a href=\"#counting\">counting</a> section of this tutorial we show how to get answers that require a count (e.g. number of medals won), but sometimes we want to do something more complex, like calculating the average height of athletes in a group, say per country or per sport. This section will show some example of these types of questions.</p>\n<p>We can use continue to use group by for this, but now we’ll need the max and min aggregate operations. Essentially every time we use <code style=\"color: inherit\">group by</code> we need to use an aggregation like finding the maximum, minimum, or counting the number of results.</p>\n<blockquote class=\"hands_on\" style=\"border: 2px solid #dfe5f9; margin: 1em 0.2em\">\n<div class=\"box-title hands-on-title\" id=\"hands-on-tallest-athlete-per-sport\"><i class=\"fas fa-pencil-alt\" aria-hidden=\"true\" ></i> Hands-on: Tallest athlete per sport</div>\n<p>We would like to answer the following question: <em>How tall was the tallest athlete of each sport?</em></p>\n<blockquote class=\"question\" style=\"border: 2px solid #8A9AD0; margin: 1em 0.2em\">\n<div class=\"box-title question-title\" id=\"question-11\"><i class=\"far fa-question-circle\" aria-hidden=\"true\" ></i> Question</div>\n<ol>\n<li>How tall was the tallest athlete in basketball? And what about karate?</li>\n<li>Why do some sports have null values?</li>\n</ol>\n<br/><details style=\"border: 2px solid #B8C3EA; margin: 1em 0.2em;padding: 0.5em; cursor: pointer;\"><summary>👁 View solution</summary>\n<div class=\"box-title solution-title\" id=\"solution-11\"><button class=\"gtn-boxify-button solution\" type=\"button\" aria-controls=\"solution-11\" aria-expanded=\"true\"><i class=\"far fa-eye\" aria-hidden=\"true\" ></i> Solution<span class=\"fold-unfold fa fa-minus-square\"></span></button></div>\n<div class=\"language-plaintext highlighter-rouge\"><div><pre style=\"color: inherit; background: transparent\"><code style=\"color: inherit\">select max(height), min(height),sport from olympics group by sport\n</code></pre></div>      </div>\n<ol>\n<li>Basketball’s tallest athlete was 192cm. For Karate it is 163.</li>\n<li>Our dataset had quite a number of <code style=\"color: inherit\">null</code> (unknown) values in the height column, especially for the earlier Olympics. These are preserved in the outputs.</li>\n</ol>\n</blockquote>\n</blockquote>\n</blockquote>\n<h2 id=\"grouping-on-multiple-columns\">Grouping on multiple columns</h2>\n<p>You may have noticed that we could also provide multiple columns to group on. If we do this, we can compute values for combinations of groups, such as sex and sport, to find e.g. the tallest woman in basketball or the shortest man per Olympics. There are also many more options for the computation we perform, so perhaps we are more interested not in the tallest athlete, but the average height. Let’s perform some of these slightly more advanced queries now.</p>\n<blockquote class=\"hands_on\" style=\"border: 2px solid #dfe5f9; margin: 1em 0.2em\">\n<div class=\"box-title hands-on-title\" id=\"hands-on-average-height-of-men-and-women-per-sport\"><i class=\"fas fa-pencil-alt\" aria-hidden=\"true\" ></i> Hands-on: Average height of men and women per sport</div>\n<p>The question we would like to answer here, is what is the average height for men and women per sport?</p>\n<div class=\"language-plaintext highlighter-rouge\"><div><pre style=\"color: inherit; background: transparent\"><code style=\"color: inherit\">select avg(height), sex, sport from olympics group by sex, sport;\n</code></pre></div>  </div>\n<p>See if you can answer the following questions based on the output file.</p>\n<blockquote class=\"question\" style=\"border: 2px solid #8A9AD0; margin: 1em 0.2em\">\n<div class=\"box-title question-title\" id=\"question-12\"><i class=\"far fa-question-circle\" aria-hidden=\"true\" ></i> Question</div>\n<ol>\n<li>What is the average height of women participating in archery?</li>\n<li>What is the average height of men participating in <a href=\"https://en.wikipedia.org/wiki/Ballooning_at_the_1900_Summer_Olympics\">ballooning</a>?</li>\n<li>Why do some values have <code style=\"color: inherit\">null</code> instead of a height?</li>\n<li>Why do some sports not have a value for one of the sexes?</li>\n<li>Can you find a sport where women were taller than the men? (Hint: it starts with the letter A)</li>\n</ol>\n<br/><details style=\"border: 2px solid #B8C3EA; margin: 1em 0.2em;padding: 0.5em; cursor: pointer;\"><summary>👁 View solution</summary>\n<div class=\"box-title solution-title\" id=\"solution-12\"><button class=\"gtn-boxify-button solution\" type=\"button\" aria-controls=\"solution-12\" aria-expanded=\"true\"><i class=\"far fa-eye\" aria-hidden=\"true\" ></i> Solution<span class=\"fold-unfold fa fa-minus-square\"></span></button></div>\n<ol>\n<li>167.25677031093 cm</li>\n<li>170 cm</li>\n<li>If none of the rows in the group had height data available, it will output <code style=\"color: inherit\">nan</code> (not a number) instead. This is most common for sports that were only featured a few times in the early years of the Olympics.</li>\n<li>Sports such as artistic swimming only exist for women, so no M appears in the data for that group, so there simply is no row for the mean height of men doing artistic swimming in our output.</li>\n<li><a href=\"https://en.wikipedia.org/wiki/Art_competitions_at_the_Summer_Olympics\">Art Competitions</a></li>\n</ol>\n<p>If all went well, your output file should look something like:</p>\n<div class=\"language-plaintext highlighter-rouge\"><div><pre style=\"color: inherit; background: transparent\"><code style=\"color: inherit\">GroupBy(sport)\t     GroupBy(sex)  mean(height)\nAeronautics         M             nan\nAlpine Skiing       F             167.38324708926\nAlpine Skiing       M             178.18747142204\nAlpinism            M             nan\nArchery             F             167.25677031093\nArchery             M             178.5865470852\nArt Competitions    F             175.33333333333\nArt Competitions    M             173.97260273973\nArtistic Gymnastics F             156.15316901408\n</code></pre></div>      </div>\n</blockquote>\n</blockquote>\n</blockquote>\n<h2 id=\"exercises-1\">Exercises</h2>\n<blockquote class=\"question\" style=\"border: 2px solid #8A9AD0; margin: 1em 0.2em\">\n<div class=\"box-title question-title\" id=\"question-exercise-grouping-and-computing\"><i class=\"far fa-question-circle\" aria-hidden=\"true\"></i> Exercise: Grouping and computing</div>\n<ol>\n<li>How tall is the shortest woman Badminton player to win a gold medal?</li>\n<li>What is the average height of athletes from team Denmark in the 1964 Olympics? (Note: 1964 has summer and winter olympics)</li>\n</ol>\n<br/><details style=\"border: 2px solid #B8C3EA; margin: 1em 0.2em;padding: 0.5em; cursor: pointer;\"><summary>👁 View solution</summary>\n<div class=\"box-title solution-title\" id=\"solution-hints-4\"></div>\n<ol>\n<li>We need to group on 3 columns: medal, sport and sex, and then select the <code style=\"color: inherit\">min</code>.</li>\n<li>We need to group on 2 columns: country (team) and year, then compute the average over height.</li>\n</ol>\n</blockquote>\n<br/><details style=\"border: 2px solid #B8C3EA; margin: 1em 0.2em;padding: 0.5em; cursor: pointer;\"><summary>👁 View solution</summary>\n<div class=\"box-title solution-title\" id=\"solution-answers-4\"></div>\n<ol>\n<li>161 cm.</li>\n<li>mean height: 175.91304347826, standard deviation: 7.0335410308672`</li>\n</ol>\n</blockquote>\n<br/><details style=\"border: 2px solid #B8C3EA; margin: 1em 0.2em;padding: 0.5em; cursor: pointer;\"><summary>👁 View solution</summary>\n<div class=\"box-title solution-title\" id=\"solution-full-solutions-1\"></div>\n<div class=\"language-plaintext highlighter-rouge\"><div><pre style=\"color: inherit; background: transparent\"><code style=\"color: inherit\">select min(height), medal, sport, sex from olympics group by medal, sport, sex;\nselect avg(height), team, games from olympics where team = \"Denmark\" group by team, games;\n</code></pre></div>    </div>\n</blockquote>\n</blockquote>\n<h1 id=\"computing\">Computing</h1>\n<p>Sometimes we want to use the data in our column to compute a new value, and add that to the table. For instance, for our dataset we could caluclate athtletes BMI (using height and weight columns), or their age at time of participation (from year of birth and year of the Olymics). By adding these computed values as a new colum to our datset, we can more easily query the dataset for these values. We can do these types of operations on the fly, and then if we like, store them as (temporary) tables.</p>\n<p>As an example, let’s calculate the age of each athlete at the time of participation, and add this as a new column to our dataset.</p>\n",
      "cell_type": "markdown",
      "metadata": {
        "editable": false,
        "collapsed": false
      }
    },
    {
      "id": "cell-33",
      "source": [
        "%%sql\n",
        "select year - birth_year as age, games from olympics LIMIT 30;"
      ],
      "cell_type": "code",
      "execution_count": null,
      "outputs": [

      ],
      "metadata": {
        "attributes": {
          "classes": [
            "Make sure each section is independent of each other, i.e. each section should start with the olympics.tsv file."
          ],
          "id": ""
        }
      }
    },
    {
      "id": "cell-34",
      "source": "<p>If we want to save that result to make it easier to query, then we have a couple options.</p>\n<ol>\n<li>\n<p>Don’t store it, calculate on demand. Very storage efficient.</p>\n<div class=\"language-plaintext highlighter-rouge\"><div><pre style=\"color: inherit; background: transparent\"><code style=\"color: inherit\">select noc, name, ..., year - birth_year as age from olympics\n</code></pre></div>    </div>\n</li>\n<li>\n<p>Create a temporary table with this data, great if we only need it temporarily</p>\n<div class=\"language-plaintext highlighter-rouge\"><div><pre style=\"color: inherit; background: transparent\"><code style=\"color: inherit\">create temporary table olympics_ages as select *, year - birth_year as age from olympics\n</code></pre></div>    </div>\n</li>\n<li>\n<p>Create a new permanent table with this data</p>\n<div class=\"language-plaintext highlighter-rouge\"><div><pre style=\"color: inherit; background: transparent\"><code style=\"color: inherit\">create table olympics_ages as select *, year - birth_year as age from olympics\n</code></pre></div>    </div>\n</li>\n<li>\n<p>Update the existing table by adding it as a new column</p>\n<div class=\"language-plaintext highlighter-rouge\"><div><pre style=\"color: inherit; background: transparent\"><code style=\"color: inherit\">alter table olympics add column age int;\nupdate olympics set age = year - birth_year;\n</code></pre></div>    </div>\n</li>\n</ol>\n<blockquote class=\"question\" style=\"border: 2px solid #8A9AD0; margin: 1em 0.2em\">\n<div class=\"box-title question-title\" id=\"question-13\"><i class=\"far fa-question-circle\" aria-hidden=\"true\" ></i> Question</div>\n<ol>\n<li>How old was Arnaud Boetsch during his Olympic tennis participation?</li>\n</ol>\n<br/><details style=\"border: 2px solid #B8C3EA; margin: 1em 0.2em;padding: 0.5em; cursor: pointer;\"><summary>👁 View solution</summary>\n<div class=\"box-title solution-title\" id=\"solution-13\"><button class=\"gtn-boxify-button solution\" type=\"button\" aria-controls=\"solution-13\" aria-expanded=\"true\"><i class=\"far fa-eye\" aria-hidden=\"true\" ></i> Solution<span class=\"fold-unfold fa fa-minus-square\"></span></button></div>\n<ol>\n<li>Arnaud Boetsch is listed on the first two lines, who turned 27 the year of their Olympics.</li>\n</ol>\n</details>\n</blockquote>\n<p>This was a simple computation, but much more complex mathematical expressions can be computed with this tool. In the exercise below, we will compute the BMI for each athlete as an example.</p>\n<h2 id=\"exercises\">Exercises</h2>\n<p>BMI stands for Body Mass Index, is a metric to provide a very crude measure of how healthy your weight is. The formula to compute BMI is:</p>\n\n\\[BMI = weight / (height^2)\\]\n<p>(with weight in kilograms and height in meters).</p>\n<blockquote class=\"tip\" style=\"border: 2px solid #FFE19E; margin: 1em 0.2em\">\n<div class=\"box-title tip-title\" id=\"tip-bmi-is-problematic\"><button class=\"gtn-boxify-button tip\" type=\"button\" aria-controls=\"tip-bmi-is-problematic\" aria-expanded=\"true\"><i class=\"far fa-lightbulb\" aria-hidden=\"true\" ></i> Tip: BMI is problematic<span class=\"fold-unfold fa fa-minus-square\"></span></button></div>\n<p><a href=\"https://en.wikipedia.org/wiki/Adolphe_Quetelet\">Adolphe Quetelet</a>, who invented <a href=\"https://en.wikipedia.org/wiki/Body_mass_index\">BMI</a>, was not a doctor of medicine, instead he was a Belgian astronomer, mathematician, statistician, and sociologist. His data consisted probably entirely of cisgender, white, european men and women {% cite Eknoyan_2007 %}.\nIn his defense, he did argue it should not be used at individual levels, however it came to be used as such due to simplicity. (See <a href=\"https://en.wikipedia.org/wiki/Body_mass_index#History\">Wikipedia’s History section</a>). BMI is a poor measure of health, especially for populations with high muscle content, and cannot be simply re-used as-is with anyone other than Anglo Saxons {% cite Caleyachetty_2021 %}, <a href=\"https://en.wikipedia.org/wiki/Body_mass_index#Limitations\">Wikipedia:Limitations</a>.</p>\n<p>However as it is an easy to calculate metric, we include the calculation here.</p>\n</blockquote>\n<p>Let’s compute this data for all athletes and add it as a new column!</p>\n<blockquote class=\"question\" style=\"border: 2px solid #8A9AD0; margin: 1em 0.2em\">\n<div class=\"box-title question-title\" id=\"question-exercise-calculating-bmi\"><i class=\"far fa-question-circle\" aria-hidden=\"true\"></i> Exercise: Calculating BMI</div>\n<ol>\n<li>How would you express this calculation in SQL?\n<ul>\n<li>Remember that our height is in cm, and the formula expects height in meters</li>\n<li>And that we have null values, but we can ignore those as they will make the final calculation null as well</li>\n</ul>\n</li>\n<li>What is the BMI for Arnaud Boetsch?</li>\n</ol>\n<br/><details style=\"border: 2px solid #B8C3EA; margin: 1em 0.2em;padding: 0.5em; cursor: pointer;\"><summary>👁 View solution</summary>\n<div class=\"box-title solution-title\" id=\"solution-hints-5\"></div>\n<ul>\n<li>division is <code style=\"color: inherit\">/</code> and multiplication is <code style=\"color: inherit\"> * </code> .</li>\n<li>Generally we cannot use <code style=\"color: inherit\">^</code></li>\n<li>Parentheses may be required.</li>\n<li>use <code style=\"color: inherit\">select(.value != null)</code> to remove nulls.</li>\n<li>If that isn’t eough, you can check that the type is a number with <code style=\"color: inherit\">(.value|type) == \"number\"</code> to ensure it really is a number and not e.g. a string.</li>\n<li>remember to wrap everything in <code style=\"color: inherit\">[...]</code> to retain the data shape</li>\n</ul>\n</blockquote>\n<br/><details style=\"border: 2px solid #B8C3EA; margin: 1em 0.2em;padding: 0.5em; cursor: pointer;\"><summary>👁 View solution</summary>\n<div class=\"box-title solution-title\" id=\"solution-answers-5\"></div>\n<ol>\n<li>\n<p>other variations are possible:</p>\n<div class=\"language-plaintext highlighter-rouge\"><div><pre style=\"color: inherit; background: transparent\"><code style=\"color: inherit\">create temporary table olympics_bmi as select *, weight / (height / 100 * height / 100) as bmi from olympics;\n</code></pre></div>        </div>\n</li>\n<li>\n<p>22.69</p>\n<div class=\"language-plaintext highlighter-rouge\"><div><pre style=\"color: inherit; background: transparent\"><code style=\"color: inherit\">select * from olympics_bmi where name like 'Arnaud Boetsch';\n</code></pre></div>        </div>\n</li>\n</ol>\n</blockquote>\n</blockquote>\n<h1 id=\"find-and-replace\">Find and Replace</h1>\n<p>Often you may need to change the contents of a file a bit to fit the expectations of an analysis tool. For instance, our database uses <code style=\"color: inherit\">null</code> for missing values, but other conventions included leaving the cell empty instead. Or, when working with chromosomal data, you may need to add or remove the <code style=\"color: inherit\">chr</code> prefix from a column before using it as input to a certain tool. In such situations, we can find all occurrences of a certain pattern in our file, and replace it with another value.</p>\n<p>If we want to perform such a replacement on a single column in our data, we can use an update statement.</p>\n<p>A few of the basics of regular expression, plus some links to further resources are given in the box below:</p>\n<p>Let’s start with a simple example:\nOur file uses a mix of <code style=\"color: inherit\">Athina</code> and <code style=\"color: inherit\">Athens</code> to indicate the Capital City of Greece in the <code style=\"color: inherit\">city</code> column.\nLet’s standardize this by replacing occurrences of <code style=\"color: inherit\">Athina</code> with <code style=\"color: inherit\">Athens</code>.</p>\n<p>Let’s start by filtering out the old spelling:</p>\n",
      "cell_type": "markdown",
      "metadata": {
        "editable": false,
        "collapsed": false
      }
    },
    {
      "id": "cell-35",
      "source": [
        "%%sql\n",
        "select * from olympics where city = 'Athina' limit 30;"
      ],
      "cell_type": "code",
      "execution_count": null,
      "outputs": [

      ],
      "metadata": {
        "attributes": {
          "classes": [
            "Make sure each section is independent of each other, i.e. each section should start with the olympics.tsv file."
          ],
          "id": ""
        }
      }
    },
    {
      "id": "cell-36",
      "source": "<p>Let’s try replacing it:</p>\n",
      "cell_type": "markdown",
      "metadata": {
        "editable": false,
        "collapsed": false
      }
    },
    {
      "id": "cell-37",
      "source": [
        "%%sql\n",
        "update olympics\n",
        "set city = 'Athens'\n",
        "where city = 'Athina';"
      ],
      "cell_type": "code",
      "execution_count": null,
      "outputs": [

      ],
      "metadata": {
        "attributes": {
          "classes": [
            "Make sure each section is independent of each other, i.e. each section should start with the olympics.tsv file."
          ],
          "id": ""
        }
      }
    },
    {
      "id": "cell-38",
      "source": "<p>Look at the file before and after. Athlete 7 (Patrick Chila) near the top of the <code style=\"color: inherit\">olympics.tsv</code> file, had a value of Athina in the city column. Verify that it has been changed to Athens.</p>\n<p>This was rather simple example, so let’s try a few more examples with slightly more complex expressions.</p>\n<h2 id=\"exercises\">Exercises</h2>\n<p>You may have noticed that our file has a lot of missing data. Especially for the earlier years, things like height, weight and birthday of athletes was not registered, or simply not known. In some columns you see these missing values have been replaced with an <code style=\"color: inherit\">NA</code> (not available) value. In other columns (for example birth place), the cells have simply been left empty.</p>\n<p>Different tools may expect different ways of handling missing data. So you may have to change your missing data from empty to <code style=\"color: inherit\">NA</code>, <code style=\"color: inherit\">NaN</code>, or something else, between analysis steps</p>\n<blockquote class=\"hands_on\" style=\"border: 2px solid #dfe5f9; margin: 1em 0.2em\">\n<div class=\"box-title hands-on-title\" id=\"hands-on-fill-empty-cells\"><i class=\"fas fa-pencil-alt\" aria-hidden=\"true\" ></i> Hands-on: Fill empty cells</div>\n<p>We will now replace empty cells in the <code style=\"color: inherit\">birth_place</code> column, to use <code style=\"color: inherit\">null</code> instead.</p>\n<br/><details style=\"border: 2px solid #B8C3EA; margin: 1em 0.2em;padding: 0.5em; cursor: pointer;\"><summary>👁 View solution</summary>\n<div class=\"box-title solution-title\" id=\"solution-hints-6\"></div>\n<p>Remember that comparison to nulls is done with <code style=\"color: inherit\">is</code> instead of <code style=\"color: inherit\">=</code></p>\n</details>\n<br/><details style=\"border: 2px solid #B8C3EA; margin: 1em 0.2em;padding: 0.5em; cursor: pointer;\"><summary>👁 View solution</summary>\n<div class=\"box-title solution-title\" id=\"solution-answers-6\"></div>\n<p>other variations are possible:</p>\n<div class=\"language-plaintext highlighter-rouge\"><div><pre style=\"color: inherit; background: transparent\"><code style=\"color: inherit\">update olympics set birth_place = null where birth_place = '';\n</code></pre></div>    </div>\n</blockquote>\n</blockquote>\n<p>Let’s do another example, this one splitting and re-constructing strings.</p>\n<p>Look at the <code style=\"color: inherit\">birth_day</code> column. It has values in a format like <code style=\"color: inherit\">12 December</code>. Suppose we have a tool that expects this data to be in the reverse format, <code style=\"color: inherit\">December 12</code>. We would not want to do this manually, but with sql we can make this replacement easily</p>\n<p>We will now change the format in birthday column from <code style=\"color: inherit\">day month</code> to <code style=\"color: inherit\">month day</code>, as our boss is American and requested the silly format.</p>\n<p>First we need to understand that sqlite does not ship a regex engine, thus we cannot use familiar regular expressions. Instead we can make use of <code style=\"color: inherit\">instr(string, search)</code> to find the location of a substring like <code style=\"color: inherit\"> </code>, identifying where the day stops and the month starts. Then we can use <code style=\"color: inherit\">substr(string, start)</code> and <code style=\"color: inherit\">substr(string, start, end)</code> to chop up our date string.</p>\n<p>In SQL, concatenation is done with <code style=\"color: inherit\">||</code>.</p>\n<blockquote class=\"question\" style=\"border: 2px solid #8A9AD0; margin: 1em 0.2em\">\n<div class=\"box-title question-title\" id=\"question-14\"><i class=\"far fa-question-circle\" aria-hidden=\"true\" ></i> Question</div>\n<ol>\n<li>How do we captures both the day and the month?</li>\n</ol>\n<br/><details style=\"border: 2px solid #B8C3EA; margin: 1em 0.2em;padding: 0.5em; cursor: pointer;\"><summary>👁 View solution</summary>\n<div class=\"box-title solution-title\" id=\"solution-hints-7\"></div>\n<ol>\n<li>We should use something like <code style=\"color: inherit\">substr(birth_day, instr(birth_day, ' '))</code></li>\n</ol>\n</blockquote>\n<br/><details style=\"border: 2px solid #B8C3EA; margin: 1em 0.2em;padding: 0.5em; cursor: pointer;\"><summary>👁 View solution</summary>\n<div class=\"box-title solution-title\" id=\"solution-answers-7\"></div>\n<div class=\"language-plaintext highlighter-rouge\"><div><pre style=\"color: inherit; background: transparent\"><code style=\"color: inherit\">select\n  birth_day,\n  instr(birth_day, ' ') as idx,\n  substr(birth_day, instr(birth_day, ' ')) as month,\n  substr(birth_day, 0, instr(birth_day, ' ')) as day\nfrom olympics\nlimit 10\n</code></pre></div>    </div>\n<p>We can make our final query:</p>\n<div class=\"language-plaintext highlighter-rouge\"><div><pre style=\"color: inherit; background: transparent\"><code style=\"color: inherit\">select\n  substr(birth_day, instr(birth_day, ' ')) || substr(birth_day, 0, instr(birth_day, ' ')) as birth_day_new\nfrom olympics\nlimit 10\n</code></pre></div>    </div>\n<p>And then store this as a new column (using <code style=\"color: inherit\">update</code>) or as a new table (using <code style=\"color: inherit\">create [temporary] table</code>)</p>\n</blockquote>\n</blockquote>\n<h1 id=\"removing-columns\">Removing Columns</h1>\n<p>In sqlite you cannot remove columns, it is not supported. Proper databases like Postgres and MySQL support this operation.\nInstead for sqlite you could select the columns you want to keep, create a new table from that, and then delete the original table.</p>\n<p>Other databases:</p>\n<div class=\"language-plaintext highlighter-rouge\"><div><pre style=\"color: inherit; background: transparent\"><code style=\"color: inherit\">alter table delete column NAME from olympics\n</code></pre></div></div>\n<h1 id=\"unique\">Unique</h1>\n<p>Sometimes, in the course of our data manipulations, we may end up with a file that has duplicate values. In order to filter these out, we can use the <code style=\"color: inherit\">distinct</code> filter.</p>\n<p>Let’s say we would like to create a list of all unique athletes (id and name).</p>\n<p>First we will just select the <code style=\"color: inherit\">athlete_id</code> and <code style=\"color: inherit\">name</code> columns from our dataset</p>\n",
      "cell_type": "markdown",
      "metadata": {
        "editable": false,
        "collapsed": false
      }
    },
    {
      "id": "cell-39",
      "source": [
        "%%sql\n",
        "select name, athlete_id from olympics LIMIT 30"
      ],
      "cell_type": "code",
      "execution_count": null,
      "outputs": [

      ],
      "metadata": {
        "attributes": {
          "classes": [
            "Make sure each section is independent of each other, i.e. each section should start with the olympics.tsv file."
          ],
          "id": ""
        }
      }
    },
    {
      "id": "cell-40",
      "source": "<blockquote class=\"question\" style=\"border: 2px solid #8A9AD0; margin: 1em 0.2em\">\n<div class=\"box-title question-title\" id=\"question-15\"><i class=\"far fa-question-circle\" aria-hidden=\"true\" ></i> Question</div>\n<ol>\n<li>Do you see duplication? Why is that?</li>\n</ol>\n<br/><details style=\"border: 2px solid #B8C3EA; margin: 1em 0.2em;padding: 0.5em; cursor: pointer;\"><summary>👁 View solution</summary>\n<div class=\"box-title solution-title\" id=\"solution-14\"><button class=\"gtn-boxify-button solution\" type=\"button\" aria-controls=\"solution-14\" aria-expanded=\"true\"><i class=\"far fa-eye\" aria-hidden=\"true\" ></i> Solution<span class=\"fold-unfold fa fa-minus-square\"></span></button></div>\n<ol>\n<li>Yes. For all athletes who participated more than once, the row will be identical.</li>\n</ol>\n</details>\n</blockquote>\n<p>Now let’s remove those duplicates.</p>\n",
      "cell_type": "markdown",
      "metadata": {
        "editable": false,
        "collapsed": false
      }
    },
    {
      "id": "cell-41",
      "source": [
        "%%sql\n",
        "select distinct name, athlete_id from olympics limit 30"
      ],
      "cell_type": "code",
      "execution_count": null,
      "outputs": [

      ],
      "metadata": {
        "attributes": {
          "classes": [
            "Make sure each section is independent of each other, i.e. each section should start with the olympics.tsv file."
          ],
          "id": ""
        }
      }
    },
    {
      "id": "cell-42",
      "source": "<blockquote class=\"question\" style=\"border: 2px solid #8A9AD0; margin: 1em 0.2em\">\n<div class=\"box-title question-title\" id=\"question-16\"><i class=\"far fa-question-circle\" aria-hidden=\"true\" ></i> Question</div>\n<p>How many unique athletes do we have? Note that you cannot count multiple columns, so choose one that is correct.</p>\n<br/><details style=\"border: 2px solid #B8C3EA; margin: 1em 0.2em;padding: 0.5em; cursor: pointer;\"><summary>👁 View solution</summary>\n<div class=\"box-title solution-title\" id=\"solution-15\"><button class=\"gtn-boxify-button solution\" type=\"button\" aria-controls=\"solution-15\" aria-expanded=\"true\"><i class=\"far fa-eye\" aria-hidden=\"true\" ></i> Solution<span class=\"fold-unfold fa fa-minus-square\"></span></button></div>\n<p>94,733</p>\n<div class=\"language-plaintext highlighter-rouge\"><div><pre style=\"color: inherit; background: transparent\"><code style=\"color: inherit\">select count(distinct athlete_id) from olympics;\n</code></pre></div>    </div>\n</details>\n</blockquote>\n<h1 id=\"joining-datasets\">Joining Datasets</h1>\n<p>This database contains a lot of information, but we may want to add more information. For example if we had a file with information about each country (population, capital city, etc), we could join that information with our Olympics data, to get a single result with all information in every row.</p>\n<p>For example, if we would like to be able to group by continent, to e.g. count athletes, medals etc per continent, we will have to add a <code style=\"color: inherit\">continent</code> column to our file. To do this we would need a second file that maps each country to the corresponding continent. This is what we will do in the next hands-on section.</p>\n<p>We obtained country information data from <a href=\"https://datahub.io/core/country-codes\">DataHub</a>. More information about this file can be found in the description there. It has 56 columns with a wide variety of data about each country (from country codes, to capital city, languages spoken, etc)</p>\n<p>It is available in the countries table.</p>\n<blockquote class=\"question\" style=\"border: 2px solid #8A9AD0; margin: 1em 0.2em\">\n<div class=\"box-title question-title\" id=\"question-17\"><i class=\"far fa-question-circle\" aria-hidden=\"true\" ></i> Question</div>\n<ol>\n<li>Which keys(s) in this file are the same as in the <code style=\"color: inherit\">olympics.tsv</code> file?</li>\n</ol>\n<br/><details style=\"border: 2px solid #B8C3EA; margin: 1em 0.2em;padding: 0.5em; cursor: pointer;\"><summary>👁 View solution</summary>\n<div class=\"box-title solution-title\" id=\"solution-16\"><button class=\"gtn-boxify-button solution\" type=\"button\" aria-controls=\"solution-16\" aria-expanded=\"true\"><i class=\"far fa-eye\" aria-hidden=\"true\" ></i> Solution<span class=\"fold-unfold fa fa-minus-square\"></span></button></div>\n<ol>\n<li>Both files have a <code style=\"color: inherit\">NOC</code> column with the 3-letter country code (<code style=\"color: inherit\">NOC</code> stands for National Olympic Committee). However, one is lowercase.</li>\n</ol>\n</blockquote>\n</blockquote>\n<p>We would now like to take our Olympics dataset as the basis, and add columns to every row of this file with some information about the country. In order to join, we will need to have one column that is shared between the two files, on which we can match. The <code style=\"color: inherit\">NOC</code> column is perfect for this because it is a defined standard. Both files also contain a column with the country name in it, which is also a possible candidate to use for joining, but because it is less standardised, it is safer to use the NOC column. For example, if one file uses “Netherlands”, while the other uses “The Netherlands” to indicate the same country, the joining will fail for these rows. So always make sure the columns you join on are compatible!</p>\n<p>We can use the join commands.</p>\n",
      "cell_type": "markdown",
      "metadata": {
        "editable": false,
        "collapsed": false
      }
    },
    {
      "id": "cell-43",
      "source": [
        "%%sql\n",
        "select * from olympics left join countries on olympics.noc = countries.NOC LIMIT 30"
      ],
      "cell_type": "code",
      "execution_count": null,
      "outputs": [

      ],
      "metadata": {
        "attributes": {
          "classes": [
            "Make sure each section is independent of each other, i.e. each section should start with the olympics.tsv file."
          ],
          "id": ""
        }
      }
    },
    {
      "id": "cell-44",
      "source": "<blockquote class=\"question\" style=\"border: 2px solid #8A9AD0; margin: 1em 0.2em\">\n<div class=\"box-title question-title\" id=\"question-18\"><i class=\"far fa-question-circle\" aria-hidden=\"true\" ></i> Question</div>\n<ol>\n<li>What do you expect the output to look like? Were you right?</li>\n<li>How many columns are in the resulting file? What about the NOC column?</li>\n<li>What is a possible downside to this approach?</li>\n</ol>\n<br/><details style=\"border: 2px solid #B8C3EA; margin: 1em 0.2em;padding: 0.5em; cursor: pointer;\"><summary>👁 View solution</summary>\n<div class=\"box-title solution-title\" id=\"solution-17\"><button class=\"gtn-boxify-button solution\" type=\"button\" aria-controls=\"solution-17\" aria-expanded=\"true\"><i class=\"far fa-eye\" aria-hidden=\"true\" ></i> Solution<span class=\"fold-unfold fa fa-minus-square\"></span></button></div>\n<ol>\n<li>All the columns from the country information file are added to the end of each row of our olympics dataset</li>\n<li>Our olympics datset had 17 columns, the country information file has 56 columns. Therefore we have 17+56=73 columns columns in our resulting file. This also means the NOC column\nwe joined on appears twice in our output.</li>\n<li>There is a lot of data duplication in the output now. The exact same country information is added to every line of every athlete from a certain country.\nThis means much larger response size.\nIf you do not need all these columns, it could save you a lot of space to select only specific columns that you require.</li>\n</ol>\n</details>\n</blockquote>\n<h1 id=\"concatenating\">Concatenating</h1>\n<p>Concatenation of two files simple means putting the contents of the two files together, one after the other. Our dataset was created in 2021, but since then we’ve had another Olympic event, the 2022 Winter Olympics in Beijing. If we have the same data for this latest Olympics, we could simply add the rows from the 2022 games to our current file with data, in order to create a single file with all data from 1896 to 2022.</p>\n<p>View the table <code style=\"color: inherit\">olympics_2022</code>, does it have the same structure as our original <code style=\"color: inherit\">olympics</code> table?</p>\n<blockquote class=\"question\" style=\"border: 2px solid #8A9AD0; margin: 1em 0.2em\">\n<div class=\"box-title question-title\" id=\"question-19\"><i class=\"far fa-question-circle\" aria-hidden=\"true\" ></i> Question</div>\n<ol>\n<li>Does the new table have the same structure?</li>\n<li>Can we simply add the lines of the new table to the end of our existing olympics dataset?</li>\n</ol>\n<br/><details style=\"border: 2px solid #B8C3EA; margin: 1em 0.2em;padding: 0.5em; cursor: pointer;\"><summary>👁 View solution</summary>\n<div class=\"box-title solution-title\" id=\"solution-18\"><button class=\"gtn-boxify-button solution\" type=\"button\" aria-controls=\"solution-18\" aria-expanded=\"true\"><i class=\"far fa-eye\" aria-hidden=\"true\" ></i> Solution<span class=\"fold-unfold fa fa-minus-square\"></span></button></div>\n<ol>\n<li>Yes, this file has all the same columns, in the same order, so concatenation should be relatively straightforward.</li>\n<li>Yes.</li>\n</ol>\n</blockquote>\n</blockquote>\n<p>Since this new dataset has the exact same structure (number and order of columns), we can simple add the lines from this file to the end of our existing <code style=\"color: inherit\">olympic</code> table.\nFor this, we’ll need to use the <code style=\"color: inherit\">union all</code> which takes two separate sql queries and unifies the results.</p>\n",
      "cell_type": "markdown",
      "metadata": {
        "editable": false,
        "collapsed": false
      }
    },
    {
      "id": "cell-45",
      "source": [
        "%%sql\n",
        "select * from olympics\n",
        "union all\n",
        "select * from olympics_2022\n",
        "LIMIT 30;"
      ],
      "cell_type": "code",
      "execution_count": null,
      "outputs": [

      ],
      "metadata": {
        "attributes": {
          "classes": [
            "Make sure each section is independent of each other, i.e. each section should start with the olympics.tsv file."
          ],
          "id": ""
        }
      }
    },
    {
      "id": "cell-46",
      "source": "<p>(Note: We are limiting the outputs to ensure your browser does not crash loading all of the data.)</p>\n<p>Now this only works so simply because our two datasets had the same structure. If your data comes from different sources, you may have to do some additional data manipulation before you can union, e.g. to make sure the columns match, or how each file deals with missing data (empty cells, <code style=\"color: inherit\">NA</code>, <code style=\"color: inherit\">NaN</code> or something else).</p>\n<h1 id=\"conclusion\">Conclusion</h1>\n<p>These operations covered in the tutorial are just a few examples of some of the most common operations. There are many more available. We encourage you to look around the documentation of sqlite or your database. The more comfortable you are performing these kinds of steps, the more you can get out of SQL!</p>\n<h1 id=\"exercises-putting-it-all-together\">Exercises: Putting it all together!</h1>\n<p>This section provides a number of exercises that require you to combine two or more of the techniques you learned in this tutorial. This is a great way to practice your data manipulation skills. Full solutions are provided for every exercise (i.e. all tools and settings), but for many of these exercises there will be multiple solutions, so if you obtained the same results in a different way, that is correct too!</p>\n<blockquote class=\"question\" style=\"border: 2px solid #8A9AD0; margin: 1em 0.2em\">\n<div class=\"box-title question-title\" id=\"question-exercise-1-finding-shortest-lightest-athlete\"><i class=\"far fa-question-circle\" aria-hidden=\"true\"></i> Exercise 1: Finding shortest/lightest athlete</div>\n<p>If you have done exercises in the <a href=\"#sorting\">sorting</a> section, you noticed that finding the shortest athlete ever to compete was not easy,\nbecause all the rows with missing height data (<code class=\"language-plaintext highlighter-rouge\">NA</code>) in the column were sorted to the top. We need to filter out these values first, then\nperform our sort, so that our answer is on top.</p>\n<ol>\n<li>Find the shortest athlete ever to compete in the Olympics</li>\n<li>Find the shortest athlete of the Winter Olympics</li>\n<li>Find the lightest athlete of the <em>most recent</em> Summer Olympics</li>\n</ol>\n<br/><details style=\"border: 2px solid #B8C3EA; margin: 1em 0.2em;padding: 0.5em; cursor: pointer;\"><summary>👁 View solution</summary>\n<div class=\"box-title solution-title\" id=\"solution-hints-8\"></div>\n<ol>\n<li>You will need to filter out the columns with (<code class=\"language-plaintext highlighter-rouge\">NA</code>) in the height column first</li>\n<li>You will need to filter by season as well</li>\n<li>You will need to filter out missing data in the weight column, filter out Summer Olympics, then sort (by 2 columns)</li>\n</ol>\n</details>\n<br/><details style=\"border: 2px solid #B8C3EA; margin: 1em 0.2em;padding: 0.5em; cursor: pointer;\"><summary>👁 View solution</summary>\n<div class=\"box-title solution-title\" id=\"solution-answers-8\"></div>\n<ol>\n<li>Lyton Mphande and  Rosario Briones were both 127 cm tall, competing in boxing and gymnastics respectively</li>\n<li>Carolyn Krau was a 137 cm tall figure skater.</li>\n<li>Flávia Saraiva was the lightest athlete (31kg), she was a Artistic Gymnast from Brazil.</li>\n</ol>\n</blockquote>\n<br/><details style=\"border: 2px solid #B8C3EA; margin: 1em 0.2em;padding: 0.5em; cursor: pointer;\"><summary>👁 View solution</summary>\n<div class=\"box-title solution-title\" id=\"solution-full-solution\"></div>\n<ol>\n<li>\n<p>First we filter out the NA values from the height column:</p>\n<div class=\"language-plaintext highlighter-rouge\"><div><pre style=\"color: inherit; background: transparent\"><code style=\"color: inherit\">select * from olympics where height is not null\n</code></pre></div>        </div>\n<p>Then we can sort by height, in ascending order to get the shortest athletes on top:</p>\n<div class=\"language-plaintext highlighter-rouge\"><div><pre style=\"color: inherit; background: transparent\"><code style=\"color: inherit\">select * from olympics where height is not null order by height desc limit 10;\n</code></pre></div>        </div>\n</li>\n<li>\n<p>We can take the output from the first exercise, and filter for only Winter Olympics:</p>\n<div class=\"language-plaintext highlighter-rouge\"><div><pre style=\"color: inherit; background: transparent\"><code style=\"color: inherit\">select * from olympics where height is not null and season = 'Winter' order by height desc limit 10;\n</code></pre></div>        </div>\n</li>\n<li>\n<p>First we filter out the NA values from the weight column:</p>\n<div class=\"language-plaintext highlighter-rouge\"><div><pre style=\"color: inherit; background: transparent\"><code style=\"color: inherit\">select * from olympics where weight is not null and games = '2020 Summer Olympics' order by weight asc limit 10;\n</code></pre></div>        </div>\n</li>\n</ol>\n</blockquote>\n</blockquote>\n<p>Congratulations! You have now mastered the basics of data manipulation! There are a lot more data manipulation operations available that you may need. Please explore the tools for yourself, and check back with this tutorial often, we plan to add more sections and exercises over time!</p>\n",
      "cell_type": "markdown",
      "metadata": {
        "editable": false,
        "collapsed": false
      }
    },
    {
      "cell_type": "markdown",
      "id": "final-ending-cell",
      "metadata": {
        "editable": false,
        "collapsed": false
      },
      "source": [
        "# Key Points\n\n",
        "- Basic data manipulation is often needed between steps in a larger scientific analysis in order to connect outputs from one tool to input of another.\n",
        "- There are often multiple ways/tools to achieve the same end result\n",
        "- Having a basic understanding of data manipulation tools will make it easier to do exploratory data analysis\n",
        "- Always read the help text of the tool before using it to get a full understanding of its workings\n",
        "- Always try to formulate the output you are expecting from a tool. This will make it easier to spot mistakes as soon as possible.\n",
        "\n# Congratulations on successfully completing this tutorial!\n\n",
        "Please [fill out the feedback on the GTN website](https://training.galaxyproject.org/training-material/topics/data-science/tutorials/data-manipulation-olympics-sql/tutorial.html#feedback) and check there for further resources!\n"
      ]
    }
  ]
}